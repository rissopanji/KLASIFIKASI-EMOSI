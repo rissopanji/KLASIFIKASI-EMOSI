{
 "cells": [
  {
   "cell_type": "code",
   "execution_count": 25,
   "metadata": {},
   "outputs": [],
   "source": [
    "import tensorflow as tf\n",
    "import numpy as np\n",
    "import matplotlib.pyplot as plt\n",
    "import pandas as pd\n",
    "import ast\n",
    "\n",
    "from tensorflow.keras.preprocessing.text import Tokenizer\n",
    "from tensorflow.keras.preprocessing.sequence import pad_sequences"
   ]
  },
  {
   "cell_type": "code",
   "execution_count": 26,
   "metadata": {},
   "outputs": [
    {
     "name": "stdout",
     "output_type": "stream",
     "text": [
      "Tensorflow version: 2.16.1\n"
     ]
    }
   ],
   "source": [
    "print(\"Tensorflow version:\", tf.__version__)"
   ]
  },
  {
   "cell_type": "markdown",
   "metadata": {},
   "source": [
    "## Prepare Dataset"
   ]
  },
  {
   "cell_type": "code",
   "execution_count": 27,
   "metadata": {},
   "outputs": [],
   "source": [
    "train_df_path ='../07. Pemodelan Data (Data Mining)/dataset/Dataset_clean(penelitian).csv'\n"
   ]
  },
  {
   "cell_type": "code",
   "execution_count": 28,
   "metadata": {},
   "outputs": [],
   "source": [
    "train_df = pd.read_csv(train_df_path, sep=',', header=None, usecols=[1,2], skiprows=1)\n",
    "\n",
    "train_df.columns = ['full_text', 'emotion']"
   ]
  },
  {
   "cell_type": "code",
   "execution_count": 29,
   "metadata": {},
   "outputs": [
    {
     "data": {
      "text/html": [
       "<div>\n",
       "<style scoped>\n",
       "    .dataframe tbody tr th:only-of-type {\n",
       "        vertical-align: middle;\n",
       "    }\n",
       "\n",
       "    .dataframe tbody tr th {\n",
       "        vertical-align: top;\n",
       "    }\n",
       "\n",
       "    .dataframe thead th {\n",
       "        text-align: right;\n",
       "    }\n",
       "</style>\n",
       "<table border=\"1\" class=\"dataframe\">\n",
       "  <thead>\n",
       "    <tr style=\"text-align: right;\">\n",
       "      <th></th>\n",
       "      <th>full_text</th>\n",
       "      <th>emotion</th>\n",
       "    </tr>\n",
       "  </thead>\n",
       "  <tbody>\n",
       "    <tr>\n",
       "      <th>0</th>\n",
       "      <td>['pengabdian', 'terpuji', 'meskipun', 'terliha...</td>\n",
       "      <td>Neutral</td>\n",
       "    </tr>\n",
       "    <tr>\n",
       "      <th>1</th>\n",
       "      <td>['baru', 'mengirim', 'foto']</td>\n",
       "      <td>Neutral</td>\n",
       "    </tr>\n",
       "    <tr>\n",
       "      <th>2</th>\n",
       "      <td>['apa', 'kabar', 'dunia', 'twitter', 'masihkah...</td>\n",
       "      <td>Neutral</td>\n",
       "    </tr>\n",
       "    <tr>\n",
       "      <th>3</th>\n",
       "      <td>['yah', 'gimana', 'sih', 'yaudah', 'susul', 's...</td>\n",
       "      <td>Neutral</td>\n",
       "    </tr>\n",
       "    <tr>\n",
       "      <th>4</th>\n",
       "      <td>['ka', 'dorg', 'suro', 'beli', 'medium', 'set'...</td>\n",
       "      <td>Neutral</td>\n",
       "    </tr>\n",
       "    <tr>\n",
       "      <th>5</th>\n",
       "      <td>['ayo', 'cek', 'koleksinya', 'temukan', 'angry...</td>\n",
       "      <td>Neutral</td>\n",
       "    </tr>\n",
       "    <tr>\n",
       "      <th>6</th>\n",
       "      <td>['kalau', 'biasa', 'biasa', 'sudah'           ...</td>\n",
       "      <td>Neutral</td>\n",
       "    </tr>\n",
       "    <tr>\n",
       "      <th>7</th>\n",
       "      <td>['tiap', 'tiap', 'twit', 'tak', 'selalu', 'per...</td>\n",
       "      <td>Neutral</td>\n",
       "    </tr>\n",
       "    <tr>\n",
       "      <th>8</th>\n",
       "      <td>['halo', 'v', 'apa', 'kabar', 'nih'           ...</td>\n",
       "      <td>Neutral</td>\n",
       "    </tr>\n",
       "    <tr>\n",
       "      <th>9</th>\n",
       "      <td>['pagi', 'ruby', 'apa', 'kabar'               ...</td>\n",
       "      <td>Neutral</td>\n",
       "    </tr>\n",
       "  </tbody>\n",
       "</table>\n",
       "</div>"
      ],
      "text/plain": [
       "                                           full_text  emotion\n",
       "0  ['pengabdian', 'terpuji', 'meskipun', 'terliha...  Neutral\n",
       "1                       ['baru', 'mengirim', 'foto']  Neutral\n",
       "2  ['apa', 'kabar', 'dunia', 'twitter', 'masihkah...  Neutral\n",
       "3  ['yah', 'gimana', 'sih', 'yaudah', 'susul', 's...  Neutral\n",
       "4  ['ka', 'dorg', 'suro', 'beli', 'medium', 'set'...  Neutral\n",
       "5  ['ayo', 'cek', 'koleksinya', 'temukan', 'angry...  Neutral\n",
       "6  ['kalau', 'biasa', 'biasa', 'sudah'           ...  Neutral\n",
       "7  ['tiap', 'tiap', 'twit', 'tak', 'selalu', 'per...  Neutral\n",
       "8  ['halo', 'v', 'apa', 'kabar', 'nih'           ...  Neutral\n",
       "9  ['pagi', 'ruby', 'apa', 'kabar'               ...  Neutral"
      ]
     },
     "execution_count": 29,
     "metadata": {},
     "output_type": "execute_result"
    }
   ],
   "source": [
    "train_df.head(10)"
   ]
  },
  {
   "cell_type": "code",
   "execution_count": 30,
   "metadata": {},
   "outputs": [
    {
     "data": {
      "text/html": [
       "<div>\n",
       "<style scoped>\n",
       "    .dataframe tbody tr th:only-of-type {\n",
       "        vertical-align: middle;\n",
       "    }\n",
       "\n",
       "    .dataframe tbody tr th {\n",
       "        vertical-align: top;\n",
       "    }\n",
       "\n",
       "    .dataframe thead th {\n",
       "        text-align: right;\n",
       "    }\n",
       "</style>\n",
       "<table border=\"1\" class=\"dataframe\">\n",
       "  <thead>\n",
       "    <tr style=\"text-align: right;\">\n",
       "      <th></th>\n",
       "      <th>full_text</th>\n",
       "      <th>emotion</th>\n",
       "    </tr>\n",
       "  </thead>\n",
       "  <tbody>\n",
       "    <tr>\n",
       "      <th>0</th>\n",
       "      <td>['pengabdian', 'terpuji', 'meskipun', 'terliha...</td>\n",
       "      <td>Neutral</td>\n",
       "    </tr>\n",
       "    <tr>\n",
       "      <th>1</th>\n",
       "      <td>['baru', 'mengirim', 'foto']</td>\n",
       "      <td>Neutral</td>\n",
       "    </tr>\n",
       "    <tr>\n",
       "      <th>2</th>\n",
       "      <td>['apa', 'kabar', 'dunia', 'twitter', 'masihkah...</td>\n",
       "      <td>Neutral</td>\n",
       "    </tr>\n",
       "    <tr>\n",
       "      <th>3</th>\n",
       "      <td>['yah', 'gimana', 'sih', 'yaudah', 'susul', 's...</td>\n",
       "      <td>Neutral</td>\n",
       "    </tr>\n",
       "    <tr>\n",
       "      <th>4</th>\n",
       "      <td>['ka', 'dorg', 'suro', 'beli', 'medium', 'set'...</td>\n",
       "      <td>Neutral</td>\n",
       "    </tr>\n",
       "    <tr>\n",
       "      <th>5</th>\n",
       "      <td>['ayo', 'cek', 'koleksinya', 'temukan', 'angry...</td>\n",
       "      <td>Neutral</td>\n",
       "    </tr>\n",
       "    <tr>\n",
       "      <th>6</th>\n",
       "      <td>['kalau', 'biasa', 'biasa', 'sudah'           ...</td>\n",
       "      <td>Neutral</td>\n",
       "    </tr>\n",
       "    <tr>\n",
       "      <th>7</th>\n",
       "      <td>['tiap', 'tiap', 'twit', 'tak', 'selalu', 'per...</td>\n",
       "      <td>Neutral</td>\n",
       "    </tr>\n",
       "    <tr>\n",
       "      <th>8</th>\n",
       "      <td>['halo', 'v', 'apa', 'kabar', 'nih'           ...</td>\n",
       "      <td>Neutral</td>\n",
       "    </tr>\n",
       "    <tr>\n",
       "      <th>9</th>\n",
       "      <td>['pagi', 'ruby', 'apa', 'kabar'               ...</td>\n",
       "      <td>Neutral</td>\n",
       "    </tr>\n",
       "  </tbody>\n",
       "</table>\n",
       "</div>"
      ],
      "text/plain": [
       "                                           full_text  emotion\n",
       "0  ['pengabdian', 'terpuji', 'meskipun', 'terliha...  Neutral\n",
       "1                       ['baru', 'mengirim', 'foto']  Neutral\n",
       "2  ['apa', 'kabar', 'dunia', 'twitter', 'masihkah...  Neutral\n",
       "3  ['yah', 'gimana', 'sih', 'yaudah', 'susul', 's...  Neutral\n",
       "4  ['ka', 'dorg', 'suro', 'beli', 'medium', 'set'...  Neutral\n",
       "5  ['ayo', 'cek', 'koleksinya', 'temukan', 'angry...  Neutral\n",
       "6  ['kalau', 'biasa', 'biasa', 'sudah'           ...  Neutral\n",
       "7  ['tiap', 'tiap', 'twit', 'tak', 'selalu', 'per...  Neutral\n",
       "8  ['halo', 'v', 'apa', 'kabar', 'nih'           ...  Neutral\n",
       "9  ['pagi', 'ruby', 'apa', 'kabar'               ...  Neutral"
      ]
     },
     "execution_count": 30,
     "metadata": {},
     "output_type": "execute_result"
    }
   ],
   "source": [
    "train_df.head(10)"
   ]
  },
  {
   "cell_type": "code",
   "execution_count": 31,
   "metadata": {},
   "outputs": [],
   "source": [
    "def get_label_idx(label):\n",
    "    if label == 'Fear':\n",
    "        return 5\n",
    "    if label == 'Sad':\n",
    "        return 4\n",
    "    if label == 'Love':\n",
    "        return 3\n",
    "    if label == 'Joy':\n",
    "        return 2\n",
    "    if label == 'Anger':\n",
    "        return 1\n",
    "    if label == 'Neutral':\n",
    "        return 0\n",
    "train_df['emotion'] = train_df['emotion'].apply(get_label_idx)"
   ]
  },
  {
   "cell_type": "code",
   "execution_count": 32,
   "metadata": {},
   "outputs": [
    {
     "data": {
      "text/html": [
       "<div>\n",
       "<style scoped>\n",
       "    .dataframe tbody tr th:only-of-type {\n",
       "        vertical-align: middle;\n",
       "    }\n",
       "\n",
       "    .dataframe tbody tr th {\n",
       "        vertical-align: top;\n",
       "    }\n",
       "\n",
       "    .dataframe thead th {\n",
       "        text-align: right;\n",
       "    }\n",
       "</style>\n",
       "<table border=\"1\" class=\"dataframe\">\n",
       "  <thead>\n",
       "    <tr style=\"text-align: right;\">\n",
       "      <th></th>\n",
       "      <th>full_text</th>\n",
       "      <th>emotion</th>\n",
       "    </tr>\n",
       "  </thead>\n",
       "  <tbody>\n",
       "    <tr>\n",
       "      <th>0</th>\n",
       "      <td>['pengabdian', 'terpuji', 'meskipun', 'terliha...</td>\n",
       "      <td>0</td>\n",
       "    </tr>\n",
       "    <tr>\n",
       "      <th>1</th>\n",
       "      <td>['baru', 'mengirim', 'foto']</td>\n",
       "      <td>0</td>\n",
       "    </tr>\n",
       "    <tr>\n",
       "      <th>2</th>\n",
       "      <td>['apa', 'kabar', 'dunia', 'twitter', 'masihkah...</td>\n",
       "      <td>0</td>\n",
       "    </tr>\n",
       "    <tr>\n",
       "      <th>3</th>\n",
       "      <td>['yah', 'gimana', 'sih', 'yaudah', 'susul', 's...</td>\n",
       "      <td>0</td>\n",
       "    </tr>\n",
       "    <tr>\n",
       "      <th>4</th>\n",
       "      <td>['ka', 'dorg', 'suro', 'beli', 'medium', 'set'...</td>\n",
       "      <td>0</td>\n",
       "    </tr>\n",
       "    <tr>\n",
       "      <th>...</th>\n",
       "      <td>...</td>\n",
       "      <td>...</td>\n",
       "    </tr>\n",
       "    <tr>\n",
       "      <th>28695</th>\n",
       "      <td>['ingin', 'sangat', 'nih', 'daerah', 'jakarta'...</td>\n",
       "      <td>0</td>\n",
       "    </tr>\n",
       "    <tr>\n",
       "      <th>28696</th>\n",
       "      <td>['selamat', 'hari', 'raya', 'tri', 'suci', 'wa...</td>\n",
       "      <td>2</td>\n",
       "    </tr>\n",
       "    <tr>\n",
       "      <th>28697</th>\n",
       "      <td>['kandungan', 'serat', 'passion', 'fruit', 'ma...</td>\n",
       "      <td>3</td>\n",
       "    </tr>\n",
       "    <tr>\n",
       "      <th>28698</th>\n",
       "      <td>['selamat', 'memperingati', 'hari', 'kebangkit...</td>\n",
       "      <td>2</td>\n",
       "    </tr>\n",
       "    <tr>\n",
       "      <th>28699</th>\n",
       "      <td>['olive', 'oil', 'digunakan', 'mengobati', 'ku...</td>\n",
       "      <td>3</td>\n",
       "    </tr>\n",
       "  </tbody>\n",
       "</table>\n",
       "<p>28700 rows × 2 columns</p>\n",
       "</div>"
      ],
      "text/plain": [
       "                                               full_text  emotion\n",
       "0      ['pengabdian', 'terpuji', 'meskipun', 'terliha...        0\n",
       "1                           ['baru', 'mengirim', 'foto']        0\n",
       "2      ['apa', 'kabar', 'dunia', 'twitter', 'masihkah...        0\n",
       "3      ['yah', 'gimana', 'sih', 'yaudah', 'susul', 's...        0\n",
       "4      ['ka', 'dorg', 'suro', 'beli', 'medium', 'set'...        0\n",
       "...                                                  ...      ...\n",
       "28695  ['ingin', 'sangat', 'nih', 'daerah', 'jakarta'...        0\n",
       "28696  ['selamat', 'hari', 'raya', 'tri', 'suci', 'wa...        2\n",
       "28697  ['kandungan', 'serat', 'passion', 'fruit', 'ma...        3\n",
       "28698  ['selamat', 'memperingati', 'hari', 'kebangkit...        2\n",
       "28699  ['olive', 'oil', 'digunakan', 'mengobati', 'ku...        3\n",
       "\n",
       "[28700 rows x 2 columns]"
      ]
     },
     "execution_count": 32,
     "metadata": {},
     "output_type": "execute_result"
    }
   ],
   "source": [
    "train_df"
   ]
  },
  {
   "cell_type": "code",
   "execution_count": 33,
   "metadata": {},
   "outputs": [
    {
     "data": {
      "text/html": [
       "<div>\n",
       "<style scoped>\n",
       "    .dataframe tbody tr th:only-of-type {\n",
       "        vertical-align: middle;\n",
       "    }\n",
       "\n",
       "    .dataframe tbody tr th {\n",
       "        vertical-align: top;\n",
       "    }\n",
       "\n",
       "    .dataframe thead th {\n",
       "        text-align: right;\n",
       "    }\n",
       "</style>\n",
       "<table border=\"1\" class=\"dataframe\">\n",
       "  <thead>\n",
       "    <tr style=\"text-align: right;\">\n",
       "      <th></th>\n",
       "      <th>full_text</th>\n",
       "      <th>emotion</th>\n",
       "    </tr>\n",
       "  </thead>\n",
       "  <tbody>\n",
       "    <tr>\n",
       "      <th>0</th>\n",
       "      <td>pengabdian terpuji meskipun terlihat biasa</td>\n",
       "      <td>0</td>\n",
       "    </tr>\n",
       "    <tr>\n",
       "      <th>1</th>\n",
       "      <td>baru mengirim foto</td>\n",
       "      <td>0</td>\n",
       "    </tr>\n",
       "    <tr>\n",
       "      <th>2</th>\n",
       "      <td>apa kabar dunia twitter masihkah selucu seabsu...</td>\n",
       "      <td>0</td>\n",
       "    </tr>\n",
       "    <tr>\n",
       "      <th>3</th>\n",
       "      <td>yah gimana sih yaudah susul sebelumnya sarapan...</td>\n",
       "      <td>0</td>\n",
       "    </tr>\n",
       "    <tr>\n",
       "      <th>4</th>\n",
       "      <td>ka dorg suro beli medium set</td>\n",
       "      <td>0</td>\n",
       "    </tr>\n",
       "    <tr>\n",
       "      <th>...</th>\n",
       "      <td>...</td>\n",
       "      <td>...</td>\n",
       "    </tr>\n",
       "    <tr>\n",
       "      <th>28695</th>\n",
       "      <td>ingin sangat nih daerah jakarta barat tidak si</td>\n",
       "      <td>0</td>\n",
       "    </tr>\n",
       "    <tr>\n",
       "      <th>28696</th>\n",
       "      <td>selamat hari raya tri suci waisak seluruh umat...</td>\n",
       "      <td>2</td>\n",
       "    </tr>\n",
       "    <tr>\n",
       "      <th>28697</th>\n",
       "      <td>kandungan serat passion fruit markisa berfungs...</td>\n",
       "      <td>3</td>\n",
       "    </tr>\n",
       "    <tr>\n",
       "      <th>28698</th>\n",
       "      <td>selamat memperingati hari kebangkitan nasional...</td>\n",
       "      <td>2</td>\n",
       "    </tr>\n",
       "    <tr>\n",
       "      <th>28699</th>\n",
       "      <td>olive oil digunakan mengobati kulit ruam kemer...</td>\n",
       "      <td>3</td>\n",
       "    </tr>\n",
       "  </tbody>\n",
       "</table>\n",
       "<p>28700 rows × 2 columns</p>\n",
       "</div>"
      ],
      "text/plain": [
       "                                               full_text  emotion\n",
       "0             pengabdian terpuji meskipun terlihat biasa        0\n",
       "1                                     baru mengirim foto        0\n",
       "2      apa kabar dunia twitter masihkah selucu seabsu...        0\n",
       "3      yah gimana sih yaudah susul sebelumnya sarapan...        0\n",
       "4                           ka dorg suro beli medium set        0\n",
       "...                                                  ...      ...\n",
       "28695     ingin sangat nih daerah jakarta barat tidak si        0\n",
       "28696  selamat hari raya tri suci waisak seluruh umat...        2\n",
       "28697  kandungan serat passion fruit markisa berfungs...        3\n",
       "28698  selamat memperingati hari kebangkitan nasional...        2\n",
       "28699  olive oil digunakan mengobati kulit ruam kemer...        3\n",
       "\n",
       "[28700 rows x 2 columns]"
      ]
     },
     "execution_count": 33,
     "metadata": {},
     "output_type": "execute_result"
    }
   ],
   "source": [
    "# Define the function to join the list of tokens as a single document string\n",
    "def join_text_list(texts):\n",
    "    try:\n",
    "        texts = ast.literal_eval(texts)\n",
    "        return ' '.join([text for text in texts])\n",
    "    except (ValueError, SyntaxError):\n",
    "        return None  # or return an empty string if you prefer\n",
    "\n",
    "# Apply the function to the 'full_text' column\n",
    "train_df[\"full_text\"] = train_df[\"full_text\"].apply(join_text_list)\n",
    "\n",
    "# Display the first few rows of the preprocessed column\n",
    "train_df"
   ]
  },
  {
   "cell_type": "code",
   "execution_count": 34,
   "metadata": {},
   "outputs": [
    {
     "name": "stdout",
     "output_type": "stream",
     "text": [
      "Jumlah Netral:  3550\n",
      "Jumlah Marah:  5757\n",
      "Jumlah Senang:  6638\n",
      "Jumlah Cinta:  4411\n",
      "Jumlah Sedih:  4857\n",
      "Jumlah Takut:  3487\n"
     ]
    }
   ],
   "source": [
    "jumlah_netral = len(train_df[train_df['emotion'] == 0])\n",
    "jumlah_marah = len(train_df[train_df['emotion'] == 1])\n",
    "jumlah_senang = len(train_df[train_df['emotion'] == 2])\n",
    "jumlah_cinta = len(train_df[train_df['emotion'] == 3])\n",
    "jumlah_sedih = len(train_df[train_df['emotion'] == 4])\n",
    "jumlah_takut = len(train_df[train_df['emotion'] == 5])\n",
    "\n",
    "print(\"Jumlah Netral: \", jumlah_netral)\n",
    "print(\"Jumlah Marah: \", jumlah_marah)\n",
    "print(\"Jumlah Senang: \", jumlah_senang)\n",
    "print(\"Jumlah Cinta: \", jumlah_cinta)\n",
    "print(\"Jumlah Sedih: \", jumlah_sedih)\n",
    "print(\"Jumlah Takut: \", jumlah_takut)"
   ]
  },
  {
   "cell_type": "code",
   "execution_count": 35,
   "metadata": {},
   "outputs": [],
   "source": [
    "# Split dataset menjadi fitur (X) dan label (y)\n",
    "X_train = train_df['full_text']\n",
    "y_train = train_df['emotion']\n"
   ]
  },
  {
   "cell_type": "code",
   "execution_count": 36,
   "metadata": {},
   "outputs": [],
   "source": [
    "##split dataset\n",
    "from sklearn.model_selection import train_test_split\n",
    "\n",
    "X_train, X_valid, y_train, y_valid = train_test_split(X_train, y_train, test_size=0.1, random_state=42)"
   ]
  },
  {
   "cell_type": "code",
   "execution_count": 37,
   "metadata": {},
   "outputs": [
    {
     "data": {
      "text/plain": [
       "((25830,), (2870,), (25830,), (2870,))"
      ]
     },
     "execution_count": 37,
     "metadata": {},
     "output_type": "execute_result"
    }
   ],
   "source": [
    "X_train.shape, X_valid.shape, y_train.shape, y_valid.shape"
   ]
  },
  {
   "cell_type": "markdown",
   "metadata": {},
   "source": [
    "## Generate Padded Sequence"
   ]
  },
  {
   "cell_type": "code",
   "execution_count": 38,
   "metadata": {},
   "outputs": [],
   "source": [
    "# Parameters\n",
    "\n",
    "vocab_size = 60000 #ukuran kosakata yang akan digunakan\n",
    "max_length = 50 #panjang maksimal dari sebuah kalimat\n",
    "embedding_dim = 8 #dimensi vektor embedding yang akan digunakan\n",
    "trunc_type='post' #jika panjang kalimat melebihi max_length, potong bagian belakang kalimat\n",
    "oov_tok = \"<OOV>\" #OOV (Out Of Vocabulary) token, jika suatu kata tidak ditemukan dalam kosakata"
   ]
  },
  {
   "cell_type": "code",
   "execution_count": 39,
   "metadata": {},
   "outputs": [],
   "source": [
    "from tensorflow.keras.preprocessing.text import Tokenizer\n",
    "from tensorflow.keras.preprocessing.sequence import pad_sequences\n",
    "import pandas as pd\n",
    "import re\n",
    "\n",
    "# Define the \"all_texts\" variable\n",
    "X_train = [str(text) for text in X_train]\n",
    "X_valid = [str(text) for text in X_valid]\n",
    "\n",
    "# Tokenisasi\n",
    "tokenizer = Tokenizer(num_words=vocab_size, oov_token=oov_tok)\n",
    "\n",
    "# Gabungkan semua teks untuk membuat kamus indeks kata\n",
    "all_texts = list(X_train) + list(X_valid)\n",
    "\n",
    "# Membuat kamus indeks kata\n",
    "tokenizer.fit_on_texts(all_texts)\n",
    "word_index = tokenizer.word_index\n",
    "word_index\n",
    "\n",
    "\n",
    "# Konversi kalimat menjadi urutan kata\n",
    "train_sequences = tokenizer.texts_to_sequences(X_train)\n",
    "train_padded = pad_sequences(train_sequences, maxlen=max_length, truncating=trunc_type, padding=\"post\")\n",
    "\n",
    "valid_sequences = tokenizer.texts_to_sequences(X_valid)\n",
    "valid_padded = pad_sequences(valid_sequences, maxlen=max_length, truncating=trunc_type, padding=\"post\")\n",
    "\n",
    "\n"
   ]
  },
  {
   "cell_type": "markdown",
   "metadata": {},
   "source": [
    "### kamus data untuk api Training"
   ]
  },
  {
   "cell_type": "code",
   "execution_count": 40,
   "metadata": {},
   "outputs": [],
   "source": [
    "# import pickle\n",
    "\n",
    "# Simpan tokenizer ke dalam file\n",
    "# with open('tokenizer-2classes-no-stemming.pickle', 'wb') as handle:\n",
    "#     pickle.dump(tokenizer, handle, protocol=pickle.HIGHEST_PROTOCOL)\n"
   ]
  },
  {
   "cell_type": "code",
   "execution_count": 41,
   "metadata": {},
   "outputs": [
    {
     "name": "stdout",
     "output_type": "stream",
     "text": [
      "[   79 22710     0     0     0     0     0     0     0     0     0     0\n",
      "     0     0     0     0     0     0     0     0     0     0     0     0\n",
      "     0     0     0     0     0     0     0     0     0     0     0     0\n",
      "     0     0     0     0     0     0     0     0     0     0     0     0\n",
      "     0     0]\n"
     ]
    }
   ],
   "source": [
    "print(train_padded[0])"
   ]
  },
  {
   "cell_type": "markdown",
   "metadata": {},
   "source": [
    "## Word Embedding"
   ]
  },
  {
   "cell_type": "code",
   "execution_count": 42,
   "metadata": {},
   "outputs": [],
   "source": [
    "from gensim.models import Word2Vec\n",
    "\n",
    "# Gabungkan data pelatihan dan validasi\n",
    "sentences = [sentence.split() for sentence in X_train] + [sentence.split() for sentence in X_valid]\n",
    "\n",
    "# Latih model Word2Vec\n",
    "w2v_model = Word2Vec(sentences, vector_size=8, window=5, min_count=1, workers=4)"
   ]
  },
  {
   "cell_type": "code",
   "execution_count": 43,
   "metadata": {},
   "outputs": [],
   "source": [
    "# Create a weight matrix for the embedding layer\n",
    "embedding_matrix = np.zeros((vocab_size, 8))\n",
    "for word, i in tokenizer.word_index.items():\n",
    "    if word in w2v_model.wv:\n",
    "        embedding_matrix[i] = w2v_model.wv[word]\n",
    "        "
   ]
  },
  {
   "cell_type": "code",
   "execution_count": 44,
   "metadata": {},
   "outputs": [
    {
     "data": {
      "text/plain": [
       "array([[ 0.        ,  0.        ,  0.        , ...,  0.        ,\n",
       "         0.        ,  0.        ],\n",
       "       [ 0.        ,  0.        ,  0.        , ...,  0.        ,\n",
       "         0.        ,  0.        ],\n",
       "       [-3.51400423, -0.55485409,  4.28113461, ...,  0.63304216,\n",
       "         5.26566553, -2.621207  ],\n",
       "       ...,\n",
       "       [ 0.        ,  0.        ,  0.        , ...,  0.        ,\n",
       "         0.        ,  0.        ],\n",
       "       [ 0.        ,  0.        ,  0.        , ...,  0.        ,\n",
       "         0.        ,  0.        ],\n",
       "       [ 0.        ,  0.        ,  0.        , ...,  0.        ,\n",
       "         0.        ,  0.        ]])"
      ]
     },
     "execution_count": 44,
     "metadata": {},
     "output_type": "execute_result"
    }
   ],
   "source": [
    "embedding_matrix"
   ]
  },
  {
   "cell_type": "code",
   "execution_count": 45,
   "metadata": {},
   "outputs": [
    {
     "name": "stdout",
     "output_type": "stream",
     "text": [
      "('in', array([-2.51094198e+00, -9.58449602e-01,  2.28850484e+00,  1.81460392e+00,\n",
      "        2.42560744e+00, -3.34521383e-01,  2.63730836e+00,  1.73057523e-03]))\n"
     ]
    }
   ],
   "source": [
    "# Mencari kata berdasarkan vektor tertentu\n",
    "def find_word_by_vector(embedding_matrix, vector):\n",
    "    for word, index in word_index.items():\n",
    "        if np.array_equal(embedding_matrix[index], vector):\n",
    "            return word, embedding_matrix[index]\n",
    "    return None\n",
    "\n",
    "# Contoh: Mencari kata untuk vektor embedding_matrix[3]\n",
    "word = find_word_by_vector(embedding_matrix, embedding_matrix[345])\n",
    "print(word)"
   ]
  },
  {
   "cell_type": "markdown",
   "metadata": {},
   "source": [
    "## Build and Compile Model"
   ]
  },
  {
   "cell_type": "code",
   "execution_count": 46,
   "metadata": {},
   "outputs": [
    {
     "name": "stderr",
     "output_type": "stream",
     "text": [
      "c:\\Users\\TEMP\\miniconda3\\envs\\skripsi\\Lib\\site-packages\\keras\\src\\layers\\core\\embedding.py:93: UserWarning: Do not pass an `input_shape`/`input_dim` argument to a layer. When using Sequential models, prefer using an `Input(shape)` object as the first layer in the model instead.\n",
      "  super().__init__(**kwargs)\n"
     ]
    },
    {
     "data": {
      "text/html": [
       "<pre style=\"white-space:pre;overflow-x:auto;line-height:normal;font-family:Menlo,'DejaVu Sans Mono',consolas,'Courier New',monospace\"><span style=\"font-weight: bold\">Model: \"sequential_1\"</span>\n",
       "</pre>\n"
      ],
      "text/plain": [
       "\u001b[1mModel: \"sequential_1\"\u001b[0m\n"
      ]
     },
     "metadata": {},
     "output_type": "display_data"
    },
    {
     "data": {
      "text/html": [
       "<pre style=\"white-space:pre;overflow-x:auto;line-height:normal;font-family:Menlo,'DejaVu Sans Mono',consolas,'Courier New',monospace\">┏━━━━━━━━━━━━━━━━━━━━━━━━━━━━━━━━━┳━━━━━━━━━━━━━━━━━━━━━━━━┳━━━━━━━━━━━━━━━┓\n",
       "┃<span style=\"font-weight: bold\"> Layer (type)                    </span>┃<span style=\"font-weight: bold\"> Output Shape           </span>┃<span style=\"font-weight: bold\">       Param # </span>┃\n",
       "┡━━━━━━━━━━━━━━━━━━━━━━━━━━━━━━━━━╇━━━━━━━━━━━━━━━━━━━━━━━━╇━━━━━━━━━━━━━━━┩\n",
       "│ embedding_1 (<span style=\"color: #0087ff; text-decoration-color: #0087ff\">Embedding</span>)         │ (<span style=\"color: #00d7ff; text-decoration-color: #00d7ff\">None</span>, <span style=\"color: #00af00; text-decoration-color: #00af00\">50</span>, <span style=\"color: #00af00; text-decoration-color: #00af00\">8</span>)          │       <span style=\"color: #00af00; text-decoration-color: #00af00\">480,000</span> │\n",
       "├─────────────────────────────────┼────────────────────────┼───────────────┤\n",
       "│ conv1d_1 (<span style=\"color: #0087ff; text-decoration-color: #0087ff\">Conv1D</span>)               │ (<span style=\"color: #00d7ff; text-decoration-color: #00d7ff\">None</span>, <span style=\"color: #00af00; text-decoration-color: #00af00\">50</span>, <span style=\"color: #00af00; text-decoration-color: #00af00\">128</span>)        │         <span style=\"color: #00af00; text-decoration-color: #00af00\">5,248</span> │\n",
       "├─────────────────────────────────┼────────────────────────┼───────────────┤\n",
       "│ max_pooling1d_1 (<span style=\"color: #0087ff; text-decoration-color: #0087ff\">MaxPooling1D</span>)  │ (<span style=\"color: #00d7ff; text-decoration-color: #00d7ff\">None</span>, <span style=\"color: #00af00; text-decoration-color: #00af00\">25</span>, <span style=\"color: #00af00; text-decoration-color: #00af00\">128</span>)        │             <span style=\"color: #00af00; text-decoration-color: #00af00\">0</span> │\n",
       "├─────────────────────────────────┼────────────────────────┼───────────────┤\n",
       "│ lstm_1 (<span style=\"color: #0087ff; text-decoration-color: #0087ff\">LSTM</span>)                   │ (<span style=\"color: #00d7ff; text-decoration-color: #00d7ff\">None</span>, <span style=\"color: #00af00; text-decoration-color: #00af00\">25</span>, <span style=\"color: #00af00; text-decoration-color: #00af00\">128</span>)        │       <span style=\"color: #00af00; text-decoration-color: #00af00\">131,584</span> │\n",
       "├─────────────────────────────────┼────────────────────────┼───────────────┤\n",
       "│ flatten_1 (<span style=\"color: #0087ff; text-decoration-color: #0087ff\">Flatten</span>)             │ (<span style=\"color: #00d7ff; text-decoration-color: #00d7ff\">None</span>, <span style=\"color: #00af00; text-decoration-color: #00af00\">3200</span>)           │             <span style=\"color: #00af00; text-decoration-color: #00af00\">0</span> │\n",
       "├─────────────────────────────────┼────────────────────────┼───────────────┤\n",
       "│ dense_2 (<span style=\"color: #0087ff; text-decoration-color: #0087ff\">Dense</span>)                 │ (<span style=\"color: #00d7ff; text-decoration-color: #00d7ff\">None</span>, <span style=\"color: #00af00; text-decoration-color: #00af00\">16</span>)             │        <span style=\"color: #00af00; text-decoration-color: #00af00\">51,216</span> │\n",
       "├─────────────────────────────────┼────────────────────────┼───────────────┤\n",
       "│ dropout_1 (<span style=\"color: #0087ff; text-decoration-color: #0087ff\">Dropout</span>)             │ (<span style=\"color: #00d7ff; text-decoration-color: #00d7ff\">None</span>, <span style=\"color: #00af00; text-decoration-color: #00af00\">16</span>)             │             <span style=\"color: #00af00; text-decoration-color: #00af00\">0</span> │\n",
       "├─────────────────────────────────┼────────────────────────┼───────────────┤\n",
       "│ dense_3 (<span style=\"color: #0087ff; text-decoration-color: #0087ff\">Dense</span>)                 │ (<span style=\"color: #00d7ff; text-decoration-color: #00d7ff\">None</span>, <span style=\"color: #00af00; text-decoration-color: #00af00\">6</span>)              │           <span style=\"color: #00af00; text-decoration-color: #00af00\">102</span> │\n",
       "└─────────────────────────────────┴────────────────────────┴───────────────┘\n",
       "</pre>\n"
      ],
      "text/plain": [
       "┏━━━━━━━━━━━━━━━━━━━━━━━━━━━━━━━━━┳━━━━━━━━━━━━━━━━━━━━━━━━┳━━━━━━━━━━━━━━━┓\n",
       "┃\u001b[1m \u001b[0m\u001b[1mLayer (type)                   \u001b[0m\u001b[1m \u001b[0m┃\u001b[1m \u001b[0m\u001b[1mOutput Shape          \u001b[0m\u001b[1m \u001b[0m┃\u001b[1m \u001b[0m\u001b[1m      Param #\u001b[0m\u001b[1m \u001b[0m┃\n",
       "┡━━━━━━━━━━━━━━━━━━━━━━━━━━━━━━━━━╇━━━━━━━━━━━━━━━━━━━━━━━━╇━━━━━━━━━━━━━━━┩\n",
       "│ embedding_1 (\u001b[38;5;33mEmbedding\u001b[0m)         │ (\u001b[38;5;45mNone\u001b[0m, \u001b[38;5;34m50\u001b[0m, \u001b[38;5;34m8\u001b[0m)          │       \u001b[38;5;34m480,000\u001b[0m │\n",
       "├─────────────────────────────────┼────────────────────────┼───────────────┤\n",
       "│ conv1d_1 (\u001b[38;5;33mConv1D\u001b[0m)               │ (\u001b[38;5;45mNone\u001b[0m, \u001b[38;5;34m50\u001b[0m, \u001b[38;5;34m128\u001b[0m)        │         \u001b[38;5;34m5,248\u001b[0m │\n",
       "├─────────────────────────────────┼────────────────────────┼───────────────┤\n",
       "│ max_pooling1d_1 (\u001b[38;5;33mMaxPooling1D\u001b[0m)  │ (\u001b[38;5;45mNone\u001b[0m, \u001b[38;5;34m25\u001b[0m, \u001b[38;5;34m128\u001b[0m)        │             \u001b[38;5;34m0\u001b[0m │\n",
       "├─────────────────────────────────┼────────────────────────┼───────────────┤\n",
       "│ lstm_1 (\u001b[38;5;33mLSTM\u001b[0m)                   │ (\u001b[38;5;45mNone\u001b[0m, \u001b[38;5;34m25\u001b[0m, \u001b[38;5;34m128\u001b[0m)        │       \u001b[38;5;34m131,584\u001b[0m │\n",
       "├─────────────────────────────────┼────────────────────────┼───────────────┤\n",
       "│ flatten_1 (\u001b[38;5;33mFlatten\u001b[0m)             │ (\u001b[38;5;45mNone\u001b[0m, \u001b[38;5;34m3200\u001b[0m)           │             \u001b[38;5;34m0\u001b[0m │\n",
       "├─────────────────────────────────┼────────────────────────┼───────────────┤\n",
       "│ dense_2 (\u001b[38;5;33mDense\u001b[0m)                 │ (\u001b[38;5;45mNone\u001b[0m, \u001b[38;5;34m16\u001b[0m)             │        \u001b[38;5;34m51,216\u001b[0m │\n",
       "├─────────────────────────────────┼────────────────────────┼───────────────┤\n",
       "│ dropout_1 (\u001b[38;5;33mDropout\u001b[0m)             │ (\u001b[38;5;45mNone\u001b[0m, \u001b[38;5;34m16\u001b[0m)             │             \u001b[38;5;34m0\u001b[0m │\n",
       "├─────────────────────────────────┼────────────────────────┼───────────────┤\n",
       "│ dense_3 (\u001b[38;5;33mDense\u001b[0m)                 │ (\u001b[38;5;45mNone\u001b[0m, \u001b[38;5;34m6\u001b[0m)              │           \u001b[38;5;34m102\u001b[0m │\n",
       "└─────────────────────────────────┴────────────────────────┴───────────────┘\n"
      ]
     },
     "metadata": {},
     "output_type": "display_data"
    },
    {
     "data": {
      "text/html": [
       "<pre style=\"white-space:pre;overflow-x:auto;line-height:normal;font-family:Menlo,'DejaVu Sans Mono',consolas,'Courier New',monospace\"><span style=\"font-weight: bold\"> Total params: </span><span style=\"color: #00af00; text-decoration-color: #00af00\">668,150</span> (2.55 MB)\n",
       "</pre>\n"
      ],
      "text/plain": [
       "\u001b[1m Total params: \u001b[0m\u001b[38;5;34m668,150\u001b[0m (2.55 MB)\n"
      ]
     },
     "metadata": {},
     "output_type": "display_data"
    },
    {
     "data": {
      "text/html": [
       "<pre style=\"white-space:pre;overflow-x:auto;line-height:normal;font-family:Menlo,'DejaVu Sans Mono',consolas,'Courier New',monospace\"><span style=\"font-weight: bold\"> Trainable params: </span><span style=\"color: #00af00; text-decoration-color: #00af00\">188,150</span> (734.96 KB)\n",
       "</pre>\n"
      ],
      "text/plain": [
       "\u001b[1m Trainable params: \u001b[0m\u001b[38;5;34m188,150\u001b[0m (734.96 KB)\n"
      ]
     },
     "metadata": {},
     "output_type": "display_data"
    },
    {
     "data": {
      "text/html": [
       "<pre style=\"white-space:pre;overflow-x:auto;line-height:normal;font-family:Menlo,'DejaVu Sans Mono',consolas,'Courier New',monospace\"><span style=\"font-weight: bold\"> Non-trainable params: </span><span style=\"color: #00af00; text-decoration-color: #00af00\">480,000</span> (1.83 MB)\n",
       "</pre>\n"
      ],
      "text/plain": [
       "\u001b[1m Non-trainable params: \u001b[0m\u001b[38;5;34m480,000\u001b[0m (1.83 MB)\n"
      ]
     },
     "metadata": {},
     "output_type": "display_data"
    }
   ],
   "source": [
    "# convert to bi-lstm model\n",
    "model = tf.keras.Sequential([\n",
    "    tf.keras.layers.Embedding(vocab_size, 8, embeddings_initializer=tf.keras.initializers.Constant(embedding_matrix), \n",
    "              input_shape=(max_length,), trainable=False),\n",
    "    tf.keras.layers.Conv1D(128, 5, activation='relu', padding='same'),\n",
    "    tf.keras.layers.MaxPooling1D(pool_size=2),\n",
    "    tf.keras.layers.LSTM(128, return_sequences=True),\n",
    "    tf.keras.layers.Flatten(),\n",
    "    tf.keras.layers.Dense(16, activation='relu'),\n",
    "    tf.keras.layers.Dropout(0.5),\n",
    "    tf.keras.layers.Dense(6, activation='softmax')\n",
    "])\n",
    "\n",
    "model.compile(loss='sparse_categorical_crossentropy',optimizer='adam',metrics=['accuracy'])\n",
    "\n",
    "model.summary()"
   ]
  },
  {
   "cell_type": "code",
   "execution_count": 47,
   "metadata": {},
   "outputs": [
    {
     "name": "stdout",
     "output_type": "stream",
     "text": [
      "Layer Name: embedding_1\n",
      "Weights Shape (Tensor 0): (60000, 8)\n",
      "Weights (Tensor 0):\n",
      "[[ 0.          0.          0.         ...  0.          0.\n",
      "   0.        ]\n",
      " [ 0.          0.          0.         ...  0.          0.\n",
      "   0.        ]\n",
      " [-3.5140042  -0.5548541   4.2811346  ...  0.63304216  5.2656655\n",
      "  -2.621207  ]\n",
      " ...\n",
      " [ 0.          0.          0.         ...  0.          0.\n",
      "   0.        ]\n",
      " [ 0.          0.          0.         ...  0.          0.\n",
      "   0.        ]\n",
      " [ 0.          0.          0.         ...  0.          0.\n",
      "   0.        ]]\n",
      "Layer Name: conv1d_1\n",
      "Weights Shape (Tensor 0): (5, 8, 128)\n",
      "Weights (Tensor 0):\n",
      "[[[-2.45216861e-02  8.05304348e-02 -2.79114768e-02 ... -3.02252695e-02\n",
      "   -5.42014502e-02  5.88118881e-02]\n",
      "  [ 4.25578356e-02 -1.23894215e-03  3.67167890e-02 ...  5.41480333e-02\n",
      "   -2.34709680e-03 -8.73659104e-02]\n",
      "  [ 1.19279027e-02  5.70494235e-02 -8.10051337e-02 ... -8.56414065e-02\n",
      "    1.89089477e-02  5.04011959e-02]\n",
      "  ...\n",
      "  [-3.89921106e-02 -4.55514900e-02  5.33218682e-02 ... -6.03005327e-02\n",
      "   -6.63907081e-02  1.05988160e-02]\n",
      "  [ 6.68314248e-02 -1.85924098e-02 -7.77394846e-02 ...  4.57487106e-02\n",
      "    4.35418636e-03  1.94441304e-02]\n",
      "  [-7.37281740e-02 -2.29223147e-02  2.63715386e-02 ... -4.30715904e-02\n",
      "   -1.73215941e-02  2.16701552e-02]]\n",
      "\n",
      " [[ 1.63797960e-02 -6.16968945e-02  7.62171745e-02 ... -3.74081433e-02\n",
      "    7.47595727e-02 -9.18337032e-02]\n",
      "  [-6.18340224e-02 -2.55882964e-02  5.51237166e-02 ... -4.23463434e-03\n",
      "    7.60705471e-02  7.46127814e-02]\n",
      "  [-1.22521073e-03 -6.64524734e-03 -4.49552089e-02 ... -9.08502489e-02\n",
      "    8.20181519e-02  7.08231628e-02]\n",
      "  ...\n",
      "  [ 6.39001280e-02  3.27771306e-02  1.03834867e-02 ...  6.04611337e-02\n",
      "   -6.77719712e-03 -4.25129347e-02]\n",
      "  [-8.89423937e-02  1.64708123e-02  5.89793772e-02 ...  5.26445955e-02\n",
      "   -9.07667130e-02  8.29959065e-02]\n",
      "  [ 8.60711932e-02  4.56594080e-02 -7.13284314e-02 ...  3.04709375e-03\n",
      "   -8.71179476e-02 -9.50470567e-05]]\n",
      "\n",
      " [[ 9.24262404e-02  5.02902716e-02 -8.73029754e-02 ...  8.92349035e-02\n",
      "    7.86325336e-02  5.16237468e-02]\n",
      "  [-1.36501640e-02  6.62796050e-02 -3.95514071e-03 ...  3.97667438e-02\n",
      "   -4.48436365e-02 -2.21400112e-02]\n",
      "  [ 5.46523631e-02  4.28790301e-02 -2.72660404e-02 ...  9.22231376e-02\n",
      "   -1.69822574e-02  8.61041248e-02]\n",
      "  ...\n",
      "  [-6.53881282e-02 -1.18744895e-02  3.80119234e-02 ...  6.45311773e-02\n",
      "    6.56335801e-02 -5.18019684e-02]\n",
      "  [ 1.49159804e-02 -3.65461595e-02  2.36029774e-02 ... -9.00292546e-02\n",
      "    5.19459546e-02  5.71970642e-03]\n",
      "  [ 3.11311930e-02  6.16360456e-02 -1.80980936e-02 ... -2.28204578e-02\n",
      "    5.87765574e-02  9.18306559e-02]]\n",
      "\n",
      " [[ 7.15864301e-02 -8.00192133e-02 -6.53942153e-02 ...  2.28252485e-02\n",
      "    2.38155574e-02 -5.59157878e-03]\n",
      "  [ 3.41152400e-02  5.03431261e-03  6.00329936e-02 ...  3.53602320e-02\n",
      "    4.92253602e-02 -4.84042987e-02]\n",
      "  [-7.37343803e-02 -6.88657239e-02  6.13272190e-02 ...  7.06066936e-02\n",
      "   -5.96461147e-02  7.92723894e-02]\n",
      "  ...\n",
      "  [-3.00212204e-03 -4.08039317e-02  5.00793010e-03 ...  8.14463496e-02\n",
      "    6.25695884e-02 -6.02118932e-02]\n",
      "  [ 6.35880977e-03 -3.70098166e-02  1.91383436e-02 ...  2.85479352e-02\n",
      "    4.41784859e-02 -4.68714610e-02]\n",
      "  [-3.17219198e-02 -5.84074631e-02 -3.31550986e-02 ...  4.25078422e-02\n",
      "    5.32986671e-02 -6.26750290e-03]]\n",
      "\n",
      " [[-4.38000262e-02  3.31963748e-02 -2.08696499e-02 ...  6.38630539e-02\n",
      "    5.45391887e-02  8.37414861e-02]\n",
      "  [ 1.20996535e-02  2.70466059e-02  7.23315179e-02 ... -6.56384677e-02\n",
      "    6.01461679e-02 -7.45963380e-02]\n",
      "  [-7.70975128e-02 -5.50860167e-03 -6.40183017e-02 ...  9.39119607e-02\n",
      "    7.15415627e-02  8.29271823e-02]\n",
      "  ...\n",
      "  [ 3.00579071e-02  2.28720903e-03 -4.82556149e-02 ...  9.31538492e-02\n",
      "   -2.03696266e-02 -8.40184242e-02]\n",
      "  [ 1.68761611e-03  1.26677155e-02  2.88714617e-02 ... -7.47460723e-02\n",
      "   -1.19095147e-02  8.59404951e-02]\n",
      "  [-3.77733670e-02  4.85844910e-04  8.98837894e-02 ...  6.85491711e-02\n",
      "    2.20732540e-02 -7.90191889e-02]]]\n",
      "Weights Shape (Tensor 1): (128,)\n",
      "Weights (Tensor 1):\n",
      "[0. 0. 0. 0. 0. 0. 0. 0. 0. 0. 0. 0. 0. 0. 0. 0. 0. 0. 0. 0. 0. 0. 0. 0.\n",
      " 0. 0. 0. 0. 0. 0. 0. 0. 0. 0. 0. 0. 0. 0. 0. 0. 0. 0. 0. 0. 0. 0. 0. 0.\n",
      " 0. 0. 0. 0. 0. 0. 0. 0. 0. 0. 0. 0. 0. 0. 0. 0. 0. 0. 0. 0. 0. 0. 0. 0.\n",
      " 0. 0. 0. 0. 0. 0. 0. 0. 0. 0. 0. 0. 0. 0. 0. 0. 0. 0. 0. 0. 0. 0. 0. 0.\n",
      " 0. 0. 0. 0. 0. 0. 0. 0. 0. 0. 0. 0. 0. 0. 0. 0. 0. 0. 0. 0. 0. 0. 0. 0.\n",
      " 0. 0. 0. 0. 0. 0. 0. 0.]\n",
      "Layer Name: lstm_1\n",
      "Weights Shape (Tensor 0): (128, 512)\n",
      "Weights (Tensor 0):\n",
      "[[ 0.08965665  0.05540317 -0.08655971 ... -0.08839726 -0.05630879\n",
      "  -0.09050354]\n",
      " [-0.07216986 -0.01581215 -0.02737684 ...  0.02207851 -0.01514244\n",
      "  -0.03093926]\n",
      " [-0.00442353  0.00687089 -0.08066542 ... -0.05683745 -0.04745441\n",
      "   0.06915787]\n",
      " ...\n",
      " [ 0.01662393  0.01266235 -0.00923848 ...  0.04005452 -0.04196647\n",
      "  -0.07445975]\n",
      " [-0.04710064  0.01553758 -0.00745048 ...  0.0334722   0.05564138\n",
      "  -0.09429496]\n",
      " [-0.02571817 -0.00467853  0.00655192 ...  0.07445103  0.05185761\n",
      "   0.07314774]]\n",
      "Weights Shape (Tensor 1): (128, 512)\n",
      "Weights (Tensor 1):\n",
      "[[ 0.00639164 -0.01445193  0.01039192 ...  0.06739777 -0.07613673\n",
      "  -0.0262073 ]\n",
      " [-0.00250004 -0.05153787  0.00674625 ...  0.00987458  0.02385646\n",
      "   0.0122917 ]\n",
      " [-0.01379551 -0.02514958  0.20056427 ... -0.0196615   0.03657571\n",
      "  -0.00435802]\n",
      " ...\n",
      " [-0.03493529  0.01352735  0.04087939 ... -0.06394946  0.00071442\n",
      "  -0.01192312]\n",
      " [-0.05337252  0.00994234 -0.07154641 ... -0.00850419  0.03862758\n",
      "  -0.03883265]\n",
      " [-0.09950843 -0.01134414  0.02750489 ...  0.04132579  0.03913274\n",
      "  -0.00828915]]\n",
      "Weights Shape (Tensor 2): (512,)\n",
      "Weights (Tensor 2):\n",
      "[0. 0. 0. 0. 0. 0. 0. 0. 0. 0. 0. 0. 0. 0. 0. 0. 0. 0. 0. 0. 0. 0. 0. 0.\n",
      " 0. 0. 0. 0. 0. 0. 0. 0. 0. 0. 0. 0. 0. 0. 0. 0. 0. 0. 0. 0. 0. 0. 0. 0.\n",
      " 0. 0. 0. 0. 0. 0. 0. 0. 0. 0. 0. 0. 0. 0. 0. 0. 0. 0. 0. 0. 0. 0. 0. 0.\n",
      " 0. 0. 0. 0. 0. 0. 0. 0. 0. 0. 0. 0. 0. 0. 0. 0. 0. 0. 0. 0. 0. 0. 0. 0.\n",
      " 0. 0. 0. 0. 0. 0. 0. 0. 0. 0. 0. 0. 0. 0. 0. 0. 0. 0. 0. 0. 0. 0. 0. 0.\n",
      " 0. 0. 0. 0. 0. 0. 0. 0. 1. 1. 1. 1. 1. 1. 1. 1. 1. 1. 1. 1. 1. 1. 1. 1.\n",
      " 1. 1. 1. 1. 1. 1. 1. 1. 1. 1. 1. 1. 1. 1. 1. 1. 1. 1. 1. 1. 1. 1. 1. 1.\n",
      " 1. 1. 1. 1. 1. 1. 1. 1. 1. 1. 1. 1. 1. 1. 1. 1. 1. 1. 1. 1. 1. 1. 1. 1.\n",
      " 1. 1. 1. 1. 1. 1. 1. 1. 1. 1. 1. 1. 1. 1. 1. 1. 1. 1. 1. 1. 1. 1. 1. 1.\n",
      " 1. 1. 1. 1. 1. 1. 1. 1. 1. 1. 1. 1. 1. 1. 1. 1. 1. 1. 1. 1. 1. 1. 1. 1.\n",
      " 1. 1. 1. 1. 1. 1. 1. 1. 1. 1. 1. 1. 1. 1. 1. 1. 0. 0. 0. 0. 0. 0. 0. 0.\n",
      " 0. 0. 0. 0. 0. 0. 0. 0. 0. 0. 0. 0. 0. 0. 0. 0. 0. 0. 0. 0. 0. 0. 0. 0.\n",
      " 0. 0. 0. 0. 0. 0. 0. 0. 0. 0. 0. 0. 0. 0. 0. 0. 0. 0. 0. 0. 0. 0. 0. 0.\n",
      " 0. 0. 0. 0. 0. 0. 0. 0. 0. 0. 0. 0. 0. 0. 0. 0. 0. 0. 0. 0. 0. 0. 0. 0.\n",
      " 0. 0. 0. 0. 0. 0. 0. 0. 0. 0. 0. 0. 0. 0. 0. 0. 0. 0. 0. 0. 0. 0. 0. 0.\n",
      " 0. 0. 0. 0. 0. 0. 0. 0. 0. 0. 0. 0. 0. 0. 0. 0. 0. 0. 0. 0. 0. 0. 0. 0.\n",
      " 0. 0. 0. 0. 0. 0. 0. 0. 0. 0. 0. 0. 0. 0. 0. 0. 0. 0. 0. 0. 0. 0. 0. 0.\n",
      " 0. 0. 0. 0. 0. 0. 0. 0. 0. 0. 0. 0. 0. 0. 0. 0. 0. 0. 0. 0. 0. 0. 0. 0.\n",
      " 0. 0. 0. 0. 0. 0. 0. 0. 0. 0. 0. 0. 0. 0. 0. 0. 0. 0. 0. 0. 0. 0. 0. 0.\n",
      " 0. 0. 0. 0. 0. 0. 0. 0. 0. 0. 0. 0. 0. 0. 0. 0. 0. 0. 0. 0. 0. 0. 0. 0.\n",
      " 0. 0. 0. 0. 0. 0. 0. 0. 0. 0. 0. 0. 0. 0. 0. 0. 0. 0. 0. 0. 0. 0. 0. 0.\n",
      " 0. 0. 0. 0. 0. 0. 0. 0.]\n",
      "Layer Name: dense_2\n",
      "Weights Shape (Tensor 0): (3200, 16)\n",
      "Weights (Tensor 0):\n",
      "[[ 0.03634197  0.01204712 -0.03743111 ...  0.01920216 -0.02688671\n",
      "  -0.03193419]\n",
      " [ 0.03101978  0.00062356  0.00068123 ...  0.02914288 -0.03606965\n",
      "   0.02194367]\n",
      " [ 0.02453032  0.01902562 -0.00968091 ...  0.00737753  0.01795634\n",
      "   0.0050361 ]\n",
      " ...\n",
      " [ 0.00203266 -0.00352689  0.02514309 ...  0.03830004 -0.01739829\n",
      "  -0.0271867 ]\n",
      " [ 0.00108548 -0.02765211  0.02606503 ... -0.03214138  0.03296101\n",
      "   0.03565093]\n",
      " [-0.03712153 -0.00909517  0.03191487 ... -0.03317384  0.00484315\n",
      "  -0.04146666]]\n",
      "Weights Shape (Tensor 1): (16,)\n",
      "Weights (Tensor 1):\n",
      "[0. 0. 0. 0. 0. 0. 0. 0. 0. 0. 0. 0. 0. 0. 0. 0.]\n",
      "Layer Name: dense_3\n",
      "Weights Shape (Tensor 0): (16, 6)\n",
      "Weights (Tensor 0):\n",
      "[[-0.21326116  0.51400465  0.44098765 -0.30650797 -0.05205813 -0.03208637]\n",
      " [-0.51927    -0.07230312 -0.4730161   0.20896757  0.3973251   0.39364374]\n",
      " [ 0.47347534  0.38010198  0.10956413 -0.13860145  0.29418147 -0.1889512 ]\n",
      " [-0.06983781 -0.3907653   0.06775486  0.23933184  0.19450408 -0.02275297]\n",
      " [-0.22165227  0.31414503  0.05128032  0.17397213 -0.35602736  0.03457183]\n",
      " [-0.33475244  0.03003716  0.2111842  -0.05384898  0.04179627  0.21773827]\n",
      " [ 0.08578318  0.06250417  0.18154985 -0.08146343 -0.4794808  -0.41233853]\n",
      " [ 0.5140818   0.0678252   0.3102653  -0.4368239   0.3072945  -0.42600474]\n",
      " [-0.24803445  0.43363672 -0.32960933 -0.1314587   0.25352597  0.39456284]\n",
      " [-0.45919788 -0.4410773  -0.1934678   0.2931524   0.09387755  0.29626626]\n",
      " [ 0.44551337  0.07459098  0.2385652   0.14084774  0.47653252  0.44512177]\n",
      " [ 0.43191934 -0.45816955 -0.3135541   0.23548359 -0.11805096  0.19721192]\n",
      " [-0.13414437 -0.14611888  0.36130732  0.27982587 -0.4806507   0.12402397]\n",
      " [ 0.50614065 -0.21765003 -0.34537914  0.01445091  0.09650224  0.09667236]\n",
      " [-0.42282787 -0.22437593  0.52101713  0.1376599   0.47057188 -0.24245143]\n",
      " [-0.29329312  0.25710624 -0.2551837   0.064363   -0.50025403 -0.23924717]]\n",
      "Weights Shape (Tensor 1): (6,)\n",
      "Weights (Tensor 1):\n",
      "[0. 0. 0. 0. 0. 0.]\n"
     ]
    }
   ],
   "source": [
    "# Looping untuk mendapatkan bobot dari setiap layer\n",
    "for layer in model.layers:\n",
    "    # Mengecek apakah layer memiliki bobot\n",
    "    if layer.weights:\n",
    "        print(\"Layer Name:\", layer.name)\n",
    "        # Mendapatkan bobot dan bias dari layer\n",
    "        weights = layer.get_weights()\n",
    "        for i, w in enumerate(weights):\n",
    "            print(\"Weights Shape (Tensor {}):\".format(i), w.shape)\n",
    "            print(\"Weights (Tensor {}):\".format(i))\n",
    "            print(w)\n"
   ]
  },
  {
   "cell_type": "markdown",
   "metadata": {},
   "source": [
    "## Train Model"
   ]
  },
  {
   "cell_type": "code",
   "execution_count": 56,
   "metadata": {},
   "outputs": [
    {
     "name": "stdout",
     "output_type": "stream",
     "text": [
      "Epoch 1/20\n",
      "\u001b[1m202/202\u001b[0m \u001b[32m━━━━━━━━━━━━━━━━━━━━\u001b[0m\u001b[37m\u001b[0m \u001b[1m8s\u001b[0m 40ms/step - accuracy: 0.6961 - loss: 0.7927 - val_accuracy: 0.6697 - val_loss: 1.0267\n",
      "Epoch 2/20\n",
      "\u001b[1m202/202\u001b[0m \u001b[32m━━━━━━━━━━━━━━━━━━━━\u001b[0m\u001b[37m\u001b[0m \u001b[1m10s\u001b[0m 48ms/step - accuracy: 0.7046 - loss: 0.7683 - val_accuracy: 0.6815 - val_loss: 1.0650\n",
      "Epoch 3/20\n",
      "\u001b[1m202/202\u001b[0m \u001b[32m━━━━━━━━━━━━━━━━━━━━\u001b[0m\u001b[37m\u001b[0m \u001b[1m9s\u001b[0m 45ms/step - accuracy: 0.7080 - loss: 0.7610 - val_accuracy: 0.6871 - val_loss: 1.1190\n",
      "Epoch 4/20\n",
      "\u001b[1m202/202\u001b[0m \u001b[32m━━━━━━━━━━━━━━━━━━━━\u001b[0m\u001b[37m\u001b[0m \u001b[1m9s\u001b[0m 47ms/step - accuracy: 0.7242 - loss: 0.7245 - val_accuracy: 0.6882 - val_loss: 1.0448\n",
      "Epoch 5/20\n",
      "\u001b[1m202/202\u001b[0m \u001b[32m━━━━━━━━━━━━━━━━━━━━\u001b[0m\u001b[37m\u001b[0m \u001b[1m9s\u001b[0m 46ms/step - accuracy: 0.7265 - loss: 0.7127 - val_accuracy: 0.6836 - val_loss: 1.1733\n",
      "Epoch 6/20\n",
      "\u001b[1m202/202\u001b[0m \u001b[32m━━━━━━━━━━━━━━━━━━━━\u001b[0m\u001b[37m\u001b[0m \u001b[1m10s\u001b[0m 47ms/step - accuracy: 0.7257 - loss: 0.7045 - val_accuracy: 0.6972 - val_loss: 1.1735\n",
      "Epoch 7/20\n",
      "\u001b[1m202/202\u001b[0m \u001b[32m━━━━━━━━━━━━━━━━━━━━\u001b[0m\u001b[37m\u001b[0m \u001b[1m9s\u001b[0m 47ms/step - accuracy: 0.7400 - loss: 0.6794 - val_accuracy: 0.6725 - val_loss: 1.2190\n",
      "Epoch 8/20\n",
      "\u001b[1m202/202\u001b[0m \u001b[32m━━━━━━━━━━━━━━━━━━━━\u001b[0m\u001b[37m\u001b[0m \u001b[1m10s\u001b[0m 47ms/step - accuracy: 0.7400 - loss: 0.6812 - val_accuracy: 0.6993 - val_loss: 1.1928\n",
      "Epoch 9/20\n",
      "\u001b[1m202/202\u001b[0m \u001b[32m━━━━━━━━━━━━━━━━━━━━\u001b[0m\u001b[37m\u001b[0m \u001b[1m10s\u001b[0m 48ms/step - accuracy: 0.7555 - loss: 0.6388 - val_accuracy: 0.7073 - val_loss: 1.2302\n",
      "Epoch 10/20\n",
      "\u001b[1m202/202\u001b[0m \u001b[32m━━━━━━━━━━━━━━━━━━━━\u001b[0m\u001b[37m\u001b[0m \u001b[1m10s\u001b[0m 48ms/step - accuracy: 0.7621 - loss: 0.6173 - val_accuracy: 0.6965 - val_loss: 1.2890\n",
      "Epoch 11/20\n",
      "\u001b[1m202/202\u001b[0m \u001b[32m━━━━━━━━━━━━━━━━━━━━\u001b[0m\u001b[37m\u001b[0m \u001b[1m10s\u001b[0m 48ms/step - accuracy: 0.7720 - loss: 0.5909 - val_accuracy: 0.6983 - val_loss: 1.3738\n",
      "Epoch 12/20\n",
      "\u001b[1m202/202\u001b[0m \u001b[32m━━━━━━━━━━━━━━━━━━━━\u001b[0m\u001b[37m\u001b[0m \u001b[1m10s\u001b[0m 49ms/step - accuracy: 0.7697 - loss: 0.5949 - val_accuracy: 0.6948 - val_loss: 1.3613\n",
      "Epoch 13/20\n",
      "\u001b[1m202/202\u001b[0m \u001b[32m━━━━━━━━━━━━━━━━━━━━\u001b[0m\u001b[37m\u001b[0m \u001b[1m10s\u001b[0m 49ms/step - accuracy: 0.7687 - loss: 0.5892 - val_accuracy: 0.7003 - val_loss: 1.2801\n",
      "Epoch 14/20\n",
      "\u001b[1m202/202\u001b[0m \u001b[32m━━━━━━━━━━━━━━━━━━━━\u001b[0m\u001b[37m\u001b[0m \u001b[1m9s\u001b[0m 46ms/step - accuracy: 0.7736 - loss: 0.5880 - val_accuracy: 0.7007 - val_loss: 1.4375\n",
      "Epoch 15/20\n",
      "\u001b[1m202/202\u001b[0m \u001b[32m━━━━━━━━━━━━━━━━━━━━\u001b[0m\u001b[37m\u001b[0m \u001b[1m10s\u001b[0m 48ms/step - accuracy: 0.7753 - loss: 0.5793 - val_accuracy: 0.6955 - val_loss: 1.4318\n",
      "Epoch 16/20\n",
      "\u001b[1m202/202\u001b[0m \u001b[32m━━━━━━━━━━━━━━━━━━━━\u001b[0m\u001b[37m\u001b[0m \u001b[1m9s\u001b[0m 47ms/step - accuracy: 0.7842 - loss: 0.5414 - val_accuracy: 0.6997 - val_loss: 1.5094\n",
      "Epoch 17/20\n",
      "\u001b[1m202/202\u001b[0m \u001b[32m━━━━━━━━━━━━━━━━━━━━\u001b[0m\u001b[37m\u001b[0m \u001b[1m10s\u001b[0m 48ms/step - accuracy: 0.7914 - loss: 0.5347 - val_accuracy: 0.7070 - val_loss: 1.5275\n",
      "Epoch 18/20\n",
      "\u001b[1m202/202\u001b[0m \u001b[32m━━━━━━━━━━━━━━━━━━━━\u001b[0m\u001b[37m\u001b[0m \u001b[1m10s\u001b[0m 49ms/step - accuracy: 0.7968 - loss: 0.5274 - val_accuracy: 0.7042 - val_loss: 1.5483\n",
      "Epoch 19/20\n",
      "\u001b[1m202/202\u001b[0m \u001b[32m━━━━━━━━━━━━━━━━━━━━\u001b[0m\u001b[37m\u001b[0m \u001b[1m10s\u001b[0m 49ms/step - accuracy: 0.8038 - loss: 0.5063 - val_accuracy: 0.6927 - val_loss: 1.4450\n",
      "Epoch 20/20\n",
      "\u001b[1m202/202\u001b[0m \u001b[32m━━━━━━━━━━━━━━━━━━━━\u001b[0m\u001b[37m\u001b[0m \u001b[1m10s\u001b[0m 49ms/step - accuracy: 0.7889 - loss: 0.5419 - val_accuracy: 0.7038 - val_loss: 1.5184\n"
     ]
    }
   ],
   "source": [
    "from tensorflow.keras.callbacks import EarlyStopping\n",
    "\n",
    "num_epochs = 200\n",
    "\n",
    "early_stopping = EarlyStopping(monitor='val_loss', patience=20, restore_best_weights=True)\n",
    "\n",
    "history = model.fit(\n",
    "    train_padded, \n",
    "    y_train, \n",
    "    batch_size=128, \n",
    "    epochs=num_epochs, \n",
    "    validation_data=(valid_padded, y_valid), \n",
    "    callbacks=[early_stopping]\n",
    ")\n"
   ]
  },
  {
   "cell_type": "code",
   "execution_count": 49,
   "metadata": {},
   "outputs": [
    {
     "data": {
      "image/png": "[encoded data removed]",
      "text/plain": [
       "<Figure size 640x480 with 1 Axes>"
      ]
     },
     "metadata": {},
     "output_type": "display_data"
    }
   ],
   "source": [
    "# Plot the training history\n",
    "def plot_graphs(history, string):\n",
    "  plt.plot(history.history[string])\n",
    "  plt.plot(history.history['val_'+string])\n",
    "  plt.xlabel(\"Epochs\")\n",
    "  plt.ylabel(string)\n",
    "  plt.legend([string, 'val_'+string])\n",
    "  plt.show()\n",
    "\n",
    "plot_graphs(history, \"accuracy\")"
   ]
  },
  {
   "cell_type": "code",
   "execution_count": 50,
   "metadata": {},
   "outputs": [
    {
     "data": {
      "image/png": "[encoded data removed]",
      "text/plain": [
       "<Figure size 640x480 with 1 Axes>"
      ]
     },
     "metadata": {},
     "output_type": "display_data"
    }
   ],
   "source": [
    "# Plot the training history\n",
    "def plot_graphs(history, string):\n",
    "  plt.plot(history.history[string])\n",
    "  plt.plot(history.history['val_'+string])\n",
    "  plt.xlabel(\"Epochs\")\n",
    "  plt.ylabel(string)\n",
    "  plt.legend([string, 'val_'+string])\n",
    "  plt.show()\n",
    "\n",
    "plot_graphs(history, \"loss\")"
   ]
  },
  {
   "cell_type": "code",
   "execution_count": 51,
   "metadata": {},
   "outputs": [
    {
     "name": "stdout",
     "output_type": "stream",
     "text": [
      "\u001b[1m90/90\u001b[0m \u001b[32m━━━━━━━━━━━━━━━━━━━━\u001b[0m\u001b[37m\u001b[0m \u001b[1m1s\u001b[0m 9ms/step - accuracy: 0.6737 - loss: 1.0467\n",
      "Loss:  1.0361554622650146\n",
      "Accuracy:  0.6693379878997803\n",
      "\u001b[1m90/90\u001b[0m \u001b[32m━━━━━━━━━━━━━━━━━━━━\u001b[0m\u001b[37m\u001b[0m \u001b[1m1s\u001b[0m 10ms/step\n",
      "              precision    recall  f1-score   support\n",
      "\n",
      "           0       0.41      0.27      0.33       306\n",
      "           1       0.59      0.78      0.67       577\n",
      "           2       0.68      0.76      0.72       647\n",
      "           3       0.74      0.62      0.67       466\n",
      "           4       0.73      0.76      0.74       492\n",
      "           5       0.84      0.61      0.70       382\n",
      "\n",
      "    accuracy                           0.67      2870\n",
      "   macro avg       0.66      0.63      0.64      2870\n",
      "weighted avg       0.67      0.67      0.66      2870\n",
      "\n"
     ]
    }
   ],
   "source": [
    "#sklearn report\n",
    "from sklearn.metrics import classification_report\n",
    "\n",
    "loss, accuracy = model.evaluate(valid_padded, y_valid)\n",
    "print(\"Loss: \", loss)\n",
    "print(\"Accuracy: \", accuracy)\n",
    "\n",
    "y_pred = model.predict(valid_padded)\n",
    "y_pred = np.argmax(y_pred, axis=1)\n",
    "print(classification_report(y_valid, y_pred))"
   ]
  },
  {
   "cell_type": "code",
   "execution_count": 52,
   "metadata": {},
   "outputs": [
    {
     "data": {
      "image/png": "[encoded data removed]",
      "text/plain": [
       "<Figure size 640x480 with 1 Axes>"
      ]
     },
     "metadata": {},
     "output_type": "display_data"
    }
   ],
   "source": [
    "# create a confusion matrix\n",
    "from sklearn.metrics import confusion_matrix\n",
    "import seaborn as sns\n",
    "\n",
    "# Membuat confusion matrix\n",
    "cm = confusion_matrix(y_valid, y_pred)\n",
    "\n",
    "# Membuat heatmap dari confusion matrix\n",
    "sns.heatmap(cm, annot=True, fmt=\"d\", cmap=\"Blues\", cbar=False, annot_kws={\"size\": 16})\n",
    "plt.xlabel(\"Predicted Label\")\n",
    "plt.ylabel(\"True Label\")\n",
    "plt.title(\"Confusion Matrix\")\n",
    "plt.show()\n"
   ]
  },
  {
   "cell_type": "code",
   "execution_count": 53,
   "metadata": {},
   "outputs": [
    {
     "name": "stdout",
     "output_type": "stream",
     "text": [
      "[[ 83  83  61  18  37  24]\n",
      " [ 31 449  39  22  24  12]\n",
      " [ 29  55 491  40  27   5]\n",
      " [ 20  53  86 289  17   1]\n",
      " [ 17  49  35  11 376   4]\n",
      " [ 21  66  13  12  37 233]]\n"
     ]
    }
   ],
   "source": [
    "print(cm)"
   ]
  },
  {
   "cell_type": "code",
   "execution_count": 57,
   "metadata": {},
   "outputs": [
    {
     "name": "stdout",
     "output_type": "stream",
     "text": [
      "\u001b[1m1/1\u001b[0m \u001b[32m━━━━━━━━━━━━━━━━━━━━\u001b[0m\u001b[37m\u001b[0m \u001b[1m0s\u001b[0m 28ms/step\n",
      "Prediksi: [[7.5330728e-01 1.3623112e-05 9.2772707e-02 1.8175647e-03 1.5208657e-01\n",
      "  2.2597158e-06]]\n",
      "\u001b[1m1/1\u001b[0m \u001b[32m━━━━━━━━━━━━━━━━━━━━\u001b[0m\u001b[37m\u001b[0m \u001b[1m0s\u001b[0m 29ms/step\n",
      "Prediksi: [[7.0096441e-02 2.4294178e-03 3.0391320e-04 6.5124922e-02 7.2540373e-01\n",
      "  1.3664165e-01]]\n",
      "\u001b[1m1/1\u001b[0m \u001b[32m━━━━━━━━━━━━━━━━━━━━\u001b[0m\u001b[37m\u001b[0m \u001b[1m0s\u001b[0m 29ms/step\n",
      "Prediksi: [[2.1164432e-01 1.8081257e-04 1.9937395e-03 7.8543466e-01 7.3636533e-04\n",
      "  1.0069019e-05]]\n",
      "\u001b[1m1/1\u001b[0m \u001b[32m━━━━━━━━━━━━━━━━━━━━\u001b[0m\u001b[37m\u001b[0m \u001b[1m0s\u001b[0m 28ms/step\n",
      "Prediksi: [[5.6527937e-03 3.4378419e-07 2.3157745e-07 1.1302301e-06 9.9433535e-01\n",
      "  1.0144096e-05]]\n",
      "\u001b[1m1/1\u001b[0m \u001b[32m━━━━━━━━━━━━━━━━━━━━\u001b[0m\u001b[37m\u001b[0m \u001b[1m0s\u001b[0m 28ms/step\n",
      "Prediksi: [[1.4044512e-02 1.9301529e-03 2.5532743e-05 4.1136541e-03 2.6747397e-01\n",
      "  7.1241218e-01]]\n"
     ]
    },
    {
     "data": {
      "text/plain": [
       "'Fear'"
      ]
     },
     "execution_count": 57,
     "metadata": {},
     "output_type": "execute_result"
    }
   ],
   "source": [
    "#predict another data input from the model\n",
    "def predict_emotion(text):\n",
    "    # Tokenisasi\n",
    "    text = [text]\n",
    "    sequences = tokenizer.texts_to_sequences(text)\n",
    "    padded = pad_sequences(sequences, maxlen=max_length, truncating=trunc_type, padding=\"post\")\n",
    "    \n",
    "    # Prediksi\n",
    "    pred = model.predict(padded)\n",
    "\n",
    "    print(\"Prediksi:\", pred)\n",
    "    pred = np.argmax(pred, axis=1)\n",
    "    \n",
    "\n",
    "    # Mengembalikan label emosi\n",
    "    if pred == 0:\n",
    "        return \"Neutral\"\n",
    "    elif pred == 1:\n",
    "        return \"Anger\"\n",
    "    elif pred == 2:\n",
    "        return \"Joy\"\n",
    "    elif pred == 3:\n",
    "        return \"Love\"\n",
    "    elif pred == 4:\n",
    "        return \"Sad\"\n",
    "    elif pred == 5:\n",
    "        return \"Fear\"\n",
    "\n",
    "#make 10 senteces twitter in predict emotion\n",
    "predict_emotion(\"saya sangat senang hari ini\")\n",
    "predict_emotion(\"saya sangat marah hari ini\")\n",
    "predict_emotion(\"saya sangat cinta hari ini\")\n",
    "predict_emotion(\"saya sangat sedih hari ini\")\n",
    "predict_emotion(\"saya sangat takut hari ini\")\n"
   ]
  },
  {
   "cell_type": "code",
   "execution_count": 59,
   "metadata": {},
   "outputs": [
    {
     "name": "stderr",
     "output_type": "stream",
     "text": [
      "WARNING:absl:You are saving your model as an HDF5 file via `model.save()` or `keras.saving.save_model(model)`. This file format is considered legacy. We recommend using instead the native Keras format, e.g. `model.save('my_model.keras')` or `keras.saving.save_model(model, 'my_model.keras')`. \n"
     ]
    }
   ],
   "source": [
    "#save model\n",
    "model.save('./model/model-cnn-bilstm.h5')"
   ]
  }
 ],
 "metadata": {
  "kernelspec": {
   "display_name": "Python 3",
   "language": "python",
   "name": "python3"
  },
  "language_info": {
   "codemirror_mode": {
    "name": "ipython",
    "version": 3
   },
   "file_extension": ".py",
   "mimetype": "text/x-python",
   "name": "python",
   "nbconvert_exporter": "python",
   "pygments_lexer": "ipython3",
   "version": "3.11.4"
  }
 },
 "nbformat": 4,
 "nbformat_minor": 2
}
