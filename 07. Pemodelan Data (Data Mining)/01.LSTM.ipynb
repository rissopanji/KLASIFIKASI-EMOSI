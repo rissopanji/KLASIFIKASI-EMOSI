{
 "cells": [
  {
   "cell_type": "code",
   "execution_count": 32,
   "metadata": {},
   "outputs": [],
   "source": [
    "import tensorflow as tf\n",
    "import numpy as np\n",
    "import matplotlib.pyplot as plt\n",
    "import pandas as pd\n",
    "import ast\n",
    "\n",
    "from tensorflow.keras.preprocessing.text import Tokenizer\n",
    "from tensorflow.keras.preprocessing.sequence import pad_sequences"
   ]
  },
  {
   "cell_type": "code",
   "execution_count": 33,
   "metadata": {},
   "outputs": [
    {
     "name": "stdout",
     "output_type": "stream",
     "text": [
      "Tensorflow version: 2.16.1\n"
     ]
    }
   ],
   "source": [
    "print(\"Tensorflow version:\", tf.__version__)"
   ]
  },
  {
   "cell_type": "markdown",
   "metadata": {},
   "source": [
    "## Prepare Dataset"
   ]
  },
  {
   "cell_type": "code",
   "execution_count": 34,
   "metadata": {},
   "outputs": [],
   "source": [
    "train_df_path ='../07. Pemodelan Data (Data Mining)/dataset/Dataset_clean(penelitian).csv'\n"
   ]
  },
  {
   "cell_type": "code",
   "execution_count": 35,
   "metadata": {},
   "outputs": [],
   "source": [
    "train_df = pd.read_csv(train_df_path, sep=',', header=None, usecols=[1,2], skiprows=1)\n",
    "\n",
    "train_df.columns = ['full_text', 'emotion']"
   ]
  },
  {
   "cell_type": "code",
   "execution_count": 36,
   "metadata": {},
   "outputs": [
    {
     "data": {
      "text/html": [
       "<div>\n",
       "<style scoped>\n",
       "    .dataframe tbody tr th:only-of-type {\n",
       "        vertical-align: middle;\n",
       "    }\n",
       "\n",
       "    .dataframe tbody tr th {\n",
       "        vertical-align: top;\n",
       "    }\n",
       "\n",
       "    .dataframe thead th {\n",
       "        text-align: right;\n",
       "    }\n",
       "</style>\n",
       "<table border=\"1\" class=\"dataframe\">\n",
       "  <thead>\n",
       "    <tr style=\"text-align: right;\">\n",
       "      <th></th>\n",
       "      <th>full_text</th>\n",
       "      <th>emotion</th>\n",
       "    </tr>\n",
       "  </thead>\n",
       "  <tbody>\n",
       "    <tr>\n",
       "      <th>0</th>\n",
       "      <td>['pengabdian', 'terpuji', 'meskipun', 'terliha...</td>\n",
       "      <td>Neutral</td>\n",
       "    </tr>\n",
       "    <tr>\n",
       "      <th>1</th>\n",
       "      <td>['baru', 'mengirim', 'foto']</td>\n",
       "      <td>Neutral</td>\n",
       "    </tr>\n",
       "    <tr>\n",
       "      <th>2</th>\n",
       "      <td>['apa', 'kabar', 'dunia', 'twitter', 'masihkah...</td>\n",
       "      <td>Neutral</td>\n",
       "    </tr>\n",
       "    <tr>\n",
       "      <th>3</th>\n",
       "      <td>['yah', 'gimana', 'sih', 'yaudah', 'susul', 's...</td>\n",
       "      <td>Neutral</td>\n",
       "    </tr>\n",
       "    <tr>\n",
       "      <th>4</th>\n",
       "      <td>['ka', 'dorg', 'suro', 'beli', 'medium', 'set'...</td>\n",
       "      <td>Neutral</td>\n",
       "    </tr>\n",
       "    <tr>\n",
       "      <th>5</th>\n",
       "      <td>['ayo', 'cek', 'koleksinya', 'temukan', 'angry...</td>\n",
       "      <td>Neutral</td>\n",
       "    </tr>\n",
       "    <tr>\n",
       "      <th>6</th>\n",
       "      <td>['kalau', 'biasa', 'biasa', 'sudah'           ...</td>\n",
       "      <td>Neutral</td>\n",
       "    </tr>\n",
       "    <tr>\n",
       "      <th>7</th>\n",
       "      <td>['tiap', 'tiap', 'twit', 'tak', 'selalu', 'per...</td>\n",
       "      <td>Neutral</td>\n",
       "    </tr>\n",
       "    <tr>\n",
       "      <th>8</th>\n",
       "      <td>['halo', 'v', 'apa', 'kabar', 'nih'           ...</td>\n",
       "      <td>Neutral</td>\n",
       "    </tr>\n",
       "    <tr>\n",
       "      <th>9</th>\n",
       "      <td>['pagi', 'ruby', 'apa', 'kabar'               ...</td>\n",
       "      <td>Neutral</td>\n",
       "    </tr>\n",
       "  </tbody>\n",
       "</table>\n",
       "</div>"
      ],
      "text/plain": [
       "                                           full_text  emotion\n",
       "0  ['pengabdian', 'terpuji', 'meskipun', 'terliha...  Neutral\n",
       "1                       ['baru', 'mengirim', 'foto']  Neutral\n",
       "2  ['apa', 'kabar', 'dunia', 'twitter', 'masihkah...  Neutral\n",
       "3  ['yah', 'gimana', 'sih', 'yaudah', 'susul', 's...  Neutral\n",
       "4  ['ka', 'dorg', 'suro', 'beli', 'medium', 'set'...  Neutral\n",
       "5  ['ayo', 'cek', 'koleksinya', 'temukan', 'angry...  Neutral\n",
       "6  ['kalau', 'biasa', 'biasa', 'sudah'           ...  Neutral\n",
       "7  ['tiap', 'tiap', 'twit', 'tak', 'selalu', 'per...  Neutral\n",
       "8  ['halo', 'v', 'apa', 'kabar', 'nih'           ...  Neutral\n",
       "9  ['pagi', 'ruby', 'apa', 'kabar'               ...  Neutral"
      ]
     },
     "execution_count": 36,
     "metadata": {},
     "output_type": "execute_result"
    }
   ],
   "source": [
    "train_df.head(10)"
   ]
  },
  {
   "cell_type": "code",
   "execution_count": 37,
   "metadata": {},
   "outputs": [
    {
     "data": {
      "text/html": [
       "<div>\n",
       "<style scoped>\n",
       "    .dataframe tbody tr th:only-of-type {\n",
       "        vertical-align: middle;\n",
       "    }\n",
       "\n",
       "    .dataframe tbody tr th {\n",
       "        vertical-align: top;\n",
       "    }\n",
       "\n",
       "    .dataframe thead th {\n",
       "        text-align: right;\n",
       "    }\n",
       "</style>\n",
       "<table border=\"1\" class=\"dataframe\">\n",
       "  <thead>\n",
       "    <tr style=\"text-align: right;\">\n",
       "      <th></th>\n",
       "      <th>full_text</th>\n",
       "      <th>emotion</th>\n",
       "    </tr>\n",
       "  </thead>\n",
       "  <tbody>\n",
       "    <tr>\n",
       "      <th>0</th>\n",
       "      <td>['pengabdian', 'terpuji', 'meskipun', 'terliha...</td>\n",
       "      <td>Neutral</td>\n",
       "    </tr>\n",
       "    <tr>\n",
       "      <th>1</th>\n",
       "      <td>['baru', 'mengirim', 'foto']</td>\n",
       "      <td>Neutral</td>\n",
       "    </tr>\n",
       "    <tr>\n",
       "      <th>2</th>\n",
       "      <td>['apa', 'kabar', 'dunia', 'twitter', 'masihkah...</td>\n",
       "      <td>Neutral</td>\n",
       "    </tr>\n",
       "    <tr>\n",
       "      <th>3</th>\n",
       "      <td>['yah', 'gimana', 'sih', 'yaudah', 'susul', 's...</td>\n",
       "      <td>Neutral</td>\n",
       "    </tr>\n",
       "    <tr>\n",
       "      <th>4</th>\n",
       "      <td>['ka', 'dorg', 'suro', 'beli', 'medium', 'set'...</td>\n",
       "      <td>Neutral</td>\n",
       "    </tr>\n",
       "    <tr>\n",
       "      <th>5</th>\n",
       "      <td>['ayo', 'cek', 'koleksinya', 'temukan', 'angry...</td>\n",
       "      <td>Neutral</td>\n",
       "    </tr>\n",
       "    <tr>\n",
       "      <th>6</th>\n",
       "      <td>['kalau', 'biasa', 'biasa', 'sudah'           ...</td>\n",
       "      <td>Neutral</td>\n",
       "    </tr>\n",
       "    <tr>\n",
       "      <th>7</th>\n",
       "      <td>['tiap', 'tiap', 'twit', 'tak', 'selalu', 'per...</td>\n",
       "      <td>Neutral</td>\n",
       "    </tr>\n",
       "    <tr>\n",
       "      <th>8</th>\n",
       "      <td>['halo', 'v', 'apa', 'kabar', 'nih'           ...</td>\n",
       "      <td>Neutral</td>\n",
       "    </tr>\n",
       "    <tr>\n",
       "      <th>9</th>\n",
       "      <td>['pagi', 'ruby', 'apa', 'kabar'               ...</td>\n",
       "      <td>Neutral</td>\n",
       "    </tr>\n",
       "  </tbody>\n",
       "</table>\n",
       "</div>"
      ],
      "text/plain": [
       "                                           full_text  emotion\n",
       "0  ['pengabdian', 'terpuji', 'meskipun', 'terliha...  Neutral\n",
       "1                       ['baru', 'mengirim', 'foto']  Neutral\n",
       "2  ['apa', 'kabar', 'dunia', 'twitter', 'masihkah...  Neutral\n",
       "3  ['yah', 'gimana', 'sih', 'yaudah', 'susul', 's...  Neutral\n",
       "4  ['ka', 'dorg', 'suro', 'beli', 'medium', 'set'...  Neutral\n",
       "5  ['ayo', 'cek', 'koleksinya', 'temukan', 'angry...  Neutral\n",
       "6  ['kalau', 'biasa', 'biasa', 'sudah'           ...  Neutral\n",
       "7  ['tiap', 'tiap', 'twit', 'tak', 'selalu', 'per...  Neutral\n",
       "8  ['halo', 'v', 'apa', 'kabar', 'nih'           ...  Neutral\n",
       "9  ['pagi', 'ruby', 'apa', 'kabar'               ...  Neutral"
      ]
     },
     "execution_count": 37,
     "metadata": {},
     "output_type": "execute_result"
    }
   ],
   "source": [
    "train_df.head(10)"
   ]
  },
  {
   "cell_type": "code",
   "execution_count": 38,
   "metadata": {},
   "outputs": [],
   "source": [
    "def get_label_idx(label):\n",
    "    if label == 'Fear':\n",
    "        return 5\n",
    "    if label == 'Sad':\n",
    "        return 4\n",
    "    if label == 'Love':\n",
    "        return 3\n",
    "    if label == 'Joy':\n",
    "        return 2\n",
    "    if label == 'Anger':\n",
    "        return 1\n",
    "    if label == 'Neutral':\n",
    "        return 0\n",
    "train_df['emotion'] = train_df['emotion'].apply(get_label_idx)"
   ]
  },
  {
   "cell_type": "code",
   "execution_count": 39,
   "metadata": {},
   "outputs": [
    {
     "data": {
      "text/html": [
       "<div>\n",
       "<style scoped>\n",
       "    .dataframe tbody tr th:only-of-type {\n",
       "        vertical-align: middle;\n",
       "    }\n",
       "\n",
       "    .dataframe tbody tr th {\n",
       "        vertical-align: top;\n",
       "    }\n",
       "\n",
       "    .dataframe thead th {\n",
       "        text-align: right;\n",
       "    }\n",
       "</style>\n",
       "<table border=\"1\" class=\"dataframe\">\n",
       "  <thead>\n",
       "    <tr style=\"text-align: right;\">\n",
       "      <th></th>\n",
       "      <th>full_text</th>\n",
       "      <th>emotion</th>\n",
       "    </tr>\n",
       "  </thead>\n",
       "  <tbody>\n",
       "    <tr>\n",
       "      <th>0</th>\n",
       "      <td>['pengabdian', 'terpuji', 'meskipun', 'terliha...</td>\n",
       "      <td>0</td>\n",
       "    </tr>\n",
       "    <tr>\n",
       "      <th>1</th>\n",
       "      <td>['baru', 'mengirim', 'foto']</td>\n",
       "      <td>0</td>\n",
       "    </tr>\n",
       "    <tr>\n",
       "      <th>2</th>\n",
       "      <td>['apa', 'kabar', 'dunia', 'twitter', 'masihkah...</td>\n",
       "      <td>0</td>\n",
       "    </tr>\n",
       "    <tr>\n",
       "      <th>3</th>\n",
       "      <td>['yah', 'gimana', 'sih', 'yaudah', 'susul', 's...</td>\n",
       "      <td>0</td>\n",
       "    </tr>\n",
       "    <tr>\n",
       "      <th>4</th>\n",
       "      <td>['ka', 'dorg', 'suro', 'beli', 'medium', 'set'...</td>\n",
       "      <td>0</td>\n",
       "    </tr>\n",
       "    <tr>\n",
       "      <th>...</th>\n",
       "      <td>...</td>\n",
       "      <td>...</td>\n",
       "    </tr>\n",
       "    <tr>\n",
       "      <th>28695</th>\n",
       "      <td>['ingin', 'sangat', 'nih', 'daerah', 'jakarta'...</td>\n",
       "      <td>0</td>\n",
       "    </tr>\n",
       "    <tr>\n",
       "      <th>28696</th>\n",
       "      <td>['selamat', 'hari', 'raya', 'tri', 'suci', 'wa...</td>\n",
       "      <td>2</td>\n",
       "    </tr>\n",
       "    <tr>\n",
       "      <th>28697</th>\n",
       "      <td>['kandungan', 'serat', 'passion', 'fruit', 'ma...</td>\n",
       "      <td>3</td>\n",
       "    </tr>\n",
       "    <tr>\n",
       "      <th>28698</th>\n",
       "      <td>['selamat', 'memperingati', 'hari', 'kebangkit...</td>\n",
       "      <td>2</td>\n",
       "    </tr>\n",
       "    <tr>\n",
       "      <th>28699</th>\n",
       "      <td>['olive', 'oil', 'digunakan', 'mengobati', 'ku...</td>\n",
       "      <td>3</td>\n",
       "    </tr>\n",
       "  </tbody>\n",
       "</table>\n",
       "<p>28700 rows × 2 columns</p>\n",
       "</div>"
      ],
      "text/plain": [
       "                                               full_text  emotion\n",
       "0      ['pengabdian', 'terpuji', 'meskipun', 'terliha...        0\n",
       "1                           ['baru', 'mengirim', 'foto']        0\n",
       "2      ['apa', 'kabar', 'dunia', 'twitter', 'masihkah...        0\n",
       "3      ['yah', 'gimana', 'sih', 'yaudah', 'susul', 's...        0\n",
       "4      ['ka', 'dorg', 'suro', 'beli', 'medium', 'set'...        0\n",
       "...                                                  ...      ...\n",
       "28695  ['ingin', 'sangat', 'nih', 'daerah', 'jakarta'...        0\n",
       "28696  ['selamat', 'hari', 'raya', 'tri', 'suci', 'wa...        2\n",
       "28697  ['kandungan', 'serat', 'passion', 'fruit', 'ma...        3\n",
       "28698  ['selamat', 'memperingati', 'hari', 'kebangkit...        2\n",
       "28699  ['olive', 'oil', 'digunakan', 'mengobati', 'ku...        3\n",
       "\n",
       "[28700 rows x 2 columns]"
      ]
     },
     "execution_count": 39,
     "metadata": {},
     "output_type": "execute_result"
    }
   ],
   "source": [
    "train_df"
   ]
  },
  {
   "cell_type": "code",
   "execution_count": 40,
   "metadata": {},
   "outputs": [
    {
     "data": {
      "text/html": [
       "<div>\n",
       "<style scoped>\n",
       "    .dataframe tbody tr th:only-of-type {\n",
       "        vertical-align: middle;\n",
       "    }\n",
       "\n",
       "    .dataframe tbody tr th {\n",
       "        vertical-align: top;\n",
       "    }\n",
       "\n",
       "    .dataframe thead th {\n",
       "        text-align: right;\n",
       "    }\n",
       "</style>\n",
       "<table border=\"1\" class=\"dataframe\">\n",
       "  <thead>\n",
       "    <tr style=\"text-align: right;\">\n",
       "      <th></th>\n",
       "      <th>full_text</th>\n",
       "      <th>emotion</th>\n",
       "    </tr>\n",
       "  </thead>\n",
       "  <tbody>\n",
       "    <tr>\n",
       "      <th>0</th>\n",
       "      <td>pengabdian terpuji meskipun terlihat biasa</td>\n",
       "      <td>0</td>\n",
       "    </tr>\n",
       "    <tr>\n",
       "      <th>1</th>\n",
       "      <td>baru mengirim foto</td>\n",
       "      <td>0</td>\n",
       "    </tr>\n",
       "    <tr>\n",
       "      <th>2</th>\n",
       "      <td>apa kabar dunia twitter masihkah selucu seabsu...</td>\n",
       "      <td>0</td>\n",
       "    </tr>\n",
       "    <tr>\n",
       "      <th>3</th>\n",
       "      <td>yah gimana sih yaudah susul sebelumnya sarapan...</td>\n",
       "      <td>0</td>\n",
       "    </tr>\n",
       "    <tr>\n",
       "      <th>4</th>\n",
       "      <td>ka dorg suro beli medium set</td>\n",
       "      <td>0</td>\n",
       "    </tr>\n",
       "    <tr>\n",
       "      <th>...</th>\n",
       "      <td>...</td>\n",
       "      <td>...</td>\n",
       "    </tr>\n",
       "    <tr>\n",
       "      <th>28695</th>\n",
       "      <td>ingin sangat nih daerah jakarta barat tidak si</td>\n",
       "      <td>0</td>\n",
       "    </tr>\n",
       "    <tr>\n",
       "      <th>28696</th>\n",
       "      <td>selamat hari raya tri suci waisak seluruh umat...</td>\n",
       "      <td>2</td>\n",
       "    </tr>\n",
       "    <tr>\n",
       "      <th>28697</th>\n",
       "      <td>kandungan serat passion fruit markisa berfungs...</td>\n",
       "      <td>3</td>\n",
       "    </tr>\n",
       "    <tr>\n",
       "      <th>28698</th>\n",
       "      <td>selamat memperingati hari kebangkitan nasional...</td>\n",
       "      <td>2</td>\n",
       "    </tr>\n",
       "    <tr>\n",
       "      <th>28699</th>\n",
       "      <td>olive oil digunakan mengobati kulit ruam kemer...</td>\n",
       "      <td>3</td>\n",
       "    </tr>\n",
       "  </tbody>\n",
       "</table>\n",
       "<p>28700 rows × 2 columns</p>\n",
       "</div>"
      ],
      "text/plain": [
       "                                               full_text  emotion\n",
       "0             pengabdian terpuji meskipun terlihat biasa        0\n",
       "1                                     baru mengirim foto        0\n",
       "2      apa kabar dunia twitter masihkah selucu seabsu...        0\n",
       "3      yah gimana sih yaudah susul sebelumnya sarapan...        0\n",
       "4                           ka dorg suro beli medium set        0\n",
       "...                                                  ...      ...\n",
       "28695     ingin sangat nih daerah jakarta barat tidak si        0\n",
       "28696  selamat hari raya tri suci waisak seluruh umat...        2\n",
       "28697  kandungan serat passion fruit markisa berfungs...        3\n",
       "28698  selamat memperingati hari kebangkitan nasional...        2\n",
       "28699  olive oil digunakan mengobati kulit ruam kemer...        3\n",
       "\n",
       "[28700 rows x 2 columns]"
      ]
     },
     "execution_count": 40,
     "metadata": {},
     "output_type": "execute_result"
    }
   ],
   "source": [
    "# Define the function to join the list of tokens as a single document string\n",
    "def join_text_list(texts):\n",
    "    try:\n",
    "        texts = ast.literal_eval(texts)\n",
    "        return ' '.join([text for text in texts])\n",
    "    except (ValueError, SyntaxError):\n",
    "        return None  # or return an empty string if you prefer\n",
    "\n",
    "# Apply the function to the 'full_text' column\n",
    "train_df[\"full_text\"] = train_df[\"full_text\"].apply(join_text_list)\n",
    "\n",
    "# Display the first few rows of the preprocessed column\n",
    "train_df"
   ]
  },
  {
   "cell_type": "code",
   "execution_count": 41,
   "metadata": {},
   "outputs": [
    {
     "name": "stdout",
     "output_type": "stream",
     "text": [
      "Jumlah Netral:  3550\n",
      "Jumlah Marah:  5757\n",
      "Jumlah Senang:  6638\n",
      "Jumlah Cinta:  4411\n",
      "Jumlah Sedih:  4857\n",
      "Jumlah Takut:  3487\n"
     ]
    }
   ],
   "source": [
    "jumlah_netral = len(train_df[train_df['emotion'] == 0])\n",
    "jumlah_marah = len(train_df[train_df['emotion'] == 1])\n",
    "jumlah_senang = len(train_df[train_df['emotion'] == 2])\n",
    "jumlah_cinta = len(train_df[train_df['emotion'] == 3])\n",
    "jumlah_sedih = len(train_df[train_df['emotion'] == 4])\n",
    "jumlah_takut = len(train_df[train_df['emotion'] == 5])\n",
    "\n",
    "print(\"Jumlah Netral: \", jumlah_netral)\n",
    "print(\"Jumlah Marah: \", jumlah_marah)\n",
    "print(\"Jumlah Senang: \", jumlah_senang)\n",
    "print(\"Jumlah Cinta: \", jumlah_cinta)\n",
    "print(\"Jumlah Sedih: \", jumlah_sedih)\n",
    "print(\"Jumlah Takut: \", jumlah_takut)"
   ]
  },
  {
   "cell_type": "code",
   "execution_count": 42,
   "metadata": {},
   "outputs": [],
   "source": [
    "# Split dataset menjadi fitur (X) dan label (y)\n",
    "X_train = train_df['full_text']\n",
    "y_train = train_df['emotion']\n"
   ]
  },
  {
   "cell_type": "code",
   "execution_count": 43,
   "metadata": {},
   "outputs": [],
   "source": [
    "##split dataset\n",
    "from sklearn.model_selection import train_test_split\n",
    "\n",
    "X_train, X_valid, y_train, y_valid = train_test_split(X_train, y_train, test_size=0.1, random_state=42)"
   ]
  },
  {
   "cell_type": "code",
   "execution_count": 44,
   "metadata": {},
   "outputs": [
    {
     "data": {
      "text/plain": [
       "((25830,), (2870,), (25830,), (2870,))"
      ]
     },
     "execution_count": 44,
     "metadata": {},
     "output_type": "execute_result"
    }
   ],
   "source": [
    "X_train.shape, X_valid.shape, y_train.shape, y_valid.shape"
   ]
  },
  {
   "cell_type": "markdown",
   "metadata": {},
   "source": [
    "## Generate Padded Sequence"
   ]
  },
  {
   "cell_type": "code",
   "execution_count": 45,
   "metadata": {},
   "outputs": [],
   "source": [
    "# Parameters\n",
    "\n",
    "vocab_size = 60000 #ukuran kosakata yang akan digunakan\n",
    "max_length = 50 #panjang maksimal dari sebuah kalimat\n",
    "embedding_dim = 8 #dimensi vektor embedding yang akan digunakan\n",
    "trunc_type='post' #jika panjang kalimat melebihi max_length, potong bagian belakang kalimat\n",
    "oov_tok = \"<OOV>\" #OOV (Out Of Vocabulary) token, jika suatu kata tidak ditemukan dalam kosakata"
   ]
  },
  {
   "cell_type": "code",
   "execution_count": 46,
   "metadata": {},
   "outputs": [],
   "source": [
    "from tensorflow.keras.preprocessing.text import Tokenizer\n",
    "from tensorflow.keras.preprocessing.sequence import pad_sequences\n",
    "import pandas as pd\n",
    "import re\n",
    "\n",
    "# Define the \"all_texts\" variable\n",
    "X_train = [str(text) for text in X_train]\n",
    "X_valid = [str(text) for text in X_valid]\n",
    "\n",
    "# Tokenisasi\n",
    "tokenizer = Tokenizer(num_words=vocab_size, oov_token=oov_tok)\n",
    "\n",
    "# Gabungkan semua teks untuk membuat kamus indeks kata\n",
    "all_texts = list(X_train) + list(X_valid)\n",
    "\n",
    "# Membuat kamus indeks kata\n",
    "tokenizer.fit_on_texts(all_texts)\n",
    "word_index = tokenizer.word_index\n",
    "word_index\n",
    "\n",
    "\n",
    "# Konversi kalimat menjadi urutan kata\n",
    "train_sequences = tokenizer.texts_to_sequences(X_train)\n",
    "train_padded = pad_sequences(train_sequences, maxlen=max_length, truncating=trunc_type, padding=\"post\")\n",
    "\n",
    "valid_sequences = tokenizer.texts_to_sequences(X_valid)\n",
    "valid_padded = pad_sequences(valid_sequences, maxlen=max_length, truncating=trunc_type, padding=\"post\")\n",
    "\n",
    "\n"
   ]
  },
  {
   "cell_type": "markdown",
   "metadata": {},
   "source": [
    "### kamus data untuk api Training"
   ]
  },
  {
   "cell_type": "code",
   "execution_count": 47,
   "metadata": {},
   "outputs": [],
   "source": [
    "# import pickle\n",
    "\n",
    "# Simpan tokenizer ke dalam file\n",
    "# with open('tokenizer-2classes-no-stemming.pickle', 'wb') as handle:\n",
    "#     pickle.dump(tokenizer, handle, protocol=pickle.HIGHEST_PROTOCOL)\n"
   ]
  },
  {
   "cell_type": "code",
   "execution_count": 48,
   "metadata": {},
   "outputs": [
    {
     "name": "stdout",
     "output_type": "stream",
     "text": [
      "[   79 22710     0     0     0     0     0     0     0     0     0     0\n",
      "     0     0     0     0     0     0     0     0     0     0     0     0\n",
      "     0     0     0     0     0     0     0     0     0     0     0     0\n",
      "     0     0     0     0     0     0     0     0     0     0     0     0\n",
      "     0     0]\n"
     ]
    }
   ],
   "source": [
    "print(train_padded[0])"
   ]
  },
  {
   "cell_type": "markdown",
   "metadata": {},
   "source": [
    "## Word Embedding"
   ]
  },
  {
   "cell_type": "code",
   "execution_count": 49,
   "metadata": {},
   "outputs": [],
   "source": [
    "from gensim.models import Word2Vec\n",
    "\n",
    "# Gabungkan data pelatihan dan validasi\n",
    "sentences = [sentence.split() for sentence in X_train] + [sentence.split() for sentence in X_valid]\n",
    "\n",
    "# Latih model Word2Vec\n",
    "w2v_model = Word2Vec(sentences, vector_size=8, window=5, min_count=1, workers=4)"
   ]
  },
  {
   "cell_type": "code",
   "execution_count": 50,
   "metadata": {},
   "outputs": [],
   "source": [
    "# Create a weight matrix for the embedding layer\n",
    "embedding_matrix = np.zeros((vocab_size, 8))\n",
    "for word, i in tokenizer.word_index.items():\n",
    "    if word in w2v_model.wv:\n",
    "        embedding_matrix[i] = w2v_model.wv[word]\n",
    "        "
   ]
  },
  {
   "cell_type": "code",
   "execution_count": 51,
   "metadata": {},
   "outputs": [
    {
     "data": {
      "text/plain": [
       "array([[ 0.        ,  0.        ,  0.        , ...,  0.        ,\n",
       "         0.        ,  0.        ],\n",
       "       [ 0.        ,  0.        ,  0.        , ...,  0.        ,\n",
       "         0.        ,  0.        ],\n",
       "       [-3.91303515, -1.5313915 ,  2.74059176, ...,  2.45767045,\n",
       "         4.96845627, -3.13814282],\n",
       "       ...,\n",
       "       [ 0.        ,  0.        ,  0.        , ...,  0.        ,\n",
       "         0.        ,  0.        ],\n",
       "       [ 0.        ,  0.        ,  0.        , ...,  0.        ,\n",
       "         0.        ,  0.        ],\n",
       "       [ 0.        ,  0.        ,  0.        , ...,  0.        ,\n",
       "         0.        ,  0.        ]])"
      ]
     },
     "execution_count": 51,
     "metadata": {},
     "output_type": "execute_result"
    }
   ],
   "source": [
    "embedding_matrix"
   ]
  },
  {
   "cell_type": "code",
   "execution_count": 52,
   "metadata": {},
   "outputs": [
    {
     "name": "stdout",
     "output_type": "stream",
     "text": [
      "('in', array([-3.03574657, -1.63569915,  1.81985211,  0.62187904,  2.02201104,\n",
      "       -0.34337676,  3.30054736,  0.19971138]))\n"
     ]
    }
   ],
   "source": [
    "# Mencari kata berdasarkan vektor tertentu\n",
    "def find_word_by_vector(embedding_matrix, vector):\n",
    "    for word, index in word_index.items():\n",
    "        if np.array_equal(embedding_matrix[index], vector):\n",
    "            return word, embedding_matrix[index]\n",
    "    return None\n",
    "\n",
    "# Contoh: Mencari kata untuk vektor embedding_matrix[3]\n",
    "word = find_word_by_vector(embedding_matrix, embedding_matrix[345])\n",
    "print(word)"
   ]
  },
  {
   "cell_type": "markdown",
   "metadata": {},
   "source": [
    "## Build and Compile Model"
   ]
  },
  {
   "cell_type": "code",
   "execution_count": 53,
   "metadata": {},
   "outputs": [
    {
     "name": "stderr",
     "output_type": "stream",
     "text": [
      "c:\\Users\\TEMP\\miniconda3\\envs\\skripsi\\Lib\\site-packages\\keras\\src\\layers\\core\\embedding.py:93: UserWarning: Do not pass an `input_shape`/`input_dim` argument to a layer. When using Sequential models, prefer using an `Input(shape)` object as the first layer in the model instead.\n",
      "  super().__init__(**kwargs)\n"
     ]
    },
    {
     "data": {
      "text/html": [
       "<pre style=\"white-space:pre;overflow-x:auto;line-height:normal;font-family:Menlo,'DejaVu Sans Mono',consolas,'Courier New',monospace\"><span style=\"font-weight: bold\">Model: \"sequential_1\"</span>\n",
       "</pre>\n"
      ],
      "text/plain": [
       "\u001b[1mModel: \"sequential_1\"\u001b[0m\n"
      ]
     },
     "metadata": {},
     "output_type": "display_data"
    },
    {
     "data": {
      "text/html": [
       "<pre style=\"white-space:pre;overflow-x:auto;line-height:normal;font-family:Menlo,'DejaVu Sans Mono',consolas,'Courier New',monospace\">┏━━━━━━━━━━━━━━━━━━━━━━━━━━━━━━━━━┳━━━━━━━━━━━━━━━━━━━━━━━━┳━━━━━━━━━━━━━━━┓\n",
       "┃<span style=\"font-weight: bold\"> Layer (type)                    </span>┃<span style=\"font-weight: bold\"> Output Shape           </span>┃<span style=\"font-weight: bold\">       Param # </span>┃\n",
       "┡━━━━━━━━━━━━━━━━━━━━━━━━━━━━━━━━━╇━━━━━━━━━━━━━━━━━━━━━━━━╇━━━━━━━━━━━━━━━┩\n",
       "│ embedding_1 (<span style=\"color: #0087ff; text-decoration-color: #0087ff\">Embedding</span>)         │ (<span style=\"color: #00d7ff; text-decoration-color: #00d7ff\">None</span>, <span style=\"color: #00af00; text-decoration-color: #00af00\">50</span>, <span style=\"color: #00af00; text-decoration-color: #00af00\">8</span>)          │       <span style=\"color: #00af00; text-decoration-color: #00af00\">480,000</span> │\n",
       "├─────────────────────────────────┼────────────────────────┼───────────────┤\n",
       "│ lstm_1 (<span style=\"color: #0087ff; text-decoration-color: #0087ff\">LSTM</span>)                   │ (<span style=\"color: #00d7ff; text-decoration-color: #00d7ff\">None</span>, <span style=\"color: #00af00; text-decoration-color: #00af00\">50</span>, <span style=\"color: #00af00; text-decoration-color: #00af00\">128</span>)        │        <span style=\"color: #00af00; text-decoration-color: #00af00\">70,144</span> │\n",
       "├─────────────────────────────────┼────────────────────────┼───────────────┤\n",
       "│ flatten_1 (<span style=\"color: #0087ff; text-decoration-color: #0087ff\">Flatten</span>)             │ (<span style=\"color: #00d7ff; text-decoration-color: #00d7ff\">None</span>, <span style=\"color: #00af00; text-decoration-color: #00af00\">6400</span>)           │             <span style=\"color: #00af00; text-decoration-color: #00af00\">0</span> │\n",
       "├─────────────────────────────────┼────────────────────────┼───────────────┤\n",
       "│ dense_2 (<span style=\"color: #0087ff; text-decoration-color: #0087ff\">Dense</span>)                 │ (<span style=\"color: #00d7ff; text-decoration-color: #00d7ff\">None</span>, <span style=\"color: #00af00; text-decoration-color: #00af00\">64</span>)             │       <span style=\"color: #00af00; text-decoration-color: #00af00\">409,664</span> │\n",
       "├─────────────────────────────────┼────────────────────────┼───────────────┤\n",
       "│ dropout_1 (<span style=\"color: #0087ff; text-decoration-color: #0087ff\">Dropout</span>)             │ (<span style=\"color: #00d7ff; text-decoration-color: #00d7ff\">None</span>, <span style=\"color: #00af00; text-decoration-color: #00af00\">64</span>)             │             <span style=\"color: #00af00; text-decoration-color: #00af00\">0</span> │\n",
       "├─────────────────────────────────┼────────────────────────┼───────────────┤\n",
       "│ dense_3 (<span style=\"color: #0087ff; text-decoration-color: #0087ff\">Dense</span>)                 │ (<span style=\"color: #00d7ff; text-decoration-color: #00d7ff\">None</span>, <span style=\"color: #00af00; text-decoration-color: #00af00\">6</span>)              │           <span style=\"color: #00af00; text-decoration-color: #00af00\">390</span> │\n",
       "└─────────────────────────────────┴────────────────────────┴───────────────┘\n",
       "</pre>\n"
      ],
      "text/plain": [
       "┏━━━━━━━━━━━━━━━━━━━━━━━━━━━━━━━━━┳━━━━━━━━━━━━━━━━━━━━━━━━┳━━━━━━━━━━━━━━━┓\n",
       "┃\u001b[1m \u001b[0m\u001b[1mLayer (type)                   \u001b[0m\u001b[1m \u001b[0m┃\u001b[1m \u001b[0m\u001b[1mOutput Shape          \u001b[0m\u001b[1m \u001b[0m┃\u001b[1m \u001b[0m\u001b[1m      Param #\u001b[0m\u001b[1m \u001b[0m┃\n",
       "┡━━━━━━━━━━━━━━━━━━━━━━━━━━━━━━━━━╇━━━━━━━━━━━━━━━━━━━━━━━━╇━━━━━━━━━━━━━━━┩\n",
       "│ embedding_1 (\u001b[38;5;33mEmbedding\u001b[0m)         │ (\u001b[38;5;45mNone\u001b[0m, \u001b[38;5;34m50\u001b[0m, \u001b[38;5;34m8\u001b[0m)          │       \u001b[38;5;34m480,000\u001b[0m │\n",
       "├─────────────────────────────────┼────────────────────────┼───────────────┤\n",
       "│ lstm_1 (\u001b[38;5;33mLSTM\u001b[0m)                   │ (\u001b[38;5;45mNone\u001b[0m, \u001b[38;5;34m50\u001b[0m, \u001b[38;5;34m128\u001b[0m)        │        \u001b[38;5;34m70,144\u001b[0m │\n",
       "├─────────────────────────────────┼────────────────────────┼───────────────┤\n",
       "│ flatten_1 (\u001b[38;5;33mFlatten\u001b[0m)             │ (\u001b[38;5;45mNone\u001b[0m, \u001b[38;5;34m6400\u001b[0m)           │             \u001b[38;5;34m0\u001b[0m │\n",
       "├─────────────────────────────────┼────────────────────────┼───────────────┤\n",
       "│ dense_2 (\u001b[38;5;33mDense\u001b[0m)                 │ (\u001b[38;5;45mNone\u001b[0m, \u001b[38;5;34m64\u001b[0m)             │       \u001b[38;5;34m409,664\u001b[0m │\n",
       "├─────────────────────────────────┼────────────────────────┼───────────────┤\n",
       "│ dropout_1 (\u001b[38;5;33mDropout\u001b[0m)             │ (\u001b[38;5;45mNone\u001b[0m, \u001b[38;5;34m64\u001b[0m)             │             \u001b[38;5;34m0\u001b[0m │\n",
       "├─────────────────────────────────┼────────────────────────┼───────────────┤\n",
       "│ dense_3 (\u001b[38;5;33mDense\u001b[0m)                 │ (\u001b[38;5;45mNone\u001b[0m, \u001b[38;5;34m6\u001b[0m)              │           \u001b[38;5;34m390\u001b[0m │\n",
       "└─────────────────────────────────┴────────────────────────┴───────────────┘\n"
      ]
     },
     "metadata": {},
     "output_type": "display_data"
    },
    {
     "data": {
      "text/html": [
       "<pre style=\"white-space:pre;overflow-x:auto;line-height:normal;font-family:Menlo,'DejaVu Sans Mono',consolas,'Courier New',monospace\"><span style=\"font-weight: bold\"> Total params: </span><span style=\"color: #00af00; text-decoration-color: #00af00\">960,198</span> (3.66 MB)\n",
       "</pre>\n"
      ],
      "text/plain": [
       "\u001b[1m Total params: \u001b[0m\u001b[38;5;34m960,198\u001b[0m (3.66 MB)\n"
      ]
     },
     "metadata": {},
     "output_type": "display_data"
    },
    {
     "data": {
      "text/html": [
       "<pre style=\"white-space:pre;overflow-x:auto;line-height:normal;font-family:Menlo,'DejaVu Sans Mono',consolas,'Courier New',monospace\"><span style=\"font-weight: bold\"> Trainable params: </span><span style=\"color: #00af00; text-decoration-color: #00af00\">480,198</span> (1.83 MB)\n",
       "</pre>\n"
      ],
      "text/plain": [
       "\u001b[1m Trainable params: \u001b[0m\u001b[38;5;34m480,198\u001b[0m (1.83 MB)\n"
      ]
     },
     "metadata": {},
     "output_type": "display_data"
    },
    {
     "data": {
      "text/html": [
       "<pre style=\"white-space:pre;overflow-x:auto;line-height:normal;font-family:Menlo,'DejaVu Sans Mono',consolas,'Courier New',monospace\"><span style=\"font-weight: bold\"> Non-trainable params: </span><span style=\"color: #00af00; text-decoration-color: #00af00\">480,000</span> (1.83 MB)\n",
       "</pre>\n"
      ],
      "text/plain": [
       "\u001b[1m Non-trainable params: \u001b[0m\u001b[38;5;34m480,000\u001b[0m (1.83 MB)\n"
      ]
     },
     "metadata": {},
     "output_type": "display_data"
    }
   ],
   "source": [
    "# convert to bi-lstm model\n",
    "model = tf.keras.Sequential([\n",
    "    tf.keras.layers.Embedding(vocab_size, 8, embeddings_initializer=tf.keras.initializers.Constant(embedding_matrix), \n",
    "              input_shape=(max_length,), trainable=False),\n",
    "    tf.keras.layers.LSTM(128, return_sequences=True),\n",
    "    tf.keras.layers.Flatten(),\n",
    "    tf.keras.layers.Dense(64, activation='relu'),\n",
    "    tf.keras.layers.Dropout(0.5),\n",
    "    tf.keras.layers.Dense(6, activation='softmax')\n",
    "])\n",
    "\n",
    "model.compile(loss='sparse_categorical_crossentropy',optimizer='adam',metrics=['accuracy'])\n",
    "\n",
    "model.summary()"
   ]
  },
  {
   "cell_type": "code",
   "execution_count": 54,
   "metadata": {},
   "outputs": [
    {
     "name": "stdout",
     "output_type": "stream",
     "text": [
      "Layer Name: embedding_1\n",
      "Weights Shape (Tensor 0): (60000, 8)\n",
      "Weights (Tensor 0):\n",
      "[[ 0.         0.         0.        ...  0.         0.         0.       ]\n",
      " [ 0.         0.         0.        ...  0.         0.         0.       ]\n",
      " [-3.9130352 -1.5313915  2.7405918 ...  2.4576705  4.9684563 -3.1381428]\n",
      " ...\n",
      " [ 0.         0.         0.        ...  0.         0.         0.       ]\n",
      " [ 0.         0.         0.        ...  0.         0.         0.       ]\n",
      " [ 0.         0.         0.        ...  0.         0.         0.       ]]\n",
      "Layer Name: lstm_1\n",
      "Weights Shape (Tensor 0): (8, 512)\n",
      "Weights (Tensor 0):\n",
      "[[-0.05032888  0.01145301  0.04279088 ... -0.07335576  0.05245811\n",
      "   0.10551462]\n",
      " [-0.04207531  0.09224758  0.06969418 ... -0.05081427 -0.03512292\n",
      "  -0.04648045]\n",
      " [-0.06603901 -0.06114991 -0.04162731 ...  0.02828772 -0.02079802\n",
      "  -0.02964117]\n",
      " ...\n",
      " [-0.00304437  0.0451792   0.06880692 ... -0.07183011 -0.01911504\n",
      "  -0.02141843]\n",
      " [ 0.09926365  0.106219    0.0592621  ...  0.08053545  0.028599\n",
      "   0.01931541]\n",
      " [ 0.05540443 -0.0151644  -0.08300151 ... -0.02083249  0.09595776\n",
      "  -0.00686724]]\n",
      "Weights Shape (Tensor 1): (128, 512)\n",
      "Weights (Tensor 1):\n",
      "[[ 0.03991771  0.04262528 -0.02331586 ...  0.00408888 -0.04816163\n",
      "   0.05482637]\n",
      " [ 0.0116064   0.01457167  0.03026092 ...  0.01995394 -0.05388904\n",
      "  -0.01866798]\n",
      " [-0.07266881  0.04797724 -0.06194973 ... -0.11505567 -0.06440385\n",
      "  -0.02656582]\n",
      " ...\n",
      " [ 0.02689404  0.0042328   0.01612569 ... -0.04833598 -0.01560411\n",
      "   0.01253553]\n",
      " [-0.01107245 -0.00442896 -0.07227217 ...  0.0299447   0.03386919\n",
      "   0.01166533]\n",
      " [-0.06892011 -0.05852202  0.00423601 ... -0.00098684  0.02247378\n",
      "  -0.00124303]]\n",
      "Weights Shape (Tensor 2): (512,)\n",
      "Weights (Tensor 2):\n",
      "[0. 0. 0. 0. 0. 0. 0. 0. 0. 0. 0. 0. 0. 0. 0. 0. 0. 0. 0. 0. 0. 0. 0. 0.\n",
      " 0. 0. 0. 0. 0. 0. 0. 0. 0. 0. 0. 0. 0. 0. 0. 0. 0. 0. 0. 0. 0. 0. 0. 0.\n",
      " 0. 0. 0. 0. 0. 0. 0. 0. 0. 0. 0. 0. 0. 0. 0. 0. 0. 0. 0. 0. 0. 0. 0. 0.\n",
      " 0. 0. 0. 0. 0. 0. 0. 0. 0. 0. 0. 0. 0. 0. 0. 0. 0. 0. 0. 0. 0. 0. 0. 0.\n",
      " 0. 0. 0. 0. 0. 0. 0. 0. 0. 0. 0. 0. 0. 0. 0. 0. 0. 0. 0. 0. 0. 0. 0. 0.\n",
      " 0. 0. 0. 0. 0. 0. 0. 0. 1. 1. 1. 1. 1. 1. 1. 1. 1. 1. 1. 1. 1. 1. 1. 1.\n",
      " 1. 1. 1. 1. 1. 1. 1. 1. 1. 1. 1. 1. 1. 1. 1. 1. 1. 1. 1. 1. 1. 1. 1. 1.\n",
      " 1. 1. 1. 1. 1. 1. 1. 1. 1. 1. 1. 1. 1. 1. 1. 1. 1. 1. 1. 1. 1. 1. 1. 1.\n",
      " 1. 1. 1. 1. 1. 1. 1. 1. 1. 1. 1. 1. 1. 1. 1. 1. 1. 1. 1. 1. 1. 1. 1. 1.\n",
      " 1. 1. 1. 1. 1. 1. 1. 1. 1. 1. 1. 1. 1. 1. 1. 1. 1. 1. 1. 1. 1. 1. 1. 1.\n",
      " 1. 1. 1. 1. 1. 1. 1. 1. 1. 1. 1. 1. 1. 1. 1. 1. 0. 0. 0. 0. 0. 0. 0. 0.\n",
      " 0. 0. 0. 0. 0. 0. 0. 0. 0. 0. 0. 0. 0. 0. 0. 0. 0. 0. 0. 0. 0. 0. 0. 0.\n",
      " 0. 0. 0. 0. 0. 0. 0. 0. 0. 0. 0. 0. 0. 0. 0. 0. 0. 0. 0. 0. 0. 0. 0. 0.\n",
      " 0. 0. 0. 0. 0. 0. 0. 0. 0. 0. 0. 0. 0. 0. 0. 0. 0. 0. 0. 0. 0. 0. 0. 0.\n",
      " 0. 0. 0. 0. 0. 0. 0. 0. 0. 0. 0. 0. 0. 0. 0. 0. 0. 0. 0. 0. 0. 0. 0. 0.\n",
      " 0. 0. 0. 0. 0. 0. 0. 0. 0. 0. 0. 0. 0. 0. 0. 0. 0. 0. 0. 0. 0. 0. 0. 0.\n",
      " 0. 0. 0. 0. 0. 0. 0. 0. 0. 0. 0. 0. 0. 0. 0. 0. 0. 0. 0. 0. 0. 0. 0. 0.\n",
      " 0. 0. 0. 0. 0. 0. 0. 0. 0. 0. 0. 0. 0. 0. 0. 0. 0. 0. 0. 0. 0. 0. 0. 0.\n",
      " 0. 0. 0. 0. 0. 0. 0. 0. 0. 0. 0. 0. 0. 0. 0. 0. 0. 0. 0. 0. 0. 0. 0. 0.\n",
      " 0. 0. 0. 0. 0. 0. 0. 0. 0. 0. 0. 0. 0. 0. 0. 0. 0. 0. 0. 0. 0. 0. 0. 0.\n",
      " 0. 0. 0. 0. 0. 0. 0. 0. 0. 0. 0. 0. 0. 0. 0. 0. 0. 0. 0. 0. 0. 0. 0. 0.\n",
      " 0. 0. 0. 0. 0. 0. 0. 0.]\n",
      "Layer Name: dense_2\n",
      "Weights Shape (Tensor 0): (6400, 64)\n",
      "Weights (Tensor 0):\n",
      "[[-0.01723797 -0.01545603  0.00428008 ...  0.02269552  0.00729861\n",
      "  -0.0128375 ]\n",
      " [ 0.01239526  0.00939754 -0.00904106 ...  0.00051127 -0.01746431\n",
      "   0.00779507]\n",
      " [ 0.01846809 -0.01428141 -0.02805697 ...  0.02113905  0.02879844\n",
      "  -0.02495362]\n",
      " ...\n",
      " [-0.02571016 -0.00558291  0.02282378 ...  0.02860211 -0.00017426\n",
      "  -0.00447436]\n",
      " [-0.01822907 -0.02380637  0.02867448 ... -0.00795207 -0.01259637\n",
      "  -0.00481744]\n",
      " [ 0.02187616 -0.00134172  0.00981518 ... -0.00318429 -0.00797339\n",
      "   0.0188923 ]]\n",
      "Weights Shape (Tensor 1): (64,)\n",
      "Weights (Tensor 1):\n",
      "[0. 0. 0. 0. 0. 0. 0. 0. 0. 0. 0. 0. 0. 0. 0. 0. 0. 0. 0. 0. 0. 0. 0. 0.\n",
      " 0. 0. 0. 0. 0. 0. 0. 0. 0. 0. 0. 0. 0. 0. 0. 0. 0. 0. 0. 0. 0. 0. 0. 0.\n",
      " 0. 0. 0. 0. 0. 0. 0. 0. 0. 0. 0. 0. 0. 0. 0. 0.]\n",
      "Layer Name: dense_3\n",
      "Weights Shape (Tensor 0): (64, 6)\n",
      "Weights (Tensor 0):\n",
      "[[-5.56951463e-02 -1.49271950e-01 -5.29365093e-02 -2.58140564e-01\n",
      "  -5.90162426e-02 -8.68963450e-02]\n",
      " [ 2.30224550e-01 -1.54687941e-01 -1.15402564e-01  2.13560164e-01\n",
      "  -2.09982142e-01  1.13303363e-01]\n",
      " [ 7.08070993e-02 -1.27904490e-01  6.62549734e-02  3.03210616e-02\n",
      "  -2.46713951e-01  1.82519525e-01]\n",
      " [-1.98234856e-01  2.61026025e-01 -2.66896099e-01 -3.25836241e-02\n",
      "   3.87320518e-02 -1.07448936e-01]\n",
      " [-1.86525255e-01 -9.34062004e-02 -1.71463132e-01 -3.32776010e-02\n",
      "  -1.15359649e-01 -2.73376495e-01]\n",
      " [ 1.32899523e-01 -2.45264873e-01  9.15008187e-02 -2.83957481e-01\n",
      "  -1.28322333e-01 -6.53681159e-03]\n",
      " [-2.76086420e-01  6.33501112e-02  2.27079451e-01  6.15737736e-02\n",
      "   2.55556166e-01  1.81156695e-02]\n",
      " [-2.43123904e-01  2.37136245e-01 -2.52160728e-01 -5.81641048e-02\n",
      "   1.09831750e-01  2.30705559e-01]\n",
      " [ 1.90927565e-01  2.10369349e-01 -1.02140576e-01  3.45695615e-02\n",
      "   2.33242631e-01  1.29788578e-01]\n",
      " [-2.35396355e-01  1.14914656e-01 -2.17032820e-01  2.86366522e-01\n",
      "   1.39221191e-01  2.61358082e-01]\n",
      " [ 2.78641403e-01  3.27535272e-02  2.17233717e-01 -2.04756707e-01\n",
      "   5.87236881e-03  2.02599138e-01]\n",
      " [ 5.43816984e-02  5.31302691e-02 -6.17494136e-02  1.40186608e-01\n",
      "  -1.99713409e-02  3.28648686e-02]\n",
      " [-2.62758821e-01 -1.81817263e-01 -2.51508653e-01 -1.40133843e-01\n",
      "   1.57345235e-01  2.22897291e-01]\n",
      " [-1.38090327e-01 -1.42624676e-02  2.02813357e-01  1.66783273e-01\n",
      "   1.54699087e-02  2.43048251e-01]\n",
      " [ 1.02040052e-01  1.42729491e-01  1.42906368e-01 -2.16257334e-01\n",
      "  -9.98288095e-02 -1.71514571e-01]\n",
      " [-2.82473415e-01 -8.26237798e-02  1.71437383e-01 -2.08687812e-01\n",
      "   1.94753706e-01 -2.46418968e-01]\n",
      " [-8.94461423e-02 -1.73393369e-01 -5.29065579e-02  1.01901710e-01\n",
      "  -2.50548244e-01 -2.22260922e-01]\n",
      " [-2.79200405e-01 -2.11952657e-01  2.79868484e-01  2.63062894e-01\n",
      "   2.66134977e-01  7.34337568e-02]\n",
      " [ 1.62162870e-01  4.26898003e-02  2.16174543e-01 -1.06320441e-01\n",
      "  -1.74622536e-02 -1.62236989e-02]\n",
      " [-2.13712364e-01  1.37438178e-01  1.73403680e-01 -9.98698473e-02\n",
      "   1.17027551e-01 -1.94849879e-01]\n",
      " [ 6.57875836e-02 -1.36310935e-01 -4.46773469e-02  1.74855441e-01\n",
      "  -1.10569492e-01 -2.53567696e-02]\n",
      " [ 5.87148368e-02 -1.70677572e-01  3.54667306e-02 -3.65494788e-02\n",
      "   1.45393610e-02  1.64730251e-02]\n",
      " [-1.32526979e-01 -9.94991362e-02  1.73951507e-01 -2.90341496e-01\n",
      "   1.25309557e-01 -7.91900158e-02]\n",
      " [ 1.68743104e-01  2.53136933e-01 -1.25258446e-01  2.73935199e-01\n",
      "   2.15445340e-01  4.23953235e-02]\n",
      " [-5.67315668e-02 -2.70910054e-01  2.57258892e-01 -2.98498273e-02\n",
      "   2.35805511e-01  1.22949392e-01]\n",
      " [-1.12572908e-02  5.31652570e-03 -1.76023543e-02 -1.03060082e-01\n",
      "  -2.42199600e-02 -8.56199563e-02]\n",
      " [-2.09378287e-01  2.25566864e-01  2.30253220e-01 -9.95896012e-02\n",
      "  -1.45729512e-01 -4.48453575e-02]\n",
      " [ 2.78242469e-01 -2.28943527e-01 -8.93455595e-02  2.60805607e-01\n",
      "  -2.65251487e-01 -2.18232572e-02]\n",
      " [-1.71450675e-02 -2.80216932e-01 -2.22387671e-01  1.63576096e-01\n",
      "   5.45436144e-02  1.48096055e-01]\n",
      " [ 1.06512547e-01  2.25681007e-01 -2.11017728e-01  2.85528660e-01\n",
      "  -3.13084126e-02  2.82386243e-01]\n",
      " [ 1.26151085e-01 -2.39717662e-02  2.84893572e-01  2.09655166e-01\n",
      "  -2.57463157e-02  3.16503644e-03]\n",
      " [-8.32589716e-02  6.84970021e-02 -2.01976225e-01  2.92467594e-01\n",
      "  -1.74492389e-01  2.30073154e-01]\n",
      " [-2.61145532e-01  2.43375778e-01  2.64163136e-01  2.22891450e-01\n",
      "   5.77113032e-03  2.73070633e-01]\n",
      " [ 2.01488525e-01  1.10777617e-02  2.20954597e-01  2.18603551e-01\n",
      "   1.58714116e-01  1.21604532e-01]\n",
      " [ 2.00881511e-01 -1.20791063e-01 -1.50248691e-01 -1.25120029e-01\n",
      "   5.65856695e-02  2.61819482e-01]\n",
      " [-2.62480170e-01  2.48680472e-01 -9.85132605e-02 -1.85425937e-01\n",
      "  -3.86075974e-02 -1.99111700e-02]\n",
      " [-2.16993809e-01 -2.29395986e-01 -2.49956742e-01 -1.39503464e-01\n",
      "   2.38418579e-06 -1.24632955e-01]\n",
      " [-1.88948065e-01  2.53876686e-01 -2.64024943e-01 -1.70718625e-01\n",
      "   1.40302062e-01  3.92268598e-02]\n",
      " [-2.74870902e-01  1.17214561e-01 -1.77406266e-01 -1.80948913e-01\n",
      "   2.54264772e-01 -7.06086606e-02]\n",
      " [-1.84730232e-01 -1.75184965e-01 -2.61804342e-01 -6.58258349e-02\n",
      "   1.70669198e-01  2.39213049e-01]\n",
      " [ 6.30944967e-04 -2.78295994e-01  1.54069215e-01 -1.52607426e-01\n",
      "  -2.46073797e-01 -1.50150955e-01]\n",
      " [-2.33666182e-01  2.78879285e-01  2.22424150e-01 -6.86794519e-04\n",
      "   8.91084373e-02  1.16962075e-01]\n",
      " [-2.86923945e-02  2.84821987e-02  3.99528146e-02 -2.89954633e-01\n",
      "   2.86835670e-01  3.12089920e-04]\n",
      " [ 7.56711662e-02  2.05488652e-01  1.00866914e-01  1.54308021e-01\n",
      "   2.76476681e-01  1.60499215e-01]\n",
      " [-1.45659849e-01 -1.83120802e-01 -2.09129721e-01 -4.50369716e-02\n",
      "  -1.72367901e-01 -1.07986555e-01]\n",
      " [ 2.76431799e-01  3.04495692e-02  5.17080724e-02  1.02363169e-01\n",
      "  -1.77075624e-01 -3.07430923e-02]\n",
      " [-1.70753449e-01  2.46887088e-01 -4.91716117e-02  8.91269445e-02\n",
      "   1.23251021e-01 -1.88349158e-01]\n",
      " [ 2.63037205e-01 -1.18060827e-01 -1.29383728e-01 -2.37916201e-01\n",
      "  -2.54674792e-01 -1.27192929e-01]\n",
      " [ 2.11315691e-01 -1.52575672e-02 -2.09133923e-02  1.02916360e-01\n",
      "   1.50332391e-01 -2.82041341e-01]\n",
      " [ 2.45596886e-01  3.32222581e-02  1.60853893e-01  7.68081844e-02\n",
      "  -1.05503276e-01  1.52853340e-01]\n",
      " [ 2.91720808e-01  1.15144372e-01  2.09066212e-01 -2.68817842e-02\n",
      "   7.68357515e-03 -2.22884804e-01]\n",
      " [-9.23709720e-02 -1.56829536e-01 -7.57050961e-02 -2.81899780e-01\n",
      "   8.29180777e-02 -2.37726063e-01]\n",
      " [ 1.77433431e-01 -2.79177517e-01 -2.40460902e-01  1.77168369e-01\n",
      "   2.57427216e-01  1.21221751e-01]\n",
      " [ 1.08506233e-01 -1.08074635e-01  4.83219922e-02  2.60618567e-01\n",
      "  -1.43886954e-01  2.56424069e-01]\n",
      " [ 2.14756668e-01  1.11015260e-01 -1.84035480e-01 -2.31345475e-01\n",
      "  -1.01598769e-01  2.89034724e-01]\n",
      " [-1.55696303e-01  2.14236081e-01 -7.82093406e-03  5.21313548e-02\n",
      "  -2.17272043e-01 -1.53277248e-01]\n",
      " [-6.98253363e-02  7.70459771e-02 -7.43175745e-02  3.78358066e-02\n",
      "   1.21123523e-01 -7.50811994e-02]\n",
      " [-5.42986989e-02 -1.98620990e-01 -2.62345016e-01 -2.08086878e-01\n",
      "   3.33906710e-02 -2.91815430e-01]\n",
      " [-7.24997967e-02  2.71378100e-01  6.01509213e-03 -2.35655814e-01\n",
      "  -1.39687955e-02  1.93328202e-01]\n",
      " [ 5.65893650e-02  2.28760839e-01  4.02484834e-02 -2.79350907e-01\n",
      "  -2.29215413e-01  2.82254636e-01]\n",
      " [-1.18144393e-01 -2.54028261e-01 -1.43569276e-01 -1.01211935e-01\n",
      "  -2.84008086e-02  6.63453341e-03]\n",
      " [ 1.73645198e-01 -2.32226163e-01  1.61503375e-01  2.62462914e-01\n",
      "   2.83978462e-01 -8.52580369e-02]\n",
      " [ 2.90726006e-01  2.53142834e-01 -9.09875035e-02 -4.89055961e-02\n",
      "  -8.67802054e-02  1.69448018e-01]\n",
      " [ 9.56562757e-02  1.20700598e-02 -1.62431687e-01 -1.62434831e-01\n",
      "  -2.79811531e-01  1.65757596e-01]]\n",
      "Weights Shape (Tensor 1): (6,)\n",
      "Weights (Tensor 1):\n",
      "[0. 0. 0. 0. 0. 0.]\n"
     ]
    }
   ],
   "source": [
    "# Looping untuk mendapatkan bobot dari setiap layer\n",
    "for layer in model.layers:\n",
    "    # Mengecek apakah layer memiliki bobot\n",
    "    if layer.weights:\n",
    "        print(\"Layer Name:\", layer.name)\n",
    "        # Mendapatkan bobot dan bias dari layer\n",
    "        weights = layer.get_weights()\n",
    "        for i, w in enumerate(weights):\n",
    "            print(\"Weights Shape (Tensor {}):\".format(i), w.shape)\n",
    "            print(\"Weights (Tensor {}):\".format(i))\n",
    "            print(w)\n"
   ]
  },
  {
   "cell_type": "markdown",
   "metadata": {},
   "source": [
    "## Train Model"
   ]
  },
  {
   "cell_type": "code",
   "execution_count": 55,
   "metadata": {},
   "outputs": [
    {
     "name": "stdout",
     "output_type": "stream",
     "text": [
      "Epoch 1/200\n",
      "\u001b[1m202/202\u001b[0m \u001b[32m━━━━━━━━━━━━━━━━━━━━\u001b[0m\u001b[37m\u001b[0m \u001b[1m19s\u001b[0m 80ms/step - accuracy: 0.3434 - loss: 1.6093 - val_accuracy: 0.4443 - val_loss: 1.4271 - learning_rate: 0.0010\n",
      "Epoch 2/200\n",
      "\u001b[1m202/202\u001b[0m \u001b[32m━━━━━━━━━━━━━━━━━━━━\u001b[0m\u001b[37m\u001b[0m \u001b[1m16s\u001b[0m 80ms/step - accuracy: 0.4340 - loss: 1.4518 - val_accuracy: 0.4613 - val_loss: 1.3854 - learning_rate: 0.0010\n",
      "Epoch 3/200\n",
      "\u001b[1m202/202\u001b[0m \u001b[32m━━━━━━━━━━━━━━━━━━━━\u001b[0m\u001b[37m\u001b[0m \u001b[1m23s\u001b[0m 114ms/step - accuracy: 0.4586 - loss: 1.4061 - val_accuracy: 0.4951 - val_loss: 1.3251 - learning_rate: 0.0010\n",
      "Epoch 4/200\n",
      "\u001b[1m202/202\u001b[0m \u001b[32m━━━━━━━━━━━━━━━━━━━━\u001b[0m\u001b[37m\u001b[0m \u001b[1m23s\u001b[0m 112ms/step - accuracy: 0.4871 - loss: 1.3371 - val_accuracy: 0.5153 - val_loss: 1.2909 - learning_rate: 0.0010\n",
      "Epoch 5/200\n",
      "\u001b[1m202/202\u001b[0m \u001b[32m━━━━━━━━━━━━━━━━━━━━\u001b[0m\u001b[37m\u001b[0m \u001b[1m29s\u001b[0m 144ms/step - accuracy: 0.5118 - loss: 1.2940 - val_accuracy: 0.5216 - val_loss: 1.2586 - learning_rate: 0.0010\n",
      "Epoch 6/200\n",
      "\u001b[1m202/202\u001b[0m \u001b[32m━━━━━━━━━━━━━━━━━━━━\u001b[0m\u001b[37m\u001b[0m \u001b[1m47s\u001b[0m 175ms/step - accuracy: 0.5306 - loss: 1.2368 - val_accuracy: 0.5247 - val_loss: 1.2583 - learning_rate: 0.0010\n",
      "Epoch 7/200\n",
      "\u001b[1m202/202\u001b[0m \u001b[32m━━━━━━━━━━━━━━━━━━━━\u001b[0m\u001b[37m\u001b[0m \u001b[1m39s\u001b[0m 191ms/step - accuracy: 0.5391 - loss: 1.2113 - val_accuracy: 0.5530 - val_loss: 1.1922 - learning_rate: 0.0010\n",
      "Epoch 8/200\n",
      "\u001b[1m202/202\u001b[0m \u001b[32m━━━━━━━━━━━━━━━━━━━━\u001b[0m\u001b[37m\u001b[0m \u001b[1m28s\u001b[0m 126ms/step - accuracy: 0.5650 - loss: 1.1600 - val_accuracy: 0.5662 - val_loss: 1.1758 - learning_rate: 0.0010\n",
      "Epoch 9/200\n",
      "\u001b[1m202/202\u001b[0m \u001b[32m━━━━━━━━━━━━━━━━━━━━\u001b[0m\u001b[37m\u001b[0m \u001b[1m29s\u001b[0m 145ms/step - accuracy: 0.5804 - loss: 1.1237 - val_accuracy: 0.5864 - val_loss: 1.1296 - learning_rate: 0.0010\n",
      "Epoch 10/200\n",
      "\u001b[1m202/202\u001b[0m \u001b[32m━━━━━━━━━━━━━━━━━━━━\u001b[0m\u001b[37m\u001b[0m \u001b[1m39s\u001b[0m 192ms/step - accuracy: 0.6043 - loss: 1.0661 - val_accuracy: 0.5875 - val_loss: 1.1186 - learning_rate: 0.0010\n",
      "Epoch 11/200\n",
      "\u001b[1m202/202\u001b[0m \u001b[32m━━━━━━━━━━━━━━━━━━━━\u001b[0m\u001b[37m\u001b[0m \u001b[1m53s\u001b[0m 250ms/step - accuracy: 0.6123 - loss: 1.0341 - val_accuracy: 0.6125 - val_loss: 1.0830 - learning_rate: 0.0010\n",
      "Epoch 12/200\n",
      "\u001b[1m202/202\u001b[0m \u001b[32m━━━━━━━━━━━━━━━━━━━━\u001b[0m\u001b[37m\u001b[0m \u001b[1m48s\u001b[0m 239ms/step - accuracy: 0.6278 - loss: 0.9868 - val_accuracy: 0.6244 - val_loss: 1.0566 - learning_rate: 0.0010\n",
      "Epoch 13/200\n",
      "\u001b[1m202/202\u001b[0m \u001b[32m━━━━━━━━━━━━━━━━━━━━\u001b[0m\u001b[37m\u001b[0m \u001b[1m65s\u001b[0m 322ms/step - accuracy: 0.6525 - loss: 0.9295 - val_accuracy: 0.6373 - val_loss: 1.0307 - learning_rate: 0.0010\n",
      "Epoch 14/200\n",
      "\u001b[1m202/202\u001b[0m \u001b[32m━━━━━━━━━━━━━━━━━━━━\u001b[0m\u001b[37m\u001b[0m \u001b[1m56s\u001b[0m 271ms/step - accuracy: 0.6537 - loss: 0.9055 - val_accuracy: 0.6533 - val_loss: 1.0133 - learning_rate: 0.0010\n",
      "Epoch 15/200\n",
      "\u001b[1m117/202\u001b[0m \u001b[32m━━━━━━━━━━━\u001b[0m\u001b[37m━━━━━━━━━\u001b[0m \u001b[1m24s\u001b[0m 289ms/step - accuracy: 0.6679 - loss: 0.8700"
     ]
    }
   ],
   "source": [
    "from tensorflow.keras.callbacks import EarlyStopping, ReduceLROnPlateau\n",
    "\n",
    "num_epochs = 200\n",
    "\n",
    "# EarlyStopping callback\n",
    "early_stopping = EarlyStopping(monitor='val_loss', patience=5, restore_best_weights=True)\n",
    "\n",
    "# ReduceLROnPlateau callback\n",
    "reduce_lr = ReduceLROnPlateau(monitor='val_loss', factor=0.2, patience=10, min_lr=0.0001)\n",
    "\n",
    "# Train the model\n",
    "history = model.fit(\n",
    "    train_padded, \n",
    "    y_train, \n",
    "    batch_size=128, \n",
    "    epochs=num_epochs, \n",
    "    validation_data=(valid_padded, y_valid), \n",
    "    callbacks=[early_stopping, reduce_lr]\n",
    ")\n"
   ]
  },
  {
   "cell_type": "code",
   "execution_count": null,
   "metadata": {},
   "outputs": [
    {
     "data": {
      "image/png": "[encoded data removed]",
      "text/plain": [
       "<Figure size 640x480 with 1 Axes>"
      ]
     },
     "metadata": {},
     "output_type": "display_data"
    }
   ],
   "source": [
    "# Plot the training history\n",
    "def plot_graphs(history, string):\n",
    "  plt.plot(history.history[string])\n",
    "  plt.plot(history.history['val_'+string])\n",
    "  plt.xlabel(\"Epochs\")\n",
    "  plt.ylabel(string)\n",
    "  plt.legend([string, 'val_'+string])\n",
    "  plt.show()\n",
    "\n",
    "plot_graphs(history, \"accuracy\")"
   ]
  },
  {
   "cell_type": "code",
   "execution_count": null,
   "metadata": {},
   "outputs": [
    {
     "data": {
      "image/png": "[encoded data removed]",
      "text/plain": [
       "<Figure size 640x480 with 1 Axes>"
      ]
     },
     "metadata": {},
     "output_type": "display_data"
    }
   ],
   "source": [
    "# Plot the training history\n",
    "def plot_graphs(history, string):\n",
    "  plt.plot(history.history[string])\n",
    "  plt.plot(history.history['val_'+string])\n",
    "  plt.xlabel(\"Epochs\")\n",
    "  plt.ylabel(string)\n",
    "  plt.legend([string, 'val_'+string])\n",
    "  plt.show()\n",
    "\n",
    "plot_graphs(history, \"loss\")"
   ]
  },
  {
   "cell_type": "code",
   "execution_count": null,
   "metadata": {},
   "outputs": [
    {
     "name": "stdout",
     "output_type": "stream",
     "text": [
      "\u001b[1m90/90\u001b[0m \u001b[32m━━━━━━━━━━━━━━━━━━━━\u001b[0m\u001b[37m\u001b[0m \u001b[1m1s\u001b[0m 12ms/step - accuracy: 0.6872 - loss: 0.9635\n",
      "Loss:  0.974342942237854\n",
      "Accuracy:  0.6749128699302673\n",
      "\u001b[1m90/90\u001b[0m \u001b[32m━━━━━━━━━━━━━━━━━━━━\u001b[0m\u001b[37m\u001b[0m \u001b[1m1s\u001b[0m 14ms/step\n",
      "              precision    recall  f1-score   support\n",
      "\n",
      "           0       0.43      0.30      0.35       306\n",
      "           1       0.67      0.73      0.70       577\n",
      "           2       0.64      0.77      0.70       647\n",
      "           3       0.75      0.61      0.68       466\n",
      "           4       0.71      0.79      0.75       492\n",
      "           5       0.77      0.66      0.71       382\n",
      "\n",
      "    accuracy                           0.67      2870\n",
      "   macro avg       0.66      0.64      0.65      2870\n",
      "weighted avg       0.67      0.67      0.67      2870\n",
      "\n"
     ]
    }
   ],
   "source": [
    "#sklearn report\n",
    "from sklearn.metrics import classification_report\n",
    "\n",
    "loss, accuracy = model.evaluate(valid_padded, y_valid)\n",
    "print(\"Loss: \", loss)\n",
    "print(\"Accuracy: \", accuracy)\n",
    "\n",
    "y_pred = model.predict(valid_padded)\n",
    "y_pred = np.argmax(y_pred, axis=1)\n",
    "print(classification_report(y_valid, y_pred))"
   ]
  },
  {
   "cell_type": "code",
   "execution_count": null,
   "metadata": {},
   "outputs": [
    {
     "data": {
      "image/png": "[encoded data removed]",
      "text/plain": [
       "<Figure size 640x480 with 1 Axes>"
      ]
     },
     "metadata": {},
     "output_type": "display_data"
    }
   ],
   "source": [
    "# create a confusion matrix\n",
    "from sklearn.metrics import confusion_matrix\n",
    "import seaborn as sns\n",
    "\n",
    "# Membuat confusion matrix\n",
    "cm = confusion_matrix(y_valid, y_pred)\n",
    "\n",
    "# Membuat heatmap dari confusion matrix\n",
    "sns.heatmap(cm, annot=True, fmt=\"d\", cmap=\"Blues\", cbar=False, annot_kws={\"size\": 16})\n",
    "plt.xlabel(\"Predicted Label\")\n",
    "plt.ylabel(\"True Label\")\n",
    "plt.title(\"Confusion Matrix\")\n",
    "plt.show()\n"
   ]
  },
  {
   "cell_type": "code",
   "execution_count": null,
   "metadata": {},
   "outputs": [
    {
     "name": "stdout",
     "output_type": "stream",
     "text": [
      "[[ 91  55  75  24  38  23]\n",
      " [ 33 423  40  20  38  23]\n",
      " [ 27  43 497  33  37  10]\n",
      " [ 26  42  92 286  14   6]\n",
      " [ 14  30  36  10 388  14]\n",
      " [ 19  42  32   8  29 252]]\n"
     ]
    }
   ],
   "source": [
    "print(cm)"
   ]
  },
  {
   "cell_type": "code",
   "execution_count": null,
   "metadata": {},
   "outputs": [
    {
     "name": "stdout",
     "output_type": "stream",
     "text": [
      "\u001b[1m1/1\u001b[0m \u001b[32m━━━━━━━━━━━━━━━━━━━━\u001b[0m\u001b[37m\u001b[0m \u001b[1m0s\u001b[0m 32ms/step\n",
      "Prediksi: [[0.22237477 0.0731502  0.34053627 0.03357084 0.2821742  0.04819376]]\n"
     ]
    },
    {
     "data": {
      "text/plain": [
       "'Joy'"
      ]
     },
     "execution_count": 30,
     "metadata": {},
     "output_type": "execute_result"
    }
   ],
   "source": [
    "#predict another data input from the model\n",
    "def predict_emotion(text):\n",
    "    # Tokenisasi\n",
    "    text = [text]\n",
    "    sequences = tokenizer.texts_to_sequences(text)\n",
    "    padded = pad_sequences(sequences, maxlen=max_length, truncating=trunc_type, padding=\"post\")\n",
    "    \n",
    "    # Prediksi\n",
    "    pred = model.predict(padded)\n",
    "\n",
    "    print(\"Prediksi:\", pred)\n",
    "    pred = np.argmax(pred, axis=1)\n",
    "    \n",
    "\n",
    "    # Mengembalikan label emosi\n",
    "    if pred == 0:\n",
    "        return \"Neutral\"\n",
    "    elif pred == 1:\n",
    "        return \"Anger\"\n",
    "    elif pred == 2:\n",
    "        return \"Joy\"\n",
    "    elif pred == 3:\n",
    "        return \"Love\"\n",
    "    elif pred == 4:\n",
    "        return \"Sad\"\n",
    "    elif pred == 5:\n",
    "        return \"Fear\"\n",
    "\n",
    "#make 10 senteces twitter in predict emotion\n",
    "predict_emotion(\"saya sangat senang hari ini\")\n"
   ]
  },
  {
   "cell_type": "code",
   "execution_count": null,
   "metadata": {},
   "outputs": [
    {
     "name": "stderr",
     "output_type": "stream",
     "text": [
      "WARNING:absl:You are saving your model as an HDF5 file via `model.save()` or `keras.saving.save_model(model)`. This file format is considered legacy. We recommend using instead the native Keras format, e.g. `model.save('my_model.keras')` or `keras.saving.save_model(model, 'my_model.keras')`. \n"
     ]
    }
   ],
   "source": [
    "#save model\n",
    "model.save('./model/model-lstm.h5')"
   ]
  }
 ],
 "metadata": {
  "kernelspec": {
   "display_name": "Python 3",
   "language": "python",
   "name": "python3"
  },
  "language_info": {
   "codemirror_mode": {
    "name": "ipython",
    "version": 3
   },
   "file_extension": ".py",
   "mimetype": "text/x-python",
   "name": "python",
   "nbconvert_exporter": "python",
   "pygments_lexer": "ipython3",
   "version": "3.11.4"
  }
 },
 "nbformat": 4,
 "nbformat_minor": 2
}
