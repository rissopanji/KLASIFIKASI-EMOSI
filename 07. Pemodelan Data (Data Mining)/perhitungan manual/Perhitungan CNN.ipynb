{
 "cells": [
  {
   "cell_type": "code",
   "execution_count": 2,
   "metadata": {},
   "outputs": [],
   "source": [
    "import numpy as np\n",
    "import matplotlib.pyplot as plt\n",
    "import pandas as pd\n"
   ]
  },
  {
   "cell_type": "code",
   "execution_count": 3,
   "metadata": {},
   "outputs": [
    {
     "name": "stdout",
     "output_type": "stream",
     "text": [
      "Output after Flatten: [3.34612588 3.23157386 0.         ... 0.         0.         1.84140904]\n"
     ]
    }
   ],
   "source": [
    "import numpy as np\n",
    "import tensorflow as tf\n",
    "\n",
    "# Assume some random input data with shape (50, 8)\n",
    "input_data = np.random.randn(50, 8)\n",
    "\n",
    "# Convolution parameters\n",
    "kernel_size = 5\n",
    "num_filters = 128\n",
    "\n",
    "# Initialize the Conv1D kernel and bias\n",
    "conv_kernel = np.random.randn(kernel_size, 8, num_filters)  # (kernel_size, input_dim, num_filters)\n",
    "conv_bias = np.random.randn(num_filters)  # (num_filters)\n",
    "\n",
    "# Padding (same), padding with zeros on both sides of the sequence dimension\n",
    "padded_input = np.pad(input_data, ((kernel_size // 2, kernel_size // 2), (0, 0)), mode='constant')\n",
    "\n",
    "# Perform convolution manually\n",
    "output_conv = np.zeros((50, num_filters))\n",
    "for i in range(50):\n",
    "    for j in range(num_filters):\n",
    "        output_conv[i, j] = np.sum(padded_input[i:i + kernel_size, :] * conv_kernel[:, :, j]) + conv_bias[j]\n",
    "\n",
    "# Apply ReLU activation\n",
    "output_conv = np.maximum(0, output_conv)\n",
    "\n",
    "# MaxPooling1D parameters\n",
    "pool_size = 2\n",
    "\n",
    "# MaxPooling1D\n",
    "output_pool = np.zeros((50 // pool_size, num_filters))\n",
    "for i in range(50 // pool_size):\n",
    "    output_pool[i, :] = np.max(output_conv[i * pool_size:(i + 1) * pool_size, :], axis=0)\n",
    "\n",
    "# Dropout parameters\n",
    "dropout_rate = 0.5\n",
    "\n",
    "# Dropout\n",
    "mask = np.random.rand(50 // pool_size, num_filters) > dropout_rate\n",
    "output_dropout = output_pool * mask\n",
    "\n",
    "# Flatten\n",
    "output_flatten = output_dropout.flatten()\n",
    "\n",
    "print(\"Output after Flatten:\", output_flatten)\n"
   ]
  },
  {
   "cell_type": "code",
   "execution_count": 4,
   "metadata": {},
   "outputs": [
    {
     "data": {
      "text/plain": [
       "(3200,)"
      ]
     },
     "execution_count": 4,
     "metadata": {},
     "output_type": "execute_result"
    }
   ],
   "source": [
    "output_flatten.shape"
   ]
  },
  {
   "cell_type": "code",
   "execution_count": 5,
   "metadata": {},
   "outputs": [
    {
     "ename": "FileNotFoundError",
     "evalue": "[Errno 2] No such file or directory: '../bobot-lstm/bobot-baru/weight_matrix_lstm_hidden.csv'",
     "output_type": "error",
     "traceback": [
      "\u001b[1;31m---------------------------------------------------------------------------\u001b[0m",
      "\u001b[1;31mFileNotFoundError\u001b[0m                         Traceback (most recent call last)",
      "Cell \u001b[1;32mIn[5], line 8\u001b[0m\n\u001b[0;32m      5\u001b[0m hidden_neurons \u001b[38;5;241m=\u001b[39m \u001b[38;5;241m16\u001b[39m\n\u001b[0;32m      7\u001b[0m \u001b[38;5;66;03m# # Inisialisasi bobot secara acak dengan distribusi uniform dari -1 hingga 1\u001b[39;00m\n\u001b[1;32m----> 8\u001b[0m weight_matrix_hidden \u001b[38;5;241m=\u001b[39m \u001b[43mpd\u001b[49m\u001b[38;5;241;43m.\u001b[39;49m\u001b[43mread_csv\u001b[49m\u001b[43m(\u001b[49m\u001b[38;5;124;43m'\u001b[39;49m\u001b[38;5;124;43m../bobot-lstm/bobot-baru/weight_matrix_lstm_hidden.csv\u001b[39;49m\u001b[38;5;124;43m'\u001b[39;49m\u001b[43m,\u001b[49m\u001b[43m \u001b[49m\u001b[43mskiprows\u001b[49m\u001b[38;5;241;43m=\u001b[39;49m\u001b[38;5;241;43m0\u001b[39;49m\u001b[43m)\u001b[49m\u001b[38;5;241m.\u001b[39mvalues\n\u001b[0;32m     10\u001b[0m \u001b[38;5;66;03m# # Membulatkan nilai bobot menjadi bilangan bulat\u001b[39;00m\n\u001b[0;32m     11\u001b[0m rounded_weight_matrix_hidden \u001b[38;5;241m=\u001b[39m np\u001b[38;5;241m.\u001b[39mround(weight_matrix_hidden, \u001b[38;5;241m2\u001b[39m)\n",
      "File \u001b[1;32mc:\\Users\\TEMP\\miniconda3\\envs\\skripsi\\Lib\\site-packages\\pandas\\io\\parsers\\readers.py:1026\u001b[0m, in \u001b[0;36mread_csv\u001b[1;34m(filepath_or_buffer, sep, delimiter, header, names, index_col, usecols, dtype, engine, converters, true_values, false_values, skipinitialspace, skiprows, skipfooter, nrows, na_values, keep_default_na, na_filter, verbose, skip_blank_lines, parse_dates, infer_datetime_format, keep_date_col, date_parser, date_format, dayfirst, cache_dates, iterator, chunksize, compression, thousands, decimal, lineterminator, quotechar, quoting, doublequote, escapechar, comment, encoding, encoding_errors, dialect, on_bad_lines, delim_whitespace, low_memory, memory_map, float_precision, storage_options, dtype_backend)\u001b[0m\n\u001b[0;32m   1013\u001b[0m kwds_defaults \u001b[38;5;241m=\u001b[39m _refine_defaults_read(\n\u001b[0;32m   1014\u001b[0m     dialect,\n\u001b[0;32m   1015\u001b[0m     delimiter,\n\u001b[1;32m   (...)\u001b[0m\n\u001b[0;32m   1022\u001b[0m     dtype_backend\u001b[38;5;241m=\u001b[39mdtype_backend,\n\u001b[0;32m   1023\u001b[0m )\n\u001b[0;32m   1024\u001b[0m kwds\u001b[38;5;241m.\u001b[39mupdate(kwds_defaults)\n\u001b[1;32m-> 1026\u001b[0m \u001b[38;5;28;01mreturn\u001b[39;00m \u001b[43m_read\u001b[49m\u001b[43m(\u001b[49m\u001b[43mfilepath_or_buffer\u001b[49m\u001b[43m,\u001b[49m\u001b[43m \u001b[49m\u001b[43mkwds\u001b[49m\u001b[43m)\u001b[49m\n",
      "File \u001b[1;32mc:\\Users\\TEMP\\miniconda3\\envs\\skripsi\\Lib\\site-packages\\pandas\\io\\parsers\\readers.py:620\u001b[0m, in \u001b[0;36m_read\u001b[1;34m(filepath_or_buffer, kwds)\u001b[0m\n\u001b[0;32m    617\u001b[0m _validate_names(kwds\u001b[38;5;241m.\u001b[39mget(\u001b[38;5;124m\"\u001b[39m\u001b[38;5;124mnames\u001b[39m\u001b[38;5;124m\"\u001b[39m, \u001b[38;5;28;01mNone\u001b[39;00m))\n\u001b[0;32m    619\u001b[0m \u001b[38;5;66;03m# Create the parser.\u001b[39;00m\n\u001b[1;32m--> 620\u001b[0m parser \u001b[38;5;241m=\u001b[39m \u001b[43mTextFileReader\u001b[49m\u001b[43m(\u001b[49m\u001b[43mfilepath_or_buffer\u001b[49m\u001b[43m,\u001b[49m\u001b[43m \u001b[49m\u001b[38;5;241;43m*\u001b[39;49m\u001b[38;5;241;43m*\u001b[39;49m\u001b[43mkwds\u001b[49m\u001b[43m)\u001b[49m\n\u001b[0;32m    622\u001b[0m \u001b[38;5;28;01mif\u001b[39;00m chunksize \u001b[38;5;129;01mor\u001b[39;00m iterator:\n\u001b[0;32m    623\u001b[0m     \u001b[38;5;28;01mreturn\u001b[39;00m parser\n",
      "File \u001b[1;32mc:\\Users\\TEMP\\miniconda3\\envs\\skripsi\\Lib\\site-packages\\pandas\\io\\parsers\\readers.py:1620\u001b[0m, in \u001b[0;36mTextFileReader.__init__\u001b[1;34m(self, f, engine, **kwds)\u001b[0m\n\u001b[0;32m   1617\u001b[0m     \u001b[38;5;28mself\u001b[39m\u001b[38;5;241m.\u001b[39moptions[\u001b[38;5;124m\"\u001b[39m\u001b[38;5;124mhas_index_names\u001b[39m\u001b[38;5;124m\"\u001b[39m] \u001b[38;5;241m=\u001b[39m kwds[\u001b[38;5;124m\"\u001b[39m\u001b[38;5;124mhas_index_names\u001b[39m\u001b[38;5;124m\"\u001b[39m]\n\u001b[0;32m   1619\u001b[0m \u001b[38;5;28mself\u001b[39m\u001b[38;5;241m.\u001b[39mhandles: IOHandles \u001b[38;5;241m|\u001b[39m \u001b[38;5;28;01mNone\u001b[39;00m \u001b[38;5;241m=\u001b[39m \u001b[38;5;28;01mNone\u001b[39;00m\n\u001b[1;32m-> 1620\u001b[0m \u001b[38;5;28mself\u001b[39m\u001b[38;5;241m.\u001b[39m_engine \u001b[38;5;241m=\u001b[39m \u001b[38;5;28;43mself\u001b[39;49m\u001b[38;5;241;43m.\u001b[39;49m\u001b[43m_make_engine\u001b[49m\u001b[43m(\u001b[49m\u001b[43mf\u001b[49m\u001b[43m,\u001b[49m\u001b[43m \u001b[49m\u001b[38;5;28;43mself\u001b[39;49m\u001b[38;5;241;43m.\u001b[39;49m\u001b[43mengine\u001b[49m\u001b[43m)\u001b[49m\n",
      "File \u001b[1;32mc:\\Users\\TEMP\\miniconda3\\envs\\skripsi\\Lib\\site-packages\\pandas\\io\\parsers\\readers.py:1880\u001b[0m, in \u001b[0;36mTextFileReader._make_engine\u001b[1;34m(self, f, engine)\u001b[0m\n\u001b[0;32m   1878\u001b[0m     \u001b[38;5;28;01mif\u001b[39;00m \u001b[38;5;124m\"\u001b[39m\u001b[38;5;124mb\u001b[39m\u001b[38;5;124m\"\u001b[39m \u001b[38;5;129;01mnot\u001b[39;00m \u001b[38;5;129;01min\u001b[39;00m mode:\n\u001b[0;32m   1879\u001b[0m         mode \u001b[38;5;241m+\u001b[39m\u001b[38;5;241m=\u001b[39m \u001b[38;5;124m\"\u001b[39m\u001b[38;5;124mb\u001b[39m\u001b[38;5;124m\"\u001b[39m\n\u001b[1;32m-> 1880\u001b[0m \u001b[38;5;28mself\u001b[39m\u001b[38;5;241m.\u001b[39mhandles \u001b[38;5;241m=\u001b[39m \u001b[43mget_handle\u001b[49m\u001b[43m(\u001b[49m\n\u001b[0;32m   1881\u001b[0m \u001b[43m    \u001b[49m\u001b[43mf\u001b[49m\u001b[43m,\u001b[49m\n\u001b[0;32m   1882\u001b[0m \u001b[43m    \u001b[49m\u001b[43mmode\u001b[49m\u001b[43m,\u001b[49m\n\u001b[0;32m   1883\u001b[0m \u001b[43m    \u001b[49m\u001b[43mencoding\u001b[49m\u001b[38;5;241;43m=\u001b[39;49m\u001b[38;5;28;43mself\u001b[39;49m\u001b[38;5;241;43m.\u001b[39;49m\u001b[43moptions\u001b[49m\u001b[38;5;241;43m.\u001b[39;49m\u001b[43mget\u001b[49m\u001b[43m(\u001b[49m\u001b[38;5;124;43m\"\u001b[39;49m\u001b[38;5;124;43mencoding\u001b[39;49m\u001b[38;5;124;43m\"\u001b[39;49m\u001b[43m,\u001b[49m\u001b[43m \u001b[49m\u001b[38;5;28;43;01mNone\u001b[39;49;00m\u001b[43m)\u001b[49m\u001b[43m,\u001b[49m\n\u001b[0;32m   1884\u001b[0m \u001b[43m    \u001b[49m\u001b[43mcompression\u001b[49m\u001b[38;5;241;43m=\u001b[39;49m\u001b[38;5;28;43mself\u001b[39;49m\u001b[38;5;241;43m.\u001b[39;49m\u001b[43moptions\u001b[49m\u001b[38;5;241;43m.\u001b[39;49m\u001b[43mget\u001b[49m\u001b[43m(\u001b[49m\u001b[38;5;124;43m\"\u001b[39;49m\u001b[38;5;124;43mcompression\u001b[39;49m\u001b[38;5;124;43m\"\u001b[39;49m\u001b[43m,\u001b[49m\u001b[43m \u001b[49m\u001b[38;5;28;43;01mNone\u001b[39;49;00m\u001b[43m)\u001b[49m\u001b[43m,\u001b[49m\n\u001b[0;32m   1885\u001b[0m \u001b[43m    \u001b[49m\u001b[43mmemory_map\u001b[49m\u001b[38;5;241;43m=\u001b[39;49m\u001b[38;5;28;43mself\u001b[39;49m\u001b[38;5;241;43m.\u001b[39;49m\u001b[43moptions\u001b[49m\u001b[38;5;241;43m.\u001b[39;49m\u001b[43mget\u001b[49m\u001b[43m(\u001b[49m\u001b[38;5;124;43m\"\u001b[39;49m\u001b[38;5;124;43mmemory_map\u001b[39;49m\u001b[38;5;124;43m\"\u001b[39;49m\u001b[43m,\u001b[49m\u001b[43m \u001b[49m\u001b[38;5;28;43;01mFalse\u001b[39;49;00m\u001b[43m)\u001b[49m\u001b[43m,\u001b[49m\n\u001b[0;32m   1886\u001b[0m \u001b[43m    \u001b[49m\u001b[43mis_text\u001b[49m\u001b[38;5;241;43m=\u001b[39;49m\u001b[43mis_text\u001b[49m\u001b[43m,\u001b[49m\n\u001b[0;32m   1887\u001b[0m \u001b[43m    \u001b[49m\u001b[43merrors\u001b[49m\u001b[38;5;241;43m=\u001b[39;49m\u001b[38;5;28;43mself\u001b[39;49m\u001b[38;5;241;43m.\u001b[39;49m\u001b[43moptions\u001b[49m\u001b[38;5;241;43m.\u001b[39;49m\u001b[43mget\u001b[49m\u001b[43m(\u001b[49m\u001b[38;5;124;43m\"\u001b[39;49m\u001b[38;5;124;43mencoding_errors\u001b[39;49m\u001b[38;5;124;43m\"\u001b[39;49m\u001b[43m,\u001b[49m\u001b[43m \u001b[49m\u001b[38;5;124;43m\"\u001b[39;49m\u001b[38;5;124;43mstrict\u001b[39;49m\u001b[38;5;124;43m\"\u001b[39;49m\u001b[43m)\u001b[49m\u001b[43m,\u001b[49m\n\u001b[0;32m   1888\u001b[0m \u001b[43m    \u001b[49m\u001b[43mstorage_options\u001b[49m\u001b[38;5;241;43m=\u001b[39;49m\u001b[38;5;28;43mself\u001b[39;49m\u001b[38;5;241;43m.\u001b[39;49m\u001b[43moptions\u001b[49m\u001b[38;5;241;43m.\u001b[39;49m\u001b[43mget\u001b[49m\u001b[43m(\u001b[49m\u001b[38;5;124;43m\"\u001b[39;49m\u001b[38;5;124;43mstorage_options\u001b[39;49m\u001b[38;5;124;43m\"\u001b[39;49m\u001b[43m,\u001b[49m\u001b[43m \u001b[49m\u001b[38;5;28;43;01mNone\u001b[39;49;00m\u001b[43m)\u001b[49m\u001b[43m,\u001b[49m\n\u001b[0;32m   1889\u001b[0m \u001b[43m\u001b[49m\u001b[43m)\u001b[49m\n\u001b[0;32m   1890\u001b[0m \u001b[38;5;28;01massert\u001b[39;00m \u001b[38;5;28mself\u001b[39m\u001b[38;5;241m.\u001b[39mhandles \u001b[38;5;129;01mis\u001b[39;00m \u001b[38;5;129;01mnot\u001b[39;00m \u001b[38;5;28;01mNone\u001b[39;00m\n\u001b[0;32m   1891\u001b[0m f \u001b[38;5;241m=\u001b[39m \u001b[38;5;28mself\u001b[39m\u001b[38;5;241m.\u001b[39mhandles\u001b[38;5;241m.\u001b[39mhandle\n",
      "File \u001b[1;32mc:\\Users\\TEMP\\miniconda3\\envs\\skripsi\\Lib\\site-packages\\pandas\\io\\common.py:873\u001b[0m, in \u001b[0;36mget_handle\u001b[1;34m(path_or_buf, mode, encoding, compression, memory_map, is_text, errors, storage_options)\u001b[0m\n\u001b[0;32m    868\u001b[0m \u001b[38;5;28;01melif\u001b[39;00m \u001b[38;5;28misinstance\u001b[39m(handle, \u001b[38;5;28mstr\u001b[39m):\n\u001b[0;32m    869\u001b[0m     \u001b[38;5;66;03m# Check whether the filename is to be opened in binary mode.\u001b[39;00m\n\u001b[0;32m    870\u001b[0m     \u001b[38;5;66;03m# Binary mode does not support 'encoding' and 'newline'.\u001b[39;00m\n\u001b[0;32m    871\u001b[0m     \u001b[38;5;28;01mif\u001b[39;00m ioargs\u001b[38;5;241m.\u001b[39mencoding \u001b[38;5;129;01mand\u001b[39;00m \u001b[38;5;124m\"\u001b[39m\u001b[38;5;124mb\u001b[39m\u001b[38;5;124m\"\u001b[39m \u001b[38;5;129;01mnot\u001b[39;00m \u001b[38;5;129;01min\u001b[39;00m ioargs\u001b[38;5;241m.\u001b[39mmode:\n\u001b[0;32m    872\u001b[0m         \u001b[38;5;66;03m# Encoding\u001b[39;00m\n\u001b[1;32m--> 873\u001b[0m         handle \u001b[38;5;241m=\u001b[39m \u001b[38;5;28;43mopen\u001b[39;49m\u001b[43m(\u001b[49m\n\u001b[0;32m    874\u001b[0m \u001b[43m            \u001b[49m\u001b[43mhandle\u001b[49m\u001b[43m,\u001b[49m\n\u001b[0;32m    875\u001b[0m \u001b[43m            \u001b[49m\u001b[43mioargs\u001b[49m\u001b[38;5;241;43m.\u001b[39;49m\u001b[43mmode\u001b[49m\u001b[43m,\u001b[49m\n\u001b[0;32m    876\u001b[0m \u001b[43m            \u001b[49m\u001b[43mencoding\u001b[49m\u001b[38;5;241;43m=\u001b[39;49m\u001b[43mioargs\u001b[49m\u001b[38;5;241;43m.\u001b[39;49m\u001b[43mencoding\u001b[49m\u001b[43m,\u001b[49m\n\u001b[0;32m    877\u001b[0m \u001b[43m            \u001b[49m\u001b[43merrors\u001b[49m\u001b[38;5;241;43m=\u001b[39;49m\u001b[43merrors\u001b[49m\u001b[43m,\u001b[49m\n\u001b[0;32m    878\u001b[0m \u001b[43m            \u001b[49m\u001b[43mnewline\u001b[49m\u001b[38;5;241;43m=\u001b[39;49m\u001b[38;5;124;43m\"\u001b[39;49m\u001b[38;5;124;43m\"\u001b[39;49m\u001b[43m,\u001b[49m\n\u001b[0;32m    879\u001b[0m \u001b[43m        \u001b[49m\u001b[43m)\u001b[49m\n\u001b[0;32m    880\u001b[0m     \u001b[38;5;28;01melse\u001b[39;00m:\n\u001b[0;32m    881\u001b[0m         \u001b[38;5;66;03m# Binary mode\u001b[39;00m\n\u001b[0;32m    882\u001b[0m         handle \u001b[38;5;241m=\u001b[39m \u001b[38;5;28mopen\u001b[39m(handle, ioargs\u001b[38;5;241m.\u001b[39mmode)\n",
      "\u001b[1;31mFileNotFoundError\u001b[0m: [Errno 2] No such file or directory: '../bobot-lstm/bobot-baru/weight_matrix_lstm_hidden.csv'"
     ]
    }
   ],
   "source": [
    "# Jumlah neuron pada lapisan input\n",
    "input_neurons = 25\n",
    "\n",
    "# # Jumlah neuron pada lapisan tersembunyi\n",
    "hidden_neurons = 16\n",
    "\n",
    "# # Inisialisasi bobot secara acak dengan distribusi uniform dari -1 hingga 1\n",
    "weight_matrix_hidden = pd.read_csv('../bobot-lstm/bobot-baru/weight_matrix_lstm_hidden.csv', skiprows=0).values\n",
    "\n",
    "# # Membulatkan nilai bobot menjadi bilangan bulat\n",
    "rounded_weight_matrix_hidden = np.round(weight_matrix_hidden, 2)\n",
    "\n",
    "print(\"Weight matrix shape:\", rounded_weight_matrix_hidden.shape)\n",
    "print(\"Weight matrix values:\\n\", rounded_weight_matrix_hidden)\n",
    "\n",
    "\n",
    "\n"
   ]
  },
  {
   "cell_type": "code",
   "execution_count": null,
   "metadata": {},
   "outputs": [],
   "source": [
    "# safe to csv\n",
    "df = pd.DataFrame(rounded_weight_matrix_hidden)\n",
    "df.to_csv('weight_matrix_hidden.csv', index=False)"
   ]
  },
  {
   "cell_type": "code",
   "execution_count": null,
   "metadata": {},
   "outputs": [
    {
     "name": "stdout",
     "output_type": "stream",
     "text": [
      "[ 0.088959  0.059629  0.021865 -0.084626 -0.116678 -0.152092 -0.277528\n",
      " -0.051653 -0.073884 -0.094091  0.046397 -0.02012  -0.219726  0.124287\n",
      "  0.112704  0.039423]\n",
      "Output vector:\n",
      "[0.088959 0.059629 0.021865 0.       0.       0.       0.       0.\n",
      " 0.       0.       0.046397 0.       0.       0.124287 0.112704 0.039423]\n"
     ]
    }
   ],
   "source": [
    "import numpy as np\n",
    "\n",
    "# Fungsi aktivasi ReLU\n",
    "def relu(x):\n",
    "    return np.maximum(0, x)\n",
    "\n",
    "# Input dari hasil konvolusi\n",
    "# timnas indonesia main mantap keren banget tahan bagus serang bagus\n",
    "input_vector = np.array([\n",
    "    0.1932,\n",
    "    0,\n",
    "    0.0055,\n",
    "    0.0765,\n",
    "    0.1336,0,0,0,0,0,0,0,0,0,0,0,0,0,0,0,0,0,0,0,0\n",
    "])\n",
    "\n",
    "\n",
    "# Hitung feedforward\n",
    "print(np.dot(input_vector, rounded_weight_matrix_hidden))\n",
    "output_vector_hidden = relu(np.dot(input_vector, rounded_weight_matrix_hidden))\n",
    "\n",
    "print(\"Output vector:\")\n",
    "print(output_vector_hidden)\n"
   ]
  },
  {
   "cell_type": "code",
   "execution_count": null,
   "metadata": {},
   "outputs": [
    {
     "name": "stdout",
     "output_type": "stream",
     "text": [
      "Weight matrix shape: (16, 1)\n",
      "Weight matrix values:\n",
      " [[-0.08]\n",
      " [ 0.27]\n",
      " [-0.38]\n",
      " [-0.48]\n",
      " [-0.97]\n",
      " [ 0.84]\n",
      " [ 0.02]\n",
      " [ 0.95]\n",
      " [ 0.52]\n",
      " [ 0.1 ]\n",
      " [ 0.45]\n",
      " [ 0.67]\n",
      " [ 0.83]\n",
      " [-0.43]\n",
      " [-0.25]\n",
      " [ 0.77]]\n"
     ]
    }
   ],
   "source": [
    "# Jumlah neuron pada lapisan input\n",
    "hidden_neurons = 16\n",
    "\n",
    "# Jumlah neuron pada lapisan tersembunyi\n",
    "output_layer_neurons = 6\n",
    "\n",
    "# Inisialisasi bobot secara acak dengan distribusi uniform dari -1 hingga 1\n",
    "weight_matrix = np.random.uniform(low=-1, high=1, size=(hidden_neurons, output_layer_neurons))\n",
    "\n",
    "# Membulatkan nilai bobot menjadi bilangan bulat\n",
    "rounded_weight_matrix_output = np.round(weight_matrix, 2)\n",
    "\n",
    "print(\"Weight matrix shape:\", rounded_weight_matrix_output.shape)\n",
    "print(\"Weight matrix values:\\n\", rounded_weight_matrix_output)"
   ]
  },
  {
   "cell_type": "code",
   "execution_count": null,
   "metadata": {},
   "outputs": [
    {
     "ename": "NameError",
     "evalue": "name 'output_vector_hidden' is not defined",
     "output_type": "error",
     "traceback": [
      "\u001b[1;31m---------------------------------------------------------------------------\u001b[0m",
      "\u001b[1;31mNameError\u001b[0m                                 Traceback (most recent call last)",
      "Cell \u001b[1;32mIn[1], line 12\u001b[0m\n\u001b[0;32m      9\u001b[0m \u001b[38;5;66;03m# Mengupdate bobot secara acak hingga output vektor softmax pada indeks ke-2 lebih besar dari yang lainnya\u001b[39;00m\n\u001b[0;32m     10\u001b[0m \u001b[38;5;28;01mwhile\u001b[39;00m \u001b[38;5;28;01mTrue\u001b[39;00m:\n\u001b[0;32m     11\u001b[0m     \u001b[38;5;66;03m# Mendapatkan output vector dengan bobot yang terbaru\u001b[39;00m\n\u001b[1;32m---> 12\u001b[0m     output_dot \u001b[38;5;241m=\u001b[39m np\u001b[38;5;241m.\u001b[39mdot(\u001b[43moutput_vector_hidden\u001b[49m, rounded_weight_matrix_output)\n\u001b[0;32m     13\u001b[0m     output_final \u001b[38;5;241m=\u001b[39m softmax(output_dot)\n\u001b[0;32m     15\u001b[0m     \u001b[38;5;66;03m# # Jika output vektor pada indeks ke-2 lebih besar daripada yang lainnya, hentikan loop\u001b[39;00m\n\u001b[0;32m     16\u001b[0m     \u001b[38;5;66;03m# if output_final[2] > output_final[0] and output_final[2] > output_final[1]:\u001b[39;00m\n\u001b[0;32m     17\u001b[0m     \u001b[38;5;66;03m#     break\u001b[39;00m\n",
      "\u001b[1;31mNameError\u001b[0m: name 'output_vector_hidden' is not defined"
     ]
    }
   ],
   "source": [
    "import numpy as np\n",
    "\n",
    "\n",
    "def softmax(x):\n",
    "    exp_x = np.exp(x - np.max(x))\n",
    "    return exp_x / exp_x.sum(axis=0)\n",
    "\n",
    "\n",
    "# Mengupdate bobot secara acak hingga output vektor softmax pada indeks ke-2 lebih besar dari yang lainnya\n",
    "while True:\n",
    "    # Mendapatkan output vector dengan bobot yang terbaru\n",
    "    output_dot = np.dot(output_vector_hidden, rounded_weight_matrix_output)\n",
    "    output_final = softmax(output_dot)\n",
    "    \n",
    "    # # Jika output vektor pada indeks ke-2 lebih besar daripada yang lainnya, hentikan loop\n",
    "    # if output_final[2] > output_final[0] and output_final[2] > output_final[1]:\n",
    "    #     break\n",
    "\n",
    "    if output_final[0] > 0.8:\n",
    "        break\n",
    "\n",
    "    # Jika tidak, update bobot secara acak\n",
    "    # rounded_weight_matrix_output = np.random.uniform(low=-1.0, high=1.0, size=rounded_weight_matrix_output.shape)\n",
    "    # update bobot dengan menghitung error\n",
    "    error = output_final - 1\n",
    "    update = np.dot(output_vector_hidden.reshape(-1, 1), error.reshape(1, -1))\n",
    "    rounded_weight_matrix_output -= update\n",
    "    \n",
    "\n",
    "\n",
    "print(\"\\nOutput dot vector\")\n",
    "print(output_dot)\n",
    "print(\"\\nUpdated weight matrix:\")\n",
    "print(rounded_weight_matrix_output)\n",
    "print(\"\\nOutput vector sigmoid:\")\n",
    "print(output_final)\n"
   ]
  },
  {
   "cell_type": "code",
   "execution_count": null,
   "metadata": {},
   "outputs": [],
   "source": [
    "#ubah jadi softmax untuk klasifikasi 6 kelas emotion_labels = ['joy', 'sad', 'fear', 'anger', 'neutral', 'love']\n",
    "def sigmoid(x):\n",
    "    return 1 / (1 + np.exp(-x))"
   ]
  }
 ],
 "metadata": {
  "kernelspec": {
   "display_name": "Python 3",
   "language": "python",
   "name": "python3"
  },
  "language_info": {
   "codemirror_mode": {
    "name": "ipython",
    "version": 3
   },
   "file_extension": ".py",
   "mimetype": "text/x-python",
   "name": "python",
   "nbconvert_exporter": "python",
   "pygments_lexer": "ipython3",
   "version": "3.11.4"
  }
 },
 "nbformat": 4,
 "nbformat_minor": 2
}
