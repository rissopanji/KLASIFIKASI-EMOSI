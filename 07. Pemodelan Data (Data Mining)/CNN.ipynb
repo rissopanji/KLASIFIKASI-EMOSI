{
 "cells": [
  {
   "cell_type": "code",
   "execution_count": 187,
   "metadata": {},
   "outputs": [],
   "source": [
    "import tensorflow as tf\n",
    "import numpy as np\n",
    "import matplotlib.pyplot as plt\n",
    "import pandas as pd\n",
    "import ast\n",
    "\n",
    "from tensorflow.keras.preprocessing.text import Tokenizer\n",
    "from tensorflow.keras.preprocessing.sequence import pad_sequences"
   ]
  },
  {
   "cell_type": "code",
   "execution_count": 188,
   "metadata": {},
   "outputs": [
    {
     "name": "stdout",
     "output_type": "stream",
     "text": [
      "Tensorflow version: 2.16.1\n"
     ]
    }
   ],
   "source": [
    "print(\"Tensorflow version:\", tf.__version__)"
   ]
  },
  {
   "cell_type": "markdown",
   "metadata": {},
   "source": [
    "## Prepare Dataset"
   ]
  },
  {
   "cell_type": "code",
   "execution_count": 189,
   "metadata": {},
   "outputs": [],
   "source": [
    "train_df_path ='../07. Pemodelan Data (Data Mining)/dataset/Dataset_clean(penelitian).csv'\n"
   ]
  },
  {
   "cell_type": "code",
   "execution_count": 190,
   "metadata": {},
   "outputs": [],
   "source": [
    "train_df = pd.read_csv(train_df_path, sep=',', header=None, usecols=[1,2], skiprows=1)\n",
    "\n",
    "train_df.columns = ['full_text', 'emotion']"
   ]
  },
  {
   "cell_type": "code",
   "execution_count": 191,
   "metadata": {},
   "outputs": [
    {
     "data": {
      "text/html": [
       "<div>\n",
       "<style scoped>\n",
       "    .dataframe tbody tr th:only-of-type {\n",
       "        vertical-align: middle;\n",
       "    }\n",
       "\n",
       "    .dataframe tbody tr th {\n",
       "        vertical-align: top;\n",
       "    }\n",
       "\n",
       "    .dataframe thead th {\n",
       "        text-align: right;\n",
       "    }\n",
       "</style>\n",
       "<table border=\"1\" class=\"dataframe\">\n",
       "  <thead>\n",
       "    <tr style=\"text-align: right;\">\n",
       "      <th></th>\n",
       "      <th>full_text</th>\n",
       "      <th>emotion</th>\n",
       "    </tr>\n",
       "  </thead>\n",
       "  <tbody>\n",
       "    <tr>\n",
       "      <th>0</th>\n",
       "      <td>['pengabdian', 'terpuji', 'meskipun', 'terliha...</td>\n",
       "      <td>Neutral</td>\n",
       "    </tr>\n",
       "    <tr>\n",
       "      <th>1</th>\n",
       "      <td>['baru', 'mengirim', 'foto']</td>\n",
       "      <td>Neutral</td>\n",
       "    </tr>\n",
       "    <tr>\n",
       "      <th>2</th>\n",
       "      <td>['apa', 'kabar', 'dunia', 'twitter', 'masihkah...</td>\n",
       "      <td>Neutral</td>\n",
       "    </tr>\n",
       "    <tr>\n",
       "      <th>3</th>\n",
       "      <td>['yah', 'gimana', 'sih', 'yaudah', 'susul', 's...</td>\n",
       "      <td>Neutral</td>\n",
       "    </tr>\n",
       "    <tr>\n",
       "      <th>4</th>\n",
       "      <td>['ka', 'dorg', 'suro', 'beli', 'medium', 'set'...</td>\n",
       "      <td>Neutral</td>\n",
       "    </tr>\n",
       "    <tr>\n",
       "      <th>5</th>\n",
       "      <td>['ayo', 'cek', 'koleksinya', 'temukan', 'angry...</td>\n",
       "      <td>Neutral</td>\n",
       "    </tr>\n",
       "    <tr>\n",
       "      <th>6</th>\n",
       "      <td>['kalau', 'biasa', 'biasa', 'sudah'           ...</td>\n",
       "      <td>Neutral</td>\n",
       "    </tr>\n",
       "    <tr>\n",
       "      <th>7</th>\n",
       "      <td>['tiap', 'tiap', 'twit', 'tak', 'selalu', 'per...</td>\n",
       "      <td>Neutral</td>\n",
       "    </tr>\n",
       "    <tr>\n",
       "      <th>8</th>\n",
       "      <td>['halo', 'v', 'apa', 'kabar', 'nih'           ...</td>\n",
       "      <td>Neutral</td>\n",
       "    </tr>\n",
       "    <tr>\n",
       "      <th>9</th>\n",
       "      <td>['pagi', 'ruby', 'apa', 'kabar'               ...</td>\n",
       "      <td>Neutral</td>\n",
       "    </tr>\n",
       "  </tbody>\n",
       "</table>\n",
       "</div>"
      ],
      "text/plain": [
       "                                           full_text  emotion\n",
       "0  ['pengabdian', 'terpuji', 'meskipun', 'terliha...  Neutral\n",
       "1                       ['baru', 'mengirim', 'foto']  Neutral\n",
       "2  ['apa', 'kabar', 'dunia', 'twitter', 'masihkah...  Neutral\n",
       "3  ['yah', 'gimana', 'sih', 'yaudah', 'susul', 's...  Neutral\n",
       "4  ['ka', 'dorg', 'suro', 'beli', 'medium', 'set'...  Neutral\n",
       "5  ['ayo', 'cek', 'koleksinya', 'temukan', 'angry...  Neutral\n",
       "6  ['kalau', 'biasa', 'biasa', 'sudah'           ...  Neutral\n",
       "7  ['tiap', 'tiap', 'twit', 'tak', 'selalu', 'per...  Neutral\n",
       "8  ['halo', 'v', 'apa', 'kabar', 'nih'           ...  Neutral\n",
       "9  ['pagi', 'ruby', 'apa', 'kabar'               ...  Neutral"
      ]
     },
     "execution_count": 191,
     "metadata": {},
     "output_type": "execute_result"
    }
   ],
   "source": [
    "train_df.head(10)"
   ]
  },
  {
   "cell_type": "code",
   "execution_count": 192,
   "metadata": {},
   "outputs": [
    {
     "data": {
      "text/html": [
       "<div>\n",
       "<style scoped>\n",
       "    .dataframe tbody tr th:only-of-type {\n",
       "        vertical-align: middle;\n",
       "    }\n",
       "\n",
       "    .dataframe tbody tr th {\n",
       "        vertical-align: top;\n",
       "    }\n",
       "\n",
       "    .dataframe thead th {\n",
       "        text-align: right;\n",
       "    }\n",
       "</style>\n",
       "<table border=\"1\" class=\"dataframe\">\n",
       "  <thead>\n",
       "    <tr style=\"text-align: right;\">\n",
       "      <th></th>\n",
       "      <th>full_text</th>\n",
       "      <th>emotion</th>\n",
       "    </tr>\n",
       "  </thead>\n",
       "  <tbody>\n",
       "    <tr>\n",
       "      <th>0</th>\n",
       "      <td>['pengabdian', 'terpuji', 'meskipun', 'terliha...</td>\n",
       "      <td>Neutral</td>\n",
       "    </tr>\n",
       "    <tr>\n",
       "      <th>1</th>\n",
       "      <td>['baru', 'mengirim', 'foto']</td>\n",
       "      <td>Neutral</td>\n",
       "    </tr>\n",
       "    <tr>\n",
       "      <th>2</th>\n",
       "      <td>['apa', 'kabar', 'dunia', 'twitter', 'masihkah...</td>\n",
       "      <td>Neutral</td>\n",
       "    </tr>\n",
       "    <tr>\n",
       "      <th>3</th>\n",
       "      <td>['yah', 'gimana', 'sih', 'yaudah', 'susul', 's...</td>\n",
       "      <td>Neutral</td>\n",
       "    </tr>\n",
       "    <tr>\n",
       "      <th>4</th>\n",
       "      <td>['ka', 'dorg', 'suro', 'beli', 'medium', 'set'...</td>\n",
       "      <td>Neutral</td>\n",
       "    </tr>\n",
       "    <tr>\n",
       "      <th>5</th>\n",
       "      <td>['ayo', 'cek', 'koleksinya', 'temukan', 'angry...</td>\n",
       "      <td>Neutral</td>\n",
       "    </tr>\n",
       "    <tr>\n",
       "      <th>6</th>\n",
       "      <td>['kalau', 'biasa', 'biasa', 'sudah'           ...</td>\n",
       "      <td>Neutral</td>\n",
       "    </tr>\n",
       "    <tr>\n",
       "      <th>7</th>\n",
       "      <td>['tiap', 'tiap', 'twit', 'tak', 'selalu', 'per...</td>\n",
       "      <td>Neutral</td>\n",
       "    </tr>\n",
       "    <tr>\n",
       "      <th>8</th>\n",
       "      <td>['halo', 'v', 'apa', 'kabar', 'nih'           ...</td>\n",
       "      <td>Neutral</td>\n",
       "    </tr>\n",
       "    <tr>\n",
       "      <th>9</th>\n",
       "      <td>['pagi', 'ruby', 'apa', 'kabar'               ...</td>\n",
       "      <td>Neutral</td>\n",
       "    </tr>\n",
       "  </tbody>\n",
       "</table>\n",
       "</div>"
      ],
      "text/plain": [
       "                                           full_text  emotion\n",
       "0  ['pengabdian', 'terpuji', 'meskipun', 'terliha...  Neutral\n",
       "1                       ['baru', 'mengirim', 'foto']  Neutral\n",
       "2  ['apa', 'kabar', 'dunia', 'twitter', 'masihkah...  Neutral\n",
       "3  ['yah', 'gimana', 'sih', 'yaudah', 'susul', 's...  Neutral\n",
       "4  ['ka', 'dorg', 'suro', 'beli', 'medium', 'set'...  Neutral\n",
       "5  ['ayo', 'cek', 'koleksinya', 'temukan', 'angry...  Neutral\n",
       "6  ['kalau', 'biasa', 'biasa', 'sudah'           ...  Neutral\n",
       "7  ['tiap', 'tiap', 'twit', 'tak', 'selalu', 'per...  Neutral\n",
       "8  ['halo', 'v', 'apa', 'kabar', 'nih'           ...  Neutral\n",
       "9  ['pagi', 'ruby', 'apa', 'kabar'               ...  Neutral"
      ]
     },
     "execution_count": 192,
     "metadata": {},
     "output_type": "execute_result"
    }
   ],
   "source": [
    "train_df.head(10)"
   ]
  },
  {
   "cell_type": "code",
   "execution_count": 193,
   "metadata": {},
   "outputs": [],
   "source": [
    "def get_label_idx(label):\n",
    "    if label == 'Fear':\n",
    "        return 5\n",
    "    if label == 'Sad':\n",
    "        return 4\n",
    "    if label == 'Love':\n",
    "        return 3\n",
    "    if label == 'Joy':\n",
    "        return 2\n",
    "    if label == 'Anger':\n",
    "        return 1\n",
    "    if label == 'Neutral':\n",
    "        return 0\n",
    "train_df['emotion'] = train_df['emotion'].apply(get_label_idx)"
   ]
  },
  {
   "cell_type": "code",
   "execution_count": 194,
   "metadata": {},
   "outputs": [
    {
     "data": {
      "text/html": [
       "<div>\n",
       "<style scoped>\n",
       "    .dataframe tbody tr th:only-of-type {\n",
       "        vertical-align: middle;\n",
       "    }\n",
       "\n",
       "    .dataframe tbody tr th {\n",
       "        vertical-align: top;\n",
       "    }\n",
       "\n",
       "    .dataframe thead th {\n",
       "        text-align: right;\n",
       "    }\n",
       "</style>\n",
       "<table border=\"1\" class=\"dataframe\">\n",
       "  <thead>\n",
       "    <tr style=\"text-align: right;\">\n",
       "      <th></th>\n",
       "      <th>full_text</th>\n",
       "      <th>emotion</th>\n",
       "    </tr>\n",
       "  </thead>\n",
       "  <tbody>\n",
       "    <tr>\n",
       "      <th>0</th>\n",
       "      <td>['pengabdian', 'terpuji', 'meskipun', 'terliha...</td>\n",
       "      <td>0</td>\n",
       "    </tr>\n",
       "    <tr>\n",
       "      <th>1</th>\n",
       "      <td>['baru', 'mengirim', 'foto']</td>\n",
       "      <td>0</td>\n",
       "    </tr>\n",
       "    <tr>\n",
       "      <th>2</th>\n",
       "      <td>['apa', 'kabar', 'dunia', 'twitter', 'masihkah...</td>\n",
       "      <td>0</td>\n",
       "    </tr>\n",
       "    <tr>\n",
       "      <th>3</th>\n",
       "      <td>['yah', 'gimana', 'sih', 'yaudah', 'susul', 's...</td>\n",
       "      <td>0</td>\n",
       "    </tr>\n",
       "    <tr>\n",
       "      <th>4</th>\n",
       "      <td>['ka', 'dorg', 'suro', 'beli', 'medium', 'set'...</td>\n",
       "      <td>0</td>\n",
       "    </tr>\n",
       "    <tr>\n",
       "      <th>...</th>\n",
       "      <td>...</td>\n",
       "      <td>...</td>\n",
       "    </tr>\n",
       "    <tr>\n",
       "      <th>28695</th>\n",
       "      <td>['ingin', 'sangat', 'nih', 'daerah', 'jakarta'...</td>\n",
       "      <td>0</td>\n",
       "    </tr>\n",
       "    <tr>\n",
       "      <th>28696</th>\n",
       "      <td>['selamat', 'hari', 'raya', 'tri', 'suci', 'wa...</td>\n",
       "      <td>2</td>\n",
       "    </tr>\n",
       "    <tr>\n",
       "      <th>28697</th>\n",
       "      <td>['kandungan', 'serat', 'passion', 'fruit', 'ma...</td>\n",
       "      <td>3</td>\n",
       "    </tr>\n",
       "    <tr>\n",
       "      <th>28698</th>\n",
       "      <td>['selamat', 'memperingati', 'hari', 'kebangkit...</td>\n",
       "      <td>2</td>\n",
       "    </tr>\n",
       "    <tr>\n",
       "      <th>28699</th>\n",
       "      <td>['olive', 'oil', 'digunakan', 'mengobati', 'ku...</td>\n",
       "      <td>3</td>\n",
       "    </tr>\n",
       "  </tbody>\n",
       "</table>\n",
       "<p>28700 rows × 2 columns</p>\n",
       "</div>"
      ],
      "text/plain": [
       "                                               full_text  emotion\n",
       "0      ['pengabdian', 'terpuji', 'meskipun', 'terliha...        0\n",
       "1                           ['baru', 'mengirim', 'foto']        0\n",
       "2      ['apa', 'kabar', 'dunia', 'twitter', 'masihkah...        0\n",
       "3      ['yah', 'gimana', 'sih', 'yaudah', 'susul', 's...        0\n",
       "4      ['ka', 'dorg', 'suro', 'beli', 'medium', 'set'...        0\n",
       "...                                                  ...      ...\n",
       "28695  ['ingin', 'sangat', 'nih', 'daerah', 'jakarta'...        0\n",
       "28696  ['selamat', 'hari', 'raya', 'tri', 'suci', 'wa...        2\n",
       "28697  ['kandungan', 'serat', 'passion', 'fruit', 'ma...        3\n",
       "28698  ['selamat', 'memperingati', 'hari', 'kebangkit...        2\n",
       "28699  ['olive', 'oil', 'digunakan', 'mengobati', 'ku...        3\n",
       "\n",
       "[28700 rows x 2 columns]"
      ]
     },
     "execution_count": 194,
     "metadata": {},
     "output_type": "execute_result"
    }
   ],
   "source": [
    "train_df"
   ]
  },
  {
   "cell_type": "code",
   "execution_count": 195,
   "metadata": {},
   "outputs": [
    {
     "data": {
      "text/html": [
       "<div>\n",
       "<style scoped>\n",
       "    .dataframe tbody tr th:only-of-type {\n",
       "        vertical-align: middle;\n",
       "    }\n",
       "\n",
       "    .dataframe tbody tr th {\n",
       "        vertical-align: top;\n",
       "    }\n",
       "\n",
       "    .dataframe thead th {\n",
       "        text-align: right;\n",
       "    }\n",
       "</style>\n",
       "<table border=\"1\" class=\"dataframe\">\n",
       "  <thead>\n",
       "    <tr style=\"text-align: right;\">\n",
       "      <th></th>\n",
       "      <th>full_text</th>\n",
       "      <th>emotion</th>\n",
       "    </tr>\n",
       "  </thead>\n",
       "  <tbody>\n",
       "    <tr>\n",
       "      <th>0</th>\n",
       "      <td>pengabdian terpuji meskipun terlihat biasa</td>\n",
       "      <td>0</td>\n",
       "    </tr>\n",
       "    <tr>\n",
       "      <th>1</th>\n",
       "      <td>baru mengirim foto</td>\n",
       "      <td>0</td>\n",
       "    </tr>\n",
       "    <tr>\n",
       "      <th>2</th>\n",
       "      <td>apa kabar dunia twitter masihkah selucu seabsu...</td>\n",
       "      <td>0</td>\n",
       "    </tr>\n",
       "    <tr>\n",
       "      <th>3</th>\n",
       "      <td>yah gimana sih yaudah susul sebelumnya sarapan...</td>\n",
       "      <td>0</td>\n",
       "    </tr>\n",
       "    <tr>\n",
       "      <th>4</th>\n",
       "      <td>ka dorg suro beli medium set</td>\n",
       "      <td>0</td>\n",
       "    </tr>\n",
       "    <tr>\n",
       "      <th>...</th>\n",
       "      <td>...</td>\n",
       "      <td>...</td>\n",
       "    </tr>\n",
       "    <tr>\n",
       "      <th>28695</th>\n",
       "      <td>ingin sangat nih daerah jakarta barat tidak si</td>\n",
       "      <td>0</td>\n",
       "    </tr>\n",
       "    <tr>\n",
       "      <th>28696</th>\n",
       "      <td>selamat hari raya tri suci waisak seluruh umat...</td>\n",
       "      <td>2</td>\n",
       "    </tr>\n",
       "    <tr>\n",
       "      <th>28697</th>\n",
       "      <td>kandungan serat passion fruit markisa berfungs...</td>\n",
       "      <td>3</td>\n",
       "    </tr>\n",
       "    <tr>\n",
       "      <th>28698</th>\n",
       "      <td>selamat memperingati hari kebangkitan nasional...</td>\n",
       "      <td>2</td>\n",
       "    </tr>\n",
       "    <tr>\n",
       "      <th>28699</th>\n",
       "      <td>olive oil digunakan mengobati kulit ruam kemer...</td>\n",
       "      <td>3</td>\n",
       "    </tr>\n",
       "  </tbody>\n",
       "</table>\n",
       "<p>28700 rows × 2 columns</p>\n",
       "</div>"
      ],
      "text/plain": [
       "                                               full_text  emotion\n",
       "0             pengabdian terpuji meskipun terlihat biasa        0\n",
       "1                                     baru mengirim foto        0\n",
       "2      apa kabar dunia twitter masihkah selucu seabsu...        0\n",
       "3      yah gimana sih yaudah susul sebelumnya sarapan...        0\n",
       "4                           ka dorg suro beli medium set        0\n",
       "...                                                  ...      ...\n",
       "28695     ingin sangat nih daerah jakarta barat tidak si        0\n",
       "28696  selamat hari raya tri suci waisak seluruh umat...        2\n",
       "28697  kandungan serat passion fruit markisa berfungs...        3\n",
       "28698  selamat memperingati hari kebangkitan nasional...        2\n",
       "28699  olive oil digunakan mengobati kulit ruam kemer...        3\n",
       "\n",
       "[28700 rows x 2 columns]"
      ]
     },
     "execution_count": 195,
     "metadata": {},
     "output_type": "execute_result"
    }
   ],
   "source": [
    "# Define the function to join the list of tokens as a single document string\n",
    "def join_text_list(texts):\n",
    "    try:\n",
    "        texts = ast.literal_eval(texts)\n",
    "        return ' '.join([text for text in texts])\n",
    "    except (ValueError, SyntaxError):\n",
    "        return None  # or return an empty string if you prefer\n",
    "\n",
    "# Apply the function to the 'full_text' column\n",
    "train_df[\"full_text\"] = train_df[\"full_text\"].apply(join_text_list)\n",
    "\n",
    "# Display the first few rows of the preprocessed column\n",
    "train_df"
   ]
  },
  {
   "cell_type": "code",
   "execution_count": 196,
   "metadata": {},
   "outputs": [
    {
     "name": "stdout",
     "output_type": "stream",
     "text": [
      "Jumlah Netral:  3550\n",
      "Jumlah Marah:  5757\n",
      "Jumlah Senang:  6638\n",
      "Jumlah Cinta:  4411\n",
      "Jumlah Sedih:  4857\n",
      "Jumlah Takut:  3487\n"
     ]
    }
   ],
   "source": [
    "jumlah_netral = len(train_df[train_df['emotion'] == 0])\n",
    "jumlah_marah = len(train_df[train_df['emotion'] == 1])\n",
    "jumlah_senang = len(train_df[train_df['emotion'] == 2])\n",
    "jumlah_cinta = len(train_df[train_df['emotion'] == 3])\n",
    "jumlah_sedih = len(train_df[train_df['emotion'] == 4])\n",
    "jumlah_takut = len(train_df[train_df['emotion'] == 5])\n",
    "\n",
    "print(\"Jumlah Netral: \", jumlah_netral)\n",
    "print(\"Jumlah Marah: \", jumlah_marah)\n",
    "print(\"Jumlah Senang: \", jumlah_senang)\n",
    "print(\"Jumlah Cinta: \", jumlah_cinta)\n",
    "print(\"Jumlah Sedih: \", jumlah_sedih)\n",
    "print(\"Jumlah Takut: \", jumlah_takut)"
   ]
  },
  {
   "cell_type": "code",
   "execution_count": 197,
   "metadata": {},
   "outputs": [],
   "source": [
    "# Split dataset menjadi fitur (X) dan label (y)\n",
    "X_train = train_df['full_text']\n",
    "y_train = train_df['emotion']\n"
   ]
  },
  {
   "cell_type": "code",
   "execution_count": 198,
   "metadata": {},
   "outputs": [],
   "source": [
    "##split dataset\n",
    "from sklearn.model_selection import train_test_split\n",
    "\n",
    "X_train, X_valid, y_train, y_valid = train_test_split(X_train, y_train, test_size=0.1, random_state=42)"
   ]
  },
  {
   "cell_type": "code",
   "execution_count": 199,
   "metadata": {},
   "outputs": [
    {
     "data": {
      "text/plain": [
       "((25830,), (2870,), (25830,), (2870,))"
      ]
     },
     "execution_count": 199,
     "metadata": {},
     "output_type": "execute_result"
    }
   ],
   "source": [
    "X_train.shape, X_valid.shape, y_train.shape, y_valid.shape"
   ]
  },
  {
   "cell_type": "markdown",
   "metadata": {},
   "source": [
    "## Generate Padded Sequence"
   ]
  },
  {
   "cell_type": "code",
   "execution_count": 200,
   "metadata": {},
   "outputs": [],
   "source": [
    "# Parameters\n",
    "\n",
    "vocab_size = 60000 #ukuran kosakata yang akan digunakan\n",
    "max_length = 50 #panjang maksimal dari sebuah kalimat\n",
    "embedding_dim = 8 #dimensi vektor embedding yang akan digunakan\n",
    "trunc_type='post' #jika panjang kalimat melebihi max_length, potong bagian belakang kalimat\n",
    "oov_tok = \"<OOV>\" #OOV (Out Of Vocabulary) token, jika suatu kata tidak ditemukan dalam kosakata"
   ]
  },
  {
   "cell_type": "code",
   "execution_count": 201,
   "metadata": {},
   "outputs": [],
   "source": [
    "from tensorflow.keras.preprocessing.text import Tokenizer\n",
    "from tensorflow.keras.preprocessing.sequence import pad_sequences\n",
    "import pandas as pd\n",
    "import re\n",
    "\n",
    "# Define the \"all_texts\" variable\n",
    "X_train = [str(text) for text in X_train]\n",
    "X_valid = [str(text) for text in X_valid]\n",
    "\n",
    "# Tokenisasi\n",
    "tokenizer = Tokenizer(num_words=vocab_size, oov_token=oov_tok)\n",
    "\n",
    "# Gabungkan semua teks untuk membuat kamus indeks kata\n",
    "all_texts = list(X_train) + list(X_valid)\n",
    "\n",
    "# Membuat kamus indeks kata\n",
    "tokenizer.fit_on_texts(all_texts)\n",
    "word_index = tokenizer.word_index\n",
    "word_index\n",
    "\n",
    "\n",
    "# Konversi kalimat menjadi urutan kata\n",
    "train_sequences = tokenizer.texts_to_sequences(X_train)\n",
    "train_padded = pad_sequences(train_sequences, maxlen=max_length, truncating=trunc_type, padding=\"post\")\n",
    "\n",
    "valid_sequences = tokenizer.texts_to_sequences(X_valid)\n",
    "valid_padded = pad_sequences(valid_sequences, maxlen=max_length, truncating=trunc_type, padding=\"post\")\n",
    "\n",
    "\n"
   ]
  },
  {
   "cell_type": "markdown",
   "metadata": {},
   "source": [
    "### kamus data untuk api Training"
   ]
  },
  {
   "cell_type": "code",
   "execution_count": 202,
   "metadata": {},
   "outputs": [],
   "source": [
    "# import pickle\n",
    "\n",
    "# Simpan tokenizer ke dalam file\n",
    "# with open('tokenizer-2classes-no-stemming.pickle', 'wb') as handle:\n",
    "#     pickle.dump(tokenizer, handle, protocol=pickle.HIGHEST_PROTOCOL)\n"
   ]
  },
  {
   "cell_type": "code",
   "execution_count": 203,
   "metadata": {},
   "outputs": [
    {
     "name": "stdout",
     "output_type": "stream",
     "text": [
      "[   79 22710     0     0     0     0     0     0     0     0     0     0\n",
      "     0     0     0     0     0     0     0     0     0     0     0     0\n",
      "     0     0     0     0     0     0     0     0     0     0     0     0\n",
      "     0     0     0     0     0     0     0     0     0     0     0     0\n",
      "     0     0]\n"
     ]
    }
   ],
   "source": [
    "print(train_padded[0])"
   ]
  },
  {
   "cell_type": "markdown",
   "metadata": {},
   "source": [
    "## Word Embedding"
   ]
  },
  {
   "cell_type": "code",
   "execution_count": 204,
   "metadata": {},
   "outputs": [],
   "source": [
    "from gensim.models import Word2Vec\n",
    "\n",
    "# Gabungkan data pelatihan dan validasi\n",
    "sentences = [sentence.split() for sentence in X_train] + [sentence.split() for sentence in X_valid]\n",
    "\n",
    "# Latih model Word2Vec\n",
    "w2v_model = Word2Vec(sentences, vector_size=8, window=5, min_count=1, workers=4)"
   ]
  },
  {
   "cell_type": "code",
   "execution_count": 205,
   "metadata": {},
   "outputs": [],
   "source": [
    "# Create a weight matrix for the embedding layer\n",
    "embedding_matrix = np.zeros((vocab_size, 8))\n",
    "for word, i in tokenizer.word_index.items():\n",
    "    if word in w2v_model.wv:\n",
    "        embedding_matrix[i] = w2v_model.wv[word]\n",
    "        "
   ]
  },
  {
   "cell_type": "code",
   "execution_count": 206,
   "metadata": {},
   "outputs": [
    {
     "data": {
      "text/plain": [
       "array([[ 0.        ,  0.        ,  0.        , ...,  0.        ,\n",
       "         0.        ,  0.        ],\n",
       "       [ 0.        ,  0.        ,  0.        , ...,  0.        ,\n",
       "         0.        ,  0.        ],\n",
       "       [-4.90468073, -1.12634397,  3.38494587, ...,  1.0388068 ,\n",
       "         4.88391399, -3.67229509],\n",
       "       ...,\n",
       "       [ 0.        ,  0.        ,  0.        , ...,  0.        ,\n",
       "         0.        ,  0.        ],\n",
       "       [ 0.        ,  0.        ,  0.        , ...,  0.        ,\n",
       "         0.        ,  0.        ],\n",
       "       [ 0.        ,  0.        ,  0.        , ...,  0.        ,\n",
       "         0.        ,  0.        ]])"
      ]
     },
     "execution_count": 206,
     "metadata": {},
     "output_type": "execute_result"
    }
   ],
   "source": [
    "embedding_matrix"
   ]
  },
  {
   "cell_type": "code",
   "execution_count": 207,
   "metadata": {},
   "outputs": [
    {
     "name": "stdout",
     "output_type": "stream",
     "text": [
      "('in', array([-2.02983356, -0.87857813,  2.68469834,  2.18179321,  1.55832744,\n",
      "       -1.07167006,  2.9557488 ,  0.17139   ]))\n"
     ]
    }
   ],
   "source": [
    "# Mencari kata berdasarkan vektor tertentu\n",
    "def find_word_by_vector(embedding_matrix, vector):\n",
    "    for word, index in word_index.items():\n",
    "        if np.array_equal(embedding_matrix[index], vector):\n",
    "            return word, embedding_matrix[index]\n",
    "    return None\n",
    "\n",
    "# Contoh: Mencari kata untuk vektor embedding_matrix[3]\n",
    "word = find_word_by_vector(embedding_matrix, embedding_matrix[345])\n",
    "print(word)"
   ]
  },
  {
   "cell_type": "markdown",
   "metadata": {},
   "source": [
    "## Build and Compile Model"
   ]
  },
  {
   "cell_type": "code",
   "execution_count": 208,
   "metadata": {},
   "outputs": [
    {
     "name": "stderr",
     "output_type": "stream",
     "text": [
      "c:\\Users\\TEMP\\miniconda3\\envs\\skripsi\\Lib\\site-packages\\keras\\src\\layers\\core\\embedding.py:93: UserWarning: Do not pass an `input_shape`/`input_dim` argument to a layer. When using Sequential models, prefer using an `Input(shape)` object as the first layer in the model instead.\n",
      "  super().__init__(**kwargs)\n"
     ]
    },
    {
     "data": {
      "text/html": [
       "<pre style=\"white-space:pre;overflow-x:auto;line-height:normal;font-family:Menlo,'DejaVu Sans Mono',consolas,'Courier New',monospace\"><span style=\"font-weight: bold\">Model: \"sequential_6\"</span>\n",
       "</pre>\n"
      ],
      "text/plain": [
       "\u001b[1mModel: \"sequential_6\"\u001b[0m\n"
      ]
     },
     "metadata": {},
     "output_type": "display_data"
    },
    {
     "data": {
      "text/html": [
       "<pre style=\"white-space:pre;overflow-x:auto;line-height:normal;font-family:Menlo,'DejaVu Sans Mono',consolas,'Courier New',monospace\">┏━━━━━━━━━━━━━━━━━━━━━━━━━━━━━━━━━┳━━━━━━━━━━━━━━━━━━━━━━━━┳━━━━━━━━━━━━━━━┓\n",
       "┃<span style=\"font-weight: bold\"> Layer (type)                    </span>┃<span style=\"font-weight: bold\"> Output Shape           </span>┃<span style=\"font-weight: bold\">       Param # </span>┃\n",
       "┡━━━━━━━━━━━━━━━━━━━━━━━━━━━━━━━━━╇━━━━━━━━━━━━━━━━━━━━━━━━╇━━━━━━━━━━━━━━━┩\n",
       "│ embedding_6 (<span style=\"color: #0087ff; text-decoration-color: #0087ff\">Embedding</span>)         │ (<span style=\"color: #00d7ff; text-decoration-color: #00d7ff\">None</span>, <span style=\"color: #00af00; text-decoration-color: #00af00\">50</span>, <span style=\"color: #00af00; text-decoration-color: #00af00\">8</span>)          │       <span style=\"color: #00af00; text-decoration-color: #00af00\">480,000</span> │\n",
       "├─────────────────────────────────┼────────────────────────┼───────────────┤\n",
       "│ conv1d_6 (<span style=\"color: #0087ff; text-decoration-color: #0087ff\">Conv1D</span>)               │ (<span style=\"color: #00d7ff; text-decoration-color: #00d7ff\">None</span>, <span style=\"color: #00af00; text-decoration-color: #00af00\">50</span>, <span style=\"color: #00af00; text-decoration-color: #00af00\">128</span>)        │         <span style=\"color: #00af00; text-decoration-color: #00af00\">5,248</span> │\n",
       "├─────────────────────────────────┼────────────────────────┼───────────────┤\n",
       "│ max_pooling1d_6 (<span style=\"color: #0087ff; text-decoration-color: #0087ff\">MaxPooling1D</span>)  │ (<span style=\"color: #00d7ff; text-decoration-color: #00d7ff\">None</span>, <span style=\"color: #00af00; text-decoration-color: #00af00\">25</span>, <span style=\"color: #00af00; text-decoration-color: #00af00\">128</span>)        │             <span style=\"color: #00af00; text-decoration-color: #00af00\">0</span> │\n",
       "├─────────────────────────────────┼────────────────────────┼───────────────┤\n",
       "│ flatten_6 (<span style=\"color: #0087ff; text-decoration-color: #0087ff\">Flatten</span>)             │ (<span style=\"color: #00d7ff; text-decoration-color: #00d7ff\">None</span>, <span style=\"color: #00af00; text-decoration-color: #00af00\">3200</span>)           │             <span style=\"color: #00af00; text-decoration-color: #00af00\">0</span> │\n",
       "├─────────────────────────────────┼────────────────────────┼───────────────┤\n",
       "│ dense_12 (<span style=\"color: #0087ff; text-decoration-color: #0087ff\">Dense</span>)                │ (<span style=\"color: #00d7ff; text-decoration-color: #00d7ff\">None</span>, <span style=\"color: #00af00; text-decoration-color: #00af00\">16</span>)             │        <span style=\"color: #00af00; text-decoration-color: #00af00\">51,216</span> │\n",
       "├─────────────────────────────────┼────────────────────────┼───────────────┤\n",
       "│ dropout_6 (<span style=\"color: #0087ff; text-decoration-color: #0087ff\">Dropout</span>)             │ (<span style=\"color: #00d7ff; text-decoration-color: #00d7ff\">None</span>, <span style=\"color: #00af00; text-decoration-color: #00af00\">16</span>)             │             <span style=\"color: #00af00; text-decoration-color: #00af00\">0</span> │\n",
       "├─────────────────────────────────┼────────────────────────┼───────────────┤\n",
       "│ dense_13 (<span style=\"color: #0087ff; text-decoration-color: #0087ff\">Dense</span>)                │ (<span style=\"color: #00d7ff; text-decoration-color: #00d7ff\">None</span>, <span style=\"color: #00af00; text-decoration-color: #00af00\">6</span>)              │           <span style=\"color: #00af00; text-decoration-color: #00af00\">102</span> │\n",
       "└─────────────────────────────────┴────────────────────────┴───────────────┘\n",
       "</pre>\n"
      ],
      "text/plain": [
       "┏━━━━━━━━━━━━━━━━━━━━━━━━━━━━━━━━━┳━━━━━━━━━━━━━━━━━━━━━━━━┳━━━━━━━━━━━━━━━┓\n",
       "┃\u001b[1m \u001b[0m\u001b[1mLayer (type)                   \u001b[0m\u001b[1m \u001b[0m┃\u001b[1m \u001b[0m\u001b[1mOutput Shape          \u001b[0m\u001b[1m \u001b[0m┃\u001b[1m \u001b[0m\u001b[1m      Param #\u001b[0m\u001b[1m \u001b[0m┃\n",
       "┡━━━━━━━━━━━━━━━━━━━━━━━━━━━━━━━━━╇━━━━━━━━━━━━━━━━━━━━━━━━╇━━━━━━━━━━━━━━━┩\n",
       "│ embedding_6 (\u001b[38;5;33mEmbedding\u001b[0m)         │ (\u001b[38;5;45mNone\u001b[0m, \u001b[38;5;34m50\u001b[0m, \u001b[38;5;34m8\u001b[0m)          │       \u001b[38;5;34m480,000\u001b[0m │\n",
       "├─────────────────────────────────┼────────────────────────┼───────────────┤\n",
       "│ conv1d_6 (\u001b[38;5;33mConv1D\u001b[0m)               │ (\u001b[38;5;45mNone\u001b[0m, \u001b[38;5;34m50\u001b[0m, \u001b[38;5;34m128\u001b[0m)        │         \u001b[38;5;34m5,248\u001b[0m │\n",
       "├─────────────────────────────────┼────────────────────────┼───────────────┤\n",
       "│ max_pooling1d_6 (\u001b[38;5;33mMaxPooling1D\u001b[0m)  │ (\u001b[38;5;45mNone\u001b[0m, \u001b[38;5;34m25\u001b[0m, \u001b[38;5;34m128\u001b[0m)        │             \u001b[38;5;34m0\u001b[0m │\n",
       "├─────────────────────────────────┼────────────────────────┼───────────────┤\n",
       "│ flatten_6 (\u001b[38;5;33mFlatten\u001b[0m)             │ (\u001b[38;5;45mNone\u001b[0m, \u001b[38;5;34m3200\u001b[0m)           │             \u001b[38;5;34m0\u001b[0m │\n",
       "├─────────────────────────────────┼────────────────────────┼───────────────┤\n",
       "│ dense_12 (\u001b[38;5;33mDense\u001b[0m)                │ (\u001b[38;5;45mNone\u001b[0m, \u001b[38;5;34m16\u001b[0m)             │        \u001b[38;5;34m51,216\u001b[0m │\n",
       "├─────────────────────────────────┼────────────────────────┼───────────────┤\n",
       "│ dropout_6 (\u001b[38;5;33mDropout\u001b[0m)             │ (\u001b[38;5;45mNone\u001b[0m, \u001b[38;5;34m16\u001b[0m)             │             \u001b[38;5;34m0\u001b[0m │\n",
       "├─────────────────────────────────┼────────────────────────┼───────────────┤\n",
       "│ dense_13 (\u001b[38;5;33mDense\u001b[0m)                │ (\u001b[38;5;45mNone\u001b[0m, \u001b[38;5;34m6\u001b[0m)              │           \u001b[38;5;34m102\u001b[0m │\n",
       "└─────────────────────────────────┴────────────────────────┴───────────────┘\n"
      ]
     },
     "metadata": {},
     "output_type": "display_data"
    },
    {
     "data": {
      "text/html": [
       "<pre style=\"white-space:pre;overflow-x:auto;line-height:normal;font-family:Menlo,'DejaVu Sans Mono',consolas,'Courier New',monospace\"><span style=\"font-weight: bold\"> Total params: </span><span style=\"color: #00af00; text-decoration-color: #00af00\">536,566</span> (2.05 MB)\n",
       "</pre>\n"
      ],
      "text/plain": [
       "\u001b[1m Total params: \u001b[0m\u001b[38;5;34m536,566\u001b[0m (2.05 MB)\n"
      ]
     },
     "metadata": {},
     "output_type": "display_data"
    },
    {
     "data": {
      "text/html": [
       "<pre style=\"white-space:pre;overflow-x:auto;line-height:normal;font-family:Menlo,'DejaVu Sans Mono',consolas,'Courier New',monospace\"><span style=\"font-weight: bold\"> Trainable params: </span><span style=\"color: #00af00; text-decoration-color: #00af00\">56,566</span> (220.96 KB)\n",
       "</pre>\n"
      ],
      "text/plain": [
       "\u001b[1m Trainable params: \u001b[0m\u001b[38;5;34m56,566\u001b[0m (220.96 KB)\n"
      ]
     },
     "metadata": {},
     "output_type": "display_data"
    },
    {
     "data": {
      "text/html": [
       "<pre style=\"white-space:pre;overflow-x:auto;line-height:normal;font-family:Menlo,'DejaVu Sans Mono',consolas,'Courier New',monospace\"><span style=\"font-weight: bold\"> Non-trainable params: </span><span style=\"color: #00af00; text-decoration-color: #00af00\">480,000</span> (1.83 MB)\n",
       "</pre>\n"
      ],
      "text/plain": [
       "\u001b[1m Non-trainable params: \u001b[0m\u001b[38;5;34m480,000\u001b[0m (1.83 MB)\n"
      ]
     },
     "metadata": {},
     "output_type": "display_data"
    }
   ],
   "source": [
    "# convert to bi-lstm model\n",
    "model = tf.keras.Sequential([\n",
    "    tf.keras.layers.Embedding(vocab_size, 8,  embeddings_initializer=tf.keras.initializers.Constant(embedding_matrix), input_shape=(max_length,), trainable=False),\n",
    "    # tf.keras.layers.Embedding(vocab_size, 8, input_shape=(max_length,)),\n",
    "    tf.keras.layers.Conv1D(128, 5, activation='relu', padding='same'),\n",
    "    # tf.keras.layers.GlobalMaxPooling1D(),\n",
    "    tf.keras.layers.MaxPooling1D(pool_size=2),\n",
    "    tf.keras.layers.Flatten(),\n",
    "    tf.keras.layers.Dense(16, activation='relu'),\n",
    "    tf.keras.layers.Dropout(0.5),\n",
    "    tf.keras.layers.Dense(6, activation='softmax')\n",
    "])\n",
    "\n",
    "model.compile(loss='sparse_categorical_crossentropy',optimizer='adam',metrics=['accuracy'])\n",
    "\n",
    "model.summary()"
   ]
  },
  {
   "cell_type": "code",
   "execution_count": 209,
   "metadata": {},
   "outputs": [
    {
     "name": "stdout",
     "output_type": "stream",
     "text": [
      "Layer Name: embedding_6\n",
      "Weights Shape (Tensor 0): (60000, 8)\n",
      "Weights (Tensor 0):\n",
      "[[ 0.         0.         0.        ...  0.         0.         0.       ]\n",
      " [ 0.         0.         0.        ...  0.         0.         0.       ]\n",
      " [-4.9046807 -1.126344   3.3849459 ...  1.0388068  4.883914  -3.672295 ]\n",
      " ...\n",
      " [ 0.         0.         0.        ...  0.         0.         0.       ]\n",
      " [ 0.         0.         0.        ...  0.         0.         0.       ]\n",
      " [ 0.         0.         0.        ...  0.         0.         0.       ]]\n",
      "Layer Name: conv1d_6\n",
      "Weights Shape (Tensor 0): (5, 8, 128)\n",
      "Weights (Tensor 0):\n",
      "[[[ 0.03861588 -0.0734674   0.04272851 ... -0.07650436 -0.03203803\n",
      "    0.00747733]\n",
      "  [-0.0353469  -0.0054459   0.03804697 ...  0.03050483  0.01677512\n",
      "    0.09110402]\n",
      "  [ 0.005872    0.02182914  0.03713126 ...  0.07157534 -0.08101268\n",
      "   -0.03754532]\n",
      "  ...\n",
      "  [ 0.09070326 -0.08031531 -0.05101047 ...  0.05231787  0.06069884\n",
      "    0.04412188]\n",
      "  [ 0.01573454  0.02660389 -0.01101607 ... -0.08347005  0.00986149\n",
      "    0.07440701]\n",
      "  [ 0.00651808  0.07099871 -0.04686924 ... -0.04431759  0.05114475\n",
      "   -0.03080818]]\n",
      "\n",
      " [[-0.03166042  0.0138139  -0.06653433 ...  0.02164931 -0.02223468\n",
      "    0.05461679]\n",
      "  [-0.06640363  0.07989211 -0.01910582 ... -0.04653698 -0.08275245\n",
      "    0.02831402]\n",
      "  [ 0.027322   -0.06841457  0.00535374 ... -0.09070595 -0.07943419\n",
      "   -0.08072458]\n",
      "  ...\n",
      "  [-0.09113827 -0.06548154  0.02104978 ... -0.03157836  0.00551158\n",
      "   -0.01227821]\n",
      "  [-0.05908228  0.02887908 -0.0476717  ... -0.04182752  0.06838129\n",
      "    0.00305802]\n",
      "  [-0.07312047  0.01173095  0.0381811  ... -0.04780551  0.02942989\n",
      "   -0.03732244]]\n",
      "\n",
      " [[ 0.01836549 -0.05207905 -0.02196725 ...  0.00830482  0.08724333\n",
      "    0.00749665]\n",
      "  [-0.04056508 -0.00639585  0.01968999 ...  0.06960456 -0.08686253\n",
      "   -0.08342931]\n",
      "  [ 0.03387755 -0.08084523 -0.00677859 ...  0.06657113 -0.02780987\n",
      "   -0.04960282]\n",
      "  ...\n",
      "  [ 0.01010229 -0.04808366 -0.02606465 ... -0.00646774 -0.00604688\n",
      "    0.02564382]\n",
      "  [ 0.04583338 -0.07057421 -0.08754256 ... -0.06012065  0.08195412\n",
      "    0.04143152]\n",
      "  [ 0.0130398  -0.01194445 -0.00303099 ... -0.04126098  0.0822112\n",
      "   -0.02986044]]\n",
      "\n",
      " [[ 0.0043242  -0.01006284 -0.0732032  ...  0.05385222  0.03087998\n",
      "   -0.02040275]\n",
      "  [-0.08585591 -0.00795659 -0.0227023  ... -0.04317416 -0.0210472\n",
      "   -0.0494422 ]\n",
      "  [-0.01201352 -0.0674416  -0.03475398 ...  0.0875985  -0.00074122\n",
      "    0.06936136]\n",
      "  ...\n",
      "  [ 0.0929779  -0.08352924  0.0322956  ... -0.00284385  0.02031205\n",
      "   -0.06036551]\n",
      "  [-0.07832284 -0.02155937  0.02990268 ... -0.01354249 -0.06575719\n",
      "    0.05515425]\n",
      "  [ 0.07325998  0.01895393 -0.01389358 ...  0.00674491 -0.03467949\n",
      "   -0.08153871]]\n",
      "\n",
      " [[ 0.04838173  0.03709222 -0.01641921 ...  0.05967167 -0.05877804\n",
      "    0.01923099]\n",
      "  [-0.05537919  0.02962372 -0.06855597 ...  0.05388601  0.03746474\n",
      "    0.01993415]\n",
      "  [-0.00562546  0.06948407 -0.02964303 ... -0.07351105  0.07533894\n",
      "    0.02180234]\n",
      "  ...\n",
      "  [-0.06413171  0.00024854 -0.04657875 ...  0.08225276  0.01869126\n",
      "   -0.0100183 ]\n",
      "  [ 0.00889996  0.03263481  0.02262391 ...  0.00116428 -0.07696623\n",
      "    0.03016998]\n",
      "  [-0.09215972  0.05063234  0.07027029 ...  0.03684829  0.08509406\n",
      "   -0.09156684]]]\n",
      "Weights Shape (Tensor 1): (128,)\n",
      "Weights (Tensor 1):\n",
      "[0. 0. 0. 0. 0. 0. 0. 0. 0. 0. 0. 0. 0. 0. 0. 0. 0. 0. 0. 0. 0. 0. 0. 0.\n",
      " 0. 0. 0. 0. 0. 0. 0. 0. 0. 0. 0. 0. 0. 0. 0. 0. 0. 0. 0. 0. 0. 0. 0. 0.\n",
      " 0. 0. 0. 0. 0. 0. 0. 0. 0. 0. 0. 0. 0. 0. 0. 0. 0. 0. 0. 0. 0. 0. 0. 0.\n",
      " 0. 0. 0. 0. 0. 0. 0. 0. 0. 0. 0. 0. 0. 0. 0. 0. 0. 0. 0. 0. 0. 0. 0. 0.\n",
      " 0. 0. 0. 0. 0. 0. 0. 0. 0. 0. 0. 0. 0. 0. 0. 0. 0. 0. 0. 0. 0. 0. 0. 0.\n",
      " 0. 0. 0. 0. 0. 0. 0. 0.]\n",
      "Layer Name: dense_12\n",
      "Weights Shape (Tensor 0): (3200, 16)\n",
      "Weights (Tensor 0):\n",
      "[[-0.00130301  0.00861607  0.01087467 ...  0.00654955  0.0358908\n",
      "   0.01668214]\n",
      " [ 0.03844339 -0.00888816 -0.03683099 ...  0.03968713  0.04080334\n",
      "   0.0349966 ]\n",
      " [-0.02287948  0.04149806 -0.0092192  ... -0.02801305 -0.00340769\n",
      "  -0.0256591 ]\n",
      " ...\n",
      " [-0.04086343 -0.01061067 -0.02200338 ... -0.02788178 -0.0327653\n",
      "   0.00953731]\n",
      " [ 0.00243697  0.01042831 -0.00604741 ... -0.01278953 -0.00786828\n",
      "   0.00800945]\n",
      " [ 0.02837632  0.02991159 -0.0082063  ... -0.02920442 -0.04093859\n",
      "  -0.01550507]]\n",
      "Weights Shape (Tensor 1): (16,)\n",
      "Weights (Tensor 1):\n",
      "[0. 0. 0. 0. 0. 0. 0. 0. 0. 0. 0. 0. 0. 0. 0. 0.]\n",
      "Layer Name: dense_13\n",
      "Weights Shape (Tensor 0): (16, 6)\n",
      "Weights (Tensor 0):\n",
      "[[-0.3268304   0.4781807   0.19420874 -0.1573863   0.12780744 -0.08580473]\n",
      " [ 0.3468383  -0.42169034 -0.05818129  0.47224206 -0.5127921  -0.4608053 ]\n",
      " [-0.47004768  0.13846451  0.21919155 -0.37762138 -0.19197494 -0.29443038]\n",
      " [ 0.05783516  0.16118872  0.0124653   0.38580978 -0.45936358 -0.01665932]\n",
      " [ 0.07755756  0.1562078   0.5038087  -0.4456797  -0.02060318  0.23854703]\n",
      " [-0.09087354  0.20349836  0.07280004  0.11422789 -0.36314237 -0.19254607]\n",
      " [-0.24290976  0.08129686 -0.08262587 -0.40113485  0.32398057  0.5015076 ]\n",
      " [ 0.37334943 -0.26731223  0.39935625 -0.01994777 -0.43705326 -0.4619056 ]\n",
      " [ 0.09554291 -0.27606106  0.31143373 -0.3342782  -0.4156622  -0.15094787]\n",
      " [ 0.02687675  0.44227374  0.01988995  0.09891224  0.33391154  0.4020036 ]\n",
      " [-0.47717786 -0.4909939   0.51143914 -0.3615322   0.04737556 -0.01952183]\n",
      " [ 0.39793646 -0.03467044 -0.1975882   0.44006544 -0.4434354   0.06233978]\n",
      " [-0.22998187 -0.28636014  0.41060537 -0.33985102  0.2109353  -0.06803489]\n",
      " [-0.05231389 -0.1689296   0.34057367 -0.47017455  0.01765728  0.3950792 ]\n",
      " [ 0.18622917 -0.1583302   0.29702926 -0.23569128 -0.18315488  0.21276623]\n",
      " [-0.27085963  0.28306997  0.35679847  0.33931178  0.37135416 -0.20500329]]\n",
      "Weights Shape (Tensor 1): (6,)\n",
      "Weights (Tensor 1):\n",
      "[0. 0. 0. 0. 0. 0.]\n"
     ]
    }
   ],
   "source": [
    "# Looping untuk mendapatkan bobot dari setiap layer\n",
    "for layer in model.layers:\n",
    "    # Mengecek apakah layer memiliki bobot\n",
    "    if layer.weights:\n",
    "        print(\"Layer Name:\", layer.name)\n",
    "        # Mendapatkan bobot dan bias dari layer\n",
    "        weights = layer.get_weights()\n",
    "        for i, w in enumerate(weights):\n",
    "            print(\"Weights Shape (Tensor {}):\".format(i), w.shape)\n",
    "            print(\"Weights (Tensor {}):\".format(i))\n",
    "            print(w)\n"
   ]
  },
  {
   "cell_type": "markdown",
   "metadata": {},
   "source": [
    "## Train Model"
   ]
  },
  {
   "cell_type": "code",
   "execution_count": 210,
   "metadata": {},
   "outputs": [
    {
     "name": "stdout",
     "output_type": "stream",
     "text": [
      "Epoch 1/200\n",
      "\u001b[1m202/202\u001b[0m \u001b[32m━━━━━━━━━━━━━━━━━━━━\u001b[0m\u001b[37m\u001b[0m \u001b[1m3s\u001b[0m 8ms/step - accuracy: 0.2550 - loss: 1.7383 - val_accuracy: 0.3704 - val_loss: 1.5656 - learning_rate: 0.0010\n",
      "Epoch 2/200\n",
      "\u001b[1m202/202\u001b[0m \u001b[32m━━━━━━━━━━━━━━━━━━━━\u001b[0m\u001b[37m\u001b[0m \u001b[1m1s\u001b[0m 6ms/step - accuracy: 0.3237 - loss: 1.6200 - val_accuracy: 0.3833 - val_loss: 1.5090 - learning_rate: 0.0010\n",
      "Epoch 3/200\n",
      "\u001b[1m202/202\u001b[0m \u001b[32m━━━━━━━━━━━━━━━━━━━━\u001b[0m\u001b[37m\u001b[0m \u001b[1m1s\u001b[0m 6ms/step - accuracy: 0.3486 - loss: 1.5654 - val_accuracy: 0.4439 - val_loss: 1.4881 - learning_rate: 0.0010\n",
      "Epoch 4/200\n",
      "\u001b[1m202/202\u001b[0m \u001b[32m━━━━━━━━━━━━━━━━━━━━\u001b[0m\u001b[37m\u001b[0m \u001b[1m1s\u001b[0m 7ms/step - accuracy: 0.3786 - loss: 1.5203 - val_accuracy: 0.4697 - val_loss: 1.4291 - learning_rate: 0.0010\n",
      "Epoch 5/200\n",
      "\u001b[1m202/202\u001b[0m \u001b[32m━━━━━━━━━━━━━━━━━━━━\u001b[0m\u001b[37m\u001b[0m \u001b[1m1s\u001b[0m 6ms/step - accuracy: 0.4051 - loss: 1.4771 - val_accuracy: 0.4700 - val_loss: 1.4117 - learning_rate: 0.0010\n",
      "Epoch 6/200\n",
      "\u001b[1m202/202\u001b[0m \u001b[32m━━━━━━━━━━━━━━━━━━━━\u001b[0m\u001b[37m\u001b[0m \u001b[1m1s\u001b[0m 6ms/step - accuracy: 0.4176 - loss: 1.4494 - val_accuracy: 0.4822 - val_loss: 1.3845 - learning_rate: 0.0010\n",
      "Epoch 7/200\n",
      "\u001b[1m202/202\u001b[0m \u001b[32m━━━━━━━━━━━━━━━━━━━━\u001b[0m\u001b[37m\u001b[0m \u001b[1m1s\u001b[0m 7ms/step - accuracy: 0.4318 - loss: 1.4151 - val_accuracy: 0.5031 - val_loss: 1.3517 - learning_rate: 0.0010\n",
      "Epoch 8/200\n",
      "\u001b[1m202/202\u001b[0m \u001b[32m━━━━━━━━━━━━━━━━━━━━\u001b[0m\u001b[37m\u001b[0m \u001b[1m1s\u001b[0m 7ms/step - accuracy: 0.4412 - loss: 1.3870 - val_accuracy: 0.5021 - val_loss: 1.3258 - learning_rate: 0.0010\n",
      "Epoch 9/200\n",
      "\u001b[1m202/202\u001b[0m \u001b[32m━━━━━━━━━━━━━━━━━━━━\u001b[0m\u001b[37m\u001b[0m \u001b[1m1s\u001b[0m 6ms/step - accuracy: 0.4530 - loss: 1.3651 - val_accuracy: 0.5209 - val_loss: 1.3148 - learning_rate: 0.0010\n",
      "Epoch 10/200\n",
      "\u001b[1m202/202\u001b[0m \u001b[32m━━━━━━━━━━━━━━━━━━━━\u001b[0m\u001b[37m\u001b[0m \u001b[1m2s\u001b[0m 8ms/step - accuracy: 0.4698 - loss: 1.3326 - val_accuracy: 0.5258 - val_loss: 1.2744 - learning_rate: 0.0010\n",
      "Epoch 11/200\n",
      "\u001b[1m202/202\u001b[0m \u001b[32m━━━━━━━━━━━━━━━━━━━━\u001b[0m\u001b[37m\u001b[0m \u001b[1m1s\u001b[0m 6ms/step - accuracy: 0.4696 - loss: 1.3218 - val_accuracy: 0.5331 - val_loss: 1.2742 - learning_rate: 0.0010\n",
      "Epoch 12/200\n",
      "\u001b[1m202/202\u001b[0m \u001b[32m━━━━━━━━━━━━━━━━━━━━\u001b[0m\u001b[37m\u001b[0m \u001b[1m1s\u001b[0m 6ms/step - accuracy: 0.4764 - loss: 1.3010 - val_accuracy: 0.5404 - val_loss: 1.2452 - learning_rate: 0.0010\n",
      "Epoch 13/200\n",
      "\u001b[1m202/202\u001b[0m \u001b[32m━━━━━━━━━━━━━━━━━━━━\u001b[0m\u001b[37m\u001b[0m \u001b[1m2s\u001b[0m 8ms/step - accuracy: 0.4844 - loss: 1.2739 - val_accuracy: 0.5439 - val_loss: 1.2376 - learning_rate: 0.0010\n",
      "Epoch 14/200\n",
      "\u001b[1m202/202\u001b[0m \u001b[32m━━━━━━━━━━━━━━━━━━━━\u001b[0m\u001b[37m\u001b[0m \u001b[1m1s\u001b[0m 7ms/step - accuracy: 0.4926 - loss: 1.2595 - val_accuracy: 0.5676 - val_loss: 1.2078 - learning_rate: 0.0010\n",
      "Epoch 15/200\n",
      "\u001b[1m202/202\u001b[0m \u001b[32m━━━━━━━━━━━━━━━━━━━━\u001b[0m\u001b[37m\u001b[0m \u001b[1m1s\u001b[0m 7ms/step - accuracy: 0.5003 - loss: 1.2378 - val_accuracy: 0.5645 - val_loss: 1.1947 - learning_rate: 0.0010\n",
      "Epoch 16/200\n",
      "\u001b[1m202/202\u001b[0m \u001b[32m━━━━━━━━━━━━━━━━━━━━\u001b[0m\u001b[37m\u001b[0m \u001b[1m1s\u001b[0m 7ms/step - accuracy: 0.5043 - loss: 1.2197 - val_accuracy: 0.5700 - val_loss: 1.1888 - learning_rate: 0.0010\n",
      "Epoch 17/200\n",
      "\u001b[1m202/202\u001b[0m \u001b[32m━━━━━━━━━━━━━━━━━━━━\u001b[0m\u001b[37m\u001b[0m \u001b[1m1s\u001b[0m 7ms/step - accuracy: 0.5120 - loss: 1.1960 - val_accuracy: 0.5756 - val_loss: 1.1741 - learning_rate: 0.0010\n",
      "Epoch 18/200\n",
      "\u001b[1m202/202\u001b[0m \u001b[32m━━━━━━━━━━━━━━━━━━━━\u001b[0m\u001b[37m\u001b[0m \u001b[1m1s\u001b[0m 7ms/step - accuracy: 0.5231 - loss: 1.1815 - val_accuracy: 0.5732 - val_loss: 1.1693 - learning_rate: 0.0010\n",
      "Epoch 19/200\n",
      "\u001b[1m202/202\u001b[0m \u001b[32m━━━━━━━━━━━━━━━━━━━━\u001b[0m\u001b[37m\u001b[0m \u001b[1m1s\u001b[0m 7ms/step - accuracy: 0.5206 - loss: 1.1836 - val_accuracy: 0.5843 - val_loss: 1.1593 - learning_rate: 0.0010\n",
      "Epoch 20/200\n",
      "\u001b[1m202/202\u001b[0m \u001b[32m━━━━━━━━━━━━━━━━━━━━\u001b[0m\u001b[37m\u001b[0m \u001b[1m1s\u001b[0m 7ms/step - accuracy: 0.5221 - loss: 1.1760 - val_accuracy: 0.5857 - val_loss: 1.1648 - learning_rate: 0.0010\n",
      "Epoch 21/200\n",
      "\u001b[1m202/202\u001b[0m \u001b[32m━━━━━━━━━━━━━━━━━━━━\u001b[0m\u001b[37m\u001b[0m \u001b[1m1s\u001b[0m 7ms/step - accuracy: 0.5327 - loss: 1.1468 - val_accuracy: 0.5972 - val_loss: 1.1485 - learning_rate: 0.0010\n",
      "Epoch 22/200\n",
      "\u001b[1m202/202\u001b[0m \u001b[32m━━━━━━━━━━━━━━━━━━━━\u001b[0m\u001b[37m\u001b[0m \u001b[1m2s\u001b[0m 8ms/step - accuracy: 0.5295 - loss: 1.1554 - val_accuracy: 0.5965 - val_loss: 1.1401 - learning_rate: 0.0010\n",
      "Epoch 23/200\n",
      "\u001b[1m202/202\u001b[0m \u001b[32m━━━━━━━━━━━━━━━━━━━━\u001b[0m\u001b[37m\u001b[0m \u001b[1m1s\u001b[0m 7ms/step - accuracy: 0.5327 - loss: 1.1348 - val_accuracy: 0.6000 - val_loss: 1.1449 - learning_rate: 0.0010\n",
      "Epoch 24/200\n",
      "\u001b[1m202/202\u001b[0m \u001b[32m━━━━━━━━━━━━━━━━━━━━\u001b[0m\u001b[37m\u001b[0m \u001b[1m2s\u001b[0m 9ms/step - accuracy: 0.5398 - loss: 1.1259 - val_accuracy: 0.5983 - val_loss: 1.1331 - learning_rate: 0.0010\n",
      "Epoch 25/200\n",
      "\u001b[1m202/202\u001b[0m \u001b[32m━━━━━━━━━━━━━━━━━━━━\u001b[0m\u001b[37m\u001b[0m \u001b[1m2s\u001b[0m 8ms/step - accuracy: 0.5468 - loss: 1.1083 - val_accuracy: 0.5972 - val_loss: 1.1314 - learning_rate: 0.0010\n",
      "Epoch 26/200\n",
      "\u001b[1m202/202\u001b[0m \u001b[32m━━━━━━━━━━━━━━━━━━━━\u001b[0m\u001b[37m\u001b[0m \u001b[1m1s\u001b[0m 7ms/step - accuracy: 0.5472 - loss: 1.1110 - val_accuracy: 0.6056 - val_loss: 1.1406 - learning_rate: 0.0010\n",
      "Epoch 27/200\n",
      "\u001b[1m202/202\u001b[0m \u001b[32m━━━━━━━━━━━━━━━━━━━━\u001b[0m\u001b[37m\u001b[0m \u001b[1m1s\u001b[0m 7ms/step - accuracy: 0.5484 - loss: 1.1054 - val_accuracy: 0.6192 - val_loss: 1.1128 - learning_rate: 0.0010\n",
      "Epoch 28/200\n",
      "\u001b[1m202/202\u001b[0m \u001b[32m━━━━━━━━━━━━━━━━━━━━\u001b[0m\u001b[37m\u001b[0m \u001b[1m1s\u001b[0m 7ms/step - accuracy: 0.5525 - loss: 1.0868 - val_accuracy: 0.6045 - val_loss: 1.1397 - learning_rate: 0.0010\n",
      "Epoch 29/200\n",
      "\u001b[1m202/202\u001b[0m \u001b[32m━━━━━━━━━━━━━━━━━━━━\u001b[0m\u001b[37m\u001b[0m \u001b[1m2s\u001b[0m 8ms/step - accuracy: 0.5513 - loss: 1.0883 - val_accuracy: 0.6098 - val_loss: 1.1144 - learning_rate: 0.0010\n",
      "Epoch 30/200\n",
      "\u001b[1m202/202\u001b[0m \u001b[32m━━━━━━━━━━━━━━━━━━━━\u001b[0m\u001b[37m\u001b[0m \u001b[1m1s\u001b[0m 7ms/step - accuracy: 0.5562 - loss: 1.0759 - val_accuracy: 0.6122 - val_loss: 1.1257 - learning_rate: 0.0010\n",
      "Epoch 31/200\n",
      "\u001b[1m202/202\u001b[0m \u001b[32m━━━━━━━━━━━━━━━━━━━━\u001b[0m\u001b[37m\u001b[0m \u001b[1m1s\u001b[0m 7ms/step - accuracy: 0.5556 - loss: 1.0793 - val_accuracy: 0.6254 - val_loss: 1.1103 - learning_rate: 0.0010\n",
      "Epoch 32/200\n",
      "\u001b[1m202/202\u001b[0m \u001b[32m━━━━━━━━━━━━━━━━━━━━\u001b[0m\u001b[37m\u001b[0m \u001b[1m1s\u001b[0m 7ms/step - accuracy: 0.5548 - loss: 1.0774 - val_accuracy: 0.6178 - val_loss: 1.1258 - learning_rate: 0.0010\n",
      "Epoch 33/200\n",
      "\u001b[1m202/202\u001b[0m \u001b[32m━━━━━━━━━━━━━━━━━━━━\u001b[0m\u001b[37m\u001b[0m \u001b[1m1s\u001b[0m 7ms/step - accuracy: 0.5628 - loss: 1.0593 - val_accuracy: 0.6077 - val_loss: 1.1286 - learning_rate: 0.0010\n",
      "Epoch 34/200\n",
      "\u001b[1m202/202\u001b[0m \u001b[32m━━━━━━━━━━━━━━━━━━━━\u001b[0m\u001b[37m\u001b[0m \u001b[1m1s\u001b[0m 7ms/step - accuracy: 0.5616 - loss: 1.0573 - val_accuracy: 0.6251 - val_loss: 1.1176 - learning_rate: 0.0010\n",
      "Epoch 35/200\n",
      "\u001b[1m202/202\u001b[0m \u001b[32m━━━━━━━━━━━━━━━━━━━━\u001b[0m\u001b[37m\u001b[0m \u001b[1m1s\u001b[0m 7ms/step - accuracy: 0.5662 - loss: 1.0417 - val_accuracy: 0.6202 - val_loss: 1.1143 - learning_rate: 0.0010\n",
      "Epoch 36/200\n",
      "\u001b[1m202/202\u001b[0m \u001b[32m━━━━━━━━━━━━━━━━━━━━\u001b[0m\u001b[37m\u001b[0m \u001b[1m1s\u001b[0m 7ms/step - accuracy: 0.5717 - loss: 1.0416 - val_accuracy: 0.6296 - val_loss: 1.1214 - learning_rate: 0.0010\n",
      "Epoch 37/200\n",
      "\u001b[1m202/202\u001b[0m \u001b[32m━━━━━━━━━━━━━━━━━━━━\u001b[0m\u001b[37m\u001b[0m \u001b[1m2s\u001b[0m 8ms/step - accuracy: 0.5711 - loss: 1.0366 - val_accuracy: 0.6261 - val_loss: 1.1061 - learning_rate: 0.0010\n",
      "Epoch 38/200\n",
      "\u001b[1m202/202\u001b[0m \u001b[32m━━━━━━━━━━━━━━━━━━━━\u001b[0m\u001b[37m\u001b[0m \u001b[1m1s\u001b[0m 7ms/step - accuracy: 0.5772 - loss: 1.0215 - val_accuracy: 0.6321 - val_loss: 1.1063 - learning_rate: 0.0010\n",
      "Epoch 39/200\n",
      "\u001b[1m202/202\u001b[0m \u001b[32m━━━━━━━━━━━━━━━━━━━━\u001b[0m\u001b[37m\u001b[0m \u001b[1m1s\u001b[0m 7ms/step - accuracy: 0.5759 - loss: 1.0227 - val_accuracy: 0.6321 - val_loss: 1.1168 - learning_rate: 0.0010\n",
      "Epoch 40/200\n",
      "\u001b[1m202/202\u001b[0m \u001b[32m━━━━━━━━━━━━━━━━━━━━\u001b[0m\u001b[37m\u001b[0m \u001b[1m1s\u001b[0m 7ms/step - accuracy: 0.5738 - loss: 1.0279 - val_accuracy: 0.6216 - val_loss: 1.1259 - learning_rate: 0.0010\n",
      "Epoch 41/200\n",
      "\u001b[1m202/202\u001b[0m \u001b[32m━━━━━━━━━━━━━━━━━━━━\u001b[0m\u001b[37m\u001b[0m \u001b[1m1s\u001b[0m 7ms/step - accuracy: 0.5786 - loss: 1.0244 - val_accuracy: 0.6216 - val_loss: 1.1364 - learning_rate: 0.0010\n",
      "Epoch 42/200\n",
      "\u001b[1m202/202\u001b[0m \u001b[32m━━━━━━━━━━━━━━━━━━━━\u001b[0m\u001b[37m\u001b[0m \u001b[1m2s\u001b[0m 7ms/step - accuracy: 0.5740 - loss: 1.0326 - val_accuracy: 0.6237 - val_loss: 1.1273 - learning_rate: 0.0010\n",
      "Epoch 43/200\n",
      "\u001b[1m202/202\u001b[0m \u001b[32m━━━━━━━━━━━━━━━━━━━━\u001b[0m\u001b[37m\u001b[0m \u001b[1m2s\u001b[0m 8ms/step - accuracy: 0.5777 - loss: 1.0120 - val_accuracy: 0.6272 - val_loss: 1.1123 - learning_rate: 0.0010\n",
      "Epoch 44/200\n",
      "\u001b[1m202/202\u001b[0m \u001b[32m━━━━━━━━━━━━━━━━━━━━\u001b[0m\u001b[37m\u001b[0m \u001b[1m1s\u001b[0m 7ms/step - accuracy: 0.5795 - loss: 1.0196 - val_accuracy: 0.6307 - val_loss: 1.1398 - learning_rate: 0.0010\n",
      "Epoch 45/200\n",
      "\u001b[1m202/202\u001b[0m \u001b[32m━━━━━━━━━━━━━━━━━━━━\u001b[0m\u001b[37m\u001b[0m \u001b[1m1s\u001b[0m 7ms/step - accuracy: 0.5811 - loss: 1.0021 - val_accuracy: 0.6237 - val_loss: 1.1237 - learning_rate: 0.0010\n",
      "Epoch 46/200\n",
      "\u001b[1m202/202\u001b[0m \u001b[32m━━━━━━━━━━━━━━━━━━━━\u001b[0m\u001b[37m\u001b[0m \u001b[1m2s\u001b[0m 7ms/step - accuracy: 0.5773 - loss: 1.0070 - val_accuracy: 0.6348 - val_loss: 1.1202 - learning_rate: 0.0010\n",
      "Epoch 47/200\n",
      "\u001b[1m202/202\u001b[0m \u001b[32m━━━━━━━━━━━━━━━━━━━━\u001b[0m\u001b[37m\u001b[0m \u001b[1m1s\u001b[0m 7ms/step - accuracy: 0.5866 - loss: 0.9895 - val_accuracy: 0.6307 - val_loss: 1.1590 - learning_rate: 0.0010\n",
      "Epoch 48/200\n",
      "\u001b[1m202/202\u001b[0m \u001b[32m━━━━━━━━━━━━━━━━━━━━\u001b[0m\u001b[37m\u001b[0m \u001b[1m2s\u001b[0m 7ms/step - accuracy: 0.5933 - loss: 0.9632 - val_accuracy: 0.6436 - val_loss: 1.1101 - learning_rate: 2.0000e-04\n",
      "Epoch 49/200\n",
      "\u001b[1m202/202\u001b[0m \u001b[32m━━━━━━━━━━━━━━━━━━━━\u001b[0m\u001b[37m\u001b[0m \u001b[1m1s\u001b[0m 7ms/step - accuracy: 0.6005 - loss: 0.9393 - val_accuracy: 0.6477 - val_loss: 1.1164 - learning_rate: 2.0000e-04\n",
      "Epoch 50/200\n",
      "\u001b[1m202/202\u001b[0m \u001b[32m━━━━━━━━━━━━━━━━━━━━\u001b[0m\u001b[37m\u001b[0m \u001b[1m2s\u001b[0m 10ms/step - accuracy: 0.5968 - loss: 0.9546 - val_accuracy: 0.6505 - val_loss: 1.1193 - learning_rate: 2.0000e-04\n",
      "Epoch 51/200\n",
      "\u001b[1m202/202\u001b[0m \u001b[32m━━━━━━━━━━━━━━━━━━━━\u001b[0m\u001b[37m\u001b[0m \u001b[1m2s\u001b[0m 8ms/step - accuracy: 0.6019 - loss: 0.9382 - val_accuracy: 0.6439 - val_loss: 1.1100 - learning_rate: 2.0000e-04\n",
      "Epoch 52/200\n",
      "\u001b[1m202/202\u001b[0m \u001b[32m━━━━━━━━━━━━━━━━━━━━\u001b[0m\u001b[37m\u001b[0m \u001b[1m2s\u001b[0m 8ms/step - accuracy: 0.5999 - loss: 0.9412 - val_accuracy: 0.6481 - val_loss: 1.1229 - learning_rate: 2.0000e-04\n",
      "Epoch 53/200\n",
      "\u001b[1m202/202\u001b[0m \u001b[32m━━━━━━━━━━━━━━━━━━━━\u001b[0m\u001b[37m\u001b[0m \u001b[1m2s\u001b[0m 8ms/step - accuracy: 0.6082 - loss: 0.9286 - val_accuracy: 0.6477 - val_loss: 1.1318 - learning_rate: 2.0000e-04\n",
      "Epoch 54/200\n",
      "\u001b[1m202/202\u001b[0m \u001b[32m━━━━━━━━━━━━━━━━━━━━\u001b[0m\u001b[37m\u001b[0m \u001b[1m2s\u001b[0m 8ms/step - accuracy: 0.5993 - loss: 0.9357 - val_accuracy: 0.6491 - val_loss: 1.1216 - learning_rate: 2.0000e-04\n",
      "Epoch 55/200\n",
      "\u001b[1m202/202\u001b[0m \u001b[32m━━━━━━━━━━━━━━━━━━━━\u001b[0m\u001b[37m\u001b[0m \u001b[1m2s\u001b[0m 9ms/step - accuracy: 0.6041 - loss: 0.9317 - val_accuracy: 0.6488 - val_loss: 1.1271 - learning_rate: 2.0000e-04\n",
      "Epoch 56/200\n",
      "\u001b[1m202/202\u001b[0m \u001b[32m━━━━━━━━━━━━━━━━━━━━\u001b[0m\u001b[37m\u001b[0m \u001b[1m2s\u001b[0m 7ms/step - accuracy: 0.6019 - loss: 0.9348 - val_accuracy: 0.6477 - val_loss: 1.1186 - learning_rate: 2.0000e-04\n",
      "Epoch 57/200\n",
      "\u001b[1m202/202\u001b[0m \u001b[32m━━━━━━━━━━━━━━━━━━━━\u001b[0m\u001b[37m\u001b[0m \u001b[1m2s\u001b[0m 9ms/step - accuracy: 0.6073 - loss: 0.9247 - val_accuracy: 0.6505 - val_loss: 1.1255 - learning_rate: 2.0000e-04\n"
     ]
    }
   ],
   "source": [
    "from tensorflow.keras.callbacks import EarlyStopping, ReduceLROnPlateau\n",
    "\n",
    "num_epochs = 200\n",
    "\n",
    "# EarlyStopping callback\n",
    "early_stopping = EarlyStopping(monitor='val_loss', patience=20, restore_best_weights=True)\n",
    "\n",
    "# ReduceLROnPlateau callback\n",
    "reduce_lr = ReduceLROnPlateau(monitor='val_loss', factor=0.2, patience=10, min_lr=0.0001)\n",
    "\n",
    "# Train the model\n",
    "history = model.fit(\n",
    "    train_padded, \n",
    "    y_train, \n",
    "    batch_size=128, \n",
    "    epochs=num_epochs, \n",
    "    validation_data=(valid_padded, y_valid), \n",
    "    callbacks=[early_stopping, reduce_lr]\n",
    ")\n"
   ]
  },
  {
   "cell_type": "code",
   "execution_count": 211,
   "metadata": {},
   "outputs": [
    {
     "data": {
      "image/png": "[encoded data removed]",
      "text/plain": [
       "<Figure size 640x480 with 1 Axes>"
      ]
     },
     "metadata": {},
     "output_type": "display_data"
    }
   ],
   "source": [
    "# Plot the training history\n",
    "def plot_graphs(history, string):\n",
    "  plt.plot(history.history[string])\n",
    "  plt.plot(history.history['val_'+string])\n",
    "  plt.xlabel(\"Epochs\")\n",
    "  plt.ylabel(string)\n",
    "  plt.legend([string, 'val_'+string])\n",
    "  plt.show()\n",
    "\n",
    "plot_graphs(history, \"accuracy\")"
   ]
  },
  {
   "cell_type": "code",
   "execution_count": 212,
   "metadata": {},
   "outputs": [
    {
     "data": {
      "image/png": "[encoded data removed]",
      "text/plain": [
       "<Figure size 640x480 with 1 Axes>"
      ]
     },
     "metadata": {},
     "output_type": "display_data"
    }
   ],
   "source": [
    "# Plot the training history\n",
    "def plot_graphs(history, string):\n",
    "  plt.plot(history.history[string])\n",
    "  plt.plot(history.history['val_'+string])\n",
    "  plt.xlabel(\"Epochs\")\n",
    "  plt.ylabel(string)\n",
    "  plt.legend([string, 'val_'+string])\n",
    "  plt.show()\n",
    "\n",
    "plot_graphs(history, \"loss\")"
   ]
  },
  {
   "cell_type": "code",
   "execution_count": 213,
   "metadata": {},
   "outputs": [
    {
     "name": "stdout",
     "output_type": "stream",
     "text": [
      "\u001b[1m90/90\u001b[0m \u001b[32m━━━━━━━━━━━━━━━━━━━━\u001b[0m\u001b[37m\u001b[0m \u001b[1m0s\u001b[0m 4ms/step - accuracy: 0.6277 - loss: 1.1211\n",
      "Loss:  1.1060928106307983\n",
      "Accuracy:  0.6261324286460876\n",
      "\u001b[1m90/90\u001b[0m \u001b[32m━━━━━━━━━━━━━━━━━━━━\u001b[0m\u001b[37m\u001b[0m \u001b[1m1s\u001b[0m 4ms/step\n",
      "              precision    recall  f1-score   support\n",
      "\n",
      "           0       0.39      0.21      0.27       306\n",
      "           1       0.53      0.75      0.62       577\n",
      "           2       0.70      0.72      0.71       647\n",
      "           3       0.68      0.58      0.63       466\n",
      "           4       0.66      0.69      0.68       492\n",
      "           5       0.72      0.58      0.64       382\n",
      "\n",
      "    accuracy                           0.63      2870\n",
      "   macro avg       0.61      0.59      0.59      2870\n",
      "weighted avg       0.63      0.63      0.62      2870\n",
      "\n"
     ]
    }
   ],
   "source": [
    "#sklearn report\n",
    "from sklearn.metrics import classification_report\n",
    "\n",
    "loss, accuracy = model.evaluate(valid_padded, y_valid)\n",
    "print(\"Loss: \", loss)\n",
    "print(\"Accuracy: \", accuracy)\n",
    "\n",
    "y_pred = model.predict(valid_padded)\n",
    "y_pred = np.argmax(y_pred, axis=1)\n",
    "print(classification_report(y_valid, y_pred))"
   ]
  },
  {
   "cell_type": "code",
   "execution_count": 214,
   "metadata": {},
   "outputs": [
    {
     "data": {
      "image/png": "[encoded data removed]",
      "text/plain": [
       "<Figure size 640x480 with 1 Axes>"
      ]
     },
     "metadata": {},
     "output_type": "display_data"
    }
   ],
   "source": [
    "# create a confusion matrix\n",
    "from sklearn.metrics import confusion_matrix\n",
    "import seaborn as sns\n",
    "\n",
    "# Membuat confusion matrix\n",
    "cm = confusion_matrix(y_valid, y_pred)\n",
    "\n",
    "# Membuat heatmap dari confusion matrix\n",
    "sns.heatmap(cm, annot=True, fmt=\"d\", cmap=\"Blues\", cbar=False, annot_kws={\"size\": 16})\n",
    "plt.xlabel(\"Predicted Label\")\n",
    "plt.ylabel(\"True Label\")\n",
    "plt.title(\"Confusion Matrix\")\n",
    "plt.show()\n"
   ]
  },
  {
   "cell_type": "code",
   "execution_count": 215,
   "metadata": {},
   "outputs": [
    {
     "name": "stdout",
     "output_type": "stream",
     "text": [
      "[[ 65  93  66  24  32  26]\n",
      " [ 32 431  22  18  46  28]\n",
      " [ 21  65 469  62  25   5]\n",
      " [ 26  59  82 272  26   1]\n",
      " [ 11  86  21  11 338  25]\n",
      " [ 12  83  12  11  42 222]]\n"
     ]
    }
   ],
   "source": [
    "print(cm)"
   ]
  },
  {
   "cell_type": "code",
   "execution_count": 216,
   "metadata": {},
   "outputs": [
    {
     "name": "stdout",
     "output_type": "stream",
     "text": [
      "\u001b[1m1/1\u001b[0m \u001b[32m━━━━━━━━━━━━━━━━━━━━\u001b[0m\u001b[37m\u001b[0m \u001b[1m0s\u001b[0m 28ms/step\n",
      "Prediksi: [[0.23349857 0.04468809 0.31491503 0.05794416 0.2960859  0.05286834]]\n"
     ]
    },
    {
     "data": {
      "text/plain": [
       "'Joy'"
      ]
     },
     "execution_count": 216,
     "metadata": {},
     "output_type": "execute_result"
    }
   ],
   "source": [
    "#predict another data input from the model\n",
    "def predict_emotion(text):\n",
    "    # Tokenisasi\n",
    "    text = [text]\n",
    "    sequences = tokenizer.texts_to_sequences(text)\n",
    "    padded = pad_sequences(sequences, maxlen=max_length, truncating=trunc_type, padding=\"post\")\n",
    "    \n",
    "    # Prediksi\n",
    "    pred = model.predict(padded)\n",
    "\n",
    "    print(\"Prediksi:\", pred)\n",
    "    pred = np.argmax(pred, axis=1)\n",
    "    \n",
    "\n",
    "    # Mengembalikan label emosi\n",
    "    if pred == 0:\n",
    "        return \"Neutral\"\n",
    "    elif pred == 1:\n",
    "        return \"Anger\"\n",
    "    elif pred == 2:\n",
    "        return \"Joy\"\n",
    "    elif pred == 3:\n",
    "        return \"Love\"\n",
    "    elif pred == 4:\n",
    "        return \"Sad\"\n",
    "    elif pred == 5:\n",
    "        return \"Fear\"\n",
    "\n",
    "#make 10 senteces twitter in predict emotion\n",
    "predict_emotion(\"saya sangat senang hari ini\")"
   ]
  },
  {
   "cell_type": "code",
   "execution_count": 217,
   "metadata": {},
   "outputs": [
    {
     "name": "stderr",
     "output_type": "stream",
     "text": [
      "WARNING:absl:You are saving your model as an HDF5 file via `model.save()` or `keras.saving.save_model(model)`. This file format is considered legacy. We recommend using instead the native Keras format, e.g. `model.save('my_model.keras')` or `keras.saving.save_model(model, 'my_model.keras')`. \n"
     ]
    }
   ],
   "source": [
    "#save model\n",
    "model.save('./model/model-cnn.h5')"
   ]
  }
 ],
 "metadata": {
  "kernelspec": {
   "display_name": "Python 3",
   "language": "python",
   "name": "python3"
  },
  "language_info": {
   "codemirror_mode": {
    "name": "ipython",
    "version": 3
   },
   "file_extension": ".py",
   "mimetype": "text/x-python",
   "name": "python",
   "nbconvert_exporter": "python",
   "pygments_lexer": "ipython3",
   "version": "3.11.4"
  }
 },
 "nbformat": 4,
 "nbformat_minor": 2
}
