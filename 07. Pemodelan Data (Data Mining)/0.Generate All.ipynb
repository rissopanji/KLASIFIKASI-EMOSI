{
 "cells": [
  {
   "cell_type": "code",
   "execution_count": 2,
   "metadata": {},
   "outputs": [
    {
     "ename": "ModuleNotFoundError",
     "evalue": "No module named 'nbformat'",
     "output_type": "error",
     "traceback": [
      "\u001b[1;31m---------------------------------------------------------------------------\u001b[0m",
      "\u001b[1;31mModuleNotFoundError\u001b[0m                       Traceback (most recent call last)",
      "Cell \u001b[1;32mIn[2], line 1\u001b[0m\n\u001b[1;32m----> 1\u001b[0m \u001b[38;5;28;01mimport\u001b[39;00m \u001b[38;5;21;01mnbformat\u001b[39;00m\n\u001b[0;32m      2\u001b[0m \u001b[38;5;28;01mfrom\u001b[39;00m \u001b[38;5;21;01mnbconvert\u001b[39;00m \u001b[38;5;28;01mimport\u001b[39;00m HTMLExporter, PythonExporter\n\u001b[0;32m      3\u001b[0m \u001b[38;5;28;01mfrom\u001b[39;00m \u001b[38;5;21;01mnbconvert\u001b[39;00m\u001b[38;5;21;01m.\u001b[39;00m\u001b[38;5;21;01mpreprocessors\u001b[39;00m \u001b[38;5;28;01mimport\u001b[39;00m ExecutePreprocessor\n",
      "\u001b[1;31mModuleNotFoundError\u001b[0m: No module named 'nbformat'"
     ]
    }
   ],
   "source": [
    "import nbformat\n",
    "from nbconvert import HTMLExporter, PythonExporter\n",
    "from nbconvert.preprocessors import ExecutePreprocessor\n",
    "import os\n",
    "\n",
    "def run_notebooks_in_sequence(notebook_paths):\n",
    "    for path in notebook_paths:\n",
    "        with open(path) as f:\n",
    "            nb = nbformat.read(f, as_version=4)\n",
    "            ep = ExecutePreprocessor(timeout=600, kernel_name='python3')\n",
    "\n",
    "            try:\n",
    "                ep.preprocess(nb, {'metadata': {'path': os.path.dirname(path)}})\n",
    "                print(f\"Notebook {path} executed successfully.\")\n",
    "            except Exception as e:\n",
    "                print(f\"Error executing the notebook {path}: {e}\")\n",
    "                continue\n",
    "\n",
    "if __name__ == \"__main__\":\n",
    "    # Daftar path file notebook yang ingin dijalankan\n",
    "    notebook_files = [\n",
    "        '02.CNN.ipynb',\n",
    "        '01.LSTM.ipynb'\n",
    "    ]\n",
    "\n",
    "    run_notebooks_in_sequence(notebook_files)\n"
   ]
  }
 ],
 "metadata": {
  "kernelspec": {
   "display_name": "Python 3",
   "language": "python",
   "name": "python3"
  },
  "language_info": {
   "codemirror_mode": {
    "name": "ipython",
    "version": 3
   },
   "file_extension": ".py",
   "mimetype": "text/x-python",
   "name": "python",
   "nbconvert_exporter": "python",
   "pygments_lexer": "ipython3",
   "version": "3.10.11"
  }
 },
 "nbformat": 4,
 "nbformat_minor": 2
}
