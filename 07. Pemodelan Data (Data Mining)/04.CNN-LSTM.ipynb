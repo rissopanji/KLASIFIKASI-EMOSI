{
 "cells": [
  {
   "cell_type": "code",
   "execution_count": 1,
   "metadata": {},
   "outputs": [],
   "source": [
    "import tensorflow as tf\n",
    "import numpy as np\n",
    "import matplotlib.pyplot as plt\n",
    "import pandas as pd\n",
    "import ast\n",
    "\n",
    "from tensorflow.keras.preprocessing.text import Tokenizer\n",
    "from tensorflow.keras.preprocessing.sequence import pad_sequences"
   ]
  },
  {
   "cell_type": "code",
   "execution_count": 2,
   "metadata": {},
   "outputs": [
    {
     "name": "stdout",
     "output_type": "stream",
     "text": [
      "Tensorflow version: 2.16.1\n"
     ]
    }
   ],
   "source": [
    "print(\"Tensorflow version:\", tf.__version__)"
   ]
  },
  {
   "cell_type": "markdown",
   "metadata": {},
   "source": [
    "## Prepare Dataset"
   ]
  },
  {
   "cell_type": "code",
   "execution_count": 3,
   "metadata": {},
   "outputs": [],
   "source": [
    "train_df_path ='../07. Pemodelan Data (Data Mining)/dataset/Dataset_clean(penelitian).csv'\n"
   ]
  },
  {
   "cell_type": "code",
   "execution_count": 4,
   "metadata": {},
   "outputs": [],
   "source": [
    "train_df = pd.read_csv(train_df_path, sep=',', header=None, usecols=[1,2], skiprows=1)\n",
    "\n",
    "train_df.columns = ['full_text', 'emotion']"
   ]
  },
  {
   "cell_type": "code",
   "execution_count": 5,
   "metadata": {},
   "outputs": [
    {
     "data": {
      "text/html": [
       "<div>\n",
       "<style scoped>\n",
       "    .dataframe tbody tr th:only-of-type {\n",
       "        vertical-align: middle;\n",
       "    }\n",
       "\n",
       "    .dataframe tbody tr th {\n",
       "        vertical-align: top;\n",
       "    }\n",
       "\n",
       "    .dataframe thead th {\n",
       "        text-align: right;\n",
       "    }\n",
       "</style>\n",
       "<table border=\"1\" class=\"dataframe\">\n",
       "  <thead>\n",
       "    <tr style=\"text-align: right;\">\n",
       "      <th></th>\n",
       "      <th>full_text</th>\n",
       "      <th>emotion</th>\n",
       "    </tr>\n",
       "  </thead>\n",
       "  <tbody>\n",
       "    <tr>\n",
       "      <th>0</th>\n",
       "      <td>['pengabdian', 'terpuji', 'meskipun', 'terliha...</td>\n",
       "      <td>Neutral</td>\n",
       "    </tr>\n",
       "    <tr>\n",
       "      <th>1</th>\n",
       "      <td>['baru', 'mengirim', 'foto']</td>\n",
       "      <td>Neutral</td>\n",
       "    </tr>\n",
       "    <tr>\n",
       "      <th>2</th>\n",
       "      <td>['apa', 'kabar', 'dunia', 'twitter', 'masihkah...</td>\n",
       "      <td>Neutral</td>\n",
       "    </tr>\n",
       "    <tr>\n",
       "      <th>3</th>\n",
       "      <td>['yah', 'gimana', 'sih', 'yaudah', 'susul', 's...</td>\n",
       "      <td>Neutral</td>\n",
       "    </tr>\n",
       "    <tr>\n",
       "      <th>4</th>\n",
       "      <td>['ka', 'dorg', 'suro', 'beli', 'medium', 'set'...</td>\n",
       "      <td>Neutral</td>\n",
       "    </tr>\n",
       "    <tr>\n",
       "      <th>5</th>\n",
       "      <td>['ayo', 'cek', 'koleksinya', 'temukan', 'angry...</td>\n",
       "      <td>Neutral</td>\n",
       "    </tr>\n",
       "    <tr>\n",
       "      <th>6</th>\n",
       "      <td>['kalau', 'biasa', 'biasa', 'sudah'           ...</td>\n",
       "      <td>Neutral</td>\n",
       "    </tr>\n",
       "    <tr>\n",
       "      <th>7</th>\n",
       "      <td>['tiap', 'tiap', 'twit', 'tak', 'selalu', 'per...</td>\n",
       "      <td>Neutral</td>\n",
       "    </tr>\n",
       "    <tr>\n",
       "      <th>8</th>\n",
       "      <td>['halo', 'v', 'apa', 'kabar', 'nih'           ...</td>\n",
       "      <td>Neutral</td>\n",
       "    </tr>\n",
       "    <tr>\n",
       "      <th>9</th>\n",
       "      <td>['pagi', 'ruby', 'apa', 'kabar'               ...</td>\n",
       "      <td>Neutral</td>\n",
       "    </tr>\n",
       "  </tbody>\n",
       "</table>\n",
       "</div>"
      ],
      "text/plain": [
       "                                           full_text  emotion\n",
       "0  ['pengabdian', 'terpuji', 'meskipun', 'terliha...  Neutral\n",
       "1                       ['baru', 'mengirim', 'foto']  Neutral\n",
       "2  ['apa', 'kabar', 'dunia', 'twitter', 'masihkah...  Neutral\n",
       "3  ['yah', 'gimana', 'sih', 'yaudah', 'susul', 's...  Neutral\n",
       "4  ['ka', 'dorg', 'suro', 'beli', 'medium', 'set'...  Neutral\n",
       "5  ['ayo', 'cek', 'koleksinya', 'temukan', 'angry...  Neutral\n",
       "6  ['kalau', 'biasa', 'biasa', 'sudah'           ...  Neutral\n",
       "7  ['tiap', 'tiap', 'twit', 'tak', 'selalu', 'per...  Neutral\n",
       "8  ['halo', 'v', 'apa', 'kabar', 'nih'           ...  Neutral\n",
       "9  ['pagi', 'ruby', 'apa', 'kabar'               ...  Neutral"
      ]
     },
     "execution_count": 5,
     "metadata": {},
     "output_type": "execute_result"
    }
   ],
   "source": [
    "train_df.head(10)"
   ]
  },
  {
   "cell_type": "code",
   "execution_count": 6,
   "metadata": {},
   "outputs": [
    {
     "data": {
      "text/html": [
       "<div>\n",
       "<style scoped>\n",
       "    .dataframe tbody tr th:only-of-type {\n",
       "        vertical-align: middle;\n",
       "    }\n",
       "\n",
       "    .dataframe tbody tr th {\n",
       "        vertical-align: top;\n",
       "    }\n",
       "\n",
       "    .dataframe thead th {\n",
       "        text-align: right;\n",
       "    }\n",
       "</style>\n",
       "<table border=\"1\" class=\"dataframe\">\n",
       "  <thead>\n",
       "    <tr style=\"text-align: right;\">\n",
       "      <th></th>\n",
       "      <th>full_text</th>\n",
       "      <th>emotion</th>\n",
       "    </tr>\n",
       "  </thead>\n",
       "  <tbody>\n",
       "    <tr>\n",
       "      <th>0</th>\n",
       "      <td>['pengabdian', 'terpuji', 'meskipun', 'terliha...</td>\n",
       "      <td>Neutral</td>\n",
       "    </tr>\n",
       "    <tr>\n",
       "      <th>1</th>\n",
       "      <td>['baru', 'mengirim', 'foto']</td>\n",
       "      <td>Neutral</td>\n",
       "    </tr>\n",
       "    <tr>\n",
       "      <th>2</th>\n",
       "      <td>['apa', 'kabar', 'dunia', 'twitter', 'masihkah...</td>\n",
       "      <td>Neutral</td>\n",
       "    </tr>\n",
       "    <tr>\n",
       "      <th>3</th>\n",
       "      <td>['yah', 'gimana', 'sih', 'yaudah', 'susul', 's...</td>\n",
       "      <td>Neutral</td>\n",
       "    </tr>\n",
       "    <tr>\n",
       "      <th>4</th>\n",
       "      <td>['ka', 'dorg', 'suro', 'beli', 'medium', 'set'...</td>\n",
       "      <td>Neutral</td>\n",
       "    </tr>\n",
       "    <tr>\n",
       "      <th>5</th>\n",
       "      <td>['ayo', 'cek', 'koleksinya', 'temukan', 'angry...</td>\n",
       "      <td>Neutral</td>\n",
       "    </tr>\n",
       "    <tr>\n",
       "      <th>6</th>\n",
       "      <td>['kalau', 'biasa', 'biasa', 'sudah'           ...</td>\n",
       "      <td>Neutral</td>\n",
       "    </tr>\n",
       "    <tr>\n",
       "      <th>7</th>\n",
       "      <td>['tiap', 'tiap', 'twit', 'tak', 'selalu', 'per...</td>\n",
       "      <td>Neutral</td>\n",
       "    </tr>\n",
       "    <tr>\n",
       "      <th>8</th>\n",
       "      <td>['halo', 'v', 'apa', 'kabar', 'nih'           ...</td>\n",
       "      <td>Neutral</td>\n",
       "    </tr>\n",
       "    <tr>\n",
       "      <th>9</th>\n",
       "      <td>['pagi', 'ruby', 'apa', 'kabar'               ...</td>\n",
       "      <td>Neutral</td>\n",
       "    </tr>\n",
       "  </tbody>\n",
       "</table>\n",
       "</div>"
      ],
      "text/plain": [
       "                                           full_text  emotion\n",
       "0  ['pengabdian', 'terpuji', 'meskipun', 'terliha...  Neutral\n",
       "1                       ['baru', 'mengirim', 'foto']  Neutral\n",
       "2  ['apa', 'kabar', 'dunia', 'twitter', 'masihkah...  Neutral\n",
       "3  ['yah', 'gimana', 'sih', 'yaudah', 'susul', 's...  Neutral\n",
       "4  ['ka', 'dorg', 'suro', 'beli', 'medium', 'set'...  Neutral\n",
       "5  ['ayo', 'cek', 'koleksinya', 'temukan', 'angry...  Neutral\n",
       "6  ['kalau', 'biasa', 'biasa', 'sudah'           ...  Neutral\n",
       "7  ['tiap', 'tiap', 'twit', 'tak', 'selalu', 'per...  Neutral\n",
       "8  ['halo', 'v', 'apa', 'kabar', 'nih'           ...  Neutral\n",
       "9  ['pagi', 'ruby', 'apa', 'kabar'               ...  Neutral"
      ]
     },
     "execution_count": 6,
     "metadata": {},
     "output_type": "execute_result"
    }
   ],
   "source": [
    "train_df.head(10)"
   ]
  },
  {
   "cell_type": "code",
   "execution_count": 7,
   "metadata": {},
   "outputs": [],
   "source": [
    "def get_label_idx(label):\n",
    "    if label == 'Fear':\n",
    "        return 5\n",
    "    if label == 'Sad':\n",
    "        return 4\n",
    "    if label == 'Love':\n",
    "        return 3\n",
    "    if label == 'Joy':\n",
    "        return 2\n",
    "    if label == 'Anger':\n",
    "        return 1\n",
    "    if label == 'Neutral':\n",
    "        return 0\n",
    "train_df['emotion'] = train_df['emotion'].apply(get_label_idx)"
   ]
  },
  {
   "cell_type": "code",
   "execution_count": 8,
   "metadata": {},
   "outputs": [
    {
     "data": {
      "text/html": [
       "<div>\n",
       "<style scoped>\n",
       "    .dataframe tbody tr th:only-of-type {\n",
       "        vertical-align: middle;\n",
       "    }\n",
       "\n",
       "    .dataframe tbody tr th {\n",
       "        vertical-align: top;\n",
       "    }\n",
       "\n",
       "    .dataframe thead th {\n",
       "        text-align: right;\n",
       "    }\n",
       "</style>\n",
       "<table border=\"1\" class=\"dataframe\">\n",
       "  <thead>\n",
       "    <tr style=\"text-align: right;\">\n",
       "      <th></th>\n",
       "      <th>full_text</th>\n",
       "      <th>emotion</th>\n",
       "    </tr>\n",
       "  </thead>\n",
       "  <tbody>\n",
       "    <tr>\n",
       "      <th>0</th>\n",
       "      <td>['pengabdian', 'terpuji', 'meskipun', 'terliha...</td>\n",
       "      <td>0</td>\n",
       "    </tr>\n",
       "    <tr>\n",
       "      <th>1</th>\n",
       "      <td>['baru', 'mengirim', 'foto']</td>\n",
       "      <td>0</td>\n",
       "    </tr>\n",
       "    <tr>\n",
       "      <th>2</th>\n",
       "      <td>['apa', 'kabar', 'dunia', 'twitter', 'masihkah...</td>\n",
       "      <td>0</td>\n",
       "    </tr>\n",
       "    <tr>\n",
       "      <th>3</th>\n",
       "      <td>['yah', 'gimana', 'sih', 'yaudah', 'susul', 's...</td>\n",
       "      <td>0</td>\n",
       "    </tr>\n",
       "    <tr>\n",
       "      <th>4</th>\n",
       "      <td>['ka', 'dorg', 'suro', 'beli', 'medium', 'set'...</td>\n",
       "      <td>0</td>\n",
       "    </tr>\n",
       "    <tr>\n",
       "      <th>...</th>\n",
       "      <td>...</td>\n",
       "      <td>...</td>\n",
       "    </tr>\n",
       "    <tr>\n",
       "      <th>28695</th>\n",
       "      <td>['ingin', 'sangat', 'nih', 'daerah', 'jakarta'...</td>\n",
       "      <td>0</td>\n",
       "    </tr>\n",
       "    <tr>\n",
       "      <th>28696</th>\n",
       "      <td>['selamat', 'hari', 'raya', 'tri', 'suci', 'wa...</td>\n",
       "      <td>2</td>\n",
       "    </tr>\n",
       "    <tr>\n",
       "      <th>28697</th>\n",
       "      <td>['kandungan', 'serat', 'passion', 'fruit', 'ma...</td>\n",
       "      <td>3</td>\n",
       "    </tr>\n",
       "    <tr>\n",
       "      <th>28698</th>\n",
       "      <td>['selamat', 'memperingati', 'hari', 'kebangkit...</td>\n",
       "      <td>2</td>\n",
       "    </tr>\n",
       "    <tr>\n",
       "      <th>28699</th>\n",
       "      <td>['olive', 'oil', 'digunakan', 'mengobati', 'ku...</td>\n",
       "      <td>3</td>\n",
       "    </tr>\n",
       "  </tbody>\n",
       "</table>\n",
       "<p>28700 rows × 2 columns</p>\n",
       "</div>"
      ],
      "text/plain": [
       "                                               full_text  emotion\n",
       "0      ['pengabdian', 'terpuji', 'meskipun', 'terliha...        0\n",
       "1                           ['baru', 'mengirim', 'foto']        0\n",
       "2      ['apa', 'kabar', 'dunia', 'twitter', 'masihkah...        0\n",
       "3      ['yah', 'gimana', 'sih', 'yaudah', 'susul', 's...        0\n",
       "4      ['ka', 'dorg', 'suro', 'beli', 'medium', 'set'...        0\n",
       "...                                                  ...      ...\n",
       "28695  ['ingin', 'sangat', 'nih', 'daerah', 'jakarta'...        0\n",
       "28696  ['selamat', 'hari', 'raya', 'tri', 'suci', 'wa...        2\n",
       "28697  ['kandungan', 'serat', 'passion', 'fruit', 'ma...        3\n",
       "28698  ['selamat', 'memperingati', 'hari', 'kebangkit...        2\n",
       "28699  ['olive', 'oil', 'digunakan', 'mengobati', 'ku...        3\n",
       "\n",
       "[28700 rows x 2 columns]"
      ]
     },
     "execution_count": 8,
     "metadata": {},
     "output_type": "execute_result"
    }
   ],
   "source": [
    "train_df"
   ]
  },
  {
   "cell_type": "code",
   "execution_count": 9,
   "metadata": {},
   "outputs": [
    {
     "data": {
      "text/html": [
       "<div>\n",
       "<style scoped>\n",
       "    .dataframe tbody tr th:only-of-type {\n",
       "        vertical-align: middle;\n",
       "    }\n",
       "\n",
       "    .dataframe tbody tr th {\n",
       "        vertical-align: top;\n",
       "    }\n",
       "\n",
       "    .dataframe thead th {\n",
       "        text-align: right;\n",
       "    }\n",
       "</style>\n",
       "<table border=\"1\" class=\"dataframe\">\n",
       "  <thead>\n",
       "    <tr style=\"text-align: right;\">\n",
       "      <th></th>\n",
       "      <th>full_text</th>\n",
       "      <th>emotion</th>\n",
       "    </tr>\n",
       "  </thead>\n",
       "  <tbody>\n",
       "    <tr>\n",
       "      <th>0</th>\n",
       "      <td>pengabdian terpuji meskipun terlihat biasa</td>\n",
       "      <td>0</td>\n",
       "    </tr>\n",
       "    <tr>\n",
       "      <th>1</th>\n",
       "      <td>baru mengirim foto</td>\n",
       "      <td>0</td>\n",
       "    </tr>\n",
       "    <tr>\n",
       "      <th>2</th>\n",
       "      <td>apa kabar dunia twitter masihkah selucu seabsu...</td>\n",
       "      <td>0</td>\n",
       "    </tr>\n",
       "    <tr>\n",
       "      <th>3</th>\n",
       "      <td>yah gimana sih yaudah susul sebelumnya sarapan...</td>\n",
       "      <td>0</td>\n",
       "    </tr>\n",
       "    <tr>\n",
       "      <th>4</th>\n",
       "      <td>ka dorg suro beli medium set</td>\n",
       "      <td>0</td>\n",
       "    </tr>\n",
       "    <tr>\n",
       "      <th>...</th>\n",
       "      <td>...</td>\n",
       "      <td>...</td>\n",
       "    </tr>\n",
       "    <tr>\n",
       "      <th>28695</th>\n",
       "      <td>ingin sangat nih daerah jakarta barat tidak si</td>\n",
       "      <td>0</td>\n",
       "    </tr>\n",
       "    <tr>\n",
       "      <th>28696</th>\n",
       "      <td>selamat hari raya tri suci waisak seluruh umat...</td>\n",
       "      <td>2</td>\n",
       "    </tr>\n",
       "    <tr>\n",
       "      <th>28697</th>\n",
       "      <td>kandungan serat passion fruit markisa berfungs...</td>\n",
       "      <td>3</td>\n",
       "    </tr>\n",
       "    <tr>\n",
       "      <th>28698</th>\n",
       "      <td>selamat memperingati hari kebangkitan nasional...</td>\n",
       "      <td>2</td>\n",
       "    </tr>\n",
       "    <tr>\n",
       "      <th>28699</th>\n",
       "      <td>olive oil digunakan mengobati kulit ruam kemer...</td>\n",
       "      <td>3</td>\n",
       "    </tr>\n",
       "  </tbody>\n",
       "</table>\n",
       "<p>28700 rows × 2 columns</p>\n",
       "</div>"
      ],
      "text/plain": [
       "                                               full_text  emotion\n",
       "0             pengabdian terpuji meskipun terlihat biasa        0\n",
       "1                                     baru mengirim foto        0\n",
       "2      apa kabar dunia twitter masihkah selucu seabsu...        0\n",
       "3      yah gimana sih yaudah susul sebelumnya sarapan...        0\n",
       "4                           ka dorg suro beli medium set        0\n",
       "...                                                  ...      ...\n",
       "28695     ingin sangat nih daerah jakarta barat tidak si        0\n",
       "28696  selamat hari raya tri suci waisak seluruh umat...        2\n",
       "28697  kandungan serat passion fruit markisa berfungs...        3\n",
       "28698  selamat memperingati hari kebangkitan nasional...        2\n",
       "28699  olive oil digunakan mengobati kulit ruam kemer...        3\n",
       "\n",
       "[28700 rows x 2 columns]"
      ]
     },
     "execution_count": 9,
     "metadata": {},
     "output_type": "execute_result"
    }
   ],
   "source": [
    "# Define the function to join the list of tokens as a single document string\n",
    "def join_text_list(texts):\n",
    "    try:\n",
    "        texts = ast.literal_eval(texts)\n",
    "        return ' '.join([text for text in texts])\n",
    "    except (ValueError, SyntaxError):\n",
    "        return None  # or return an empty string if you prefer\n",
    "\n",
    "# Apply the function to the 'full_text' column\n",
    "train_df[\"full_text\"] = train_df[\"full_text\"].apply(join_text_list)\n",
    "\n",
    "# Display the first few rows of the preprocessed column\n",
    "train_df"
   ]
  },
  {
   "cell_type": "code",
   "execution_count": 10,
   "metadata": {},
   "outputs": [
    {
     "name": "stdout",
     "output_type": "stream",
     "text": [
      "Jumlah Netral:  3550\n",
      "Jumlah Marah:  5757\n",
      "Jumlah Senang:  6638\n",
      "Jumlah Cinta:  4411\n",
      "Jumlah Sedih:  4857\n",
      "Jumlah Takut:  3487\n"
     ]
    }
   ],
   "source": [
    "jumlah_netral = len(train_df[train_df['emotion'] == 0])\n",
    "jumlah_marah = len(train_df[train_df['emotion'] == 1])\n",
    "jumlah_senang = len(train_df[train_df['emotion'] == 2])\n",
    "jumlah_cinta = len(train_df[train_df['emotion'] == 3])\n",
    "jumlah_sedih = len(train_df[train_df['emotion'] == 4])\n",
    "jumlah_takut = len(train_df[train_df['emotion'] == 5])\n",
    "\n",
    "print(\"Jumlah Netral: \", jumlah_netral)\n",
    "print(\"Jumlah Marah: \", jumlah_marah)\n",
    "print(\"Jumlah Senang: \", jumlah_senang)\n",
    "print(\"Jumlah Cinta: \", jumlah_cinta)\n",
    "print(\"Jumlah Sedih: \", jumlah_sedih)\n",
    "print(\"Jumlah Takut: \", jumlah_takut)"
   ]
  },
  {
   "cell_type": "code",
   "execution_count": 11,
   "metadata": {},
   "outputs": [],
   "source": [
    "# Split dataset menjadi fitur (X) dan label (y)\n",
    "X_train = train_df['full_text']\n",
    "y_train = train_df['emotion']\n"
   ]
  },
  {
   "cell_type": "code",
   "execution_count": 12,
   "metadata": {},
   "outputs": [],
   "source": [
    "##split dataset\n",
    "from sklearn.model_selection import train_test_split\n",
    "\n",
    "X_train, X_valid, y_train, y_valid = train_test_split(X_train, y_train, test_size=0.1, random_state=42)"
   ]
  },
  {
   "cell_type": "code",
   "execution_count": 13,
   "metadata": {},
   "outputs": [
    {
     "data": {
      "text/plain": [
       "((25830,), (2870,), (25830,), (2870,))"
      ]
     },
     "execution_count": 13,
     "metadata": {},
     "output_type": "execute_result"
    }
   ],
   "source": [
    "X_train.shape, X_valid.shape, y_train.shape, y_valid.shape"
   ]
  },
  {
   "cell_type": "markdown",
   "metadata": {},
   "source": [
    "## Generate Padded Sequence"
   ]
  },
  {
   "cell_type": "code",
   "execution_count": 14,
   "metadata": {},
   "outputs": [],
   "source": [
    "# Parameters\n",
    "\n",
    "vocab_size = 60000 #ukuran kosakata yang akan digunakan\n",
    "max_length = 50 #panjang maksimal dari sebuah kalimat\n",
    "embedding_dim = 8 #dimensi vektor embedding yang akan digunakan\n",
    "trunc_type='post' #jika panjang kalimat melebihi max_length, potong bagian belakang kalimat\n",
    "oov_tok = \"<OOV>\" #OOV (Out Of Vocabulary) token, jika suatu kata tidak ditemukan dalam kosakata"
   ]
  },
  {
   "cell_type": "code",
   "execution_count": 15,
   "metadata": {},
   "outputs": [],
   "source": [
    "from tensorflow.keras.preprocessing.text import Tokenizer\n",
    "from tensorflow.keras.preprocessing.sequence import pad_sequences\n",
    "import pandas as pd\n",
    "import re\n",
    "\n",
    "# Define the \"all_texts\" variable\n",
    "X_train = [str(text) for text in X_train]\n",
    "X_valid = [str(text) for text in X_valid]\n",
    "\n",
    "# Tokenisasi\n",
    "tokenizer = Tokenizer(num_words=vocab_size, oov_token=oov_tok)\n",
    "\n",
    "# Gabungkan semua teks untuk membuat kamus indeks kata\n",
    "all_texts = list(X_train) + list(X_valid)\n",
    "\n",
    "# Membuat kamus indeks kata\n",
    "tokenizer.fit_on_texts(all_texts)\n",
    "word_index = tokenizer.word_index\n",
    "word_index\n",
    "\n",
    "\n",
    "# Konversi kalimat menjadi urutan kata\n",
    "train_sequences = tokenizer.texts_to_sequences(X_train)\n",
    "train_padded = pad_sequences(train_sequences, maxlen=max_length, truncating=trunc_type, padding=\"post\")\n",
    "\n",
    "valid_sequences = tokenizer.texts_to_sequences(X_valid)\n",
    "valid_padded = pad_sequences(valid_sequences, maxlen=max_length, truncating=trunc_type, padding=\"post\")\n",
    "\n",
    "\n"
   ]
  },
  {
   "cell_type": "markdown",
   "metadata": {},
   "source": [
    "### kamus data untuk api Training"
   ]
  },
  {
   "cell_type": "code",
   "execution_count": 16,
   "metadata": {},
   "outputs": [],
   "source": [
    "# import pickle\n",
    "\n",
    "# Simpan tokenizer ke dalam file\n",
    "# with open('tokenizer-2classes-no-stemming.pickle', 'wb') as handle:\n",
    "#     pickle.dump(tokenizer, handle, protocol=pickle.HIGHEST_PROTOCOL)\n"
   ]
  },
  {
   "cell_type": "code",
   "execution_count": 17,
   "metadata": {},
   "outputs": [
    {
     "name": "stdout",
     "output_type": "stream",
     "text": [
      "[   79 22710     0     0     0     0     0     0     0     0     0     0\n",
      "     0     0     0     0     0     0     0     0     0     0     0     0\n",
      "     0     0     0     0     0     0     0     0     0     0     0     0\n",
      "     0     0     0     0     0     0     0     0     0     0     0     0\n",
      "     0     0]\n"
     ]
    }
   ],
   "source": [
    "print(train_padded[0])"
   ]
  },
  {
   "cell_type": "markdown",
   "metadata": {},
   "source": [
    "## Word Embedding"
   ]
  },
  {
   "cell_type": "code",
   "execution_count": 18,
   "metadata": {},
   "outputs": [],
   "source": [
    "from gensim.models import Word2Vec\n",
    "\n",
    "# Gabungkan data pelatihan dan validasi\n",
    "sentences = [sentence.split() for sentence in X_train] + [sentence.split() for sentence in X_valid]\n",
    "\n",
    "# Latih model Word2Vec\n",
    "w2v_model = Word2Vec(sentences, vector_size=8, window=5, min_count=1, workers=4)"
   ]
  },
  {
   "cell_type": "code",
   "execution_count": 19,
   "metadata": {},
   "outputs": [],
   "source": [
    "# Create a weight matrix for the embedding layer\n",
    "embedding_matrix = np.zeros((vocab_size, 8))\n",
    "for word, i in tokenizer.word_index.items():\n",
    "    if word in w2v_model.wv:\n",
    "        embedding_matrix[i] = w2v_model.wv[word]\n",
    "        "
   ]
  },
  {
   "cell_type": "code",
   "execution_count": 20,
   "metadata": {},
   "outputs": [
    {
     "data": {
      "text/plain": [
       "array([[ 0.        ,  0.        ,  0.        , ...,  0.        ,\n",
       "         0.        ,  0.        ],\n",
       "       [ 0.        ,  0.        ,  0.        , ...,  0.        ,\n",
       "         0.        ,  0.        ],\n",
       "       [-1.39326763, -4.18538857,  0.38278988, ...,  0.76040316,\n",
       "         5.5891242 , -3.42920566],\n",
       "       ...,\n",
       "       [ 0.        ,  0.        ,  0.        , ...,  0.        ,\n",
       "         0.        ,  0.        ],\n",
       "       [ 0.        ,  0.        ,  0.        , ...,  0.        ,\n",
       "         0.        ,  0.        ],\n",
       "       [ 0.        ,  0.        ,  0.        , ...,  0.        ,\n",
       "         0.        ,  0.        ]])"
      ]
     },
     "execution_count": 20,
     "metadata": {},
     "output_type": "execute_result"
    }
   ],
   "source": [
    "embedding_matrix"
   ]
  },
  {
   "cell_type": "code",
   "execution_count": 21,
   "metadata": {},
   "outputs": [
    {
     "name": "stdout",
     "output_type": "stream",
     "text": [
      "('in', array([-2.50989008, -0.76485288,  1.67013359,  2.50149393,  1.74014461,\n",
      "       -0.10663366,  3.41138601, -0.66347456]))\n"
     ]
    }
   ],
   "source": [
    "# Mencari kata berdasarkan vektor tertentu\n",
    "def find_word_by_vector(embedding_matrix, vector):\n",
    "    for word, index in word_index.items():\n",
    "        if np.array_equal(embedding_matrix[index], vector):\n",
    "            return word, embedding_matrix[index]\n",
    "    return None\n",
    "\n",
    "# Contoh: Mencari kata untuk vektor embedding_matrix[3]\n",
    "word = find_word_by_vector(embedding_matrix, embedding_matrix[345])\n",
    "print(word)"
   ]
  },
  {
   "cell_type": "markdown",
   "metadata": {},
   "source": [
    "## Build and Compile Model"
   ]
  },
  {
   "cell_type": "code",
   "execution_count": 22,
   "metadata": {},
   "outputs": [
    {
     "name": "stderr",
     "output_type": "stream",
     "text": [
      "c:\\Users\\TEMP\\miniconda3\\envs\\skripsi\\Lib\\site-packages\\keras\\src\\layers\\core\\embedding.py:93: UserWarning: Do not pass an `input_shape`/`input_dim` argument to a layer. When using Sequential models, prefer using an `Input(shape)` object as the first layer in the model instead.\n",
      "  super().__init__(**kwargs)\n"
     ]
    },
    {
     "data": {
      "text/html": [
       "<pre style=\"white-space:pre;overflow-x:auto;line-height:normal;font-family:Menlo,'DejaVu Sans Mono',consolas,'Courier New',monospace\"><span style=\"font-weight: bold\">Model: \"sequential\"</span>\n",
       "</pre>\n"
      ],
      "text/plain": [
       "\u001b[1mModel: \"sequential\"\u001b[0m\n"
      ]
     },
     "metadata": {},
     "output_type": "display_data"
    },
    {
     "data": {
      "text/html": [
       "<pre style=\"white-space:pre;overflow-x:auto;line-height:normal;font-family:Menlo,'DejaVu Sans Mono',consolas,'Courier New',monospace\">┏━━━━━━━━━━━━━━━━━━━━━━━━━━━━━━━━━┳━━━━━━━━━━━━━━━━━━━━━━━━┳━━━━━━━━━━━━━━━┓\n",
       "┃<span style=\"font-weight: bold\"> Layer (type)                    </span>┃<span style=\"font-weight: bold\"> Output Shape           </span>┃<span style=\"font-weight: bold\">       Param # </span>┃\n",
       "┡━━━━━━━━━━━━━━━━━━━━━━━━━━━━━━━━━╇━━━━━━━━━━━━━━━━━━━━━━━━╇━━━━━━━━━━━━━━━┩\n",
       "│ embedding (<span style=\"color: #0087ff; text-decoration-color: #0087ff\">Embedding</span>)           │ (<span style=\"color: #00d7ff; text-decoration-color: #00d7ff\">None</span>, <span style=\"color: #00af00; text-decoration-color: #00af00\">50</span>, <span style=\"color: #00af00; text-decoration-color: #00af00\">8</span>)          │       <span style=\"color: #00af00; text-decoration-color: #00af00\">480,000</span> │\n",
       "├─────────────────────────────────┼────────────────────────┼───────────────┤\n",
       "│ conv1d (<span style=\"color: #0087ff; text-decoration-color: #0087ff\">Conv1D</span>)                 │ (<span style=\"color: #00d7ff; text-decoration-color: #00d7ff\">None</span>, <span style=\"color: #00af00; text-decoration-color: #00af00\">50</span>, <span style=\"color: #00af00; text-decoration-color: #00af00\">128</span>)        │         <span style=\"color: #00af00; text-decoration-color: #00af00\">5,248</span> │\n",
       "├─────────────────────────────────┼────────────────────────┼───────────────┤\n",
       "│ max_pooling1d (<span style=\"color: #0087ff; text-decoration-color: #0087ff\">MaxPooling1D</span>)    │ (<span style=\"color: #00d7ff; text-decoration-color: #00d7ff\">None</span>, <span style=\"color: #00af00; text-decoration-color: #00af00\">25</span>, <span style=\"color: #00af00; text-decoration-color: #00af00\">128</span>)        │             <span style=\"color: #00af00; text-decoration-color: #00af00\">0</span> │\n",
       "├─────────────────────────────────┼────────────────────────┼───────────────┤\n",
       "│ lstm (<span style=\"color: #0087ff; text-decoration-color: #0087ff\">LSTM</span>)                     │ (<span style=\"color: #00d7ff; text-decoration-color: #00d7ff\">None</span>, <span style=\"color: #00af00; text-decoration-color: #00af00\">25</span>, <span style=\"color: #00af00; text-decoration-color: #00af00\">128</span>)        │       <span style=\"color: #00af00; text-decoration-color: #00af00\">131,584</span> │\n",
       "├─────────────────────────────────┼────────────────────────┼───────────────┤\n",
       "│ flatten (<span style=\"color: #0087ff; text-decoration-color: #0087ff\">Flatten</span>)               │ (<span style=\"color: #00d7ff; text-decoration-color: #00d7ff\">None</span>, <span style=\"color: #00af00; text-decoration-color: #00af00\">3200</span>)           │             <span style=\"color: #00af00; text-decoration-color: #00af00\">0</span> │\n",
       "├─────────────────────────────────┼────────────────────────┼───────────────┤\n",
       "│ dense (<span style=\"color: #0087ff; text-decoration-color: #0087ff\">Dense</span>)                   │ (<span style=\"color: #00d7ff; text-decoration-color: #00d7ff\">None</span>, <span style=\"color: #00af00; text-decoration-color: #00af00\">16</span>)             │        <span style=\"color: #00af00; text-decoration-color: #00af00\">51,216</span> │\n",
       "├─────────────────────────────────┼────────────────────────┼───────────────┤\n",
       "│ dropout (<span style=\"color: #0087ff; text-decoration-color: #0087ff\">Dropout</span>)               │ (<span style=\"color: #00d7ff; text-decoration-color: #00d7ff\">None</span>, <span style=\"color: #00af00; text-decoration-color: #00af00\">16</span>)             │             <span style=\"color: #00af00; text-decoration-color: #00af00\">0</span> │\n",
       "├─────────────────────────────────┼────────────────────────┼───────────────┤\n",
       "│ dense_1 (<span style=\"color: #0087ff; text-decoration-color: #0087ff\">Dense</span>)                 │ (<span style=\"color: #00d7ff; text-decoration-color: #00d7ff\">None</span>, <span style=\"color: #00af00; text-decoration-color: #00af00\">6</span>)              │           <span style=\"color: #00af00; text-decoration-color: #00af00\">102</span> │\n",
       "└─────────────────────────────────┴────────────────────────┴───────────────┘\n",
       "</pre>\n"
      ],
      "text/plain": [
       "┏━━━━━━━━━━━━━━━━━━━━━━━━━━━━━━━━━┳━━━━━━━━━━━━━━━━━━━━━━━━┳━━━━━━━━━━━━━━━┓\n",
       "┃\u001b[1m \u001b[0m\u001b[1mLayer (type)                   \u001b[0m\u001b[1m \u001b[0m┃\u001b[1m \u001b[0m\u001b[1mOutput Shape          \u001b[0m\u001b[1m \u001b[0m┃\u001b[1m \u001b[0m\u001b[1m      Param #\u001b[0m\u001b[1m \u001b[0m┃\n",
       "┡━━━━━━━━━━━━━━━━━━━━━━━━━━━━━━━━━╇━━━━━━━━━━━━━━━━━━━━━━━━╇━━━━━━━━━━━━━━━┩\n",
       "│ embedding (\u001b[38;5;33mEmbedding\u001b[0m)           │ (\u001b[38;5;45mNone\u001b[0m, \u001b[38;5;34m50\u001b[0m, \u001b[38;5;34m8\u001b[0m)          │       \u001b[38;5;34m480,000\u001b[0m │\n",
       "├─────────────────────────────────┼────────────────────────┼───────────────┤\n",
       "│ conv1d (\u001b[38;5;33mConv1D\u001b[0m)                 │ (\u001b[38;5;45mNone\u001b[0m, \u001b[38;5;34m50\u001b[0m, \u001b[38;5;34m128\u001b[0m)        │         \u001b[38;5;34m5,248\u001b[0m │\n",
       "├─────────────────────────────────┼────────────────────────┼───────────────┤\n",
       "│ max_pooling1d (\u001b[38;5;33mMaxPooling1D\u001b[0m)    │ (\u001b[38;5;45mNone\u001b[0m, \u001b[38;5;34m25\u001b[0m, \u001b[38;5;34m128\u001b[0m)        │             \u001b[38;5;34m0\u001b[0m │\n",
       "├─────────────────────────────────┼────────────────────────┼───────────────┤\n",
       "│ lstm (\u001b[38;5;33mLSTM\u001b[0m)                     │ (\u001b[38;5;45mNone\u001b[0m, \u001b[38;5;34m25\u001b[0m, \u001b[38;5;34m128\u001b[0m)        │       \u001b[38;5;34m131,584\u001b[0m │\n",
       "├─────────────────────────────────┼────────────────────────┼───────────────┤\n",
       "│ flatten (\u001b[38;5;33mFlatten\u001b[0m)               │ (\u001b[38;5;45mNone\u001b[0m, \u001b[38;5;34m3200\u001b[0m)           │             \u001b[38;5;34m0\u001b[0m │\n",
       "├─────────────────────────────────┼────────────────────────┼───────────────┤\n",
       "│ dense (\u001b[38;5;33mDense\u001b[0m)                   │ (\u001b[38;5;45mNone\u001b[0m, \u001b[38;5;34m16\u001b[0m)             │        \u001b[38;5;34m51,216\u001b[0m │\n",
       "├─────────────────────────────────┼────────────────────────┼───────────────┤\n",
       "│ dropout (\u001b[38;5;33mDropout\u001b[0m)               │ (\u001b[38;5;45mNone\u001b[0m, \u001b[38;5;34m16\u001b[0m)             │             \u001b[38;5;34m0\u001b[0m │\n",
       "├─────────────────────────────────┼────────────────────────┼───────────────┤\n",
       "│ dense_1 (\u001b[38;5;33mDense\u001b[0m)                 │ (\u001b[38;5;45mNone\u001b[0m, \u001b[38;5;34m6\u001b[0m)              │           \u001b[38;5;34m102\u001b[0m │\n",
       "└─────────────────────────────────┴────────────────────────┴───────────────┘\n"
      ]
     },
     "metadata": {},
     "output_type": "display_data"
    },
    {
     "data": {
      "text/html": [
       "<pre style=\"white-space:pre;overflow-x:auto;line-height:normal;font-family:Menlo,'DejaVu Sans Mono',consolas,'Courier New',monospace\"><span style=\"font-weight: bold\"> Total params: </span><span style=\"color: #00af00; text-decoration-color: #00af00\">668,150</span> (2.55 MB)\n",
       "</pre>\n"
      ],
      "text/plain": [
       "\u001b[1m Total params: \u001b[0m\u001b[38;5;34m668,150\u001b[0m (2.55 MB)\n"
      ]
     },
     "metadata": {},
     "output_type": "display_data"
    },
    {
     "data": {
      "text/html": [
       "<pre style=\"white-space:pre;overflow-x:auto;line-height:normal;font-family:Menlo,'DejaVu Sans Mono',consolas,'Courier New',monospace\"><span style=\"font-weight: bold\"> Trainable params: </span><span style=\"color: #00af00; text-decoration-color: #00af00\">188,150</span> (734.96 KB)\n",
       "</pre>\n"
      ],
      "text/plain": [
       "\u001b[1m Trainable params: \u001b[0m\u001b[38;5;34m188,150\u001b[0m (734.96 KB)\n"
      ]
     },
     "metadata": {},
     "output_type": "display_data"
    },
    {
     "data": {
      "text/html": [
       "<pre style=\"white-space:pre;overflow-x:auto;line-height:normal;font-family:Menlo,'DejaVu Sans Mono',consolas,'Courier New',monospace\"><span style=\"font-weight: bold\"> Non-trainable params: </span><span style=\"color: #00af00; text-decoration-color: #00af00\">480,000</span> (1.83 MB)\n",
       "</pre>\n"
      ],
      "text/plain": [
       "\u001b[1m Non-trainable params: \u001b[0m\u001b[38;5;34m480,000\u001b[0m (1.83 MB)\n"
      ]
     },
     "metadata": {},
     "output_type": "display_data"
    }
   ],
   "source": [
    "model = tf.keras.Sequential([\n",
    "    tf.keras.layers.Embedding(vocab_size, 8, embeddings_initializer=tf.keras.initializers.Constant(embedding_matrix), \n",
    "              input_shape=(max_length,), trainable=False),\n",
    "    tf.keras.layers.Conv1D(128, 5, activation='relu', padding='same'),\n",
    "    tf.keras.layers.MaxPooling1D(pool_size=2),\n",
    "    tf.keras.layers.LSTM(128, return_sequences=True),\n",
    "    tf.keras.layers.Flatten(),\n",
    "    tf.keras.layers.Dense(16, activation='relu'),\n",
    "    tf.keras.layers.Dropout(0.5),\n",
    "    tf.keras.layers.Dense(6, activation='softmax')\n",
    "])\n",
    "\n",
    "model.compile(loss='sparse_categorical_crossentropy',optimizer='adam',metrics=['accuracy'])\n",
    "\n",
    "model.summary()"
   ]
  },
  {
   "cell_type": "code",
   "execution_count": 23,
   "metadata": {},
   "outputs": [
    {
     "name": "stdout",
     "output_type": "stream",
     "text": [
      "Layer Name: embedding\n",
      "Weights Shape (Tensor 0): (60000, 8)\n",
      "Weights (Tensor 0):\n",
      "[[ 0.          0.          0.         ...  0.          0.\n",
      "   0.        ]\n",
      " [ 0.          0.          0.         ...  0.          0.\n",
      "   0.        ]\n",
      " [-1.3932676  -4.1853886   0.38278988 ...  0.76040316  5.589124\n",
      "  -3.4292057 ]\n",
      " ...\n",
      " [ 0.          0.          0.         ...  0.          0.\n",
      "   0.        ]\n",
      " [ 0.          0.          0.         ...  0.          0.\n",
      "   0.        ]\n",
      " [ 0.          0.          0.         ...  0.          0.\n",
      "   0.        ]]\n",
      "Layer Name: conv1d\n",
      "Weights Shape (Tensor 0): (5, 8, 128)\n",
      "Weights (Tensor 0):\n",
      "[[[ 0.03697501 -0.07595088  0.03275493 ...  0.0080268  -0.08428032\n",
      "    0.04969379]\n",
      "  [ 0.04327159 -0.05043011  0.01683673 ...  0.08152993 -0.01807095\n",
      "    0.08631463]\n",
      "  [-0.00089996  0.00863818  0.08976191 ... -0.06084631  0.00424001\n",
      "   -0.08654664]\n",
      "  ...\n",
      "  [-0.03530865 -0.00519297  0.07912308 ... -0.01993237 -0.08671666\n",
      "    0.01797532]\n",
      "  [-0.03838208 -0.08234725 -0.01786321 ... -0.04461056 -0.05688674\n",
      "    0.0750096 ]\n",
      "  [ 0.09317663 -0.02414516  0.01919986 ... -0.03692409  0.09071077\n",
      "   -0.07503325]]\n",
      "\n",
      " [[ 0.00819898  0.07547835 -0.0898293  ... -0.09045199 -0.02440299\n",
      "    0.05833276]\n",
      "  [-0.08926044 -0.01925216 -0.02127413 ... -0.08185752  0.05911791\n",
      "   -0.02169123]\n",
      "  [-0.08103091  0.05325833  0.0112033  ... -0.06400353  0.06471704\n",
      "    0.0294935 ]\n",
      "  ...\n",
      "  [-0.03211153  0.07078056  0.02955038 ... -0.07575795 -0.0288361\n",
      "   -0.02493796]\n",
      "  [-0.07125497  0.06739004 -0.02146147 ...  0.07531501  0.0468428\n",
      "   -0.00301249]\n",
      "  [ 0.06830077 -0.02258577  0.00446885 ... -0.03653785 -0.02235927\n",
      "    0.02308703]]\n",
      "\n",
      " [[-0.00451037  0.00376623 -0.00373065 ...  0.01198293 -0.08111245\n",
      "    0.02745888]\n",
      "  [ 0.06824501 -0.08673879  0.08347905 ...  0.0246033   0.01317668\n",
      "    0.0272313 ]\n",
      "  [-0.02255142  0.08395854  0.06201449 ... -0.0365931   0.07194816\n",
      "   -0.0722801 ]\n",
      "  ...\n",
      "  [ 0.01494127  0.03375256  0.05710456 ... -0.08547154 -0.02759214\n",
      "    0.07161509]\n",
      "  [ 0.08621126  0.03801484  0.09211577 ...  0.0461434  -0.06387992\n",
      "   -0.04410707]\n",
      "  [ 0.06391162  0.08330052 -0.08761315 ... -0.00461567  0.02149072\n",
      "   -0.02969358]]\n",
      "\n",
      " [[ 0.06267701 -0.0229882  -0.07473122 ... -0.06325433 -0.08449715\n",
      "   -0.06745926]\n",
      "  [ 0.03485185 -0.09090028  0.06036294 ... -0.08359157 -0.05153159\n",
      "   -0.08504701]\n",
      "  [ 0.03217651 -0.08012691  0.06734319 ... -0.01809845 -0.03459632\n",
      "   -0.08683954]\n",
      "  ...\n",
      "  [ 0.04948103  0.0167654   0.02854954 ... -0.07930934  0.02791925\n",
      "   -0.06567281]\n",
      "  [ 0.09080097 -0.09165973 -0.04567832 ...  0.05841687  0.02402391\n",
      "   -0.07811588]\n",
      "  [ 0.04052787  0.06850065  0.04091062 ... -0.0655201  -0.05676453\n",
      "    0.00830287]]\n",
      "\n",
      " [[-0.02409671  0.02149281  0.06067057 ... -0.01785821  0.0509564\n",
      "   -0.06303433]\n",
      "  [-0.08132068  0.05967969  0.01092695 ...  0.09360725 -0.0918475\n",
      "    0.07191288]\n",
      "  [ 0.07674432  0.09120332  0.03078749 ... -0.08232629  0.03440624\n",
      "    0.08041002]\n",
      "  ...\n",
      "  [-0.00050932 -0.03367897  0.00759377 ...  0.05008605  0.04812035\n",
      "    0.07449701]\n",
      "  [-0.06327318 -0.04527468 -0.02304517 ...  0.00246214  0.01033108\n",
      "    0.08823298]\n",
      "  [ 0.04340342 -0.06952055  0.01854428 ...  0.02295974 -0.03150159\n",
      "    0.0360782 ]]]\n",
      "Weights Shape (Tensor 1): (128,)\n",
      "Weights (Tensor 1):\n",
      "[0. 0. 0. 0. 0. 0. 0. 0. 0. 0. 0. 0. 0. 0. 0. 0. 0. 0. 0. 0. 0. 0. 0. 0.\n",
      " 0. 0. 0. 0. 0. 0. 0. 0. 0. 0. 0. 0. 0. 0. 0. 0. 0. 0. 0. 0. 0. 0. 0. 0.\n",
      " 0. 0. 0. 0. 0. 0. 0. 0. 0. 0. 0. 0. 0. 0. 0. 0. 0. 0. 0. 0. 0. 0. 0. 0.\n",
      " 0. 0. 0. 0. 0. 0. 0. 0. 0. 0. 0. 0. 0. 0. 0. 0. 0. 0. 0. 0. 0. 0. 0. 0.\n",
      " 0. 0. 0. 0. 0. 0. 0. 0. 0. 0. 0. 0. 0. 0. 0. 0. 0. 0. 0. 0. 0. 0. 0. 0.\n",
      " 0. 0. 0. 0. 0. 0. 0. 0.]\n",
      "Layer Name: lstm\n",
      "Weights Shape (Tensor 0): (128, 512)\n",
      "Weights (Tensor 0):\n",
      "[[-0.03467757  0.09615947 -0.02934396 ...  0.08892354 -0.02306156\n",
      "   0.0137966 ]\n",
      " [-0.04524139 -0.02373152  0.06039451 ...  0.03497171  0.06666394\n",
      "  -0.00126266]\n",
      " [-0.0136214  -0.04882904 -0.05110051 ...  0.0388027   0.05387859\n",
      "  -0.06314223]\n",
      " ...\n",
      " [ 0.04983199  0.00681638 -0.03122395 ... -0.05483106  0.08050482\n",
      "  -0.08911817]\n",
      " [ 0.07407127  0.08055151 -0.03572598 ... -0.03143076  0.04352464\n",
      "   0.04538421]\n",
      " [-0.0318789   0.08745459  0.0198831  ... -0.06206131 -0.06098438\n",
      "  -0.04296158]]\n",
      "Weights Shape (Tensor 1): (128, 512)\n",
      "Weights (Tensor 1):\n",
      "[[ 0.02199042 -0.02050652 -0.00724865 ...  0.00108534  0.01056056\n",
      "  -0.07766815]\n",
      " [-0.01375059  0.0375843  -0.00480093 ... -0.0117532   0.05820711\n",
      "  -0.03709711]\n",
      " [ 0.00669284  0.01103297  0.05517852 ...  0.05038713 -0.01258603\n",
      "   0.03753447]\n",
      " ...\n",
      " [-0.04751087  0.02171544  0.08643755 ...  0.00889709 -0.04090569\n",
      "  -0.01909096]\n",
      " [-0.01079107  0.04998386 -0.03136921 ...  0.00230715  0.06614126\n",
      "  -0.04122479]\n",
      " [ 0.06334654 -0.04135158  0.00477838 ... -0.05623564 -0.01531636\n",
      "  -0.07164227]]\n",
      "Weights Shape (Tensor 2): (512,)\n",
      "Weights (Tensor 2):\n",
      "[0. 0. 0. 0. 0. 0. 0. 0. 0. 0. 0. 0. 0. 0. 0. 0. 0. 0. 0. 0. 0. 0. 0. 0.\n",
      " 0. 0. 0. 0. 0. 0. 0. 0. 0. 0. 0. 0. 0. 0. 0. 0. 0. 0. 0. 0. 0. 0. 0. 0.\n",
      " 0. 0. 0. 0. 0. 0. 0. 0. 0. 0. 0. 0. 0. 0. 0. 0. 0. 0. 0. 0. 0. 0. 0. 0.\n",
      " 0. 0. 0. 0. 0. 0. 0. 0. 0. 0. 0. 0. 0. 0. 0. 0. 0. 0. 0. 0. 0. 0. 0. 0.\n",
      " 0. 0. 0. 0. 0. 0. 0. 0. 0. 0. 0. 0. 0. 0. 0. 0. 0. 0. 0. 0. 0. 0. 0. 0.\n",
      " 0. 0. 0. 0. 0. 0. 0. 0. 1. 1. 1. 1. 1. 1. 1. 1. 1. 1. 1. 1. 1. 1. 1. 1.\n",
      " 1. 1. 1. 1. 1. 1. 1. 1. 1. 1. 1. 1. 1. 1. 1. 1. 1. 1. 1. 1. 1. 1. 1. 1.\n",
      " 1. 1. 1. 1. 1. 1. 1. 1. 1. 1. 1. 1. 1. 1. 1. 1. 1. 1. 1. 1. 1. 1. 1. 1.\n",
      " 1. 1. 1. 1. 1. 1. 1. 1. 1. 1. 1. 1. 1. 1. 1. 1. 1. 1. 1. 1. 1. 1. 1. 1.\n",
      " 1. 1. 1. 1. 1. 1. 1. 1. 1. 1. 1. 1. 1. 1. 1. 1. 1. 1. 1. 1. 1. 1. 1. 1.\n",
      " 1. 1. 1. 1. 1. 1. 1. 1. 1. 1. 1. 1. 1. 1. 1. 1. 0. 0. 0. 0. 0. 0. 0. 0.\n",
      " 0. 0. 0. 0. 0. 0. 0. 0. 0. 0. 0. 0. 0. 0. 0. 0. 0. 0. 0. 0. 0. 0. 0. 0.\n",
      " 0. 0. 0. 0. 0. 0. 0. 0. 0. 0. 0. 0. 0. 0. 0. 0. 0. 0. 0. 0. 0. 0. 0. 0.\n",
      " 0. 0. 0. 0. 0. 0. 0. 0. 0. 0. 0. 0. 0. 0. 0. 0. 0. 0. 0. 0. 0. 0. 0. 0.\n",
      " 0. 0. 0. 0. 0. 0. 0. 0. 0. 0. 0. 0. 0. 0. 0. 0. 0. 0. 0. 0. 0. 0. 0. 0.\n",
      " 0. 0. 0. 0. 0. 0. 0. 0. 0. 0. 0. 0. 0. 0. 0. 0. 0. 0. 0. 0. 0. 0. 0. 0.\n",
      " 0. 0. 0. 0. 0. 0. 0. 0. 0. 0. 0. 0. 0. 0. 0. 0. 0. 0. 0. 0. 0. 0. 0. 0.\n",
      " 0. 0. 0. 0. 0. 0. 0. 0. 0. 0. 0. 0. 0. 0. 0. 0. 0. 0. 0. 0. 0. 0. 0. 0.\n",
      " 0. 0. 0. 0. 0. 0. 0. 0. 0. 0. 0. 0. 0. 0. 0. 0. 0. 0. 0. 0. 0. 0. 0. 0.\n",
      " 0. 0. 0. 0. 0. 0. 0. 0. 0. 0. 0. 0. 0. 0. 0. 0. 0. 0. 0. 0. 0. 0. 0. 0.\n",
      " 0. 0. 0. 0. 0. 0. 0. 0. 0. 0. 0. 0. 0. 0. 0. 0. 0. 0. 0. 0. 0. 0. 0. 0.\n",
      " 0. 0. 0. 0. 0. 0. 0. 0.]\n",
      "Layer Name: dense\n",
      "Weights Shape (Tensor 0): (3200, 16)\n",
      "Weights (Tensor 0):\n",
      "[[-0.02902456  0.03144372 -0.03387683 ... -0.0067896   0.04158327\n",
      "  -0.01871126]\n",
      " [-0.02413978 -0.04189426 -0.03449535 ... -0.00549013 -0.02462551\n",
      "   0.03869229]\n",
      " [ 0.02342385 -0.01051295  0.03433386 ...  0.01833954  0.00391915\n",
      "  -0.01280514]\n",
      " ...\n",
      " [ 0.03801226  0.02264561  0.02472664 ...  0.00830275 -0.01629679\n",
      "  -0.01488335]\n",
      " [-0.01986932  0.01836688  0.00752    ...  0.04024862  0.01211714\n",
      "   0.01672591]\n",
      " [ 0.00682341 -0.03402517  0.01276153 ... -0.03789983  0.03738979\n",
      "  -0.00567591]]\n",
      "Weights Shape (Tensor 1): (16,)\n",
      "Weights (Tensor 1):\n",
      "[0. 0. 0. 0. 0. 0. 0. 0. 0. 0. 0. 0. 0. 0. 0. 0.]\n",
      "Layer Name: dense_1\n",
      "Weights Shape (Tensor 0): (16, 6)\n",
      "Weights (Tensor 0):\n",
      "[[-0.45243922  0.3613088  -0.1230036   0.22953391 -0.40507522 -0.08246523]\n",
      " [ 0.45245916 -0.23258302 -0.40479645  0.28058475 -0.4819354   0.06046367]\n",
      " [-0.28977868  0.06902087  0.24166924  0.49796742  0.3962592  -0.4998789 ]\n",
      " [ 0.13191503 -0.04350516  0.11604756  0.0757392   0.1704753   0.1577856 ]\n",
      " [ 0.31015462  0.26465756 -0.40736073  0.11275893 -0.44825158 -0.18148446]\n",
      " [-0.2838636   0.1834526   0.41077495  0.24043745 -0.1558426   0.10778612]\n",
      " [ 0.35025024  0.25386316 -0.00737286  0.20055366  0.382734   -0.2728539 ]\n",
      " [-0.00765175 -0.39141434 -0.10787064  0.3087834  -0.32048786 -0.1280359 ]\n",
      " [-0.26824516  0.46472448  0.1436196   0.35943484 -0.17358056 -0.44077188]\n",
      " [ 0.15247685 -0.18923533 -0.1458315  -0.19181842  0.16649121 -0.13077438]\n",
      " [-0.12904844  0.23265338 -0.25372532  0.14643776  0.05356485  0.436966  ]\n",
      " [ 0.20184171 -0.04261196 -0.03617004  0.16085392  0.29337394  0.10492474]\n",
      " [-0.28271997  0.382612    0.40167558 -0.4075968   0.50331277  0.05237651]\n",
      " [ 0.16661209  0.5167354  -0.16702536 -0.04554191 -0.08172429 -0.38990295]\n",
      " [-0.35264367  0.20972061 -0.09554416  0.30859143  0.26440877  0.10666251]\n",
      " [ 0.04091901 -0.23820126  0.51247746  0.44349056 -0.03286803  0.372191  ]]\n",
      "Weights Shape (Tensor 1): (6,)\n",
      "Weights (Tensor 1):\n",
      "[0. 0. 0. 0. 0. 0.]\n"
     ]
    }
   ],
   "source": [
    "# Looping untuk mendapatkan bobot dari setiap layer\n",
    "for layer in model.layers:\n",
    "    # Mengecek apakah layer memiliki bobot\n",
    "    if layer.weights:\n",
    "        print(\"Layer Name:\", layer.name)\n",
    "        # Mendapatkan bobot dan bias dari layer\n",
    "        weights = layer.get_weights()\n",
    "        for i, w in enumerate(weights):\n",
    "            print(\"Weights Shape (Tensor {}):\".format(i), w.shape)\n",
    "            print(\"Weights (Tensor {}):\".format(i))\n",
    "            print(w)\n"
   ]
  },
  {
   "cell_type": "markdown",
   "metadata": {},
   "source": [
    "## Train Model"
   ]
  },
  {
   "cell_type": "code",
   "execution_count": 24,
   "metadata": {},
   "outputs": [
    {
     "name": "stdout",
     "output_type": "stream",
     "text": [
      "Epoch 1/200\n",
      "\u001b[1m202/202\u001b[0m \u001b[32m━━━━━━━━━━━━━━━━━━━━\u001b[0m\u001b[37m\u001b[0m \u001b[1m38s\u001b[0m 104ms/step - accuracy: 0.2274 - loss: 1.7270 - val_accuracy: 0.3763 - val_loss: 1.5462 - learning_rate: 0.0010\n",
      "Epoch 2/200\n",
      "\u001b[1m202/202\u001b[0m \u001b[32m━━━━━━━━━━━━━━━━━━━━\u001b[0m\u001b[37m\u001b[0m \u001b[1m22s\u001b[0m 107ms/step - accuracy: 0.3428 - loss: 1.5917 - val_accuracy: 0.4244 - val_loss: 1.4603 - learning_rate: 0.0010\n",
      "Epoch 3/200\n",
      "\u001b[1m202/202\u001b[0m \u001b[32m━━━━━━━━━━━━━━━━━━━━\u001b[0m\u001b[37m\u001b[0m \u001b[1m25s\u001b[0m 122ms/step - accuracy: 0.3726 - loss: 1.5412 - val_accuracy: 0.4561 - val_loss: 1.4289 - learning_rate: 0.0010\n",
      "Epoch 4/200\n",
      "\u001b[1m202/202\u001b[0m \u001b[32m━━━━━━━━━━━━━━━━━━━━\u001b[0m\u001b[37m\u001b[0m \u001b[1m30s\u001b[0m 149ms/step - accuracy: 0.4132 - loss: 1.4798 - val_accuracy: 0.4746 - val_loss: 1.4030 - learning_rate: 0.0010\n",
      "Epoch 5/200\n",
      "\u001b[1m202/202\u001b[0m \u001b[32m━━━━━━━━━━━━━━━━━━━━\u001b[0m\u001b[37m\u001b[0m \u001b[1m30s\u001b[0m 144ms/step - accuracy: 0.4160 - loss: 1.4667 - val_accuracy: 0.4331 - val_loss: 1.4193 - learning_rate: 0.0010\n",
      "Epoch 6/200\n",
      "\u001b[1m202/202\u001b[0m \u001b[32m━━━━━━━━━━━━━━━━━━━━\u001b[0m\u001b[37m\u001b[0m \u001b[1m49s\u001b[0m 178ms/step - accuracy: 0.4427 - loss: 1.4191 - val_accuracy: 0.4843 - val_loss: 1.3526 - learning_rate: 0.0010\n",
      "Epoch 7/200\n",
      "\u001b[1m202/202\u001b[0m \u001b[32m━━━━━━━━━━━━━━━━━━━━\u001b[0m\u001b[37m\u001b[0m \u001b[1m45s\u001b[0m 221ms/step - accuracy: 0.4588 - loss: 1.3790 - val_accuracy: 0.5115 - val_loss: 1.3102 - learning_rate: 0.0010\n",
      "Epoch 8/200\n",
      "\u001b[1m202/202\u001b[0m \u001b[32m━━━━━━━━━━━━━━━━━━━━\u001b[0m\u001b[37m\u001b[0m \u001b[1m72s\u001b[0m 167ms/step - accuracy: 0.4830 - loss: 1.3305 - val_accuracy: 0.5136 - val_loss: 1.2895 - learning_rate: 0.0010\n",
      "Epoch 9/200\n"
     ]
    }
   ],
   "source": [
    "from tensorflow.keras.callbacks import EarlyStopping, ReduceLROnPlateau\n",
    "\n",
    "num_epochs = 200\n",
    "\n",
    "# EarlyStopping callback\n",
    "early_stopping = EarlyStopping(monitor='val_loss', patience=5, restore_best_weights=True)\n",
    "\n",
    "# ReduceLROnPlateau callback\n",
    "reduce_lr = ReduceLROnPlateau(monitor='val_loss', factor=0.2, patience=10, min_lr=0.0001)\n",
    "\n",
    "# Train the model\n",
    "history = model.fit(\n",
    "    train_padded, \n",
    "    y_train, \n",
    "    batch_size=128, \n",
    "    epochs=num_epochs, \n",
    "    validation_data=(valid_padded, y_valid), \n",
    "    callbacks=[early_stopping, reduce_lr]\n",
    ")\n"
   ]
  },
  {
   "cell_type": "code",
   "execution_count": null,
   "metadata": {},
   "outputs": [
    {
     "data": {
      "image/png": "[encoded data removed]",
      "text/plain": [
       "<Figure size 640x480 with 1 Axes>"
      ]
     },
     "metadata": {},
     "output_type": "display_data"
    }
   ],
   "source": [
    "# Plot the training history\n",
    "def plot_graphs(history, string):\n",
    "  plt.plot(history.history[string])\n",
    "  plt.plot(history.history['val_'+string])\n",
    "  plt.xlabel(\"Epochs\")\n",
    "  plt.ylabel(string)\n",
    "  plt.legend([string, 'val_'+string])\n",
    "  plt.show()\n",
    "\n",
    "plot_graphs(history, \"accuracy\")"
   ]
  },
  {
   "cell_type": "code",
   "execution_count": null,
   "metadata": {},
   "outputs": [
    {
     "data": {
      "image/png": "[encoded data removed]",
      "text/plain": [
       "<Figure size 640x480 with 1 Axes>"
      ]
     },
     "metadata": {},
     "output_type": "display_data"
    }
   ],
   "source": [
    "# Plot the training history\n",
    "def plot_graphs(history, string):\n",
    "  plt.plot(history.history[string])\n",
    "  plt.plot(history.history['val_'+string])\n",
    "  plt.xlabel(\"Epochs\")\n",
    "  plt.ylabel(string)\n",
    "  plt.legend([string, 'val_'+string])\n",
    "  plt.show()\n",
    "\n",
    "plot_graphs(history, \"loss\")"
   ]
  },
  {
   "cell_type": "code",
   "execution_count": null,
   "metadata": {},
   "outputs": [
    {
     "name": "stdout",
     "output_type": "stream",
     "text": [
      "\u001b[1m90/90\u001b[0m \u001b[32m━━━━━━━━━━━━━━━━━━━━\u001b[0m\u001b[37m\u001b[0m \u001b[1m1s\u001b[0m 9ms/step - accuracy: 0.6549 - loss: 1.0480\n",
      "Loss:  1.0389434099197388\n",
      "Accuracy:  0.6407665610313416\n",
      "\u001b[1m90/90\u001b[0m \u001b[32m━━━━━━━━━━━━━━━━━━━━\u001b[0m\u001b[37m\u001b[0m \u001b[1m1s\u001b[0m 7ms/step\n",
      "              precision    recall  f1-score   support\n",
      "\n",
      "           0       0.33      0.20      0.25       306\n",
      "           1       0.55      0.76      0.64       577\n",
      "           2       0.69      0.74      0.71       647\n",
      "           3       0.73      0.61      0.67       466\n",
      "           4       0.71      0.73      0.72       492\n",
      "           5       0.75      0.57      0.65       382\n",
      "\n",
      "    accuracy                           0.64      2870\n",
      "   macro avg       0.63      0.60      0.61      2870\n",
      "weighted avg       0.64      0.64      0.63      2870\n",
      "\n"
     ]
    }
   ],
   "source": [
    "#sklearn report\n",
    "from sklearn.metrics import classification_report\n",
    "\n",
    "loss, accuracy = model.evaluate(valid_padded, y_valid)\n",
    "print(\"Loss: \", loss)\n",
    "print(\"Accuracy: \", accuracy)\n",
    "\n",
    "y_pred = model.predict(valid_padded)\n",
    "y_pred = np.argmax(y_pred, axis=1)\n",
    "print(classification_report(y_valid, y_pred))"
   ]
  },
  {
   "cell_type": "code",
   "execution_count": null,
   "metadata": {},
   "outputs": [
    {
     "data": {
      "image/png": "[encoded data removed]",
      "text/plain": [
       "<Figure size 640x480 with 1 Axes>"
      ]
     },
     "metadata": {},
     "output_type": "display_data"
    }
   ],
   "source": [
    "# create a confusion matrix\n",
    "from sklearn.metrics import confusion_matrix\n",
    "import seaborn as sns\n",
    "\n",
    "# Membuat confusion matrix\n",
    "cm = confusion_matrix(y_valid, y_pred)\n",
    "\n",
    "# Membuat heatmap dari confusion matrix\n",
    "sns.heatmap(cm, annot=True, fmt=\"d\", cmap=\"Blues\", cbar=False, annot_kws={\"size\": 16})\n",
    "plt.xlabel(\"Predicted Label\")\n",
    "plt.ylabel(\"True Label\")\n",
    "plt.title(\"Confusion Matrix\")\n",
    "plt.show()\n"
   ]
  },
  {
   "cell_type": "code",
   "execution_count": null,
   "metadata": {},
   "outputs": [
    {
     "name": "stdout",
     "output_type": "stream",
     "text": [
      "[[ 62  96  68  27  26  27]\n",
      " [ 32 437  30  19  39  20]\n",
      " [ 29  71 476  45  19   7]\n",
      " [ 21  59  75 286  23   2]\n",
      " [ 20  63  21  10 361  17]\n",
      " [ 23  72  21   6  43 217]]\n"
     ]
    }
   ],
   "source": [
    "print(cm)"
   ]
  },
  {
   "cell_type": "code",
   "execution_count": null,
   "metadata": {},
   "outputs": [
    {
     "name": "stdout",
     "output_type": "stream",
     "text": [
      "\u001b[1m1/1\u001b[0m \u001b[32m━━━━━━━━━━━━━━━━━━━━\u001b[0m\u001b[37m\u001b[0m \u001b[1m0s\u001b[0m 33ms/step\n",
      "Prediksi: [[0.18916872 0.28103957 0.03911216 0.01464532 0.1481807  0.3278535 ]]\n",
      "\u001b[1m1/1\u001b[0m \u001b[32m━━━━━━━━━━━━━━━━━━━━\u001b[0m\u001b[37m\u001b[0m \u001b[1m0s\u001b[0m 26ms/step\n",
      "Prediksi: [[1.5362912e-02 7.5120816e-04 2.3394296e-05 1.3822023e-07 4.2445892e-03\n",
      "  9.7961777e-01]]\n",
      "\u001b[1m1/1\u001b[0m \u001b[32m━━━━━━━━━━━━━━━━━━━━\u001b[0m\u001b[37m\u001b[0m \u001b[1m0s\u001b[0m 28ms/step\n",
      "Prediksi: [[0.05672257 0.73504627 0.01263935 0.03471866 0.01635287 0.14452024]]\n",
      "\u001b[1m1/1\u001b[0m \u001b[32m━━━━━━━━━━━━━━━━━━━━\u001b[0m\u001b[37m\u001b[0m \u001b[1m0s\u001b[0m 27ms/step\n",
      "Prediksi: [[0.16459723 0.0935086  0.01325142 0.00199094 0.34304354 0.38360822]]\n",
      "\u001b[1m1/1\u001b[0m \u001b[32m━━━━━━━━━━━━━━━━━━━━\u001b[0m\u001b[37m\u001b[0m \u001b[1m0s\u001b[0m 27ms/step\n",
      "Prediksi: [[8.3773351e-08 1.5448549e-13 6.1762272e-18 1.6849798e-26 6.4154699e-09\n",
      "  9.9999988e-01]]\n"
     ]
    },
    {
     "data": {
      "text/plain": [
       "'Fear'"
      ]
     },
     "execution_count": 85,
     "metadata": {},
     "output_type": "execute_result"
    }
   ],
   "source": [
    "#predict another data input from the model\n",
    "def predict_emotion(text):\n",
    "    # Tokenisasi\n",
    "    text = [text]\n",
    "    sequences = tokenizer.texts_to_sequences(text)\n",
    "    padded = pad_sequences(sequences, maxlen=max_length, truncating=trunc_type, padding=\"post\")\n",
    "    \n",
    "    # Prediksi\n",
    "    pred = model.predict(padded)\n",
    "\n",
    "    print(\"Prediksi:\", pred)\n",
    "    pred = np.argmax(pred, axis=1)\n",
    "    \n",
    "\n",
    "    # Mengembalikan label emosi\n",
    "    if pred == 0:\n",
    "        return \"Neutral\"\n",
    "    elif pred == 1:\n",
    "        return \"Anger\"\n",
    "    elif pred == 2:\n",
    "        return \"Joy\"\n",
    "    elif pred == 3:\n",
    "        return \"Love\"\n",
    "    elif pred == 4:\n",
    "        return \"Sad\"\n",
    "    elif pred == 5:\n",
    "        return \"Fear\"\n",
    "\n",
    "#make 10 senteces twitter in predict emotion\n",
    "predict_emotion(\"saya sangat senang hari ini\")\n",
    "predict_emotion(\"saya sangat marah hari ini\")\n",
    "predict_emotion(\"saya sangat cinta hari ini\")\n",
    "predict_emotion(\"saya sangat sedih hari ini\")\n",
    "predict_emotion(\"saya sangat takut hari ini\")\n"
   ]
  },
  {
   "cell_type": "code",
   "execution_count": null,
   "metadata": {},
   "outputs": [
    {
     "name": "stderr",
     "output_type": "stream",
     "text": [
      "WARNING:absl:You are saving your model as an HDF5 file via `model.save()` or `keras.saving.save_model(model)`. This file format is considered legacy. We recommend using instead the native Keras format, e.g. `model.save('my_model.keras')` or `keras.saving.save_model(model, 'my_model.keras')`. \n"
     ]
    }
   ],
   "source": [
    "#save model\n",
    "model.save('./model/model-cnnlstm.h5')"
   ]
  }
 ],
 "metadata": {
  "kernelspec": {
   "display_name": "Python 3",
   "language": "python",
   "name": "python3"
  },
  "language_info": {
   "codemirror_mode": {
    "name": "ipython",
    "version": 3
   },
   "file_extension": ".py",
   "mimetype": "text/x-python",
   "name": "python",
   "nbconvert_exporter": "python",
   "pygments_lexer": "ipython3",
   "version": "3.11.4"
  }
 },
 "nbformat": 4,
 "nbformat_minor": 2
}
