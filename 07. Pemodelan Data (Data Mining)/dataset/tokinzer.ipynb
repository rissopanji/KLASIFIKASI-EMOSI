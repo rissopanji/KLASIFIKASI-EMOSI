{
 "cells": [
  {
   "cell_type": "code",
   "execution_count": 112,
   "metadata": {},
   "outputs": [
    {
     "name": "stderr",
     "output_type": "stream",
     "text": [
      "[nltk_data] Downloading package punkt to\n",
      "[nltk_data]     C:\\Users\\TEMP\\AppData\\Roaming\\nltk_data...\n",
      "[nltk_data]   Package punkt is already up-to-date!\n"
     ]
    },
    {
     "data": {
      "text/plain": [
       "True"
      ]
     },
     "execution_count": 112,
     "metadata": {},
     "output_type": "execute_result"
    }
   ],
   "source": [
    "import nltk\n",
    "from nltk.tokenize import word_tokenize\n",
    "import pandas as pd\n",
    "import numpy as np\n",
    "import matplotlib.pyplot as plt\n",
    "\n",
    "nltk.download('punkt')"
   ]
  },
  {
   "cell_type": "code",
   "execution_count": 113,
   "metadata": {},
   "outputs": [],
   "source": [
    "df1 = pd.read_csv('Dataset_clean(penelitian).csv')\n",
    "df2 = pd.read_csv('Dataset_clean(aplikasi).csv')\n",
    "\n",
    "train_data = pd.concat([df1, df2])"
   ]
  },
  {
   "cell_type": "code",
   "execution_count": 114,
   "metadata": {},
   "outputs": [
    {
     "name": "stdout",
     "output_type": "stream",
     "text": [
      "Number of rows with 'Skipped due to content policy': 0\n"
     ]
    }
   ],
   "source": [
    "train_data = train_data[['full_text', 'emotion']]\n",
    "train_data\n",
    "\n",
    "train_data = train_data.dropna()\n",
    "#hitung baris yang memiliki kata Skipped due to content policy\n",
    "skipped_rows = train_data[train_data['full_text'] == 'Skipped due to content policy']\n",
    "print(\"Number of rows with 'Skipped due to content policy':\", len(skipped_rows))\n"
   ]
  },
  {
   "cell_type": "code",
   "execution_count": 115,
   "metadata": {},
   "outputs": [],
   "source": [
    "def tokenization_sentences(tweet):\n",
    "    if isinstance(tweet, list):\n",
    "        tokenized_tweet = []\n",
    "        for word in tweet:\n",
    "            tokens = word_tokenize(word)\n",
    "            tokenized_tweet.extend(tokens)\n",
    "        return tokenized_tweet\n",
    "    else:\n",
    "        return word_tokenize(tweet)"
   ]
  },
  {
   "cell_type": "code",
   "execution_count": 116,
   "metadata": {},
   "outputs": [],
   "source": [
    "#terapkan fungsi tokenization_sentences pada kolom 'full_text'\n",
    "train_data['full_text'] = train_data['full_text'].apply(tokenization_sentences)"
   ]
  },
  {
   "cell_type": "code",
   "execution_count": 117,
   "metadata": {},
   "outputs": [
    {
     "data": {
      "text/html": [
       "<div>\n",
       "<style scoped>\n",
       "    .dataframe tbody tr th:only-of-type {\n",
       "        vertical-align: middle;\n",
       "    }\n",
       "\n",
       "    .dataframe tbody tr th {\n",
       "        vertical-align: top;\n",
       "    }\n",
       "\n",
       "    .dataframe thead th {\n",
       "        text-align: right;\n",
       "    }\n",
       "</style>\n",
       "<table border=\"1\" class=\"dataframe\">\n",
       "  <thead>\n",
       "    <tr style=\"text-align: right;\">\n",
       "      <th></th>\n",
       "      <th>full_text</th>\n",
       "      <th>emotion</th>\n",
       "    </tr>\n",
       "  </thead>\n",
       "  <tbody>\n",
       "    <tr>\n",
       "      <th>0</th>\n",
       "      <td>[pengabdian, terpuji, meskipun, terlihat, biasa]</td>\n",
       "      <td>Neutral</td>\n",
       "    </tr>\n",
       "    <tr>\n",
       "      <th>1</th>\n",
       "      <td>[baru, mengirim, foto]</td>\n",
       "      <td>Neutral</td>\n",
       "    </tr>\n",
       "    <tr>\n",
       "      <th>2</th>\n",
       "      <td>[apa, kabar, dunia, twitter, masihkah, selucu,...</td>\n",
       "      <td>Neutral</td>\n",
       "    </tr>\n",
       "    <tr>\n",
       "      <th>3</th>\n",
       "      <td>[yah, gimana, sih, yaudah, susul, sebelumnya, ...</td>\n",
       "      <td>Neutral</td>\n",
       "    </tr>\n",
       "    <tr>\n",
       "      <th>4</th>\n",
       "      <td>[ka, dorg, suro, beli, medium, set]</td>\n",
       "      <td>Neutral</td>\n",
       "    </tr>\n",
       "    <tr>\n",
       "      <th>...</th>\n",
       "      <td>...</td>\n",
       "      <td>...</td>\n",
       "    </tr>\n",
       "    <tr>\n",
       "      <th>28614</th>\n",
       "      <td>[cod, beli, euphoria, wonderland, la, foret, f...</td>\n",
       "      <td>Joy</td>\n",
       "    </tr>\n",
       "    <tr>\n",
       "      <th>28615</th>\n",
       "      <td>[ลองด, cod, flash, sale, ก, โล, แมคคายกกระสอบ,...</td>\n",
       "      <td>Joy</td>\n",
       "    </tr>\n",
       "    <tr>\n",
       "      <th>28616</th>\n",
       "      <td>[wal, cod, an, shopee, kawa, pakai, qris, lah,...</td>\n",
       "      <td>Neutral</td>\n",
       "    </tr>\n",
       "    <tr>\n",
       "      <th>28617</th>\n",
       "      <td>[temukan, bisa, cod, light, stick, treasure, b...</td>\n",
       "      <td>Neutral</td>\n",
       "    </tr>\n",
       "    <tr>\n",
       "      <th>28618</th>\n",
       "      <td>[wts, want, to, sell, ina, lfb, postcard, chil...</td>\n",
       "      <td>Neutral</td>\n",
       "    </tr>\n",
       "  </tbody>\n",
       "</table>\n",
       "<p>57300 rows × 2 columns</p>\n",
       "</div>"
      ],
      "text/plain": [
       "                                               full_text  emotion\n",
       "0       [pengabdian, terpuji, meskipun, terlihat, biasa]  Neutral\n",
       "1                                 [baru, mengirim, foto]  Neutral\n",
       "2      [apa, kabar, dunia, twitter, masihkah, selucu,...  Neutral\n",
       "3      [yah, gimana, sih, yaudah, susul, sebelumnya, ...  Neutral\n",
       "4                    [ka, dorg, suro, beli, medium, set]  Neutral\n",
       "...                                                  ...      ...\n",
       "28614  [cod, beli, euphoria, wonderland, la, foret, f...      Joy\n",
       "28615  [ลองด, cod, flash, sale, ก, โล, แมคคายกกระสอบ,...      Joy\n",
       "28616  [wal, cod, an, shopee, kawa, pakai, qris, lah,...  Neutral\n",
       "28617  [temukan, bisa, cod, light, stick, treasure, b...  Neutral\n",
       "28618  [wts, want, to, sell, ina, lfb, postcard, chil...  Neutral\n",
       "\n",
       "[57300 rows x 2 columns]"
      ]
     },
     "execution_count": 117,
     "metadata": {},
     "output_type": "execute_result"
    }
   ],
   "source": [
    "train_data"
   ]
  },
  {
   "cell_type": "code",
   "execution_count": 118,
   "metadata": {},
   "outputs": [],
   "source": [
    "jumlah_netral = len(train_data[train_data['emotion'] == \"Neutral\"])\n",
    "jumlah_marah = len(train_data[train_data['emotion'] == \"Anger\"])\n",
    "jumlah_senang = len(train_data[train_data['emotion'] == \"Joy\"])\n",
    "jumlah_cinta = len(train_data[train_data['emotion'] == \"Love\"])\n",
    "jumlah_sedih = len(train_data[train_data['emotion'] == \"Sad\"])\n",
    "jumlah_takut = len(train_data[train_data['emotion'] == \"Fear\"])"
   ]
  },
  {
   "cell_type": "code",
   "execution_count": 119,
   "metadata": {},
   "outputs": [
    {
     "name": "stdout",
     "output_type": "stream",
     "text": [
      "Jumlah Netral:  12981\n",
      "Jumlah Marah:  11069\n",
      "Jumlah Senang:  12307\n",
      "Jumlah Cinta:  5389\n",
      "Jumlah Sedih:  7272\n",
      "Jumlah Takut:  7996\n"
     ]
    }
   ],
   "source": [
    "print(\"Jumlah Netral: \", jumlah_netral)\n",
    "print(\"Jumlah Marah: \", jumlah_marah)\n",
    "print(\"Jumlah Senang: \", jumlah_senang)\n",
    "print(\"Jumlah Cinta: \", jumlah_cinta)\n",
    "print(\"Jumlah Sedih: \", jumlah_sedih)\n",
    "print(\"Jumlah Takut: \", jumlah_takut)"
   ]
  },
  {
   "cell_type": "code",
   "execution_count": 120,
   "metadata": {},
   "outputs": [],
   "source": [
    "import pandas as pd\n",
    "import random\n",
    "\n",
    "# Set the random seed for reproducibility\n",
    "random.seed(42)\n",
    "\n",
    "# Filter out the rows with the specified emotions\n",
    "filtered_data = train_data[~train_data['emotion'].isin([\"Skipped due to content policy\"])]\n",
    "\n",
    "# Define the total maximum count and the range\n",
    "total_max_count = 56714\n",
    "range_diff = 2031\n",
    "\n",
    "# Define the order of emotions\n",
    "emotion_order = [\"Neutral\", \"Anger\", \"Joy\", \"Love\", \"Sad\", \"Fear\"]\n",
    "\n",
    "# Initialize a list to store the balanced data\n",
    "balanced_data = []\n",
    "\n",
    "# Calculate the number of labels\n",
    "num_labels = len(emotion_order)\n",
    "\n",
    "# Define the base count for each label to ensure we stay within total_max_count\n",
    "base_count = total_max_count // num_labels\n",
    "\n",
    "# Calculate the minimum and maximum count for each label\n",
    "min_count = base_count - range_diff // 2\n",
    "max_count = base_count + range_diff // 2\n",
    "\n",
    "# Calculate random target counts ensuring they are in descending order\n",
    "target_counts = []\n",
    "remaining_count = total_max_count\n",
    "\n",
    "for i in range(num_labels):\n",
    "    if i == num_labels - 1:\n",
    "        # Assign the remaining count to the last emotion\n",
    "        target_counts.append(remaining_count)\n",
    "    else:\n",
    "        max_count = min(max_count, remaining_count - (num_labels - i - 1) * min_count)\n",
    "        target_count = random.randint(min_count, max_count)\n",
    "        target_counts.append(target_count)\n",
    "        remaining_count -= target_count\n",
    "\n",
    "# Ensure target_counts is sorted in descending order\n",
    "target_counts.sort(reverse=True)\n",
    "\n",
    "# Iterate over each emotion in the defined order and balance the dataset\n",
    "for emotion, target_count in zip(emotion_order, target_counts):\n",
    "    emotion_data = filtered_data[filtered_data['emotion'] == emotion]\n",
    "    current_count = len(emotion_data)\n",
    "    \n",
    "    if current_count > target_count:\n",
    "        # If current count is greater than target, sample down\n",
    "        sampled_data = emotion_data.sample(target_count, random_state=42)\n",
    "    else:\n",
    "        # If current count is less than target, duplicate up\n",
    "        additional_data = emotion_data.sample(target_count - current_count, replace=True, random_state=42)\n",
    "        sampled_data = pd.concat([emotion_data, additional_data])\n",
    "    \n",
    "    balanced_data.append(sampled_data)\n",
    "\n",
    "# Concatenate all the balanced data\n",
    "final_balanced_data = pd.concat(balanced_data).reset_index(drop=True)\n",
    "\n",
    "# Adjust the total number of entries to be exactly 56,714\n",
    "current_total = len(final_balanced_data)\n",
    "if current_total > total_max_count:\n",
    "    final_balanced_data = final_balanced_data.sample(total_max_count, random_state=42)\n",
    "elif current_total < total_max_count:\n",
    "    additional_data = final_balanced_data.sample(total_max_count - current_total, replace=True, random_state=42)\n",
    "    final_balanced_data = pd.concat([final_balanced_data, additional_data])\n"
   ]
  },
  {
   "cell_type": "code",
   "execution_count": 121,
   "metadata": {},
   "outputs": [
    {
     "name": "stdout",
     "output_type": "stream",
     "text": [
      "emotion\n",
      "Neutral    10860\n",
      "Anger       9955\n",
      "Joy         9746\n",
      "Love        9000\n",
      "Sad         8665\n",
      "Fear        8488\n",
      "Name: count, dtype: int64\n"
     ]
    }
   ],
   "source": [
    "# Display the new counts\n",
    "print(final_balanced_data['emotion'].value_counts())"
   ]
  },
  {
   "cell_type": "code",
   "execution_count": 122,
   "metadata": {},
   "outputs": [
    {
     "data": {
      "text/html": [
       "<div>\n",
       "<style scoped>\n",
       "    .dataframe tbody tr th:only-of-type {\n",
       "        vertical-align: middle;\n",
       "    }\n",
       "\n",
       "    .dataframe tbody tr th {\n",
       "        vertical-align: top;\n",
       "    }\n",
       "\n",
       "    .dataframe thead th {\n",
       "        text-align: right;\n",
       "    }\n",
       "</style>\n",
       "<table border=\"1\" class=\"dataframe\">\n",
       "  <thead>\n",
       "    <tr style=\"text-align: right;\">\n",
       "      <th></th>\n",
       "      <th>full_text</th>\n",
       "      <th>emotion</th>\n",
       "    </tr>\n",
       "  </thead>\n",
       "  <tbody>\n",
       "    <tr>\n",
       "      <th>0</th>\n",
       "      <td>[wakil, ketua, komisi, i, dpr, utut, adianto, ...</td>\n",
       "      <td>Neutral</td>\n",
       "    </tr>\n",
       "    <tr>\n",
       "      <th>1</th>\n",
       "      <td>[kemnaker, rumah, sakit, bersinergi, terapkan,...</td>\n",
       "      <td>Neutral</td>\n",
       "    </tr>\n",
       "    <tr>\n",
       "      <th>2</th>\n",
       "      <td>[very, interesting, comment, sheds, some, ligh...</td>\n",
       "      <td>Neutral</td>\n",
       "    </tr>\n",
       "    <tr>\n",
       "      <th>3</th>\n",
       "      <td>[distribusi, logistik, pemilu, tahap, pertama,...</td>\n",
       "      <td>Neutral</td>\n",
       "    </tr>\n",
       "    <tr>\n",
       "      <th>4</th>\n",
       "      <td>[well, it, is, geopolitics, you, see, russia, ...</td>\n",
       "      <td>Neutral</td>\n",
       "    </tr>\n",
       "    <tr>\n",
       "      <th>...</th>\n",
       "      <td>...</td>\n",
       "      <td>...</td>\n",
       "    </tr>\n",
       "    <tr>\n",
       "      <th>56709</th>\n",
       "      <td>[mungkin, uang, hasil, jualan, pulau, amp, uan...</td>\n",
       "      <td>Fear</td>\n",
       "    </tr>\n",
       "    <tr>\n",
       "      <th>56710</th>\n",
       "      <td>[joe, biden, is, caught, in, a, trap, caused, ...</td>\n",
       "      <td>Fear</td>\n",
       "    </tr>\n",
       "    <tr>\n",
       "      <th>56711</th>\n",
       "      <td>[by, the, way, iya, benar, ngeri, sih, olx, se...</td>\n",
       "      <td>Fear</td>\n",
       "    </tr>\n",
       "    <tr>\n",
       "      <th>56712</th>\n",
       "      <td>[facebook, dan, teman, teman, mengalami, gangg...</td>\n",
       "      <td>Fear</td>\n",
       "    </tr>\n",
       "    <tr>\n",
       "      <th>56713</th>\n",
       "      <td>[sudah, bayar, tagihan, tanggal, sampai, sekar...</td>\n",
       "      <td>Fear</td>\n",
       "    </tr>\n",
       "  </tbody>\n",
       "</table>\n",
       "<p>56714 rows × 2 columns</p>\n",
       "</div>"
      ],
      "text/plain": [
       "                                               full_text  emotion\n",
       "0      [wakil, ketua, komisi, i, dpr, utut, adianto, ...  Neutral\n",
       "1      [kemnaker, rumah, sakit, bersinergi, terapkan,...  Neutral\n",
       "2      [very, interesting, comment, sheds, some, ligh...  Neutral\n",
       "3      [distribusi, logistik, pemilu, tahap, pertama,...  Neutral\n",
       "4      [well, it, is, geopolitics, you, see, russia, ...  Neutral\n",
       "...                                                  ...      ...\n",
       "56709  [mungkin, uang, hasil, jualan, pulau, amp, uan...     Fear\n",
       "56710  [joe, biden, is, caught, in, a, trap, caused, ...     Fear\n",
       "56711  [by, the, way, iya, benar, ngeri, sih, olx, se...     Fear\n",
       "56712  [facebook, dan, teman, teman, mengalami, gangg...     Fear\n",
       "56713  [sudah, bayar, tagihan, tanggal, sampai, sekar...     Fear\n",
       "\n",
       "[56714 rows x 2 columns]"
      ]
     },
     "execution_count": 122,
     "metadata": {},
     "output_type": "execute_result"
    }
   ],
   "source": [
    "final_balanced_data"
   ]
  },
  {
   "cell_type": "code",
   "execution_count": 123,
   "metadata": {},
   "outputs": [],
   "source": [
    "# Save the balanced dataset\n",
    "final_balanced_data.to_csv('balanced_train_data.csv', index=False)"
   ]
  }
 ],
 "metadata": {
  "kernelspec": {
   "display_name": "skripsi",
   "language": "python",
   "name": "python3"
  },
  "language_info": {
   "codemirror_mode": {
    "name": "ipython",
    "version": 3
   },
   "file_extension": ".py",
   "mimetype": "text/x-python",
   "name": "python",
   "nbconvert_exporter": "python",
   "pygments_lexer": "ipython3",
   "version": "3.11.4"
  }
 },
 "nbformat": 4,
 "nbformat_minor": 2
}
