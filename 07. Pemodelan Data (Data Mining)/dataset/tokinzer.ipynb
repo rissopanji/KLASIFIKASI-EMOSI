{
 "cells": [
  {
   "cell_type": "code",
   "execution_count": 7,
   "metadata": {},
   "outputs": [
    {
     "name": "stderr",
     "output_type": "stream",
     "text": [
      "[nltk_data] Downloading package punkt to\n",
      "[nltk_data]     C:\\Users\\TEMP\\AppData\\Roaming\\nltk_data...\n",
      "[nltk_data]   Package punkt is already up-to-date!\n"
     ]
    },
    {
     "data": {
      "text/plain": [
       "True"
      ]
     },
     "execution_count": 7,
     "metadata": {},
     "output_type": "execute_result"
    }
   ],
   "source": [
    "import nltk\n",
    "from nltk.tokenize import word_tokenize\n",
    "import pandas as pd\n",
    "import numpy as np\n",
    "import matplotlib.pyplot as plt\n",
    "\n",
    "nltk.download('punkt')"
   ]
  },
  {
   "cell_type": "code",
   "execution_count": 8,
   "metadata": {},
   "outputs": [],
   "source": [
    "df1 = pd.read_csv('Dataset_clean(penelitian).csv')\n",
    "df2 = pd.read_csv('Dataset_clean(aplikasi).csv')\n",
    "\n",
    "train_data = pd.concat([df1, df2])"
   ]
  },
  {
   "cell_type": "code",
   "execution_count": 9,
   "metadata": {},
   "outputs": [
    {
     "name": "stdout",
     "output_type": "stream",
     "text": [
      "Number of rows with 'Skipped due to content policy': 0\n"
     ]
    }
   ],
   "source": [
    "train_data = train_data[['full_text', 'emotion']]\n",
    "train_data\n",
    "\n",
    "train_data = train_data.dropna()\n",
    "#hitung baris yang memiliki kata Skipped due to content policy\n",
    "skipped_rows = train_data[train_data['full_text'] == 'Skipped due to content policy']\n",
    "print(\"Number of rows with 'Skipped due to content policy':\", len(skipped_rows))\n"
   ]
  },
  {
   "cell_type": "code",
   "execution_count": 10,
   "metadata": {},
   "outputs": [],
   "source": [
    "def tokenization_sentences(tweet):\n",
    "    if isinstance(tweet, list):\n",
    "        tokenized_tweet = []\n",
    "        for word in tweet:\n",
    "            tokens = word_tokenize(word)\n",
    "            tokenized_tweet.extend(tokens)\n",
    "        return tokenized_tweet\n",
    "    else:\n",
    "        return word_tokenize(tweet)"
   ]
  },
  {
   "cell_type": "code",
   "execution_count": 14,
   "metadata": {},
   "outputs": [],
   "source": [
    "#terapkan fungsi tokenization_sentences pada kolom 'full_text'\n",
    "train_data['full_text'] = train_data['full_text'].apply(tokenization_sentences)"
   ]
  },
  {
   "cell_type": "code",
   "execution_count": 15,
   "metadata": {},
   "outputs": [
    {
     "data": {
      "text/html": [
       "<div>\n",
       "<style scoped>\n",
       "    .dataframe tbody tr th:only-of-type {\n",
       "        vertical-align: middle;\n",
       "    }\n",
       "\n",
       "    .dataframe tbody tr th {\n",
       "        vertical-align: top;\n",
       "    }\n",
       "\n",
       "    .dataframe thead th {\n",
       "        text-align: right;\n",
       "    }\n",
       "</style>\n",
       "<table border=\"1\" class=\"dataframe\">\n",
       "  <thead>\n",
       "    <tr style=\"text-align: right;\">\n",
       "      <th></th>\n",
       "      <th>full_text</th>\n",
       "      <th>emotion</th>\n",
       "    </tr>\n",
       "  </thead>\n",
       "  <tbody>\n",
       "    <tr>\n",
       "      <th>0</th>\n",
       "      <td>[pengabdian, terpuji, meskipun, terlihat, biasa]</td>\n",
       "      <td>Neutral</td>\n",
       "    </tr>\n",
       "    <tr>\n",
       "      <th>1</th>\n",
       "      <td>[baru, mengirim, foto]</td>\n",
       "      <td>Neutral</td>\n",
       "    </tr>\n",
       "    <tr>\n",
       "      <th>2</th>\n",
       "      <td>[apa, kabar, dunia, twitter, masihkah, selucu,...</td>\n",
       "      <td>Neutral</td>\n",
       "    </tr>\n",
       "    <tr>\n",
       "      <th>3</th>\n",
       "      <td>[yah, gimana, sih, yaudah, susul, sebelumnya, ...</td>\n",
       "      <td>Neutral</td>\n",
       "    </tr>\n",
       "    <tr>\n",
       "      <th>4</th>\n",
       "      <td>[ka, dorg, suro, beli, medium, set]</td>\n",
       "      <td>Neutral</td>\n",
       "    </tr>\n",
       "    <tr>\n",
       "      <th>...</th>\n",
       "      <td>...</td>\n",
       "      <td>...</td>\n",
       "    </tr>\n",
       "    <tr>\n",
       "      <th>28614</th>\n",
       "      <td>[cod, beli, euphoria, wonderland, la, foret, f...</td>\n",
       "      <td>Joy</td>\n",
       "    </tr>\n",
       "    <tr>\n",
       "      <th>28615</th>\n",
       "      <td>[ลองด, cod, flash, sale, ก, โล, แมคคายกกระสอบ,...</td>\n",
       "      <td>Joy</td>\n",
       "    </tr>\n",
       "    <tr>\n",
       "      <th>28616</th>\n",
       "      <td>[wal, cod, an, shopee, kawa, pakai, qris, lah,...</td>\n",
       "      <td>Neutral</td>\n",
       "    </tr>\n",
       "    <tr>\n",
       "      <th>28617</th>\n",
       "      <td>[temukan, bisa, cod, light, stick, treasure, b...</td>\n",
       "      <td>Neutral</td>\n",
       "    </tr>\n",
       "    <tr>\n",
       "      <th>28618</th>\n",
       "      <td>[wts, want, to, sell, ina, lfb, postcard, chil...</td>\n",
       "      <td>Neutral</td>\n",
       "    </tr>\n",
       "  </tbody>\n",
       "</table>\n",
       "<p>57300 rows × 2 columns</p>\n",
       "</div>"
      ],
      "text/plain": [
       "                                               full_text  emotion\n",
       "0       [pengabdian, terpuji, meskipun, terlihat, biasa]  Neutral\n",
       "1                                 [baru, mengirim, foto]  Neutral\n",
       "2      [apa, kabar, dunia, twitter, masihkah, selucu,...  Neutral\n",
       "3      [yah, gimana, sih, yaudah, susul, sebelumnya, ...  Neutral\n",
       "4                    [ka, dorg, suro, beli, medium, set]  Neutral\n",
       "...                                                  ...      ...\n",
       "28614  [cod, beli, euphoria, wonderland, la, foret, f...      Joy\n",
       "28615  [ลองด, cod, flash, sale, ก, โล, แมคคายกกระสอบ,...      Joy\n",
       "28616  [wal, cod, an, shopee, kawa, pakai, qris, lah,...  Neutral\n",
       "28617  [temukan, bisa, cod, light, stick, treasure, b...  Neutral\n",
       "28618  [wts, want, to, sell, ina, lfb, postcard, chil...  Neutral\n",
       "\n",
       "[57300 rows x 2 columns]"
      ]
     },
     "execution_count": 15,
     "metadata": {},
     "output_type": "execute_result"
    }
   ],
   "source": [
    "train_data"
   ]
  },
  {
   "cell_type": "code",
   "execution_count": 16,
   "metadata": {},
   "outputs": [],
   "source": [
    "#tocsv \"Final_Dataset.csv\"\n",
    "train_data.to_csv('Final_Dataset.csv', index=False)"
   ]
  }
 ],
 "metadata": {
  "kernelspec": {
   "display_name": "skripsi",
   "language": "python",
   "name": "python3"
  },
  "language_info": {
   "codemirror_mode": {
    "name": "ipython",
    "version": 3
   },
   "file_extension": ".py",
   "mimetype": "text/x-python",
   "name": "python",
   "nbconvert_exporter": "python",
   "pygments_lexer": "ipython3",
   "version": "3.11.4"
  }
 },
 "nbformat": 4,
 "nbformat_minor": 2
}
