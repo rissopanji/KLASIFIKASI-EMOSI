{
 "cells": [
  {
   "cell_type": "markdown",
   "metadata": {},
   "source": [
    "## **PEMODELAN DATA**\n",
    "\n",
    "---\n"
   ]
  },
  {
   "cell_type": "code",
   "execution_count": 1,
   "metadata": {},
   "outputs": [],
   "source": [
    "import tensorflow as tf\n",
    "import numpy as np\n",
    "import matplotlib.pyplot as plt\n",
    "import pandas as pd\n",
    "import ast\n",
    "\n",
    "from tensorflow.keras.preprocessing.text import Tokenizer\n",
    "from tensorflow.keras.preprocessing.sequence import pad_sequences"
   ]
  },
  {
   "cell_type": "code",
   "execution_count": 2,
   "metadata": {},
   "outputs": [
    {
     "name": "stdout",
     "output_type": "stream",
     "text": [
      "Tensorflow version: 2.16.1\n"
     ]
    }
   ],
   "source": [
    "print(\"Tensorflow version:\", tf.__version__)"
   ]
  },
  {
   "cell_type": "markdown",
   "metadata": {},
   "source": [
    "## 1. Persiapan Dataset"
   ]
  },
  {
   "cell_type": "code",
   "execution_count": 3,
   "metadata": {},
   "outputs": [
    {
     "data": {
      "text/html": [
       "<div>\n",
       "<style scoped>\n",
       "    .dataframe tbody tr th:only-of-type {\n",
       "        vertical-align: middle;\n",
       "    }\n",
       "\n",
       "    .dataframe tbody tr th {\n",
       "        vertical-align: top;\n",
       "    }\n",
       "\n",
       "    .dataframe thead th {\n",
       "        text-align: right;\n",
       "    }\n",
       "</style>\n",
       "<table border=\"1\" class=\"dataframe\">\n",
       "  <thead>\n",
       "    <tr style=\"text-align: right;\">\n",
       "      <th></th>\n",
       "      <th>Unnamed: 0</th>\n",
       "      <th>tweet</th>\n",
       "      <th>label</th>\n",
       "    </tr>\n",
       "  </thead>\n",
       "  <tbody>\n",
       "    <tr>\n",
       "      <th>0</th>\n",
       "      <td>32636</td>\n",
       "      <td>['ganjar', 'tegaskan', 'pemilu', 'bersih', 'ta...</td>\n",
       "      <td>Neutral</td>\n",
       "    </tr>\n",
       "    <tr>\n",
       "      <th>1</th>\n",
       "      <td>1391</td>\n",
       "      <td>['bersyukur', 'akan', 'senantiasa', 'diliputi'...</td>\n",
       "      <td>Neutral</td>\n",
       "    </tr>\n",
       "    <tr>\n",
       "      <th>2</th>\n",
       "      <td>32150</td>\n",
       "      <td>['level', 'pemerintah', 'desa', 'salah', 'seor...</td>\n",
       "      <td>Neutral</td>\n",
       "    </tr>\n",
       "    <tr>\n",
       "      <th>3</th>\n",
       "      <td>28683</td>\n",
       "      <td>['apa', 'kalau', 'punya', 'gagasan', 'kasih', ...</td>\n",
       "      <td>Neutral</td>\n",
       "    </tr>\n",
       "    <tr>\n",
       "      <th>4</th>\n",
       "      <td>29208</td>\n",
       "      <td>['tegas', 'ksad', 'baru', 'jenderal', 'tni', '...</td>\n",
       "      <td>Neutral</td>\n",
       "    </tr>\n",
       "    <tr>\n",
       "      <th>...</th>\n",
       "      <td>...</td>\n",
       "      <td>...</td>\n",
       "      <td>...</td>\n",
       "    </tr>\n",
       "    <tr>\n",
       "      <th>38021</th>\n",
       "      <td>17588</td>\n",
       "      <td>['deddy', 'dedi', 'jadi']</td>\n",
       "      <td>Love</td>\n",
       "    </tr>\n",
       "    <tr>\n",
       "      <th>38022</th>\n",
       "      <td>8365</td>\n",
       "      <td>['kalau', 'sayang', 'iya', 'sayang', 'pisan', ...</td>\n",
       "      <td>Love</td>\n",
       "    </tr>\n",
       "    <tr>\n",
       "      <th>38023</th>\n",
       "      <td>6439</td>\n",
       "      <td>['benar', 'si', 'setuju', 'sekali', 'soalnya',...</td>\n",
       "      <td>Love</td>\n",
       "    </tr>\n",
       "    <tr>\n",
       "      <th>38024</th>\n",
       "      <td>6650</td>\n",
       "      <td>['my', 'cinta', 'barangnya', 'sampai', 'langsu...</td>\n",
       "      <td>Love</td>\n",
       "    </tr>\n",
       "    <tr>\n",
       "      <th>38025</th>\n",
       "      <td>6371</td>\n",
       "      <td>['this', 'one', 'kalau', 'dibandingin', 'sama'...</td>\n",
       "      <td>Love</td>\n",
       "    </tr>\n",
       "  </tbody>\n",
       "</table>\n",
       "<p>38026 rows × 3 columns</p>\n",
       "</div>"
      ],
      "text/plain": [
       "       Unnamed: 0                                              tweet    label\n",
       "0           32636  ['ganjar', 'tegaskan', 'pemilu', 'bersih', 'ta...  Neutral\n",
       "1            1391  ['bersyukur', 'akan', 'senantiasa', 'diliputi'...  Neutral\n",
       "2           32150  ['level', 'pemerintah', 'desa', 'salah', 'seor...  Neutral\n",
       "3           28683  ['apa', 'kalau', 'punya', 'gagasan', 'kasih', ...  Neutral\n",
       "4           29208  ['tegas', 'ksad', 'baru', 'jenderal', 'tni', '...  Neutral\n",
       "...           ...                                                ...      ...\n",
       "38021       17588                          ['deddy', 'dedi', 'jadi']     Love\n",
       "38022        8365  ['kalau', 'sayang', 'iya', 'sayang', 'pisan', ...     Love\n",
       "38023        6439  ['benar', 'si', 'setuju', 'sekali', 'soalnya',...     Love\n",
       "38024        6650  ['my', 'cinta', 'barangnya', 'sampai', 'langsu...     Love\n",
       "38025        6371  ['this', 'one', 'kalau', 'dibandingin', 'sama'...     Love\n",
       "\n",
       "[38026 rows x 3 columns]"
      ]
     },
     "execution_count": 3,
     "metadata": {},
     "output_type": "execute_result"
    }
   ],
   "source": [
    "import pandas as pd\n",
    "\n",
    "file_path = 'balanced_dataset.csv'\n",
    "\n",
    "data = pd.read_csv(file_path)\n",
    "\n",
    "data\n"
   ]
  },
  {
   "cell_type": "markdown",
   "metadata": {},
   "source": [
    "## 2. Preprocessing Data"
   ]
  },
  {
   "cell_type": "code",
   "execution_count": 4,
   "metadata": {},
   "outputs": [
    {
     "name": "stdout",
     "output_type": "stream",
     "text": [
      "label\n",
      "Sad        7590\n",
      "Neutral    7316\n",
      "Joy        6309\n",
      "Anger      6006\n",
      "Fear       5423\n",
      "Love       5382\n",
      "Name: count, dtype: int64\n"
     ]
    }
   ],
   "source": [
    "print(data['label'].value_counts())"
   ]
  },
  {
   "cell_type": "code",
   "execution_count": 5,
   "metadata": {},
   "outputs": [],
   "source": [
    "from sklearn.model_selection import train_test_split\n",
    "from sklearn.preprocessing import LabelEncoder\n",
    "\n",
    "# Misalkan data memiliki kolom 'tweet' dan 'labels'\n",
    "tweets = data['tweet']\n",
    "labels = data['label']\n",
    "\n",
    "# Mengonversi label menjadi angka\n",
    "label_encoder = LabelEncoder()\n",
    "labels_encoded = label_encoder.fit_transform(labels)\n",
    "\n",
    "# Membagi data menjadi training dan sisanya (testing + validation)\n",
    "X_train, X_temp, y_train, y_temp = train_test_split(tweets, labels_encoded, test_size=0.4, random_state=42)\n",
    "\n",
    "# Membagi sisa data menjadi testing dan validation\n",
    "X_test, X_val, y_test, y_val = train_test_split(X_temp, y_temp, test_size=0.5, random_state=42)"
   ]
  },
  {
   "cell_type": "code",
   "execution_count": 6,
   "metadata": {},
   "outputs": [
    {
     "name": "stdout",
     "output_type": "stream",
     "text": [
      "['Anger' 'Fear' 'Joy' 'Love' 'Neutral' 'Sad']\n"
     ]
    }
   ],
   "source": [
    "print(label_encoder.classes_)"
   ]
  },
  {
   "cell_type": "code",
   "execution_count": 7,
   "metadata": {},
   "outputs": [
    {
     "name": "stdout",
     "output_type": "stream",
     "text": [
      "Training data: 22815\n",
      "Testing data: 7605\n",
      "Validation data: 7606\n"
     ]
    }
   ],
   "source": [
    "print(\"Training data:\", len(X_train))\n",
    "print(\"Testing data:\", len(X_test))\n",
    "print(\"Validation data:\", len(X_val))"
   ]
  },
  {
   "cell_type": "code",
   "execution_count": 8,
   "metadata": {},
   "outputs": [
    {
     "data": {
      "text/plain": [
       "7763     ['asli', 'jateng', 'om', 'jelas', 'pilih', 'pa...\n",
       "22533    ['pihak', 'kemenlu', 'ri', 'perlu', 'cepat', '...\n",
       "26006    ['ko', 'mau', 'si', 'pasang', 'beli', 'kim', '...\n",
       "27184    ['terus', 'satu', 'bunda', 'anak', 'asuhnya', ...\n",
       "19598            ['pemikiran', 'tidak', 'bedanya', 'bong']\n",
       "                               ...                        \n",
       "16850    ['mahmoud', 'abbas', 'boneka', 'as', 'sekutuny...\n",
       "6265     ['suka', 'sekali', 'balas', 'by', 'the', 'way'...\n",
       "11284                  ['kamu', 'iya', 'isal', 'semangat']\n",
       "860      ['personil', 'bhabinkamtibmas', 'polsek', 'med...\n",
       "15795    ['harusnya', 'dibatalkan', 'putusan', 'negeri'...\n",
       "Name: tweet, Length: 22815, dtype: object"
      ]
     },
     "execution_count": 8,
     "metadata": {},
     "output_type": "execute_result"
    }
   ],
   "source": [
    "X_train"
   ]
  },
  {
   "cell_type": "code",
   "execution_count": 9,
   "metadata": {},
   "outputs": [
    {
     "data": {
      "text/plain": [
       "5754     ['kenal', 'anak', 'mipa', 'tidak', 'kedengaran...\n",
       "16503    ['wahai', 'ingatlah', 'tahun', 'depan', 'tahun...\n",
       "1660     ['membahayakan', 'gimana', 'bagaimana', 'foto'...\n",
       "16703    ['woi', 'goblok', 'ramyat', 'palestina', 'pend...\n",
       "30937    ['shopee', 'bagaimana', 'cara', 'kembalikan', ...\n",
       "                               ...                        \n",
       "33019    ['iya', 'allah', 'cinta', 'sekali', 'sama', 's...\n",
       "10030    ['bro', 'uki', 'mengatakan', 'sejumlah', 'gera...\n",
       "29350    ['sangat', 'sayangkan', 'kwalitas', 'kader', '...\n",
       "22676    ['sumber', 'daya', 'kelangkaan', 'energi', 'te...\n",
       "90       ['soal', 'n', 'tvone', 'apa', 'pernah', 'membe...\n",
       "Name: tweet, Length: 7605, dtype: object"
      ]
     },
     "execution_count": 9,
     "metadata": {},
     "output_type": "execute_result"
    }
   ],
   "source": [
    "X_test"
   ]
  },
  {
   "cell_type": "code",
   "execution_count": 10,
   "metadata": {},
   "outputs": [
    {
     "data": {
      "text/plain": [
       "28570    ['sedih', 'dahla', 'yen', 'mahal', 'ibarat', '...\n",
       "18198    ['tahulah', 'anak', 'luah', 'kat', 'siapa', 't...\n",
       "12799    ['jelek', 'lhoh', 'mainnya', 'timnas', 'cender...\n",
       "3103      ['pendidikan', 'menciptakan', 'budi', 'pekerti']\n",
       "4416     ['bupati', 'imron', 'hadiri', 'deklarasi', 'pe...\n",
       "                               ...                        \n",
       "6634     ['kaca', 'lebih', 'enak', 'menurutku', 'boleh'...\n",
       "29083    ['dibalik', 'kebobolan', 'gol', 'timnas', 'mai...\n",
       "26786    ['jangan', 'membuat', 'bumi', 'menangis', 'kee...\n",
       "10850    ['seminar', 'proposal', 'stay', 'positive', 'w...\n",
       "1442     ['sorry', 'bro', 'koreksi', 'libanon', 'bukan'...\n",
       "Name: tweet, Length: 7606, dtype: object"
      ]
     },
     "execution_count": 10,
     "metadata": {},
     "output_type": "execute_result"
    }
   ],
   "source": [
    "X_val"
   ]
  },
  {
   "cell_type": "markdown",
   "metadata": {},
   "source": [
    "## 3. Transform Data"
   ]
  },
  {
   "cell_type": "code",
   "execution_count": 11,
   "metadata": {},
   "outputs": [],
   "source": [
    "from tensorflow.keras.preprocessing.text import Tokenizer\n",
    "from tensorflow.keras.preprocessing.sequence import pad_sequences\n",
    "import numpy as np\n",
    "\n",
    "# Tokenisasi data\n",
    "tokenizer = Tokenizer(num_words=10000)\n",
    "tokenizer.fit_on_texts(X_train)\n",
    "\n",
    "X_train_seq = tokenizer.texts_to_sequences(X_train)\n",
    "X_val_seq = tokenizer.texts_to_sequences(X_val)\n",
    "X_test_seq = tokenizer.texts_to_sequences(X_test)\n",
    "\n",
    "# Padding sequences\n",
    "maxlen = 64 # Panjang maksimum dari sequence\n",
    "X_train_pad = pad_sequences(X_train_seq, maxlen=maxlen)\n",
    "X_val_pad = pad_sequences(X_val_seq, maxlen=maxlen)\n",
    "X_test_pad = pad_sequences(X_test_seq, maxlen=maxlen)\n",
    "\n",
    "# Mengubah label menjadi tipe numerik\n",
    "y_train = y_train.astype(int)\n",
    "y_val = y_val.astype(int)\n",
    "y_test = y_test.astype(int)\n"
   ]
  },
  {
   "cell_type": "code",
   "execution_count": 12,
   "metadata": {},
   "outputs": [
    {
     "name": "stdout",
     "output_type": "stream",
     "text": [
      "X train pad : [[   0    0    0 ...   43 8576 7301]\n",
      " [   0    0    0 ...  992 8578   16]\n",
      " [   0    0    0 ...   30   25 4645]\n",
      " ...\n",
      " [   0    0    0 ...    5    3   83]\n",
      " [   0    0    0 ...    1  104   49]\n",
      " [   0    0    0 ...   69  419 5465]]\n",
      "X val pad : [[   0    0    0 ... 3391  265 3829]\n",
      " [   0    0    0 ... 1086  141  460]\n",
      " [   0    0    0 ... 7546 3555  199]\n",
      " ...\n",
      " [   0    0    0 ...  718  146 3527]\n",
      " [   0    0    0 ... 2851 7269   83]\n",
      " [   0    0    0 ... 4441   87 5261]]\n",
      "X test pad : [[   0    0    0 ...    8  254   22]\n",
      " [   0    0    0 ...  265 1773  294]\n",
      " [   0    0    0 ... 1452   14  141]\n",
      " ...\n",
      " [   0    0    0 ... 1084 4409  100]\n",
      " [   0    0    0 ...  563 3831 9732]\n",
      " [   0    0    0 ...  209 3519   22]]\n"
     ]
    }
   ],
   "source": [
    "print(\"X train pad :\", X_train_pad)\n",
    "print(\"X val pad :\", X_val_pad)\n",
    "print(\"X test pad :\", X_test_pad)"
   ]
  },
  {
   "cell_type": "markdown",
   "metadata": {},
   "source": [
    "## 4. Build and Compile Model"
   ]
  },
  {
   "cell_type": "code",
   "execution_count": 13,
   "metadata": {},
   "outputs": [
    {
     "name": "stderr",
     "output_type": "stream",
     "text": [
      "c:\\Users\\TEMP\\miniconda3\\Lib\\site-packages\\keras\\src\\layers\\core\\embedding.py:90: UserWarning: Argument `input_length` is deprecated. Just remove it.\n",
      "  warnings.warn(\n"
     ]
    },
    {
     "data": {
      "text/html": [
       "<pre style=\"white-space:pre;overflow-x:auto;line-height:normal;font-family:Menlo,'DejaVu Sans Mono',consolas,'Courier New',monospace\"><span style=\"font-weight: bold\">Model: \"sequential\"</span>\n",
       "</pre>\n"
      ],
      "text/plain": [
       "\u001b[1mModel: \"sequential\"\u001b[0m\n"
      ]
     },
     "metadata": {},
     "output_type": "display_data"
    },
    {
     "data": {
      "text/html": [
       "<pre style=\"white-space:pre;overflow-x:auto;line-height:normal;font-family:Menlo,'DejaVu Sans Mono',consolas,'Courier New',monospace\">┏━━━━━━━━━━━━━━━━━━━━━━━━━━━━━━━━━┳━━━━━━━━━━━━━━━━━━━━━━━━┳━━━━━━━━━━━━━━━┓\n",
       "┃<span style=\"font-weight: bold\"> Layer (type)                    </span>┃<span style=\"font-weight: bold\"> Output Shape           </span>┃<span style=\"font-weight: bold\">       Param # </span>┃\n",
       "┡━━━━━━━━━━━━━━━━━━━━━━━━━━━━━━━━━╇━━━━━━━━━━━━━━━━━━━━━━━━╇━━━━━━━━━━━━━━━┩\n",
       "│ embedding (<span style=\"color: #0087ff; text-decoration-color: #0087ff\">Embedding</span>)           │ ?                      │   <span style=\"color: #00af00; text-decoration-color: #00af00\">0</span> (unbuilt) │\n",
       "├─────────────────────────────────┼────────────────────────┼───────────────┤\n",
       "│ gru (<span style=\"color: #0087ff; text-decoration-color: #0087ff\">GRU</span>)                       │ ?                      │   <span style=\"color: #00af00; text-decoration-color: #00af00\">0</span> (unbuilt) │\n",
       "├─────────────────────────────────┼────────────────────────┼───────────────┤\n",
       "│ gru_1 (<span style=\"color: #0087ff; text-decoration-color: #0087ff\">GRU</span>)                     │ ?                      │   <span style=\"color: #00af00; text-decoration-color: #00af00\">0</span> (unbuilt) │\n",
       "├─────────────────────────────────┼────────────────────────┼───────────────┤\n",
       "│ dense (<span style=\"color: #0087ff; text-decoration-color: #0087ff\">Dense</span>)                   │ ?                      │   <span style=\"color: #00af00; text-decoration-color: #00af00\">0</span> (unbuilt) │\n",
       "└─────────────────────────────────┴────────────────────────┴───────────────┘\n",
       "</pre>\n"
      ],
      "text/plain": [
       "┏━━━━━━━━━━━━━━━━━━━━━━━━━━━━━━━━━┳━━━━━━━━━━━━━━━━━━━━━━━━┳━━━━━━━━━━━━━━━┓\n",
       "┃\u001b[1m \u001b[0m\u001b[1mLayer (type)                   \u001b[0m\u001b[1m \u001b[0m┃\u001b[1m \u001b[0m\u001b[1mOutput Shape          \u001b[0m\u001b[1m \u001b[0m┃\u001b[1m \u001b[0m\u001b[1m      Param #\u001b[0m\u001b[1m \u001b[0m┃\n",
       "┡━━━━━━━━━━━━━━━━━━━━━━━━━━━━━━━━━╇━━━━━━━━━━━━━━━━━━━━━━━━╇━━━━━━━━━━━━━━━┩\n",
       "│ embedding (\u001b[38;5;33mEmbedding\u001b[0m)           │ ?                      │   \u001b[38;5;34m0\u001b[0m (unbuilt) │\n",
       "├─────────────────────────────────┼────────────────────────┼───────────────┤\n",
       "│ gru (\u001b[38;5;33mGRU\u001b[0m)                       │ ?                      │   \u001b[38;5;34m0\u001b[0m (unbuilt) │\n",
       "├─────────────────────────────────┼────────────────────────┼───────────────┤\n",
       "│ gru_1 (\u001b[38;5;33mGRU\u001b[0m)                     │ ?                      │   \u001b[38;5;34m0\u001b[0m (unbuilt) │\n",
       "├─────────────────────────────────┼────────────────────────┼───────────────┤\n",
       "│ dense (\u001b[38;5;33mDense\u001b[0m)                   │ ?                      │   \u001b[38;5;34m0\u001b[0m (unbuilt) │\n",
       "└─────────────────────────────────┴────────────────────────┴───────────────┘\n"
      ]
     },
     "metadata": {},
     "output_type": "display_data"
    },
    {
     "data": {
      "text/html": [
       "<pre style=\"white-space:pre;overflow-x:auto;line-height:normal;font-family:Menlo,'DejaVu Sans Mono',consolas,'Courier New',monospace\"><span style=\"font-weight: bold\"> Total params: </span><span style=\"color: #00af00; text-decoration-color: #00af00\">0</span> (0.00 B)\n",
       "</pre>\n"
      ],
      "text/plain": [
       "\u001b[1m Total params: \u001b[0m\u001b[38;5;34m0\u001b[0m (0.00 B)\n"
      ]
     },
     "metadata": {},
     "output_type": "display_data"
    },
    {
     "data": {
      "text/html": [
       "<pre style=\"white-space:pre;overflow-x:auto;line-height:normal;font-family:Menlo,'DejaVu Sans Mono',consolas,'Courier New',monospace\"><span style=\"font-weight: bold\"> Trainable params: </span><span style=\"color: #00af00; text-decoration-color: #00af00\">0</span> (0.00 B)\n",
       "</pre>\n"
      ],
      "text/plain": [
       "\u001b[1m Trainable params: \u001b[0m\u001b[38;5;34m0\u001b[0m (0.00 B)\n"
      ]
     },
     "metadata": {},
     "output_type": "display_data"
    },
    {
     "data": {
      "text/html": [
       "<pre style=\"white-space:pre;overflow-x:auto;line-height:normal;font-family:Menlo,'DejaVu Sans Mono',consolas,'Courier New',monospace\"><span style=\"font-weight: bold\"> Non-trainable params: </span><span style=\"color: #00af00; text-decoration-color: #00af00\">0</span> (0.00 B)\n",
       "</pre>\n"
      ],
      "text/plain": [
       "\u001b[1m Non-trainable params: \u001b[0m\u001b[38;5;34m0\u001b[0m (0.00 B)\n"
      ]
     },
     "metadata": {},
     "output_type": "display_data"
    },
    {
     "name": "stdout",
     "output_type": "stream",
     "text": [
      "None\n"
     ]
    }
   ],
   "source": [
    "import tensorflow as tf\n",
    "from tensorflow.keras.models import Sequential\n",
    "from tensorflow.keras.layers import GRU, Dense, Embedding\n",
    "\n",
    "model = Sequential()\n",
    "model.add(Embedding(input_dim=10000, output_dim=64, input_length=100))  \n",
    "model.add(GRU(64, return_sequences=True))\n",
    "model.add(GRU(64))\n",
    "model.add(Dense(6, activation='softmax'))\n",
    "\n",
    "model.compile(optimizer='adam', loss='sparse_categorical_crossentropy', metrics=['accuracy'])\n",
    "\n",
    "print(model.summary())\n"
   ]
  },
  {
   "cell_type": "code",
   "execution_count": 14,
   "metadata": {},
   "outputs": [
    {
     "name": "stdout",
     "output_type": "stream",
     "text": [
      "Epoch 1/10\n",
      "\u001b[1m713/713\u001b[0m \u001b[32m━━━━━━━━━━━━━━━━━━━━\u001b[0m\u001b[37m\u001b[0m \u001b[1m54s\u001b[0m 66ms/step - accuracy: 0.4174 - loss: 1.4648 - val_accuracy: 0.6465 - val_loss: 0.9956\n",
      "Epoch 2/10\n",
      "\u001b[1m713/713\u001b[0m \u001b[32m━━━━━━━━━━━━━━━━━━━━\u001b[0m\u001b[37m\u001b[0m \u001b[1m66s\u001b[0m 93ms/step - accuracy: 0.7676 - loss: 0.6797 - val_accuracy: 0.6929 - val_loss: 0.9059\n",
      "Epoch 3/10\n",
      "\u001b[1m713/713\u001b[0m \u001b[32m━━━━━━━━━━━━━━━━━━━━\u001b[0m\u001b[37m\u001b[0m \u001b[1m52s\u001b[0m 73ms/step - accuracy: 0.8634 - loss: 0.4168 - val_accuracy: 0.7076 - val_loss: 0.9541\n",
      "Epoch 4/10\n",
      "\u001b[1m713/713\u001b[0m \u001b[32m━━━━━━━━━━━━━━━━━━━━\u001b[0m\u001b[37m\u001b[0m \u001b[1m49s\u001b[0m 69ms/step - accuracy: 0.9092 - loss: 0.2902 - val_accuracy: 0.7253 - val_loss: 1.0294\n",
      "Epoch 5/10\n",
      "\u001b[1m713/713\u001b[0m \u001b[32m━━━━━━━━━━━━━━━━━━━━\u001b[0m\u001b[37m\u001b[0m \u001b[1m52s\u001b[0m 72ms/step - accuracy: 0.9329 - loss: 0.2140 - val_accuracy: 0.7277 - val_loss: 1.1518\n",
      "Epoch 6/10\n",
      "\u001b[1m713/713\u001b[0m \u001b[32m━━━━━━━━━━━━━━━━━━━━\u001b[0m\u001b[37m\u001b[0m \u001b[1m50s\u001b[0m 70ms/step - accuracy: 0.9507 - loss: 0.1566 - val_accuracy: 0.7300 - val_loss: 1.2412\n",
      "Epoch 7/10\n",
      "\u001b[1m713/713\u001b[0m \u001b[32m━━━━━━━━━━━━━━━━━━━━\u001b[0m\u001b[37m\u001b[0m \u001b[1m55s\u001b[0m 78ms/step - accuracy: 0.9634 - loss: 0.1192 - val_accuracy: 0.7290 - val_loss: 1.3919\n",
      "Epoch 8/10\n",
      "\u001b[1m713/713\u001b[0m \u001b[32m━━━━━━━━━━━━━━━━━━━━\u001b[0m\u001b[37m\u001b[0m \u001b[1m48s\u001b[0m 68ms/step - accuracy: 0.9689 - loss: 0.0982 - val_accuracy: 0.7314 - val_loss: 1.4813\n",
      "Epoch 9/10\n",
      "\u001b[1m713/713\u001b[0m \u001b[32m━━━━━━━━━━━━━━━━━━━━\u001b[0m\u001b[37m\u001b[0m \u001b[1m50s\u001b[0m 70ms/step - accuracy: 0.9746 - loss: 0.0812 - val_accuracy: 0.7334 - val_loss: 1.6009\n",
      "Epoch 10/10\n",
      "\u001b[1m713/713\u001b[0m \u001b[32m━━━━━━━━━━━━━━━━━━━━\u001b[0m\u001b[37m\u001b[0m \u001b[1m55s\u001b[0m 77ms/step - accuracy: 0.9748 - loss: 0.0761 - val_accuracy: 0.7305 - val_loss: 1.6867\n"
     ]
    }
   ],
   "source": [
    "history = model.fit(X_train_pad, y_train, epochs=10, validation_data=(X_val_pad, y_val))"
   ]
  },
  {
   "cell_type": "markdown",
   "metadata": {},
   "source": [
    "## 5. Evaluasi Model"
   ]
  },
  {
   "cell_type": "code",
   "execution_count": 18,
   "metadata": {},
   "outputs": [
    {
     "name": "stdout",
     "output_type": "stream",
     "text": [
      "\u001b[1m238/238\u001b[0m \u001b[32m━━━━━━━━━━━━━━━━━━━━\u001b[0m\u001b[37m\u001b[0m \u001b[1m3s\u001b[0m 11ms/step - accuracy: 0.7406 - loss: 1.5986\n",
      "Testing Accuracy: 0.727942168712616\n",
      "\u001b[1m238/238\u001b[0m \u001b[32m━━━━━━━━━━━━━━━━━━━━\u001b[0m\u001b[37m\u001b[0m \u001b[1m3s\u001b[0m 11ms/step\n",
      "Classification Report:\n",
      "               precision    recall  f1-score   support\n",
      "\n",
      "       Anger       0.72      0.67      0.69      1167\n",
      "        Fear       0.76      0.69      0.72      1057\n",
      "         Joy       0.67      0.71      0.69      1240\n",
      "        Love       0.78      0.78      0.78      1081\n",
      "     Neutral       0.65      0.71      0.68      1516\n",
      "         Sad       0.82      0.80      0.81      1544\n",
      "\n",
      "    accuracy                           0.73      7605\n",
      "   macro avg       0.73      0.73      0.73      7605\n",
      "weighted avg       0.73      0.73      0.73      7605\n",
      "\n"
     ]
    }
   ],
   "source": [
    "from sklearn.metrics import classification_report\n",
    "\n",
    "loss, accuracy = model.evaluate(X_test_pad, y_test)\n",
    "print(\"Testing Accuracy:\", accuracy)\n",
    "\n",
    "\n",
    "\n",
    "y_pred = model.predict(X_test_pad)\n",
    "y_pred_classes = np.argmax(y_pred, axis=1)\n",
    "\n",
    "\n",
    "\n",
    "report = classification_report(y_test, y_pred_classes, target_names=label_encoder.classes_, output_dict=True)\n",
    "print(\"Classification Report:\\n\", classification_report(y_test, y_pred_classes, target_names=label_encoder.classes_))\n"
   ]
  },
  {
   "cell_type": "code",
   "execution_count": 19,
   "metadata": {},
   "outputs": [
    {
     "data": {
      "image/png": "[encoded data removed]",
      "text/plain": [
       "<Figure size 640x480 with 1 Axes>"
      ]
     },
     "metadata": {},
     "output_type": "display_data"
    },
    {
     "data": {
      "image/png": "[encoded data removed]",
      "text/plain": [
       "<Figure size 640x480 with 1 Axes>"
      ]
     },
     "metadata": {},
     "output_type": "display_data"
    }
   ],
   "source": [
    "import matplotlib.pyplot as plt\n",
    "\n",
    "# Fungsi untuk plot grafik training history\n",
    "def plot_graphs(history, string):\n",
    "    plt.plot(history.history[string])\n",
    "    plt.plot(history.history['val_'+string])\n",
    "    plt.xlabel(\"Epochs\")\n",
    "    plt.ylabel(string)\n",
    "    plt.legend([string, 'val_'+string])\n",
    "    plt.show()\n",
    "\n",
    "# Plot grafik akurasi dan loss\n",
    "plot_graphs(history, \"accuracy\")\n",
    "plot_graphs(history, \"loss\")"
   ]
  },
  {
   "cell_type": "markdown",
   "metadata": {},
   "source": [
    "## 6. Perhitungan F1 Score"
   ]
  },
  {
   "cell_type": "code",
   "execution_count": 21,
   "metadata": {},
   "outputs": [
    {
     "name": "stdout",
     "output_type": "stream",
     "text": [
      "\u001b[1m238/238\u001b[0m \u001b[32m━━━━━━━━━━━━━━━━━━━━\u001b[0m\u001b[37m\u001b[0m \u001b[1m3s\u001b[0m 12ms/step\n",
      "F1 Score: 0.7285291004523639\n"
     ]
    }
   ],
   "source": [
    "from sklearn.metrics import classification_report, confusion_matrix\n",
    "import matplotlib.pyplot as plt\n",
    "import seaborn as sns\n",
    "\n",
    "# Prediksi dengan data testing\n",
    "y_pred = model.predict(X_test_pad)\n",
    "y_pred_classes = np.argmax(y_pred, axis=1)\n",
    "\n",
    "# Menampilkan laporan klasifikasi\n",
    "report = classification_report(y_test, y_pred_classes, target_names=label_encoder.classes_, output_dict=True)\n",
    "\n",
    "# Menampilkan F1 Score secara manual\n",
    "f1_score = report['weighted avg']['f1-score']\n",
    "print(\"F1 Score:\", f1_score)\n"
   ]
  },
  {
   "cell_type": "markdown",
   "metadata": {},
   "source": [
    "## 7. Confusion Matriks"
   ]
  },
  {
   "cell_type": "code",
   "execution_count": 22,
   "metadata": {},
   "outputs": [
    {
     "data": {
      "image/png": "[encoded data removed]",
      "text/plain": [
       "<Figure size 1000x800 with 2 Axes>"
      ]
     },
     "metadata": {},
     "output_type": "display_data"
    }
   ],
   "source": [
    "conf_matrix = confusion_matrix(y_test, y_pred_classes)\n",
    "\n",
    "plt.figure(figsize=(10, 8))\n",
    "sns.heatmap(conf_matrix, annot=True, fmt='d', cmap='Blues', xticklabels=label_encoder.classes_, yticklabels=label_encoder.classes_)\n",
    "plt.xlabel('Predicted Label')\n",
    "plt.ylabel('True Label')\n",
    "plt.title('Confusion Matrix')\n",
    "plt.show()\n"
   ]
  },
  {
   "cell_type": "code",
   "execution_count": 25,
   "metadata": {},
   "outputs": [
    {
     "name": "stderr",
     "output_type": "stream",
     "text": [
      "WARNING:absl:You are saving your model as an HDF5 file via `model.save()` or `keras.saving.save_model(model)`. This file format is considered legacy. We recommend using instead the native Keras format, e.g. `model.save('my_model.keras')` or `keras.saving.save_model(model, 'my_model.keras')`. \n"
     ]
    }
   ],
   "source": [
    "model.save('model(gru).h5')"
   ]
  },
  {
   "cell_type": "markdown",
   "metadata": {},
   "source": [
    "## 8. Testing"
   ]
  },
  {
   "cell_type": "code",
   "execution_count": 24,
   "metadata": {},
   "outputs": [
    {
     "name": "stdout",
     "output_type": "stream",
     "text": [
      "\u001b[1m1/1\u001b[0m \u001b[32m━━━━━━━━━━━━━━━━━━━━\u001b[0m\u001b[37m\u001b[0m \u001b[1m0s\u001b[0m 490ms/step\n",
      "Tweet: Saya merasa sangat cemas tentang ujian besok\n",
      "Predicted label: sad\n",
      "\n",
      "Tweet: Baru saja mendapatkan promosi di kantor! Sangat bahagia\n",
      "Predicted label: sad\n",
      "\n"
     ]
    }
   ],
   "source": [
    "tweets = [\n",
    "    \"Saya merasa sangat cemas tentang ujian besok\",\n",
    "    \"Baru saja mendapatkan promosi di kantor! Sangat bahagia\",\n",
    "]\n",
    "\n",
    "# Fungsi untuk mendapatkan label dari prediksi\n",
    "def get_label(predict):\n",
    "    if predict == 0:\n",
    "        return 'anger'\n",
    "    if predict == 1:\n",
    "        return 'joy'\n",
    "    if predict == 2:\n",
    "        return 'fear'\n",
    "    if predict == 3:\n",
    "        return 'love'\n",
    "    if predict == 4:\n",
    "        return 'sad'\n",
    "    if predict == 5:\n",
    "        return 'neutral'\n",
    "\n",
    "\n",
    "max_length = 100 \n",
    "trunc_type = 'post'\n",
    "\n",
    "# Tokenize and pad sequences\n",
    "sample_seqs = tokenizer.texts_to_sequences(tweets)\n",
    "sample_padded = pad_sequences(sample_seqs, maxlen=max_length, truncating=trunc_type)\n",
    "\n",
    "# Predict labels for each tweet\n",
    "predictions = model.predict(sample_padded)\n",
    "\n",
    "# Print predictions and corresponding labels\n",
    "for i, tweet in enumerate(tweets):\n",
    "    prediction = np.argmax(predictions[i])\n",
    "    label = get_label(prediction)\n",
    "    print(f\"Tweet: {tweet}\\nPredicted label: {label}\\n\")\n"
   ]
  }
 ],
 "metadata": {
  "kernelspec": {
   "display_name": "Python 3",
   "language": "python",
   "name": "python3"
  },
  "language_info": {
   "codemirror_mode": {
    "name": "ipython",
    "version": 3
   },
   "file_extension": ".py",
   "mimetype": "text/x-python",
   "name": "python",
   "nbconvert_exporter": "python",
   "pygments_lexer": "ipython3",
   "version": "3.11.5"
  }
 },
 "nbformat": 4,
 "nbformat_minor": 2
}
