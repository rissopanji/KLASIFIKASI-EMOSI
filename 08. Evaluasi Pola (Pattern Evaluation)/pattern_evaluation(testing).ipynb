{
 "cells": [
  {
   "cell_type": "markdown",
   "metadata": {},
   "source": [
    "## **08. Evaluasi Pola (Pattern Evaluation)**\n",
    "\n",
    "---\n"
   ]
  },
  {
   "cell_type": "code",
   "execution_count": 35,
   "metadata": {},
   "outputs": [],
   "source": [
    "import pandas as pd"
   ]
  },
  {
   "cell_type": "code",
   "execution_count": 36,
   "metadata": {},
   "outputs": [
    {
     "data": {
      "text/html": [
       "<div>\n",
       "<style scoped>\n",
       "    .dataframe tbody tr th:only-of-type {\n",
       "        vertical-align: middle;\n",
       "    }\n",
       "\n",
       "    .dataframe tbody tr th {\n",
       "        vertical-align: top;\n",
       "    }\n",
       "\n",
       "    .dataframe thead th {\n",
       "        text-align: right;\n",
       "    }\n",
       "</style>\n",
       "<table border=\"1\" class=\"dataframe\">\n",
       "  <thead>\n",
       "    <tr style=\"text-align: right;\">\n",
       "      <th></th>\n",
       "      <th>0</th>\n",
       "      <th>tweet</th>\n",
       "      <th>label</th>\n",
       "      <th>emotion</th>\n",
       "    </tr>\n",
       "  </thead>\n",
       "  <tbody>\n",
       "    <tr>\n",
       "      <th>0</th>\n",
       "      <td>31265</td>\n",
       "      <td>['pemilu', 'momen', 'bersejarah', 'keseluruhan...</td>\n",
       "      <td>Joy</td>\n",
       "      <td>Neutral</td>\n",
       "    </tr>\n",
       "    <tr>\n",
       "      <th>1</th>\n",
       "      <td>316</td>\n",
       "      <td>['betul', 'juga', 'mikinya', 'kalau', 'waktu',...</td>\n",
       "      <td>Neutral</td>\n",
       "      <td>Neutral</td>\n",
       "    </tr>\n",
       "    <tr>\n",
       "      <th>2</th>\n",
       "      <td>4289</td>\n",
       "      <td>['ngeri', 'sangat', 'jelas', 'positive', 'nong...</td>\n",
       "      <td>Fear</td>\n",
       "      <td>Fear</td>\n",
       "    </tr>\n",
       "    <tr>\n",
       "      <th>3</th>\n",
       "      <td>26820</td>\n",
       "      <td>['yang', 'salah', 'cara', 'berpikir', 'yang', ...</td>\n",
       "      <td>Sad</td>\n",
       "      <td>Anger</td>\n",
       "    </tr>\n",
       "    <tr>\n",
       "      <th>4</th>\n",
       "      <td>8377</td>\n",
       "      <td>['acara', 'nya', 'seru', 'bange', 'waktu', 'ka...</td>\n",
       "      <td>Joy</td>\n",
       "      <td>Joy</td>\n",
       "    </tr>\n",
       "    <tr>\n",
       "      <th>...</th>\n",
       "      <td>...</td>\n",
       "      <td>...</td>\n",
       "      <td>...</td>\n",
       "      <td>...</td>\n",
       "    </tr>\n",
       "    <tr>\n",
       "      <th>95</th>\n",
       "      <td>29721</td>\n",
       "      <td>['pemilu', 'memang', 'pasti', 'lebih', 'asik']</td>\n",
       "      <td>Anger</td>\n",
       "      <td>Anger</td>\n",
       "    </tr>\n",
       "    <tr>\n",
       "      <th>96</th>\n",
       "      <td>17772</td>\n",
       "      <td>['berlaku', 'yah', 'promonya']</td>\n",
       "      <td>Neutral</td>\n",
       "      <td>Neutral</td>\n",
       "    </tr>\n",
       "    <tr>\n",
       "      <th>97</th>\n",
       "      <td>45450</td>\n",
       "      <td>['kalau', 'tidak', 'tahu', 'tinggal', 'nyontek...</td>\n",
       "      <td>Fear</td>\n",
       "      <td>Neutral</td>\n",
       "    </tr>\n",
       "    <tr>\n",
       "      <th>98</th>\n",
       "      <td>4045</td>\n",
       "      <td>['pikir', 'salah', 'makan', 'apa', 'sendiri', ...</td>\n",
       "      <td>Sad</td>\n",
       "      <td>Sad</td>\n",
       "    </tr>\n",
       "    <tr>\n",
       "      <th>99</th>\n",
       "      <td>14580</td>\n",
       "      <td>['jadi', 'omongan', 'dan', 'kawan', 'selama', ...</td>\n",
       "      <td>Anger</td>\n",
       "      <td>Anger</td>\n",
       "    </tr>\n",
       "  </tbody>\n",
       "</table>\n",
       "<p>100 rows × 4 columns</p>\n",
       "</div>"
      ],
      "text/plain": [
       "        0                                              tweet    label  emotion\n",
       "0   31265  ['pemilu', 'momen', 'bersejarah', 'keseluruhan...      Joy  Neutral\n",
       "1     316  ['betul', 'juga', 'mikinya', 'kalau', 'waktu',...  Neutral  Neutral\n",
       "2    4289  ['ngeri', 'sangat', 'jelas', 'positive', 'nong...     Fear     Fear\n",
       "3   26820  ['yang', 'salah', 'cara', 'berpikir', 'yang', ...      Sad    Anger\n",
       "4    8377  ['acara', 'nya', 'seru', 'bange', 'waktu', 'ka...      Joy      Joy\n",
       "..    ...                                                ...      ...      ...\n",
       "95  29721     ['pemilu', 'memang', 'pasti', 'lebih', 'asik']    Anger    Anger\n",
       "96  17772                     ['berlaku', 'yah', 'promonya']  Neutral  Neutral\n",
       "97  45450  ['kalau', 'tidak', 'tahu', 'tinggal', 'nyontek...     Fear  Neutral\n",
       "98   4045  ['pikir', 'salah', 'makan', 'apa', 'sendiri', ...      Sad      Sad\n",
       "99  14580  ['jadi', 'omongan', 'dan', 'kawan', 'selama', ...    Anger    Anger\n",
       "\n",
       "[100 rows x 4 columns]"
      ]
     },
     "execution_count": 36,
     "metadata": {},
     "output_type": "execute_result"
    }
   ],
   "source": [
    "file_path = 'evaluation_done.csv'\n",
    "\n",
    "data = pd.read_csv(file_path)\n",
    "\n",
    "data\n"
   ]
  },
  {
   "cell_type": "code",
   "execution_count": 37,
   "metadata": {},
   "outputs": [
    {
     "data": {
      "image/png": "[encoded data removed]",
      "text/plain": [
       "<Figure size 1000x600 with 1 Axes>"
      ]
     },
     "metadata": {},
     "output_type": "display_data"
    }
   ],
   "source": [
    "import pandas as pd\n",
    "import matplotlib.pyplot as plt\n",
    "import seaborn as sns\n",
    "\n",
    "# Membuat DataFrame\n",
    "df = pd.DataFrame(data)\n",
    "\n",
    "# Menyiapkan plot\n",
    "plt.figure(figsize=(10, 6))\n",
    "sns.countplot(data=df, x='label', hue='emotion')\n",
    "\n",
    "# Menambahkan judul dan label\n",
    "plt.title('Distribusi Label dan Emosi')\n",
    "plt.xlabel('Label')\n",
    "plt.ylabel('Jumlah')\n",
    "\n",
    "# Menampilkan plot\n",
    "plt.show()\n"
   ]
  },
  {
   "cell_type": "code",
   "execution_count": 38,
   "metadata": {},
   "outputs": [
    {
     "name": "stdout",
     "output_type": "stream",
     "text": [
      "Baris dengan nilai NaN pada kolom 'emotion':\n",
      "Empty DataFrame\n",
      "Columns: [0, tweet, label, emotion]\n",
      "Index: []\n"
     ]
    }
   ],
   "source": [
    "# Membuat DataFrame\n",
    "df_with_nan = pd.DataFrame(data)\n",
    "\n",
    "# Menampilkan baris-baris dengan nilai NaN pada kolom 'emotion'\n",
    "nan_rows = df_with_nan[df_with_nan['emotion'].isna()]\n",
    "\n",
    "# Menampilkan hasil\n",
    "print(\"Baris dengan nilai NaN pada kolom 'emotion':\")\n",
    "print(nan_rows)"
   ]
  },
  {
   "cell_type": "code",
   "execution_count": 39,
   "metadata": {},
   "outputs": [
    {
     "name": "stdout",
     "output_type": "stream",
     "text": [
      "Baris di mana label dan emosi memiliki nilai yang sama:\n"
     ]
    },
    {
     "data": {
      "text/html": [
       "<div>\n",
       "<style scoped>\n",
       "    .dataframe tbody tr th:only-of-type {\n",
       "        vertical-align: middle;\n",
       "    }\n",
       "\n",
       "    .dataframe tbody tr th {\n",
       "        vertical-align: top;\n",
       "    }\n",
       "\n",
       "    .dataframe thead th {\n",
       "        text-align: right;\n",
       "    }\n",
       "</style>\n",
       "<table border=\"1\" class=\"dataframe\">\n",
       "  <thead>\n",
       "    <tr style=\"text-align: right;\">\n",
       "      <th></th>\n",
       "      <th>0</th>\n",
       "      <th>tweet</th>\n",
       "      <th>label</th>\n",
       "      <th>emotion</th>\n",
       "    </tr>\n",
       "  </thead>\n",
       "  <tbody>\n",
       "    <tr>\n",
       "      <th>1</th>\n",
       "      <td>316</td>\n",
       "      <td>['betul', 'juga', 'mikinya', 'kalau', 'waktu',...</td>\n",
       "      <td>Neutral</td>\n",
       "      <td>Neutral</td>\n",
       "    </tr>\n",
       "    <tr>\n",
       "      <th>2</th>\n",
       "      <td>4289</td>\n",
       "      <td>['ngeri', 'sangat', 'jelas', 'positive', 'nong...</td>\n",
       "      <td>Fear</td>\n",
       "      <td>Fear</td>\n",
       "    </tr>\n",
       "    <tr>\n",
       "      <th>4</th>\n",
       "      <td>8377</td>\n",
       "      <td>['acara', 'nya', 'seru', 'bange', 'waktu', 'ka...</td>\n",
       "      <td>Joy</td>\n",
       "      <td>Joy</td>\n",
       "    </tr>\n",
       "    <tr>\n",
       "      <th>8</th>\n",
       "      <td>3895</td>\n",
       "      <td>['sekali', 'kalau', 'slr', 'hanya', 'balas', '...</td>\n",
       "      <td>Sad</td>\n",
       "      <td>Sad</td>\n",
       "    </tr>\n",
       "    <tr>\n",
       "      <th>9</th>\n",
       "      <td>15965</td>\n",
       "      <td>['berhutang', 'loh', 'berani', 'nyalon']</td>\n",
       "      <td>Anger</td>\n",
       "      <td>Anger</td>\n",
       "    </tr>\n",
       "    <tr>\n",
       "      <th>...</th>\n",
       "      <td>...</td>\n",
       "      <td>...</td>\n",
       "      <td>...</td>\n",
       "      <td>...</td>\n",
       "    </tr>\n",
       "    <tr>\n",
       "      <th>94</th>\n",
       "      <td>33523</td>\n",
       "      <td>['deklarasi', 'damai', 'pemilu', 'pemkot', 'ba...</td>\n",
       "      <td>Neutral</td>\n",
       "      <td>Neutral</td>\n",
       "    </tr>\n",
       "    <tr>\n",
       "      <th>95</th>\n",
       "      <td>29721</td>\n",
       "      <td>['pemilu', 'memang', 'pasti', 'lebih', 'asik']</td>\n",
       "      <td>Anger</td>\n",
       "      <td>Anger</td>\n",
       "    </tr>\n",
       "    <tr>\n",
       "      <th>96</th>\n",
       "      <td>17772</td>\n",
       "      <td>['berlaku', 'yah', 'promonya']</td>\n",
       "      <td>Neutral</td>\n",
       "      <td>Neutral</td>\n",
       "    </tr>\n",
       "    <tr>\n",
       "      <th>98</th>\n",
       "      <td>4045</td>\n",
       "      <td>['pikir', 'salah', 'makan', 'apa', 'sendiri', ...</td>\n",
       "      <td>Sad</td>\n",
       "      <td>Sad</td>\n",
       "    </tr>\n",
       "    <tr>\n",
       "      <th>99</th>\n",
       "      <td>14580</td>\n",
       "      <td>['jadi', 'omongan', 'dan', 'kawan', 'selama', ...</td>\n",
       "      <td>Anger</td>\n",
       "      <td>Anger</td>\n",
       "    </tr>\n",
       "  </tbody>\n",
       "</table>\n",
       "<p>73 rows × 4 columns</p>\n",
       "</div>"
      ],
      "text/plain": [
       "        0                                              tweet    label  emotion\n",
       "1     316  ['betul', 'juga', 'mikinya', 'kalau', 'waktu',...  Neutral  Neutral\n",
       "2    4289  ['ngeri', 'sangat', 'jelas', 'positive', 'nong...     Fear     Fear\n",
       "4    8377  ['acara', 'nya', 'seru', 'bange', 'waktu', 'ka...      Joy      Joy\n",
       "8    3895  ['sekali', 'kalau', 'slr', 'hanya', 'balas', '...      Sad      Sad\n",
       "9   15965           ['berhutang', 'loh', 'berani', 'nyalon']    Anger    Anger\n",
       "..    ...                                                ...      ...      ...\n",
       "94  33523  ['deklarasi', 'damai', 'pemilu', 'pemkot', 'ba...  Neutral  Neutral\n",
       "95  29721     ['pemilu', 'memang', 'pasti', 'lebih', 'asik']    Anger    Anger\n",
       "96  17772                     ['berlaku', 'yah', 'promonya']  Neutral  Neutral\n",
       "98   4045  ['pikir', 'salah', 'makan', 'apa', 'sendiri', ...      Sad      Sad\n",
       "99  14580  ['jadi', 'omongan', 'dan', 'kawan', 'selama', ...    Anger    Anger\n",
       "\n",
       "[73 rows x 4 columns]"
      ]
     },
     "execution_count": 39,
     "metadata": {},
     "output_type": "execute_result"
    }
   ],
   "source": [
    "same_label_emotion_df = df[df['label'] == df['emotion']]\n",
    "\n",
    "print(\"Baris di mana label dan emosi memiliki nilai yang sama:\")\n",
    "\n",
    "same_label_emotion_df"
   ]
  },
  {
   "cell_type": "code",
   "execution_count": 43,
   "metadata": {},
   "outputs": [
    {
     "data": {
      "image/png": "[encoded data removed]",
      "text/plain": [
       "<Figure size 800x800 with 1 Axes>"
      ]
     },
     "metadata": {},
     "output_type": "display_data"
    }
   ],
   "source": [
    "same_label_emotion_count = same_label_emotion_df.shape[0]\n",
    "\n",
    "sizes = [same_label_emotion_count, df.shape[0] - same_label_emotion_count]\n",
    "colors = ['#66b3ff','#ff9999']\n",
    "\n",
    "plt.figure(figsize=(8, 8))\n",
    "plt.pie(sizes, autopct='%1.1f%%', startangle=140, colors=colors)\n",
    "plt.title('Proportion of Same Label and Emotion vs Different')\n",
    "plt.axis('equal')  \n",
    "\n",
    "\n",
    "plt.show()"
   ]
  }
 ],
 "metadata": {
  "kernelspec": {
   "display_name": "base",
   "language": "python",
   "name": "python3"
  },
  "language_info": {
   "codemirror_mode": {
    "name": "ipython",
    "version": 3
   },
   "file_extension": ".py",
   "mimetype": "text/x-python",
   "name": "python",
   "nbconvert_exporter": "python",
   "pygments_lexer": "ipython3",
   "version": "3.11.5"
  }
 },
 "nbformat": 4,
 "nbformat_minor": 2
}
