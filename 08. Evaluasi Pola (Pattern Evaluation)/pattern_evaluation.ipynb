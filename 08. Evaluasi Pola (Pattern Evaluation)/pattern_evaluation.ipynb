{
 "cells": [
  {
   "cell_type": "markdown",
   "metadata": {},
   "source": [
    "## **PEMODELAN DATA**\n",
    "\n",
    "---\n"
   ]
  },
  {
   "cell_type": "code",
   "execution_count": 52,
   "metadata": {},
   "outputs": [],
   "source": [
    "import tensorflow as tf\n",
    "import numpy as np\n",
    "import matplotlib.pyplot as plt\n",
    "import pandas as pd\n",
    "import ast\n",
    "\n",
    "from tensorflow.keras.preprocessing.text import Tokenizer\n",
    "from tensorflow.keras.preprocessing.sequence import pad_sequences"
   ]
  },
  {
   "cell_type": "code",
   "execution_count": 53,
   "metadata": {},
   "outputs": [
    {
     "name": "stdout",
     "output_type": "stream",
     "text": [
      "Tensorflow version: 2.16.1\n"
     ]
    }
   ],
   "source": [
    "print(\"Tensorflow version:\", tf.__version__)"
   ]
  },
  {
   "cell_type": "markdown",
   "metadata": {},
   "source": [
    "## 1. Persiapan Dataset"
   ]
  },
  {
   "cell_type": "code",
   "execution_count": 54,
   "metadata": {},
   "outputs": [
    {
     "name": "stdout",
     "output_type": "stream",
     "text": [
      "   Unnamed: 0                                              tweet  label\n",
      "0         944  ['eh', 'kok', 'papa', 'kenal', 'namira', 'liha...  Anger\n",
      "1         945  ['risih', 'tidak', 'suka', 'sekali', 'soalnya'...  Anger\n",
      "2         946  ['pas', 'sma', 'tidak', 'pernah', 'bawa', 'uan...  Anger\n",
      "3         947  ['sayang', 'tidak', 'suka', 'ya', 'kalau', 'si...  Anger\n",
      "4         948  ['aga', 'emosi', 'ingin', 'datengin', 'ksy', '...  Anger\n"
     ]
    }
   ],
   "source": [
    "import pandas as pd\n",
    "\n",
    "file_path = '../05. Pra-pemrosesan Data (Data Preprocessing)/Dataset_Clean/Dataset_clean2.csv'\n",
    "\n",
    "data = pd.read_csv(file_path)\n",
    "\n",
    "print(data.head())\n"
   ]
  },
  {
   "cell_type": "markdown",
   "metadata": {},
   "source": [
    "## 2. Preprocessing Data"
   ]
  },
  {
   "cell_type": "code",
   "execution_count": 55,
   "metadata": {},
   "outputs": [
    {
     "name": "stdout",
     "output_type": "stream",
     "text": [
      "label\n",
      "Joy        9999\n",
      "Anger      9056\n",
      "Sad        9003\n",
      "Fear       6687\n",
      "Love       6071\n",
      "Neutral    6037\n",
      "Name: count, dtype: int64\n"
     ]
    }
   ],
   "source": [
    "print(data['label'].value_counts())"
   ]
  },
  {
   "cell_type": "code",
   "execution_count": 56,
   "metadata": {},
   "outputs": [],
   "source": [
    "from sklearn.model_selection import train_test_split\n",
    "from sklearn.preprocessing import LabelEncoder\n",
    "\n",
    "# Misalkan data memiliki kolom 'tweet' dan 'labels'\n",
    "tweets = data['tweet']\n",
    "labels = data['label']\n",
    "\n",
    "# Mengonversi label menjadi angka\n",
    "label_encoder = LabelEncoder()\n",
    "labels_encoded = label_encoder.fit_transform(labels)\n",
    "\n",
    "# Membagi data menjadi training dan sisanya (testing + validation)\n",
    "X_train, X_temp, y_train, y_temp = train_test_split(tweets, labels_encoded, test_size=0.4, random_state=42)\n",
    "\n",
    "# Membagi sisa data menjadi testing dan validation\n",
    "X_test, X_val, y_test, y_val = train_test_split(X_temp, y_temp, test_size=0.5, random_state=42)"
   ]
  },
  {
   "cell_type": "code",
   "execution_count": 57,
   "metadata": {},
   "outputs": [
    {
     "name": "stdout",
     "output_type": "stream",
     "text": [
      "['Anger' 'Fear' 'Joy' 'Love' 'Neutral' 'Sad']\n"
     ]
    }
   ],
   "source": [
    "print(label_encoder.classes_)"
   ]
  },
  {
   "cell_type": "code",
   "execution_count": 58,
   "metadata": {},
   "outputs": [
    {
     "name": "stdout",
     "output_type": "stream",
     "text": [
      "Training data: 28111\n",
      "Testing data: 9371\n",
      "Validation data: 9371\n"
     ]
    }
   ],
   "source": [
    "\n",
    "print(\"Training data:\", len(X_train))\n",
    "print(\"Testing data:\", len(X_test))\n",
    "print(\"Validation data:\", len(X_val))"
   ]
  },
  {
   "cell_type": "code",
   "execution_count": 59,
   "metadata": {},
   "outputs": [
    {
     "data": {
      "text/plain": [
       "29651    ['betul', 'mas', 'sayapun', 'kecewa', 'karena'...\n",
       "36581    ['pesan', 'delivery', 'saja', 'kasihan', 'peru...\n",
       "39999    ['diucapin', 'joy', 'birthday', 'sama', 'bapak...\n",
       "29611    ['sekarang', 'saya', 'tidak', 'bisa', 'lagi', ...\n",
       "33233    ['begitu', 'diumumkan', 'lulus', 'mereka', 'se...\n",
       "                               ...                        \n",
       "11284    ['hayuk', 'ah', 'ikut', 'biar', 'ramai', 'liat...\n",
       "44732          ['suka', 'sekali', 'sama', 'energi', 'ini']\n",
       "38158    ['menyembuhkan', 'sakit', 'tidak', 'mesti', 'p...\n",
       "860      ['kaget', 'kirain', 'bakal', 'zonk', 'ehh', 's...\n",
       "15795    ['banyak', 'sebenarnya', 'yang', 'mau', 'saya'...\n",
       "Name: tweet, Length: 28111, dtype: object"
      ]
     },
     "execution_count": 59,
     "metadata": {},
     "output_type": "execute_result"
    }
   ],
   "source": [
    "X_train"
   ]
  },
  {
   "cell_type": "code",
   "execution_count": 60,
   "metadata": {},
   "outputs": [
    {
     "data": {
      "text/plain": [
       "1824                         ['alhamdulillah', 'semangat']\n",
       "10250    ['thread', 'ini', 'dipersembahkan', 'oleh', 'w...\n",
       "7122     ['ibuqu', 'suka', 'sangat', 'teriak', 'bercand...\n",
       "38383    ['jadi', 'takut', 'saya', 'sering', 'foto', 'a...\n",
       "23578    ['kalau', 'tidak', 'tahu', 'ceritanya', 'mendi...\n",
       "                               ...                        \n",
       "825      ['kaget', 'sangat', 'tbtb', 'mas', 'crush', 'n...\n",
       "42491    ['agak', 'telat', 'ramai', 'nya', 'ya', 'dok',...\n",
       "9935     ['saya', 'kira', 'dengan', 'saya', 'datang', '...\n",
       "29080    ['semoga', 'alloh', 'meridhoi', 'niat', 'kita'...\n",
       "16714                           ['ngeri', 'sangat', 'sih']\n",
       "Name: tweet, Length: 9371, dtype: object"
      ]
     },
     "execution_count": 60,
     "metadata": {},
     "output_type": "execute_result"
    }
   ],
   "source": [
    "X_test"
   ]
  },
  {
   "cell_type": "code",
   "execution_count": 61,
   "metadata": {},
   "outputs": [
    {
     "data": {
      "text/plain": [
       "29676    ['yang', 'repot', 'itu', 'kalau', 'sekedar', '...\n",
       "6232     ['saya', 'dulu', 'temu', 'ig', 'nya', 'dia', '...\n",
       "26787    ['liga', 'bangke', 'memang', 'ini', 'liga', 'i...\n",
       "27547    ['begitulah', 'mereka', 'benar', 'kata', 'pepa...\n",
       "36353    ['lalu', 'bagaimana', 'dengan', 'negara', 'mer...\n",
       "                               ...                        \n",
       "13925    ['bodoamat', 'deh', 'kuping', 'saya', 'paginya...\n",
       "8042     ['pacaran', 'sama', 'yang', 'kerjanya', 'sama'...\n",
       "4785     ['huhu', 'jiheon', 'graduation', 'yaabakalan',...\n",
       "22910    ['titalia', 'kenapa', 'dia', 'cantik', 'sekali...\n",
       "309      ['dirumahku', 'yang', 'kena', 'umicron', 'suda...\n",
       "Name: tweet, Length: 9371, dtype: object"
      ]
     },
     "execution_count": 61,
     "metadata": {},
     "output_type": "execute_result"
    }
   ],
   "source": [
    "X_val"
   ]
  },
  {
   "cell_type": "markdown",
   "metadata": {},
   "source": [
    "## 3. Transform Data"
   ]
  },
  {
   "cell_type": "code",
   "execution_count": 62,
   "metadata": {},
   "outputs": [],
   "source": [
    "from tensorflow.keras.preprocessing.text import Tokenizer\n",
    "from tensorflow.keras.preprocessing.sequence import pad_sequences\n",
    "import numpy as np\n",
    "\n",
    "# Tokenisasi data\n",
    "tokenizer = Tokenizer(num_words=10000)\n",
    "tokenizer.fit_on_texts(X_train)\n",
    "\n",
    "X_train_seq = tokenizer.texts_to_sequences(X_train)\n",
    "X_val_seq = tokenizer.texts_to_sequences(X_val)\n",
    "X_test_seq = tokenizer.texts_to_sequences(X_test)\n",
    "\n",
    "# Padding sequences\n",
    "maxlen = 64 # Panjang maksimum dari sequence\n",
    "X_train_pad = pad_sequences(X_train_seq, maxlen=maxlen)\n",
    "X_val_pad = pad_sequences(X_val_seq, maxlen=maxlen)\n",
    "X_test_pad = pad_sequences(X_test_seq, maxlen=maxlen)\n",
    "\n",
    "# Mengubah label menjadi tipe numerik\n",
    "y_train = y_train.astype(int)\n",
    "y_val = y_val.astype(int)\n",
    "y_test = y_test.astype(int)\n"
   ]
  },
  {
   "cell_type": "code",
   "execution_count": 63,
   "metadata": {},
   "outputs": [
    {
     "name": "stdout",
     "output_type": "stream",
     "text": [
      "X train pad : [[   0    0    0 ...  143  874  663]\n",
      " [   0    0    0 ...    9  343 4261]\n",
      " [   0    0    0 ...  366  141 1088]\n",
      " ...\n",
      " [   0    0    0 ...   41 2592 3543]\n",
      " [   0    0    0 ... 2606   36  191]\n",
      " [   0    0    0 ...  513 8052 3795]]\n",
      "X val pad : [[   0    0    0 ... 1522   10 3863]\n",
      " [   0    0    0 ...   20  536   35]\n",
      " [   0    0    0 ...  132  132   30]\n",
      " ...\n",
      " [   0    0    0 ...   79  118   18]\n",
      " [   0    0    0 ...   23 1262   16]\n",
      " [   0    0    0 ...    6  398   31]]\n",
      "X test pad : [[   0    0    0 ...    0  204   73]\n",
      " [   0    0    0 ...   14    2 9703]\n",
      " [   0    0    0 ...  194  194   49]\n",
      " ...\n",
      " [   0    0    0 ...   77 2704 1245]\n",
      " [   0    0    0 ...  390   15 4200]\n",
      " [   0    0    0 ...  208   35   41]]\n"
     ]
    }
   ],
   "source": [
    "print(\"X train pad :\", X_train_pad)\n",
    "print(\"X val pad :\", X_val_pad)\n",
    "print(\"X test pad :\", X_test_pad)"
   ]
  },
  {
   "cell_type": "markdown",
   "metadata": {},
   "source": [
    "## 4. Build and Compile Model"
   ]
  },
  {
   "cell_type": "code",
   "execution_count": 64,
   "metadata": {},
   "outputs": [
    {
     "name": "stderr",
     "output_type": "stream",
     "text": [
      "c:\\Users\\TEMP\\miniconda3\\Lib\\site-packages\\keras\\src\\layers\\core\\embedding.py:90: UserWarning: Argument `input_length` is deprecated. Just remove it.\n",
      "  warnings.warn(\n"
     ]
    },
    {
     "data": {
      "text/html": [
       "<pre style=\"white-space:pre;overflow-x:auto;line-height:normal;font-family:Menlo,'DejaVu Sans Mono',consolas,'Courier New',monospace\"><span style=\"font-weight: bold\">Model: \"sequential_3\"</span>\n",
       "</pre>\n"
      ],
      "text/plain": [
       "\u001b[1mModel: \"sequential_3\"\u001b[0m\n"
      ]
     },
     "metadata": {},
     "output_type": "display_data"
    },
    {
     "data": {
      "text/html": [
       "<pre style=\"white-space:pre;overflow-x:auto;line-height:normal;font-family:Menlo,'DejaVu Sans Mono',consolas,'Courier New',monospace\">┏━━━━━━━━━━━━━━━━━━━━━━━━━━━━━━━━━┳━━━━━━━━━━━━━━━━━━━━━━━━┳━━━━━━━━━━━━━━━┓\n",
       "┃<span style=\"font-weight: bold\"> Layer (type)                    </span>┃<span style=\"font-weight: bold\"> Output Shape           </span>┃<span style=\"font-weight: bold\">       Param # </span>┃\n",
       "┡━━━━━━━━━━━━━━━━━━━━━━━━━━━━━━━━━╇━━━━━━━━━━━━━━━━━━━━━━━━╇━━━━━━━━━━━━━━━┩\n",
       "│ embedding_3 (<span style=\"color: #0087ff; text-decoration-color: #0087ff\">Embedding</span>)         │ ?                      │   <span style=\"color: #00af00; text-decoration-color: #00af00\">0</span> (unbuilt) │\n",
       "├─────────────────────────────────┼────────────────────────┼───────────────┤\n",
       "│ lstm_6 (<span style=\"color: #0087ff; text-decoration-color: #0087ff\">LSTM</span>)                   │ ?                      │   <span style=\"color: #00af00; text-decoration-color: #00af00\">0</span> (unbuilt) │\n",
       "├─────────────────────────────────┼────────────────────────┼───────────────┤\n",
       "│ lstm_7 (<span style=\"color: #0087ff; text-decoration-color: #0087ff\">LSTM</span>)                   │ ?                      │   <span style=\"color: #00af00; text-decoration-color: #00af00\">0</span> (unbuilt) │\n",
       "├─────────────────────────────────┼────────────────────────┼───────────────┤\n",
       "│ dense_3 (<span style=\"color: #0087ff; text-decoration-color: #0087ff\">Dense</span>)                 │ ?                      │   <span style=\"color: #00af00; text-decoration-color: #00af00\">0</span> (unbuilt) │\n",
       "└─────────────────────────────────┴────────────────────────┴───────────────┘\n",
       "</pre>\n"
      ],
      "text/plain": [
       "┏━━━━━━━━━━━━━━━━━━━━━━━━━━━━━━━━━┳━━━━━━━━━━━━━━━━━━━━━━━━┳━━━━━━━━━━━━━━━┓\n",
       "┃\u001b[1m \u001b[0m\u001b[1mLayer (type)                   \u001b[0m\u001b[1m \u001b[0m┃\u001b[1m \u001b[0m\u001b[1mOutput Shape          \u001b[0m\u001b[1m \u001b[0m┃\u001b[1m \u001b[0m\u001b[1m      Param #\u001b[0m\u001b[1m \u001b[0m┃\n",
       "┡━━━━━━━━━━━━━━━━━━━━━━━━━━━━━━━━━╇━━━━━━━━━━━━━━━━━━━━━━━━╇━━━━━━━━━━━━━━━┩\n",
       "│ embedding_3 (\u001b[38;5;33mEmbedding\u001b[0m)         │ ?                      │   \u001b[38;5;34m0\u001b[0m (unbuilt) │\n",
       "├─────────────────────────────────┼────────────────────────┼───────────────┤\n",
       "│ lstm_6 (\u001b[38;5;33mLSTM\u001b[0m)                   │ ?                      │   \u001b[38;5;34m0\u001b[0m (unbuilt) │\n",
       "├─────────────────────────────────┼────────────────────────┼───────────────┤\n",
       "│ lstm_7 (\u001b[38;5;33mLSTM\u001b[0m)                   │ ?                      │   \u001b[38;5;34m0\u001b[0m (unbuilt) │\n",
       "├─────────────────────────────────┼────────────────────────┼───────────────┤\n",
       "│ dense_3 (\u001b[38;5;33mDense\u001b[0m)                 │ ?                      │   \u001b[38;5;34m0\u001b[0m (unbuilt) │\n",
       "└─────────────────────────────────┴────────────────────────┴───────────────┘\n"
      ]
     },
     "metadata": {},
     "output_type": "display_data"
    },
    {
     "data": {
      "text/html": [
       "<pre style=\"white-space:pre;overflow-x:auto;line-height:normal;font-family:Menlo,'DejaVu Sans Mono',consolas,'Courier New',monospace\"><span style=\"font-weight: bold\"> Total params: </span><span style=\"color: #00af00; text-decoration-color: #00af00\">0</span> (0.00 B)\n",
       "</pre>\n"
      ],
      "text/plain": [
       "\u001b[1m Total params: \u001b[0m\u001b[38;5;34m0\u001b[0m (0.00 B)\n"
      ]
     },
     "metadata": {},
     "output_type": "display_data"
    },
    {
     "data": {
      "text/html": [
       "<pre style=\"white-space:pre;overflow-x:auto;line-height:normal;font-family:Menlo,'DejaVu Sans Mono',consolas,'Courier New',monospace\"><span style=\"font-weight: bold\"> Trainable params: </span><span style=\"color: #00af00; text-decoration-color: #00af00\">0</span> (0.00 B)\n",
       "</pre>\n"
      ],
      "text/plain": [
       "\u001b[1m Trainable params: \u001b[0m\u001b[38;5;34m0\u001b[0m (0.00 B)\n"
      ]
     },
     "metadata": {},
     "output_type": "display_data"
    },
    {
     "data": {
      "text/html": [
       "<pre style=\"white-space:pre;overflow-x:auto;line-height:normal;font-family:Menlo,'DejaVu Sans Mono',consolas,'Courier New',monospace\"><span style=\"font-weight: bold\"> Non-trainable params: </span><span style=\"color: #00af00; text-decoration-color: #00af00\">0</span> (0.00 B)\n",
       "</pre>\n"
      ],
      "text/plain": [
       "\u001b[1m Non-trainable params: \u001b[0m\u001b[38;5;34m0\u001b[0m (0.00 B)\n"
      ]
     },
     "metadata": {},
     "output_type": "display_data"
    },
    {
     "name": "stdout",
     "output_type": "stream",
     "text": [
      "None\n"
     ]
    }
   ],
   "source": [
    "import tensorflow as tf\n",
    "from tensorflow.keras.models import Sequential\n",
    "from tensorflow.keras.layers import LSTM, Dense, Embedding\n",
    "\n",
    "# Definisi model LSTM\n",
    "model = Sequential()\n",
    "model.add(Embedding(input_dim=10000, output_dim=64, input_length=100))  \n",
    "model.add(LSTM(64, return_sequences=True))\n",
    "model.add(LSTM(64))\n",
    "model.add(Dense(6, activation='softmax'))  # Assuming 6 classes\n",
    "\n",
    "# Kompilasi model\n",
    "model.compile(optimizer='adam', loss='sparse_categorical_crossentropy', metrics=['accuracy'])\n",
    "\n",
    "print(model.summary())"
   ]
  },
  {
   "cell_type": "code",
   "execution_count": 65,
   "metadata": {},
   "outputs": [
    {
     "name": "stdout",
     "output_type": "stream",
     "text": [
      "\u001b[1m879/879\u001b[0m \u001b[32m━━━━━━━━━━━━━━━━━━━━\u001b[0m\u001b[37m\u001b[0m \u001b[1m71s\u001b[0m 70ms/step - accuracy: 0.4995 - loss: 1.2619 - val_accuracy: 0.8581 - val_loss: 0.4520\n"
     ]
    },
    {
     "data": {
      "text/plain": [
       "<keras.src.callbacks.history.History at 0x1704c7a9410>"
      ]
     },
     "execution_count": 65,
     "metadata": {},
     "output_type": "execute_result"
    }
   ],
   "source": [
    "model.fit(X_train_pad, y_train, epochs=1, validation_data=(X_val_pad, y_val))"
   ]
  },
  {
   "cell_type": "markdown",
   "metadata": {},
   "source": [
    "## 5. Evaluasi Model"
   ]
  },
  {
   "cell_type": "code",
   "execution_count": 66,
   "metadata": {},
   "outputs": [
    {
     "name": "stdout",
     "output_type": "stream",
     "text": [
      "\u001b[1m293/293\u001b[0m \u001b[32m━━━━━━━━━━━━━━━━━━━━\u001b[0m\u001b[37m\u001b[0m \u001b[1m7s\u001b[0m 25ms/step - accuracy: 0.8610 - loss: 0.4337\n",
      "Testing Accuracy: 0.8584996461868286\n"
     ]
    }
   ],
   "source": [
    "# Evaluasi model dengan data testing\n",
    "loss, accuracy = model.evaluate(X_test_pad, y_test)\n",
    "print(\"Testing Accuracy:\", accuracy)\n"
   ]
  },
  {
   "cell_type": "markdown",
   "metadata": {},
   "source": [
    "## 6. Perhitungan F1 Score"
   ]
  },
  {
   "cell_type": "code",
   "execution_count": 67,
   "metadata": {},
   "outputs": [
    {
     "name": "stdout",
     "output_type": "stream",
     "text": [
      "\u001b[1m293/293\u001b[0m \u001b[32m━━━━━━━━━━━━━━━━━━━━\u001b[0m\u001b[37m\u001b[0m \u001b[1m8s\u001b[0m 25ms/step\n",
      "F1 Score: 0.8595841778343203\n"
     ]
    }
   ],
   "source": [
    "from sklearn.metrics import classification_report, confusion_matrix\n",
    "import matplotlib.pyplot as plt\n",
    "import seaborn as sns\n",
    "\n",
    "# Prediksi dengan data testing\n",
    "y_pred = model.predict(X_test_pad)\n",
    "y_pred_classes = np.argmax(y_pred, axis=1)\n",
    "\n",
    "# Menampilkan laporan klasifikasi\n",
    "report = classification_report(y_test, y_pred_classes, target_names=label_encoder.classes_, output_dict=True)\n",
    "\n",
    "# Menampilkan F1 Score secara manual\n",
    "f1_score = report['weighted avg']['f1-score']\n",
    "print(\"F1 Score:\", f1_score)\n"
   ]
  },
  {
   "cell_type": "markdown",
   "metadata": {},
   "source": [
    "## 7. Confusion Matriks"
   ]
  },
  {
   "cell_type": "code",
   "execution_count": 68,
   "metadata": {},
   "outputs": [
    {
     "data": {
      "image/png": "[encoded data removed]",
      "text/plain": [
       "<Figure size 1000x800 with 2 Axes>"
      ]
     },
     "metadata": {},
     "output_type": "display_data"
    }
   ],
   "source": [
    "# Menghitung confusion matrix\n",
    "conf_matrix = confusion_matrix(y_test, y_pred_classes)\n",
    "\n",
    "# Visualisasi confusion matrix\n",
    "plt.figure(figsize=(10, 8))\n",
    "sns.heatmap(conf_matrix, annot=True, fmt='d', cmap='Blues', xticklabels=label_encoder.classes_, yticklabels=label_encoder.classes_)\n",
    "plt.xlabel('Predicted Label')\n",
    "plt.ylabel('True Label')\n",
    "plt.title('Confusion Matrix')\n",
    "plt.show()\n"
   ]
  },
  {
   "cell_type": "markdown",
   "metadata": {},
   "source": [
    "## 8. Testing"
   ]
  },
  {
   "cell_type": "code",
   "execution_count": 77,
   "metadata": {},
   "outputs": [
    {
     "name": "stdout",
     "output_type": "stream",
     "text": [
      "\u001b[1m1/1\u001b[0m \u001b[32m━━━━━━━━━━━━━━━━━━━━\u001b[0m\u001b[37m\u001b[0m \u001b[1m0s\u001b[0m 100ms/step\n",
      "Tweet: Saya merasa sangat cemas tentang ujian besok\n",
      "Predicted label: sad\n",
      "\n",
      "Tweet: Baru saja mendapatkan promosi di kantor! Sangat bahagia\n",
      "Predicted label: fear\n",
      "\n",
      "Tweet: Saya suka menghabiskan waktu bersama keluarga di akhir pekan\n",
      "Predicted label: sad\n",
      "\n",
      "Tweet: Merasa sedih hari ini, semuanya terasa sulit\n",
      "Predicted label: sad\n",
      "\n",
      "Tweet: Hanya hari biasa tidak ada yang istimewa\n",
      "Predicted label: sad\n",
      "\n",
      "Tweet: Saya sangat frustrasi dengan kemacetan hari ini!\n",
      "Predicted label: sad\n",
      "\n",
      "Tweet: Pikiran untuk berbicara di depan umum selalu membuat saya takut.\n",
      "Predicted label: sad\n",
      "\n",
      "Tweet: Bersenang-senang di pantai hari ini, sangat menyenangkan!\n",
      "Predicted label: sad\n",
      "\n",
      "Tweet: Anjing saya adalah teman terbaik yang pernah saya miliki.\n",
      "Predicted label: sad\n",
      "\n",
      "Tweet: Dompet saya hilang hari ini, merasa sangat sedih.\n",
      "Predicted label: sad\n",
      "\n",
      "Tweet: Ini hanya hari Senin biasa, kembali bekerja.\n",
      "Predicted label: sad\n",
      "\n",
      "Tweet: Saya tidak percaya betapa kasarnya beberapa orang!\n",
      "Predicted label: sad\n",
      "\n",
      "Tweet: Berjalan sendirian di malam hari membuat saya sangat tidak nyaman.\n",
      "Predicted label: fear\n",
      "\n",
      "Tweet: Makan malam terbaik bersama teman-teman, sangat banyak tawa!\n",
      "Predicted label: sad\n",
      "\n",
      "Tweet: Tidak ada yang mengalahkan perasaan jatuh cinta.\n",
      "Predicted label: sad\n",
      "\n",
      "Tweet: Ini hari hujan, membuat saya merasa sedikit muram.\n",
      "Predicted label: sad\n",
      "\n",
      "Tweet: Tidak banyak yang terjadi hari ini, cukup tidak berkesan.\n",
      "Predicted label: sad\n",
      "\n",
      "Tweet: Saya sangat marah dengan perlakuan tidak adil di tempat kerja!\n",
      "Predicted label: sad\n",
      "\n",
      "Tweet: Film horor itu benar-benar menakutkan!\n",
      "Predicted label: sad\n",
      "\n",
      "Tweet: Lulus hari ini, tidak bisa menggambarkan kebahagiaan!\n",
      "Predicted label: sad\n",
      "\n"
     ]
    }
   ],
   "source": [
    "tweets = [\n",
    "    \"Saya merasa sangat cemas tentang ujian besok\",\n",
    "    \"Baru saja mendapatkan promosi di kantor! Sangat bahagia\",\n",
    "    \"Saya suka menghabiskan waktu bersama keluarga di akhir pekan\",\n",
    "    \"Merasa sedih hari ini, semuanya terasa sulit\",\n",
    "    \"Hanya hari biasa tidak ada yang istimewa\",\n",
    "    \"Saya sangat frustrasi dengan kemacetan hari ini!\",\n",
    "    \"Pikiran untuk berbicara di depan umum selalu membuat saya takut.\",\n",
    "    \"Bersenang-senang di pantai hari ini, sangat menyenangkan!\",\n",
    "    \"Anjing saya adalah teman terbaik yang pernah saya miliki.\",\n",
    "    \"Dompet saya hilang hari ini, merasa sangat sedih.\",\n",
    "    \"Ini hanya hari Senin biasa, kembali bekerja.\",\n",
    "    \"Saya tidak percaya betapa kasarnya beberapa orang!\",\n",
    "    \"Berjalan sendirian di malam hari membuat saya sangat tidak nyaman.\",\n",
    "    \"Makan malam terbaik bersama teman-teman, sangat banyak tawa!\",\n",
    "    \"Tidak ada yang mengalahkan perasaan jatuh cinta.\",\n",
    "    \"Ini hari hujan, membuat saya merasa sedikit muram.\",\n",
    "    \"Tidak banyak yang terjadi hari ini, cukup tidak berkesan.\",\n",
    "    \"Saya sangat marah dengan perlakuan tidak adil di tempat kerja!\",\n",
    "    \"Film horor itu benar-benar menakutkan!\",\n",
    "    \"Lulus hari ini, tidak bisa menggambarkan kebahagiaan!\"\n",
    "]\n",
    "\n",
    "# Fungsi untuk mendapatkan label dari prediksi\n",
    "def get_label(predict):\n",
    "    if predict == 0:\n",
    "        return 'anger'\n",
    "    if predict == 1:\n",
    "        return 'joy'\n",
    "    if predict == 2:\n",
    "        return 'fear'\n",
    "    if predict == 3:\n",
    "        return 'love'\n",
    "    if predict == 4:\n",
    "        return 'sad'\n",
    "    if predict == 5:\n",
    "        return 'neutral'\n",
    "\n",
    "# Preprocess the tweets\n",
    "max_length = 100  # Sesuaikan dengan panjang maksimum yang digunakan selama pelatihan\n",
    "trunc_type = 'post'\n",
    "\n",
    "# Tokenize and pad sequences\n",
    "sample_seqs = tokenizer.texts_to_sequences(tweets)\n",
    "sample_padded = pad_sequences(sample_seqs, maxlen=max_length, truncating=trunc_type)\n",
    "\n",
    "# Predict labels for each tweet\n",
    "predictions = model.predict(sample_padded)\n",
    "\n",
    "# Print predictions and corresponding labels\n",
    "for i, tweet in enumerate(tweets):\n",
    "    prediction = np.argmax(predictions[i])\n",
    "    label = get_label(prediction)\n",
    "    print(f\"Tweet: {tweet}\\nPredicted label: {label}\\n\")\n"
   ]
  },
  {
   "cell_type": "code",
   "execution_count": 70,
   "metadata": {},
   "outputs": [
    {
     "name": "stdout",
     "output_type": "stream",
     "text": [
      "\u001b[1m6/6\u001b[0m \u001b[32m━━━━━━━━━━━━━━━━━━━━\u001b[0m\u001b[37m\u001b[0m \u001b[1m0s\u001b[0m 36ms/step\n",
      "Klasifikasi selesai dan disimpan ke file CSV baru.\n"
     ]
    }
   ],
   "source": [
    "import pandas as pd\n",
    "import numpy as np\n",
    "from tensorflow.keras.preprocessing.text import Tokenizer\n",
    "from tensorflow.keras.preprocessing.sequence import pad_sequences\n",
    "\n",
    "# Baca data dari CSV\n",
    "df = pd.read_csv('../02. Pengumpulan Data (Data Collection)/Dataset/NonLabel/masukan(to-vidio).csv')  # Ganti dengan path ke file CSV Anda\n",
    "\n",
    "# Fungsi untuk mendapatkan label dari prediksi\n",
    "def get_label(predict):\n",
    "    if predict == 0:\n",
    "        return 'anger'\n",
    "    if predict == 1:\n",
    "        return 'joy'\n",
    "    if predict == 2:\n",
    "        return 'fear'\n",
    "    if predict == 3:\n",
    "        return 'love'\n",
    "    if predict == 4:\n",
    "        return 'sad'\n",
    "    if predict == 5:\n",
    "        return 'neutral'\n",
    "\n",
    "# Inisialisasi tokenizer\n",
    "tokenizer = Tokenizer(num_words=5000)  # Sesuaikan dengan jumlah kata yang digunakan selama pelatihan\n",
    "tokenizer.fit_on_texts(df['full_text'].values)\n",
    "\n",
    "# Preprocess the tweets\n",
    "max_length = 100  # Sesuaikan dengan panjang maksimum yang digunakan selama pelatihan\n",
    "trunc_type = 'post'\n",
    "\n",
    "# Tokenize and pad sequences\n",
    "sample_seqs = tokenizer.texts_to_sequences(df['full_text'].values)\n",
    "sample_padded = pad_sequences(sample_seqs, maxlen=max_length, truncating=trunc_type)\n",
    "\n",
    "# Predict labels for each tweet\n",
    "predictions = model.predict(sample_padded)\n",
    "\n",
    "# Tambahkan kolom 'emotion' ke DataFrame\n",
    "df['emotion'] = [get_label(np.argmax(predictions[i])) for i in range(len(predictions))]\n",
    "\n",
    "# Simpan DataFrame yang sudah diperbarui ke CSV baru\n",
    "df.to_csv('Data Done Label_file.csv', index=False)  # Ganti dengan path untuk menyimpan file CSV yang diperbarui\n",
    "\n",
    "print(\"Klasifikasi selesai dan disimpan ke file CSV baru.\")\n"
   ]
  }
 ],
 "metadata": {
  "kernelspec": {
   "display_name": "Python 3",
   "language": "python",
   "name": "python3"
  },
  "language_info": {
   "codemirror_mode": {
    "name": "ipython",
    "version": 3
   },
   "file_extension": ".py",
   "mimetype": "text/x-python",
   "name": "python",
   "nbconvert_exporter": "python",
   "pygments_lexer": "ipython3",
   "version": "3.11.5"
  }
 },
 "nbformat": 4,
 "nbformat_minor": 2
}
