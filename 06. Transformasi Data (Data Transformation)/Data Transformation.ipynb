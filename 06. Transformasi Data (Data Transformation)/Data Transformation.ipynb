{
 "cells": [
  {
   "cell_type": "markdown",
   "metadata": {},
   "source": [
    "## **06. Transformasi Data (Data Transformation)**\n",
    "\n",
    "---\n",
    "- Mengubah ke refesentasi vektor\n",
    "\n",
    "- Membagi data ke datavalid, data testing, dan data training"
   ]
  },
  {
   "cell_type": "markdown",
   "metadata": {},
   "source": [
    "## Import Library"
   ]
  },
  {
   "cell_type": "code",
   "execution_count": 11,
   "metadata": {},
   "outputs": [],
   "source": [
    "import pandas as pd\n",
    "import numpy as np\n",
    "from sklearn.model_selection import train_test_split\n",
    "from sklearn.preprocessing import StandardScaler\n",
    "import numpy as np\n",
    "from sklearn.preprocessing import StandardScaler\n",
    "import os\n",
    "import ast"
   ]
  },
  {
   "cell_type": "markdown",
   "metadata": {},
   "source": [
    "Loading Data"
   ]
  },
  {
   "cell_type": "code",
   "execution_count": 12,
   "metadata": {},
   "outputs": [],
   "source": [
    "data = pd.read_csv(\n",
    "    '../05. Pra-pemrosesan Data (Data Preprocessing)/Dataset_Clean/Dataset_Clean(skripsi).csv', \n",
    "    sep=\",\"\n",
    ")"
   ]
  },
  {
   "cell_type": "code",
   "execution_count": 14,
   "metadata": {},
   "outputs": [],
   "source": [
    "def convert_to_list(text):\n",
    "    try:\n",
    "        # Parse the text as a Python literal (list)\n",
    "        parsed_list = ast.literal_eval(text)\n",
    "        # Ensure all elements are integers\n",
    "        return [int(i) for i in parsed_list]\n",
    "    except (ValueError, SyntaxError):\n",
    "        return []\n",
    "\n",
    "data['full_text'] = data['full_text'].apply(convert_to_list)"
   ]
  },
  {
   "cell_type": "code",
   "execution_count": 15,
   "metadata": {},
   "outputs": [
    {
     "ename": "ModuleNotFoundError",
     "evalue": "No module named 'gensim'",
     "output_type": "error",
     "traceback": [
      "\u001b[1;31m---------------------------------------------------------------------------\u001b[0m",
      "\u001b[1;31mModuleNotFoundError\u001b[0m                       Traceback (most recent call last)",
      "Cell \u001b[1;32mIn[15], line 1\u001b[0m\n\u001b[1;32m----> 1\u001b[0m \u001b[38;5;28;01mfrom\u001b[39;00m \u001b[38;5;21;01mgensim\u001b[39;00m\u001b[38;5;21;01m.\u001b[39;00m\u001b[38;5;21;01mmodels\u001b[39;00m \u001b[38;5;28;01mimport\u001b[39;00m Word2Vec\n\u001b[0;32m      3\u001b[0m \u001b[38;5;66;03m# Train Word2Vec model\u001b[39;00m\n\u001b[0;32m      4\u001b[0m sentences \u001b[38;5;241m=\u001b[39m data[\u001b[38;5;124m'\u001b[39m\u001b[38;5;124mfull_text\u001b[39m\u001b[38;5;124m'\u001b[39m]\u001b[38;5;241m.\u001b[39mtolist()\n",
      "\u001b[1;31mModuleNotFoundError\u001b[0m: No module named 'gensim'"
     ]
    }
   ],
   "source": [
    "from gensim.models import Word2Vec\n",
    "\n",
    "# Train Word2Vec model\n",
    "sentences = data['full_text'].tolist()\n",
    "word2vec_model = Word2Vec(sentences, vector_size=100, window=8, min_count=1, workers=4)\n",
    "\n",
    "# Retrieve the vocabulary and word vectors\n",
    "vocab = word2vec_model.wv.key_to_index\n",
    "word_vectors = word2vec_model.wv.vectors\n",
    "\n",
    "print(f\"Vocabulary size: {len(vocab)}\")\n",
    "print(f\"Word vectors shape: {word_vectors.shape}\")\n"
   ]
  },
  {
   "cell_type": "code",
   "execution_count": null,
   "metadata": {},
   "outputs": [
    {
     "ename": "",
     "evalue": "",
     "output_type": "error",
     "traceback": [
      "\u001b[1;31mThe kernel failed to start as a dll could not be loaded.\n",
      "\u001b[1;31mClick <a href='https://aka.ms/kernelFailuresDllLoad'>here</a> for more info."
     ]
    }
   ],
   "source": [
    "import numpy as np\n",
    "\n",
    "# Function to convert tweet to embedding\n",
    "def tweet_to_embedding(tweet, model, vector_size):\n",
    "    embedding = np.zeros((len(tweet), vector_size))\n",
    "    for i, index in enumerate(tweet):\n",
    "        if index in model.wv:\n",
    "            embedding[i] = model.wv[index]\n",
    "    return embedding\n",
    "\n",
    "# Example to convert first tweet to embedding\n",
    "example_tweet = data['full_text'][0]\n",
    "embedding_example = tweet_to_embedding(example_tweet, word2vec_model, 100)\n",
    "print(embedding_example)\n"
   ]
  },
  {
   "cell_type": "code",
   "execution_count": null,
   "metadata": {},
   "outputs": [
    {
     "ename": "",
     "evalue": "",
     "output_type": "error",
     "traceback": [
      "\u001b[1;31mThe kernel failed to start as a dll could not be loaded.\n",
      "\u001b[1;31mClick <a href='https://aka.ms/kernelFailuresDllLoad'>here</a> for more info."
     ]
    }
   ],
   "source": []
  }
 ],
 "metadata": {
  "kernelspec": {
   "display_name": "base",
   "language": "python",
   "name": "python3"
  },
  "language_info": {
   "codemirror_mode": {
    "name": "ipython",
    "version": 3
   },
   "file_extension": ".py",
   "mimetype": "text/x-python",
   "name": "python",
   "nbconvert_exporter": "python",
   "pygments_lexer": "ipython3",
   "version": "3.12.4"
  }
 },
 "nbformat": 4,
 "nbformat_minor": 2
}
