{
 "cells": [
  {
   "cell_type": "markdown",
   "metadata": {},
   "source": [
    "## **06. Transformasi Data (Data Transformation)**\n",
    "\n",
    "---\n",
    "- Mengubah ke refesentasi vektor\n",
    "\n",
    "- Membagi data ke datavalid, data testing, dan data training"
   ]
  },
  {
   "cell_type": "markdown",
   "metadata": {},
   "source": [
    "## Import Library"
   ]
  },
  {
   "cell_type": "code",
   "execution_count": 4,
   "metadata": {},
   "outputs": [],
   "source": [
    "import pandas as pd\n",
    "import numpy as np\n",
    "from sklearn.model_selection import train_test_split\n",
    "from gensim.models import Word2Vec\n",
    "from sklearn.preprocessing import StandardScaler\n",
    "from gensim.models import Word2Vec\n",
    "import numpy as np\n",
    "from sklearn.preprocessing import StandardScaler\n",
    "import os\n",
    "import random"
   ]
  },
  {
   "cell_type": "markdown",
   "metadata": {},
   "source": [
    "Loading Data"
   ]
  },
  {
   "cell_type": "code",
   "execution_count": 5,
   "metadata": {},
   "outputs": [],
   "source": [
    "data = pd.read_csv(\n",
    "    '../05. Pra-pemrosesan Data (Data Preprocessing)/Dataset_Clean/Dataset_valid2.csv', \n",
    "    sep=\",\"\n",
    ")"
   ]
  },
  {
   "cell_type": "code",
   "execution_count": 6,
   "metadata": {},
   "outputs": [],
   "source": [
    "# Hitung jumlah baris untuk setiap label\n",
    "label_counts = data['label'].value_counts()\n",
    "\n",
    "# Tentukan jumlah target untuk setiap label (dengan perbedaan acak maksimal 1000)\n",
    "min_count = label_counts.min()\n",
    "target_counts = {label: min_count + random.randint(0, 2312) for label in label_counts.index}\n",
    "\n",
    "# Sample ulang data untuk setiap label sesuai dengan target_counts\n",
    "balanced_data = pd.concat([data[data['label'] == label].sample(n=target_counts[label], replace=True) for label in label_counts.index])\n",
    "\n",
    "# Simpan dataset yang telah diubah\n",
    "balanced_data.to_csv('balanced_dataset.csv', index=False)"
   ]
  },
  {
   "cell_type": "code",
   "execution_count": 7,
   "metadata": {},
   "outputs": [
    {
     "data": {
      "text/html": [
       "<div>\n",
       "<style scoped>\n",
       "    .dataframe tbody tr th:only-of-type {\n",
       "        vertical-align: middle;\n",
       "    }\n",
       "\n",
       "    .dataframe tbody tr th {\n",
       "        vertical-align: top;\n",
       "    }\n",
       "\n",
       "    .dataframe thead th {\n",
       "        text-align: right;\n",
       "    }\n",
       "</style>\n",
       "<table border=\"1\" class=\"dataframe\">\n",
       "  <thead>\n",
       "    <tr style=\"text-align: right;\">\n",
       "      <th></th>\n",
       "      <th>Unnamed: 0</th>\n",
       "      <th>tweet</th>\n",
       "      <th>label</th>\n",
       "    </tr>\n",
       "  </thead>\n",
       "  <tbody>\n",
       "    <tr>\n",
       "      <th>52070</th>\n",
       "      <td>32636</td>\n",
       "      <td>['ganjar', 'tegaskan', 'pemilu', 'bersih', 'ta...</td>\n",
       "      <td>Neutral</td>\n",
       "    </tr>\n",
       "    <tr>\n",
       "      <th>43880</th>\n",
       "      <td>1391</td>\n",
       "      <td>['bersyukur', 'akan', 'senantiasa', 'diliputi'...</td>\n",
       "      <td>Neutral</td>\n",
       "    </tr>\n",
       "    <tr>\n",
       "      <th>51584</th>\n",
       "      <td>32150</td>\n",
       "      <td>['level', 'pemerintah', 'desa', 'salah', 'seor...</td>\n",
       "      <td>Neutral</td>\n",
       "    </tr>\n",
       "    <tr>\n",
       "      <th>28986</th>\n",
       "      <td>28683</td>\n",
       "      <td>['apa', 'kalau', 'punya', 'gagasan', 'kasih', ...</td>\n",
       "      <td>Neutral</td>\n",
       "    </tr>\n",
       "    <tr>\n",
       "      <th>29511</th>\n",
       "      <td>29208</td>\n",
       "      <td>['tegas', 'ksad', 'baru', 'jenderal', 'tni', '...</td>\n",
       "      <td>Neutral</td>\n",
       "    </tr>\n",
       "  </tbody>\n",
       "</table>\n",
       "</div>"
      ],
      "text/plain": [
       "       Unnamed: 0                                              tweet    label\n",
       "52070       32636  ['ganjar', 'tegaskan', 'pemilu', 'bersih', 'ta...  Neutral\n",
       "43880        1391  ['bersyukur', 'akan', 'senantiasa', 'diliputi'...  Neutral\n",
       "51584       32150  ['level', 'pemerintah', 'desa', 'salah', 'seor...  Neutral\n",
       "28986       28683  ['apa', 'kalau', 'punya', 'gagasan', 'kasih', ...  Neutral\n",
       "29511       29208  ['tegas', 'ksad', 'baru', 'jenderal', 'tni', '...  Neutral"
      ]
     },
     "execution_count": 7,
     "metadata": {},
     "output_type": "execute_result"
    }
   ],
   "source": [
    "balanced_data.head()"
   ]
  }
 ],
 "metadata": {
  "kernelspec": {
   "display_name": "base",
   "language": "python",
   "name": "python3"
  },
  "language_info": {
   "codemirror_mode": {
    "name": "ipython",
    "version": 3
   },
   "file_extension": ".py",
   "mimetype": "text/x-python",
   "name": "python",
   "nbconvert_exporter": "python",
   "pygments_lexer": "ipython3",
   "version": "3.11.5"
  }
 },
 "nbformat": 4,
 "nbformat_minor": 2
}
