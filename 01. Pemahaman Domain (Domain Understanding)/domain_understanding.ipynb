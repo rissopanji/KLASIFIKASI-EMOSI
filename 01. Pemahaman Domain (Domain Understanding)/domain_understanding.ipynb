{
 "cells": [
  {
   "cell_type": "markdown",
   "metadata": {},
   "source": [
    "## 01. Pemahaman Domain (Domain Understanding)\n",
    "\n",
    "---\n",
    "\n"
   ]
  },
  {
   "cell_type": "code",
   "execution_count": 2,
   "metadata": {},
   "outputs": [],
   "source": [
    "import pandas as pd\n",
    "import re\n",
    "import nltk\n",
    "import ipykernel"
   ]
  },
  {
   "cell_type": "code",
   "execution_count": 54,
   "metadata": {},
   "outputs": [],
   "source": [
    "data1 = pd.read_csv('crawling_tweet/timnas_1.csv')\n",
    "data2 = pd.read_csv('crawling_tweet/timnas_2.csv')\n",
    "data3 = pd.read_csv('crawling_tweet/timnas_3.csv')\n",
    "data4 = pd.read_csv('crawling_tweet/timnas_4.csv')\n",
    "data5 = pd.read_csv('crawling_tweet/timnas (6).csv')\n",
    "data6 = pd.read_csv('crawling_tweet/timnas (7).csv')\n",
    "data7 = pd.read_csv('crawling_tweet/timnas (8).csv')\n",
    "data8 = pd.read_csv('crawling_tweet/timnas (9).csv')\n",
    "data9 = pd.read_csv('crawling_tweet/timnas (10).csv')\n",
    "data10 = pd.read_csv('crawling_tweet/timnas (11).csv')\n",
    "data11 = pd.read_csv('crawling_tweet/timnas (12).csv')"
   ]
  },
  {
   "cell_type": "code",
   "execution_count": 55,
   "metadata": {},
   "outputs": [],
   "source": [
    "data = pd.concat([data1, data5,data6,data7,data8,data9,data10,data11], ignore_index=True)"
   ]
  },
  {
   "cell_type": "code",
   "execution_count": 56,
   "metadata": {},
   "outputs": [
    {
     "data": {
      "text/html": [
       "<div>\n",
       "<style scoped>\n",
       "    .dataframe tbody tr th:only-of-type {\n",
       "        vertical-align: middle;\n",
       "    }\n",
       "\n",
       "    .dataframe tbody tr th {\n",
       "        vertical-align: top;\n",
       "    }\n",
       "\n",
       "    .dataframe thead th {\n",
       "        text-align: right;\n",
       "    }\n",
       "</style>\n",
       "<table border=\"1\" class=\"dataframe\">\n",
       "  <thead>\n",
       "    <tr style=\"text-align: right;\">\n",
       "      <th></th>\n",
       "      <th>conversation_id_str</th>\n",
       "      <th>created_at</th>\n",
       "      <th>favorite_count</th>\n",
       "      <th>full_text</th>\n",
       "      <th>id_str</th>\n",
       "      <th>image_url</th>\n",
       "      <th>in_reply_to_screen_name</th>\n",
       "      <th>lang</th>\n",
       "      <th>location</th>\n",
       "      <th>quote_count</th>\n",
       "      <th>reply_count</th>\n",
       "      <th>retweet_count</th>\n",
       "      <th>tweet_url</th>\n",
       "      <th>user_id_str</th>\n",
       "      <th>username</th>\n",
       "    </tr>\n",
       "  </thead>\n",
       "  <tbody>\n",
       "    <tr>\n",
       "      <th>0</th>\n",
       "      <td>1800679330726715550</td>\n",
       "      <td>Tue Jun 11 23:59:42 +0000 2024</td>\n",
       "      <td>1</td>\n",
       "      <td>TIMNAS PRIA DAN WANITA MENANG + ERIK TEN HAG STAY</td>\n",
       "      <td>1800679330726715550</td>\n",
       "      <td>NaN</td>\n",
       "      <td>NaN</td>\n",
       "      <td>in</td>\n",
       "      <td>Indonesia</td>\n",
       "      <td>0</td>\n",
       "      <td>0</td>\n",
       "      <td>0</td>\n",
       "      <td>https://x.com/tigapuluhtigax/status/1800679330...</td>\n",
       "      <td>1188470356668895234</td>\n",
       "      <td>tigapuluhtigax</td>\n",
       "    </tr>\n",
       "    <tr>\n",
       "      <th>1</th>\n",
       "      <td>1800679305925800015</td>\n",
       "      <td>Tue Jun 11 23:59:36 +0000 2024</td>\n",
       "      <td>1</td>\n",
       "      <td>ngerasa ga sih sekarang timnas kalo main pakek...</td>\n",
       "      <td>1800679305925800015</td>\n",
       "      <td>NaN</td>\n",
       "      <td>NaN</td>\n",
       "      <td>in</td>\n",
       "      <td>Jombang, Indonesia</td>\n",
       "      <td>0</td>\n",
       "      <td>0</td>\n",
       "      <td>0</td>\n",
       "      <td>https://x.com/sotongism/status/180067930592580...</td>\n",
       "      <td>961056397063409664</td>\n",
       "      <td>sotongism</td>\n",
       "    </tr>\n",
       "    <tr>\n",
       "      <th>2</th>\n",
       "      <td>1800679288326476196</td>\n",
       "      <td>Tue Jun 11 23:59:31 +0000 2024</td>\n",
       "      <td>0</td>\n",
       "      <td>2 Sejarah Dicetak Timnas Indonesia Usai Ganyan...</td>\n",
       "      <td>1800679288326476196</td>\n",
       "      <td>NaN</td>\n",
       "      <td>NaN</td>\n",
       "      <td>in</td>\n",
       "      <td>NaN</td>\n",
       "      <td>0</td>\n",
       "      <td>0</td>\n",
       "      <td>0</td>\n",
       "      <td>https://x.com/peanutkacang123/status/180067928...</td>\n",
       "      <td>1464596330421100548</td>\n",
       "      <td>peanutkacang123</td>\n",
       "    </tr>\n",
       "    <tr>\n",
       "      <th>3</th>\n",
       "      <td>1800589420766355730</td>\n",
       "      <td>Tue Jun 11 23:59:28 +0000 2024</td>\n",
       "      <td>0</td>\n",
       "      <td>@womensfootie_id Tinggal tmbah pemain diaspora...</td>\n",
       "      <td>1800679273185047018</td>\n",
       "      <td>NaN</td>\n",
       "      <td>womensfootie_id</td>\n",
       "      <td>in</td>\n",
       "      <td>NaN</td>\n",
       "      <td>0</td>\n",
       "      <td>0</td>\n",
       "      <td>0</td>\n",
       "      <td>https://x.com/PKananku1927/status/180067927318...</td>\n",
       "      <td>1772880651248939008</td>\n",
       "      <td>PKananku1927</td>\n",
       "    </tr>\n",
       "    <tr>\n",
       "      <th>4</th>\n",
       "      <td>1800679270857286043</td>\n",
       "      <td>Tue Jun 11 23:59:27 +0000 2024</td>\n",
       "      <td>0</td>\n",
       "      <td>Timnas Indonesia Vs Timnas Filipina 2-0 Indone...</td>\n",
       "      <td>1800679270857286043</td>\n",
       "      <td>NaN</td>\n",
       "      <td>NaN</td>\n",
       "      <td>in</td>\n",
       "      <td>NaN</td>\n",
       "      <td>0</td>\n",
       "      <td>0</td>\n",
       "      <td>0</td>\n",
       "      <td>https://x.com/kangsil2012/status/1800679270857...</td>\n",
       "      <td>546890263</td>\n",
       "      <td>kangsil2012</td>\n",
       "    </tr>\n",
       "    <tr>\n",
       "      <th>...</th>\n",
       "      <td>...</td>\n",
       "      <td>...</td>\n",
       "      <td>...</td>\n",
       "      <td>...</td>\n",
       "      <td>...</td>\n",
       "      <td>...</td>\n",
       "      <td>...</td>\n",
       "      <td>...</td>\n",
       "      <td>...</td>\n",
       "      <td>...</td>\n",
       "      <td>...</td>\n",
       "      <td>...</td>\n",
       "      <td>...</td>\n",
       "      <td>...</td>\n",
       "      <td>...</td>\n",
       "    </tr>\n",
       "    <tr>\n",
       "      <th>3059</th>\n",
       "      <td>1800665012903813409</td>\n",
       "      <td>Tue Jun 11 23:02:48 +0000 2024</td>\n",
       "      <td>0</td>\n",
       "      <td>Daftar Negara Lolos ke Putaran 3 Kualifikasi P...</td>\n",
       "      <td>1800665012903813409</td>\n",
       "      <td>NaN</td>\n",
       "      <td>NaN</td>\n",
       "      <td>in</td>\n",
       "      <td>Balikpapan, Indonesia</td>\n",
       "      <td>0</td>\n",
       "      <td>0</td>\n",
       "      <td>0</td>\n",
       "      <td>https://x.com/tribunkaltim/status/180066501290...</td>\n",
       "      <td>103551225</td>\n",
       "      <td>tribunkaltim</td>\n",
       "    </tr>\n",
       "    <tr>\n",
       "      <th>3060</th>\n",
       "      <td>1800580031087014330</td>\n",
       "      <td>Tue Jun 11 17:25:07 +0000 2024</td>\n",
       "      <td>1</td>\n",
       "      <td>Anang Ngerusak Momen Haru #TimNasDay Emang dar...</td>\n",
       "      <td>1800580031087014330</td>\n",
       "      <td>NaN</td>\n",
       "      <td>NaN</td>\n",
       "      <td>in</td>\n",
       "      <td>Salatiga - Jakarta - London</td>\n",
       "      <td>0</td>\n",
       "      <td>0</td>\n",
       "      <td>0</td>\n",
       "      <td>https://x.com/ronitoxid/status/180058003108701...</td>\n",
       "      <td>39716466</td>\n",
       "      <td>ronitoxid</td>\n",
       "    </tr>\n",
       "    <tr>\n",
       "      <th>3061</th>\n",
       "      <td>1800634437505343804</td>\n",
       "      <td>Tue Jun 11 21:01:18 +0000 2024</td>\n",
       "      <td>1</td>\n",
       "      <td>STY blak-blakan mengatakan stadion harusnya le...</td>\n",
       "      <td>1800634437505343804</td>\n",
       "      <td>NaN</td>\n",
       "      <td>NaN</td>\n",
       "      <td>in</td>\n",
       "      <td>Jakarta Capital Region</td>\n",
       "      <td>1</td>\n",
       "      <td>1</td>\n",
       "      <td>1</td>\n",
       "      <td>https://x.com/suaradotcom/status/1800634437505...</td>\n",
       "      <td>2340155395</td>\n",
       "      <td>suaradotcom</td>\n",
       "    </tr>\n",
       "    <tr>\n",
       "      <th>3062</th>\n",
       "      <td>1800672173994262918</td>\n",
       "      <td>Tue Jun 11 23:31:15 +0000 2024</td>\n",
       "      <td>0</td>\n",
       "      <td>Momen Timnas berlaga di Stadion jangan sekali-...</td>\n",
       "      <td>1800672173994262918</td>\n",
       "      <td>NaN</td>\n",
       "      <td>NaN</td>\n",
       "      <td>in</td>\n",
       "      <td>NaN</td>\n",
       "      <td>0</td>\n",
       "      <td>0</td>\n",
       "      <td>0</td>\n",
       "      <td>https://x.com/macanutara_/status/1800672173994...</td>\n",
       "      <td>1135805814642335745</td>\n",
       "      <td>macanutara_</td>\n",
       "    </tr>\n",
       "    <tr>\n",
       "      <th>3063</th>\n",
       "      <td>1800649290328543701</td>\n",
       "      <td>Tue Jun 11 22:00:19 +0000 2024</td>\n",
       "      <td>0</td>\n",
       "      <td>Jokowi menonton langsung laga Timnas Indonesia...</td>\n",
       "      <td>1800649290328543701</td>\n",
       "      <td>NaN</td>\n",
       "      <td>NaN</td>\n",
       "      <td>in</td>\n",
       "      <td>Jakarta Capital Region</td>\n",
       "      <td>0</td>\n",
       "      <td>1</td>\n",
       "      <td>0</td>\n",
       "      <td>https://x.com/suaradotcom/status/1800649290328...</td>\n",
       "      <td>2340155395</td>\n",
       "      <td>suaradotcom</td>\n",
       "    </tr>\n",
       "  </tbody>\n",
       "</table>\n",
       "<p>3064 rows × 15 columns</p>\n",
       "</div>"
      ],
      "text/plain": [
       "      conversation_id_str                      created_at  favorite_count  \\\n",
       "0     1800679330726715550  Tue Jun 11 23:59:42 +0000 2024               1   \n",
       "1     1800679305925800015  Tue Jun 11 23:59:36 +0000 2024               1   \n",
       "2     1800679288326476196  Tue Jun 11 23:59:31 +0000 2024               0   \n",
       "3     1800589420766355730  Tue Jun 11 23:59:28 +0000 2024               0   \n",
       "4     1800679270857286043  Tue Jun 11 23:59:27 +0000 2024               0   \n",
       "...                   ...                             ...             ...   \n",
       "3059  1800665012903813409  Tue Jun 11 23:02:48 +0000 2024               0   \n",
       "3060  1800580031087014330  Tue Jun 11 17:25:07 +0000 2024               1   \n",
       "3061  1800634437505343804  Tue Jun 11 21:01:18 +0000 2024               1   \n",
       "3062  1800672173994262918  Tue Jun 11 23:31:15 +0000 2024               0   \n",
       "3063  1800649290328543701  Tue Jun 11 22:00:19 +0000 2024               0   \n",
       "\n",
       "                                              full_text               id_str  \\\n",
       "0     TIMNAS PRIA DAN WANITA MENANG + ERIK TEN HAG STAY  1800679330726715550   \n",
       "1     ngerasa ga sih sekarang timnas kalo main pakek...  1800679305925800015   \n",
       "2     2 Sejarah Dicetak Timnas Indonesia Usai Ganyan...  1800679288326476196   \n",
       "3     @womensfootie_id Tinggal tmbah pemain diaspora...  1800679273185047018   \n",
       "4     Timnas Indonesia Vs Timnas Filipina 2-0 Indone...  1800679270857286043   \n",
       "...                                                 ...                  ...   \n",
       "3059  Daftar Negara Lolos ke Putaran 3 Kualifikasi P...  1800665012903813409   \n",
       "3060  Anang Ngerusak Momen Haru #TimNasDay Emang dar...  1800580031087014330   \n",
       "3061  STY blak-blakan mengatakan stadion harusnya le...  1800634437505343804   \n",
       "3062  Momen Timnas berlaga di Stadion jangan sekali-...  1800672173994262918   \n",
       "3063  Jokowi menonton langsung laga Timnas Indonesia...  1800649290328543701   \n",
       "\n",
       "     image_url in_reply_to_screen_name lang                     location  \\\n",
       "0          NaN                     NaN   in                    Indonesia   \n",
       "1          NaN                     NaN   in           Jombang, Indonesia   \n",
       "2          NaN                     NaN   in                          NaN   \n",
       "3          NaN         womensfootie_id   in                          NaN   \n",
       "4          NaN                     NaN   in                          NaN   \n",
       "...        ...                     ...  ...                          ...   \n",
       "3059       NaN                     NaN   in        Balikpapan, Indonesia   \n",
       "3060       NaN                     NaN   in  Salatiga - Jakarta - London   \n",
       "3061       NaN                     NaN   in       Jakarta Capital Region   \n",
       "3062       NaN                     NaN   in                          NaN   \n",
       "3063       NaN                     NaN   in       Jakarta Capital Region   \n",
       "\n",
       "      quote_count  reply_count  retweet_count  \\\n",
       "0               0            0              0   \n",
       "1               0            0              0   \n",
       "2               0            0              0   \n",
       "3               0            0              0   \n",
       "4               0            0              0   \n",
       "...           ...          ...            ...   \n",
       "3059            0            0              0   \n",
       "3060            0            0              0   \n",
       "3061            1            1              1   \n",
       "3062            0            0              0   \n",
       "3063            0            1              0   \n",
       "\n",
       "                                              tweet_url          user_id_str  \\\n",
       "0     https://x.com/tigapuluhtigax/status/1800679330...  1188470356668895234   \n",
       "1     https://x.com/sotongism/status/180067930592580...   961056397063409664   \n",
       "2     https://x.com/peanutkacang123/status/180067928...  1464596330421100548   \n",
       "3     https://x.com/PKananku1927/status/180067927318...  1772880651248939008   \n",
       "4     https://x.com/kangsil2012/status/1800679270857...            546890263   \n",
       "...                                                 ...                  ...   \n",
       "3059  https://x.com/tribunkaltim/status/180066501290...            103551225   \n",
       "3060  https://x.com/ronitoxid/status/180058003108701...             39716466   \n",
       "3061  https://x.com/suaradotcom/status/1800634437505...           2340155395   \n",
       "3062  https://x.com/macanutara_/status/1800672173994...  1135805814642335745   \n",
       "3063  https://x.com/suaradotcom/status/1800649290328...           2340155395   \n",
       "\n",
       "             username  \n",
       "0      tigapuluhtigax  \n",
       "1           sotongism  \n",
       "2     peanutkacang123  \n",
       "3        PKananku1927  \n",
       "4         kangsil2012  \n",
       "...               ...  \n",
       "3059     tribunkaltim  \n",
       "3060        ronitoxid  \n",
       "3061      suaradotcom  \n",
       "3062      macanutara_  \n",
       "3063      suaradotcom  \n",
       "\n",
       "[3064 rows x 15 columns]"
      ]
     },
     "execution_count": 56,
     "metadata": {},
     "output_type": "execute_result"
    }
   ],
   "source": [
    "data "
   ]
  },
  {
   "cell_type": "code",
   "execution_count": 57,
   "metadata": {},
   "outputs": [],
   "source": [
    "data = data.drop_duplicates(subset='tweet_url')\n"
   ]
  },
  {
   "cell_type": "code",
   "execution_count": 59,
   "metadata": {},
   "outputs": [
    {
     "name": "stdout",
     "output_type": "stream",
     "text": [
      "Jumlah baris: 1914\n"
     ]
    }
   ],
   "source": [
    "jumlah_baris = data.shape[0]\n",
    "print(f'Jumlah baris: {jumlah_baris}')"
   ]
  },
  {
   "cell_type": "code",
   "execution_count": 45,
   "metadata": {},
   "outputs": [],
   "source": [
    "data.to_csv('crawling_tweet/timnas.csv', index=False)"
   ]
  },
  {
   "cell_type": "markdown",
   "metadata": {},
   "source": [
    "## 1. Preposessing"
   ]
  },
  {
   "cell_type": "code",
   "execution_count": 46,
   "metadata": {},
   "outputs": [
    {
     "name": "stderr",
     "output_type": "stream",
     "text": [
      "C:\\Users\\TEMP\\AppData\\Local\\Temp\\ipykernel_6692\\2347096102.py:27: SettingWithCopyWarning: \n",
      "A value is trying to be set on a copy of a slice from a DataFrame.\n",
      "Try using .loc[row_indexer,col_indexer] = value instead\n",
      "\n",
      "See the caveats in the documentation: https://pandas.pydata.org/pandas-docs/stable/user_guide/indexing.html#returning-a-view-versus-a-copy\n",
      "  data['cleaned_tweet'] = data['full_text'].apply(preprocess_tweet)\n"
     ]
    }
   ],
   "source": [
    "import pandas as pd\n",
    "import re\n",
    "from Sastrawi.StopWordRemover.StopWordRemoverFactory import StopWordRemoverFactory\n",
    "\n",
    "\n",
    "# Create stopword list\n",
    "factory = StopWordRemoverFactory()\n",
    "stop_words = set(factory.get_stop_words())\n",
    "\n",
    "# Tambahkan kata hubung tambahan ke dalam daftar stopwords\n",
    "kata_hubung = {'dan', 'atau', 'tetapi', 'namun', 'sehingga', 'karena', 'jika', 'jikalau', 'maka', 'sebab', 'meskipun', 'walaupun', 'yg','lu','gue','gini','klo','sama'}\n",
    "stop_words.update(kata_hubung)\n",
    "\n",
    "# Function to preprocess tweets\n",
    "def preprocess_tweet(tweet):\n",
    "    tweet = re.sub(r'http\\S+', '', tweet)  # Remove URLs\n",
    "    tweet = re.sub(r'@\\w+', '', tweet)  # Remove mentions\n",
    "    tweet = re.sub(r'#\\w+', '', tweet)  # Remove hashtags\n",
    "    tweet = re.sub(r'\\d+', '', tweet)  # Remove numbers\n",
    "    tweet = tweet.lower()  # Convert to lowercase\n",
    "    tweet = re.sub(r'[^\\w\\s]', '', tweet)  # Remove punctuation\n",
    "    tweet = tweet.split()  # Split into words\n",
    "    tweet = [word for word in tweet if word not in stop_words]  # Remove stopwords\n",
    "    return ' '.join(tweet)\n",
    "\n",
    "# Apply preprocessing to each tweet\n",
    "data['cleaned_tweet'] = data['full_text'].apply(preprocess_tweet)\n"
   ]
  },
  {
   "cell_type": "markdown",
   "metadata": {},
   "source": [
    "## 2. Topic Modeling dengan LDA"
   ]
  },
  {
   "cell_type": "code",
   "execution_count": 47,
   "metadata": {},
   "outputs": [
    {
     "name": "stderr",
     "output_type": "stream",
     "text": [
      "c:\\Users\\TEMP\\AppData\\Local\\Programs\\Python\\Python39\\lib\\site-packages\\sklearn\\feature_extraction\\text.py:408: UserWarning: Your stop_words may be inconsistent with your preprocessing. Tokenizing the stop words generated tokens ['baiknya', 'berkali', 'kurangnya', 'olah', 'sekurang', 'setidak', 'tama', 'tidaknya'] not in stop_words.\n",
      "  warnings.warn(\n"
     ]
    },
    {
     "name": "stdout",
     "output_type": "stream",
     "text": [
      "Topik 1: indonesia, timnas, stadion, filipina, gelora, karno, pot, vs, qatar, skor\n",
      "Topik 2: timnas, kasih, terima, anak, min, kalo, you, back, ga, indonesia\n",
      "Topik 3: timnas, nonton, ga, aja, indonesia, main, udah, bang, bgt, gak\n",
      "Topik 4: timnas, anang, ernando, indonesia, bang, jay, syifa, filipina, paes, adrian\n",
      "Topik 5: indonesia, timnas, piala, dunia, lolos, kualifikasi, asia, filipina, ketiga, putaran\n",
      "Topik 6: timnas, anang, indonesia, lagu, nyanyi, pusaka, pemain, banget, suporter, tanah\n",
      "Topik 7: timnas, indonesia, pemain, haye, thom, gol, laga, garuda, udah, bahrain\n",
      "Topik 8: timnas, indonesia, main, gbk, gak, pemain, ridho, debut, nih, rizky\n",
      "Topik 9: timnas, menang, indonesia, full, vs, kemenangan, bikin, nonton, senyum, liat\n",
      "Topik 10: timnas, selamat, indonesia, kalo, juni, cup, hasil, amp, result, world\n"
     ]
    }
   ],
   "source": [
    "from sklearn.feature_extraction.text import CountVectorizer\n",
    "from sklearn.decomposition import LatentDirichletAllocation\n",
    "\n",
    "# Vectorize the cleaned tweets\n",
    "vectorizer = CountVectorizer(max_df=0.95, min_df=2, stop_words=list(stop_words))\n",
    "tweet_matrix = vectorizer.fit_transform(data['cleaned_tweet'])\n",
    "\n",
    "# Fit the LDA model\n",
    "lda = LatentDirichletAllocation(n_components=10, random_state=42)\n",
    "lda.fit(tweet_matrix)\n",
    "\n",
    "# Display the top words for each topic\n",
    "def display_topics(model, feature_names, num_top_words):\n",
    "    topics = []\n",
    "    for topic_idx, topic in enumerate(model.components_):\n",
    "        topics.append([feature_names[i] for i in topic.argsort()[:-num_top_words - 1:-1]])\n",
    "    return topics\n",
    "\n",
    "num_top_words = 10\n",
    "feature_names = vectorizer.get_feature_names_out()\n",
    "topics = display_topics(lda, feature_names, num_top_words)\n",
    "\n",
    "for idx, topic in enumerate(topics):\n",
    "    print(f\"Topik {idx+1}: {', '.join(topic)}\")\n"
   ]
  },
  {
   "cell_type": "markdown",
   "metadata": {},
   "source": [
    "## 3. Clustering"
   ]
  },
  {
   "cell_type": "code",
   "execution_count": 48,
   "metadata": {},
   "outputs": [
    {
     "name": "stdout",
     "output_type": "stream",
     "text": [
      "                                           full_text  topic_cluster\n",
      "0  TIMNAS PRIA DAN WANITA MENANG + ERIK TEN HAG STAY              7\n",
      "1  ngerasa ga sih sekarang timnas kalo main pakek...              2\n",
      "2  2 Sejarah Dicetak Timnas Indonesia Usai Ganyan...              4\n",
      "3  @womensfootie_id Tinggal tmbah pemain diaspora...              6\n",
      "4  Timnas Indonesia Vs Timnas Filipina 2-0 Indone...              4\n"
     ]
    },
    {
     "name": "stderr",
     "output_type": "stream",
     "text": [
      "C:\\Users\\TEMP\\AppData\\Local\\Temp\\ipykernel_6692\\3514048034.py:7: SettingWithCopyWarning: \n",
      "A value is trying to be set on a copy of a slice from a DataFrame.\n",
      "Try using .loc[row_indexer,col_indexer] = value instead\n",
      "\n",
      "See the caveats in the documentation: https://pandas.pydata.org/pandas-docs/stable/user_guide/indexing.html#returning-a-view-versus-a-copy\n",
      "  data['topic_cluster'] = np.argmax(topic_distribution, axis=1)\n"
     ]
    }
   ],
   "source": [
    "import numpy as np\n",
    "\n",
    "# Get topic distribution for each tweet\n",
    "topic_distribution = lda.transform(tweet_matrix)\n",
    "\n",
    "# Assign each tweet to the topic with the highest probability\n",
    "data['topic_cluster'] = np.argmax(topic_distribution, axis=1)\n",
    "\n",
    "# Save the DataFrame to a CSV file\n",
    "data.to_csv('tweets_with_topics.csv', index=False)\n",
    "\n",
    "# Display the first few rows with assigned topics\n",
    "print(data[['full_text', 'topic_cluster']].head())\n"
   ]
  },
  {
   "cell_type": "markdown",
   "metadata": {},
   "source": [
    "## 4. Interpretasi"
   ]
  },
  {
   "cell_type": "code",
   "execution_count": null,
   "metadata": {},
   "outputs": [
    {
     "ename": "",
     "evalue": "",
     "output_type": "error",
     "traceback": [
      "\u001b[1;31mThe kernel failed to start as a dll could not be loaded.\n",
      "\u001b[1;31mClick <a href='https://aka.ms/kernelFailuresDllLoad'>here</a> for more info."
     ]
    }
   ],
   "source": [
    "data = data[['full_text', 'topic_cluster']]\n",
    "\n",
    "data = data.sort_values(by='topic_cluster').reset_index(drop=True)"
   ]
  },
  {
   "cell_type": "code",
   "execution_count": null,
   "metadata": {},
   "outputs": [
    {
     "ename": "",
     "evalue": "",
     "output_type": "error",
     "traceback": [
      "\u001b[1;31mThe kernel failed to start as a dll could not be loaded.\n",
      "\u001b[1;31mClick <a href='https://aka.ms/kernelFailuresDllLoad'>here</a> for more info."
     ]
    }
   ],
   "source": [
    "data.to_csv('tweet+topics.csv', index=False)"
   ]
  },
  {
   "cell_type": "code",
   "execution_count": null,
   "metadata": {},
   "outputs": [
    {
     "ename": "",
     "evalue": "",
     "output_type": "error",
     "traceback": [
      "\u001b[1;31mThe kernel failed to start as a dll could not be loaded.\n",
      "\u001b[1;31mClick <a href='https://aka.ms/kernelFailuresDllLoad'>here</a> for more info."
     ]
    }
   ],
   "source": [
    "data"
   ]
  },
  {
   "cell_type": "markdown",
   "metadata": {},
   "source": [
    "Topik 1: Topik pertama mencakup diskusi tentang sejarah yang dicetak oleh Timnas Indonesia dan pertandingan melawan Filipina di Piala Dunia.\n",
    "\n",
    "Topik 2: Topik kedua membahas mengenai Indonesia di Piala Dunia, pertandingan melawan Filipina, kualifikasi, dan kelolosan.\n",
    "\n",
    "Topik 3: Topik ketiga fokus pada perasaan tentang permainan Timnas saat ini, bagaimana mereka bermain, dan harapan terhadap performa mereka.\n",
    "\n",
    "Topik 4: Topik keempat mencakup saran untuk menambahkan pemain diaspora, diskusi tentang pemain dan strategi yang digunakan.\n",
    "\n",
    "Topik 5: Topik kelima membahas mengenai fans yang merasa fomo (fear of missing out) terkait dengan Timnas, kemenangan, dan performa mereka.\n",
    "\n",
    "Topik 6: Topik keenam menyoroti diskusi tentang pelatih Timnas dan strategi yang harus digunakan.\n",
    "\n",
    "Topik 7: Topik ketujuh mencakup topik tentang pertandingan antara Timnas Indonesia dan Filipina serta kemenangan yang diraih.\n",
    "\n",
    "Topik 8: Topik kedelapan membahas tentang kemarahan supporter ke Anang dan asyanti pada saat walkout.\n",
    "\n",
    "Topik 9: Topik kesembilan fokus pada pertandingan U-19 Timnas Indonesia, perjalanan mereka ke Piala Asia U-19, dan performa mereka.\n",
    "\n",
    "Topik 10: Topik kesepuluh mencakup kemenangan Timnas U-23 Indonesia dan performa impresif mereka di pertandingan."
   ]
  }
 ],
 "metadata": {
  "kernelspec": {
   "display_name": "base",
   "language": "python",
   "name": "python3"
  },
  "language_info": {
   "codemirror_mode": {
    "name": "ipython",
    "version": 3
   },
   "file_extension": ".py",
   "mimetype": "text/x-python",
   "name": "python",
   "nbconvert_exporter": "python",
   "pygments_lexer": "ipython3",
   "version": "3.9.0"
  }
 },
 "nbformat": 4,
 "nbformat_minor": 2
}
