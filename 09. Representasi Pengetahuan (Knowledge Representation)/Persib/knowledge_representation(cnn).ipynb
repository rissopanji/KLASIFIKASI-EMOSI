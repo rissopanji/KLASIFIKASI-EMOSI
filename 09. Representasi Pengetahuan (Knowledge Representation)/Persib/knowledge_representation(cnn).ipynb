{
 "cells": [
  {
   "cell_type": "markdown",
   "metadata": {},
   "source": [
    "## **09. Representasi Pengetahuan (Knowledge Representation)**\n",
    "\n",
    "---\n"
   ]
  },
  {
   "cell_type": "code",
   "execution_count": 3,
   "metadata": {},
   "outputs": [],
   "source": [
    "import pandas as pd\n",
    "import matplotlib.pyplot as plt\n",
    "import seaborn as sns"
   ]
  },
  {
   "cell_type": "code",
   "execution_count": 4,
   "metadata": {},
   "outputs": [
    {
     "ename": "FileNotFoundError",
     "evalue": "[Errno 2] No such file or directory: 'hasil_prediksi(cnn).csv'",
     "output_type": "error",
     "traceback": [
      "\u001b[1;31m---------------------------------------------------------------------------\u001b[0m",
      "\u001b[1;31mFileNotFoundError\u001b[0m                         Traceback (most recent call last)",
      "Cell \u001b[1;32mIn[4], line 1\u001b[0m\n\u001b[1;32m----> 1\u001b[0m data_testing \u001b[38;5;241m=\u001b[39m \u001b[43mpd\u001b[49m\u001b[38;5;241;43m.\u001b[39;49m\u001b[43mread_csv\u001b[49m\u001b[43m(\u001b[49m\u001b[38;5;124;43m'\u001b[39;49m\u001b[38;5;124;43mhasil_prediksi(cnn).csv\u001b[39;49m\u001b[38;5;124;43m'\u001b[39;49m\u001b[43m)\u001b[49m\n",
      "File \u001b[1;32mc:\\Users\\TEMP\\miniconda3\\envs\\skripsi\\Lib\\site-packages\\pandas\\io\\parsers\\readers.py:1026\u001b[0m, in \u001b[0;36mread_csv\u001b[1;34m(filepath_or_buffer, sep, delimiter, header, names, index_col, usecols, dtype, engine, converters, true_values, false_values, skipinitialspace, skiprows, skipfooter, nrows, na_values, keep_default_na, na_filter, verbose, skip_blank_lines, parse_dates, infer_datetime_format, keep_date_col, date_parser, date_format, dayfirst, cache_dates, iterator, chunksize, compression, thousands, decimal, lineterminator, quotechar, quoting, doublequote, escapechar, comment, encoding, encoding_errors, dialect, on_bad_lines, delim_whitespace, low_memory, memory_map, float_precision, storage_options, dtype_backend)\u001b[0m\n\u001b[0;32m   1013\u001b[0m kwds_defaults \u001b[38;5;241m=\u001b[39m _refine_defaults_read(\n\u001b[0;32m   1014\u001b[0m     dialect,\n\u001b[0;32m   1015\u001b[0m     delimiter,\n\u001b[1;32m   (...)\u001b[0m\n\u001b[0;32m   1022\u001b[0m     dtype_backend\u001b[38;5;241m=\u001b[39mdtype_backend,\n\u001b[0;32m   1023\u001b[0m )\n\u001b[0;32m   1024\u001b[0m kwds\u001b[38;5;241m.\u001b[39mupdate(kwds_defaults)\n\u001b[1;32m-> 1026\u001b[0m \u001b[38;5;28;01mreturn\u001b[39;00m \u001b[43m_read\u001b[49m\u001b[43m(\u001b[49m\u001b[43mfilepath_or_buffer\u001b[49m\u001b[43m,\u001b[49m\u001b[43m \u001b[49m\u001b[43mkwds\u001b[49m\u001b[43m)\u001b[49m\n",
      "File \u001b[1;32mc:\\Users\\TEMP\\miniconda3\\envs\\skripsi\\Lib\\site-packages\\pandas\\io\\parsers\\readers.py:620\u001b[0m, in \u001b[0;36m_read\u001b[1;34m(filepath_or_buffer, kwds)\u001b[0m\n\u001b[0;32m    617\u001b[0m _validate_names(kwds\u001b[38;5;241m.\u001b[39mget(\u001b[38;5;124m\"\u001b[39m\u001b[38;5;124mnames\u001b[39m\u001b[38;5;124m\"\u001b[39m, \u001b[38;5;28;01mNone\u001b[39;00m))\n\u001b[0;32m    619\u001b[0m \u001b[38;5;66;03m# Create the parser.\u001b[39;00m\n\u001b[1;32m--> 620\u001b[0m parser \u001b[38;5;241m=\u001b[39m \u001b[43mTextFileReader\u001b[49m\u001b[43m(\u001b[49m\u001b[43mfilepath_or_buffer\u001b[49m\u001b[43m,\u001b[49m\u001b[43m \u001b[49m\u001b[38;5;241;43m*\u001b[39;49m\u001b[38;5;241;43m*\u001b[39;49m\u001b[43mkwds\u001b[49m\u001b[43m)\u001b[49m\n\u001b[0;32m    622\u001b[0m \u001b[38;5;28;01mif\u001b[39;00m chunksize \u001b[38;5;129;01mor\u001b[39;00m iterator:\n\u001b[0;32m    623\u001b[0m     \u001b[38;5;28;01mreturn\u001b[39;00m parser\n",
      "File \u001b[1;32mc:\\Users\\TEMP\\miniconda3\\envs\\skripsi\\Lib\\site-packages\\pandas\\io\\parsers\\readers.py:1620\u001b[0m, in \u001b[0;36mTextFileReader.__init__\u001b[1;34m(self, f, engine, **kwds)\u001b[0m\n\u001b[0;32m   1617\u001b[0m     \u001b[38;5;28mself\u001b[39m\u001b[38;5;241m.\u001b[39moptions[\u001b[38;5;124m\"\u001b[39m\u001b[38;5;124mhas_index_names\u001b[39m\u001b[38;5;124m\"\u001b[39m] \u001b[38;5;241m=\u001b[39m kwds[\u001b[38;5;124m\"\u001b[39m\u001b[38;5;124mhas_index_names\u001b[39m\u001b[38;5;124m\"\u001b[39m]\n\u001b[0;32m   1619\u001b[0m \u001b[38;5;28mself\u001b[39m\u001b[38;5;241m.\u001b[39mhandles: IOHandles \u001b[38;5;241m|\u001b[39m \u001b[38;5;28;01mNone\u001b[39;00m \u001b[38;5;241m=\u001b[39m \u001b[38;5;28;01mNone\u001b[39;00m\n\u001b[1;32m-> 1620\u001b[0m \u001b[38;5;28mself\u001b[39m\u001b[38;5;241m.\u001b[39m_engine \u001b[38;5;241m=\u001b[39m \u001b[38;5;28;43mself\u001b[39;49m\u001b[38;5;241;43m.\u001b[39;49m\u001b[43m_make_engine\u001b[49m\u001b[43m(\u001b[49m\u001b[43mf\u001b[49m\u001b[43m,\u001b[49m\u001b[43m \u001b[49m\u001b[38;5;28;43mself\u001b[39;49m\u001b[38;5;241;43m.\u001b[39;49m\u001b[43mengine\u001b[49m\u001b[43m)\u001b[49m\n",
      "File \u001b[1;32mc:\\Users\\TEMP\\miniconda3\\envs\\skripsi\\Lib\\site-packages\\pandas\\io\\parsers\\readers.py:1880\u001b[0m, in \u001b[0;36mTextFileReader._make_engine\u001b[1;34m(self, f, engine)\u001b[0m\n\u001b[0;32m   1878\u001b[0m     \u001b[38;5;28;01mif\u001b[39;00m \u001b[38;5;124m\"\u001b[39m\u001b[38;5;124mb\u001b[39m\u001b[38;5;124m\"\u001b[39m \u001b[38;5;129;01mnot\u001b[39;00m \u001b[38;5;129;01min\u001b[39;00m mode:\n\u001b[0;32m   1879\u001b[0m         mode \u001b[38;5;241m+\u001b[39m\u001b[38;5;241m=\u001b[39m \u001b[38;5;124m\"\u001b[39m\u001b[38;5;124mb\u001b[39m\u001b[38;5;124m\"\u001b[39m\n\u001b[1;32m-> 1880\u001b[0m \u001b[38;5;28mself\u001b[39m\u001b[38;5;241m.\u001b[39mhandles \u001b[38;5;241m=\u001b[39m \u001b[43mget_handle\u001b[49m\u001b[43m(\u001b[49m\n\u001b[0;32m   1881\u001b[0m \u001b[43m    \u001b[49m\u001b[43mf\u001b[49m\u001b[43m,\u001b[49m\n\u001b[0;32m   1882\u001b[0m \u001b[43m    \u001b[49m\u001b[43mmode\u001b[49m\u001b[43m,\u001b[49m\n\u001b[0;32m   1883\u001b[0m \u001b[43m    \u001b[49m\u001b[43mencoding\u001b[49m\u001b[38;5;241;43m=\u001b[39;49m\u001b[38;5;28;43mself\u001b[39;49m\u001b[38;5;241;43m.\u001b[39;49m\u001b[43moptions\u001b[49m\u001b[38;5;241;43m.\u001b[39;49m\u001b[43mget\u001b[49m\u001b[43m(\u001b[49m\u001b[38;5;124;43m\"\u001b[39;49m\u001b[38;5;124;43mencoding\u001b[39;49m\u001b[38;5;124;43m\"\u001b[39;49m\u001b[43m,\u001b[49m\u001b[43m \u001b[49m\u001b[38;5;28;43;01mNone\u001b[39;49;00m\u001b[43m)\u001b[49m\u001b[43m,\u001b[49m\n\u001b[0;32m   1884\u001b[0m \u001b[43m    \u001b[49m\u001b[43mcompression\u001b[49m\u001b[38;5;241;43m=\u001b[39;49m\u001b[38;5;28;43mself\u001b[39;49m\u001b[38;5;241;43m.\u001b[39;49m\u001b[43moptions\u001b[49m\u001b[38;5;241;43m.\u001b[39;49m\u001b[43mget\u001b[49m\u001b[43m(\u001b[49m\u001b[38;5;124;43m\"\u001b[39;49m\u001b[38;5;124;43mcompression\u001b[39;49m\u001b[38;5;124;43m\"\u001b[39;49m\u001b[43m,\u001b[49m\u001b[43m \u001b[49m\u001b[38;5;28;43;01mNone\u001b[39;49;00m\u001b[43m)\u001b[49m\u001b[43m,\u001b[49m\n\u001b[0;32m   1885\u001b[0m \u001b[43m    \u001b[49m\u001b[43mmemory_map\u001b[49m\u001b[38;5;241;43m=\u001b[39;49m\u001b[38;5;28;43mself\u001b[39;49m\u001b[38;5;241;43m.\u001b[39;49m\u001b[43moptions\u001b[49m\u001b[38;5;241;43m.\u001b[39;49m\u001b[43mget\u001b[49m\u001b[43m(\u001b[49m\u001b[38;5;124;43m\"\u001b[39;49m\u001b[38;5;124;43mmemory_map\u001b[39;49m\u001b[38;5;124;43m\"\u001b[39;49m\u001b[43m,\u001b[49m\u001b[43m \u001b[49m\u001b[38;5;28;43;01mFalse\u001b[39;49;00m\u001b[43m)\u001b[49m\u001b[43m,\u001b[49m\n\u001b[0;32m   1886\u001b[0m \u001b[43m    \u001b[49m\u001b[43mis_text\u001b[49m\u001b[38;5;241;43m=\u001b[39;49m\u001b[43mis_text\u001b[49m\u001b[43m,\u001b[49m\n\u001b[0;32m   1887\u001b[0m \u001b[43m    \u001b[49m\u001b[43merrors\u001b[49m\u001b[38;5;241;43m=\u001b[39;49m\u001b[38;5;28;43mself\u001b[39;49m\u001b[38;5;241;43m.\u001b[39;49m\u001b[43moptions\u001b[49m\u001b[38;5;241;43m.\u001b[39;49m\u001b[43mget\u001b[49m\u001b[43m(\u001b[49m\u001b[38;5;124;43m\"\u001b[39;49m\u001b[38;5;124;43mencoding_errors\u001b[39;49m\u001b[38;5;124;43m\"\u001b[39;49m\u001b[43m,\u001b[49m\u001b[43m \u001b[49m\u001b[38;5;124;43m\"\u001b[39;49m\u001b[38;5;124;43mstrict\u001b[39;49m\u001b[38;5;124;43m\"\u001b[39;49m\u001b[43m)\u001b[49m\u001b[43m,\u001b[49m\n\u001b[0;32m   1888\u001b[0m \u001b[43m    \u001b[49m\u001b[43mstorage_options\u001b[49m\u001b[38;5;241;43m=\u001b[39;49m\u001b[38;5;28;43mself\u001b[39;49m\u001b[38;5;241;43m.\u001b[39;49m\u001b[43moptions\u001b[49m\u001b[38;5;241;43m.\u001b[39;49m\u001b[43mget\u001b[49m\u001b[43m(\u001b[49m\u001b[38;5;124;43m\"\u001b[39;49m\u001b[38;5;124;43mstorage_options\u001b[39;49m\u001b[38;5;124;43m\"\u001b[39;49m\u001b[43m,\u001b[49m\u001b[43m \u001b[49m\u001b[38;5;28;43;01mNone\u001b[39;49;00m\u001b[43m)\u001b[49m\u001b[43m,\u001b[49m\n\u001b[0;32m   1889\u001b[0m \u001b[43m\u001b[49m\u001b[43m)\u001b[49m\n\u001b[0;32m   1890\u001b[0m \u001b[38;5;28;01massert\u001b[39;00m \u001b[38;5;28mself\u001b[39m\u001b[38;5;241m.\u001b[39mhandles \u001b[38;5;129;01mis\u001b[39;00m \u001b[38;5;129;01mnot\u001b[39;00m \u001b[38;5;28;01mNone\u001b[39;00m\n\u001b[0;32m   1891\u001b[0m f \u001b[38;5;241m=\u001b[39m \u001b[38;5;28mself\u001b[39m\u001b[38;5;241m.\u001b[39mhandles\u001b[38;5;241m.\u001b[39mhandle\n",
      "File \u001b[1;32mc:\\Users\\TEMP\\miniconda3\\envs\\skripsi\\Lib\\site-packages\\pandas\\io\\common.py:873\u001b[0m, in \u001b[0;36mget_handle\u001b[1;34m(path_or_buf, mode, encoding, compression, memory_map, is_text, errors, storage_options)\u001b[0m\n\u001b[0;32m    868\u001b[0m \u001b[38;5;28;01melif\u001b[39;00m \u001b[38;5;28misinstance\u001b[39m(handle, \u001b[38;5;28mstr\u001b[39m):\n\u001b[0;32m    869\u001b[0m     \u001b[38;5;66;03m# Check whether the filename is to be opened in binary mode.\u001b[39;00m\n\u001b[0;32m    870\u001b[0m     \u001b[38;5;66;03m# Binary mode does not support 'encoding' and 'newline'.\u001b[39;00m\n\u001b[0;32m    871\u001b[0m     \u001b[38;5;28;01mif\u001b[39;00m ioargs\u001b[38;5;241m.\u001b[39mencoding \u001b[38;5;129;01mand\u001b[39;00m \u001b[38;5;124m\"\u001b[39m\u001b[38;5;124mb\u001b[39m\u001b[38;5;124m\"\u001b[39m \u001b[38;5;129;01mnot\u001b[39;00m \u001b[38;5;129;01min\u001b[39;00m ioargs\u001b[38;5;241m.\u001b[39mmode:\n\u001b[0;32m    872\u001b[0m         \u001b[38;5;66;03m# Encoding\u001b[39;00m\n\u001b[1;32m--> 873\u001b[0m         handle \u001b[38;5;241m=\u001b[39m \u001b[38;5;28;43mopen\u001b[39;49m\u001b[43m(\u001b[49m\n\u001b[0;32m    874\u001b[0m \u001b[43m            \u001b[49m\u001b[43mhandle\u001b[49m\u001b[43m,\u001b[49m\n\u001b[0;32m    875\u001b[0m \u001b[43m            \u001b[49m\u001b[43mioargs\u001b[49m\u001b[38;5;241;43m.\u001b[39;49m\u001b[43mmode\u001b[49m\u001b[43m,\u001b[49m\n\u001b[0;32m    876\u001b[0m \u001b[43m            \u001b[49m\u001b[43mencoding\u001b[49m\u001b[38;5;241;43m=\u001b[39;49m\u001b[43mioargs\u001b[49m\u001b[38;5;241;43m.\u001b[39;49m\u001b[43mencoding\u001b[49m\u001b[43m,\u001b[49m\n\u001b[0;32m    877\u001b[0m \u001b[43m            \u001b[49m\u001b[43merrors\u001b[49m\u001b[38;5;241;43m=\u001b[39;49m\u001b[43merrors\u001b[49m\u001b[43m,\u001b[49m\n\u001b[0;32m    878\u001b[0m \u001b[43m            \u001b[49m\u001b[43mnewline\u001b[49m\u001b[38;5;241;43m=\u001b[39;49m\u001b[38;5;124;43m\"\u001b[39;49m\u001b[38;5;124;43m\"\u001b[39;49m\u001b[43m,\u001b[49m\n\u001b[0;32m    879\u001b[0m \u001b[43m        \u001b[49m\u001b[43m)\u001b[49m\n\u001b[0;32m    880\u001b[0m     \u001b[38;5;28;01melse\u001b[39;00m:\n\u001b[0;32m    881\u001b[0m         \u001b[38;5;66;03m# Binary mode\u001b[39;00m\n\u001b[0;32m    882\u001b[0m         handle \u001b[38;5;241m=\u001b[39m \u001b[38;5;28mopen\u001b[39m(handle, ioargs\u001b[38;5;241m.\u001b[39mmode)\n",
      "\u001b[1;31mFileNotFoundError\u001b[0m: [Errno 2] No such file or directory: 'hasil_prediksi(cnn).csv'"
     ]
    }
   ],
   "source": [
    "data_testing = pd.read_csv('hasil_prediksi(cnn).csv')"
   ]
  },
  {
   "cell_type": "code",
   "execution_count": null,
   "metadata": {},
   "outputs": [
    {
     "name": "stdout",
     "output_type": "stream",
     "text": [
      "count    1880.000000\n",
      "mean       18.262766\n",
      "std        11.283473\n",
      "min         2.000000\n",
      "25%        10.000000\n",
      "50%        15.000000\n",
      "75%        25.000000\n",
      "max        54.000000\n",
      "Name: full_text, dtype: float64\n"
     ]
    }
   ],
   "source": [
    "#eda dari data_testing jumlah kosa kata dan kata terpanjang pada full_text\n",
    "print(data_testing['full_text'].str.split().apply(len).describe())\n",
    "\n"
   ]
  },
  {
   "cell_type": "code",
   "execution_count": null,
   "metadata": {},
   "outputs": [
    {
     "data": {
      "text/plain": [
       "Index(['username', 'full_text', 'topic', 'predicted_label',\n",
       "       'probability_emotion'],\n",
       "      dtype='object')"
      ]
     },
     "execution_count": 206,
     "metadata": {},
     "output_type": "execute_result"
    }
   ],
   "source": [
    "#tampilkan atribut yang ada di data\n",
    "data_testing.columns"
   ]
  },
  {
   "cell_type": "code",
   "execution_count": null,
   "metadata": {},
   "outputs": [],
   "source": [
    "#ubah nama atribut topic_cluster menjadi topic\n",
    "data_testing.rename(columns={'topic_cluster':'topic'}, inplace=True)\n",
    "\n",
    "#tambahkan atribut probability = 0\n",
    "data_testing['probability'] = 0\n",
    "\n",
    "#tambahkan atribut konteks dengan 0\n",
    "data_testing['context'] = 0\n"
   ]
  },
  {
   "cell_type": "code",
   "execution_count": null,
   "metadata": {},
   "outputs": [
    {
     "data": {
      "text/html": [
       "<div>\n",
       "<style scoped>\n",
       "    .dataframe tbody tr th:only-of-type {\n",
       "        vertical-align: middle;\n",
       "    }\n",
       "\n",
       "    .dataframe tbody tr th {\n",
       "        vertical-align: top;\n",
       "    }\n",
       "\n",
       "    .dataframe thead th {\n",
       "        text-align: right;\n",
       "    }\n",
       "</style>\n",
       "<table border=\"1\" class=\"dataframe\">\n",
       "  <thead>\n",
       "    <tr style=\"text-align: right;\">\n",
       "      <th></th>\n",
       "      <th>username</th>\n",
       "      <th>full_text</th>\n",
       "      <th>topic</th>\n",
       "      <th>predicted_label</th>\n",
       "      <th>probability_emotion</th>\n",
       "    </tr>\n",
       "  </thead>\n",
       "  <tbody>\n",
       "    <tr>\n",
       "      <th>0</th>\n",
       "      <td>tigapuluhtigax</td>\n",
       "      <td>TIMNAS PRIA DAN WANITA MENANG + ERIK TEN HAG STAY</td>\n",
       "      <td>1</td>\n",
       "      <td>Love</td>\n",
       "      <td>0.356783</td>\n",
       "    </tr>\n",
       "    <tr>\n",
       "      <th>1</th>\n",
       "      <td>sotongism</td>\n",
       "      <td>ngerasa ga sih sekarang timnas kalo main pakek jersey putih tuh aura menangnya naik drastis beda sama dulu kalo main pakek jersey putih nih pesimis duluan #TimnasDay</td>\n",
       "      <td>3</td>\n",
       "      <td>Anger</td>\n",
       "      <td>0.398854</td>\n",
       "    </tr>\n",
       "    <tr>\n",
       "      <th>2</th>\n",
       "      <td>peanutkacang123</td>\n",
       "      <td>2 Sejarah Dicetak Timnas Indonesia Usai Ganyang Filipina STY Pelatih Pemecah Rekor. #TimNasDay https://t.co/nLxTrlEYx5.</td>\n",
       "      <td>3</td>\n",
       "      <td>Joy</td>\n",
       "      <td>0.429124</td>\n",
       "    </tr>\n",
       "    <tr>\n",
       "      <th>3</th>\n",
       "      <td>PKananku1927</td>\n",
       "      <td>@womensfootie_id Tinggal tmbah pemain diaspora bisa lah ini timnas putri bersaing di Asia</td>\n",
       "      <td>1</td>\n",
       "      <td>Anger</td>\n",
       "      <td>0.244084</td>\n",
       "    </tr>\n",
       "    <tr>\n",
       "      <th>4</th>\n",
       "      <td>kangsil2012</td>\n",
       "      <td>Timnas Indonesia Vs Timnas Filipina 2-0 Indonesia Lolos ke Putaran Ketiga Kuaifikasi Piala Dunia 2026 https://t.co/if6QFIOQdd #sepakbola #IndonesiaFilipina #kualifikasipialadunia #TimnasIndonesia #TimnasFilipina #pssi</td>\n",
       "      <td>2</td>\n",
       "      <td>Joy</td>\n",
       "      <td>0.595000</td>\n",
       "    </tr>\n",
       "    <tr>\n",
       "      <th>5</th>\n",
       "      <td>refnotrev</td>\n",
       "      <td>@amayzing__ @idextratime antara lu fomo timnas atau emang kaga ngerti sistem pot</td>\n",
       "      <td>8</td>\n",
       "      <td>Anger</td>\n",
       "      <td>0.241570</td>\n",
       "    </tr>\n",
       "    <tr>\n",
       "      <th>6</th>\n",
       "      <td>KimJongUncchhhh</td>\n",
       "      <td>@fahmiiiiii14 @idextratime Beliau ini literally mantan pemain timnas yg beneran orang bola. Lah yg duduk di vip malah artis2 ga jelas. Kesannya kek habis manis sepah dibuang njir</td>\n",
       "      <td>3</td>\n",
       "      <td>Sad</td>\n",
       "      <td>0.335323</td>\n",
       "    </tr>\n",
       "    <tr>\n",
       "      <th>7</th>\n",
       "      <td>joyszeamays</td>\n",
       "      <td>Ternyata jodohnya sama Indo-Philiphine bukan Indo-Irak. Bonus liat perjuangan timnas lolos ke putaran ketiga : )</td>\n",
       "      <td>2</td>\n",
       "      <td>Love</td>\n",
       "      <td>0.305790</td>\n",
       "    </tr>\n",
       "    <tr>\n",
       "      <th>8</th>\n",
       "      <td>DenSombedt</td>\n",
       "      <td>@StatsRawon Kyok e Malik Rivera ambek glison Costa soale Malik wes mari teko timnas Kari Poto ambk gwe vidio</td>\n",
       "      <td>3</td>\n",
       "      <td>Joy</td>\n",
       "      <td>0.377967</td>\n",
       "    </tr>\n",
       "    <tr>\n",
       "      <th>9</th>\n",
       "      <td>ilyasaihza_</td>\n",
       "      <td>Sareneng kitu timnas menang? Abi mah bodo amat</td>\n",
       "      <td>4</td>\n",
       "      <td>Sad</td>\n",
       "      <td>0.292859</td>\n",
       "    </tr>\n",
       "  </tbody>\n",
       "</table>\n",
       "</div>"
      ],
      "text/plain": [
       "          username  \\\n",
       "0   tigapuluhtigax   \n",
       "1        sotongism   \n",
       "2  peanutkacang123   \n",
       "3     PKananku1927   \n",
       "4      kangsil2012   \n",
       "5        refnotrev   \n",
       "6  KimJongUncchhhh   \n",
       "7      joyszeamays   \n",
       "8       DenSombedt   \n",
       "9      ilyasaihza_   \n",
       "\n",
       "                                                                                                                                                                                                                   full_text  \\\n",
       "0                                                                                                                                                                          TIMNAS PRIA DAN WANITA MENANG + ERIK TEN HAG STAY   \n",
       "1                                                      ngerasa ga sih sekarang timnas kalo main pakek jersey putih tuh aura menangnya naik drastis beda sama dulu kalo main pakek jersey putih nih pesimis duluan #TimnasDay   \n",
       "2                                                                                                    2 Sejarah Dicetak Timnas Indonesia Usai Ganyang Filipina STY Pelatih Pemecah Rekor. #TimNasDay https://t.co/nLxTrlEYx5.   \n",
       "3                                                                                                                                 @womensfootie_id Tinggal tmbah pemain diaspora bisa lah ini timnas putri bersaing di Asia    \n",
       "4  Timnas Indonesia Vs Timnas Filipina 2-0 Indonesia Lolos ke Putaran Ketiga Kuaifikasi Piala Dunia 2026 https://t.co/if6QFIOQdd #sepakbola #IndonesiaFilipina #kualifikasipialadunia #TimnasIndonesia #TimnasFilipina #pssi   \n",
       "5                                                                                                                                           @amayzing__ @idextratime antara lu fomo timnas atau emang kaga ngerti sistem pot   \n",
       "6                                         @fahmiiiiii14 @idextratime Beliau ini literally mantan pemain timnas yg beneran orang bola. Lah yg duduk di vip malah artis2 ga jelas. Kesannya kek habis manis sepah dibuang njir   \n",
       "7                                                                                                           Ternyata jodohnya sama Indo-Philiphine bukan Indo-Irak. Bonus liat perjuangan timnas lolos ke putaran ketiga : )   \n",
       "8                                                                                                               @StatsRawon Kyok e Malik Rivera ambek glison Costa soale Malik wes mari teko timnas Kari Poto ambk gwe vidio   \n",
       "9                                                                                                                                                                             Sareneng kitu timnas menang? Abi mah bodo amat   \n",
       "\n",
       "   topic predicted_label  probability_emotion  \n",
       "0      1            Love             0.356783  \n",
       "1      3           Anger             0.398854  \n",
       "2      3             Joy             0.429124  \n",
       "3      1           Anger             0.244084  \n",
       "4      2             Joy             0.595000  \n",
       "5      8           Anger             0.241570  \n",
       "6      3             Sad             0.335323  \n",
       "7      2            Love             0.305790  \n",
       "8      3             Joy             0.377967  \n",
       "9      4             Sad             0.292859  "
      ]
     },
     "execution_count": 208,
     "metadata": {},
     "output_type": "execute_result"
    }
   ],
   "source": [
    "#tampilkan hanya kolom full_text, topic_cluster, emotion dan username\n",
    "merged_df = data_testing[['username','full_text','topic', 'predicted_label', 'probability_emotion']]\n",
    "\n",
    "merged_df.head(10)"
   ]
  },
  {
   "cell_type": "code",
   "execution_count": null,
   "metadata": {},
   "outputs": [
    {
     "name": "stdout",
     "output_type": "stream",
     "text": [
      "username               0\n",
      "full_text              0\n",
      "topic                  0\n",
      "predicted_label        0\n",
      "probability_emotion    0\n",
      "dtype: int64\n"
     ]
    }
   ],
   "source": [
    "jumlah_nan = merged_df.isna().sum()\n",
    "\n",
    "print(jumlah_nan)"
   ]
  },
  {
   "cell_type": "code",
   "execution_count": null,
   "metadata": {},
   "outputs": [
    {
     "data": {
      "text/plain": [
       "predicted_label\n",
       "Joy        834\n",
       "Anger      353\n",
       "Love       318\n",
       "Neutral    228\n",
       "Sad        128\n",
       "Fear        19\n",
       "Name: count, dtype: int64"
      ]
     },
     "execution_count": 210,
     "metadata": {},
     "output_type": "execute_result"
    }
   ],
   "source": [
    "#count emotion\n",
    "emotion_count = merged_df['predicted_label'].value_counts()\n",
    "emotion_count"
   ]
  },
  {
   "cell_type": "markdown",
   "metadata": {},
   "source": [
    "## Knowledge"
   ]
  },
  {
   "cell_type": "markdown",
   "metadata": {},
   "source": [
    "### Per-Topic"
   ]
  },
  {
   "cell_type": "code",
   "execution_count": null,
   "metadata": {},
   "outputs": [
    {
     "data": {
      "text/html": [
       "<div>\n",
       "<style scoped>\n",
       "    .dataframe tbody tr th:only-of-type {\n",
       "        vertical-align: middle;\n",
       "    }\n",
       "\n",
       "    .dataframe tbody tr th {\n",
       "        vertical-align: top;\n",
       "    }\n",
       "\n",
       "    .dataframe thead th {\n",
       "        text-align: right;\n",
       "    }\n",
       "</style>\n",
       "<table border=\"1\" class=\"dataframe\">\n",
       "  <thead>\n",
       "    <tr style=\"text-align: right;\">\n",
       "      <th></th>\n",
       "      <th>topic</th>\n",
       "      <th>count</th>\n",
       "    </tr>\n",
       "  </thead>\n",
       "  <tbody>\n",
       "    <tr>\n",
       "      <th>0</th>\n",
       "      <td>3</td>\n",
       "      <td>351</td>\n",
       "    </tr>\n",
       "    <tr>\n",
       "      <th>1</th>\n",
       "      <td>0</td>\n",
       "      <td>335</td>\n",
       "    </tr>\n",
       "    <tr>\n",
       "      <th>2</th>\n",
       "      <td>1</td>\n",
       "      <td>292</td>\n",
       "    </tr>\n",
       "    <tr>\n",
       "      <th>3</th>\n",
       "      <td>2</td>\n",
       "      <td>264</td>\n",
       "    </tr>\n",
       "    <tr>\n",
       "      <th>4</th>\n",
       "      <td>4</td>\n",
       "      <td>243</td>\n",
       "    </tr>\n",
       "    <tr>\n",
       "      <th>5</th>\n",
       "      <td>5</td>\n",
       "      <td>157</td>\n",
       "    </tr>\n",
       "    <tr>\n",
       "      <th>6</th>\n",
       "      <td>7</td>\n",
       "      <td>84</td>\n",
       "    </tr>\n",
       "    <tr>\n",
       "      <th>7</th>\n",
       "      <td>8</td>\n",
       "      <td>76</td>\n",
       "    </tr>\n",
       "    <tr>\n",
       "      <th>8</th>\n",
       "      <td>9</td>\n",
       "      <td>54</td>\n",
       "    </tr>\n",
       "    <tr>\n",
       "      <th>9</th>\n",
       "      <td>6</td>\n",
       "      <td>24</td>\n",
       "    </tr>\n",
       "  </tbody>\n",
       "</table>\n",
       "</div>"
      ],
      "text/plain": [
       "   topic  count\n",
       "0      3    351\n",
       "1      0    335\n",
       "2      1    292\n",
       "3      2    264\n",
       "4      4    243\n",
       "5      5    157\n",
       "6      7     84\n",
       "7      8     76\n",
       "8      9     54\n",
       "9      6     24"
      ]
     },
     "execution_count": 211,
     "metadata": {},
     "output_type": "execute_result"
    }
   ],
   "source": [
    "topic_cluster_counts = merged_df['topic'].value_counts().reset_index()\n",
    "topic_cluster_counts"
   ]
  },
  {
   "cell_type": "code",
   "execution_count": null,
   "metadata": {},
   "outputs": [],
   "source": [
    "#tampilkan jenis emosi paling tinggi per topik\n",
    "topic_emotion = merged_df.groupby(['topic','predicted_label']).size().reset_index(name='counts')\n",
    "topic_emotion = topic_emotion.sort_values(by='counts', ascending=False)"
   ]
  },
  {
   "cell_type": "code",
   "execution_count": null,
   "metadata": {},
   "outputs": [
    {
     "data": {
      "text/html": [
       "<div>\n",
       "<style scoped>\n",
       "    .dataframe tbody tr th:only-of-type {\n",
       "        vertical-align: middle;\n",
       "    }\n",
       "\n",
       "    .dataframe tbody tr th {\n",
       "        vertical-align: top;\n",
       "    }\n",
       "\n",
       "    .dataframe thead th {\n",
       "        text-align: right;\n",
       "    }\n",
       "</style>\n",
       "<table border=\"1\" class=\"dataframe\">\n",
       "  <thead>\n",
       "    <tr style=\"text-align: right;\">\n",
       "      <th></th>\n",
       "      <th>predicted_label</th>\n",
       "      <th>count</th>\n",
       "    </tr>\n",
       "  </thead>\n",
       "  <tbody>\n",
       "    <tr>\n",
       "      <th>0</th>\n",
       "      <td>Anger</td>\n",
       "      <td>21</td>\n",
       "    </tr>\n",
       "    <tr>\n",
       "      <th>1</th>\n",
       "      <td>Joy</td>\n",
       "      <td>13</td>\n",
       "    </tr>\n",
       "    <tr>\n",
       "      <th>2</th>\n",
       "      <td>Love</td>\n",
       "      <td>10</td>\n",
       "    </tr>\n",
       "    <tr>\n",
       "      <th>3</th>\n",
       "      <td>Neutral</td>\n",
       "      <td>5</td>\n",
       "    </tr>\n",
       "    <tr>\n",
       "      <th>4</th>\n",
       "      <td>Sad</td>\n",
       "      <td>3</td>\n",
       "    </tr>\n",
       "    <tr>\n",
       "      <th>5</th>\n",
       "      <td>Fear</td>\n",
       "      <td>2</td>\n",
       "    </tr>\n",
       "  </tbody>\n",
       "</table>\n",
       "</div>"
      ],
      "text/plain": [
       "  predicted_label  count\n",
       "0           Anger     21\n",
       "1             Joy     13\n",
       "2            Love     10\n",
       "3         Neutral      5\n",
       "4             Sad      3\n",
       "5            Fear      2"
      ]
     },
     "execution_count": 212,
     "metadata": {},
     "output_type": "execute_result"
    }
   ],
   "source": [
    "topik_ke = 9\n",
    "\n",
    "topic_cluster_0_df = merged_df[merged_df['topic'] == topik_ke]\n",
    "topic_cluster_0_df = topic_cluster_0_df.sort_values(by='predicted_label', ascending=True)\n",
    "\n",
    "count_emotion = topic_cluster_0_df['predicted_label'].value_counts().reset_index()\n",
    "count_emotion"
   ]
  },
  {
   "cell_type": "code",
   "execution_count": null,
   "metadata": {},
   "outputs": [
    {
     "name": "stdout",
     "output_type": "stream",
     "text": [
      "jumlah data yang ada di topic_cluster_0_df =  54\n"
     ]
    }
   ],
   "source": [
    "#jumlah data yang ada di topic_cluster_0_df\n",
    "print('jumlah data yang ada di topic_cluster_0_df = ', len(topic_cluster_0_df))"
   ]
  },
  {
   "cell_type": "code",
   "execution_count": null,
   "metadata": {},
   "outputs": [
    {
     "data": {
      "text/plain": [
       "<Axes: xlabel='predicted_label', ylabel='count'>"
      ]
     },
     "execution_count": 214,
     "metadata": {},
     "output_type": "execute_result"
    },
    {
     "data": {
      "image/png": "[encoded data removed]",
      "text/plain": [
       "<Figure size 640x480 with 1 Axes>"
      ]
     },
     "metadata": {},
     "output_type": "display_data"
    }
   ],
   "source": [
    "sns.barplot(x='predicted_label', y='count', data=count_emotion)\n"
   ]
  },
  {
   "cell_type": "code",
   "execution_count": null,
   "metadata": {},
   "outputs": [
    {
     "data": {
      "text/html": [
       "<div>\n",
       "<style scoped>\n",
       "    .dataframe tbody tr th:only-of-type {\n",
       "        vertical-align: middle;\n",
       "    }\n",
       "\n",
       "    .dataframe tbody tr th {\n",
       "        vertical-align: top;\n",
       "    }\n",
       "\n",
       "    .dataframe thead th {\n",
       "        text-align: right;\n",
       "    }\n",
       "</style>\n",
       "<table border=\"1\" class=\"dataframe\">\n",
       "  <thead>\n",
       "    <tr style=\"text-align: right;\">\n",
       "      <th></th>\n",
       "      <th>username</th>\n",
       "      <th>full_text</th>\n",
       "      <th>topic</th>\n",
       "      <th>predicted_label</th>\n",
       "      <th>probability_emotion</th>\n",
       "    </tr>\n",
       "  </thead>\n",
       "  <tbody>\n",
       "    <tr>\n",
       "      <th>820</th>\n",
       "      <td>melbbound</td>\n",
       "      <td>calvin verdonk ini gokil banget dia cepet adaptasi. hafal lagu indonesia raya sampe menitihkan air mata dan mainnya klop bangettt #TimnasDay https://t.co/4R6boJ6VIr</td>\n",
       "      <td>9</td>\n",
       "      <td>Sad</td>\n",
       "      <td>0.255952</td>\n",
       "    </tr>\n",
       "    <tr>\n",
       "      <th>996</th>\n",
       "      <td>mynameisrichie_</td>\n",
       "      <td>@vickotwitt @MDeva909 @DelanRamadoni22 @gilabola_ina Msh aja kotak kotakin pemain naturalisasi &amp;amp; lokal. Toh mereka punya drh Indo dari keluarga. Bahkan rata-rata keluarga besar mrk masih tinggal Indonesia. Terserah Anda ga suka hak Anda balik aja sendiri ke jaman kegelapan Timnas. Gua sebagai anak La grande dukung yg skrng</td>\n",
       "      <td>9</td>\n",
       "      <td>Sad</td>\n",
       "      <td>0.282617</td>\n",
       "    </tr>\n",
       "    <tr>\n",
       "      <th>1279</th>\n",
       "      <td>ekbistangsel</td>\n",
       "      <td>Timnas Indonesia Ke Putaran Ketiga Kualifikasi Piala Dunia 2026 https://t.co/AyS3JH2NhG via @TentangKita.co</td>\n",
       "      <td>9</td>\n",
       "      <td>Sad</td>\n",
       "      <td>0.298106</td>\n",
       "    </tr>\n",
       "    <tr>\n",
       "      <th>814</th>\n",
       "      <td>celleyss</td>\n",
       "      <td>Pahamm kan netijen harus apaa Calvin Verdonk menunggu #TimnasDay https://t.co/aYYgGfv50a</td>\n",
       "      <td>9</td>\n",
       "      <td>Neutral</td>\n",
       "      <td>0.341139</td>\n",
       "    </tr>\n",
       "    <tr>\n",
       "      <th>863</th>\n",
       "      <td>selow_mas</td>\n",
       "      <td>Pakai Foto Rafael Struick dan Nathan Pedagang Aksesoris Banjir Cuan Jualan di GBK #TimNasDay https://t.co/ABxS5c2GqI</td>\n",
       "      <td>9</td>\n",
       "      <td>Neutral</td>\n",
       "      <td>0.393567</td>\n",
       "    </tr>\n",
       "    <tr>\n",
       "      <th>41</th>\n",
       "      <td>akankulepas</td>\n",
       "      <td>@muhfirda__ @idextratime @erickthohir Ian Maatsen bukannya dipanggil timnas Belanda ya? Gara gara De Jong dicoret</td>\n",
       "      <td>9</td>\n",
       "      <td>Neutral</td>\n",
       "      <td>0.285991</td>\n",
       "    </tr>\n",
       "    <tr>\n",
       "      <th>1489</th>\n",
       "      <td>UmarrrYoo</td>\n",
       "      <td>gimana indonesia mau maju kalau pejabatnya begini #timah #babel #kejagungarogan #kejagungoverbody #savebabel #timnasday #300t #ekonomibabel #tni #BUMN #Baktiuntuknegeri #kejagungri https://t.co/AfM3wxpwa6</td>\n",
       "      <td>9</td>\n",
       "      <td>Neutral</td>\n",
       "      <td>0.291190</td>\n",
       "    </tr>\n",
       "    <tr>\n",
       "      <th>1472</th>\n",
       "      <td>akabarfaisall</td>\n",
       "      <td>Info slot gacor hari ini Slot server thailand Garansi kekalahan 100% Situs deposit 10k Event scatter hitam LINK GACOR : https://t.co/DjDQZ0M9Q9 Towel Adrian Jay Idzes Nathan Syifa Verdonk Thailand #TimnasDay FIFA #SLOTPGWALLET #slottergacor #situsgacor https://t.co/rhnhO9RjpB</td>\n",
       "      <td>9</td>\n",
       "      <td>Neutral</td>\n",
       "      <td>0.277849</td>\n",
       "    </tr>\n",
       "    <tr>\n",
       "      <th>416</th>\n",
       "      <td>okezonenews</td>\n",
       "      <td>Timnas Indonesia Hantam Filipina 2-0 Shin Tae-yong Puas dengan Debut Calvin Verdonk https://t.co/Is41EPg8P0</td>\n",
       "      <td>9</td>\n",
       "      <td>Love</td>\n",
       "      <td>0.293711</td>\n",
       "    </tr>\n",
       "    <tr>\n",
       "      <th>1815</th>\n",
       "      <td>dhxx_w</td>\n",
       "      <td>Selain jago masak ternyata loopy jago main bola juga #TimNasDay #calvinverdonk #indonesiavsphilippines https://t.co/9WKXD6pGzA</td>\n",
       "      <td>9</td>\n",
       "      <td>Love</td>\n",
       "      <td>0.205608</td>\n",
       "    </tr>\n",
       "  </tbody>\n",
       "</table>\n",
       "</div>"
      ],
      "text/plain": [
       "             username  \\\n",
       "820         melbbound   \n",
       "996   mynameisrichie_   \n",
       "1279     ekbistangsel   \n",
       "814          celleyss   \n",
       "863         selow_mas   \n",
       "41        akankulepas   \n",
       "1489        UmarrrYoo   \n",
       "1472    akabarfaisall   \n",
       "416       okezonenews   \n",
       "1815           dhxx_w   \n",
       "\n",
       "                                                                                                                                                                                                                                                                                                                                     full_text  \\\n",
       "820                                                                                                                                                                       calvin verdonk ini gokil banget dia cepet adaptasi. hafal lagu indonesia raya sampe menitihkan air mata dan mainnya klop bangettt #TimnasDay https://t.co/4R6boJ6VIr   \n",
       "996   @vickotwitt @MDeva909 @DelanRamadoni22 @gilabola_ina Msh aja kotak kotakin pemain naturalisasi &amp; lokal. Toh mereka punya drh Indo dari keluarga. Bahkan rata-rata keluarga besar mrk masih tinggal Indonesia. Terserah Anda ga suka hak Anda balik aja sendiri ke jaman kegelapan Timnas. Gua sebagai anak La grande dukung yg skrng   \n",
       "1279                                                                                                                                                                                                                               Timnas Indonesia Ke Putaran Ketiga Kualifikasi Piala Dunia 2026 https://t.co/AyS3JH2NhG via @TentangKita.co   \n",
       "814                                                                                                                                                                                                                                                   Pahamm kan netijen harus apaa Calvin Verdonk menunggu #TimnasDay https://t.co/aYYgGfv50a   \n",
       "863                                                                                                                                                                                                                       Pakai Foto Rafael Struick dan Nathan Pedagang Aksesoris Banjir Cuan Jualan di GBK #TimNasDay https://t.co/ABxS5c2GqI   \n",
       "41                                                                                                                                                                                                                           @muhfirda__ @idextratime @erickthohir Ian Maatsen bukannya dipanggil timnas Belanda ya? Gara gara De Jong dicoret   \n",
       "1489                                                                                                                              gimana indonesia mau maju kalau pejabatnya begini #timah #babel #kejagungarogan #kejagungoverbody #savebabel #timnasday #300t #ekonomibabel #tni #BUMN #Baktiuntuknegeri #kejagungri https://t.co/AfM3wxpwa6   \n",
       "1472                                                      Info slot gacor hari ini Slot server thailand Garansi kekalahan 100% Situs deposit 10k Event scatter hitam LINK GACOR : https://t.co/DjDQZ0M9Q9 Towel Adrian Jay Idzes Nathan Syifa Verdonk Thailand #TimnasDay FIFA #SLOTPGWALLET #slottergacor #situsgacor https://t.co/rhnhO9RjpB   \n",
       "416                                                                                                                                                                                                                                Timnas Indonesia Hantam Filipina 2-0 Shin Tae-yong Puas dengan Debut Calvin Verdonk https://t.co/Is41EPg8P0   \n",
       "1815                                                                                                                                                                                                            Selain jago masak ternyata loopy jago main bola juga #TimNasDay #calvinverdonk #indonesiavsphilippines https://t.co/9WKXD6pGzA   \n",
       "\n",
       "      topic predicted_label  probability_emotion  \n",
       "820       9             Sad             0.255952  \n",
       "996       9             Sad             0.282617  \n",
       "1279      9             Sad             0.298106  \n",
       "814       9         Neutral             0.341139  \n",
       "863       9         Neutral             0.393567  \n",
       "41        9         Neutral             0.285991  \n",
       "1489      9         Neutral             0.291190  \n",
       "1472      9         Neutral             0.277849  \n",
       "416       9            Love             0.293711  \n",
       "1815      9            Love             0.205608  "
      ]
     },
     "execution_count": 215,
     "metadata": {},
     "output_type": "execute_result"
    }
   ],
   "source": [
    "topic_cluster_0_df = topic_cluster_0_df.sort_values(by='predicted_label', ascending=False)\n",
    "\n",
    "\n",
    "#tampilkan semuanya di output jangan dibatasi\n",
    "pd.set_option('display.max_rows', None)\n",
    "topic_cluster_0_df.head(10)\n"
   ]
  },
  {
   "cell_type": "code",
   "execution_count": null,
   "metadata": {},
   "outputs": [
    {
     "data": {
      "text/html": [
       "<div>\n",
       "<style scoped>\n",
       "    .dataframe tbody tr th:only-of-type {\n",
       "        vertical-align: middle;\n",
       "    }\n",
       "\n",
       "    .dataframe tbody tr th {\n",
       "        vertical-align: top;\n",
       "    }\n",
       "\n",
       "    .dataframe thead th {\n",
       "        text-align: right;\n",
       "    }\n",
       "</style>\n",
       "<table border=\"1\" class=\"dataframe\">\n",
       "  <thead>\n",
       "    <tr style=\"text-align: right;\">\n",
       "      <th></th>\n",
       "      <th>username</th>\n",
       "      <th>full_text</th>\n",
       "      <th>topic</th>\n",
       "      <th>predicted_label</th>\n",
       "      <th>probability_emotion</th>\n",
       "    </tr>\n",
       "  </thead>\n",
       "  <tbody>\n",
       "    <tr>\n",
       "      <th>1672</th>\n",
       "      <td>cingreborn</td>\n",
       "      <td>Kerasa sakitnya sampai disini prof haye ️ #timnasday https://t.co/kG918SdSY3</td>\n",
       "      <td>9</td>\n",
       "      <td>Fear</td>\n",
       "      <td>0.64241</td>\n",
       "    </tr>\n",
       "    <tr>\n",
       "      <th>1594</th>\n",
       "      <td>Ngdoantran1901</td>\n",
       "      <td>@codcng @Saeyaangh Gak usah pikir panjang aku pasti lepas ANGKOT88 takutnya malah jadi beban. #TimnasDay</td>\n",
       "      <td>9</td>\n",
       "      <td>Fear</td>\n",
       "      <td>0.44910</td>\n",
       "    </tr>\n",
       "  </tbody>\n",
       "</table>\n",
       "</div>"
      ],
      "text/plain": [
       "            username  \\\n",
       "1672      cingreborn   \n",
       "1594  Ngdoantran1901   \n",
       "\n",
       "                                                                                                     full_text  \\\n",
       "1672                              Kerasa sakitnya sampai disini prof haye ️ #timnasday https://t.co/kG918SdSY3   \n",
       "1594  @codcng @Saeyaangh Gak usah pikir panjang aku pasti lepas ANGKOT88 takutnya malah jadi beban. #TimnasDay   \n",
       "\n",
       "      topic predicted_label  probability_emotion  \n",
       "1672      9            Fear              0.64241  \n",
       "1594      9            Fear              0.44910  "
      ]
     },
     "execution_count": 216,
     "metadata": {},
     "output_type": "execute_result"
    }
   ],
   "source": [
    "#ukuran kolom jangan dibatasi untuk full_text\n",
    "pd.set_option('display.max_colwidth', None)\n",
    "\n",
    "#tampilkan hanya emosi Joy\n",
    "topic_cluster_0_df[topic_cluster_0_df['predicted_label'] == 'Fear'].head(200)"
   ]
  },
  {
   "cell_type": "markdown",
   "metadata": {},
   "source": [
    "# Konten Tentang Timnas Indonesia di Vidio\n",
    "\n",
    "## 1. Dukungan Penggemar untuk Timnas Indonesia (Joy)\n",
    "**Konten Senang**: Video yang menyoroti dukungan penuh dari para penggemar untuk Timnas Indonesia, termasuk ucapan selamat dan sorak-sorai setelah kemenangan dalam berbagai pertandingan.\n",
    "\n",
    "**Contoh Tweet**:\n",
    "> Dukungan luar biasa dari penggemar untuk Timnas Indonesia! 🎉 Saksikan momen-momen kegembiraan dan ucapan selamat untuk para pemain. #DukungTimnas [link video]\n",
    "\n",
    "## 2. Perjalanan Timnas Indonesia di Babak Kualifikasi Piala Dunia dan Piala Asia (Joy)\n",
    "**Konten Senang**: Video rekapitulasi perjalanan Timnas Indonesia di babak kualifikasi, termasuk momen-momen penting dan wawancara dengan pemain serta pelatih.\n",
    "\n",
    "**Contoh Tweet**:\n",
    "> Timnas Indonesia tampil impresif di kualifikasi Piala Dunia dan Piala Asia! 🎉 Saksikan rekap perjalanan mereka dan wawancara eksklusif. #TimnasKualifikasi [link video]\n",
    "\n",
    "## 3. Keberhasilan Timnas Indonesia Lolos ke Putaran Ketiga Kualifikasi Piala Dunia 2026 (Joy)\n",
    "**Konten Senang**: Cuplikan video dari momen-momen gol dan selebrasi pemain serta fans. Kutipan inspiratif dari pelatih dan pemain tentang perjalanan mereka menuju kualifikasi.\n",
    "\n",
    "**Contoh Tweet**:\n",
    "> Timnas Indonesia lolos ke putaran ketiga kualifikasi Piala Dunia 2026! 🎊 Saksikan momen-momen terbaik dan kegembiraan para pemain dan fans! #TimnasLolos [link video]\n",
    "\n",
    "## 4. Penampilan Anang Menyanyikan \"Indonesia Pusaka\" Sebelum Pertandingan (Anger)\n",
    "**Konten Marah**: Video atau artikel yang membahas reaksi emosional penggemar terhadap penampilan Anang menyanyikan \"Indonesia Pusaka\" sebelum pertandingan, dengan fokus pada kontroversi dan pendapat yang beragam.\n",
    "\n",
    "**Contoh Tweet**:\n",
    "> Penampilan Anang menyanyikan \"Indonesia Pusaka\" sebelum pertandingan menimbulkan berbagai reaksi. Apa pendapat kalian? #IndonesiaPusaka [link video]\n",
    "\n",
    "## 5. Performa Thom Haye dan Verdonk di lapangan saat bersama timnas(Love)\n",
    "**Konten Cinta**: Video reaksi penggemar yang menunjukkan dukungan dan kasih sayang mereka kepada pemain seperti Verdonk dan Haye. Testimoni dari fans tentang kecintaan mereka pada pemain dan tim.\n",
    "\n",
    "**Contoh Tweet**:\n",
    "> Dukungan luar biasa dari penggemar untuk Verdonk dan Haye! ❤️ Saksikan reaksi dan testimoni mereka tentang kecintaan pada Timnas Indonesia. #LoveForTimnas [link video]\n",
    "\n",
    "## 6. Momen Bersejarah dan Gol Penting Timnas Indonesia (Joy)\n",
    "**Konten Senang**: Cuplikan video dari momen-momen bersejarah dan gol-gol penting yang dicetak oleh Timnas Indonesia dalam babak kualifikasi dan turnamen AFF.\n",
    "\n",
    "**Contoh Tweet**:\n",
    "> Gol-gol bersejarah dari Timnas Indonesia di babak kualifikasi dan turnamen AFF! 🎊 Saksikan momen-momen terbaik di sini. #TimnasGol [link video]\n",
    "\n",
    "## 7. Kondisi Rumput di Stadion Gelora Bung Karno Setelah Konser (Fear)\n",
    "**Konten Takut**: Video yang menunjukkan kondisi rumput di Stadion Gelora Bung Karno setelah konser, dengan sorotan pada keluhan penggemar mengenai dampaknya pada performa timnas Indonesia di lapangan.\n",
    "\n",
    "**Contoh Tweet**:\n",
    "> Lihat kondisi rumput Stadion Gelora Bung Karno setelah konser dan bagaimana ini memengaruhi performa timnas Indonesia. #GBKRumput [link video]\n",
    "\n",
    "## 8. Diskusi Strategi Pelatih Shin Tae-yong dan Potensi Pemain Diaspora (Joy)\n",
    "**Konten Senang**: Video yang menyoroti strategi pelatih Shin Tae-yong dan performa pemain seperti Ernando dan Verdonk, termasuk diskusi tentang potensi pemain diaspora untuk memperkuat timnas.\n",
    "\n",
    "**Contoh Tweet**:\n",
    "> Lihat bagaimana strategi Shin Tae-yong membawa Timnas Indonesia ke puncak! 🎉 Diskusi tentang pemain diaspora dan potensi mereka di sini. 💪🇮🇩 [link video]\n",
    "\n",
    "## 9. Kondisi Lapangan dan Performa Pemain di Berbagai Pertandingan (Fear)\n",
    "**Konten Takut**: Video yang menunjukkan kondisi lapangan yang kurang baik dan dampaknya pada performa pemain Timnas Indonesia di berbagai pertandingan.\n",
    "\n",
    "**Contoh Tweet**:\n",
    "> Kondisi lapangan yang kurang baik memengaruhi performa pemain Timnas Indonesia. Lihat bagaimana ini berdampak pada pertandingan. #KondisiLapangan [link video]\n",
    "\n",
    "## 10. Pengalaman Penggemar Menonton Pertandingan Timnas Indonesia (Fear)\n",
    "**Konten Takut**: Video yang menunjukkan pengalaman penggemar saat menonton pertandingan timnas, dengan fokus pada momen-momen penting dan rasa takut akan ketinggalan (FOMO).\n",
    "\n",
    "**Contoh Tweet**:\n",
    "> Banyak yang merasa FOMO karena tidak bisa menonton langsung Timnas. 😢 Simak cerita mereka dan dukung Timnas dari rumah! #FOMOTimnas [link video]"
   ]
  }
 ],
 "metadata": {
  "kernelspec": {
   "display_name": "base",
   "language": "python",
   "name": "python3"
  },
  "language_info": {
   "codemirror_mode": {
    "name": "ipython",
    "version": 3
   },
   "file_extension": ".py",
   "mimetype": "text/x-python",
   "name": "python",
   "nbconvert_exporter": "python",
   "pygments_lexer": "ipython3",
   "version": "3.11.4"
  }
 },
 "nbformat": 4,
 "nbformat_minor": 2
}
