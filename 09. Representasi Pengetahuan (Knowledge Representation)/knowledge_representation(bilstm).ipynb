{
 "cells": [
  {
   "cell_type": "markdown",
   "metadata": {},
   "source": [
    "## **09. Representasi Pengetahuan (Knowledge Representation)**\n",
    "\n",
    "---\n"
   ]
  },
  {
   "cell_type": "code",
   "execution_count": 73,
   "metadata": {},
   "outputs": [],
   "source": [
    "import pandas as pd\n",
    "import matplotlib.pyplot as plt\n",
    "import seaborn as sns"
   ]
  },
  {
   "cell_type": "code",
   "execution_count": 74,
   "metadata": {},
   "outputs": [],
   "source": [
    "data_testing = pd.read_csv('sorted_topic_cluster_counts.csv')"
   ]
  },
  {
   "cell_type": "code",
   "execution_count": 75,
   "metadata": {},
   "outputs": [
    {
     "name": "stdout",
     "output_type": "stream",
     "text": [
      "count    1880.000000\n",
      "mean       18.262766\n",
      "std        11.283473\n",
      "min         2.000000\n",
      "25%        10.000000\n",
      "50%        15.000000\n",
      "75%        25.000000\n",
      "max        54.000000\n",
      "Name: full_text, dtype: float64\n"
     ]
    }
   ],
   "source": [
    "#eda dari data_testing jumlah kosa kata dan kata terpanjang pada full_text\n",
    "print(data_testing['full_text'].str.split().apply(len).describe())\n",
    "\n"
   ]
  },
  {
   "cell_type": "code",
   "execution_count": 76,
   "metadata": {},
   "outputs": [
    {
     "data": {
      "text/plain": [
       "Index(['conversation_id_str', 'created_at', 'favorite_count', 'full_text',\n",
       "       'id_str', 'lang', 'location', 'probability', 'quote_count',\n",
       "       'reply_count', 'retweet_count', 'topic', 'tweet_url', 'user_id_str',\n",
       "       'username', 'in_reply_to_screen_name', 'image_url', 'context',\n",
       "       'emotion'],\n",
       "      dtype='object')"
      ]
     },
     "execution_count": 76,
     "metadata": {},
     "output_type": "execute_result"
    }
   ],
   "source": [
    "#tampilkan atribut yang ada di data\n",
    "data_testing.columns"
   ]
  },
  {
   "cell_type": "code",
   "execution_count": 77,
   "metadata": {},
   "outputs": [],
   "source": [
    "#ubah nama atribut topic_cluster menjadi topic\n",
    "data_testing.rename(columns={'topic_cluster':'topic'}, inplace=True)\n",
    "\n",
    "#tambahkan atribut probability = 0\n",
    "data_testing['probability'] = 0\n",
    "\n",
    "#tambahkan atribut konteks dengan 0\n",
    "data_testing['context'] = 0\n"
   ]
  },
  {
   "cell_type": "code",
   "execution_count": 78,
   "metadata": {},
   "outputs": [
    {
     "data": {
      "text/html": [
       "<div>\n",
       "<style scoped>\n",
       "    .dataframe tbody tr th:only-of-type {\n",
       "        vertical-align: middle;\n",
       "    }\n",
       "\n",
       "    .dataframe tbody tr th {\n",
       "        vertical-align: top;\n",
       "    }\n",
       "\n",
       "    .dataframe thead th {\n",
       "        text-align: right;\n",
       "    }\n",
       "</style>\n",
       "<table border=\"1\" class=\"dataframe\">\n",
       "  <thead>\n",
       "    <tr style=\"text-align: right;\">\n",
       "      <th></th>\n",
       "      <th>username</th>\n",
       "      <th>full_text</th>\n",
       "      <th>topic</th>\n",
       "      <th>emotion</th>\n",
       "    </tr>\n",
       "  </thead>\n",
       "  <tbody>\n",
       "    <tr>\n",
       "      <th>0</th>\n",
       "      <td>tigapuluhtigax</td>\n",
       "      <td>TIMNAS PRIA DAN WANITA MENANG + ERIK TEN HAG STAY</td>\n",
       "      <td>1</td>\n",
       "      <td>Joy</td>\n",
       "    </tr>\n",
       "    <tr>\n",
       "      <th>1</th>\n",
       "      <td>sotongism</td>\n",
       "      <td>ngerasa ga sih sekarang timnas kalo main pakek jersey putih tuh aura menangnya naik drastis beda sama dulu kalo main pakek jersey putih nih pesimis duluan #TimnasDay</td>\n",
       "      <td>3</td>\n",
       "      <td>Fear</td>\n",
       "    </tr>\n",
       "    <tr>\n",
       "      <th>2</th>\n",
       "      <td>peanutkacang123</td>\n",
       "      <td>2 Sejarah Dicetak Timnas Indonesia Usai Ganyang Filipina STY Pelatih Pemecah Rekor. #TimNasDay https://t.co/nLxTrlEYx5.</td>\n",
       "      <td>3</td>\n",
       "      <td>Joy</td>\n",
       "    </tr>\n",
       "    <tr>\n",
       "      <th>3</th>\n",
       "      <td>PKananku1927</td>\n",
       "      <td>@womensfootie_id Tinggal tmbah pemain diaspora bisa lah ini timnas putri bersaing di Asia</td>\n",
       "      <td>1</td>\n",
       "      <td>Neutral</td>\n",
       "    </tr>\n",
       "    <tr>\n",
       "      <th>4</th>\n",
       "      <td>kangsil2012</td>\n",
       "      <td>Timnas Indonesia Vs Timnas Filipina 2-0 Indonesia Lolos ke Putaran Ketiga Kuaifikasi Piala Dunia 2026 https://t.co/if6QFIOQdd #sepakbola #IndonesiaFilipina #kualifikasipialadunia #TimnasIndonesia #TimnasFilipina #pssi</td>\n",
       "      <td>2</td>\n",
       "      <td>Joy</td>\n",
       "    </tr>\n",
       "    <tr>\n",
       "      <th>5</th>\n",
       "      <td>refnotrev</td>\n",
       "      <td>@amayzing__ @idextratime antara lu fomo timnas atau emang kaga ngerti sistem pot</td>\n",
       "      <td>8</td>\n",
       "      <td>Fear</td>\n",
       "    </tr>\n",
       "    <tr>\n",
       "      <th>6</th>\n",
       "      <td>KimJongUncchhhh</td>\n",
       "      <td>@fahmiiiiii14 @idextratime Beliau ini literally mantan pemain timnas yg beneran orang bola. Lah yg duduk di vip malah artis2 ga jelas. Kesannya kek habis manis sepah dibuang njir</td>\n",
       "      <td>3</td>\n",
       "      <td>Anger</td>\n",
       "    </tr>\n",
       "    <tr>\n",
       "      <th>7</th>\n",
       "      <td>joyszeamays</td>\n",
       "      <td>Ternyata jodohnya sama Indo-Philiphine bukan Indo-Irak. Bonus liat perjuangan timnas lolos ke putaran ketiga : )</td>\n",
       "      <td>2</td>\n",
       "      <td>Joy</td>\n",
       "    </tr>\n",
       "    <tr>\n",
       "      <th>8</th>\n",
       "      <td>DenSombedt</td>\n",
       "      <td>@StatsRawon Kyok e Malik Rivera ambek glison Costa soale Malik wes mari teko timnas Kari Poto ambk gwe vidio</td>\n",
       "      <td>3</td>\n",
       "      <td>Neutral</td>\n",
       "    </tr>\n",
       "    <tr>\n",
       "      <th>9</th>\n",
       "      <td>ilyasaihza_</td>\n",
       "      <td>Sareneng kitu timnas menang? Abi mah bodo amat</td>\n",
       "      <td>4</td>\n",
       "      <td>Neutral</td>\n",
       "    </tr>\n",
       "  </tbody>\n",
       "</table>\n",
       "</div>"
      ],
      "text/plain": [
       "          username  \\\n",
       "0   tigapuluhtigax   \n",
       "1        sotongism   \n",
       "2  peanutkacang123   \n",
       "3     PKananku1927   \n",
       "4      kangsil2012   \n",
       "5        refnotrev   \n",
       "6  KimJongUncchhhh   \n",
       "7      joyszeamays   \n",
       "8       DenSombedt   \n",
       "9      ilyasaihza_   \n",
       "\n",
       "                                                                                                                                                                                                                   full_text  \\\n",
       "0                                                                                                                                                                          TIMNAS PRIA DAN WANITA MENANG + ERIK TEN HAG STAY   \n",
       "1                                                      ngerasa ga sih sekarang timnas kalo main pakek jersey putih tuh aura menangnya naik drastis beda sama dulu kalo main pakek jersey putih nih pesimis duluan #TimnasDay   \n",
       "2                                                                                                    2 Sejarah Dicetak Timnas Indonesia Usai Ganyang Filipina STY Pelatih Pemecah Rekor. #TimNasDay https://t.co/nLxTrlEYx5.   \n",
       "3                                                                                                                                 @womensfootie_id Tinggal tmbah pemain diaspora bisa lah ini timnas putri bersaing di Asia    \n",
       "4  Timnas Indonesia Vs Timnas Filipina 2-0 Indonesia Lolos ke Putaran Ketiga Kuaifikasi Piala Dunia 2026 https://t.co/if6QFIOQdd #sepakbola #IndonesiaFilipina #kualifikasipialadunia #TimnasIndonesia #TimnasFilipina #pssi   \n",
       "5                                                                                                                                           @amayzing__ @idextratime antara lu fomo timnas atau emang kaga ngerti sistem pot   \n",
       "6                                         @fahmiiiiii14 @idextratime Beliau ini literally mantan pemain timnas yg beneran orang bola. Lah yg duduk di vip malah artis2 ga jelas. Kesannya kek habis manis sepah dibuang njir   \n",
       "7                                                                                                           Ternyata jodohnya sama Indo-Philiphine bukan Indo-Irak. Bonus liat perjuangan timnas lolos ke putaran ketiga : )   \n",
       "8                                                                                                               @StatsRawon Kyok e Malik Rivera ambek glison Costa soale Malik wes mari teko timnas Kari Poto ambk gwe vidio   \n",
       "9                                                                                                                                                                             Sareneng kitu timnas menang? Abi mah bodo amat   \n",
       "\n",
       "   topic  emotion  \n",
       "0      1      Joy  \n",
       "1      3     Fear  \n",
       "2      3      Joy  \n",
       "3      1  Neutral  \n",
       "4      2      Joy  \n",
       "5      8     Fear  \n",
       "6      3    Anger  \n",
       "7      2      Joy  \n",
       "8      3  Neutral  \n",
       "9      4  Neutral  "
      ]
     },
     "execution_count": 78,
     "metadata": {},
     "output_type": "execute_result"
    }
   ],
   "source": [
    "#tampilkan hanya kolom full_text, topic_cluster, emotion dan username\n",
    "merged_df = data_testing[['username','full_text','topic', 'emotion']]\n",
    "\n",
    "merged_df.head(10)"
   ]
  },
  {
   "cell_type": "code",
   "execution_count": 79,
   "metadata": {},
   "outputs": [
    {
     "data": {
      "text/plain": [
       "emotion\n",
       "Joy        858\n",
       "Neutral    378\n",
       "Anger      317\n",
       "Love       141\n",
       "Fear       123\n",
       "Sad         63\n",
       "Name: count, dtype: int64"
      ]
     },
     "execution_count": 79,
     "metadata": {},
     "output_type": "execute_result"
    }
   ],
   "source": [
    "#count emotion\n",
    "emotion_count = merged_df['emotion'].value_counts()\n",
    "emotion_count"
   ]
  },
  {
   "cell_type": "code",
   "execution_count": 80,
   "metadata": {},
   "outputs": [
    {
     "data": {
      "text/plain": [
       "Text(0.5, 0, 'Emotion')"
      ]
     },
     "execution_count": 80,
     "metadata": {},
     "output_type": "execute_result"
    },
    {
     "data": {
      "image/png": "[encoded data removed]",
      "text/plain": [
       "<Figure size 640x480 with 1 Axes>"
      ]
     },
     "metadata": {},
     "output_type": "display_data"
    }
   ],
   "source": [
    "#visualisasikan value_counts dari emotion jadi graph\n",
    "emotion_count.plot(kind='bar')\n",
    "plt.title('Emotion Distribution')\n",
    "plt.xlabel('Emotion')"
   ]
  },
  {
   "cell_type": "code",
   "execution_count": 81,
   "metadata": {},
   "outputs": [
    {
     "name": "stdout",
     "output_type": "stream",
     "text": [
      "username     0\n",
      "full_text    0\n",
      "topic        0\n",
      "emotion      0\n",
      "dtype: int64\n"
     ]
    }
   ],
   "source": [
    "jumlah_nan = merged_df.isna().sum()\n",
    "\n",
    "print(jumlah_nan)"
   ]
  },
  {
   "cell_type": "markdown",
   "metadata": {},
   "source": [
    "## Knowledge"
   ]
  },
  {
   "cell_type": "markdown",
   "metadata": {},
   "source": [
    "### Per-Topic"
   ]
  },
  {
   "cell_type": "code",
   "execution_count": 82,
   "metadata": {},
   "outputs": [
    {
     "data": {
      "text/html": [
       "<div>\n",
       "<style scoped>\n",
       "    .dataframe tbody tr th:only-of-type {\n",
       "        vertical-align: middle;\n",
       "    }\n",
       "\n",
       "    .dataframe tbody tr th {\n",
       "        vertical-align: top;\n",
       "    }\n",
       "\n",
       "    .dataframe thead th {\n",
       "        text-align: right;\n",
       "    }\n",
       "</style>\n",
       "<table border=\"1\" class=\"dataframe\">\n",
       "  <thead>\n",
       "    <tr style=\"text-align: right;\">\n",
       "      <th></th>\n",
       "      <th>topic</th>\n",
       "      <th>count</th>\n",
       "    </tr>\n",
       "  </thead>\n",
       "  <tbody>\n",
       "    <tr>\n",
       "      <th>0</th>\n",
       "      <td>3</td>\n",
       "      <td>351</td>\n",
       "    </tr>\n",
       "    <tr>\n",
       "      <th>1</th>\n",
       "      <td>0</td>\n",
       "      <td>335</td>\n",
       "    </tr>\n",
       "    <tr>\n",
       "      <th>2</th>\n",
       "      <td>1</td>\n",
       "      <td>292</td>\n",
       "    </tr>\n",
       "    <tr>\n",
       "      <th>3</th>\n",
       "      <td>2</td>\n",
       "      <td>264</td>\n",
       "    </tr>\n",
       "    <tr>\n",
       "      <th>4</th>\n",
       "      <td>4</td>\n",
       "      <td>243</td>\n",
       "    </tr>\n",
       "    <tr>\n",
       "      <th>5</th>\n",
       "      <td>5</td>\n",
       "      <td>157</td>\n",
       "    </tr>\n",
       "    <tr>\n",
       "      <th>6</th>\n",
       "      <td>7</td>\n",
       "      <td>84</td>\n",
       "    </tr>\n",
       "    <tr>\n",
       "      <th>7</th>\n",
       "      <td>8</td>\n",
       "      <td>76</td>\n",
       "    </tr>\n",
       "    <tr>\n",
       "      <th>8</th>\n",
       "      <td>9</td>\n",
       "      <td>54</td>\n",
       "    </tr>\n",
       "    <tr>\n",
       "      <th>9</th>\n",
       "      <td>6</td>\n",
       "      <td>24</td>\n",
       "    </tr>\n",
       "  </tbody>\n",
       "</table>\n",
       "</div>"
      ],
      "text/plain": [
       "   topic  count\n",
       "0      3    351\n",
       "1      0    335\n",
       "2      1    292\n",
       "3      2    264\n",
       "4      4    243\n",
       "5      5    157\n",
       "6      7     84\n",
       "7      8     76\n",
       "8      9     54\n",
       "9      6     24"
      ]
     },
     "execution_count": 82,
     "metadata": {},
     "output_type": "execute_result"
    }
   ],
   "source": [
    "topic_cluster_counts = merged_df['topic'].value_counts().reset_index()\n",
    "topic_cluster_counts"
   ]
  },
  {
   "cell_type": "code",
   "execution_count": 83,
   "metadata": {},
   "outputs": [
    {
     "data": {
      "text/plain": [
       "<Axes: xlabel='emotion', ylabel='count'>"
      ]
     },
     "execution_count": 83,
     "metadata": {},
     "output_type": "execute_result"
    },
    {
     "data": {
      "image/png": "[encoded data removed]",
      "text/plain": [
       "<Figure size 640x480 with 1 Axes>"
      ]
     },
     "metadata": {},
     "output_type": "display_data"
    }
   ],
   "source": [
    "#tampilkan semua data tanpa melihat topic\n",
    "sns.countplot(x='emotion', data=merged_df)"
   ]
  },
  {
   "cell_type": "code",
   "execution_count": 84,
   "metadata": {},
   "outputs": [
    {
     "data": {
      "text/html": [
       "<div>\n",
       "<style scoped>\n",
       "    .dataframe tbody tr th:only-of-type {\n",
       "        vertical-align: middle;\n",
       "    }\n",
       "\n",
       "    .dataframe tbody tr th {\n",
       "        vertical-align: top;\n",
       "    }\n",
       "\n",
       "    .dataframe thead th {\n",
       "        text-align: right;\n",
       "    }\n",
       "</style>\n",
       "<table border=\"1\" class=\"dataframe\">\n",
       "  <thead>\n",
       "    <tr style=\"text-align: right;\">\n",
       "      <th></th>\n",
       "      <th>emotion</th>\n",
       "      <th>count</th>\n",
       "    </tr>\n",
       "  </thead>\n",
       "  <tbody>\n",
       "    <tr>\n",
       "      <th>0</th>\n",
       "      <td>Anger</td>\n",
       "      <td>167</td>\n",
       "    </tr>\n",
       "    <tr>\n",
       "      <th>1</th>\n",
       "      <td>Joy</td>\n",
       "      <td>109</td>\n",
       "    </tr>\n",
       "    <tr>\n",
       "      <th>2</th>\n",
       "      <td>Neutral</td>\n",
       "      <td>43</td>\n",
       "    </tr>\n",
       "    <tr>\n",
       "      <th>3</th>\n",
       "      <td>Fear</td>\n",
       "      <td>12</td>\n",
       "    </tr>\n",
       "    <tr>\n",
       "      <th>4</th>\n",
       "      <td>Love</td>\n",
       "      <td>10</td>\n",
       "    </tr>\n",
       "    <tr>\n",
       "      <th>5</th>\n",
       "      <td>Sad</td>\n",
       "      <td>10</td>\n",
       "    </tr>\n",
       "  </tbody>\n",
       "</table>\n",
       "</div>"
      ],
      "text/plain": [
       "   emotion  count\n",
       "0    Anger    167\n",
       "1      Joy    109\n",
       "2  Neutral     43\n",
       "3     Fear     12\n",
       "4     Love     10\n",
       "5      Sad     10"
      ]
     },
     "execution_count": 84,
     "metadata": {},
     "output_type": "execute_result"
    }
   ],
   "source": [
    "topik_ke = 3\n",
    "\n",
    "topic_cluster_0_df = merged_df[merged_df['topic'] == topik_ke]\n",
    "topic_cluster_0_df = topic_cluster_0_df.sort_values(by='emotion', ascending=True)\n",
    "\n",
    "count_emotion = topic_cluster_0_df['emotion'].value_counts().reset_index()\n",
    "count_emotion"
   ]
  },
  {
   "cell_type": "code",
   "execution_count": 85,
   "metadata": {},
   "outputs": [
    {
     "data": {
      "text/plain": [
       "<Axes: xlabel='emotion', ylabel='count'>"
      ]
     },
     "execution_count": 85,
     "metadata": {},
     "output_type": "execute_result"
    },
    {
     "data": {
      "image/png": "[encoded data removed]",
      "text/plain": [
       "<Figure size 640x480 with 1 Axes>"
      ]
     },
     "metadata": {},
     "output_type": "display_data"
    }
   ],
   "source": [
    "sns.barplot(x='emotion', y='count', data=count_emotion)\n"
   ]
  },
  {
   "cell_type": "code",
   "execution_count": 86,
   "metadata": {},
   "outputs": [
    {
     "data": {
      "text/html": [
       "<div>\n",
       "<style scoped>\n",
       "    .dataframe tbody tr th:only-of-type {\n",
       "        vertical-align: middle;\n",
       "    }\n",
       "\n",
       "    .dataframe tbody tr th {\n",
       "        vertical-align: top;\n",
       "    }\n",
       "\n",
       "    .dataframe thead th {\n",
       "        text-align: right;\n",
       "    }\n",
       "</style>\n",
       "<table border=\"1\" class=\"dataframe\">\n",
       "  <thead>\n",
       "    <tr style=\"text-align: right;\">\n",
       "      <th></th>\n",
       "      <th>username</th>\n",
       "      <th>full_text</th>\n",
       "      <th>topic</th>\n",
       "      <th>emotion</th>\n",
       "    </tr>\n",
       "  </thead>\n",
       "  <tbody>\n",
       "    <tr>\n",
       "      <th>329</th>\n",
       "      <td>0852_3195</td>\n",
       "      <td>Sejarah yang bisa dibanggakan itu kalo pemain timnas seluruhnya pemain lokal bukan mayoritas naturalisasi. Dari semua bidang yang ada di Indonesia hampir semuanya dikuasai orang asing salah satunya sepakbola https://t.co/Xu6GVOtfgo</td>\n",
       "      <td>3</td>\n",
       "      <td>Sad</td>\n",
       "    </tr>\n",
       "    <tr>\n",
       "      <th>204</th>\n",
       "      <td>akunbotok</td>\n",
       "      <td>@realmadridindo1 Kasian yaa update statistiknya cuma bisa di timnas yg main aja paling 2 bulan sekali wkwkw. Mau update di klub gabisa soalnya ampas</td>\n",
       "      <td>3</td>\n",
       "      <td>Sad</td>\n",
       "    </tr>\n",
       "    <tr>\n",
       "      <th>263</th>\n",
       "      <td>IvanMustopa21</td>\n",
       "      <td>@nocontextpersib Persib ga suka timnas kali ya? Semua aja di akuin</td>\n",
       "      <td>3</td>\n",
       "      <td>Sad</td>\n",
       "    </tr>\n",
       "    <tr>\n",
       "      <th>294</th>\n",
       "      <td>sidiq90s</td>\n",
       "      <td>@rihanurduni @MAYT_Media Lagian ngapa mau jg nyanyi after match ? Keliatan dia ga pernah liat timnas ketika game selesai para pemain melingkar di tengah lapang menyanyikan anthem indonesia pusaka bersama suporter</td>\n",
       "      <td>3</td>\n",
       "      <td>Sad</td>\n",
       "    </tr>\n",
       "    <tr>\n",
       "      <th>211</th>\n",
       "      <td>dheshooo</td>\n",
       "      <td>Knp vibe menangnya persib lebih lebih dr timnas??!! Masih gk ngrti</td>\n",
       "      <td>3</td>\n",
       "      <td>Sad</td>\n",
       "    </tr>\n",
       "    <tr>\n",
       "      <th>356</th>\n",
       "      <td>FredArizona</td>\n",
       "      <td>Kalo mau ke Milan brarti udh putus asa masuk timnas</td>\n",
       "      <td>3</td>\n",
       "      <td>Sad</td>\n",
       "    </tr>\n",
       "    <tr>\n",
       "      <th>341</th>\n",
       "      <td>dahlaheriaja</td>\n",
       "      <td>@dwinucleo alasan gasuka timnas ya gini. apa serba di jakarta. karena keseringan di jakarta ampe penduduk lokal se akan akan nge claim kalo timnas itu milik mereka</td>\n",
       "      <td>3</td>\n",
       "      <td>Sad</td>\n",
       "    </tr>\n",
       "    <tr>\n",
       "      <th>191</th>\n",
       "      <td>seuppie</td>\n",
       "      <td>ajggg gara2 timnas main smlm kirain udh hari jumat</td>\n",
       "      <td>3</td>\n",
       "      <td>Sad</td>\n",
       "    </tr>\n",
       "    <tr>\n",
       "      <th>474</th>\n",
       "      <td>Teguran3</td>\n",
       "      <td>@idextratime @bliblidotcom Dulu pencapaian terbaik nonton timnas pas final AFF lawan Malaysia dan optimis menang karena di fase group menang 5-1 tapi kalah di final nyesek banget</td>\n",
       "      <td>3</td>\n",
       "      <td>Sad</td>\n",
       "    </tr>\n",
       "    <tr>\n",
       "      <th>455</th>\n",
       "      <td>cipanyanana</td>\n",
       "      <td>gue jadi kepikiran sama orang ini gegara dia bikin story lagi nonton timnas kaya anjirrrr dulu kita sedeket ini tapi gegara kecerobohan gua dan kegasadar dirian gua namanya masih anak SMA gua jadi jauh sama ini orang wkwkwk</td>\n",
       "      <td>3</td>\n",
       "      <td>Sad</td>\n",
       "    </tr>\n",
       "  </tbody>\n",
       "</table>\n",
       "</div>"
      ],
      "text/plain": [
       "          username  \\\n",
       "329      0852_3195   \n",
       "204      akunbotok   \n",
       "263  IvanMustopa21   \n",
       "294       sidiq90s   \n",
       "211       dheshooo   \n",
       "356    FredArizona   \n",
       "341   dahlaheriaja   \n",
       "191        seuppie   \n",
       "474       Teguran3   \n",
       "455    cipanyanana   \n",
       "\n",
       "                                                                                                                                                                                                                                   full_text  \\\n",
       "329  Sejarah yang bisa dibanggakan itu kalo pemain timnas seluruhnya pemain lokal bukan mayoritas naturalisasi. Dari semua bidang yang ada di Indonesia hampir semuanya dikuasai orang asing salah satunya sepakbola https://t.co/Xu6GVOtfgo   \n",
       "204                                                                                     @realmadridindo1 Kasian yaa update statistiknya cuma bisa di timnas yg main aja paling 2 bulan sekali wkwkw. Mau update di klub gabisa soalnya ampas   \n",
       "263                                                                                                                                                                      @nocontextpersib Persib ga suka timnas kali ya? Semua aja di akuin    \n",
       "294                     @rihanurduni @MAYT_Media Lagian ngapa mau jg nyanyi after match ? Keliatan dia ga pernah liat timnas ketika game selesai para pemain melingkar di tengah lapang menyanyikan anthem indonesia pusaka bersama suporter   \n",
       "211                                                                                                                                                                       Knp vibe menangnya persib lebih lebih dr timnas??!! Masih gk ngrti   \n",
       "356                                                                                                                                                                                     Kalo mau ke Milan brarti udh putus asa masuk timnas    \n",
       "341                                                                      @dwinucleo alasan gasuka timnas ya gini. apa serba di jakarta. karena keseringan di jakarta ampe penduduk lokal se akan akan nge claim kalo timnas itu milik mereka   \n",
       "191                                                                                                                                                                                      ajggg gara2 timnas main smlm kirain udh hari jumat    \n",
       "474                                                       @idextratime @bliblidotcom Dulu pencapaian terbaik nonton timnas pas final AFF lawan Malaysia dan optimis menang karena di fase group menang 5-1 tapi kalah di final nyesek banget   \n",
       "455         gue jadi kepikiran sama orang ini gegara dia bikin story lagi nonton timnas kaya anjirrrr dulu kita sedeket ini tapi gegara kecerobohan gua dan kegasadar dirian gua namanya masih anak SMA gua jadi jauh sama ini orang wkwkwk    \n",
       "\n",
       "     topic emotion  \n",
       "329      3     Sad  \n",
       "204      3     Sad  \n",
       "263      3     Sad  \n",
       "294      3     Sad  \n",
       "211      3     Sad  \n",
       "356      3     Sad  \n",
       "341      3     Sad  \n",
       "191      3     Sad  \n",
       "474      3     Sad  \n",
       "455      3     Sad  "
      ]
     },
     "execution_count": 86,
     "metadata": {},
     "output_type": "execute_result"
    }
   ],
   "source": [
    "topic_cluster_0_df = topic_cluster_0_df.sort_values(by='emotion', ascending=False)\n",
    "\n",
    "\n",
    "#tampilkan semuanya di output jangan dibatasi\n",
    "pd.set_option('display.max_rows', None)\n",
    "topic_cluster_0_df.head(10)\n"
   ]
  },
  {
   "cell_type": "code",
   "execution_count": 87,
   "metadata": {},
   "outputs": [
    {
     "data": {
      "text/html": [
       "<div>\n",
       "<style scoped>\n",
       "    .dataframe tbody tr th:only-of-type {\n",
       "        vertical-align: middle;\n",
       "    }\n",
       "\n",
       "    .dataframe tbody tr th {\n",
       "        vertical-align: top;\n",
       "    }\n",
       "\n",
       "    .dataframe thead th {\n",
       "        text-align: right;\n",
       "    }\n",
       "</style>\n",
       "<table border=\"1\" class=\"dataframe\">\n",
       "  <thead>\n",
       "    <tr style=\"text-align: right;\">\n",
       "      <th></th>\n",
       "      <th>username</th>\n",
       "      <th>full_text</th>\n",
       "      <th>topic</th>\n",
       "      <th>emotion</th>\n",
       "    </tr>\n",
       "  </thead>\n",
       "  <tbody>\n",
       "    <tr>\n",
       "      <th>884</th>\n",
       "      <td>ulfabinada</td>\n",
       "      <td>Namanya hidup itu kaya orang ngamen kadang baru nyanyi satu kalimat dapat 1000 kadang belum nyanyi dikasih 5000 kadang dibilang prei mas kadang juga dihujat ky mas Anang yg ngerusak suasana #TimnasDay</td>\n",
       "      <td>3</td>\n",
       "      <td>Anger</td>\n",
       "    </tr>\n",
       "    <tr>\n",
       "      <th>377</th>\n",
       "      <td>vkwmflf</td>\n",
       "      <td>@pra_dypta @Indostransfer dikibulin pssi kah emtek 75 miliar ini wakakakaka cman bs nayangin timnas kelompok umur</td>\n",
       "      <td>3</td>\n",
       "      <td>Anger</td>\n",
       "    </tr>\n",
       "    <tr>\n",
       "      <th>398</th>\n",
       "      <td>edvan_p</td>\n",
       "      <td>@00beinghuman @SCTV @Indosiar D rusak sama anang pas FT yg harusnya momen supporter ama timnas dgn lagu Indonesia pusaka bagimu negeri dan garuda clap.</td>\n",
       "      <td>3</td>\n",
       "      <td>Anger</td>\n",
       "    </tr>\n",
       "    <tr>\n",
       "      <th>387</th>\n",
       "      <td>RestuRagil15578</td>\n",
       "      <td>@UpdateBolabola Bgst lah. Mana vision + berbayarnya jg geje. Udah beli paket sport eh timnas main harus beli lagi</td>\n",
       "      <td>3</td>\n",
       "      <td>Anger</td>\n",
       "    </tr>\n",
       "    <tr>\n",
       "      <th>347</th>\n",
       "      <td>arjunapemanah24</td>\n",
       "      <td>@GIBOLofficial Ini anang yang dulu main di Persebaya kan? Mantan pemain timnas juga to?</td>\n",
       "      <td>3</td>\n",
       "      <td>Anger</td>\n",
       "    </tr>\n",
       "    <tr>\n",
       "      <th>312</th>\n",
       "      <td>arthrw_</td>\n",
       "      <td>selain doa timnas ben menang pemain e sehat kabeh fans e ra aneh2 do berdoa o ben ra pernah segrup meneh mbi qatar asu</td>\n",
       "      <td>3</td>\n",
       "      <td>Anger</td>\n",
       "    </tr>\n",
       "    <tr>\n",
       "      <th>376</th>\n",
       "      <td>kayarayaaaaa</td>\n",
       "      <td>@revengeeeee_ @idextratime @bliblidotcom Yg ada timnas kita yg mampus. Mereka curang bgt. Lawan India aja curang.</td>\n",
       "      <td>3</td>\n",
       "      <td>Anger</td>\n",
       "    </tr>\n",
       "    <tr>\n",
       "      <th>1847</th>\n",
       "      <td>fajardwipermadi</td>\n",
       "      <td>Lagu indonesia Pusaka yg di tungguin eh malah ada yg pengen karaoke.... Duh mas Anang...Mas Anang #TimNasDay</td>\n",
       "      <td>3</td>\n",
       "      <td>Anger</td>\n",
       "    </tr>\n",
       "    <tr>\n",
       "      <th>427</th>\n",
       "      <td>faisalamar_11</td>\n",
       "      <td>@UpdateBolabola Lha terus emtek bayar mahal hak siar timnas nyiarin apa dong</td>\n",
       "      <td>3</td>\n",
       "      <td>Anger</td>\n",
       "    </tr>\n",
       "    <tr>\n",
       "      <th>419</th>\n",
       "      <td>katasiapalo</td>\n",
       "      <td>Saya sebagai tidak menonton timnas semalem tidak tahu apa yg mesti dikatakan terkait performa mas Anang and friends.</td>\n",
       "      <td>3</td>\n",
       "      <td>Anger</td>\n",
       "    </tr>\n",
       "  </tbody>\n",
       "</table>\n",
       "</div>"
      ],
      "text/plain": [
       "             username  \\\n",
       "884        ulfabinada   \n",
       "377           vkwmflf   \n",
       "398           edvan_p   \n",
       "387   RestuRagil15578   \n",
       "347   arjunapemanah24   \n",
       "312           arthrw_   \n",
       "376      kayarayaaaaa   \n",
       "1847  fajardwipermadi   \n",
       "427     faisalamar_11   \n",
       "419       katasiapalo   \n",
       "\n",
       "                                                                                                                                                                                                     full_text  \\\n",
       "884   Namanya hidup itu kaya orang ngamen kadang baru nyanyi satu kalimat dapat 1000 kadang belum nyanyi dikasih 5000 kadang dibilang prei mas kadang juga dihujat ky mas Anang yg ngerusak suasana #TimnasDay   \n",
       "377                                                                                          @pra_dypta @Indostransfer dikibulin pssi kah emtek 75 miliar ini wakakakaka cman bs nayangin timnas kelompok umur   \n",
       "398                                                    @00beinghuman @SCTV @Indosiar D rusak sama anang pas FT yg harusnya momen supporter ama timnas dgn lagu Indonesia pusaka bagimu negeri dan garuda clap.   \n",
       "387                                                                                          @UpdateBolabola Bgst lah. Mana vision + berbayarnya jg geje. Udah beli paket sport eh timnas main harus beli lagi   \n",
       "347                                                                                                                    @GIBOLofficial Ini anang yang dulu main di Persebaya kan? Mantan pemain timnas juga to?   \n",
       "312                                                                                     selain doa timnas ben menang pemain e sehat kabeh fans e ra aneh2 do berdoa o ben ra pernah segrup meneh mbi qatar asu   \n",
       "376                                                                                          @revengeeeee_ @idextratime @bliblidotcom Yg ada timnas kita yg mampus. Mereka curang bgt. Lawan India aja curang.   \n",
       "1847                                                                                              Lagu indonesia Pusaka yg di tungguin eh malah ada yg pengen karaoke.... Duh mas Anang...Mas Anang #TimNasDay   \n",
       "427                                                                                                                              @UpdateBolabola Lha terus emtek bayar mahal hak siar timnas nyiarin apa dong    \n",
       "419                                                                                       Saya sebagai tidak menonton timnas semalem tidak tahu apa yg mesti dikatakan terkait performa mas Anang and friends.   \n",
       "\n",
       "      topic emotion  \n",
       "884       3   Anger  \n",
       "377       3   Anger  \n",
       "398       3   Anger  \n",
       "387       3   Anger  \n",
       "347       3   Anger  \n",
       "312       3   Anger  \n",
       "376       3   Anger  \n",
       "1847      3   Anger  \n",
       "427       3   Anger  \n",
       "419       3   Anger  "
      ]
     },
     "execution_count": 87,
     "metadata": {},
     "output_type": "execute_result"
    }
   ],
   "source": [
    "#ukuran kolom jangan dibatasi untuk full_text\n",
    "pd.set_option('display.max_colwidth', None)\n",
    "\n",
    "#tampilkan hanya emosi anger\n",
    "topic_cluster_0_df[topic_cluster_0_df['emotion'] == 'Anger'].head(10)"
   ]
  },
  {
   "cell_type": "markdown",
   "metadata": {},
   "source": [
    "# Konten Tentang Timnas Indonesia di Vidio\n",
    "\n",
    "## 1. Dukungan Penggemar untuk Timnas Indonesia (Joy)\n",
    "**Konten Senang**: Video yang menyoroti dukungan penuh dari para penggemar untuk Timnas Indonesia, termasuk ucapan selamat dan sorak-sorai setelah kemenangan dalam berbagai pertandingan.\n",
    "\n",
    "**Contoh Tweet**:\n",
    "> Dukungan luar biasa dari penggemar untuk Timnas Indonesia! 🎉 Saksikan momen-momen kegembiraan dan ucapan selamat untuk para pemain. #DukungTimnas [link video]\n",
    "\n",
    "## 2. Perjalanan Timnas Indonesia di Babak Kualifikasi Piala Dunia dan Piala Asia (Joy)\n",
    "**Konten Senang**: Video rekapitulasi perjalanan Timnas Indonesia di babak kualifikasi, termasuk momen-momen penting dan wawancara dengan pemain serta pelatih.\n",
    "\n",
    "**Contoh Tweet**:\n",
    "> Timnas Indonesia tampil impresif di kualifikasi Piala Dunia dan Piala Asia! 🎉 Saksikan rekap perjalanan mereka dan wawancara eksklusif. #TimnasKualifikasi [link video]\n",
    "\n",
    "## 3. Keberhasilan Timnas Indonesia Lolos ke Putaran Ketiga Kualifikasi Piala Dunia 2026 (Joy)\n",
    "**Konten Senang**: Cuplikan video dari momen-momen gol dan selebrasi pemain serta fans. Kutipan inspiratif dari pelatih dan pemain tentang perjalanan mereka menuju kualifikasi.\n",
    "\n",
    "**Contoh Tweet**:\n",
    "> Timnas Indonesia lolos ke putaran ketiga kualifikasi Piala Dunia 2026! 🎊 Saksikan momen-momen terbaik dan kegembiraan para pemain dan fans! #TimnasLolos [link video]\n",
    "\n",
    "## 4. Penampilan Anang Menyanyikan \"Indonesia Pusaka\" Sebelum Pertandingan (Anger)\n",
    "**Konten Marah**: Video atau artikel yang membahas reaksi emosional penggemar terhadap penampilan Anang menyanyikan \"Indonesia Pusaka\" sebelum pertandingan, dengan fokus pada kontroversi dan pendapat yang beragam.\n",
    "\n",
    "**Contoh Tweet**:\n",
    "> Penampilan Anang menyanyikan \"Indonesia Pusaka\" sebelum pertandingan menimbulkan berbagai reaksi. Apa pendapat kalian? #IndonesiaPusaka [link video]\n",
    "\n",
    "## 5. Performa Thom Haye dan Verdonk di lapangan saat bersama timnas(Love)\n",
    "**Konten Cinta**: Video reaksi penggemar yang menunjukkan dukungan dan kasih sayang mereka kepada pemain seperti Verdonk dan Haye. Testimoni dari fans tentang kecintaan mereka pada pemain dan tim.\n",
    "\n",
    "**Contoh Tweet**:\n",
    "> Dukungan luar biasa dari penggemar untuk Verdonk dan Haye! ❤️ Saksikan reaksi dan testimoni mereka tentang kecintaan pada Timnas Indonesia. #LoveForTimnas [link video]\n",
    "\n",
    "## 6. Momen Bersejarah dan Gol Penting Timnas Indonesia (Joy)\n",
    "**Konten Senang**: Cuplikan video dari momen-momen bersejarah dan gol-gol penting yang dicetak oleh Timnas Indonesia dalam babak kualifikasi dan turnamen AFF.\n",
    "\n",
    "**Contoh Tweet**:\n",
    "> Gol-gol bersejarah dari Timnas Indonesia di babak kualifikasi dan turnamen AFF! 🎊 Saksikan momen-momen terbaik di sini. #TimnasGol [link video]\n",
    "\n",
    "## 7. Kondisi Rumput di Stadion Gelora Bung Karno Setelah Konser (Fear)\n",
    "**Konten Takut**: Video yang menunjukkan kondisi rumput di Stadion Gelora Bung Karno setelah konser, dengan sorotan pada keluhan penggemar mengenai dampaknya pada performa timnas Indonesia di lapangan.\n",
    "\n",
    "**Contoh Tweet**:\n",
    "> Lihat kondisi rumput Stadion Gelora Bung Karno setelah konser dan bagaimana ini memengaruhi performa timnas Indonesia. #GBKRumput [link video]\n",
    "\n",
    "## 8. Diskusi Strategi Pelatih Shin Tae-yong dan Potensi Pemain Diaspora (Joy)\n",
    "**Konten Senang**: Video yang menyoroti strategi pelatih Shin Tae-yong dan performa pemain seperti Ernando dan Verdonk, termasuk diskusi tentang potensi pemain diaspora untuk memperkuat timnas.\n",
    "\n",
    "**Contoh Tweet**:\n",
    "> Lihat bagaimana strategi Shin Tae-yong membawa Timnas Indonesia ke puncak! 🎉 Diskusi tentang pemain diaspora dan potensi mereka di sini. 💪🇮🇩 [link video]\n",
    "\n",
    "## 9. Kondisi Lapangan dan Performa Pemain di Berbagai Pertandingan (Fear)\n",
    "**Konten Takut**: Video yang menunjukkan kondisi lapangan yang kurang baik dan dampaknya pada performa pemain Timnas Indonesia di berbagai pertandingan.\n",
    "\n",
    "**Contoh Tweet**:\n",
    "> Kondisi lapangan yang kurang baik memengaruhi performa pemain Timnas Indonesia. Lihat bagaimana ini berdampak pada pertandingan. #KondisiLapangan [link video]\n",
    "\n",
    "## 10. Pengalaman Penggemar Menonton Pertandingan Timnas Indonesia (Fear)\n",
    "**Konten Takut**: Video yang menunjukkan pengalaman penggemar saat menonton pertandingan timnas, dengan fokus pada momen-momen penting dan rasa takut akan ketinggalan (FOMO).\n",
    "\n",
    "**Contoh Tweet**:\n",
    "> Banyak yang merasa FOMO karena tidak bisa menonton langsung Timnas. 😢 Simak cerita mereka dan dukung Timnas dari rumah! #FOMOTimnas [link video]"
   ]
  }
 ],
 "metadata": {
  "kernelspec": {
   "display_name": "base",
   "language": "python",
   "name": "python3"
  },
  "language_info": {
   "codemirror_mode": {
    "name": "ipython",
    "version": 3
   },
   "file_extension": ".py",
   "mimetype": "text/x-python",
   "name": "python",
   "nbconvert_exporter": "python",
   "pygments_lexer": "ipython3",
   "version": "3.11.4"
  }
 },
 "nbformat": 4,
 "nbformat_minor": 2
}
