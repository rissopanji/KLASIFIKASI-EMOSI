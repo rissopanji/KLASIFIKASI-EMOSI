{
 "cells": [
  {
   "cell_type": "markdown",
   "metadata": {},
   "source": [
    "## **09. Representasi Pengetahuan (Knowledge Representation)**\n",
    "\n",
    "---\n"
   ]
  },
  {
   "cell_type": "code",
   "execution_count": 80,
   "metadata": {},
   "outputs": [],
   "source": [
    "import pandas as pd\n",
    "import matplotlib.pyplot as plt\n",
    "import seaborn as sns"
   ]
  },
  {
   "cell_type": "code",
   "execution_count": 81,
   "metadata": {},
   "outputs": [],
   "source": [
    "data_testing = pd.read_csv('sorted_topic_cluster_counts.csv')"
   ]
  },
  {
   "cell_type": "code",
   "execution_count": 82,
   "metadata": {},
   "outputs": [
    {
     "name": "stdout",
     "output_type": "stream",
     "text": [
      "count    1880.000000\n",
      "mean       18.262766\n",
      "std        11.283473\n",
      "min         2.000000\n",
      "25%        10.000000\n",
      "50%        15.000000\n",
      "75%        25.000000\n",
      "max        54.000000\n",
      "Name: full_text, dtype: float64\n"
     ]
    }
   ],
   "source": [
    "#eda dari data_testing jumlah kosa kata dan kata terpanjang pada full_text\n",
    "print(data_testing['full_text'].str.split().apply(len).describe())\n",
    "\n"
   ]
  },
  {
   "cell_type": "code",
   "execution_count": 83,
   "metadata": {},
   "outputs": [
    {
     "data": {
      "text/plain": [
       "Index(['conversation_id_str', 'created_at', 'favorite_count', 'full_text',\n",
       "       'id_str', 'lang', 'location', 'probability', 'quote_count',\n",
       "       'reply_count', 'retweet_count', 'topic', 'tweet_url', 'user_id_str',\n",
       "       'username', 'in_reply_to_screen_name', 'image_url', 'context',\n",
       "       'emotion'],\n",
       "      dtype='object')"
      ]
     },
     "execution_count": 83,
     "metadata": {},
     "output_type": "execute_result"
    }
   ],
   "source": [
    "#tampilkan atribut yang ada di data\n",
    "data_testing.columns"
   ]
  },
  {
   "cell_type": "code",
   "execution_count": 84,
   "metadata": {},
   "outputs": [],
   "source": [
    "#ubah nama atribut topic_cluster menjadi topic\n",
    "data_testing.rename(columns={'topic_cluster':'topic'}, inplace=True)\n",
    "\n",
    "#tambahkan atribut probability = 0\n",
    "data_testing['probability'] = 0\n",
    "\n",
    "#tambahkan atribut konteks dengan 0\n",
    "data_testing['context'] = 0\n"
   ]
  },
  {
   "cell_type": "code",
   "execution_count": 85,
   "metadata": {},
   "outputs": [
    {
     "data": {
      "text/html": [
       "<div>\n",
       "<style scoped>\n",
       "    .dataframe tbody tr th:only-of-type {\n",
       "        vertical-align: middle;\n",
       "    }\n",
       "\n",
       "    .dataframe tbody tr th {\n",
       "        vertical-align: top;\n",
       "    }\n",
       "\n",
       "    .dataframe thead th {\n",
       "        text-align: right;\n",
       "    }\n",
       "</style>\n",
       "<table border=\"1\" class=\"dataframe\">\n",
       "  <thead>\n",
       "    <tr style=\"text-align: right;\">\n",
       "      <th></th>\n",
       "      <th>username</th>\n",
       "      <th>full_text</th>\n",
       "      <th>topic</th>\n",
       "      <th>emotion</th>\n",
       "    </tr>\n",
       "  </thead>\n",
       "  <tbody>\n",
       "    <tr>\n",
       "      <th>0</th>\n",
       "      <td>tigapuluhtigax</td>\n",
       "      <td>TIMNAS PRIA DAN WANITA MENANG + ERIK TEN HAG STAY</td>\n",
       "      <td>1</td>\n",
       "      <td>Joy</td>\n",
       "    </tr>\n",
       "    <tr>\n",
       "      <th>1</th>\n",
       "      <td>sotongism</td>\n",
       "      <td>ngerasa ga sih sekarang timnas kalo main pakek jersey putih tuh aura menangnya naik drastis beda sama dulu kalo main pakek jersey putih nih pesimis duluan #TimnasDay</td>\n",
       "      <td>3</td>\n",
       "      <td>Fear</td>\n",
       "    </tr>\n",
       "    <tr>\n",
       "      <th>2</th>\n",
       "      <td>peanutkacang123</td>\n",
       "      <td>2 Sejarah Dicetak Timnas Indonesia Usai Ganyang Filipina STY Pelatih Pemecah Rekor. #TimNasDay https://t.co/nLxTrlEYx5.</td>\n",
       "      <td>3</td>\n",
       "      <td>Joy</td>\n",
       "    </tr>\n",
       "    <tr>\n",
       "      <th>3</th>\n",
       "      <td>PKananku1927</td>\n",
       "      <td>@womensfootie_id Tinggal tmbah pemain diaspora bisa lah ini timnas putri bersaing di Asia</td>\n",
       "      <td>1</td>\n",
       "      <td>Neutral</td>\n",
       "    </tr>\n",
       "    <tr>\n",
       "      <th>4</th>\n",
       "      <td>kangsil2012</td>\n",
       "      <td>Timnas Indonesia Vs Timnas Filipina 2-0 Indonesia Lolos ke Putaran Ketiga Kuaifikasi Piala Dunia 2026 https://t.co/if6QFIOQdd #sepakbola #IndonesiaFilipina #kualifikasipialadunia #TimnasIndonesia #TimnasFilipina #pssi</td>\n",
       "      <td>2</td>\n",
       "      <td>Joy</td>\n",
       "    </tr>\n",
       "    <tr>\n",
       "      <th>5</th>\n",
       "      <td>refnotrev</td>\n",
       "      <td>@amayzing__ @idextratime antara lu fomo timnas atau emang kaga ngerti sistem pot</td>\n",
       "      <td>8</td>\n",
       "      <td>Fear</td>\n",
       "    </tr>\n",
       "    <tr>\n",
       "      <th>6</th>\n",
       "      <td>KimJongUncchhhh</td>\n",
       "      <td>@fahmiiiiii14 @idextratime Beliau ini literally mantan pemain timnas yg beneran orang bola. Lah yg duduk di vip malah artis2 ga jelas. Kesannya kek habis manis sepah dibuang njir</td>\n",
       "      <td>3</td>\n",
       "      <td>Anger</td>\n",
       "    </tr>\n",
       "    <tr>\n",
       "      <th>7</th>\n",
       "      <td>joyszeamays</td>\n",
       "      <td>Ternyata jodohnya sama Indo-Philiphine bukan Indo-Irak. Bonus liat perjuangan timnas lolos ke putaran ketiga : )</td>\n",
       "      <td>2</td>\n",
       "      <td>Joy</td>\n",
       "    </tr>\n",
       "    <tr>\n",
       "      <th>8</th>\n",
       "      <td>DenSombedt</td>\n",
       "      <td>@StatsRawon Kyok e Malik Rivera ambek glison Costa soale Malik wes mari teko timnas Kari Poto ambk gwe vidio</td>\n",
       "      <td>3</td>\n",
       "      <td>Neutral</td>\n",
       "    </tr>\n",
       "    <tr>\n",
       "      <th>9</th>\n",
       "      <td>ilyasaihza_</td>\n",
       "      <td>Sareneng kitu timnas menang? Abi mah bodo amat</td>\n",
       "      <td>4</td>\n",
       "      <td>Neutral</td>\n",
       "    </tr>\n",
       "  </tbody>\n",
       "</table>\n",
       "</div>"
      ],
      "text/plain": [
       "          username  \\\n",
       "0   tigapuluhtigax   \n",
       "1        sotongism   \n",
       "2  peanutkacang123   \n",
       "3     PKananku1927   \n",
       "4      kangsil2012   \n",
       "5        refnotrev   \n",
       "6  KimJongUncchhhh   \n",
       "7      joyszeamays   \n",
       "8       DenSombedt   \n",
       "9      ilyasaihza_   \n",
       "\n",
       "                                                                                                                                                                                                                   full_text  \\\n",
       "0                                                                                                                                                                          TIMNAS PRIA DAN WANITA MENANG + ERIK TEN HAG STAY   \n",
       "1                                                      ngerasa ga sih sekarang timnas kalo main pakek jersey putih tuh aura menangnya naik drastis beda sama dulu kalo main pakek jersey putih nih pesimis duluan #TimnasDay   \n",
       "2                                                                                                    2 Sejarah Dicetak Timnas Indonesia Usai Ganyang Filipina STY Pelatih Pemecah Rekor. #TimNasDay https://t.co/nLxTrlEYx5.   \n",
       "3                                                                                                                                 @womensfootie_id Tinggal tmbah pemain diaspora bisa lah ini timnas putri bersaing di Asia    \n",
       "4  Timnas Indonesia Vs Timnas Filipina 2-0 Indonesia Lolos ke Putaran Ketiga Kuaifikasi Piala Dunia 2026 https://t.co/if6QFIOQdd #sepakbola #IndonesiaFilipina #kualifikasipialadunia #TimnasIndonesia #TimnasFilipina #pssi   \n",
       "5                                                                                                                                           @amayzing__ @idextratime antara lu fomo timnas atau emang kaga ngerti sistem pot   \n",
       "6                                         @fahmiiiiii14 @idextratime Beliau ini literally mantan pemain timnas yg beneran orang bola. Lah yg duduk di vip malah artis2 ga jelas. Kesannya kek habis manis sepah dibuang njir   \n",
       "7                                                                                                           Ternyata jodohnya sama Indo-Philiphine bukan Indo-Irak. Bonus liat perjuangan timnas lolos ke putaran ketiga : )   \n",
       "8                                                                                                               @StatsRawon Kyok e Malik Rivera ambek glison Costa soale Malik wes mari teko timnas Kari Poto ambk gwe vidio   \n",
       "9                                                                                                                                                                             Sareneng kitu timnas menang? Abi mah bodo amat   \n",
       "\n",
       "   topic  emotion  \n",
       "0      1      Joy  \n",
       "1      3     Fear  \n",
       "2      3      Joy  \n",
       "3      1  Neutral  \n",
       "4      2      Joy  \n",
       "5      8     Fear  \n",
       "6      3    Anger  \n",
       "7      2      Joy  \n",
       "8      3  Neutral  \n",
       "9      4  Neutral  "
      ]
     },
     "execution_count": 85,
     "metadata": {},
     "output_type": "execute_result"
    }
   ],
   "source": [
    "#tampilkan hanya kolom full_text, topic_cluster, emotion dan username\n",
    "merged_df = data_testing[['username','full_text','topic', 'emotion']]\n",
    "\n",
    "merged_df.head(10)"
   ]
  },
  {
   "cell_type": "code",
   "execution_count": 86,
   "metadata": {},
   "outputs": [
    {
     "data": {
      "text/plain": [
       "emotion\n",
       "Joy        858\n",
       "Neutral    378\n",
       "Anger      317\n",
       "Love       141\n",
       "Fear       123\n",
       "Sad         63\n",
       "Name: count, dtype: int64"
      ]
     },
     "execution_count": 86,
     "metadata": {},
     "output_type": "execute_result"
    }
   ],
   "source": [
    "#count emotion\n",
    "emotion_count = merged_df['emotion'].value_counts()\n",
    "emotion_count"
   ]
  },
  {
   "cell_type": "code",
   "execution_count": 87,
   "metadata": {},
   "outputs": [
    {
     "data": {
      "text/plain": [
       "Text(0.5, 0, 'Emotion')"
      ]
     },
     "execution_count": 87,
     "metadata": {},
     "output_type": "execute_result"
    },
    {
     "data": {
      "image/png": "[encoded data removed]",
      "text/plain": [
       "<Figure size 640x480 with 1 Axes>"
      ]
     },
     "metadata": {},
     "output_type": "display_data"
    }
   ],
   "source": [
    "#visualisasikan value_counts dari emotion jadi graph\n",
    "emotion_count.plot(kind='bar')\n",
    "plt.title('Emotion Distribution')\n",
    "plt.xlabel('Emotion')"
   ]
  },
  {
   "cell_type": "code",
   "execution_count": 88,
   "metadata": {},
   "outputs": [
    {
     "name": "stdout",
     "output_type": "stream",
     "text": [
      "username     0\n",
      "full_text    0\n",
      "topic        0\n",
      "emotion      0\n",
      "dtype: int64\n"
     ]
    }
   ],
   "source": [
    "jumlah_nan = merged_df.isna().sum()\n",
    "\n",
    "print(jumlah_nan)"
   ]
  },
  {
   "cell_type": "markdown",
   "metadata": {},
   "source": [
    "## Knowledge"
   ]
  },
  {
   "cell_type": "markdown",
   "metadata": {},
   "source": [
    "### Per-Topic"
   ]
  },
  {
   "cell_type": "code",
   "execution_count": 89,
   "metadata": {},
   "outputs": [
    {
     "data": {
      "text/html": [
       "<div>\n",
       "<style scoped>\n",
       "    .dataframe tbody tr th:only-of-type {\n",
       "        vertical-align: middle;\n",
       "    }\n",
       "\n",
       "    .dataframe tbody tr th {\n",
       "        vertical-align: top;\n",
       "    }\n",
       "\n",
       "    .dataframe thead th {\n",
       "        text-align: right;\n",
       "    }\n",
       "</style>\n",
       "<table border=\"1\" class=\"dataframe\">\n",
       "  <thead>\n",
       "    <tr style=\"text-align: right;\">\n",
       "      <th></th>\n",
       "      <th>topic</th>\n",
       "      <th>count</th>\n",
       "    </tr>\n",
       "  </thead>\n",
       "  <tbody>\n",
       "    <tr>\n",
       "      <th>0</th>\n",
       "      <td>3</td>\n",
       "      <td>351</td>\n",
       "    </tr>\n",
       "    <tr>\n",
       "      <th>1</th>\n",
       "      <td>0</td>\n",
       "      <td>335</td>\n",
       "    </tr>\n",
       "    <tr>\n",
       "      <th>2</th>\n",
       "      <td>1</td>\n",
       "      <td>292</td>\n",
       "    </tr>\n",
       "    <tr>\n",
       "      <th>3</th>\n",
       "      <td>2</td>\n",
       "      <td>264</td>\n",
       "    </tr>\n",
       "    <tr>\n",
       "      <th>4</th>\n",
       "      <td>4</td>\n",
       "      <td>243</td>\n",
       "    </tr>\n",
       "    <tr>\n",
       "      <th>5</th>\n",
       "      <td>5</td>\n",
       "      <td>157</td>\n",
       "    </tr>\n",
       "    <tr>\n",
       "      <th>6</th>\n",
       "      <td>7</td>\n",
       "      <td>84</td>\n",
       "    </tr>\n",
       "    <tr>\n",
       "      <th>7</th>\n",
       "      <td>8</td>\n",
       "      <td>76</td>\n",
       "    </tr>\n",
       "    <tr>\n",
       "      <th>8</th>\n",
       "      <td>9</td>\n",
       "      <td>54</td>\n",
       "    </tr>\n",
       "    <tr>\n",
       "      <th>9</th>\n",
       "      <td>6</td>\n",
       "      <td>24</td>\n",
       "    </tr>\n",
       "  </tbody>\n",
       "</table>\n",
       "</div>"
      ],
      "text/plain": [
       "   topic  count\n",
       "0      3    351\n",
       "1      0    335\n",
       "2      1    292\n",
       "3      2    264\n",
       "4      4    243\n",
       "5      5    157\n",
       "6      7     84\n",
       "7      8     76\n",
       "8      9     54\n",
       "9      6     24"
      ]
     },
     "execution_count": 89,
     "metadata": {},
     "output_type": "execute_result"
    }
   ],
   "source": [
    "topic_cluster_counts = merged_df['topic'].value_counts().reset_index()\n",
    "topic_cluster_counts"
   ]
  },
  {
   "cell_type": "code",
   "execution_count": 90,
   "metadata": {},
   "outputs": [
    {
     "data": {
      "text/plain": [
       "<Axes: xlabel='emotion', ylabel='count'>"
      ]
     },
     "execution_count": 90,
     "metadata": {},
     "output_type": "execute_result"
    },
    {
     "data": {
      "image/png": "[encoded data removed]",
      "text/plain": [
       "<Figure size 640x480 with 1 Axes>"
      ]
     },
     "metadata": {},
     "output_type": "display_data"
    }
   ],
   "source": [
    "#tampilkan semua data tanpa melihat topic\n",
    "sns.countplot(x='emotion', data=merged_df)"
   ]
  },
  {
   "cell_type": "code",
   "execution_count": 92,
   "metadata": {},
   "outputs": [
    {
     "data": {
      "text/plain": [
       "topic  emotion\n",
       "0      Joy        217\n",
       "1      Joy        181\n",
       "2      Joy        141\n",
       "3      Anger      167\n",
       "4      Love        75\n",
       "5      Joy         83\n",
       "6      Anger       12\n",
       "7      Joy         39\n",
       "8      Fear        29\n",
       "9      Love        32\n",
       "Name: count, dtype: int64"
      ]
     },
     "execution_count": 92,
     "metadata": {},
     "output_type": "execute_result"
    }
   ],
   "source": [
    "#berikan saya emosi paling banyak dari setiap topik\n",
    "topik_dan_emosi = merged_df.groupby('topic')['emotion'].value_counts().groupby('topic').head(1)\n",
    "topik_dan_emosi"
   ]
  },
  {
   "cell_type": "code",
   "execution_count": null,
   "metadata": {},
   "outputs": [
    {
     "data": {
      "text/html": [
       "<div>\n",
       "<style scoped>\n",
       "    .dataframe tbody tr th:only-of-type {\n",
       "        vertical-align: middle;\n",
       "    }\n",
       "\n",
       "    .dataframe tbody tr th {\n",
       "        vertical-align: top;\n",
       "    }\n",
       "\n",
       "    .dataframe thead th {\n",
       "        text-align: right;\n",
       "    }\n",
       "</style>\n",
       "<table border=\"1\" class=\"dataframe\">\n",
       "  <thead>\n",
       "    <tr style=\"text-align: right;\">\n",
       "      <th></th>\n",
       "      <th>emotion</th>\n",
       "      <th>count</th>\n",
       "    </tr>\n",
       "  </thead>\n",
       "  <tbody>\n",
       "    <tr>\n",
       "      <th>0</th>\n",
       "      <td>Love</td>\n",
       "      <td>32</td>\n",
       "    </tr>\n",
       "    <tr>\n",
       "      <th>1</th>\n",
       "      <td>Anger</td>\n",
       "      <td>9</td>\n",
       "    </tr>\n",
       "    <tr>\n",
       "      <th>2</th>\n",
       "      <td>Joy</td>\n",
       "      <td>5</td>\n",
       "    </tr>\n",
       "    <tr>\n",
       "      <th>3</th>\n",
       "      <td>Neutral</td>\n",
       "      <td>4</td>\n",
       "    </tr>\n",
       "    <tr>\n",
       "      <th>4</th>\n",
       "      <td>Fear</td>\n",
       "      <td>2</td>\n",
       "    </tr>\n",
       "    <tr>\n",
       "      <th>5</th>\n",
       "      <td>Sad</td>\n",
       "      <td>2</td>\n",
       "    </tr>\n",
       "  </tbody>\n",
       "</table>\n",
       "</div>"
      ],
      "text/plain": [
       "   emotion  count\n",
       "0     Love     32\n",
       "1    Anger      9\n",
       "2      Joy      5\n",
       "3  Neutral      4\n",
       "4     Fear      2\n",
       "5      Sad      2"
      ]
     },
     "execution_count": 75,
     "metadata": {},
     "output_type": "execute_result"
    }
   ],
   "source": [
    "topik_ke = 9\n",
    "\n",
    "topic_cluster_0_df = merged_df[merged_df['topic'] == topik_ke]\n",
    "topic_cluster_0_df = topic_cluster_0_df.sort_values(by='emotion', ascending=True)\n",
    "\n",
    "count_emotion = topic_cluster_0_df['emotion'].value_counts().reset_index()\n",
    "count_emotion"
   ]
  },
  {
   "cell_type": "code",
   "execution_count": null,
   "metadata": {},
   "outputs": [
    {
     "data": {
      "text/plain": [
       "<Axes: xlabel='emotion', ylabel='count'>"
      ]
     },
     "execution_count": 76,
     "metadata": {},
     "output_type": "execute_result"
    },
    {
     "data": {
      "image/png": "[encoded data removed]",
      "text/plain": [
       "<Figure size 640x480 with 1 Axes>"
      ]
     },
     "metadata": {},
     "output_type": "display_data"
    }
   ],
   "source": [
    "sns.barplot(x='emotion', y='count', data=count_emotion)\n"
   ]
  },
  {
   "cell_type": "code",
   "execution_count": null,
   "metadata": {},
   "outputs": [
    {
     "data": {
      "text/html": [
       "<div>\n",
       "<style scoped>\n",
       "    .dataframe tbody tr th:only-of-type {\n",
       "        vertical-align: middle;\n",
       "    }\n",
       "\n",
       "    .dataframe tbody tr th {\n",
       "        vertical-align: top;\n",
       "    }\n",
       "\n",
       "    .dataframe thead th {\n",
       "        text-align: right;\n",
       "    }\n",
       "</style>\n",
       "<table border=\"1\" class=\"dataframe\">\n",
       "  <thead>\n",
       "    <tr style=\"text-align: right;\">\n",
       "      <th></th>\n",
       "      <th>username</th>\n",
       "      <th>full_text</th>\n",
       "      <th>topic</th>\n",
       "      <th>emotion</th>\n",
       "    </tr>\n",
       "  </thead>\n",
       "  <tbody>\n",
       "    <tr>\n",
       "      <th>1672</th>\n",
       "      <td>cingreborn</td>\n",
       "      <td>Kerasa sakitnya sampai disini prof haye ️ #timnasday https://t.co/kG918SdSY3</td>\n",
       "      <td>9</td>\n",
       "      <td>Sad</td>\n",
       "    </tr>\n",
       "    <tr>\n",
       "      <th>252</th>\n",
       "      <td>tonokr8s</td>\n",
       "      <td>@reenriinn @YOiuoooop @hheeyheey @idextratime kalo dia ga loyal bela timnas indo dia pasti gamau berjuang dari awal siapa pemain keturunan yang ikut berjuang dari rank 180an? dia juga pasti bela thailand secara waktu itu timnas indo sangat tertinggal jauh dari thai</td>\n",
       "      <td>9</td>\n",
       "      <td>Sad</td>\n",
       "    </tr>\n",
       "    <tr>\n",
       "      <th>1872</th>\n",
       "      <td>YaaNft</td>\n",
       "      <td>Mas calvin verdok apa mas carvajal bjir menolak penyesuaian main paling santuy tapi tajam #TimnasDay</td>\n",
       "      <td>9</td>\n",
       "      <td>Neutral</td>\n",
       "    </tr>\n",
       "    <tr>\n",
       "      <th>1490</th>\n",
       "      <td>UmarrrYoo</td>\n",
       "      <td>harus rombak besar-besaran nih kejagung #timah #babel #kejagungarogan #kejagungoverbody #savebabel #timnasday #300t #ekonomibabel #tni #BUMN #Baktiuntuknegeri #kejagungri https://t.co/pCGRxxsazu</td>\n",
       "      <td>9</td>\n",
       "      <td>Neutral</td>\n",
       "    </tr>\n",
       "    <tr>\n",
       "      <th>1628</th>\n",
       "      <td>ayinsshit</td>\n",
       "      <td>AI LAFYU RIZKI RIDHOO sederhana tapi Rizky Billar cemburu cr on vid #rizkybillar #ridho #lesti #timnasday https://t.co/N6kN2XjEnF</td>\n",
       "      <td>9</td>\n",
       "      <td>Neutral</td>\n",
       "    </tr>\n",
       "    <tr>\n",
       "      <th>1472</th>\n",
       "      <td>akabarfaisall</td>\n",
       "      <td>Info slot gacor hari ini Slot server thailand Garansi kekalahan 100% Situs deposit 10k Event scatter hitam LINK GACOR : https://t.co/DjDQZ0M9Q9 Towel Adrian Jay Idzes Nathan Syifa Verdonk Thailand #TimnasDay FIFA #SLOTPGWALLET #slottergacor #situsgacor https://t.co/rhnhO9RjpB</td>\n",
       "      <td>9</td>\n",
       "      <td>Neutral</td>\n",
       "    </tr>\n",
       "    <tr>\n",
       "      <th>416</th>\n",
       "      <td>okezonenews</td>\n",
       "      <td>Timnas Indonesia Hantam Filipina 2-0 Shin Tae-yong Puas dengan Debut Calvin Verdonk https://t.co/Is41EPg8P0</td>\n",
       "      <td>9</td>\n",
       "      <td>Love</td>\n",
       "    </tr>\n",
       "    <tr>\n",
       "      <th>226</th>\n",
       "      <td>GOAL_ID</td>\n",
       "      <td>Seharusnya bisa menang 5-0. Calvin Verdonk senang bisa melakoni debutnya bersama Timnas Indonesia dengan kemenangan atas Filipina. #TimnasDay #TimnasIndonesia #WCQ2026 #Filipina https://t.co/YVkusBxeTG</td>\n",
       "      <td>9</td>\n",
       "      <td>Love</td>\n",
       "    </tr>\n",
       "    <tr>\n",
       "      <th>47</th>\n",
       "      <td>_the_blue_sea_</td>\n",
       "      <td>@Xenoverse98 @idextratime @bliblidotcom Timnas pusat: Bang Jago Belanda Timnas cabang: Kak Indo oke gas Timnas ranting: Dik Suriname cah bagos</td>\n",
       "      <td>9</td>\n",
       "      <td>Love</td>\n",
       "    </tr>\n",
       "    <tr>\n",
       "      <th>41</th>\n",
       "      <td>akankulepas</td>\n",
       "      <td>@muhfirda__ @idextratime @erickthohir Ian Maatsen bukannya dipanggil timnas Belanda ya? Gara gara De Jong dicoret</td>\n",
       "      <td>9</td>\n",
       "      <td>Love</td>\n",
       "    </tr>\n",
       "  </tbody>\n",
       "</table>\n",
       "</div>"
      ],
      "text/plain": [
       "            username  \\\n",
       "1672      cingreborn   \n",
       "252         tonokr8s   \n",
       "1872          YaaNft   \n",
       "1490       UmarrrYoo   \n",
       "1628       ayinsshit   \n",
       "1472   akabarfaisall   \n",
       "416      okezonenews   \n",
       "226          GOAL_ID   \n",
       "47    _the_blue_sea_   \n",
       "41       akankulepas   \n",
       "\n",
       "                                                                                                                                                                                                                                                                                  full_text  \\\n",
       "1672                                                                                                                                                                                                           Kerasa sakitnya sampai disini prof haye ️ #timnasday https://t.co/kG918SdSY3   \n",
       "252               @reenriinn @YOiuoooop @hheeyheey @idextratime kalo dia ga loyal bela timnas indo dia pasti gamau berjuang dari awal siapa pemain keturunan yang ikut berjuang dari rank 180an? dia juga pasti bela thailand secara waktu itu timnas indo sangat tertinggal jauh dari thai   \n",
       "1872                                                                                                                                                                                   Mas calvin verdok apa mas carvajal bjir menolak penyesuaian main paling santuy tapi tajam #TimnasDay   \n",
       "1490                                                                                     harus rombak besar-besaran nih kejagung #timah #babel #kejagungarogan #kejagungoverbody #savebabel #timnasday #300t #ekonomibabel #tni #BUMN #Baktiuntuknegeri #kejagungri https://t.co/pCGRxxsazu   \n",
       "1628                                                                                                                                                      AI LAFYU RIZKI RIDHOO sederhana tapi Rizky Billar cemburu cr on vid #rizkybillar #ridho #lesti #timnasday https://t.co/N6kN2XjEnF   \n",
       "1472   Info slot gacor hari ini Slot server thailand Garansi kekalahan 100% Situs deposit 10k Event scatter hitam LINK GACOR : https://t.co/DjDQZ0M9Q9 Towel Adrian Jay Idzes Nathan Syifa Verdonk Thailand #TimnasDay FIFA #SLOTPGWALLET #slottergacor #situsgacor https://t.co/rhnhO9RjpB   \n",
       "416                                                                                                                                                                             Timnas Indonesia Hantam Filipina 2-0 Shin Tae-yong Puas dengan Debut Calvin Verdonk https://t.co/Is41EPg8P0   \n",
       "226                                                                               Seharusnya bisa menang 5-0. Calvin Verdonk senang bisa melakoni debutnya bersama Timnas Indonesia dengan kemenangan atas Filipina. #TimnasDay #TimnasIndonesia #WCQ2026 #Filipina https://t.co/YVkusBxeTG   \n",
       "47                                                                                                                                           @Xenoverse98 @idextratime @bliblidotcom Timnas pusat: Bang Jago Belanda Timnas cabang: Kak Indo oke gas Timnas ranting: Dik Suriname cah bagos   \n",
       "41                                                                                                                                                                        @muhfirda__ @idextratime @erickthohir Ian Maatsen bukannya dipanggil timnas Belanda ya? Gara gara De Jong dicoret   \n",
       "\n",
       "      topic  emotion  \n",
       "1672      9      Sad  \n",
       "252       9      Sad  \n",
       "1872      9  Neutral  \n",
       "1490      9  Neutral  \n",
       "1628      9  Neutral  \n",
       "1472      9  Neutral  \n",
       "416       9     Love  \n",
       "226       9     Love  \n",
       "47        9     Love  \n",
       "41        9     Love  "
      ]
     },
     "execution_count": 77,
     "metadata": {},
     "output_type": "execute_result"
    }
   ],
   "source": [
    "topic_cluster_0_df = topic_cluster_0_df.sort_values(by='emotion', ascending=False)\n",
    "\n",
    "\n",
    "#tampilkan semuanya di output jangan dibatasi\n",
    "pd.set_option('display.max_rows', None)\n",
    "topic_cluster_0_df.head(10)\n"
   ]
  },
  {
   "cell_type": "code",
   "execution_count": null,
   "metadata": {},
   "outputs": [
    {
     "data": {
      "text/html": [
       "<div>\n",
       "<style scoped>\n",
       "    .dataframe tbody tr th:only-of-type {\n",
       "        vertical-align: middle;\n",
       "    }\n",
       "\n",
       "    .dataframe tbody tr th {\n",
       "        vertical-align: top;\n",
       "    }\n",
       "\n",
       "    .dataframe thead th {\n",
       "        text-align: right;\n",
       "    }\n",
       "</style>\n",
       "<table border=\"1\" class=\"dataframe\">\n",
       "  <thead>\n",
       "    <tr style=\"text-align: right;\">\n",
       "      <th></th>\n",
       "      <th>username</th>\n",
       "      <th>full_text</th>\n",
       "      <th>topic</th>\n",
       "      <th>emotion</th>\n",
       "    </tr>\n",
       "  </thead>\n",
       "  <tbody>\n",
       "    <tr>\n",
       "      <th>484</th>\n",
       "      <td>pn7l7h</td>\n",
       "      <td>Broo cepetan sidang CASnya agar segera gabung timnas klo masih dperlambat bilang aja temennya mas @gibran_tweet anak Presiden RI siapa tau bisa di urus lbh cepet. Sept sebentar lagi bro klo g pke jasa calo aja bro</td>\n",
       "      <td>9</td>\n",
       "      <td>Anger</td>\n",
       "    </tr>\n",
       "    <tr>\n",
       "      <th>1036</th>\n",
       "      <td>vickotwitt</td>\n",
       "      <td>@mynameisrichie_ @MDeva909 @DelanRamadoni22 @gilabola_ina yg FAKTA aja sekarang mereka gabung di Indonesia kaya haye usia udah 29 tahun timnas mana lagi yang mau nerima dia..tolol</td>\n",
       "      <td>9</td>\n",
       "      <td>Anger</td>\n",
       "    </tr>\n",
       "    <tr>\n",
       "      <th>756</th>\n",
       "      <td>raihansn_</td>\n",
       "      <td>Padahal sederhana. Pemain diaspora bisa bagus itu hasil kerja KNVB. Mereka pemain diaspora bisa memutuskan gabung timnas itu berkat nama besar ET yang periodik sebagai ketum (dan mungkin punya ambisi lain). PSSI sebagai federasi ya sama aja tetap busuk.</td>\n",
       "      <td>9</td>\n",
       "      <td>Anger</td>\n",
       "    </tr>\n",
       "    <tr>\n",
       "      <th>1041</th>\n",
       "      <td>vickotwitt</td>\n",
       "      <td>@Drunkenmaster29 @idextratime @bliblidotcom yoi lama2 timnas Indonesia isinya pemain instan modal keturunan sm nyanyi Indonesia raya doang</td>\n",
       "      <td>9</td>\n",
       "      <td>Anger</td>\n",
       "    </tr>\n",
       "    <tr>\n",
       "      <th>996</th>\n",
       "      <td>mynameisrichie_</td>\n",
       "      <td>@vickotwitt @MDeva909 @DelanRamadoni22 @gilabola_ina Msh aja kotak kotakin pemain naturalisasi &amp;amp; lokal. Toh mereka punya drh Indo dari keluarga. Bahkan rata-rata keluarga besar mrk masih tinggal Indonesia. Terserah Anda ga suka hak Anda balik aja sendiri ke jaman kegelapan Timnas. Gua sebagai anak La grande dukung yg skrng</td>\n",
       "      <td>9</td>\n",
       "      <td>Anger</td>\n",
       "    </tr>\n",
       "    <tr>\n",
       "      <th>1327</th>\n",
       "      <td>Starrlghttt</td>\n",
       "      <td>@apa_ini89730 @TimnasIndonesia dasar wibu bau bawang</td>\n",
       "      <td>9</td>\n",
       "      <td>Anger</td>\n",
       "    </tr>\n",
       "    <tr>\n",
       "      <th>1493</th>\n",
       "      <td>walawe77577266</td>\n",
       "      <td>kaya gak ada orang pinter lainnya aja di negeri ini #timah #babel #kejagungarogan #kejagungoverbody #savebabel #timnasday #300t #ekonomibabel #tni #BUMN #Baktiuntuknegeri #kejagungri https://t.co/Aasui8UbYZ</td>\n",
       "      <td>9</td>\n",
       "      <td>Anger</td>\n",
       "    </tr>\n",
       "    <tr>\n",
       "      <th>1489</th>\n",
       "      <td>UmarrrYoo</td>\n",
       "      <td>gimana indonesia mau maju kalau pejabatnya begini #timah #babel #kejagungarogan #kejagungoverbody #savebabel #timnasday #300t #ekonomibabel #tni #BUMN #Baktiuntuknegeri #kejagungri https://t.co/AfM3wxpwa6</td>\n",
       "      <td>9</td>\n",
       "      <td>Anger</td>\n",
       "    </tr>\n",
       "    <tr>\n",
       "      <th>12</th>\n",
       "      <td>Aryapratam19</td>\n",
       "      <td>@Iyangaprill Lawak emng org bandung ajg ni kontol lu semua pendukung Persib ajg ini timnas bung bukan dukung antar club gosa merasa klub lu hebat dari timnas jijik gua lihat komen penduduk Persib ni tolol</td>\n",
       "      <td>9</td>\n",
       "      <td>Anger</td>\n",
       "    </tr>\n",
       "  </tbody>\n",
       "</table>\n",
       "</div>"
      ],
      "text/plain": [
       "             username  \\\n",
       "484            pn7l7h   \n",
       "1036       vickotwitt   \n",
       "756         raihansn_   \n",
       "1041       vickotwitt   \n",
       "996   mynameisrichie_   \n",
       "1327      Starrlghttt   \n",
       "1493   walawe77577266   \n",
       "1489        UmarrrYoo   \n",
       "12       Aryapratam19   \n",
       "\n",
       "                                                                                                                                                                                                                                                                                                                                     full_text  \\\n",
       "484                                                                                                                      Broo cepetan sidang CASnya agar segera gabung timnas klo masih dperlambat bilang aja temennya mas @gibran_tweet anak Presiden RI siapa tau bisa di urus lbh cepet. Sept sebentar lagi bro klo g pke jasa calo aja bro   \n",
       "1036                                                                                                                                                       @mynameisrichie_ @MDeva909 @DelanRamadoni22 @gilabola_ina yg FAKTA aja sekarang mereka gabung di Indonesia kaya haye usia udah 29 tahun timnas mana lagi yang mau nerima dia..tolol   \n",
       "756                                                                              Padahal sederhana. Pemain diaspora bisa bagus itu hasil kerja KNVB. Mereka pemain diaspora bisa memutuskan gabung timnas itu berkat nama besar ET yang periodik sebagai ketum (dan mungkin punya ambisi lain). PSSI sebagai federasi ya sama aja tetap busuk.   \n",
       "1041                                                                                                                                                                                                @Drunkenmaster29 @idextratime @bliblidotcom yoi lama2 timnas Indonesia isinya pemain instan modal keturunan sm nyanyi Indonesia raya doang   \n",
       "996   @vickotwitt @MDeva909 @DelanRamadoni22 @gilabola_ina Msh aja kotak kotakin pemain naturalisasi &amp; lokal. Toh mereka punya drh Indo dari keluarga. Bahkan rata-rata keluarga besar mrk masih tinggal Indonesia. Terserah Anda ga suka hak Anda balik aja sendiri ke jaman kegelapan Timnas. Gua sebagai anak La grande dukung yg skrng   \n",
       "1327                                                                                                                                                                                                                                                                                      @apa_ini89730 @TimnasIndonesia dasar wibu bau bawang   \n",
       "1493                                                                                                                            kaya gak ada orang pinter lainnya aja di negeri ini #timah #babel #kejagungarogan #kejagungoverbody #savebabel #timnasday #300t #ekonomibabel #tni #BUMN #Baktiuntuknegeri #kejagungri https://t.co/Aasui8UbYZ   \n",
       "1489                                                                                                                              gimana indonesia mau maju kalau pejabatnya begini #timah #babel #kejagungarogan #kejagungoverbody #savebabel #timnasday #300t #ekonomibabel #tni #BUMN #Baktiuntuknegeri #kejagungri https://t.co/AfM3wxpwa6   \n",
       "12                                                                                                                                @Iyangaprill Lawak emng org bandung ajg ni kontol lu semua pendukung Persib ajg ini timnas bung bukan dukung antar club gosa merasa klub lu hebat dari timnas jijik gua lihat komen penduduk Persib ni tolol   \n",
       "\n",
       "      topic emotion  \n",
       "484       9   Anger  \n",
       "1036      9   Anger  \n",
       "756       9   Anger  \n",
       "1041      9   Anger  \n",
       "996       9   Anger  \n",
       "1327      9   Anger  \n",
       "1493      9   Anger  \n",
       "1489      9   Anger  \n",
       "12        9   Anger  "
      ]
     },
     "execution_count": 78,
     "metadata": {},
     "output_type": "execute_result"
    }
   ],
   "source": [
    "#ukuran kolom jangan dibatasi untuk full_text\n",
    "pd.set_option('display.max_colwidth', None)\n",
    "\n",
    "#tampilkan hanya emosi anger\n",
    "topic_cluster_0_df[topic_cluster_0_df['emotion'] == 'Anger'].head(10)"
   ]
  },
  {
   "cell_type": "markdown",
   "metadata": {},
   "source": [
    "# Konten Tentang Timnas Indonesia di Vidio\n",
    "\n",
    "## 1. Dukungan Penggemar untuk Timnas Indonesia (Joy)\n",
    "**Konten Senang**: Video yang menyoroti dukungan penuh dari para penggemar untuk Timnas Indonesia, termasuk ucapan selamat dan sorak-sorai setelah kemenangan dalam berbagai pertandingan.\n",
    "\n",
    "**Contoh Tweet**:\n",
    "> Dukungan luar biasa dari penggemar untuk Timnas Indonesia! 🎉 Saksikan momen-momen kegembiraan dan ucapan selamat untuk para pemain. #DukungTimnas [link video]\n",
    "\n",
    "## 2. Perjalanan Timnas Indonesia di Babak Kualifikasi Piala Dunia dan Piala Asia (Joy)\n",
    "**Konten Senang**: Video rekapitulasi perjalanan Timnas Indonesia di babak kualifikasi, termasuk momen-momen penting dan wawancara dengan pemain serta pelatih.\n",
    "\n",
    "**Contoh Tweet**:\n",
    "> Timnas Indonesia tampil impresif di kualifikasi Piala Dunia dan Piala Asia! 🎉 Saksikan rekap perjalanan mereka dan wawancara eksklusif. #TimnasKualifikasi [link video]\n",
    "\n",
    "## 3. Keberhasilan Timnas Indonesia Lolos ke Putaran Ketiga Kualifikasi Piala Dunia 2026 (Joy)\n",
    "**Konten Senang**: Cuplikan video dari momen-momen gol dan selebrasi pemain serta fans. Kutipan inspiratif dari pelatih dan pemain tentang perjalanan mereka menuju kualifikasi.\n",
    "\n",
    "**Contoh Tweet**:\n",
    "> Timnas Indonesia lolos ke putaran ketiga kualifikasi Piala Dunia 2026! 🎊 Saksikan momen-momen terbaik dan kegembiraan para pemain dan fans! #TimnasLolos [link video]\n",
    "\n",
    "## 4. Penampilan Anang Menyanyikan \"Indonesia Pusaka\" Sebelum Pertandingan (Anger)\n",
    "**Konten Marah**: Video atau artikel yang membahas reaksi emosional penggemar terhadap penampilan Anang menyanyikan \"Indonesia Pusaka\" sebelum pertandingan, dengan fokus pada kontroversi dan pendapat yang beragam.\n",
    "\n",
    "**Contoh Tweet**:\n",
    "> Penampilan Anang menyanyikan \"Indonesia Pusaka\" sebelum pertandingan menimbulkan berbagai reaksi. Apa pendapat kalian? #IndonesiaPusaka [link video]\n",
    "\n",
    "## 5. Performa Thom Haye dan Verdonk di lapangan saat bersama timnas(Love)\n",
    "**Konten Cinta**: Video reaksi penggemar yang menunjukkan dukungan dan kasih sayang mereka kepada pemain seperti Verdonk dan Haye. Testimoni dari fans tentang kecintaan mereka pada pemain dan tim.\n",
    "\n",
    "**Contoh Tweet**:\n",
    "> Dukungan luar biasa dari penggemar untuk Verdonk dan Haye! ❤️ Saksikan reaksi dan testimoni mereka tentang kecintaan pada Timnas Indonesia. #LoveForTimnas [link video]\n",
    "\n",
    "## 6. Momen Bersejarah dan Gol Penting Timnas Indonesia (Joy)\n",
    "**Konten Senang**: Cuplikan video dari momen-momen bersejarah dan gol-gol penting yang dicetak oleh Timnas Indonesia dalam babak kualifikasi dan turnamen AFF.\n",
    "\n",
    "**Contoh Tweet**:\n",
    "> Gol-gol bersejarah dari Timnas Indonesia di babak kualifikasi dan turnamen AFF! 🎊 Saksikan momen-momen terbaik di sini. #TimnasGol [link video]\n",
    "\n",
    "## 7. Kondisi Rumput di Stadion Gelora Bung Karno Setelah Konser (Fear)\n",
    "**Konten Takut**: Video yang menunjukkan kondisi rumput di Stadion Gelora Bung Karno setelah konser, dengan sorotan pada keluhan penggemar mengenai dampaknya pada performa timnas Indonesia di lapangan.\n",
    "\n",
    "**Contoh Tweet**:\n",
    "> Lihat kondisi rumput Stadion Gelora Bung Karno setelah konser dan bagaimana ini memengaruhi performa timnas Indonesia. #GBKRumput [link video]\n",
    "\n",
    "## 8. Diskusi Strategi Pelatih Shin Tae-yong dan Potensi Pemain Diaspora (Joy)\n",
    "**Konten Senang**: Video yang menyoroti strategi pelatih Shin Tae-yong dan performa pemain seperti Ernando dan Verdonk, termasuk diskusi tentang potensi pemain diaspora untuk memperkuat timnas.\n",
    "\n",
    "**Contoh Tweet**:\n",
    "> Lihat bagaimana strategi Shin Tae-yong membawa Timnas Indonesia ke puncak! 🎉 Diskusi tentang pemain diaspora dan potensi mereka di sini. 💪🇮🇩 [link video]\n",
    "\n",
    "## 9. Kondisi Lapangan dan Performa Pemain di Berbagai Pertandingan (Fear)\n",
    "**Konten Takut**: Video yang menunjukkan kondisi lapangan yang kurang baik dan dampaknya pada performa pemain Timnas Indonesia di berbagai pertandingan.\n",
    "\n",
    "**Contoh Tweet**:\n",
    "> Kondisi lapangan yang kurang baik memengaruhi performa pemain Timnas Indonesia. Lihat bagaimana ini berdampak pada pertandingan. #KondisiLapangan [link video]\n",
    "\n",
    "## 10. Pengalaman Penggemar Menonton Pertandingan Timnas Indonesia (Fear)\n",
    "**Konten Takut**: Video yang menunjukkan pengalaman penggemar saat menonton pertandingan timnas, dengan fokus pada momen-momen penting dan rasa takut akan ketinggalan (FOMO).\n",
    "\n",
    "**Contoh Tweet**:\n",
    "> Banyak yang merasa FOMO karena tidak bisa menonton langsung Timnas. 😢 Simak cerita mereka dan dukung Timnas dari rumah! #FOMOTimnas [link video]"
   ]
  }
 ],
 "metadata": {
  "kernelspec": {
   "display_name": "base",
   "language": "python",
   "name": "python3"
  },
  "language_info": {
   "codemirror_mode": {
    "name": "ipython",
    "version": 3
   },
   "file_extension": ".py",
   "mimetype": "text/x-python",
   "name": "python",
   "nbconvert_exporter": "python",
   "pygments_lexer": "ipython3",
   "version": "3.11.4"
  }
 },
 "nbformat": 4,
 "nbformat_minor": 2
}
