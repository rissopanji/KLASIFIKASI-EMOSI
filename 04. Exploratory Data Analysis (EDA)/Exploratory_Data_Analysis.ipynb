{
 "cells": [
  {
   "cell_type": "markdown",
   "metadata": {},
   "source": [
    "## **04. Exploratory Data Analysis (EDA)**\n",
    "\n",
    "---\n",
    "Memahami Struktur Data:\n",
    "\n",
    "Loading Data: Memuat data dari sumbernya, misalnya file CSV, database, atau API Twitter.\n",
    "Melihat Sekilas Data: Menampilkan beberapa baris pertama data untuk mendapatkan gambaran umum.\n",
    "Informasi Data: Menggunakan fungsi seperti .info() untuk melihat tipe data, jumlah nilai non-null, dan lain-lain.\n",
    "\n",
    "Analisis Statistik Deskriptif:\n",
    "\n",
    "Frekuensi Kata: Menghitung frekuensi kata untuk mengidentifikasi kata-kata yang paling sering muncul.\n",
    "Distribusi Panjang Tweet: Menganalisis panjang tweet untuk memahami pola distribusi panjang teks.\n",
    "Word Cloud: Membuat visualisasi awan kata untuk melihat kata-kata yang paling menonjol.\n",
    "Visualisasi Data:\n",
    "\n",
    "Histogram: Menampilkan distribusi frekuensi dari berbagai fitur, seperti jumlah kata per tweet.\n",
    "Box Plot: Mengidentifikasi outliers dan memahami distribusi data.\n",
    "Pie Chart: Menampilkan proporsi dari kategori tertentu, seperti sentimen positif, negatif, dan netral.\n",
    "Analisis Teks:\n",
    "\n",
    "Sentiment Analysis: Menggunakan alat atau pustaka untuk menentukan sentimen dari tweet.\n",
    "Topic Modeling: Mengidentifikasi topik utama yang ada di dalam kumpulan tweet.\n",
    "N-gram Analysis: Menganalisis pasangan kata (bigram, trigram) yang sering muncul bersama.\n",
    "Analisis Korelasi:\n",
    "\n",
    "Mencari Pola: Menganalisis korelasi antara berbagai fitur dalam data, seperti hubungan antara panjang tweet dan jumlah retweet.\n",
    "Heatmap: Menggunakan peta panas untuk visualisasi korelasi antara berbagai fitur.\n",
    "Kesimpulan dan Hipotesis:\n",
    "\n",
    "Merangkum Temuan: Menyusun temuan utama dari EDA dan bagaimana temuan tersebut dapat mempengaruhi langkah selanjutnya.\n",
    "Membuat Hipotesis: Mengembangkan hipotesis berdasarkan analisis awal untuk pengujian lebih lanjut.\n"
   ]
  },
  {
   "cell_type": "markdown",
   "metadata": {},
   "source": [
    "## Import Library"
   ]
  },
  {
   "cell_type": "code",
   "execution_count": 264,
   "metadata": {},
   "outputs": [],
   "source": [
    "import pandas as pd\n",
    "import numpy\n",
    "import seaborn as sns\n",
    "import matplotlib.pyplot as plt\n",
    "import sys"
   ]
  },
  {
   "cell_type": "markdown",
   "metadata": {},
   "source": [
    "Loading Data"
   ]
  },
  {
   "cell_type": "code",
   "execution_count": 265,
   "metadata": {},
   "outputs": [],
   "source": [
    "data = pd.read_csv(\n",
    "    '../03. Integrasi Data (Data Integration)/Dataset_Integration.csv', \n",
    "    sep=\"\\t\"\n",
    ")"
   ]
  },
  {
   "cell_type": "markdown",
   "metadata": {},
   "source": [
    "## A. Data Structure"
   ]
  },
  {
   "cell_type": "code",
   "execution_count": 266,
   "metadata": {},
   "outputs": [
    {
     "data": {
      "text/html": [
       "<div>\n",
       "<style scoped>\n",
       "    .dataframe tbody tr th:only-of-type {\n",
       "        vertical-align: middle;\n",
       "    }\n",
       "\n",
       "    .dataframe tbody tr th {\n",
       "        vertical-align: top;\n",
       "    }\n",
       "\n",
       "    .dataframe thead th {\n",
       "        text-align: right;\n",
       "    }\n",
       "</style>\n",
       "<table border=\"1\" class=\"dataframe\">\n",
       "  <thead>\n",
       "    <tr style=\"text-align: right;\">\n",
       "      <th></th>\n",
       "      <th>tweet</th>\n",
       "      <th>label</th>\n",
       "    </tr>\n",
       "  </thead>\n",
       "  <tbody>\n",
       "    <tr>\n",
       "      <th>0</th>\n",
       "      <td>pengabdian yang terpuji meskipun terlihat biasa</td>\n",
       "      <td>Neutral</td>\n",
       "    </tr>\n",
       "    <tr>\n",
       "      <th>1</th>\n",
       "      <td>baru saja mengirim foto</td>\n",
       "      <td>Neutral</td>\n",
       "    </tr>\n",
       "    <tr>\n",
       "      <th>2</th>\n",
       "      <td>apa kabar dunia twitter ? masihkah selucu dan ...</td>\n",
       "      <td>Neutral</td>\n",
       "    </tr>\n",
       "    <tr>\n",
       "      <th>3</th>\n",
       "      <td>yah gimana sih yang yaudah susul aku dulu kita...</td>\n",
       "      <td>Neutral</td>\n",
       "    </tr>\n",
       "    <tr>\n",
       "      <th>4</th>\n",
       "      <td>saja ka dorg suro beli medium 2 set</td>\n",
       "      <td>Neutral</td>\n",
       "    </tr>\n",
       "    <tr>\n",
       "      <th>...</th>\n",
       "      <td>...</td>\n",
       "      <td>...</td>\n",
       "    </tr>\n",
       "    <tr>\n",
       "      <th>28710</th>\n",
       "      <td>Aku pengen bnget nih,daerah jakarta barat ada ...</td>\n",
       "      <td>Neutral</td>\n",
       "    </tr>\n",
       "    <tr>\n",
       "      <th>28711</th>\n",
       "      <td>Selamat Hari Raya Tri Suci Waisak untuk seluru...</td>\n",
       "      <td>Joy</td>\n",
       "    </tr>\n",
       "    <tr>\n",
       "      <th>28712</th>\n",
       "      <td>Kandungan serat di passion fruit atau markisa ...</td>\n",
       "      <td>Love</td>\n",
       "    </tr>\n",
       "    <tr>\n",
       "      <th>28713</th>\n",
       "      <td>Selamat memperingati Hari Kebangkitan Nasional...</td>\n",
       "      <td>Joy</td>\n",
       "    </tr>\n",
       "    <tr>\n",
       "      <th>28714</th>\n",
       "      <td>Olive oil dapat digunakan untuk mengobati kuli...</td>\n",
       "      <td>Love</td>\n",
       "    </tr>\n",
       "  </tbody>\n",
       "</table>\n",
       "<p>28715 rows × 2 columns</p>\n",
       "</div>"
      ],
      "text/plain": [
       "                                                   tweet    label\n",
       "0        pengabdian yang terpuji meskipun terlihat biasa  Neutral\n",
       "1                                baru saja mengirim foto  Neutral\n",
       "2      apa kabar dunia twitter ? masihkah selucu dan ...  Neutral\n",
       "3      yah gimana sih yang yaudah susul aku dulu kita...  Neutral\n",
       "4                    saja ka dorg suro beli medium 2 set  Neutral\n",
       "...                                                  ...      ...\n",
       "28710  Aku pengen bnget nih,daerah jakarta barat ada ...  Neutral\n",
       "28711  Selamat Hari Raya Tri Suci Waisak untuk seluru...      Joy\n",
       "28712  Kandungan serat di passion fruit atau markisa ...     Love\n",
       "28713  Selamat memperingati Hari Kebangkitan Nasional...      Joy\n",
       "28714  Olive oil dapat digunakan untuk mengobati kuli...     Love\n",
       "\n",
       "[28715 rows x 2 columns]"
      ]
     },
     "execution_count": 266,
     "metadata": {},
     "output_type": "execute_result"
    }
   ],
   "source": [
    "data"
   ]
  },
  {
   "cell_type": "code",
   "execution_count": 267,
   "metadata": {},
   "outputs": [
    {
     "name": "stdout",
     "output_type": "stream",
     "text": [
      "<class 'pandas.core.frame.DataFrame'>\n",
      "RangeIndex: 28715 entries, 0 to 28714\n",
      "Data columns (total 2 columns):\n",
      " #   Column  Non-Null Count  Dtype \n",
      "---  ------  --------------  ----- \n",
      " 0   tweet   28715 non-null  object\n",
      " 1   label   28700 non-null  object\n",
      "dtypes: object(2)\n",
      "memory usage: 448.8+ KB\n",
      "None\n"
     ]
    }
   ],
   "source": [
    "print(data.info())"
   ]
  },
  {
   "cell_type": "markdown",
   "metadata": {},
   "source": [
    "## C. Label Proportion"
   ]
  },
  {
   "cell_type": "code",
   "execution_count": 268,
   "metadata": {},
   "outputs": [
    {
     "name": "stdout",
     "output_type": "stream",
     "text": [
      "label\n",
      "Joy        6638\n",
      "Anger      5757\n",
      "Sad        4857\n",
      "Love       4411\n",
      "Neutral    3550\n",
      "Fear       3487\n",
      "Name: count, dtype: int64\n"
     ]
    }
   ],
   "source": [
    "print(data['label'].value_counts())"
   ]
  },
  {
   "cell_type": "code",
   "execution_count": 269,
   "metadata": {},
   "outputs": [
    {
     "data": {
      "image/png": "[encoded data removed]",
      "text/plain": [
       "<Figure size 1000x600 with 1 Axes>"
      ]
     },
     "metadata": {},
     "output_type": "display_data"
    }
   ],
   "source": [
    "label_counts = data[\"label\"].value_counts()\n",
    "\n",
    "# Generate a color palette with a unique color for each label\n",
    "palette = sns.color_palette(\"husl\", len(label_counts))\n",
    "\n",
    "# Create a bar plot\n",
    "plt.figure(figsize=(10, 6))\n",
    "label_counts.plot(kind='bar', color=palette)\n",
    "plt.title('Distribution of Labels')\n",
    "plt.xlabel('Labels')\n",
    "plt.ylabel('Count')\n",
    "plt.xticks(rotation=45)  # Rotate x-axis labels for better readability\n",
    "plt.show()"
   ]
  },
  {
   "cell_type": "markdown",
   "metadata": {},
   "source": [
    "## D. Character Analysis Tweet"
   ]
  },
  {
   "cell_type": "markdown",
   "metadata": {},
   "source": [
    "### 1. Karakter"
   ]
  },
  {
   "cell_type": "code",
   "execution_count": 270,
   "metadata": {},
   "outputs": [
    {
     "data": {
      "text/html": [
       "<div>\n",
       "<style scoped>\n",
       "    .dataframe tbody tr th:only-of-type {\n",
       "        vertical-align: middle;\n",
       "    }\n",
       "\n",
       "    .dataframe tbody tr th {\n",
       "        vertical-align: top;\n",
       "    }\n",
       "\n",
       "    .dataframe thead th {\n",
       "        text-align: right;\n",
       "    }\n",
       "</style>\n",
       "<table border=\"1\" class=\"dataframe\">\n",
       "  <thead>\n",
       "    <tr style=\"text-align: right;\">\n",
       "      <th></th>\n",
       "      <th>tweet</th>\n",
       "      <th>label</th>\n",
       "      <th>Length</th>\n",
       "    </tr>\n",
       "  </thead>\n",
       "  <tbody>\n",
       "    <tr>\n",
       "      <th>0</th>\n",
       "      <td>pengabdian yang terpuji meskipun terlihat biasa</td>\n",
       "      <td>Neutral</td>\n",
       "      <td>47</td>\n",
       "    </tr>\n",
       "    <tr>\n",
       "      <th>1</th>\n",
       "      <td>baru saja mengirim foto</td>\n",
       "      <td>Neutral</td>\n",
       "      <td>23</td>\n",
       "    </tr>\n",
       "    <tr>\n",
       "      <th>2</th>\n",
       "      <td>apa kabar dunia twitter ? masihkah selucu dan ...</td>\n",
       "      <td>Neutral</td>\n",
       "      <td>61</td>\n",
       "    </tr>\n",
       "    <tr>\n",
       "      <th>3</th>\n",
       "      <td>yah gimana sih yang yaudah susul aku dulu kita...</td>\n",
       "      <td>Neutral</td>\n",
       "      <td>76</td>\n",
       "    </tr>\n",
       "    <tr>\n",
       "      <th>4</th>\n",
       "      <td>saja ka dorg suro beli medium 2 set</td>\n",
       "      <td>Neutral</td>\n",
       "      <td>35</td>\n",
       "    </tr>\n",
       "    <tr>\n",
       "      <th>...</th>\n",
       "      <td>...</td>\n",
       "      <td>...</td>\n",
       "      <td>...</td>\n",
       "    </tr>\n",
       "    <tr>\n",
       "      <th>28710</th>\n",
       "      <td>Aku pengen bnget nih,daerah jakarta barat ada ...</td>\n",
       "      <td>Neutral</td>\n",
       "      <td>51</td>\n",
       "    </tr>\n",
       "    <tr>\n",
       "      <th>28711</th>\n",
       "      <td>Selamat Hari Raya Tri Suci Waisak untuk seluru...</td>\n",
       "      <td>Joy</td>\n",
       "      <td>336</td>\n",
       "    </tr>\n",
       "    <tr>\n",
       "      <th>28712</th>\n",
       "      <td>Kandungan serat di passion fruit atau markisa ...</td>\n",
       "      <td>Love</td>\n",
       "      <td>634</td>\n",
       "    </tr>\n",
       "    <tr>\n",
       "      <th>28713</th>\n",
       "      <td>Selamat memperingati Hari Kebangkitan Nasional...</td>\n",
       "      <td>Joy</td>\n",
       "      <td>329</td>\n",
       "    </tr>\n",
       "    <tr>\n",
       "      <th>28714</th>\n",
       "      <td>Olive oil dapat digunakan untuk mengobati kuli...</td>\n",
       "      <td>Love</td>\n",
       "      <td>635</td>\n",
       "    </tr>\n",
       "  </tbody>\n",
       "</table>\n",
       "<p>28715 rows × 3 columns</p>\n",
       "</div>"
      ],
      "text/plain": [
       "                                                   tweet    label  Length\n",
       "0        pengabdian yang terpuji meskipun terlihat biasa  Neutral      47\n",
       "1                                baru saja mengirim foto  Neutral      23\n",
       "2      apa kabar dunia twitter ? masihkah selucu dan ...  Neutral      61\n",
       "3      yah gimana sih yang yaudah susul aku dulu kita...  Neutral      76\n",
       "4                    saja ka dorg suro beli medium 2 set  Neutral      35\n",
       "...                                                  ...      ...     ...\n",
       "28710  Aku pengen bnget nih,daerah jakarta barat ada ...  Neutral      51\n",
       "28711  Selamat Hari Raya Tri Suci Waisak untuk seluru...      Joy     336\n",
       "28712  Kandungan serat di passion fruit atau markisa ...     Love     634\n",
       "28713  Selamat memperingati Hari Kebangkitan Nasional...      Joy     329\n",
       "28714  Olive oil dapat digunakan untuk mengobati kuli...     Love     635\n",
       "\n",
       "[28715 rows x 3 columns]"
      ]
     },
     "execution_count": 270,
     "metadata": {},
     "output_type": "execute_result"
    }
   ],
   "source": [
    "data['Length'] = data['tweet'].str.len()\n",
    "data"
   ]
  },
  {
   "cell_type": "code",
   "execution_count": 271,
   "metadata": {},
   "outputs": [
    {
     "name": "stdout",
     "output_type": "stream",
     "text": [
      "Rata-rata panjang karakter tweet : 143.26\n"
     ]
    }
   ],
   "source": [
    "print(f\"Rata-rata panjang karakter tweet : {data['Length'].mean():.2f}\")"
   ]
  },
  {
   "cell_type": "code",
   "execution_count": 272,
   "metadata": {},
   "outputs": [
    {
     "name": "stdout",
     "output_type": "stream",
     "text": [
      "Jumlah panjang karakter tweet  : 4113785.00\n"
     ]
    }
   ],
   "source": [
    "print(f\"Jumlah panjang karakter tweet  : {data['Length'].sum():.2f}\")"
   ]
  },
  {
   "cell_type": "markdown",
   "metadata": {},
   "source": [
    "### 2. Kata"
   ]
  },
  {
   "cell_type": "code",
   "execution_count": 273,
   "metadata": {},
   "outputs": [],
   "source": [
    "# Define the word count function\n",
    "def word_count(tweet):\n",
    "    tweet_list = tweet.split()\n",
    "    return len(tweet_list)\n",
    "\n",
    "# Apply the word count function to the 'tweet' column\n",
    "data['Word_count'] = data['tweet'].apply(word_count)\n"
   ]
  },
  {
   "cell_type": "code",
   "execution_count": 274,
   "metadata": {},
   "outputs": [],
   "source": [
    "# Drop rows where Word_count is greater than 30\n",
    "#data = data[data['Word_count'] <= 35]"
   ]
  },
  {
   "cell_type": "code",
   "execution_count": 275,
   "metadata": {},
   "outputs": [
    {
     "name": "stdout",
     "output_type": "stream",
     "text": [
      "Jumlah kata : 636462.00\n",
      "Rata-rata jumlah kata : 22.16\n"
     ]
    }
   ],
   "source": [
    "# Print jumlah kata and rata-rata jumlah kata\n",
    "print(f\"Jumlah kata : {data['Word_count'].sum():.2f}\")\n",
    "print(f\"Rata-rata jumlah kata : {data['Word_count'].mean():.2f}\")\n",
    "\n"
   ]
  },
  {
   "cell_type": "code",
   "execution_count": 276,
   "metadata": {},
   "outputs": [
    {
     "data": {
      "text/html": [
       "<div>\n",
       "<style scoped>\n",
       "    .dataframe tbody tr th:only-of-type {\n",
       "        vertical-align: middle;\n",
       "    }\n",
       "\n",
       "    .dataframe tbody tr th {\n",
       "        vertical-align: top;\n",
       "    }\n",
       "\n",
       "    .dataframe thead th {\n",
       "        text-align: right;\n",
       "    }\n",
       "</style>\n",
       "<table border=\"1\" class=\"dataframe\">\n",
       "  <thead>\n",
       "    <tr style=\"text-align: right;\">\n",
       "      <th></th>\n",
       "      <th>tweet</th>\n",
       "      <th>label</th>\n",
       "      <th>Length</th>\n",
       "      <th>Word_count</th>\n",
       "    </tr>\n",
       "  </thead>\n",
       "  <tbody>\n",
       "    <tr>\n",
       "      <th>0</th>\n",
       "      <td>pengabdian yang terpuji meskipun terlihat biasa</td>\n",
       "      <td>Neutral</td>\n",
       "      <td>47</td>\n",
       "      <td>6</td>\n",
       "    </tr>\n",
       "    <tr>\n",
       "      <th>1</th>\n",
       "      <td>baru saja mengirim foto</td>\n",
       "      <td>Neutral</td>\n",
       "      <td>23</td>\n",
       "      <td>4</td>\n",
       "    </tr>\n",
       "    <tr>\n",
       "      <th>2</th>\n",
       "      <td>apa kabar dunia twitter ? masihkah selucu dan ...</td>\n",
       "      <td>Neutral</td>\n",
       "      <td>61</td>\n",
       "      <td>11</td>\n",
       "    </tr>\n",
       "    <tr>\n",
       "      <th>3</th>\n",
       "      <td>yah gimana sih yang yaudah susul aku dulu kita...</td>\n",
       "      <td>Neutral</td>\n",
       "      <td>76</td>\n",
       "      <td>14</td>\n",
       "    </tr>\n",
       "    <tr>\n",
       "      <th>4</th>\n",
       "      <td>saja ka dorg suro beli medium 2 set</td>\n",
       "      <td>Neutral</td>\n",
       "      <td>35</td>\n",
       "      <td>8</td>\n",
       "    </tr>\n",
       "    <tr>\n",
       "      <th>...</th>\n",
       "      <td>...</td>\n",
       "      <td>...</td>\n",
       "      <td>...</td>\n",
       "      <td>...</td>\n",
       "    </tr>\n",
       "    <tr>\n",
       "      <th>28710</th>\n",
       "      <td>Aku pengen bnget nih,daerah jakarta barat ada ...</td>\n",
       "      <td>Neutral</td>\n",
       "      <td>51</td>\n",
       "      <td>9</td>\n",
       "    </tr>\n",
       "    <tr>\n",
       "      <th>28711</th>\n",
       "      <td>Selamat Hari Raya Tri Suci Waisak untuk seluru...</td>\n",
       "      <td>Joy</td>\n",
       "      <td>336</td>\n",
       "      <td>22</td>\n",
       "    </tr>\n",
       "    <tr>\n",
       "      <th>28712</th>\n",
       "      <td>Kandungan serat di passion fruit atau markisa ...</td>\n",
       "      <td>Love</td>\n",
       "      <td>634</td>\n",
       "      <td>59</td>\n",
       "    </tr>\n",
       "    <tr>\n",
       "      <th>28713</th>\n",
       "      <td>Selamat memperingati Hari Kebangkitan Nasional...</td>\n",
       "      <td>Joy</td>\n",
       "      <td>329</td>\n",
       "      <td>33</td>\n",
       "    </tr>\n",
       "    <tr>\n",
       "      <th>28714</th>\n",
       "      <td>Olive oil dapat digunakan untuk mengobati kuli...</td>\n",
       "      <td>Love</td>\n",
       "      <td>635</td>\n",
       "      <td>57</td>\n",
       "    </tr>\n",
       "  </tbody>\n",
       "</table>\n",
       "<p>28715 rows × 4 columns</p>\n",
       "</div>"
      ],
      "text/plain": [
       "                                                   tweet    label  Length  \\\n",
       "0        pengabdian yang terpuji meskipun terlihat biasa  Neutral      47   \n",
       "1                                baru saja mengirim foto  Neutral      23   \n",
       "2      apa kabar dunia twitter ? masihkah selucu dan ...  Neutral      61   \n",
       "3      yah gimana sih yang yaudah susul aku dulu kita...  Neutral      76   \n",
       "4                    saja ka dorg suro beli medium 2 set  Neutral      35   \n",
       "...                                                  ...      ...     ...   \n",
       "28710  Aku pengen bnget nih,daerah jakarta barat ada ...  Neutral      51   \n",
       "28711  Selamat Hari Raya Tri Suci Waisak untuk seluru...      Joy     336   \n",
       "28712  Kandungan serat di passion fruit atau markisa ...     Love     634   \n",
       "28713  Selamat memperingati Hari Kebangkitan Nasional...      Joy     329   \n",
       "28714  Olive oil dapat digunakan untuk mengobati kuli...     Love     635   \n",
       "\n",
       "       Word_count  \n",
       "0               6  \n",
       "1               4  \n",
       "2              11  \n",
       "3              14  \n",
       "4               8  \n",
       "...           ...  \n",
       "28710           9  \n",
       "28711          22  \n",
       "28712          59  \n",
       "28713          33  \n",
       "28714          57  \n",
       "\n",
       "[28715 rows x 4 columns]"
      ]
     },
     "execution_count": 276,
     "metadata": {},
     "output_type": "execute_result"
    }
   ],
   "source": [
    "data"
   ]
  }
 ],
 "metadata": {
  "kernelspec": {
   "display_name": "base",
   "language": "python",
   "name": "python3"
  },
  "language_info": {
   "codemirror_mode": {
    "name": "ipython",
    "version": 3
   },
   "file_extension": ".py",
   "mimetype": "text/x-python",
   "name": "python",
   "nbconvert_exporter": "python",
   "pygments_lexer": "ipython3",
   "version": "3.11.5"
  }
 },
 "nbformat": 4,
 "nbformat_minor": 2
}
