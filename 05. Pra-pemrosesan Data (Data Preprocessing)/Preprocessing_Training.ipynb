{
 "cells": [
  {
   "cell_type": "markdown",
   "id": "4d4b444c",
   "metadata": {},
   "source": [
    "## **Preposessing Dataset Training**\n",
    "\n",
    "---\n",
    "\n"
   ]
  },
  {
   "cell_type": "markdown",
   "id": "2c1057f6",
   "metadata": {},
   "source": [
    "## Installing Package"
   ]
  },
  {
   "cell_type": "code",
   "execution_count": 112,
   "id": "cd7b1767-1c30-4129-ab82-b019e3a80e2d",
   "metadata": {
    "tags": []
   },
   "outputs": [
    {
     "name": "stdout",
     "output_type": "stream",
     "text": [
      "Requirement already satisfied: sastrawi in c:\\users\\temp\\miniconda3\\lib\\site-packages (1.0.1)\n",
      "Requirement already satisfied: emoji in c:\\users\\temp\\miniconda3\\lib\\site-packages (2.12.1)\n",
      "Requirement already satisfied: typing-extensions>=4.7.0 in c:\\users\\temp\\miniconda3\\lib\\site-packages (from emoji) (4.11.0)\n"
     ]
    }
   ],
   "source": [
    "!pip install sastrawi\n",
    "!pip install emoji"
   ]
  },
  {
   "cell_type": "markdown",
   "id": "ad0f5381",
   "metadata": {},
   "source": [
    "## Import Library"
   ]
  },
  {
   "cell_type": "code",
   "execution_count": 113,
   "id": "bf6ba0d2-3ab7-44d2-9a67-5a0ed171b85f",
   "metadata": {
    "tags": []
   },
   "outputs": [],
   "source": [
    "import pandas as pd\n",
    "import numpy\n",
    "import collections\n",
    "import matplotlib.pyplot as plt\n",
    "import seaborn as sns\n",
    "%matplotlib inline\n",
    "\n",
    "import re\n",
    "from nltk import tokenize\n",
    "from Sastrawi.StopWordRemover.StopWordRemoverFactory import StopWordRemoverFactory\n",
    "\n",
    "import warnings\n",
    "warnings.filterwarnings(\"ignore\")\n",
    "\n",
    "from IPython.display import display, HTML"
   ]
  },
  {
   "cell_type": "markdown",
   "id": "23cdc988-e8bd-431f-9c56-f9b7f657367b",
   "metadata": {
    "tags": []
   },
   "source": [
    "# Load Data Train"
   ]
  },
  {
   "cell_type": "code",
   "execution_count": 128,
   "id": "aaa4c449",
   "metadata": {},
   "outputs": [],
   "source": [
    "train_data = pd.concat([checking])"
   ]
  },
  {
   "cell_type": "code",
   "execution_count": 130,
   "id": "1da1f686",
   "metadata": {},
   "outputs": [
    {
     "data": {
      "text/html": [
       "<div>\n",
       "<style scoped>\n",
       "    .dataframe tbody tr th:only-of-type {\n",
       "        vertical-align: middle;\n",
       "    }\n",
       "\n",
       "    .dataframe tbody tr th {\n",
       "        vertical-align: top;\n",
       "    }\n",
       "\n",
       "    .dataframe thead th {\n",
       "        text-align: right;\n",
       "    }\n",
       "</style>\n",
       "<table border=\"1\" class=\"dataframe\">\n",
       "  <thead>\n",
       "    <tr style=\"text-align: right;\">\n",
       "      <th></th>\n",
       "      <th>Unnamed: 0</th>\n",
       "      <th>label</th>\n",
       "      <th>tweet</th>\n",
       "    </tr>\n",
       "  </thead>\n",
       "  <tbody>\n",
       "    <tr>\n",
       "      <th>0</th>\n",
       "      <td>1</td>\n",
       "      <td>Anger</td>\n",
       "      <td>Hari ini sangat 😤! Bete banget sama kerjaan, deh!!! 😒😒😒 @username Harusnya bisa lebih baik, tapi malah makin ribet!</td>\n",
       "    </tr>\n",
       "    <tr>\n",
       "      <th>1</th>\n",
       "      <td>2</td>\n",
       "      <td>Fear</td>\n",
       "      <td>Yuhuuu~ ada yang bisa bantuin tugas nggak? #capek #stress butuh bantuan sekarang! Tolong dong, keburu deadline! http://example.com</td>\n",
       "    </tr>\n",
       "    <tr>\n",
       "      <th>2</th>\n",
       "      <td>3</td>\n",
       "      <td>Sad</td>\n",
       "      <td>Gak nyangka! Ternyata si dia 💔 udah punya pacar lain. 😢😢 Kenapa nggak bilang dari awal? Padahal aku setia banget.</td>\n",
       "    </tr>\n",
       "    <tr>\n",
       "      <th>3</th>\n",
       "      <td>4</td>\n",
       "      <td>Joy</td>\n",
       "      <td>Makan siang di kafe baru 🍔🍟, enak banget! Mau lagi kesana weekend ini. Siapa mau ikut? 🤩 #makan #enak</td>\n",
       "    </tr>\n",
       "    <tr>\n",
       "      <th>4</th>\n",
       "      <td>5</td>\n",
       "      <td>Fear</td>\n",
       "      <td>Kemarin habis nonton film horror yang serem banget 😱😱! Sampai nggak bisa tidur semalaman, kepikiran terus.</td>\n",
       "    </tr>\n",
       "    <tr>\n",
       "      <th>5</th>\n",
       "      <td>6</td>\n",
       "      <td>Love</td>\n",
       "      <td>Baru aja ketemu temen lama di mall. Senangnyaaa! 😍💕 Banyak cerita yang harus diupdate, kangen banget! 12345</td>\n",
       "    </tr>\n",
       "    <tr>\n",
       "      <th>6</th>\n",
       "      <td>7</td>\n",
       "      <td>Sad</td>\n",
       "      <td>Gimana sih bisa dapetin tiket konsernya? 😭😭 Udah coba berkali-kali tapi selalu sold out. Ada tips nggak?!!!!</td>\n",
       "    </tr>\n",
       "    <tr>\n",
       "      <th>7</th>\n",
       "      <td>8</td>\n",
       "      <td>Neutral</td>\n",
       "      <td>Lagi hujan deras di luar ☔️, enaknya tidur siang sambil dengerin musik jazz. Siapa suka kayak gini juga?</td>\n",
       "    </tr>\n",
       "    <tr>\n",
       "      <th>8</th>\n",
       "      <td>9</td>\n",
       "      <td>Joy</td>\n",
       "      <td>Belajar coding ternyata seru juga 💻! Awalnya susah tapi kalau udah ngerti, jadi ketagihan mau bikin project.</td>\n",
       "    </tr>\n",
       "    <tr>\n",
       "      <th>9</th>\n",
       "      <td>10</td>\n",
       "      <td>Neutral</td>\n",
       "      <td>Weekend ini mau staycation di villa. 🏡✨ Butuh banget refreshing dari rutinitas sehari-hari. Siapa ikut?</td>\n",
       "    </tr>\n",
       "  </tbody>\n",
       "</table>\n",
       "</div>"
      ],
      "text/plain": [
       "   Unnamed: 0    label  \\\n",
       "0           1    Anger   \n",
       "1           2     Fear   \n",
       "2           3      Sad   \n",
       "3           4      Joy   \n",
       "4           5     Fear   \n",
       "5           6     Love   \n",
       "6           7      Sad   \n",
       "7           8  Neutral   \n",
       "8           9      Joy   \n",
       "9          10  Neutral   \n",
       "\n",
       "                                                                                                                                tweet  \n",
       "0                 Hari ini sangat 😤! Bete banget sama kerjaan, deh!!! 😒😒😒 @username Harusnya bisa lebih baik, tapi malah makin ribet!  \n",
       "1  Yuhuuu~ ada yang bisa bantuin tugas nggak? #capek #stress butuh bantuan sekarang! Tolong dong, keburu deadline! http://example.com  \n",
       "2                   Gak nyangka! Ternyata si dia 💔 udah punya pacar lain. 😢😢 Kenapa nggak bilang dari awal? Padahal aku setia banget.  \n",
       "3                               Makan siang di kafe baru 🍔🍟, enak banget! Mau lagi kesana weekend ini. Siapa mau ikut? 🤩 #makan #enak  \n",
       "4                          Kemarin habis nonton film horror yang serem banget 😱😱! Sampai nggak bisa tidur semalaman, kepikiran terus.  \n",
       "5                         Baru aja ketemu temen lama di mall. Senangnyaaa! 😍💕 Banyak cerita yang harus diupdate, kangen banget! 12345  \n",
       "6                        Gimana sih bisa dapetin tiket konsernya? 😭😭 Udah coba berkali-kali tapi selalu sold out. Ada tips nggak?!!!!  \n",
       "7                            Lagi hujan deras di luar ☔️, enaknya tidur siang sambil dengerin musik jazz. Siapa suka kayak gini juga?  \n",
       "8                        Belajar coding ternyata seru juga 💻! Awalnya susah tapi kalau udah ngerti, jadi ketagihan mau bikin project.  \n",
       "9                             Weekend ini mau staycation di villa. 🏡✨ Butuh banget refreshing dari rutinitas sehari-hari. Siapa ikut?  "
      ]
     },
     "execution_count": 130,
     "metadata": {},
     "output_type": "execute_result"
    }
   ],
   "source": [
    "train_data.reset_index(inplace=True,drop=True)\n",
    "train_data"
   ]
  },
  {
   "cell_type": "code",
   "execution_count": 133,
   "id": "3119b05d-8d13-427b-8c9f-23aae89fcf28",
   "metadata": {
    "tags": []
   },
   "outputs": [],
   "source": [
    "eda_data = train_data.copy()"
   ]
  },
  {
   "cell_type": "code",
   "execution_count": 137,
   "id": "57e5b299-9b13-4321-8f8b-5702ed8f3e50",
   "metadata": {
    "tags": []
   },
   "outputs": [
    {
     "data": {
      "image/png": "[encoded data removed]",
      "text/plain": [
       "<Figure size 1000x600 with 1 Axes>"
      ]
     },
     "metadata": {},
     "output_type": "display_data"
    }
   ],
   "source": [
    "label_counts = eda_data[\"label\"].value_counts()\n",
    "\n",
    "# Generate a color palette with a unique color for each label\n",
    "palette = sns.color_palette(\"husl\", len(label_counts))\n",
    "\n",
    "# Create a bar plot\n",
    "plt.figure(figsize=(10, 6))\n",
    "label_counts.plot(kind='bar', color=palette)\n",
    "plt.title('Distribution of Labels')\n",
    "plt.xlabel('Labels')\n",
    "plt.ylabel('Count')\n",
    "plt.xticks(rotation=45)  # Rotate x-axis labels for better readability\n",
    "plt.show()"
   ]
  },
  {
   "cell_type": "markdown",
   "id": "a7782e60-6c36-4187-9092-21792748bcad",
   "metadata": {},
   "source": [
    "Netral memiliki lebih banyak data dibandingkan label yang lain. "
   ]
  },
  {
   "cell_type": "markdown",
   "id": "311ff529-06ba-42dd-8172-95b292a0de9e",
   "metadata": {},
   "source": [
    "## Data Distribution"
   ]
  },
  {
   "cell_type": "code",
   "execution_count": 138,
   "id": "6ffd222b-08a8-4a8e-8985-99ce0298f211",
   "metadata": {
    "tags": []
   },
   "outputs": [
    {
     "data": {
      "text/html": [
       "<div>\n",
       "<style scoped>\n",
       "    .dataframe tbody tr th:only-of-type {\n",
       "        vertical-align: middle;\n",
       "    }\n",
       "\n",
       "    .dataframe tbody tr th {\n",
       "        vertical-align: top;\n",
       "    }\n",
       "\n",
       "    .dataframe thead th {\n",
       "        text-align: right;\n",
       "    }\n",
       "</style>\n",
       "<table border=\"1\" class=\"dataframe\">\n",
       "  <thead>\n",
       "    <tr style=\"text-align: right;\">\n",
       "      <th></th>\n",
       "      <th>Unnamed: 0</th>\n",
       "      <th>label</th>\n",
       "      <th>tweet</th>\n",
       "      <th>Length</th>\n",
       "    </tr>\n",
       "  </thead>\n",
       "  <tbody>\n",
       "    <tr>\n",
       "      <th>0</th>\n",
       "      <td>1</td>\n",
       "      <td>Anger</td>\n",
       "      <td>Hari ini sangat 😤! Bete banget sama kerjaan, deh!!! 😒😒😒 @username Harusnya bisa lebih baik, tapi malah makin ribet!</td>\n",
       "      <td>115</td>\n",
       "    </tr>\n",
       "    <tr>\n",
       "      <th>1</th>\n",
       "      <td>2</td>\n",
       "      <td>Fear</td>\n",
       "      <td>Yuhuuu~ ada yang bisa bantuin tugas nggak? #capek #stress butuh bantuan sekarang! Tolong dong, keburu deadline! http://example.com</td>\n",
       "      <td>130</td>\n",
       "    </tr>\n",
       "    <tr>\n",
       "      <th>2</th>\n",
       "      <td>3</td>\n",
       "      <td>Sad</td>\n",
       "      <td>Gak nyangka! Ternyata si dia 💔 udah punya pacar lain. 😢😢 Kenapa nggak bilang dari awal? Padahal aku setia banget.</td>\n",
       "      <td>113</td>\n",
       "    </tr>\n",
       "    <tr>\n",
       "      <th>3</th>\n",
       "      <td>4</td>\n",
       "      <td>Joy</td>\n",
       "      <td>Makan siang di kafe baru 🍔🍟, enak banget! Mau lagi kesana weekend ini. Siapa mau ikut? 🤩 #makan #enak</td>\n",
       "      <td>101</td>\n",
       "    </tr>\n",
       "    <tr>\n",
       "      <th>4</th>\n",
       "      <td>5</td>\n",
       "      <td>Fear</td>\n",
       "      <td>Kemarin habis nonton film horror yang serem banget 😱😱! Sampai nggak bisa tidur semalaman, kepikiran terus.</td>\n",
       "      <td>106</td>\n",
       "    </tr>\n",
       "    <tr>\n",
       "      <th>5</th>\n",
       "      <td>6</td>\n",
       "      <td>Love</td>\n",
       "      <td>Baru aja ketemu temen lama di mall. Senangnyaaa! 😍💕 Banyak cerita yang harus diupdate, kangen banget! 12345</td>\n",
       "      <td>107</td>\n",
       "    </tr>\n",
       "    <tr>\n",
       "      <th>6</th>\n",
       "      <td>7</td>\n",
       "      <td>Sad</td>\n",
       "      <td>Gimana sih bisa dapetin tiket konsernya? 😭😭 Udah coba berkali-kali tapi selalu sold out. Ada tips nggak?!!!!</td>\n",
       "      <td>108</td>\n",
       "    </tr>\n",
       "    <tr>\n",
       "      <th>7</th>\n",
       "      <td>8</td>\n",
       "      <td>Neutral</td>\n",
       "      <td>Lagi hujan deras di luar ☔️, enaknya tidur siang sambil dengerin musik jazz. Siapa suka kayak gini juga?</td>\n",
       "      <td>104</td>\n",
       "    </tr>\n",
       "    <tr>\n",
       "      <th>8</th>\n",
       "      <td>9</td>\n",
       "      <td>Joy</td>\n",
       "      <td>Belajar coding ternyata seru juga 💻! Awalnya susah tapi kalau udah ngerti, jadi ketagihan mau bikin project.</td>\n",
       "      <td>108</td>\n",
       "    </tr>\n",
       "    <tr>\n",
       "      <th>9</th>\n",
       "      <td>10</td>\n",
       "      <td>Neutral</td>\n",
       "      <td>Weekend ini mau staycation di villa. 🏡✨ Butuh banget refreshing dari rutinitas sehari-hari. Siapa ikut?</td>\n",
       "      <td>103</td>\n",
       "    </tr>\n",
       "  </tbody>\n",
       "</table>\n",
       "</div>"
      ],
      "text/plain": [
       "   Unnamed: 0    label  \\\n",
       "0           1    Anger   \n",
       "1           2     Fear   \n",
       "2           3      Sad   \n",
       "3           4      Joy   \n",
       "4           5     Fear   \n",
       "5           6     Love   \n",
       "6           7      Sad   \n",
       "7           8  Neutral   \n",
       "8           9      Joy   \n",
       "9          10  Neutral   \n",
       "\n",
       "                                                                                                                                tweet  \\\n",
       "0                 Hari ini sangat 😤! Bete banget sama kerjaan, deh!!! 😒😒😒 @username Harusnya bisa lebih baik, tapi malah makin ribet!   \n",
       "1  Yuhuuu~ ada yang bisa bantuin tugas nggak? #capek #stress butuh bantuan sekarang! Tolong dong, keburu deadline! http://example.com   \n",
       "2                   Gak nyangka! Ternyata si dia 💔 udah punya pacar lain. 😢😢 Kenapa nggak bilang dari awal? Padahal aku setia banget.   \n",
       "3                               Makan siang di kafe baru 🍔🍟, enak banget! Mau lagi kesana weekend ini. Siapa mau ikut? 🤩 #makan #enak   \n",
       "4                          Kemarin habis nonton film horror yang serem banget 😱😱! Sampai nggak bisa tidur semalaman, kepikiran terus.   \n",
       "5                         Baru aja ketemu temen lama di mall. Senangnyaaa! 😍💕 Banyak cerita yang harus diupdate, kangen banget! 12345   \n",
       "6                        Gimana sih bisa dapetin tiket konsernya? 😭😭 Udah coba berkali-kali tapi selalu sold out. Ada tips nggak?!!!!   \n",
       "7                            Lagi hujan deras di luar ☔️, enaknya tidur siang sambil dengerin musik jazz. Siapa suka kayak gini juga?   \n",
       "8                        Belajar coding ternyata seru juga 💻! Awalnya susah tapi kalau udah ngerti, jadi ketagihan mau bikin project.   \n",
       "9                             Weekend ini mau staycation di villa. 🏡✨ Butuh banget refreshing dari rutinitas sehari-hari. Siapa ikut?   \n",
       "\n",
       "   Length  \n",
       "0     115  \n",
       "1     130  \n",
       "2     113  \n",
       "3     101  \n",
       "4     106  \n",
       "5     107  \n",
       "6     108  \n",
       "7     104  \n",
       "8     108  \n",
       "9     103  "
      ]
     },
     "execution_count": 138,
     "metadata": {},
     "output_type": "execute_result"
    }
   ],
   "source": [
    "eda_data['Length'] = eda_data['tweet'].str.len()\n",
    "eda_data.head(10)"
   ]
  },
  {
   "cell_type": "code",
   "execution_count": 139,
   "id": "81000f35-90d4-4019-9337-2384744cf933",
   "metadata": {
    "tags": []
   },
   "outputs": [
    {
     "name": "stdout",
     "output_type": "stream",
     "text": [
      "Rata-rata panjang karakter tweet : 109.50\n"
     ]
    }
   ],
   "source": [
    "print(f\"Rata-rata panjang karakter tweet : {eda_data['Length'].mean():.2f}\")"
   ]
  },
  {
   "cell_type": "code",
   "execution_count": 140,
   "id": "33aad1cd-e0a1-4bc2-a354-4cfc1c9a18cc",
   "metadata": {
    "tags": []
   },
   "outputs": [
    {
     "name": "stdout",
     "output_type": "stream",
     "text": [
      "Jumlah panjang karakter tweet  : 1095.00\n"
     ]
    }
   ],
   "source": [
    "print(f\"Jumlah panjang karakter tweet  : {eda_data['Length'].sum():.2f}\")"
   ]
  },
  {
   "cell_type": "code",
   "execution_count": 141,
   "id": "a5b567d0-3946-4fd2-98db-cd92f48a8094",
   "metadata": {
    "tags": []
   },
   "outputs": [],
   "source": [
    "def word_count(tweet):\n",
    "    tweet_list = tweet.split()\n",
    "    return len(tweet_list)"
   ]
  },
  {
   "cell_type": "code",
   "execution_count": 142,
   "id": "b61a5f68-7957-421b-9781-bcc0a883a6bb",
   "metadata": {
    "tags": []
   },
   "outputs": [
    {
     "data": {
      "text/html": [
       "<div>\n",
       "<style scoped>\n",
       "    .dataframe tbody tr th:only-of-type {\n",
       "        vertical-align: middle;\n",
       "    }\n",
       "\n",
       "    .dataframe tbody tr th {\n",
       "        vertical-align: top;\n",
       "    }\n",
       "\n",
       "    .dataframe thead th {\n",
       "        text-align: right;\n",
       "    }\n",
       "</style>\n",
       "<table border=\"1\" class=\"dataframe\">\n",
       "  <thead>\n",
       "    <tr style=\"text-align: right;\">\n",
       "      <th></th>\n",
       "      <th>Unnamed: 0</th>\n",
       "      <th>label</th>\n",
       "      <th>tweet</th>\n",
       "      <th>Length</th>\n",
       "      <th>Word_count</th>\n",
       "    </tr>\n",
       "  </thead>\n",
       "  <tbody>\n",
       "    <tr>\n",
       "      <th>0</th>\n",
       "      <td>1</td>\n",
       "      <td>Anger</td>\n",
       "      <td>Hari ini sangat 😤! Bete banget sama kerjaan, deh!!! 😒😒😒 @username Harusnya bisa lebih baik, tapi malah makin ribet!</td>\n",
       "      <td>115</td>\n",
       "      <td>19</td>\n",
       "    </tr>\n",
       "    <tr>\n",
       "      <th>1</th>\n",
       "      <td>2</td>\n",
       "      <td>Fear</td>\n",
       "      <td>Yuhuuu~ ada yang bisa bantuin tugas nggak? #capek #stress butuh bantuan sekarang! Tolong dong, keburu deadline! http://example.com</td>\n",
       "      <td>130</td>\n",
       "      <td>17</td>\n",
       "    </tr>\n",
       "    <tr>\n",
       "      <th>2</th>\n",
       "      <td>3</td>\n",
       "      <td>Sad</td>\n",
       "      <td>Gak nyangka! Ternyata si dia 💔 udah punya pacar lain. 😢😢 Kenapa nggak bilang dari awal? Padahal aku setia banget.</td>\n",
       "      <td>113</td>\n",
       "      <td>20</td>\n",
       "    </tr>\n",
       "    <tr>\n",
       "      <th>3</th>\n",
       "      <td>4</td>\n",
       "      <td>Joy</td>\n",
       "      <td>Makan siang di kafe baru 🍔🍟, enak banget! Mau lagi kesana weekend ini. Siapa mau ikut? 🤩 #makan #enak</td>\n",
       "      <td>101</td>\n",
       "      <td>19</td>\n",
       "    </tr>\n",
       "    <tr>\n",
       "      <th>4</th>\n",
       "      <td>5</td>\n",
       "      <td>Fear</td>\n",
       "      <td>Kemarin habis nonton film horror yang serem banget 😱😱! Sampai nggak bisa tidur semalaman, kepikiran terus.</td>\n",
       "      <td>106</td>\n",
       "      <td>16</td>\n",
       "    </tr>\n",
       "    <tr>\n",
       "      <th>5</th>\n",
       "      <td>6</td>\n",
       "      <td>Love</td>\n",
       "      <td>Baru aja ketemu temen lama di mall. Senangnyaaa! 😍💕 Banyak cerita yang harus diupdate, kangen banget! 12345</td>\n",
       "      <td>107</td>\n",
       "      <td>17</td>\n",
       "    </tr>\n",
       "    <tr>\n",
       "      <th>6</th>\n",
       "      <td>7</td>\n",
       "      <td>Sad</td>\n",
       "      <td>Gimana sih bisa dapetin tiket konsernya? 😭😭 Udah coba berkali-kali tapi selalu sold out. Ada tips nggak?!!!!</td>\n",
       "      <td>108</td>\n",
       "      <td>17</td>\n",
       "    </tr>\n",
       "    <tr>\n",
       "      <th>7</th>\n",
       "      <td>8</td>\n",
       "      <td>Neutral</td>\n",
       "      <td>Lagi hujan deras di luar ☔️, enaknya tidur siang sambil dengerin musik jazz. Siapa suka kayak gini juga?</td>\n",
       "      <td>104</td>\n",
       "      <td>18</td>\n",
       "    </tr>\n",
       "    <tr>\n",
       "      <th>8</th>\n",
       "      <td>9</td>\n",
       "      <td>Joy</td>\n",
       "      <td>Belajar coding ternyata seru juga 💻! Awalnya susah tapi kalau udah ngerti, jadi ketagihan mau bikin project.</td>\n",
       "      <td>108</td>\n",
       "      <td>17</td>\n",
       "    </tr>\n",
       "    <tr>\n",
       "      <th>9</th>\n",
       "      <td>10</td>\n",
       "      <td>Neutral</td>\n",
       "      <td>Weekend ini mau staycation di villa. 🏡✨ Butuh banget refreshing dari rutinitas sehari-hari. Siapa ikut?</td>\n",
       "      <td>103</td>\n",
       "      <td>15</td>\n",
       "    </tr>\n",
       "  </tbody>\n",
       "</table>\n",
       "</div>"
      ],
      "text/plain": [
       "   Unnamed: 0    label  \\\n",
       "0           1    Anger   \n",
       "1           2     Fear   \n",
       "2           3      Sad   \n",
       "3           4      Joy   \n",
       "4           5     Fear   \n",
       "5           6     Love   \n",
       "6           7      Sad   \n",
       "7           8  Neutral   \n",
       "8           9      Joy   \n",
       "9          10  Neutral   \n",
       "\n",
       "                                                                                                                                tweet  \\\n",
       "0                 Hari ini sangat 😤! Bete banget sama kerjaan, deh!!! 😒😒😒 @username Harusnya bisa lebih baik, tapi malah makin ribet!   \n",
       "1  Yuhuuu~ ada yang bisa bantuin tugas nggak? #capek #stress butuh bantuan sekarang! Tolong dong, keburu deadline! http://example.com   \n",
       "2                   Gak nyangka! Ternyata si dia 💔 udah punya pacar lain. 😢😢 Kenapa nggak bilang dari awal? Padahal aku setia banget.   \n",
       "3                               Makan siang di kafe baru 🍔🍟, enak banget! Mau lagi kesana weekend ini. Siapa mau ikut? 🤩 #makan #enak   \n",
       "4                          Kemarin habis nonton film horror yang serem banget 😱😱! Sampai nggak bisa tidur semalaman, kepikiran terus.   \n",
       "5                         Baru aja ketemu temen lama di mall. Senangnyaaa! 😍💕 Banyak cerita yang harus diupdate, kangen banget! 12345   \n",
       "6                        Gimana sih bisa dapetin tiket konsernya? 😭😭 Udah coba berkali-kali tapi selalu sold out. Ada tips nggak?!!!!   \n",
       "7                            Lagi hujan deras di luar ☔️, enaknya tidur siang sambil dengerin musik jazz. Siapa suka kayak gini juga?   \n",
       "8                        Belajar coding ternyata seru juga 💻! Awalnya susah tapi kalau udah ngerti, jadi ketagihan mau bikin project.   \n",
       "9                             Weekend ini mau staycation di villa. 🏡✨ Butuh banget refreshing dari rutinitas sehari-hari. Siapa ikut?   \n",
       "\n",
       "   Length  Word_count  \n",
       "0     115          19  \n",
       "1     130          17  \n",
       "2     113          20  \n",
       "3     101          19  \n",
       "4     106          16  \n",
       "5     107          17  \n",
       "6     108          17  \n",
       "7     104          18  \n",
       "8     108          17  \n",
       "9     103          15  "
      ]
     },
     "execution_count": 142,
     "metadata": {},
     "output_type": "execute_result"
    }
   ],
   "source": [
    "eda_data['Word_count'] = eda_data['tweet'].apply(word_count)\n",
    "eda_data.head(10)"
   ]
  },
  {
   "cell_type": "code",
   "execution_count": 143,
   "id": "b05b53ca-5d3f-4b22-80f5-835ce84b836a",
   "metadata": {
    "tags": []
   },
   "outputs": [
    {
     "name": "stdout",
     "output_type": "stream",
     "text": [
      "Jumlah kata : 175.00\n"
     ]
    }
   ],
   "source": [
    "print(f\"Jumlah kata : {eda_data['Word_count'].sum():.2f}\")"
   ]
  },
  {
   "cell_type": "code",
   "execution_count": 144,
   "id": "da2bbe9f-de11-44f1-aa0c-a12a17516c1c",
   "metadata": {
    "tags": []
   },
   "outputs": [
    {
     "name": "stdout",
     "output_type": "stream",
     "text": [
      "Rata-rata jumlah kata : 17.50\n"
     ]
    }
   ],
   "source": [
    "print(f\"Rata-rata jumlah kata : {eda_data['Word_count'].mean():.2f}\")"
   ]
  },
  {
   "cell_type": "code",
   "execution_count": 145,
   "id": "3b100b60-5421-4f68-a299-b3fec6d70241",
   "metadata": {
    "tags": []
   },
   "outputs": [
    {
     "data": {
      "text/html": [
       "<div>\n",
       "<style scoped>\n",
       "    .dataframe tbody tr th:only-of-type {\n",
       "        vertical-align: middle;\n",
       "    }\n",
       "\n",
       "    .dataframe tbody tr th {\n",
       "        vertical-align: top;\n",
       "    }\n",
       "\n",
       "    .dataframe thead th {\n",
       "        text-align: right;\n",
       "    }\n",
       "</style>\n",
       "<table border=\"1\" class=\"dataframe\">\n",
       "  <thead>\n",
       "    <tr style=\"text-align: right;\">\n",
       "      <th></th>\n",
       "      <th>Unnamed: 0</th>\n",
       "      <th>label</th>\n",
       "      <th>tweet</th>\n",
       "      <th>Length</th>\n",
       "      <th>Word_count</th>\n",
       "      <th>mean_word_length</th>\n",
       "    </tr>\n",
       "  </thead>\n",
       "  <tbody>\n",
       "    <tr>\n",
       "      <th>0</th>\n",
       "      <td>1</td>\n",
       "      <td>Anger</td>\n",
       "      <td>Hari ini sangat 😤! Bete banget sama kerjaan, deh!!! 😒😒😒 @username Harusnya bisa lebih baik, tapi malah makin ribet!</td>\n",
       "      <td>115</td>\n",
       "      <td>19</td>\n",
       "      <td>5.105263</td>\n",
       "    </tr>\n",
       "    <tr>\n",
       "      <th>1</th>\n",
       "      <td>2</td>\n",
       "      <td>Fear</td>\n",
       "      <td>Yuhuuu~ ada yang bisa bantuin tugas nggak? #capek #stress butuh bantuan sekarang! Tolong dong, keburu deadline! http://example.com</td>\n",
       "      <td>130</td>\n",
       "      <td>17</td>\n",
       "      <td>6.705882</td>\n",
       "    </tr>\n",
       "    <tr>\n",
       "      <th>2</th>\n",
       "      <td>3</td>\n",
       "      <td>Sad</td>\n",
       "      <td>Gak nyangka! Ternyata si dia 💔 udah punya pacar lain. 😢😢 Kenapa nggak bilang dari awal? Padahal aku setia banget.</td>\n",
       "      <td>113</td>\n",
       "      <td>20</td>\n",
       "      <td>4.700000</td>\n",
       "    </tr>\n",
       "    <tr>\n",
       "      <th>3</th>\n",
       "      <td>4</td>\n",
       "      <td>Joy</td>\n",
       "      <td>Makan siang di kafe baru 🍔🍟, enak banget! Mau lagi kesana weekend ini. Siapa mau ikut? 🤩 #makan #enak</td>\n",
       "      <td>101</td>\n",
       "      <td>19</td>\n",
       "      <td>4.368421</td>\n",
       "    </tr>\n",
       "    <tr>\n",
       "      <th>4</th>\n",
       "      <td>5</td>\n",
       "      <td>Fear</td>\n",
       "      <td>Kemarin habis nonton film horror yang serem banget 😱😱! Sampai nggak bisa tidur semalaman, kepikiran terus.</td>\n",
       "      <td>106</td>\n",
       "      <td>16</td>\n",
       "      <td>5.687500</td>\n",
       "    </tr>\n",
       "    <tr>\n",
       "      <th>5</th>\n",
       "      <td>6</td>\n",
       "      <td>Love</td>\n",
       "      <td>Baru aja ketemu temen lama di mall. Senangnyaaa! 😍💕 Banyak cerita yang harus diupdate, kangen banget! 12345</td>\n",
       "      <td>107</td>\n",
       "      <td>17</td>\n",
       "      <td>5.352941</td>\n",
       "    </tr>\n",
       "    <tr>\n",
       "      <th>6</th>\n",
       "      <td>7</td>\n",
       "      <td>Sad</td>\n",
       "      <td>Gimana sih bisa dapetin tiket konsernya? 😭😭 Udah coba berkali-kali tapi selalu sold out. Ada tips nggak?!!!!</td>\n",
       "      <td>108</td>\n",
       "      <td>17</td>\n",
       "      <td>5.411765</td>\n",
       "    </tr>\n",
       "    <tr>\n",
       "      <th>7</th>\n",
       "      <td>8</td>\n",
       "      <td>Neutral</td>\n",
       "      <td>Lagi hujan deras di luar ☔️, enaknya tidur siang sambil dengerin musik jazz. Siapa suka kayak gini juga?</td>\n",
       "      <td>104</td>\n",
       "      <td>18</td>\n",
       "      <td>4.833333</td>\n",
       "    </tr>\n",
       "    <tr>\n",
       "      <th>8</th>\n",
       "      <td>9</td>\n",
       "      <td>Joy</td>\n",
       "      <td>Belajar coding ternyata seru juga 💻! Awalnya susah tapi kalau udah ngerti, jadi ketagihan mau bikin project.</td>\n",
       "      <td>108</td>\n",
       "      <td>17</td>\n",
       "      <td>5.411765</td>\n",
       "    </tr>\n",
       "    <tr>\n",
       "      <th>9</th>\n",
       "      <td>10</td>\n",
       "      <td>Neutral</td>\n",
       "      <td>Weekend ini mau staycation di villa. 🏡✨ Butuh banget refreshing dari rutinitas sehari-hari. Siapa ikut?</td>\n",
       "      <td>103</td>\n",
       "      <td>15</td>\n",
       "      <td>5.933333</td>\n",
       "    </tr>\n",
       "  </tbody>\n",
       "</table>\n",
       "</div>"
      ],
      "text/plain": [
       "   Unnamed: 0    label  \\\n",
       "0           1    Anger   \n",
       "1           2     Fear   \n",
       "2           3      Sad   \n",
       "3           4      Joy   \n",
       "4           5     Fear   \n",
       "5           6     Love   \n",
       "6           7      Sad   \n",
       "7           8  Neutral   \n",
       "8           9      Joy   \n",
       "9          10  Neutral   \n",
       "\n",
       "                                                                                                                                tweet  \\\n",
       "0                 Hari ini sangat 😤! Bete banget sama kerjaan, deh!!! 😒😒😒 @username Harusnya bisa lebih baik, tapi malah makin ribet!   \n",
       "1  Yuhuuu~ ada yang bisa bantuin tugas nggak? #capek #stress butuh bantuan sekarang! Tolong dong, keburu deadline! http://example.com   \n",
       "2                   Gak nyangka! Ternyata si dia 💔 udah punya pacar lain. 😢😢 Kenapa nggak bilang dari awal? Padahal aku setia banget.   \n",
       "3                               Makan siang di kafe baru 🍔🍟, enak banget! Mau lagi kesana weekend ini. Siapa mau ikut? 🤩 #makan #enak   \n",
       "4                          Kemarin habis nonton film horror yang serem banget 😱😱! Sampai nggak bisa tidur semalaman, kepikiran terus.   \n",
       "5                         Baru aja ketemu temen lama di mall. Senangnyaaa! 😍💕 Banyak cerita yang harus diupdate, kangen banget! 12345   \n",
       "6                        Gimana sih bisa dapetin tiket konsernya? 😭😭 Udah coba berkali-kali tapi selalu sold out. Ada tips nggak?!!!!   \n",
       "7                            Lagi hujan deras di luar ☔️, enaknya tidur siang sambil dengerin musik jazz. Siapa suka kayak gini juga?   \n",
       "8                        Belajar coding ternyata seru juga 💻! Awalnya susah tapi kalau udah ngerti, jadi ketagihan mau bikin project.   \n",
       "9                             Weekend ini mau staycation di villa. 🏡✨ Butuh banget refreshing dari rutinitas sehari-hari. Siapa ikut?   \n",
       "\n",
       "   Length  Word_count  mean_word_length  \n",
       "0     115          19          5.105263  \n",
       "1     130          17          6.705882  \n",
       "2     113          20          4.700000  \n",
       "3     101          19          4.368421  \n",
       "4     106          16          5.687500  \n",
       "5     107          17          5.352941  \n",
       "6     108          17          5.411765  \n",
       "7     104          18          4.833333  \n",
       "8     108          17          5.411765  \n",
       "9     103          15          5.933333  "
      ]
     },
     "execution_count": 145,
     "metadata": {},
     "output_type": "execute_result"
    }
   ],
   "source": [
    "eda_data['mean_word_length'] = eda_data['tweet'].map(lambda rev: numpy.mean([len(word) for word in rev.split()]))\n",
    "eda_data.head(10)"
   ]
  },
  {
   "cell_type": "code",
   "execution_count": 146,
   "id": "a766f7ff-362d-41ea-a5fd-de19f6528395",
   "metadata": {
    "tags": []
   },
   "outputs": [
    {
     "data": {
      "text/html": [
       "<div>\n",
       "<style scoped>\n",
       "    .dataframe tbody tr th:only-of-type {\n",
       "        vertical-align: middle;\n",
       "    }\n",
       "\n",
       "    .dataframe tbody tr th {\n",
       "        vertical-align: top;\n",
       "    }\n",
       "\n",
       "    .dataframe thead th {\n",
       "        text-align: right;\n",
       "    }\n",
       "</style>\n",
       "<table border=\"1\" class=\"dataframe\">\n",
       "  <thead>\n",
       "    <tr style=\"text-align: right;\">\n",
       "      <th></th>\n",
       "      <th>Unnamed: 0</th>\n",
       "      <th>label</th>\n",
       "      <th>tweet</th>\n",
       "      <th>Length</th>\n",
       "      <th>Word_count</th>\n",
       "      <th>mean_word_length</th>\n",
       "      <th>mean_sent_length</th>\n",
       "    </tr>\n",
       "  </thead>\n",
       "  <tbody>\n",
       "    <tr>\n",
       "      <th>0</th>\n",
       "      <td>1</td>\n",
       "      <td>Anger</td>\n",
       "      <td>Hari ini sangat 😤! Bete banget sama kerjaan, deh!!! 😒😒😒 @username Harusnya bisa lebih baik, tapi malah makin ribet!</td>\n",
       "      <td>115</td>\n",
       "      <td>19</td>\n",
       "      <td>5.105263</td>\n",
       "      <td>37.666667</td>\n",
       "    </tr>\n",
       "    <tr>\n",
       "      <th>1</th>\n",
       "      <td>2</td>\n",
       "      <td>Fear</td>\n",
       "      <td>Yuhuuu~ ada yang bisa bantuin tugas nggak? #capek #stress butuh bantuan sekarang! Tolong dong, keburu deadline! http://example.com</td>\n",
       "      <td>130</td>\n",
       "      <td>17</td>\n",
       "      <td>6.705882</td>\n",
       "      <td>31.750000</td>\n",
       "    </tr>\n",
       "    <tr>\n",
       "      <th>2</th>\n",
       "      <td>3</td>\n",
       "      <td>Sad</td>\n",
       "      <td>Gak nyangka! Ternyata si dia 💔 udah punya pacar lain. 😢😢 Kenapa nggak bilang dari awal? Padahal aku setia banget.</td>\n",
       "      <td>113</td>\n",
       "      <td>20</td>\n",
       "      <td>4.700000</td>\n",
       "      <td>27.500000</td>\n",
       "    </tr>\n",
       "    <tr>\n",
       "      <th>3</th>\n",
       "      <td>4</td>\n",
       "      <td>Joy</td>\n",
       "      <td>Makan siang di kafe baru 🍔🍟, enak banget! Mau lagi kesana weekend ini. Siapa mau ikut? 🤩 #makan #enak</td>\n",
       "      <td>101</td>\n",
       "      <td>19</td>\n",
       "      <td>4.368421</td>\n",
       "      <td>24.500000</td>\n",
       "    </tr>\n",
       "    <tr>\n",
       "      <th>4</th>\n",
       "      <td>5</td>\n",
       "      <td>Fear</td>\n",
       "      <td>Kemarin habis nonton film horror yang serem banget 😱😱! Sampai nggak bisa tidur semalaman, kepikiran terus.</td>\n",
       "      <td>106</td>\n",
       "      <td>16</td>\n",
       "      <td>5.687500</td>\n",
       "      <td>52.500000</td>\n",
       "    </tr>\n",
       "    <tr>\n",
       "      <th>5</th>\n",
       "      <td>6</td>\n",
       "      <td>Love</td>\n",
       "      <td>Baru aja ketemu temen lama di mall. Senangnyaaa! 😍💕 Banyak cerita yang harus diupdate, kangen banget! 12345</td>\n",
       "      <td>107</td>\n",
       "      <td>17</td>\n",
       "      <td>5.352941</td>\n",
       "      <td>26.000000</td>\n",
       "    </tr>\n",
       "    <tr>\n",
       "      <th>6</th>\n",
       "      <td>7</td>\n",
       "      <td>Sad</td>\n",
       "      <td>Gimana sih bisa dapetin tiket konsernya? 😭😭 Udah coba berkali-kali tapi selalu sold out. Ada tips nggak?!!!!</td>\n",
       "      <td>108</td>\n",
       "      <td>17</td>\n",
       "      <td>5.411765</td>\n",
       "      <td>26.500000</td>\n",
       "    </tr>\n",
       "    <tr>\n",
       "      <th>7</th>\n",
       "      <td>8</td>\n",
       "      <td>Neutral</td>\n",
       "      <td>Lagi hujan deras di luar ☔️, enaknya tidur siang sambil dengerin musik jazz. Siapa suka kayak gini juga?</td>\n",
       "      <td>104</td>\n",
       "      <td>18</td>\n",
       "      <td>4.833333</td>\n",
       "      <td>51.500000</td>\n",
       "    </tr>\n",
       "    <tr>\n",
       "      <th>8</th>\n",
       "      <td>9</td>\n",
       "      <td>Joy</td>\n",
       "      <td>Belajar coding ternyata seru juga 💻! Awalnya susah tapi kalau udah ngerti, jadi ketagihan mau bikin project.</td>\n",
       "      <td>108</td>\n",
       "      <td>17</td>\n",
       "      <td>5.411765</td>\n",
       "      <td>53.500000</td>\n",
       "    </tr>\n",
       "    <tr>\n",
       "      <th>9</th>\n",
       "      <td>10</td>\n",
       "      <td>Neutral</td>\n",
       "      <td>Weekend ini mau staycation di villa. 🏡✨ Butuh banget refreshing dari rutinitas sehari-hari. Siapa ikut?</td>\n",
       "      <td>103</td>\n",
       "      <td>15</td>\n",
       "      <td>5.933333</td>\n",
       "      <td>33.666667</td>\n",
       "    </tr>\n",
       "  </tbody>\n",
       "</table>\n",
       "</div>"
      ],
      "text/plain": [
       "   Unnamed: 0    label  \\\n",
       "0           1    Anger   \n",
       "1           2     Fear   \n",
       "2           3      Sad   \n",
       "3           4      Joy   \n",
       "4           5     Fear   \n",
       "5           6     Love   \n",
       "6           7      Sad   \n",
       "7           8  Neutral   \n",
       "8           9      Joy   \n",
       "9          10  Neutral   \n",
       "\n",
       "                                                                                                                                tweet  \\\n",
       "0                 Hari ini sangat 😤! Bete banget sama kerjaan, deh!!! 😒😒😒 @username Harusnya bisa lebih baik, tapi malah makin ribet!   \n",
       "1  Yuhuuu~ ada yang bisa bantuin tugas nggak? #capek #stress butuh bantuan sekarang! Tolong dong, keburu deadline! http://example.com   \n",
       "2                   Gak nyangka! Ternyata si dia 💔 udah punya pacar lain. 😢😢 Kenapa nggak bilang dari awal? Padahal aku setia banget.   \n",
       "3                               Makan siang di kafe baru 🍔🍟, enak banget! Mau lagi kesana weekend ini. Siapa mau ikut? 🤩 #makan #enak   \n",
       "4                          Kemarin habis nonton film horror yang serem banget 😱😱! Sampai nggak bisa tidur semalaman, kepikiran terus.   \n",
       "5                         Baru aja ketemu temen lama di mall. Senangnyaaa! 😍💕 Banyak cerita yang harus diupdate, kangen banget! 12345   \n",
       "6                        Gimana sih bisa dapetin tiket konsernya? 😭😭 Udah coba berkali-kali tapi selalu sold out. Ada tips nggak?!!!!   \n",
       "7                            Lagi hujan deras di luar ☔️, enaknya tidur siang sambil dengerin musik jazz. Siapa suka kayak gini juga?   \n",
       "8                        Belajar coding ternyata seru juga 💻! Awalnya susah tapi kalau udah ngerti, jadi ketagihan mau bikin project.   \n",
       "9                             Weekend ini mau staycation di villa. 🏡✨ Butuh banget refreshing dari rutinitas sehari-hari. Siapa ikut?   \n",
       "\n",
       "   Length  Word_count  mean_word_length  mean_sent_length  \n",
       "0     115          19          5.105263         37.666667  \n",
       "1     130          17          6.705882         31.750000  \n",
       "2     113          20          4.700000         27.500000  \n",
       "3     101          19          4.368421         24.500000  \n",
       "4     106          16          5.687500         52.500000  \n",
       "5     107          17          5.352941         26.000000  \n",
       "6     108          17          5.411765         26.500000  \n",
       "7     104          18          4.833333         51.500000  \n",
       "8     108          17          5.411765         53.500000  \n",
       "9     103          15          5.933333         33.666667  "
      ]
     },
     "execution_count": 146,
     "metadata": {},
     "output_type": "execute_result"
    }
   ],
   "source": [
    "eda_data['mean_sent_length'] = eda_data['tweet'].map(lambda rev: numpy.mean([len(sent) for sent in tokenize.sent_tokenize(rev)]))\n",
    "eda_data.head(10)"
   ]
  },
  {
   "cell_type": "code",
   "execution_count": 147,
   "id": "cfc79ca5-72b4-4729-935e-c6a5d37faabf",
   "metadata": {
    "tags": []
   },
   "outputs": [
    {
     "data": {
      "image/png": "[encoded data removed]",
      "text/plain": [
       "<Figure size 1000x500 with 1 Axes>"
      ]
     },
     "metadata": {},
     "output_type": "display_data"
    }
   ],
   "source": [
    "from wordcloud import WordCloud\n",
    "import matplotlib.pyplot as plt\n",
    "\n",
    "# Menggabungkan semua teks dalam satu string\n",
    "all_tweets = ' '.join(eda_data['tweet'])\n",
    "\n",
    "# Membuat wordcloud\n",
    "wordcloud = WordCloud(width=800, height=400, background_color='white').generate(all_tweets)\n",
    "\n",
    "# Menampilkan wordcloud\n",
    "plt.figure(figsize=(10, 5))\n",
    "plt.imshow(wordcloud, interpolation='bilinear')\n",
    "plt.axis('off')\n",
    "plt.show()\n"
   ]
  },
  {
   "cell_type": "markdown",
   "id": "377fdcc1-317f-4423-b1a4-7526e3f750f9",
   "metadata": {},
   "source": [
    "# Preprocessing"
   ]
  },
  {
   "cell_type": "code",
   "execution_count": 148,
   "id": "029d2489",
   "metadata": {},
   "outputs": [],
   "source": [
    "import copy\n",
    "\n",
    "train_data_copy = copy.deepcopy(train_data)\n"
   ]
  },
  {
   "cell_type": "markdown",
   "id": "422c044f-a5e3-4553-ae4c-a4848d1aab34",
   "metadata": {
    "tags": []
   },
   "source": [
    "## 01. Case Folding"
   ]
  },
  {
   "cell_type": "markdown",
   "id": "6e9b35f2-6609-41f7-bfa3-dff461d7867c",
   "metadata": {},
   "source": [
    "### a. Lowercase"
   ]
  },
  {
   "cell_type": "code",
   "execution_count": 149,
   "id": "4d368300-e1c9-442f-ac37-da7d820a5d90",
   "metadata": {
    "tags": []
   },
   "outputs": [],
   "source": [
    "def tweet_lowercase(tweet):\n",
    "    tweet = tweet.lower()\n",
    "    return tweet"
   ]
  },
  {
   "cell_type": "code",
   "execution_count": 150,
   "id": "fc206bd4-8555-4157-a469-c8893a77e103",
   "metadata": {
    "tags": []
   },
   "outputs": [
    {
     "name": "stdout",
     "output_type": "stream",
     "text": [
      "CPU times: total: 0 ns\n",
      "Wall time: 1 ms\n"
     ]
    }
   ],
   "source": [
    "%%time\n",
    "train_data[\"tweet\"] = train_data[\"tweet\"].apply(tweet_lowercase)"
   ]
  },
  {
   "cell_type": "code",
   "execution_count": 151,
   "id": "32a4af9c-6286-46ba-9534-2e1a1dcc9705",
   "metadata": {
    "tags": []
   },
   "outputs": [
    {
     "data": {
      "text/html": [
       "<table border=\"1\" class=\"dataframe\">\n",
       "  <thead>\n",
       "    <tr style=\"text-align: right;\">\n",
       "      <th></th>\n",
       "      <th>Before</th>\n",
       "      <th>After</th>\n",
       "    </tr>\n",
       "  </thead>\n",
       "  <tbody>\n",
       "    <tr>\n",
       "      <th>0</th>\n",
       "      <td>Hari ini sangat 😤! Bete banget sama kerjaan, deh!!! 😒😒😒 @username Harusnya bisa lebih baik, tapi malah makin ribet!</td>\n",
       "      <td>hari ini sangat 😤! bete banget sama kerjaan, deh!!! 😒😒😒 @username harusnya bisa lebih baik, tapi malah makin ribet!</td>\n",
       "    </tr>\n",
       "    <tr>\n",
       "      <th>1</th>\n",
       "      <td>Yuhuuu~ ada yang bisa bantuin tugas nggak? #capek #stress butuh bantuan sekarang! Tolong dong, keburu deadline! http://example.com</td>\n",
       "      <td>yuhuuu~ ada yang bisa bantuin tugas nggak? #capek #stress butuh bantuan sekarang! tolong dong, keburu deadline! http://example.com</td>\n",
       "    </tr>\n",
       "    <tr>\n",
       "      <th>2</th>\n",
       "      <td>Gak nyangka! Ternyata si dia 💔 udah punya pacar lain. 😢😢 Kenapa nggak bilang dari awal? Padahal aku setia banget.</td>\n",
       "      <td>gak nyangka! ternyata si dia 💔 udah punya pacar lain. 😢😢 kenapa nggak bilang dari awal? padahal aku setia banget.</td>\n",
       "    </tr>\n",
       "    <tr>\n",
       "      <th>3</th>\n",
       "      <td>Makan siang di kafe baru 🍔🍟, enak banget! Mau lagi kesana weekend ini. Siapa mau ikut? 🤩 #makan #enak</td>\n",
       "      <td>makan siang di kafe baru 🍔🍟, enak banget! mau lagi kesana weekend ini. siapa mau ikut? 🤩 #makan #enak</td>\n",
       "    </tr>\n",
       "    <tr>\n",
       "      <th>4</th>\n",
       "      <td>Kemarin habis nonton film horror yang serem banget 😱😱! Sampai nggak bisa tidur semalaman, kepikiran terus.</td>\n",
       "      <td>kemarin habis nonton film horror yang serem banget 😱😱! sampai nggak bisa tidur semalaman, kepikiran terus.</td>\n",
       "    </tr>\n",
       "    <tr>\n",
       "      <th>5</th>\n",
       "      <td>Baru aja ketemu temen lama di mall. Senangnyaaa! 😍💕 Banyak cerita yang harus diupdate, kangen banget! 12345</td>\n",
       "      <td>baru aja ketemu temen lama di mall. senangnyaaa! 😍💕 banyak cerita yang harus diupdate, kangen banget! 12345</td>\n",
       "    </tr>\n",
       "    <tr>\n",
       "      <th>6</th>\n",
       "      <td>Gimana sih bisa dapetin tiket konsernya? 😭😭 Udah coba berkali-kali tapi selalu sold out. Ada tips nggak?!!!!</td>\n",
       "      <td>gimana sih bisa dapetin tiket konsernya? 😭😭 udah coba berkali-kali tapi selalu sold out. ada tips nggak?!!!!</td>\n",
       "    </tr>\n",
       "    <tr>\n",
       "      <th>7</th>\n",
       "      <td>Lagi hujan deras di luar ☔️, enaknya tidur siang sambil dengerin musik jazz. Siapa suka kayak gini juga?</td>\n",
       "      <td>lagi hujan deras di luar ☔️, enaknya tidur siang sambil dengerin musik jazz. siapa suka kayak gini juga?</td>\n",
       "    </tr>\n",
       "    <tr>\n",
       "      <th>8</th>\n",
       "      <td>Belajar coding ternyata seru juga 💻! Awalnya susah tapi kalau udah ngerti, jadi ketagihan mau bikin project.</td>\n",
       "      <td>belajar coding ternyata seru juga 💻! awalnya susah tapi kalau udah ngerti, jadi ketagihan mau bikin project.</td>\n",
       "    </tr>\n",
       "    <tr>\n",
       "      <th>9</th>\n",
       "      <td>Weekend ini mau staycation di villa. 🏡✨ Butuh banget refreshing dari rutinitas sehari-hari. Siapa ikut?</td>\n",
       "      <td>weekend ini mau staycation di villa. 🏡✨ butuh banget refreshing dari rutinitas sehari-hari. siapa ikut?</td>\n",
       "    </tr>\n",
       "  </tbody>\n",
       "</table>"
      ],
      "text/plain": [
       "<IPython.core.display.HTML object>"
      ]
     },
     "metadata": {},
     "output_type": "display_data"
    }
   ],
   "source": [
    "comparison_df = pd.DataFrame({\n",
    "    'Before ': train_data_copy['tweet'],\n",
    "    'After ': train_data['tweet']\n",
    "})\n",
    "\n",
    "\n",
    "pd.options.display.max_colwidth = 150\n",
    "\n",
    "\n",
    "display(HTML(comparison_df.head(10).to_html()))"
   ]
  },
  {
   "cell_type": "code",
   "execution_count": 152,
   "id": "937c0cce",
   "metadata": {},
   "outputs": [
    {
     "name": "stdout",
     "output_type": "stream",
     "text": [
      "CPU times: total: 0 ns\n",
      "Wall time: 995 µs\n"
     ]
    }
   ],
   "source": [
    "%%time\n",
    "train_data_copy[\"tweet\"] = train_data_copy[\"tweet\"].apply(tweet_lowercase)"
   ]
  },
  {
   "cell_type": "markdown",
   "id": "888a196f-5fa1-4fbc-94b3-37e3e27af189",
   "metadata": {
    "tags": []
   },
   "source": [
    "## 02. Cleansing"
   ]
  },
  {
   "cell_type": "markdown",
   "id": "85d1dee7-224f-4281-bbf5-45547f237d68",
   "metadata": {},
   "source": [
    "### a. Menghapus username"
   ]
  },
  {
   "cell_type": "code",
   "execution_count": 153,
   "id": "6ce157c5",
   "metadata": {},
   "outputs": [],
   "source": [
    "import re"
   ]
  },
  {
   "cell_type": "code",
   "execution_count": 154,
   "id": "47f4be40-6a84-42b6-ac3d-8d544b770c5d",
   "metadata": {
    "tags": []
   },
   "outputs": [],
   "source": [
    "def tweet_delete_username(tweet):\n",
    "\n",
    "    userPattern = r'@\\w+'\n",
    "    \n",
    "\n",
    "    tweet = re.sub(userPattern, '', tweet)\n",
    "    \n",
    "    return tweet\n"
   ]
  },
  {
   "cell_type": "code",
   "execution_count": 155,
   "id": "c22a1460-b9cc-485b-a6d2-344e1a1d9ae1",
   "metadata": {
    "tags": []
   },
   "outputs": [
    {
     "name": "stdout",
     "output_type": "stream",
     "text": [
      "CPU times: total: 0 ns\n",
      "Wall time: 1 ms\n"
     ]
    }
   ],
   "source": [
    "%%time\n",
    "train_data[\"tweet\"] = train_data[\"tweet\"].apply(tweet_delete_username)"
   ]
  },
  {
   "cell_type": "code",
   "execution_count": 156,
   "id": "6b3665de-1c30-4f37-8538-543bebd7f0b3",
   "metadata": {
    "tags": []
   },
   "outputs": [
    {
     "data": {
      "text/html": [
       "<table border=\"1\" class=\"dataframe\">\n",
       "  <thead>\n",
       "    <tr style=\"text-align: right;\">\n",
       "      <th></th>\n",
       "      <th>Before</th>\n",
       "      <th>After</th>\n",
       "    </tr>\n",
       "  </thead>\n",
       "  <tbody>\n",
       "    <tr>\n",
       "      <th>0</th>\n",
       "      <td>hari ini sangat 😤! bete banget sama kerjaan, deh!!! 😒😒😒 @username harusnya bisa lebih baik, tapi malah makin ribet!</td>\n",
       "      <td>hari ini sangat 😤! bete banget sama kerjaan, deh!!! 😒😒😒  harusnya bisa lebih baik, tapi malah makin ribet!</td>\n",
       "    </tr>\n",
       "    <tr>\n",
       "      <th>1</th>\n",
       "      <td>yuhuuu~ ada yang bisa bantuin tugas nggak? #capek #stress butuh bantuan sekarang! tolong dong, keburu deadline! http://example.com</td>\n",
       "      <td>yuhuuu~ ada yang bisa bantuin tugas nggak? #capek #stress butuh bantuan sekarang! tolong dong, keburu deadline! http://example.com</td>\n",
       "    </tr>\n",
       "    <tr>\n",
       "      <th>2</th>\n",
       "      <td>gak nyangka! ternyata si dia 💔 udah punya pacar lain. 😢😢 kenapa nggak bilang dari awal? padahal aku setia banget.</td>\n",
       "      <td>gak nyangka! ternyata si dia 💔 udah punya pacar lain. 😢😢 kenapa nggak bilang dari awal? padahal aku setia banget.</td>\n",
       "    </tr>\n",
       "    <tr>\n",
       "      <th>3</th>\n",
       "      <td>makan siang di kafe baru 🍔🍟, enak banget! mau lagi kesana weekend ini. siapa mau ikut? 🤩 #makan #enak</td>\n",
       "      <td>makan siang di kafe baru 🍔🍟, enak banget! mau lagi kesana weekend ini. siapa mau ikut? 🤩 #makan #enak</td>\n",
       "    </tr>\n",
       "    <tr>\n",
       "      <th>4</th>\n",
       "      <td>kemarin habis nonton film horror yang serem banget 😱😱! sampai nggak bisa tidur semalaman, kepikiran terus.</td>\n",
       "      <td>kemarin habis nonton film horror yang serem banget 😱😱! sampai nggak bisa tidur semalaman, kepikiran terus.</td>\n",
       "    </tr>\n",
       "    <tr>\n",
       "      <th>5</th>\n",
       "      <td>baru aja ketemu temen lama di mall. senangnyaaa! 😍💕 banyak cerita yang harus diupdate, kangen banget! 12345</td>\n",
       "      <td>baru aja ketemu temen lama di mall. senangnyaaa! 😍💕 banyak cerita yang harus diupdate, kangen banget! 12345</td>\n",
       "    </tr>\n",
       "    <tr>\n",
       "      <th>6</th>\n",
       "      <td>gimana sih bisa dapetin tiket konsernya? 😭😭 udah coba berkali-kali tapi selalu sold out. ada tips nggak?!!!!</td>\n",
       "      <td>gimana sih bisa dapetin tiket konsernya? 😭😭 udah coba berkali-kali tapi selalu sold out. ada tips nggak?!!!!</td>\n",
       "    </tr>\n",
       "    <tr>\n",
       "      <th>7</th>\n",
       "      <td>lagi hujan deras di luar ☔️, enaknya tidur siang sambil dengerin musik jazz. siapa suka kayak gini juga?</td>\n",
       "      <td>lagi hujan deras di luar ☔️, enaknya tidur siang sambil dengerin musik jazz. siapa suka kayak gini juga?</td>\n",
       "    </tr>\n",
       "    <tr>\n",
       "      <th>8</th>\n",
       "      <td>belajar coding ternyata seru juga 💻! awalnya susah tapi kalau udah ngerti, jadi ketagihan mau bikin project.</td>\n",
       "      <td>belajar coding ternyata seru juga 💻! awalnya susah tapi kalau udah ngerti, jadi ketagihan mau bikin project.</td>\n",
       "    </tr>\n",
       "    <tr>\n",
       "      <th>9</th>\n",
       "      <td>weekend ini mau staycation di villa. 🏡✨ butuh banget refreshing dari rutinitas sehari-hari. siapa ikut?</td>\n",
       "      <td>weekend ini mau staycation di villa. 🏡✨ butuh banget refreshing dari rutinitas sehari-hari. siapa ikut?</td>\n",
       "    </tr>\n",
       "  </tbody>\n",
       "</table>"
      ],
      "text/plain": [
       "<IPython.core.display.HTML object>"
      ]
     },
     "metadata": {},
     "output_type": "display_data"
    }
   ],
   "source": [
    "comparison_df = pd.DataFrame({\n",
    "    'Before ': train_data_copy['tweet'],\n",
    "    'After ': train_data['tweet']\n",
    "})\n",
    "\n",
    "\n",
    "pd.options.display.max_colwidth = 150\n",
    "\n",
    "\n",
    "display(HTML(comparison_df.head(10).to_html()))"
   ]
  },
  {
   "cell_type": "code",
   "execution_count": 157,
   "id": "60ab09bf",
   "metadata": {},
   "outputs": [
    {
     "name": "stdout",
     "output_type": "stream",
     "text": [
      "CPU times: total: 0 ns\n",
      "Wall time: 1.01 ms\n"
     ]
    }
   ],
   "source": [
    "%%time\n",
    "train_data_copy[\"tweet\"] = train_data_copy[\"tweet\"].apply(tweet_delete_username)"
   ]
  },
  {
   "cell_type": "markdown",
   "id": "9ed28683-35c7-4b64-8257-54c223c6c1a6",
   "metadata": {},
   "source": [
    "### b. Menghapus url"
   ]
  },
  {
   "cell_type": "code",
   "execution_count": 158,
   "id": "c94b527b-3338-4093-9c4f-381c7bb2b4c5",
   "metadata": {
    "tags": []
   },
   "outputs": [],
   "source": [
    "def tweet_delete_url(tweet):\n",
    "    urlPattern        = r\"((http://)[^ ]*|(https://)[^ ]*|(www\\.)[^ ]*|url)\" #Pola ngehapus url\n",
    "    tweet = re.sub(urlPattern, '', tweet)\n",
    "    return tweet"
   ]
  },
  {
   "cell_type": "code",
   "execution_count": 159,
   "id": "7524736f-51cc-4b56-9d72-b69c52cb0e03",
   "metadata": {
    "tags": []
   },
   "outputs": [
    {
     "name": "stdout",
     "output_type": "stream",
     "text": [
      "CPU times: total: 0 ns\n",
      "Wall time: 995 µs\n"
     ]
    }
   ],
   "source": [
    "%%time\n",
    "train_data[\"tweet\"] = train_data[\"tweet\"].apply(tweet_delete_url)"
   ]
  },
  {
   "cell_type": "code",
   "execution_count": 160,
   "id": "adecf461-d905-4052-9412-fedffc9148dd",
   "metadata": {
    "tags": []
   },
   "outputs": [
    {
     "data": {
      "text/html": [
       "<table border=\"1\" class=\"dataframe\">\n",
       "  <thead>\n",
       "    <tr style=\"text-align: right;\">\n",
       "      <th></th>\n",
       "      <th>Before</th>\n",
       "      <th>After</th>\n",
       "    </tr>\n",
       "  </thead>\n",
       "  <tbody>\n",
       "    <tr>\n",
       "      <th>0</th>\n",
       "      <td>hari ini sangat 😤! bete banget sama kerjaan, deh!!! 😒😒😒  harusnya bisa lebih baik, tapi malah makin ribet!</td>\n",
       "      <td>hari ini sangat 😤! bete banget sama kerjaan, deh!!! 😒😒😒  harusnya bisa lebih baik, tapi malah makin ribet!</td>\n",
       "    </tr>\n",
       "    <tr>\n",
       "      <th>1</th>\n",
       "      <td>yuhuuu~ ada yang bisa bantuin tugas nggak? #capek #stress butuh bantuan sekarang! tolong dong, keburu deadline! http://example.com</td>\n",
       "      <td>yuhuuu~ ada yang bisa bantuin tugas nggak? #capek #stress butuh bantuan sekarang! tolong dong, keburu deadline!</td>\n",
       "    </tr>\n",
       "    <tr>\n",
       "      <th>2</th>\n",
       "      <td>gak nyangka! ternyata si dia 💔 udah punya pacar lain. 😢😢 kenapa nggak bilang dari awal? padahal aku setia banget.</td>\n",
       "      <td>gak nyangka! ternyata si dia 💔 udah punya pacar lain. 😢😢 kenapa nggak bilang dari awal? padahal aku setia banget.</td>\n",
       "    </tr>\n",
       "    <tr>\n",
       "      <th>3</th>\n",
       "      <td>makan siang di kafe baru 🍔🍟, enak banget! mau lagi kesana weekend ini. siapa mau ikut? 🤩 #makan #enak</td>\n",
       "      <td>makan siang di kafe baru 🍔🍟, enak banget! mau lagi kesana weekend ini. siapa mau ikut? 🤩 #makan #enak</td>\n",
       "    </tr>\n",
       "    <tr>\n",
       "      <th>4</th>\n",
       "      <td>kemarin habis nonton film horror yang serem banget 😱😱! sampai nggak bisa tidur semalaman, kepikiran terus.</td>\n",
       "      <td>kemarin habis nonton film horror yang serem banget 😱😱! sampai nggak bisa tidur semalaman, kepikiran terus.</td>\n",
       "    </tr>\n",
       "    <tr>\n",
       "      <th>5</th>\n",
       "      <td>baru aja ketemu temen lama di mall. senangnyaaa! 😍💕 banyak cerita yang harus diupdate, kangen banget! 12345</td>\n",
       "      <td>baru aja ketemu temen lama di mall. senangnyaaa! 😍💕 banyak cerita yang harus diupdate, kangen banget! 12345</td>\n",
       "    </tr>\n",
       "    <tr>\n",
       "      <th>6</th>\n",
       "      <td>gimana sih bisa dapetin tiket konsernya? 😭😭 udah coba berkali-kali tapi selalu sold out. ada tips nggak?!!!!</td>\n",
       "      <td>gimana sih bisa dapetin tiket konsernya? 😭😭 udah coba berkali-kali tapi selalu sold out. ada tips nggak?!!!!</td>\n",
       "    </tr>\n",
       "    <tr>\n",
       "      <th>7</th>\n",
       "      <td>lagi hujan deras di luar ☔️, enaknya tidur siang sambil dengerin musik jazz. siapa suka kayak gini juga?</td>\n",
       "      <td>lagi hujan deras di luar ☔️, enaknya tidur siang sambil dengerin musik jazz. siapa suka kayak gini juga?</td>\n",
       "    </tr>\n",
       "    <tr>\n",
       "      <th>8</th>\n",
       "      <td>belajar coding ternyata seru juga 💻! awalnya susah tapi kalau udah ngerti, jadi ketagihan mau bikin project.</td>\n",
       "      <td>belajar coding ternyata seru juga 💻! awalnya susah tapi kalau udah ngerti, jadi ketagihan mau bikin project.</td>\n",
       "    </tr>\n",
       "    <tr>\n",
       "      <th>9</th>\n",
       "      <td>weekend ini mau staycation di villa. 🏡✨ butuh banget refreshing dari rutinitas sehari-hari. siapa ikut?</td>\n",
       "      <td>weekend ini mau staycation di villa. 🏡✨ butuh banget refreshing dari rutinitas sehari-hari. siapa ikut?</td>\n",
       "    </tr>\n",
       "  </tbody>\n",
       "</table>"
      ],
      "text/plain": [
       "<IPython.core.display.HTML object>"
      ]
     },
     "metadata": {},
     "output_type": "display_data"
    }
   ],
   "source": [
    "comparison_df = pd.DataFrame({\n",
    "    'Before ': train_data_copy['tweet'],\n",
    "    'After ': train_data['tweet']\n",
    "})\n",
    "\n",
    "\n",
    "pd.options.display.max_colwidth = 150\n",
    "\n",
    "\n",
    "display(HTML(comparison_df.head(10).to_html()))"
   ]
  },
  {
   "cell_type": "code",
   "execution_count": 161,
   "id": "1c49a7fa",
   "metadata": {},
   "outputs": [
    {
     "name": "stdout",
     "output_type": "stream",
     "text": [
      "CPU times: total: 0 ns\n",
      "Wall time: 980 µs\n"
     ]
    }
   ],
   "source": [
    "%%time\n",
    "train_data_copy[\"tweet\"] = train_data_copy[\"tweet\"].apply(tweet_delete_url)"
   ]
  },
  {
   "cell_type": "markdown",
   "id": "e06c367f-49ad-4c2b-9497-43ab57ffa299",
   "metadata": {},
   "source": [
    "### c. Menghapus kelebihan huruf"
   ]
  },
  {
   "cell_type": "code",
   "execution_count": 162,
   "id": "f2380b6d-7d2a-4935-953e-d96cfac0de18",
   "metadata": {
    "tags": []
   },
   "outputs": [],
   "source": [
    "def tweet_delete_extra_letters(tweet):\n",
    "    sequencePattern   = r'([A-Za-z])\\1{2,}' \n",
    "    seqReplacePattern = r'\\1' #Pola ngereplace yang kelebihan huruf tiga kali\n",
    "    tweet = re.sub(sequencePattern, seqReplacePattern, tweet)\n",
    "    \n",
    "    return tweet"
   ]
  },
  {
   "cell_type": "code",
   "execution_count": 163,
   "id": "1b63d61f-551e-44da-811c-4d13556620be",
   "metadata": {
    "tags": []
   },
   "outputs": [
    {
     "name": "stdout",
     "output_type": "stream",
     "text": [
      "CPU times: total: 0 ns\n",
      "Wall time: 956 µs\n"
     ]
    }
   ],
   "source": [
    "%%time\n",
    "train_data[\"tweet\"] = train_data[\"tweet\"].apply(tweet_delete_extra_letters)"
   ]
  },
  {
   "cell_type": "code",
   "execution_count": 164,
   "id": "508a7cc1-e3e6-4715-b723-b893972c8fc7",
   "metadata": {
    "tags": []
   },
   "outputs": [
    {
     "data": {
      "text/html": [
       "<table border=\"1\" class=\"dataframe\">\n",
       "  <thead>\n",
       "    <tr style=\"text-align: right;\">\n",
       "      <th></th>\n",
       "      <th>Before</th>\n",
       "      <th>After</th>\n",
       "    </tr>\n",
       "  </thead>\n",
       "  <tbody>\n",
       "    <tr>\n",
       "      <th>0</th>\n",
       "      <td>hari ini sangat 😤! bete banget sama kerjaan, deh!!! 😒😒😒  harusnya bisa lebih baik, tapi malah makin ribet!</td>\n",
       "      <td>hari ini sangat 😤! bete banget sama kerjaan, deh!!! 😒😒😒  harusnya bisa lebih baik, tapi malah makin ribet!</td>\n",
       "    </tr>\n",
       "    <tr>\n",
       "      <th>1</th>\n",
       "      <td>yuhuuu~ ada yang bisa bantuin tugas nggak? #capek #stress butuh bantuan sekarang! tolong dong, keburu deadline!</td>\n",
       "      <td>yuhu~ ada yang bisa bantuin tugas nggak? #capek #stress butuh bantuan sekarang! tolong dong, keburu deadline!</td>\n",
       "    </tr>\n",
       "    <tr>\n",
       "      <th>2</th>\n",
       "      <td>gak nyangka! ternyata si dia 💔 udah punya pacar lain. 😢😢 kenapa nggak bilang dari awal? padahal aku setia banget.</td>\n",
       "      <td>gak nyangka! ternyata si dia 💔 udah punya pacar lain. 😢😢 kenapa nggak bilang dari awal? padahal aku setia banget.</td>\n",
       "    </tr>\n",
       "    <tr>\n",
       "      <th>3</th>\n",
       "      <td>makan siang di kafe baru 🍔🍟, enak banget! mau lagi kesana weekend ini. siapa mau ikut? 🤩 #makan #enak</td>\n",
       "      <td>makan siang di kafe baru 🍔🍟, enak banget! mau lagi kesana weekend ini. siapa mau ikut? 🤩 #makan #enak</td>\n",
       "    </tr>\n",
       "    <tr>\n",
       "      <th>4</th>\n",
       "      <td>kemarin habis nonton film horror yang serem banget 😱😱! sampai nggak bisa tidur semalaman, kepikiran terus.</td>\n",
       "      <td>kemarin habis nonton film horror yang serem banget 😱😱! sampai nggak bisa tidur semalaman, kepikiran terus.</td>\n",
       "    </tr>\n",
       "    <tr>\n",
       "      <th>5</th>\n",
       "      <td>baru aja ketemu temen lama di mall. senangnyaaa! 😍💕 banyak cerita yang harus diupdate, kangen banget! 12345</td>\n",
       "      <td>baru aja ketemu temen lama di mall. senangnya! 😍💕 banyak cerita yang harus diupdate, kangen banget! 12345</td>\n",
       "    </tr>\n",
       "    <tr>\n",
       "      <th>6</th>\n",
       "      <td>gimana sih bisa dapetin tiket konsernya? 😭😭 udah coba berkali-kali tapi selalu sold out. ada tips nggak?!!!!</td>\n",
       "      <td>gimana sih bisa dapetin tiket konsernya? 😭😭 udah coba berkali-kali tapi selalu sold out. ada tips nggak?!!!!</td>\n",
       "    </tr>\n",
       "    <tr>\n",
       "      <th>7</th>\n",
       "      <td>lagi hujan deras di luar ☔️, enaknya tidur siang sambil dengerin musik jazz. siapa suka kayak gini juga?</td>\n",
       "      <td>lagi hujan deras di luar ☔️, enaknya tidur siang sambil dengerin musik jazz. siapa suka kayak gini juga?</td>\n",
       "    </tr>\n",
       "    <tr>\n",
       "      <th>8</th>\n",
       "      <td>belajar coding ternyata seru juga 💻! awalnya susah tapi kalau udah ngerti, jadi ketagihan mau bikin project.</td>\n",
       "      <td>belajar coding ternyata seru juga 💻! awalnya susah tapi kalau udah ngerti, jadi ketagihan mau bikin project.</td>\n",
       "    </tr>\n",
       "    <tr>\n",
       "      <th>9</th>\n",
       "      <td>weekend ini mau staycation di villa. 🏡✨ butuh banget refreshing dari rutinitas sehari-hari. siapa ikut?</td>\n",
       "      <td>weekend ini mau staycation di villa. 🏡✨ butuh banget refreshing dari rutinitas sehari-hari. siapa ikut?</td>\n",
       "    </tr>\n",
       "  </tbody>\n",
       "</table>"
      ],
      "text/plain": [
       "<IPython.core.display.HTML object>"
      ]
     },
     "metadata": {},
     "output_type": "display_data"
    }
   ],
   "source": [
    "comparison_df = pd.DataFrame({\n",
    "    'Before ': train_data_copy['tweet'],\n",
    "    'After ': train_data['tweet']\n",
    "})\n",
    "\n",
    "\n",
    "pd.options.display.max_colwidth = 150\n",
    "\n",
    "\n",
    "display(HTML(comparison_df.head(10).to_html()))"
   ]
  },
  {
   "cell_type": "code",
   "execution_count": 165,
   "id": "d642be4d",
   "metadata": {},
   "outputs": [
    {
     "name": "stdout",
     "output_type": "stream",
     "text": [
      "CPU times: total: 0 ns\n",
      "Wall time: 1.35 ms\n"
     ]
    }
   ],
   "source": [
    "%%time\n",
    "train_data_copy[\"tweet\"] = train_data_copy[\"tweet\"].apply(tweet_delete_extra_letters)"
   ]
  },
  {
   "cell_type": "markdown",
   "id": "a2051487-629e-408d-b638-1bb3511612b9",
   "metadata": {},
   "source": [
    "### d. Menghapus new line dan new text"
   ]
  },
  {
   "cell_type": "code",
   "execution_count": 166,
   "id": "8cc9e083-0bee-4d78-8b87-d51d3435fbfe",
   "metadata": {
    "tags": []
   },
   "outputs": [],
   "source": [
    "def tweet_delete_new_line_new_text(tweet):\n",
    "    tweet = re.sub(r'\\\\[nt]', ' ', tweet)\n",
    "    return tweet"
   ]
  },
  {
   "cell_type": "code",
   "execution_count": 167,
   "id": "ee780691-aaa5-4c7f-9750-aae65f77622c",
   "metadata": {
    "tags": []
   },
   "outputs": [
    {
     "name": "stdout",
     "output_type": "stream",
     "text": [
      "CPU times: total: 15.6 ms\n",
      "Wall time: 1 ms\n"
     ]
    }
   ],
   "source": [
    "%%time\n",
    "train_data[\"tweet\"] = train_data[\"tweet\"].apply(tweet_delete_new_line_new_text)"
   ]
  },
  {
   "cell_type": "code",
   "execution_count": 168,
   "id": "b90008be-d2bb-49ee-84ac-12ff4223aa69",
   "metadata": {
    "tags": []
   },
   "outputs": [
    {
     "data": {
      "text/html": [
       "<table border=\"1\" class=\"dataframe\">\n",
       "  <thead>\n",
       "    <tr style=\"text-align: right;\">\n",
       "      <th></th>\n",
       "      <th>Before</th>\n",
       "      <th>After</th>\n",
       "    </tr>\n",
       "  </thead>\n",
       "  <tbody>\n",
       "    <tr>\n",
       "      <th>0</th>\n",
       "      <td>hari ini sangat 😤! bete banget sama kerjaan, deh!!! 😒😒😒  harusnya bisa lebih baik, tapi malah makin ribet!</td>\n",
       "      <td>hari ini sangat 😤! bete banget sama kerjaan, deh!!! 😒😒😒  harusnya bisa lebih baik, tapi malah makin ribet!</td>\n",
       "    </tr>\n",
       "    <tr>\n",
       "      <th>1</th>\n",
       "      <td>yuhu~ ada yang bisa bantuin tugas nggak? #capek #stress butuh bantuan sekarang! tolong dong, keburu deadline!</td>\n",
       "      <td>yuhu~ ada yang bisa bantuin tugas nggak? #capek #stress butuh bantuan sekarang! tolong dong, keburu deadline!</td>\n",
       "    </tr>\n",
       "    <tr>\n",
       "      <th>2</th>\n",
       "      <td>gak nyangka! ternyata si dia 💔 udah punya pacar lain. 😢😢 kenapa nggak bilang dari awal? padahal aku setia banget.</td>\n",
       "      <td>gak nyangka! ternyata si dia 💔 udah punya pacar lain. 😢😢 kenapa nggak bilang dari awal? padahal aku setia banget.</td>\n",
       "    </tr>\n",
       "    <tr>\n",
       "      <th>3</th>\n",
       "      <td>makan siang di kafe baru 🍔🍟, enak banget! mau lagi kesana weekend ini. siapa mau ikut? 🤩 #makan #enak</td>\n",
       "      <td>makan siang di kafe baru 🍔🍟, enak banget! mau lagi kesana weekend ini. siapa mau ikut? 🤩 #makan #enak</td>\n",
       "    </tr>\n",
       "    <tr>\n",
       "      <th>4</th>\n",
       "      <td>kemarin habis nonton film horror yang serem banget 😱😱! sampai nggak bisa tidur semalaman, kepikiran terus.</td>\n",
       "      <td>kemarin habis nonton film horror yang serem banget 😱😱! sampai nggak bisa tidur semalaman, kepikiran terus.</td>\n",
       "    </tr>\n",
       "    <tr>\n",
       "      <th>5</th>\n",
       "      <td>baru aja ketemu temen lama di mall. senangnya! 😍💕 banyak cerita yang harus diupdate, kangen banget! 12345</td>\n",
       "      <td>baru aja ketemu temen lama di mall. senangnya! 😍💕 banyak cerita yang harus diupdate, kangen banget! 12345</td>\n",
       "    </tr>\n",
       "    <tr>\n",
       "      <th>6</th>\n",
       "      <td>gimana sih bisa dapetin tiket konsernya? 😭😭 udah coba berkali-kali tapi selalu sold out. ada tips nggak?!!!!</td>\n",
       "      <td>gimana sih bisa dapetin tiket konsernya? 😭😭 udah coba berkali-kali tapi selalu sold out. ada tips nggak?!!!!</td>\n",
       "    </tr>\n",
       "    <tr>\n",
       "      <th>7</th>\n",
       "      <td>lagi hujan deras di luar ☔️, enaknya tidur siang sambil dengerin musik jazz. siapa suka kayak gini juga?</td>\n",
       "      <td>lagi hujan deras di luar ☔️, enaknya tidur siang sambil dengerin musik jazz. siapa suka kayak gini juga?</td>\n",
       "    </tr>\n",
       "    <tr>\n",
       "      <th>8</th>\n",
       "      <td>belajar coding ternyata seru juga 💻! awalnya susah tapi kalau udah ngerti, jadi ketagihan mau bikin project.</td>\n",
       "      <td>belajar coding ternyata seru juga 💻! awalnya susah tapi kalau udah ngerti, jadi ketagihan mau bikin project.</td>\n",
       "    </tr>\n",
       "    <tr>\n",
       "      <th>9</th>\n",
       "      <td>weekend ini mau staycation di villa. 🏡✨ butuh banget refreshing dari rutinitas sehari-hari. siapa ikut?</td>\n",
       "      <td>weekend ini mau staycation di villa. 🏡✨ butuh banget refreshing dari rutinitas sehari-hari. siapa ikut?</td>\n",
       "    </tr>\n",
       "  </tbody>\n",
       "</table>"
      ],
      "text/plain": [
       "<IPython.core.display.HTML object>"
      ]
     },
     "metadata": {},
     "output_type": "display_data"
    }
   ],
   "source": [
    "comparison_df = pd.DataFrame({\n",
    "    'Before ': train_data_copy['tweet'],\n",
    "    'After ': train_data['tweet']\n",
    "})\n",
    "\n",
    "\n",
    "pd.options.display.max_colwidth = 150\n",
    "\n",
    "\n",
    "display(HTML(comparison_df.head(10).to_html()))"
   ]
  },
  {
   "cell_type": "code",
   "execution_count": 169,
   "id": "1ef13f41",
   "metadata": {},
   "outputs": [
    {
     "name": "stdout",
     "output_type": "stream",
     "text": [
      "CPU times: total: 0 ns\n",
      "Wall time: 1.31 ms\n"
     ]
    }
   ],
   "source": [
    "%%time\n",
    "train_data_copy[\"tweet\"] = train_data_copy[\"tweet\"].apply(tweet_delete_new_line_new_text)"
   ]
  },
  {
   "cell_type": "markdown",
   "id": "2fd42e11",
   "metadata": {},
   "source": [
    "### e. Menghapus Hastag"
   ]
  },
  {
   "cell_type": "code",
   "execution_count": 170,
   "id": "001e206c",
   "metadata": {},
   "outputs": [],
   "source": [
    "def tweet_remove_hashtags(tweet):\n",
    "    hashtag= r'#\\w+'\n",
    "    tweet = re.sub(hashtag, '', tweet)\n",
    "    return tweet"
   ]
  },
  {
   "cell_type": "code",
   "execution_count": 171,
   "id": "a806e416",
   "metadata": {},
   "outputs": [
    {
     "name": "stdout",
     "output_type": "stream",
     "text": [
      "CPU times: total: 0 ns\n",
      "Wall time: 1 ms\n"
     ]
    }
   ],
   "source": [
    "%%time\n",
    "train_data[\"tweet\"] = train_data[\"tweet\"].apply(tweet_remove_hashtags)"
   ]
  },
  {
   "cell_type": "code",
   "execution_count": 172,
   "id": "bee5e05b",
   "metadata": {},
   "outputs": [
    {
     "data": {
      "text/html": [
       "<table border=\"1\" class=\"dataframe\">\n",
       "  <thead>\n",
       "    <tr style=\"text-align: right;\">\n",
       "      <th></th>\n",
       "      <th>Before</th>\n",
       "      <th>After</th>\n",
       "    </tr>\n",
       "  </thead>\n",
       "  <tbody>\n",
       "    <tr>\n",
       "      <th>0</th>\n",
       "      <td>hari ini sangat 😤! bete banget sama kerjaan, deh!!! 😒😒😒  harusnya bisa lebih baik, tapi malah makin ribet!</td>\n",
       "      <td>hari ini sangat 😤! bete banget sama kerjaan, deh!!! 😒😒😒  harusnya bisa lebih baik, tapi malah makin ribet!</td>\n",
       "    </tr>\n",
       "    <tr>\n",
       "      <th>1</th>\n",
       "      <td>yuhu~ ada yang bisa bantuin tugas nggak? #capek #stress butuh bantuan sekarang! tolong dong, keburu deadline!</td>\n",
       "      <td>yuhu~ ada yang bisa bantuin tugas nggak?   butuh bantuan sekarang! tolong dong, keburu deadline!</td>\n",
       "    </tr>\n",
       "    <tr>\n",
       "      <th>2</th>\n",
       "      <td>gak nyangka! ternyata si dia 💔 udah punya pacar lain. 😢😢 kenapa nggak bilang dari awal? padahal aku setia banget.</td>\n",
       "      <td>gak nyangka! ternyata si dia 💔 udah punya pacar lain. 😢😢 kenapa nggak bilang dari awal? padahal aku setia banget.</td>\n",
       "    </tr>\n",
       "    <tr>\n",
       "      <th>3</th>\n",
       "      <td>makan siang di kafe baru 🍔🍟, enak banget! mau lagi kesana weekend ini. siapa mau ikut? 🤩 #makan #enak</td>\n",
       "      <td>makan siang di kafe baru 🍔🍟, enak banget! mau lagi kesana weekend ini. siapa mau ikut? 🤩</td>\n",
       "    </tr>\n",
       "    <tr>\n",
       "      <th>4</th>\n",
       "      <td>kemarin habis nonton film horror yang serem banget 😱😱! sampai nggak bisa tidur semalaman, kepikiran terus.</td>\n",
       "      <td>kemarin habis nonton film horror yang serem banget 😱😱! sampai nggak bisa tidur semalaman, kepikiran terus.</td>\n",
       "    </tr>\n",
       "    <tr>\n",
       "      <th>5</th>\n",
       "      <td>baru aja ketemu temen lama di mall. senangnya! 😍💕 banyak cerita yang harus diupdate, kangen banget! 12345</td>\n",
       "      <td>baru aja ketemu temen lama di mall. senangnya! 😍💕 banyak cerita yang harus diupdate, kangen banget! 12345</td>\n",
       "    </tr>\n",
       "    <tr>\n",
       "      <th>6</th>\n",
       "      <td>gimana sih bisa dapetin tiket konsernya? 😭😭 udah coba berkali-kali tapi selalu sold out. ada tips nggak?!!!!</td>\n",
       "      <td>gimana sih bisa dapetin tiket konsernya? 😭😭 udah coba berkali-kali tapi selalu sold out. ada tips nggak?!!!!</td>\n",
       "    </tr>\n",
       "    <tr>\n",
       "      <th>7</th>\n",
       "      <td>lagi hujan deras di luar ☔️, enaknya tidur siang sambil dengerin musik jazz. siapa suka kayak gini juga?</td>\n",
       "      <td>lagi hujan deras di luar ☔️, enaknya tidur siang sambil dengerin musik jazz. siapa suka kayak gini juga?</td>\n",
       "    </tr>\n",
       "    <tr>\n",
       "      <th>8</th>\n",
       "      <td>belajar coding ternyata seru juga 💻! awalnya susah tapi kalau udah ngerti, jadi ketagihan mau bikin project.</td>\n",
       "      <td>belajar coding ternyata seru juga 💻! awalnya susah tapi kalau udah ngerti, jadi ketagihan mau bikin project.</td>\n",
       "    </tr>\n",
       "    <tr>\n",
       "      <th>9</th>\n",
       "      <td>weekend ini mau staycation di villa. 🏡✨ butuh banget refreshing dari rutinitas sehari-hari. siapa ikut?</td>\n",
       "      <td>weekend ini mau staycation di villa. 🏡✨ butuh banget refreshing dari rutinitas sehari-hari. siapa ikut?</td>\n",
       "    </tr>\n",
       "  </tbody>\n",
       "</table>"
      ],
      "text/plain": [
       "<IPython.core.display.HTML object>"
      ]
     },
     "metadata": {},
     "output_type": "display_data"
    }
   ],
   "source": [
    "comparison_df = pd.DataFrame({\n",
    "    'Before ': train_data_copy['tweet'],\n",
    "    'After ': train_data['tweet']\n",
    "})\n",
    "\n",
    "pd.options.display.max_colwidth = 150\n",
    "\n",
    "display(HTML(comparison_df.head(10).to_html()))"
   ]
  },
  {
   "cell_type": "code",
   "execution_count": 173,
   "id": "ec6ddd71",
   "metadata": {},
   "outputs": [
    {
     "name": "stdout",
     "output_type": "stream",
     "text": [
      "CPU times: total: 0 ns\n",
      "Wall time: 1.08 ms\n"
     ]
    }
   ],
   "source": [
    "%%time\n",
    "train_data_copy[\"tweet\"] = train_data_copy[\"tweet\"].apply(tweet_remove_hashtags)"
   ]
  },
  {
   "cell_type": "markdown",
   "id": "181bb0e4-dbc1-4a00-a981-40ea7836efcb",
   "metadata": {
    "tags": []
   },
   "source": [
    "### f. Menghapus angka"
   ]
  },
  {
   "cell_type": "code",
   "execution_count": 174,
   "id": "139185eb-5795-4566-9a4d-63f285f9a3e0",
   "metadata": {
    "tags": []
   },
   "outputs": [],
   "source": [
    "def tweet_delete_number(tweet):\n",
    "    number = r'\\d+' \n",
    "    tweet = re.sub(number, '', tweet)\n",
    "    return tweet"
   ]
  },
  {
   "cell_type": "code",
   "execution_count": 175,
   "id": "dab2a768-750e-4edb-8c00-08f89e01fdd0",
   "metadata": {
    "tags": []
   },
   "outputs": [
    {
     "name": "stdout",
     "output_type": "stream",
     "text": [
      "CPU times: total: 0 ns\n",
      "Wall time: 996 µs\n"
     ]
    }
   ],
   "source": [
    "%%time\n",
    "train_data[\"tweet\"] = train_data[\"tweet\"].apply(tweet_delete_number)"
   ]
  },
  {
   "cell_type": "code",
   "execution_count": 176,
   "id": "86f367ba-608c-4740-afce-8b47f8f8782c",
   "metadata": {
    "tags": []
   },
   "outputs": [
    {
     "data": {
      "text/html": [
       "<table border=\"1\" class=\"dataframe\">\n",
       "  <thead>\n",
       "    <tr style=\"text-align: right;\">\n",
       "      <th></th>\n",
       "      <th>Before</th>\n",
       "      <th>After</th>\n",
       "    </tr>\n",
       "  </thead>\n",
       "  <tbody>\n",
       "    <tr>\n",
       "      <th>0</th>\n",
       "      <td>hari ini sangat 😤! bete banget sama kerjaan, deh!!! 😒😒😒  harusnya bisa lebih baik, tapi malah makin ribet!</td>\n",
       "      <td>hari ini sangat 😤! bete banget sama kerjaan, deh!!! 😒😒😒  harusnya bisa lebih baik, tapi malah makin ribet!</td>\n",
       "    </tr>\n",
       "    <tr>\n",
       "      <th>1</th>\n",
       "      <td>yuhu~ ada yang bisa bantuin tugas nggak?   butuh bantuan sekarang! tolong dong, keburu deadline!</td>\n",
       "      <td>yuhu~ ada yang bisa bantuin tugas nggak?   butuh bantuan sekarang! tolong dong, keburu deadline!</td>\n",
       "    </tr>\n",
       "    <tr>\n",
       "      <th>2</th>\n",
       "      <td>gak nyangka! ternyata si dia 💔 udah punya pacar lain. 😢😢 kenapa nggak bilang dari awal? padahal aku setia banget.</td>\n",
       "      <td>gak nyangka! ternyata si dia 💔 udah punya pacar lain. 😢😢 kenapa nggak bilang dari awal? padahal aku setia banget.</td>\n",
       "    </tr>\n",
       "    <tr>\n",
       "      <th>3</th>\n",
       "      <td>makan siang di kafe baru 🍔🍟, enak banget! mau lagi kesana weekend ini. siapa mau ikut? 🤩</td>\n",
       "      <td>makan siang di kafe baru 🍔🍟, enak banget! mau lagi kesana weekend ini. siapa mau ikut? 🤩</td>\n",
       "    </tr>\n",
       "    <tr>\n",
       "      <th>4</th>\n",
       "      <td>kemarin habis nonton film horror yang serem banget 😱😱! sampai nggak bisa tidur semalaman, kepikiran terus.</td>\n",
       "      <td>kemarin habis nonton film horror yang serem banget 😱😱! sampai nggak bisa tidur semalaman, kepikiran terus.</td>\n",
       "    </tr>\n",
       "    <tr>\n",
       "      <th>5</th>\n",
       "      <td>baru aja ketemu temen lama di mall. senangnya! 😍💕 banyak cerita yang harus diupdate, kangen banget! 12345</td>\n",
       "      <td>baru aja ketemu temen lama di mall. senangnya! 😍💕 banyak cerita yang harus diupdate, kangen banget!</td>\n",
       "    </tr>\n",
       "    <tr>\n",
       "      <th>6</th>\n",
       "      <td>gimana sih bisa dapetin tiket konsernya? 😭😭 udah coba berkali-kali tapi selalu sold out. ada tips nggak?!!!!</td>\n",
       "      <td>gimana sih bisa dapetin tiket konsernya? 😭😭 udah coba berkali-kali tapi selalu sold out. ada tips nggak?!!!!</td>\n",
       "    </tr>\n",
       "    <tr>\n",
       "      <th>7</th>\n",
       "      <td>lagi hujan deras di luar ☔️, enaknya tidur siang sambil dengerin musik jazz. siapa suka kayak gini juga?</td>\n",
       "      <td>lagi hujan deras di luar ☔️, enaknya tidur siang sambil dengerin musik jazz. siapa suka kayak gini juga?</td>\n",
       "    </tr>\n",
       "    <tr>\n",
       "      <th>8</th>\n",
       "      <td>belajar coding ternyata seru juga 💻! awalnya susah tapi kalau udah ngerti, jadi ketagihan mau bikin project.</td>\n",
       "      <td>belajar coding ternyata seru juga 💻! awalnya susah tapi kalau udah ngerti, jadi ketagihan mau bikin project.</td>\n",
       "    </tr>\n",
       "    <tr>\n",
       "      <th>9</th>\n",
       "      <td>weekend ini mau staycation di villa. 🏡✨ butuh banget refreshing dari rutinitas sehari-hari. siapa ikut?</td>\n",
       "      <td>weekend ini mau staycation di villa. 🏡✨ butuh banget refreshing dari rutinitas sehari-hari. siapa ikut?</td>\n",
       "    </tr>\n",
       "  </tbody>\n",
       "</table>"
      ],
      "text/plain": [
       "<IPython.core.display.HTML object>"
      ]
     },
     "metadata": {},
     "output_type": "display_data"
    }
   ],
   "source": [
    "comparison_df = pd.DataFrame({\n",
    "    'Before ': train_data_copy['tweet'],\n",
    "    'After ': train_data['tweet']\n",
    "})\n",
    "\n",
    "\n",
    "pd.options.display.max_colwidth = 150\n",
    "\n",
    "\n",
    "display(HTML(comparison_df.head(10).to_html()))"
   ]
  },
  {
   "cell_type": "code",
   "execution_count": 177,
   "id": "515a4c53",
   "metadata": {},
   "outputs": [
    {
     "name": "stdout",
     "output_type": "stream",
     "text": [
      "CPU times: total: 0 ns\n",
      "Wall time: 1 ms\n"
     ]
    }
   ],
   "source": [
    "%%time\n",
    "train_data_copy[\"tweet\"] = train_data_copy[\"tweet\"].apply(tweet_delete_number)"
   ]
  },
  {
   "cell_type": "markdown",
   "id": "4de44a31-86c8-4af3-b594-383d461c80f1",
   "metadata": {
    "tags": []
   },
   "source": [
    "### g. Menghapus tanda baca"
   ]
  },
  {
   "cell_type": "code",
   "execution_count": 178,
   "id": "d79f50f9-1d2a-43c0-8e13-8283c8c6a0a6",
   "metadata": {
    "tags": []
   },
   "outputs": [],
   "source": [
    "def tweet_delete_punctuation(tweet):\n",
    "    punctuationPattern = r'[^\\w\\s]' \n",
    "    tweet = re.sub(punctuationPattern, ' ', tweet)\n",
    "    \n",
    "    return tweet"
   ]
  },
  {
   "cell_type": "code",
   "execution_count": 179,
   "id": "0f70586f-27ad-47fe-a9cc-d02d53f80b1c",
   "metadata": {
    "tags": []
   },
   "outputs": [
    {
     "name": "stdout",
     "output_type": "stream",
     "text": [
      "CPU times: total: 0 ns\n",
      "Wall time: 1.01 ms\n"
     ]
    }
   ],
   "source": [
    "%%time\n",
    "train_data[\"tweet\"] = train_data[\"tweet\"].apply(tweet_delete_punctuation)"
   ]
  },
  {
   "cell_type": "code",
   "execution_count": 180,
   "id": "fe6b6e89-9d05-4ed7-9b49-43a6974658a5",
   "metadata": {
    "tags": []
   },
   "outputs": [
    {
     "data": {
      "text/html": [
       "<table border=\"1\" class=\"dataframe\">\n",
       "  <thead>\n",
       "    <tr style=\"text-align: right;\">\n",
       "      <th></th>\n",
       "      <th>Before</th>\n",
       "      <th>After</th>\n",
       "    </tr>\n",
       "  </thead>\n",
       "  <tbody>\n",
       "    <tr>\n",
       "      <th>0</th>\n",
       "      <td>hari ini sangat 😤! bete banget sama kerjaan, deh!!! 😒😒😒  harusnya bisa lebih baik, tapi malah makin ribet!</td>\n",
       "      <td>hari ini sangat    bete banget sama kerjaan  deh         harusnya bisa lebih baik  tapi malah makin ribet</td>\n",
       "    </tr>\n",
       "    <tr>\n",
       "      <th>1</th>\n",
       "      <td>yuhu~ ada yang bisa bantuin tugas nggak?   butuh bantuan sekarang! tolong dong, keburu deadline!</td>\n",
       "      <td>yuhu  ada yang bisa bantuin tugas nggak    butuh bantuan sekarang  tolong dong  keburu deadline</td>\n",
       "    </tr>\n",
       "    <tr>\n",
       "      <th>2</th>\n",
       "      <td>gak nyangka! ternyata si dia 💔 udah punya pacar lain. 😢😢 kenapa nggak bilang dari awal? padahal aku setia banget.</td>\n",
       "      <td>gak nyangka  ternyata si dia   udah punya pacar lain     kenapa nggak bilang dari awal  padahal aku setia banget</td>\n",
       "    </tr>\n",
       "    <tr>\n",
       "      <th>3</th>\n",
       "      <td>makan siang di kafe baru 🍔🍟, enak banget! mau lagi kesana weekend ini. siapa mau ikut? 🤩</td>\n",
       "      <td>makan siang di kafe baru     enak banget  mau lagi kesana weekend ini  siapa mau ikut</td>\n",
       "    </tr>\n",
       "    <tr>\n",
       "      <th>4</th>\n",
       "      <td>kemarin habis nonton film horror yang serem banget 😱😱! sampai nggak bisa tidur semalaman, kepikiran terus.</td>\n",
       "      <td>kemarin habis nonton film horror yang serem banget     sampai nggak bisa tidur semalaman  kepikiran terus</td>\n",
       "    </tr>\n",
       "    <tr>\n",
       "      <th>5</th>\n",
       "      <td>baru aja ketemu temen lama di mall. senangnya! 😍💕 banyak cerita yang harus diupdate, kangen banget!</td>\n",
       "      <td>baru aja ketemu temen lama di mall  senangnya     banyak cerita yang harus diupdate  kangen banget</td>\n",
       "    </tr>\n",
       "    <tr>\n",
       "      <th>6</th>\n",
       "      <td>gimana sih bisa dapetin tiket konsernya? 😭😭 udah coba berkali-kali tapi selalu sold out. ada tips nggak?!!!!</td>\n",
       "      <td>gimana sih bisa dapetin tiket konsernya     udah coba berkali kali tapi selalu sold out  ada tips nggak</td>\n",
       "    </tr>\n",
       "    <tr>\n",
       "      <th>7</th>\n",
       "      <td>lagi hujan deras di luar ☔️, enaknya tidur siang sambil dengerin musik jazz. siapa suka kayak gini juga?</td>\n",
       "      <td>lagi hujan deras di luar     enaknya tidur siang sambil dengerin musik jazz  siapa suka kayak gini juga</td>\n",
       "    </tr>\n",
       "    <tr>\n",
       "      <th>8</th>\n",
       "      <td>belajar coding ternyata seru juga 💻! awalnya susah tapi kalau udah ngerti, jadi ketagihan mau bikin project.</td>\n",
       "      <td>belajar coding ternyata seru juga    awalnya susah tapi kalau udah ngerti  jadi ketagihan mau bikin project</td>\n",
       "    </tr>\n",
       "    <tr>\n",
       "      <th>9</th>\n",
       "      <td>weekend ini mau staycation di villa. 🏡✨ butuh banget refreshing dari rutinitas sehari-hari. siapa ikut?</td>\n",
       "      <td>weekend ini mau staycation di villa     butuh banget refreshing dari rutinitas sehari hari  siapa ikut</td>\n",
       "    </tr>\n",
       "  </tbody>\n",
       "</table>"
      ],
      "text/plain": [
       "<IPython.core.display.HTML object>"
      ]
     },
     "metadata": {},
     "output_type": "display_data"
    }
   ],
   "source": [
    "comparison_df = pd.DataFrame({\n",
    "    'Before ': train_data_copy['tweet'],\n",
    "    'After ': train_data['tweet']\n",
    "})\n",
    "\n",
    "\n",
    "pd.options.display.max_colwidth = 150\n",
    "\n",
    "\n",
    "display(HTML(comparison_df.head(10).to_html()))"
   ]
  },
  {
   "cell_type": "code",
   "execution_count": 181,
   "id": "23ca11a9",
   "metadata": {},
   "outputs": [
    {
     "name": "stdout",
     "output_type": "stream",
     "text": [
      "CPU times: total: 0 ns\n",
      "Wall time: 994 µs\n"
     ]
    }
   ],
   "source": [
    "%%time\n",
    "train_data_copy[\"tweet\"] = train_data_copy[\"tweet\"].apply(tweet_delete_punctuation)"
   ]
  },
  {
   "cell_type": "markdown",
   "id": "187fd0cb-394d-4c5e-92c1-9b10ea7d813e",
   "metadata": {
    "tags": []
   },
   "source": [
    "### h. Menghapus Extra Spasi"
   ]
  },
  {
   "cell_type": "code",
   "execution_count": 182,
   "id": "782da536-3514-414d-9c0f-b09fe5c980e6",
   "metadata": {
    "tags": []
   },
   "outputs": [],
   "source": [
    "def tweet_delete_extra_space(tweet):\n",
    "    tweet = re.sub(r\"\\s+\", \" \", tweet)\n",
    "    tweet = re.sub(r\"^\\s+|\\s+$\", \"\", tweet)\n",
    "    \n",
    "    return tweet"
   ]
  },
  {
   "cell_type": "code",
   "execution_count": 183,
   "id": "b9e65496-e5c9-4120-a6d4-081495bf1002",
   "metadata": {
    "tags": []
   },
   "outputs": [
    {
     "name": "stdout",
     "output_type": "stream",
     "text": [
      "CPU times: total: 0 ns\n",
      "Wall time: 986 µs\n"
     ]
    }
   ],
   "source": [
    "%%time\n",
    "train_data[\"tweet\"] = train_data[\"tweet\"].apply(tweet_delete_extra_space)"
   ]
  },
  {
   "cell_type": "code",
   "execution_count": 184,
   "id": "e6efabfe-6646-4f81-bcaa-cc7541f7c556",
   "metadata": {
    "tags": []
   },
   "outputs": [
    {
     "data": {
      "text/html": [
       "<table border=\"1\" class=\"dataframe\">\n",
       "  <thead>\n",
       "    <tr style=\"text-align: right;\">\n",
       "      <th></th>\n",
       "      <th>Before</th>\n",
       "      <th>After</th>\n",
       "    </tr>\n",
       "  </thead>\n",
       "  <tbody>\n",
       "    <tr>\n",
       "      <th>0</th>\n",
       "      <td>hari ini sangat    bete banget sama kerjaan  deh         harusnya bisa lebih baik  tapi malah makin ribet</td>\n",
       "      <td>hari ini sangat bete banget sama kerjaan deh harusnya bisa lebih baik tapi malah makin ribet</td>\n",
       "    </tr>\n",
       "    <tr>\n",
       "      <th>1</th>\n",
       "      <td>yuhu  ada yang bisa bantuin tugas nggak    butuh bantuan sekarang  tolong dong  keburu deadline</td>\n",
       "      <td>yuhu ada yang bisa bantuin tugas nggak butuh bantuan sekarang tolong dong keburu deadline</td>\n",
       "    </tr>\n",
       "    <tr>\n",
       "      <th>2</th>\n",
       "      <td>gak nyangka  ternyata si dia   udah punya pacar lain     kenapa nggak bilang dari awal  padahal aku setia banget</td>\n",
       "      <td>gak nyangka ternyata si dia udah punya pacar lain kenapa nggak bilang dari awal padahal aku setia banget</td>\n",
       "    </tr>\n",
       "    <tr>\n",
       "      <th>3</th>\n",
       "      <td>makan siang di kafe baru     enak banget  mau lagi kesana weekend ini  siapa mau ikut</td>\n",
       "      <td>makan siang di kafe baru enak banget mau lagi kesana weekend ini siapa mau ikut</td>\n",
       "    </tr>\n",
       "    <tr>\n",
       "      <th>4</th>\n",
       "      <td>kemarin habis nonton film horror yang serem banget     sampai nggak bisa tidur semalaman  kepikiran terus</td>\n",
       "      <td>kemarin habis nonton film horror yang serem banget sampai nggak bisa tidur semalaman kepikiran terus</td>\n",
       "    </tr>\n",
       "    <tr>\n",
       "      <th>5</th>\n",
       "      <td>baru aja ketemu temen lama di mall  senangnya     banyak cerita yang harus diupdate  kangen banget</td>\n",
       "      <td>baru aja ketemu temen lama di mall senangnya banyak cerita yang harus diupdate kangen banget</td>\n",
       "    </tr>\n",
       "    <tr>\n",
       "      <th>6</th>\n",
       "      <td>gimana sih bisa dapetin tiket konsernya     udah coba berkali kali tapi selalu sold out  ada tips nggak</td>\n",
       "      <td>gimana sih bisa dapetin tiket konsernya udah coba berkali kali tapi selalu sold out ada tips nggak</td>\n",
       "    </tr>\n",
       "    <tr>\n",
       "      <th>7</th>\n",
       "      <td>lagi hujan deras di luar     enaknya tidur siang sambil dengerin musik jazz  siapa suka kayak gini juga</td>\n",
       "      <td>lagi hujan deras di luar enaknya tidur siang sambil dengerin musik jazz siapa suka kayak gini juga</td>\n",
       "    </tr>\n",
       "    <tr>\n",
       "      <th>8</th>\n",
       "      <td>belajar coding ternyata seru juga    awalnya susah tapi kalau udah ngerti  jadi ketagihan mau bikin project</td>\n",
       "      <td>belajar coding ternyata seru juga awalnya susah tapi kalau udah ngerti jadi ketagihan mau bikin project</td>\n",
       "    </tr>\n",
       "    <tr>\n",
       "      <th>9</th>\n",
       "      <td>weekend ini mau staycation di villa     butuh banget refreshing dari rutinitas sehari hari  siapa ikut</td>\n",
       "      <td>weekend ini mau staycation di villa butuh banget refreshing dari rutinitas sehari hari siapa ikut</td>\n",
       "    </tr>\n",
       "  </tbody>\n",
       "</table>"
      ],
      "text/plain": [
       "<IPython.core.display.HTML object>"
      ]
     },
     "metadata": {},
     "output_type": "display_data"
    }
   ],
   "source": [
    "comparison_df = pd.DataFrame({\n",
    "    'Before ': train_data_copy['tweet'],\n",
    "    'After ': train_data['tweet']\n",
    "})\n",
    "\n",
    "\n",
    "pd.options.display.max_colwidth = 150\n",
    "\n",
    "\n",
    "display(HTML(comparison_df.head(10).to_html()))"
   ]
  },
  {
   "cell_type": "code",
   "execution_count": 185,
   "id": "0709f0a7",
   "metadata": {},
   "outputs": [
    {
     "name": "stdout",
     "output_type": "stream",
     "text": [
      "CPU times: total: 0 ns\n",
      "Wall time: 1.01 ms\n"
     ]
    }
   ],
   "source": [
    "%%time\n",
    "train_data_copy[\"tweet\"] = train_data_copy[\"tweet\"].apply(tweet_delete_extra_space)"
   ]
  },
  {
   "cell_type": "markdown",
   "id": "da4c33c1-7e4c-4c69-8989-e3a13e3e508a",
   "metadata": {},
   "source": [
    "## 03. Normalization"
   ]
  },
  {
   "cell_type": "markdown",
   "id": "731a3144",
   "metadata": {},
   "source": [
    "### Import Kamus"
   ]
  },
  {
   "cell_type": "code",
   "execution_count": 186,
   "id": "f40ddf46",
   "metadata": {},
   "outputs": [
    {
     "data": {
      "text/html": [
       "<div>\n",
       "<style scoped>\n",
       "    .dataframe tbody tr th:only-of-type {\n",
       "        vertical-align: middle;\n",
       "    }\n",
       "\n",
       "    .dataframe tbody tr th {\n",
       "        vertical-align: top;\n",
       "    }\n",
       "\n",
       "    .dataframe thead th {\n",
       "        text-align: right;\n",
       "    }\n",
       "</style>\n",
       "<table border=\"1\" class=\"dataframe\">\n",
       "  <thead>\n",
       "    <tr style=\"text-align: right;\">\n",
       "      <th></th>\n",
       "      <th>Unnamed: 0.1</th>\n",
       "      <th>Unnamed: 0</th>\n",
       "      <th>singkatan</th>\n",
       "      <th>kata asal</th>\n",
       "    </tr>\n",
       "  </thead>\n",
       "  <tbody>\n",
       "    <tr>\n",
       "      <th>0</th>\n",
       "      <td>0</td>\n",
       "      <td>NaN</td>\n",
       "      <td>aamiin</td>\n",
       "      <td>amin</td>\n",
       "    </tr>\n",
       "    <tr>\n",
       "      <th>1</th>\n",
       "      <td>1</td>\n",
       "      <td>NaN</td>\n",
       "      <td>adek</td>\n",
       "      <td>adik</td>\n",
       "    </tr>\n",
       "    <tr>\n",
       "      <th>2</th>\n",
       "      <td>2</td>\n",
       "      <td>NaN</td>\n",
       "      <td>adlh</td>\n",
       "      <td>adalah</td>\n",
       "    </tr>\n",
       "    <tr>\n",
       "      <th>3</th>\n",
       "      <td>3</td>\n",
       "      <td>NaN</td>\n",
       "      <td>ad</td>\n",
       "      <td>ada</td>\n",
       "    </tr>\n",
       "    <tr>\n",
       "      <th>4</th>\n",
       "      <td>4</td>\n",
       "      <td>NaN</td>\n",
       "      <td>aer</td>\n",
       "      <td>air</td>\n",
       "    </tr>\n",
       "    <tr>\n",
       "      <th>...</th>\n",
       "      <td>...</td>\n",
       "      <td>...</td>\n",
       "      <td>...</td>\n",
       "      <td>...</td>\n",
       "    </tr>\n",
       "    <tr>\n",
       "      <th>1373</th>\n",
       "      <td>1572</td>\n",
       "      <td>NaN</td>\n",
       "      <td>elu</td>\n",
       "      <td>kamu</td>\n",
       "    </tr>\n",
       "    <tr>\n",
       "      <th>1374</th>\n",
       "      <td>1573</td>\n",
       "      <td>NaN</td>\n",
       "      <td>lo</td>\n",
       "      <td>kamu</td>\n",
       "    </tr>\n",
       "    <tr>\n",
       "      <th>1375</th>\n",
       "      <td>1574</td>\n",
       "      <td>NaN</td>\n",
       "      <td>lu</td>\n",
       "      <td>kamu</td>\n",
       "    </tr>\n",
       "    <tr>\n",
       "      <th>1376</th>\n",
       "      <td>1575</td>\n",
       "      <td>NaN</td>\n",
       "      <td>anjim</td>\n",
       "      <td>anjing</td>\n",
       "    </tr>\n",
       "    <tr>\n",
       "      <th>1377</th>\n",
       "      <td>1576</td>\n",
       "      <td>NaN</td>\n",
       "      <td>ajgg</td>\n",
       "      <td>anjing</td>\n",
       "    </tr>\n",
       "  </tbody>\n",
       "</table>\n",
       "<p>1378 rows × 4 columns</p>\n",
       "</div>"
      ],
      "text/plain": [
       "      Unnamed: 0.1  Unnamed: 0 singkatan kata asal\n",
       "0                0         NaN    aamiin      amin\n",
       "1                1         NaN      adek     adik \n",
       "2                2         NaN      adlh    adalah\n",
       "3                3         NaN        ad      ada \n",
       "4                4         NaN       aer      air \n",
       "...            ...         ...       ...       ...\n",
       "1373          1572         NaN       elu      kamu\n",
       "1374          1573         NaN        lo      kamu\n",
       "1375          1574         NaN        lu      kamu\n",
       "1376          1575         NaN     anjim    anjing\n",
       "1377          1576         NaN      ajgg    anjing\n",
       "\n",
       "[1378 rows x 4 columns]"
      ]
     },
     "execution_count": 186,
     "metadata": {},
     "output_type": "execute_result"
    }
   ],
   "source": [
    "kamus_singkatan = pd.read_csv(\"../Dataset/kamus_singkatan2.csv\",delimiter=\",\")\n",
    "kamus_singkatan"
   ]
  },
  {
   "cell_type": "code",
   "execution_count": 187,
   "id": "e574af48",
   "metadata": {},
   "outputs": [],
   "source": [
    "def create_kamus():\n",
    "      kamus = {}\n",
    "      for i in range(len(kamus_singkatan)):\n",
    "          kamus[kamus_singkatan[\"singkatan\"][i]]=kamus_singkatan[\"kata asal\"][i].lower().strip()\n",
    "      return kamus"
   ]
  },
  {
   "cell_type": "code",
   "execution_count": 188,
   "id": "fb0b89b1",
   "metadata": {},
   "outputs": [
    {
     "data": {
      "text/plain": [
       "{'aamiin': 'amin',\n",
       " 'adek': 'adik',\n",
       " 'adlh': 'adalah',\n",
       " 'ad': 'ada',\n",
       " 'aer': 'air',\n",
       " 'aiskrim': 'es krim',\n",
       " 'aj': 'saja',\n",
       " 'aja': 'saja',\n",
       " 'ajah': 'saja',\n",
       " 'ajalah': 'saja',\n",
       " 'aje': 'saja',\n",
       " 'ajh': 'saja',\n",
       " 'ajj': 'saja',\n",
       " 'aku': 'saya',\n",
       " 'ak': 'saya',\n",
       " 'akoh': 'saya',\n",
       " 'akutu': 'saya',\n",
       " 'aq': 'saya',\n",
       " 'alesan': 'alasan',\n",
       " 'ama': 'sama',\n",
       " 'amaca': 'ah masa',\n",
       " 'amuh': 'kamu',\n",
       " 'ancur': 'hancur',\n",
       " 'ane': 'saya',\n",
       " 'anget': 'hangat',\n",
       " 'anjeng': 'anjing',\n",
       " 'ank': 'anak',\n",
       " 'apah': 'apa',\n",
       " 'aph': 'apa',\n",
       " 'apo': 'apa',\n",
       " 'apose': 'apa',\n",
       " 'apz': 'apa',\n",
       " 'artine': 'artinya',\n",
       " 'asek': 'asik',\n",
       " 'ati2': 'hati-hati',\n",
       " 'atit': 'sakit',\n",
       " 'atu': 'satu',\n",
       " 'atw': 'atau',\n",
       " 'ayang': 'sayang',\n",
       " 'ayuk': 'ayo',\n",
       " 'babang': 'abang',\n",
       " 'bae': 'baik',\n",
       " 'bais': 'habis',\n",
       " 'bakalan': 'akan',\n",
       " 'bales': 'balas',\n",
       " 'bandingin': 'bandingkan',\n",
       " 'banget': 'sekali',\n",
       " 'bangett': 'sangat',\n",
       " 'banyakin': 'perbanyak',\n",
       " 'barengan': 'bersamaan',\n",
       " 'baryaw': 'sabar ya',\n",
       " 'baso': 'bakso',\n",
       " 'bay': 'selamat tinggal',\n",
       " 'bbrp': 'beberapa',\n",
       " 'bc': 'baca',\n",
       " 'bcs': 'bisa',\n",
       " 'bct': 'bicara',\n",
       " 'bdan': 'badan',\n",
       " 'bdg': 'bandung',\n",
       " 'bdn': 'badan',\n",
       " 'becanda': 'bercanda',\n",
       " 'bedua': 'berdua',\n",
       " 'bego': 'bodoh',\n",
       " 'bekel': 'bekal',\n",
       " 'belom': 'belum',\n",
       " 'belon': 'belum',\n",
       " 'bener': 'benar',\n",
       " 'bener2': 'benar-benar',\n",
       " 'beneran': 'benar',\n",
       " 'berantem': 'bertengkar',\n",
       " 'berenti': 'berhenti',\n",
       " 'besoq': 'besok',\n",
       " 'bete': 'sebal',\n",
       " 'beud': 'banget',\n",
       " 'bg': 'bagi',\n",
       " 'bgd': 'sangat',\n",
       " 'bget': 'sangat',\n",
       " 'bgini': 'begini',\n",
       " 'bgitu': 'begitu',\n",
       " 'bgks': 'bungkus',\n",
       " 'bgm': 'bagaimana',\n",
       " 'bgmn': 'bagaimana',\n",
       " 'bgn': 'bangun',\n",
       " 'bgni': 'begini',\n",
       " 'bgntdr': 'bangun tidur',\n",
       " 'bgs': 'bagus',\n",
       " 'bgt': 'sangat',\n",
       " 'bgtu': 'begitu',\n",
       " 'bgus': 'bagus',\n",
       " 'bhay': 'selamat tinggal',\n",
       " 'bhn': 'bahan',\n",
       " 'bhs': 'bahas',\n",
       " 'bhw': 'bahwa',\n",
       " 'bhy': 'bahaya',\n",
       " 'bisaa': 'bisa',\n",
       " 'bisya': 'bisa',\n",
       " 'biza': 'bisa',\n",
       " 'bj': 'baju',\n",
       " 'bju': 'baju',\n",
       " 'bk': 'buku',\n",
       " 'bkan': 'bukan',\n",
       " 'bkin': 'bikin',\n",
       " 'bkl': 'bakal',\n",
       " 'bkn': 'bukan',\n",
       " 'bkr': 'bakar',\n",
       " 'bks': 'bungkus',\n",
       " 'bl': 'beli',\n",
       " 'blajar': 'belajar',\n",
       " 'blg': 'bilang',\n",
       " 'blh': 'boleh',\n",
       " 'bli': 'beli',\n",
       " 'blik': 'balik',\n",
       " 'bljr': 'belajar',\n",
       " 'blk': 'balik',\n",
       " 'blkg': 'belakang',\n",
       " 'blkng': 'belakang',\n",
       " 'blkngny': 'belakangnya',\n",
       " 'blm': 'belum',\n",
       " 'bln': 'bulan',\n",
       " 'blng': 'bilang',\n",
       " 'blngn': 'bilang',\n",
       " 'blom': 'belum',\n",
       " 'bls': 'balas',\n",
       " 'blum': 'belum',\n",
       " 'bndg': 'bandung',\n",
       " 'bndr': 'bandar',\n",
       " 'bner': 'benar',\n",
       " 'bneran': 'benar',\n",
       " 'bnget': 'sangat',\n",
       " 'bngks': 'bungkus',\n",
       " 'bngng': 'bingung',\n",
       " 'bngt': 'sangat',\n",
       " 'bngun': 'bangun',\n",
       " 'bnr': 'benar',\n",
       " 'bnrbnr': 'benar-benar',\n",
       " 'bnrn': 'benar',\n",
       " 'bntar': 'sebentar',\n",
       " 'bntr': 'sebentar',\n",
       " 'bnyak': 'banyak',\n",
       " 'bnyk': 'banyak',\n",
       " 'bnykny': 'banyaknya',\n",
       " 'bobo': 'tidur',\n",
       " 'bobok': 'tidur',\n",
       " 'bokap': 'ayah',\n",
       " 'bole': 'boleh',\n",
       " 'boong': 'bohong',\n",
       " 'bosen': 'bosan',\n",
       " 'bpk': 'bapak',\n",
       " 'brani': 'berani',\n",
       " 'brapa': 'berapa',\n",
       " 'brarti': 'berarti',\n",
       " 'brasa': 'berasa',\n",
       " 'brg': 'barang',\n",
       " 'brgkt': 'berangkat',\n",
       " 'brhsl': 'berhasil',\n",
       " 'brjln': 'berjalan',\n",
       " 'brkfst': 'breakfast',\n",
       " 'brmslh': 'bermasalah',\n",
       " 'brngkt': 'berangkat',\n",
       " 'brp': 'berapa',\n",
       " 'brpa': 'berapa',\n",
       " 'brrti': 'berarti',\n",
       " 'brs': 'beres',\n",
       " 'brshbt': 'bersahabat',\n",
       " 'brsm': 'bersama',\n",
       " 'brthn': 'bertahan',\n",
       " 'brtmn': 'berteman',\n",
       " 'bru': 'baru',\n",
       " 'bs': 'bisa',\n",
       " 'bsa': 'bisa',\n",
       " 'bsk': 'besok',\n",
       " 'bsok': 'besok',\n",
       " 'bsoq': 'besok',\n",
       " 'bsr': 'besar',\n",
       " 'btg': 'batang',\n",
       " 'bth': 'butuh',\n",
       " 'btl': 'betul',\n",
       " 'btul': 'betul',\n",
       " 'buad': 'buat',\n",
       " 'buatin': 'buatkan',\n",
       " 'bucin': 'budak cinta',\n",
       " 'bulcit': 'omong kosong',\n",
       " 'bw': 'bawa',\n",
       " 'bwa': 'bawa',\n",
       " 'bwh': 'bawah',\n",
       " 'bwt': 'buat',\n",
       " 'byk': 'banyak',\n",
       " 'bynk': 'banyak',\n",
       " 'byr': 'bayar',\n",
       " 'cabal': 'sabar',\n",
       " 'cabut': 'pergi',\n",
       " 'caiank': 'sayang',\n",
       " 'cakep': 'cakap',\n",
       " 'cape': 'capai',\n",
       " 'capek': 'capai',\n",
       " 'catet': 'catat',\n",
       " 'cb': 'coba',\n",
       " 'cekola': 'sekolah',\n",
       " 'cekolah': 'sekolah',\n",
       " 'celalaw': 'selalu',\n",
       " 'celalu': 'selalu',\n",
       " 'cemungudh': 'semangat',\n",
       " 'cemungut': 'semangat',\n",
       " 'cemunguth': 'semangat',\n",
       " 'cepet': 'cepat',\n",
       " 'cewe': 'cewek',\n",
       " 'cibuq': 'sibuk',\n",
       " 'cini': 'sini',\n",
       " 'ciyus': 'serius',\n",
       " 'ckp': 'cukup',\n",
       " 'ckrg': 'sekarang',\n",
       " 'ckup': 'cukup',\n",
       " 'cll': 'selalu',\n",
       " 'cllu': 'selalu',\n",
       " 'cllw': 'selalu',\n",
       " 'cm': 'cuma',\n",
       " 'cma': 'cuma',\n",
       " 'cman': 'hanya',\n",
       " 'cmn': 'hanya',\n",
       " 'cmpk': 'cempaka',\n",
       " 'cobaa': 'coba',\n",
       " 'coeg': 'jancuk',\n",
       " 'cowo': 'cowok',\n",
       " 'cpat': 'cepat',\n",
       " 'cpe': 'capek',\n",
       " 'cpee': 'capek',\n",
       " 'cpet': 'cepat',\n",
       " 'cpt': 'cepat',\n",
       " 'cptn': 'cepatan',\n",
       " 'crt': 'cerita',\n",
       " 'cth': 'contoh',\n",
       " 'cug': 'jancuk',\n",
       " 'cuk': 'jancuk',\n",
       " 'cuman': 'hanya',\n",
       " 'cungguh': 'sungguh',\n",
       " 'cw': 'cewek',\n",
       " 'cwe': 'cewek',\n",
       " 'cwo': 'cowok',\n",
       " 'cyang': 'sayang',\n",
       " 'dah': 'sudah',\n",
       " 'dalem': 'dalam',\n",
       " 'dapa': 'ada apa',\n",
       " 'dapah': 'ada apa',\n",
       " 'dapet': 'dapat',\n",
       " 'dapetin': 'mendapatkan',\n",
       " 'dateng': 'datang',\n",
       " 'dberkahi': 'diberkahi',\n",
       " 'dblg': 'dibilang',\n",
       " 'dblkng': 'dibelakang',\n",
       " 'dbls': 'dibalas',\n",
       " 'dbwt': 'dibuat',\n",
       " 'dbyr': 'dibayar',\n",
       " 'de': 'deh',\n",
       " 'demen': 'suka',\n",
       " 'denger': 'dengar',\n",
       " 'deres': 'deras',\n",
       " 'dftr': 'daftar',\n",
       " 'dg': 'dengan',\n",
       " 'dgn': 'dengan',\n",
       " 'dgr': 'dengar',\n",
       " 'dgrn': 'dengarin',\n",
       " 'dh': 'deh',\n",
       " 'didenger': 'didengar',\n",
       " 'didengerin': 'didengarkan',\n",
       " 'diem': 'diam',\n",
       " 'dijadiin': 'dijadikan',\n",
       " 'dikit': 'sedikit',\n",
       " 'dimance': 'dimana',\n",
       " 'dimandose': 'dimana',\n",
       " 'dimans': 'dimana',\n",
       " 'dipake': 'dipakai',\n",
       " 'dipendem': 'dipendam',\n",
       " 'dirmh': 'di rumah',\n",
       " 'ditemenin': 'ditemani',\n",
       " 'djkt': 'di jakarta',\n",
       " 'djl': 'di jalan',\n",
       " 'djln': 'di jalan',\n",
       " 'dkat': 'dekat',\n",
       " 'dket': 'dekat',\n",
       " 'dkls': 'di kelas',\n",
       " 'dkmps': 'di kampus',\n",
       " 'dkmr': 'di kamar',\n",
       " 'dkntr': 'di kantor',\n",
       " 'dksh': 'dikasih',\n",
       " 'dkt': 'dekat',\n",
       " 'dl': 'dulu',\n",
       " 'dll': 'dan lain',\n",
       " 'dlm': 'dalam',\n",
       " 'dlrng': 'dilarang',\n",
       " 'dlu': 'dulu',\n",
       " 'dluan': 'duluan',\n",
       " 'dmana': 'dimana',\n",
       " 'dmkn': 'dimakan',\n",
       " 'dmn': 'dimana',\n",
       " 'dmna': 'dimana',\n",
       " 'dmnmn': 'dimana-mana',\n",
       " 'dmny': 'dimananya',\n",
       " 'dng': 'dengan',\n",
       " 'dngar': 'dengar',\n",
       " 'dnger': 'dengar',\n",
       " 'dngerin': 'dengar',\n",
       " 'dngn': 'dengan',\n",
       " 'dngr': 'dengar',\n",
       " 'doang': 'saja',\n",
       " 'doank': 'saja',\n",
       " 'donlot': 'download',\n",
       " 'doyan': 'suka',\n",
       " 'dpan': 'depan',\n",
       " 'dpet': 'dapat',\n",
       " 'dpk': 'depok',\n",
       " 'dpkrkn': 'dipikirkan',\n",
       " 'dpn': 'depan',\n",
       " 'dpnrmh': 'depan rumah',\n",
       " 'dpt': 'dapat',\n",
       " 'dr': 'dari',\n",
       " 'drg': 'dokter gigi',\n",
       " 'drh': 'darah',\n",
       " 'dri': 'dari',\n",
       " 'drmh': 'di rumah',\n",
       " 'drmn': 'darimana',\n",
       " 'drpd': 'daripada',\n",
       " 'drtd': 'dari tadi',\n",
       " 'drumah': 'di rumah',\n",
       " 'dsb': 'dan sebagainya',\n",
       " 'dsblh': 'di sebelah',\n",
       " 'dsini': 'disini',\n",
       " 'dsklh': 'di sekolah',\n",
       " 'dsni': 'di sini',\n",
       " 'dst': 'dan seterusnya',\n",
       " 'dtg': 'datang',\n",
       " 'dtgny': 'datangnya',\n",
       " 'dtmbh': 'ditambah',\n",
       " 'dtmpt': 'di tempat',\n",
       " 'dtng': 'datang',\n",
       " 'duluw': 'dulu',\n",
       " 'dy': 'dia',\n",
       " 'ea': 'ya',\n",
       " 'eeq': 'feses',\n",
       " 'elo': 'kamu',\n",
       " 'emang': 'memang',\n",
       " 'emangnya': 'memangnya',\n",
       " 'emank': 'memang',\n",
       " 'emg': 'memang',\n",
       " 'emng': 'memang',\n",
       " 'engga': 'tidak',\n",
       " 'enggak': 'tidak',\n",
       " 'enk': 'enak',\n",
       " 'entar': 'nanti',\n",
       " 'ente': 'anda',\n",
       " 'eps': 'episode',\n",
       " 'eteb': 'bosan',\n",
       " 'eug': 'saya',\n",
       " 'faham': 'paham',\n",
       " 'fb': 'facebook',\n",
       " 'fav': 'favorit',\n",
       " 'fave': 'favorit',\n",
       " 'g': 'tidak',\n",
       " 'ga': 'tidak',\n",
       " 'gaada': 'tidak ada',\n",
       " 'gabisa': 'tidak bisa',\n",
       " 'gaboleh': 'tidak boleh',\n",
       " 'gabut': 'menganggur',\n",
       " 'gada': 'tidak ada',\n",
       " 'gaenak': 'tidak enak',\n",
       " 'gajadi': 'tidak jadi',\n",
       " 'gajelas': 'tidak jelas',\n",
       " 'gak': 'tidak',\n",
       " 'gakuat': 'tidak kuat',\n",
       " 'gakz': 'tidak',\n",
       " 'galo': 'galau',\n",
       " 'gamasuk': 'tidak masuk',\n",
       " 'gamau': 'tidak mau',\n",
       " 'gapake': 'tidak pakai',\n",
       " 'gapapa': 'tidak apa-apa',\n",
       " 'gapernah': 'tidak pernah',\n",
       " 'gapunya': 'tidak punya',\n",
       " 'garem': 'garam',\n",
       " 'gasuka': 'tidak suka',\n",
       " 'gatau': 'tidak tahu',\n",
       " 'gataw': 'tidak tahu',\n",
       " 'gatel': 'gatal',\n",
       " 'gausah': 'tidak usah',\n",
       " 'gawe': 'kerja',\n",
       " 'gblk': 'goblok',\n",
       " 'gbr': 'gambar',\n",
       " 'gdg': 'gudang',\n",
       " 'gembel': 'jelek',\n",
       " 'gengges': 'ganggu',\n",
       " 'ghiy': 'lagi',\n",
       " 'gi': 'lagi',\n",
       " 'gilak': 'gila',\n",
       " 'gile': 'gila',\n",
       " 'gitu': 'begitu',\n",
       " 'gituan': 'begitu',\n",
       " 'gituh': 'begitu',\n",
       " 'gituin': 'itu',\n",
       " 'gk': 'tidak',\n",
       " 'gmana': 'bagaimana',\n",
       " 'gmbr': 'gambar',\n",
       " 'gmn': 'bagaimana',\n",
       " 'gmna': 'bagaimana',\n",
       " 'gmpg': 'gampang',\n",
       " 'gmpng': 'gampang',\n",
       " 'gni': 'begini',\n",
       " 'gnti': 'ganti',\n",
       " 'gpny': 'tidak punya',\n",
       " 'gpp': 'tidak apa-apa',\n",
       " 'gprnh': 'tidak pernah',\n",
       " 'gr2': 'gara-gara',\n",
       " 'gratisan': 'gratis',\n",
       " 'gt': 'begitu',\n",
       " 'gtu': 'begitu',\n",
       " 'gtw': 'tidak tahu',\n",
       " 'gua': 'saya',\n",
       " 'gue': 'saya',\n",
       " 'gw': 'saya',\n",
       " 'gws': 'get well soon',\n",
       " 'gx': 'tidak',\n",
       " 'hadeh': 'aduh',\n",
       " 'hapal': 'hafal',\n",
       " 'haqq': 'hakiki',\n",
       " 'hargain': 'hargai',\n",
       " 'harini': 'hari ini',\n",
       " 'hbd': 'happy birthday',\n",
       " 'hbis': 'habis',\n",
       " 'hbng': 'hubungi',\n",
       " 'hbs': 'habis',\n",
       " 'hbskn': 'habiskan',\n",
       " 'helo': 'halo',\n",
       " 'heters': 'pembenci',\n",
       " 'hlg': 'hilang',\n",
       " 'hlm': 'halaman',\n",
       " 'hlmn': 'halaman',\n",
       " 'hny': 'hanya',\n",
       " 'hnya': 'hanya',\n",
       " 'hqq': 'hakiki',\n",
       " 'hr': 'hari',\n",
       " 'hrg': 'harga',\n",
       " 'hrgny': 'harganya',\n",
       " 'hri': 'hari',\n",
       " 'hrs': 'harus',\n",
       " 'hrsny': 'harusnya',\n",
       " 'hrus': 'harus',\n",
       " 'hti': 'hati',\n",
       " 'hums': 'rumah',\n",
       " 'humz': 'rumah',\n",
       " 'huum': 'iya',\n",
       " 'idiiot': 'idiot',\n",
       " 'idup': 'hidup',\n",
       " 'ily': 'saya cinta kamu',\n",
       " 'inget': 'ingat',\n",
       " 'ingetin': 'ingatkan',\n",
       " 'ingt': 'ingat',\n",
       " 'istrht': 'istirahat',\n",
       " 'item': 'hitam',\n",
       " 'itumah': 'itu',\n",
       " 'ituu': 'itu',\n",
       " 'iy': 'iya',\n",
       " 'iyach': 'iya',\n",
       " 'iyain': 'mengiyakan',\n",
       " 'iyap': 'iya',\n",
       " 'iyapz': 'iya',\n",
       " 'iyoo': 'iya',\n",
       " 'iyup': 'iya',\n",
       " 'iyupz': 'iya',\n",
       " 'jadiin': 'jadi',\n",
       " 'jadull': 'jadul',\n",
       " 'jamber': 'jam berapa',\n",
       " 'jancoeg': 'jancuk',\n",
       " 'jatoh': 'jatuh',\n",
       " 'jawabanya': 'jawabannya',\n",
       " 'jd': 'jadi',\n",
       " 'jdi': 'jadi',\n",
       " 'jdny': 'jadinya',\n",
       " 'jdnya': 'jadinya',\n",
       " 'jdwl': 'jadwal',\n",
       " 'jem': 'jam',\n",
       " 'jg': 'juga',\n",
       " 'jga': 'juga',\n",
       " 'jgan': 'jangan',\n",
       " 'jglh': 'jagalah',\n",
       " 'jgn': 'jangan',\n",
       " 'jgnjgn': 'jangan-jangan',\n",
       " 'jing': 'anjing',\n",
       " 'jink': 'anjing',\n",
       " 'jk': 'jika',\n",
       " 'jkrt': 'jakarta',\n",
       " 'jkt': 'jakarta',\n",
       " 'jl': 'jalan',\n",
       " 'jln': 'jalan',\n",
       " 'jm': 'jam',\n",
       " 'jmbtn': 'jembatan',\n",
       " 'jml': 'jumlah',\n",
       " 'jmlh': 'jumlah',\n",
       " 'jmpt': 'jemput',\n",
       " 'jmt': 'jumat',\n",
       " 'jng': 'jangan',\n",
       " 'jngan': 'jangan',\n",
       " 'jngn': 'jangan',\n",
       " 'jpn': 'jepang',\n",
       " 'jrg': 'jarang',\n",
       " 'jrng': 'jarang',\n",
       " 'jwb': 'jawab',\n",
       " 'jwbn': 'jawaban',\n",
       " 'jwbny': 'jawabannya',\n",
       " 'kacian': 'kasihan',\n",
       " 'kagak': 'tidak',\n",
       " 'kaka': 'kakak',\n",
       " 'kalee': 'kali',\n",
       " 'kaleyan': 'kalian',\n",
       " 'kalo': 'kalau',\n",
       " 'kalu': 'kalau',\n",
       " 'kamsud': 'maksud',\n",
       " 'kaos/mug/jaket': '',\n",
       " 'karna': 'karena',\n",
       " 'karoke': 'karaoke',\n",
       " 'kasian': 'kasihan',\n",
       " 'kau': 'kamu',\n",
       " 'kayak': 'mirip',\n",
       " 'kayanya': 'kayaknya',\n",
       " 'kbnykn': 'kebanyakan',\n",
       " 'kbr': 'kabar',\n",
       " 'kbtln': 'kebetulan',\n",
       " 'kbykn': 'kebanyakan',\n",
       " 'kdg': 'kadang',\n",
       " 'kdng': 'kadang',\n",
       " 'kdpn': 'ke depan',\n",
       " 'kebawa': 'terbawa',\n",
       " 'kecakepan': 'kecakapan',\n",
       " 'keknya': 'sepertinya',\n",
       " 'kelaperan': 'kelaparan',\n",
       " 'kelar': 'selesai',\n",
       " 'keles': 'kali',\n",
       " 'keliatan': 'kelihatan',\n",
       " 'kemaren': 'kemarin',\n",
       " 'kenapah': 'kenapa',\n",
       " 'kenape': 'kenapa',\n",
       " 'kenaps': 'kenapa',\n",
       " 'kenapz': 'kenapa',\n",
       " 'kenceng': 'kencang',\n",
       " 'kepengen': 'ingin',\n",
       " 'kepngn': 'ingin',\n",
       " 'kepo': 'ingin tahu',\n",
       " 'kerikil': 'kerikil',\n",
       " 'kesampean': 'kesampaian',\n",
       " 'kesel': 'kesal',\n",
       " 'kesian': 'kasihan',\n",
       " 'ketawa': 'tertawa',\n",
       " 'keujanan': 'kehujanan',\n",
       " 'keyen': 'keren',\n",
       " 'kga': 'tidak',\n",
       " 'kgak': 'tidak',\n",
       " 'kgk': 'tidak',\n",
       " 'khabar': 'kabar',\n",
       " 'khan': 'kan',\n",
       " 'khanz': 'kan',\n",
       " 'khsny': 'khususnya',\n",
       " 'khwtr': 'khawatir',\n",
       " 'kirimin': 'kirimkan',\n",
       " 'kite': 'kita',\n",
       " 'kk': 'kakak',\n",
       " 'kl': 'kalau',\n",
       " 'klau': 'kalau',\n",
       " 'klh': 'kalah',\n",
       " 'kli': 'kali',\n",
       " 'klmpk': 'kelompok',\n",
       " 'klo': 'kalau',\n",
       " 'klp': 'kelompok',\n",
       " 'kls': 'kelas',\n",
       " 'klu': 'kalau',\n",
       " 'kluar': 'keluar',\n",
       " 'klw': 'kalau',\n",
       " 'km': 'kamu',\n",
       " 'kmaren': 'kemarin',\n",
       " 'kmi': 'kami',\n",
       " 'kmn': 'kemana',\n",
       " 'kmna': 'kemana',\n",
       " 'kmpret': 'kampret',\n",
       " 'kmps': 'kamus',\n",
       " 'kmr': 'kamar',\n",
       " 'kmren': 'kemarin',\n",
       " 'kmrin': 'kemarin',\n",
       " 'kmrn': 'kemarin',\n",
       " 'kmu': 'kamu',\n",
       " 'kn': 'kan',\n",
       " 'kna': 'kena',\n",
       " 'knapa': 'kenapa',\n",
       " 'kngen': 'kangen',\n",
       " 'knl': 'kenal',\n",
       " 'knp': 'kenapa',\n",
       " 'knpa': 'kenapa',\n",
       " 'kntr': 'kantor',\n",
       " 'knyng': 'kenyang',\n",
       " 'konsen': 'konsentrasi',\n",
       " 'koq': 'kok',\n",
       " 'kosan': 'kost',\n",
       " 'kowe': 'kamu',\n",
       " 'kpala': 'kepala',\n",
       " 'kpan': 'kapan',\n",
       " 'kpd': 'kepada',\n",
       " 'kpgn': 'ingin',\n",
       " 'kpn': 'kapan',\n",
       " 'kpngn': 'ingin',\n",
       " 'krg': 'kurang',\n",
       " 'krikil': 'kerikil',\n",
       " 'krja': 'kerja',\n",
       " 'krmh': 'ke rumah',\n",
       " 'krn': 'karena',\n",
       " 'krna': 'karena',\n",
       " 'krng': 'kurang',\n",
       " 'krupuk': 'kerupuk',\n",
       " 'ksh': 'kasih',\n",
       " 'ksian': 'kasihan',\n",
       " 'ksih': 'kasih',\n",
       " 'ksmptn': 'kesempatan',\n",
       " 'ksn': 'kesana',\n",
       " 'kt': 'kita',\n",
       " 'kta': 'kita',\n",
       " 'ktdrn': 'ketiduran',\n",
       " 'ktemu': 'ketemu',\n",
       " 'ktmpt': 'ke tempat',\n",
       " 'ktmu': 'ketemu',\n",
       " 'ktny': 'katanya',\n",
       " 'ktnya': 'katanya',\n",
       " 'ktr': 'kantor',\n",
       " 'kuq': 'kok',\n",
       " 'kuy': 'ayo',\n",
       " 'kw': 'kamu',\n",
       " 'kyak': 'seperti',\n",
       " 'kyaknya': 'sepertinya',\n",
       " 'kyanya': 'sepertinya',\n",
       " 'kyk': 'seperti',\n",
       " 'kykny': 'sepertinya',\n",
       " 'kyknya': 'sepertinya',\n",
       " 'kyny': 'sepertinya',\n",
       " 'kzl': 'kesal',\n",
       " 'laen': 'lain',\n",
       " 'laff': 'cinta',\n",
       " 'lagian': 'lagi',\n",
       " 'lam': 'salam',\n",
       " 'laper': 'lapar',\n",
       " 'lb': 'lembar',\n",
       " 'lbh': 'lebih',\n",
       " 'lbih': 'lebih',\n",
       " 'leh': 'boleh',\n",
       " 'lelaahh': 'lelah',\n",
       " 'lemes': 'lemas',\n",
       " 'lg': 'lagi',\n",
       " 'lgi': 'lagi',\n",
       " 'lgkp': 'lengkap',\n",
       " 'lgs': 'langsung',\n",
       " 'lgsg': 'langsung',\n",
       " 'lgsng': 'langsung',\n",
       " 'lgsung': 'langsung',\n",
       " 'liatin': 'lihat',\n",
       " 'lm': 'lama',\n",
       " 'lmyn': 'lumayan',\n",
       " 'lngkp': 'lengkap',\n",
       " 'lngsg': 'langsung',\n",
       " 'lngsng': 'langsung',\n",
       " 'lngsung': 'langsung',\n",
       " 'lnjt': 'lanjut',\n",
       " 'lnsg': 'langsung',\n",
       " 'lnsng': 'langsung',\n",
       " 'lo': 'kamu',\n",
       " 'loe': 'kamu',\n",
       " 'lom': 'belum',\n",
       " 'lov': 'cinta',\n",
       " 'love': 'cinta',\n",
       " 'low': 'kalau',\n",
       " 'lp': 'lupa',\n",
       " 'lpngn': 'lapangan',\n",
       " 'lpr': 'lapar',\n",
       " 'lsg': 'langsung',\n",
       " 'lu': 'kamu',\n",
       " 'luchu': 'lucu',\n",
       " 'lum': 'belum',\n",
       " 'lun': 'belum',\n",
       " 'luthu': 'lucu',\n",
       " 'luv': 'cinta',\n",
       " 'lvl': 'level',\n",
       " 'lw': 'kamu',\n",
       " 'lwt': 'lewat',\n",
       " 'maaci': 'terima kasih',\n",
       " 'maacih': 'terima kasih',\n",
       " 'maap': 'maaf',\n",
       " 'maen': 'main',\n",
       " 'mager': 'malas bergerak',\n",
       " 'makaci': 'terima kasih',\n",
       " 'makana': 'karena itu',\n",
       " 'makasi': 'terima kasih',\n",
       " 'makasihhh': 'terima kasih',\n",
       " 'make': 'pakai',\n",
       " 'makn': 'makan',\n",
       " 'malem': 'malam',\n",
       " 'malem2': 'malam-malam',\n",
       " 'malming': 'malam minggu',\n",
       " 'mamah': 'mama',\n",
       " 'mamam': 'makan',\n",
       " 'mampet': 'mampat',\n",
       " 'mane': 'mana',\n",
       " 'maneh': 'mana',\n",
       " 'manggil': 'panggil',\n",
       " 'mano': 'mana',\n",
       " 'mantep': 'mantap',\n",
       " 'masakin': 'masakan',\n",
       " 'mateng': 'matang',\n",
       " 'maw': 'mau',\n",
       " 'mcm': 'macam',\n",
       " 'mct': 'macet',\n",
       " 'mdg': 'lebih baik',\n",
       " 'mdgn': 'baikan',\n",
       " 'mdh': 'mudah',\n",
       " 'mdpt': 'mendapat',\n",
       " 'melulu': 'selalu',\n",
       " 'mendingan': 'lebih baik',\n",
       " 'menyempurnakan': '',\n",
       " 'merhatiin': 'memperhatikan',\n",
       " 'mesen': 'pesan',\n",
       " 'mgkn': 'mungkin',\n",
       " 'mhs': 'mahasiswa',\n",
       " 'mhsw': 'mahasiswa',\n",
       " 'miapa': 'demi apa',\n",
       " 'miapah': 'demi apa',\n",
       " 'mikirin': 'memikirkan',\n",
       " 'milih': 'pilih',\n",
       " 'minjem': 'pinjam',\n",
       " \"misal'a\": 'misalnya',\n",
       " 'mk': 'maka',\n",
       " 'mka': 'maka',\n",
       " 'mkan': 'makan',\n",
       " 'mkanan': 'makanan',\n",
       " 'mkanya': 'makanya',\n",
       " 'mkn': 'makan',\n",
       " 'mknan': 'makanan',\n",
       " 'mkny': 'maka itu',\n",
       " 'mksd': 'maksud',\n",
       " 'mksdny': 'maksudnya',\n",
       " 'mksdnya': 'maksudnya',\n",
       " 'mksdq': 'maksudku',\n",
       " 'mksh': 'terima kasih',\n",
       " 'mksih': 'terima kasih',\n",
       " 'mlah': 'malah',\n",
       " 'mlm': 'malam',\n",
       " 'mls': 'malas',\n",
       " 'mmg': 'memang',\n",
       " 'mn': 'mana',\n",
       " 'mna': 'mana',\n",
       " 'mndg': 'lebih baik',\n",
       " 'mndgn': 'lebih baik',\n",
       " 'mndgr': 'mendengar',\n",
       " 'mndi': 'mandi',\n",
       " 'mnding': 'lebih baik',\n",
       " 'mndptkn': 'mendapatkan',\n",
       " 'mng': 'menang',\n",
       " 'mnrt': 'menurut',\n",
       " 'mnsempurnakan': '',\n",
       " 'mnt': 'minta',\n",
       " 'mnta': 'minta',\n",
       " 'mntp': 'mantap',\n",
       " 'mnum': 'minum',\n",
       " 'mnyakitiku': 'menyakitiku',\n",
       " 'mnyngkn': 'menyenangkan',\n",
       " 'mo': 'mau',\n",
       " 'moga': 'semoga',\n",
       " 'mosok': 'masa',\n",
       " 'mreka': 'mereka',\n",
       " 'mrh': 'marah',\n",
       " 'mrk': 'mereka',\n",
       " 'ms': 'mas',\n",
       " 'msg': 'masing',\n",
       " 'msh': 'masih',\n",
       " 'msih': 'masih',\n",
       " 'msk': 'masuk',\n",
       " 'mski': 'meski',\n",
       " 'mskipun': 'meskipun',\n",
       " 'mskn': 'masakan',\n",
       " 'msl': 'misal',\n",
       " 'mslh': 'masalah',\n",
       " 'msti': 'harus',\n",
       " 'muke': 'muka',\n",
       " 'mulu': 'terus',\n",
       " 'musti': 'harus',\n",
       " 'muup': 'maaf',\n",
       " \"mu'uv\": 'maaf',\n",
       " 'mw': 'mau',\n",
       " 'mz': 'mas',\n",
       " 'nabung': 'tabung',\n",
       " 'naek': 'naik',\n",
       " 'nahan': 'tahan',\n",
       " 'nak': 'anak',\n",
       " 'nambah': 'tambah',\n",
       " 'nanya': 'tanya',\n",
       " 'napa': 'kenapa',\n",
       " 'napas': 'nafas',\n",
       " 'nape': 'kenapa',\n",
       " 'naq': 'anak',\n",
       " 'nasgor': 'nasi goreng',\n",
       " 'nax': 'anak',\n",
       " 'nda': 'tidak',\n",
       " 'ndak': 'tidak',\n",
       " 'ndax': 'tidak',\n",
       " 'ndk': 'tidak',\n",
       " 'negri': 'negeri',\n",
       " 'nelen': 'telan',\n",
       " 'nemenin': 'menemani',\n",
       " 'nemu': 'temu',\n",
       " 'nengok': 'tengok',\n",
       " 'ngabungin': 'menggabungkan',\n",
       " 'ngadain': 'mengadakan',\n",
       " 'ngajak': 'mengajak',\n",
       " 'ngajar': 'ajar',\n",
       " 'ngak': 'tidak',\n",
       " 'ngakak': 'terbahak-bahak',\n",
       " 'ngambek': 'marah',\n",
       " 'ngambil': 'ambil',\n",
       " 'nganter': 'antar',\n",
       " 'nganterin': 'antar',\n",
       " 'ngarep': 'mengharap',\n",
       " 'ngarepinnya': 'mengharapkannya',\n",
       " 'ngasi': 'kasih',\n",
       " 'ngasih': 'kasih',\n",
       " 'ngegosip': 'gosip',\n",
       " 'ngehadepin': 'menghadapi',\n",
       " 'ngeliatin': 'melihat',\n",
       " 'ngeluh': 'keluh',\n",
       " 'ngerasa': 'merasa',\n",
       " 'ngerasain': 'merasakan',\n",
       " 'ngerjain': 'mengerjakan',\n",
       " 'ngerokok': 'merokok',\n",
       " 'ngetik': 'ketik',\n",
       " 'ngga': 'tidak',\n",
       " 'nggak': 'tidak',\n",
       " 'nggax': 'tidak',\n",
       " 'nggesek': 'menggesek',\n",
       " 'nggk': 'tidak',\n",
       " 'nggosok': 'menggosok',\n",
       " 'ngibul': 'berbohong',\n",
       " 'ngidam': 'idam',\n",
       " 'ngikutin': 'ikuti',\n",
       " 'ngilangin': 'menghilangkan',\n",
       " 'nginep': 'menginap',\n",
       " 'ngingetin': 'mengingatkan',\n",
       " 'ngjk': 'mengajak',\n",
       " 'ngk': 'tidak',\n",
       " 'ngmbl': 'mengambil',\n",
       " 'ngmg': 'omong',\n",
       " 'ngmng': 'berbicara',\n",
       " 'ngmpl': 'berkumpul',\n",
       " 'ngmps': 'ke kampus',\n",
       " 'ngntk': 'mengantuk',\n",
       " 'ngntr': 'ke kantor',\n",
       " 'ngobatin': 'obati',\n",
       " 'ngobrol': 'bicara',\n",
       " 'ngomong': 'bicara',\n",
       " 'ngomongin': 'membicarakan',\n",
       " 'ngrasain': 'merasakan',\n",
       " 'ngundurin': 'mengundurkan',\n",
       " 'ngunyah': 'kunyah',\n",
       " 'ngurus': 'urus',\n",
       " 'ni': 'ini',\n",
       " 'nich': 'ini',\n",
       " 'ninggalin': 'tinggalkan',\n",
       " 'nmbh': 'tambah',\n",
       " 'nmny': 'namanya',\n",
       " 'nmpk': 'nampak',\n",
       " 'nmr': 'nomor',\n",
       " 'nnti': 'nanti',\n",
       " 'nntn': 'nonton',\n",
       " 'nnton': 'nonton',\n",
       " 'nolak': 'tolak',\n",
       " 'nraktir': 'traktir',\n",
       " 'ntah': 'entah',\n",
       " 'ntap': 'mantap',\n",
       " 'ntar': 'nanti',\n",
       " 'nti': 'nanti',\n",
       " 'ntn': 'nonton',\n",
       " 'nton': 'nonton',\n",
       " 'ntr': 'nanti',\n",
       " 'ntu': 'itu',\n",
       " 'nungguin': 'tunggu',\n",
       " 'nyakiti': 'menyakiti',\n",
       " 'nyakitin': 'menyakiti',\n",
       " 'nyalain': 'nyalakan',\n",
       " 'nyampe': 'sampai',\n",
       " 'nyangka': 'sangka',\n",
       " 'nyantai': 'santai',\n",
       " 'nyari': 'cari',\n",
       " 'nyebelin': 'menyebalkan',\n",
       " 'nyeremin': 'menyeramkan',\n",
       " 'nyesek': 'sesak',\n",
       " 'nyesel': 'menyesal',\n",
       " 'nyetel': 'setel',\n",
       " 'nyiksa': 'menyiksa',\n",
       " 'nyoba': 'coba',\n",
       " 'nyobain': 'coba',\n",
       " 'nyuci': 'cuci',\n",
       " 'nyukur': 'cukur',\n",
       " 'nyuruh': 'suruh',\n",
       " 'nyusul': 'susul',\n",
       " 'oc': 'oke',\n",
       " 'oce': 'oke',\n",
       " 'ohh': 'oh',\n",
       " 'ok': 'oke',\n",
       " 'okedech': 'oke',\n",
       " 'okedeh': 'oke',\n",
       " 'okeh': 'baik',\n",
       " 'okz': 'oke',\n",
       " 'ol': 'online',\n",
       " 'org': 'orang',\n",
       " 'org2': 'orang-orang',\n",
       " 'orng': 'orang',\n",
       " 'ortu': 'orangtua',\n",
       " 'ouch': 'oh',\n",
       " 'ouh': 'oh',\n",
       " 'owh': 'oh',\n",
       " 'pait': 'pahit',\n",
       " 'pake': 'pakai',\n",
       " 'pakek': 'pakai',\n",
       " 'pantesan': 'pantas',\n",
       " 'pasutri': 'pasangan suami istri',\n",
       " 'paz': 'pas',\n",
       " 'pcr': 'pacar',\n",
       " 'pcrn': 'pacaran',\n",
       " 'pcrny': 'pacarnya',\n",
       " 'pd': 'pada',\n",
       " 'pdahal': 'padahal',\n",
       " 'pdhal': 'padahal',\n",
       " 'pdhl': 'padahal',\n",
       " 'pedes': 'pedas',\n",
       " 'pegi': 'pergi',\n",
       " 'pengen': 'ingin',\n",
       " 'penghianat': 'pengkhianat',\n",
       " 'pengin': 'ingin',\n",
       " 'pesen': 'pesan',\n",
       " 'pg': 'pergi',\n",
       " 'pgen': 'ingin',\n",
       " 'pgn': 'ingin',\n",
       " 'pilem': 'film',\n",
       " 'pingin': 'ingin',\n",
       " 'pinjem': 'pinjam',\n",
       " 'pinter': 'pintar',\n",
       " 'pkai': 'pakai',\n",
       " 'pke': 'pakai',\n",
       " 'plg': 'pulang',\n",
       " 'plis': 'tolong',\n",
       " 'pljrn': 'pelajaran',\n",
       " 'plng': 'pulang',\n",
       " 'pmpuan': 'perempuan',\n",
       " 'pndh': 'pindah',\n",
       " 'pngen': 'ingin',\n",
       " 'pngn': 'ingin',\n",
       " 'pnjng': 'panjang',\n",
       " 'pnting': 'penting',\n",
       " 'pntng': 'penting',\n",
       " 'pny': 'punya',\n",
       " 'pnya': 'punya',\n",
       " 'pokonya': 'pokoknya',\n",
       " 'praktek': 'praktik',\n",
       " 'prasaan': 'perasaan',\n",
       " 'prgi': 'pergi',\n",
       " 'prmhn': 'perumahan',\n",
       " 'prmptn': 'perempatan',\n",
       " 'prnah': 'pernah',\n",
       " 'prnh': 'pernah',\n",
       " 'prthnkn': 'pertahankan',\n",
       " 'psg': 'pasang',\n",
       " 'psng': 'pasang',\n",
       " 'psr': 'pasar',\n",
       " 'psti': 'pasti',\n",
       " 'ptg': 'penting',\n",
       " 'punye': 'punya',\n",
       " 'puter': 'putar',\n",
       " 'puterin': 'putar',\n",
       " 'pzt': 'pasti',\n",
       " 'q': 'saya',\n",
       " 'qaqa': 'kakak',\n",
       " 'qq': 'kakak',\n",
       " 'qt': 'kita',\n",
       " 'qta': 'kita',\n",
       " 'rada': 'agak',\n",
       " 'rame': 'ramai',\n",
       " 'rame2': 'ramai-ramai',\n",
       " 'rasane': 'rasanya',\n",
       " 'rb': 'ribu',\n",
       " 'rmbt': 'rambut',\n",
       " 'rmh': 'rumah',\n",
       " 'rmhq': 'rumahku',\n",
       " 'rsk': 'rusak',\n",
       " 'sabeb': 'bebas',\n",
       " 'sabi': 'bisa',\n",
       " 'saje': 'saja',\n",
       " 'salfok': 'salah fokus',\n",
       " 'saltum': 'salah kostum',\n",
       " 'sambel': 'sambal',\n",
       " 'samo': 'sama',\n",
       " 'sampe': 'sampai',\n",
       " 'sans': 'santai',\n",
       " 'sape': 'siapa',\n",
       " 'sateny': 'satenya',\n",
       " ...}"
      ]
     },
     "execution_count": 188,
     "metadata": {},
     "output_type": "execute_result"
    }
   ],
   "source": [
    "kamus = create_kamus()\n",
    "kamus"
   ]
  },
  {
   "cell_type": "code",
   "execution_count": 189,
   "id": "512f8dd4-f82e-4b92-876c-458ee44a00e8",
   "metadata": {
    "tags": []
   },
   "outputs": [],
   "source": [
    "def tweet_replace_contractions(tweet):\n",
    "    pattern = re.compile(r'\\b(' + '|'.join(re.escape(contraction) for contraction in kamus.keys()) + r')\\b')\n",
    "    tweet = pattern.sub(lambda x: kamus[x.group()], tweet)\n",
    "    return tweet"
   ]
  },
  {
   "cell_type": "code",
   "execution_count": 190,
   "id": "55e41df3-9723-43c1-97cf-61e28245e060",
   "metadata": {
    "tags": []
   },
   "outputs": [
    {
     "name": "stdout",
     "output_type": "stream",
     "text": [
      "Baris ke-0\n",
      "Baris ke-1\n",
      "Baris ke-2\n",
      "Baris ke-3\n",
      "Baris ke-4\n",
      "Baris ke-5\n",
      "Baris ke-6\n",
      "Baris ke-7\n",
      "Baris ke-8\n",
      "Baris ke-9\n",
      "CPU times: total: 0 ns\n",
      "Wall time: 31.1 ms\n"
     ]
    }
   ],
   "source": [
    "%%time\n",
    "for i in range(len(train_data)):\n",
    "    print(f\"Baris ke-{i}\")\n",
    "    kalimat = train_data[\"tweet\"][i]\n",
    "    kalimat = tweet_replace_contractions(kalimat)\n",
    "    train_data.at[i, \"tweet\"] = kalimat"
   ]
  },
  {
   "cell_type": "code",
   "execution_count": 191,
   "id": "3a3aca80-3ccf-45d0-8c01-16881a641328",
   "metadata": {
    "tags": []
   },
   "outputs": [
    {
     "data": {
      "text/html": [
       "<table border=\"1\" class=\"dataframe\">\n",
       "  <thead>\n",
       "    <tr style=\"text-align: right;\">\n",
       "      <th></th>\n",
       "      <th>Before</th>\n",
       "      <th>After</th>\n",
       "    </tr>\n",
       "  </thead>\n",
       "  <tbody>\n",
       "    <tr>\n",
       "      <th>0</th>\n",
       "      <td>hari ini sangat bete banget sama kerjaan deh harusnya bisa lebih baik tapi malah makin ribet</td>\n",
       "      <td>hari ini sangat sebal sekali sama kerjaan deh harusnya bisa lebih baik tapi malah makin ribet</td>\n",
       "    </tr>\n",
       "    <tr>\n",
       "      <th>1</th>\n",
       "      <td>yuhu ada yang bisa bantuin tugas nggak butuh bantuan sekarang tolong dong keburu deadline</td>\n",
       "      <td>yuhu ada yang bisa bantuin tugas tidak butuh bantuan sekarang tolong dong keburu deadline</td>\n",
       "    </tr>\n",
       "    <tr>\n",
       "      <th>2</th>\n",
       "      <td>gak nyangka ternyata si dia udah punya pacar lain kenapa nggak bilang dari awal padahal aku setia banget</td>\n",
       "      <td>tidak sangka ternyata si dia sudah punya pacar lain kenapa tidak bilang dari awal padahal saya setia sekali</td>\n",
       "    </tr>\n",
       "    <tr>\n",
       "      <th>3</th>\n",
       "      <td>makan siang di kafe baru enak banget mau lagi kesana weekend ini siapa mau ikut</td>\n",
       "      <td>makan siang di kafe baru enak sekali mau lagi kesana weekend ini siapa mau ikuti</td>\n",
       "    </tr>\n",
       "    <tr>\n",
       "      <th>4</th>\n",
       "      <td>kemarin habis nonton film horror yang serem banget sampai nggak bisa tidur semalaman kepikiran terus</td>\n",
       "      <td>kemarin habis nonton film horror yang seram sekali sampai tidak bisa tidur semalaman kepikiran terus</td>\n",
       "    </tr>\n",
       "    <tr>\n",
       "      <th>5</th>\n",
       "      <td>baru aja ketemu temen lama di mall senangnya banyak cerita yang harus diupdate kangen banget</td>\n",
       "      <td>baru saja ketemu teman lama di mall senangnya banyak cerita yang harus diupdate kangen sekali</td>\n",
       "    </tr>\n",
       "    <tr>\n",
       "      <th>6</th>\n",
       "      <td>gimana sih bisa dapetin tiket konsernya udah coba berkali kali tapi selalu sold out ada tips nggak</td>\n",
       "      <td>gimana sih bisa mendapatkan tiket konsernya sudah coba berkali kali tapi selalu sold out ada tips tidak</td>\n",
       "    </tr>\n",
       "    <tr>\n",
       "      <th>7</th>\n",
       "      <td>lagi hujan deras di luar enaknya tidur siang sambil dengerin musik jazz siapa suka kayak gini juga</td>\n",
       "      <td>lagi hujan deras di luar enaknya tidur siang sambil dengerin musik jazz siapa suka mirip gini juga</td>\n",
       "    </tr>\n",
       "    <tr>\n",
       "      <th>8</th>\n",
       "      <td>belajar coding ternyata seru juga awalnya susah tapi kalau udah ngerti jadi ketagihan mau bikin project</td>\n",
       "      <td>belajar coding ternyata seru juga awalnya susah tapi kalau sudah ngerti jadi ketagihan mau bikin project</td>\n",
       "    </tr>\n",
       "    <tr>\n",
       "      <th>9</th>\n",
       "      <td>weekend ini mau staycation di villa butuh banget refreshing dari rutinitas sehari hari siapa ikut</td>\n",
       "      <td>weekend ini mau staycation di villa butuh sekali refreshing dari rutinitas sehari hari siapa ikuti</td>\n",
       "    </tr>\n",
       "  </tbody>\n",
       "</table>"
      ],
      "text/plain": [
       "<IPython.core.display.HTML object>"
      ]
     },
     "metadata": {},
     "output_type": "display_data"
    }
   ],
   "source": [
    "comparison_df = pd.DataFrame({\n",
    "    'Before ': train_data_copy['tweet'],\n",
    "    'After ': train_data['tweet']\n",
    "})\n",
    "\n",
    "\n",
    "pd.options.display.max_colwidth = 150\n",
    "\n",
    "\n",
    "display(HTML(comparison_df.head(200).to_html()))"
   ]
  },
  {
   "cell_type": "code",
   "execution_count": 192,
   "id": "232e521e",
   "metadata": {},
   "outputs": [
    {
     "name": "stdout",
     "output_type": "stream",
     "text": [
      "Baris ke-0\n",
      "Baris ke-1\n",
      "Baris ke-2\n",
      "Baris ke-3\n",
      "Baris ke-4\n",
      "Baris ke-5\n",
      "Baris ke-6\n",
      "Baris ke-7\n",
      "Baris ke-8\n",
      "Baris ke-9\n",
      "CPU times: total: 15.6 ms\n",
      "Wall time: 23.8 ms\n"
     ]
    }
   ],
   "source": [
    "%%time\n",
    "for i in range(len(train_data_copy)):\n",
    "    print(f\"Baris ke-{i}\")\n",
    "    kalimat = train_data_copy[\"tweet\"][i]\n",
    "    kalimat = tweet_replace_contractions(kalimat)\n",
    "    train_data_copy.at[i, \"tweet\"] = kalimat"
   ]
  },
  {
   "cell_type": "markdown",
   "id": "e3bd0aeb",
   "metadata": {},
   "source": [
    "## 04. Stopword Removal"
   ]
  },
  {
   "cell_type": "markdown",
   "id": "adc4d139",
   "metadata": {},
   "source": [
    "Library : Sastrawi"
   ]
  },
  {
   "cell_type": "code",
   "execution_count": 193,
   "id": "cdc02f16",
   "metadata": {},
   "outputs": [],
   "source": [
    "def tweet_stopwords_removal(tweet):\n",
    "    factory = StopWordRemoverFactory()\n",
    "    stopword = factory.create_stop_word_remover()\n",
    "    tweet = stopword.remove(tweet)\n",
    "    return tweet"
   ]
  },
  {
   "cell_type": "code",
   "execution_count": 194,
   "id": "f6b406e7",
   "metadata": {},
   "outputs": [
    {
     "name": "stdout",
     "output_type": "stream",
     "text": [
      "Baris ke-0\n",
      "Baris ke-1\n",
      "Baris ke-2\n",
      "Baris ke-3\n",
      "Baris ke-4\n",
      "Baris ke-5\n",
      "Baris ke-6\n",
      "Baris ke-7\n",
      "Baris ke-8\n",
      "Baris ke-9\n",
      "CPU times: total: 0 ns\n",
      "Wall time: 7.17 ms\n"
     ]
    }
   ],
   "source": [
    "%%time\n",
    "for i in range(len(train_data)):\n",
    "    print(f\"Baris ke-{i}\")\n",
    "    kalimat = train_data[\"tweet\"][i]\n",
    "    kalimat = tweet_stopwords_removal(kalimat)\n",
    "    train_data.at[i, \"tweet\"] = kalimat"
   ]
  },
  {
   "cell_type": "code",
   "execution_count": 195,
   "id": "bd5d2b9f",
   "metadata": {},
   "outputs": [
    {
     "data": {
      "text/html": [
       "<table border=\"1\" class=\"dataframe\">\n",
       "  <thead>\n",
       "    <tr style=\"text-align: right;\">\n",
       "      <th></th>\n",
       "      <th>Before</th>\n",
       "      <th>After</th>\n",
       "    </tr>\n",
       "  </thead>\n",
       "  <tbody>\n",
       "    <tr>\n",
       "      <th>0</th>\n",
       "      <td>hari ini sangat sebal sekali sama kerjaan deh harusnya bisa lebih baik tapi malah makin ribet</td>\n",
       "      <td>hari sangat sebal sekali sama kerjaan deh harusnya lebih baik malah makin ribet</td>\n",
       "    </tr>\n",
       "    <tr>\n",
       "      <th>1</th>\n",
       "      <td>yuhu ada yang bisa bantuin tugas tidak butuh bantuan sekarang tolong dong keburu deadline</td>\n",
       "      <td>yuhu yang bantuin tugas butuh bantuan sekarang dong keburu deadline</td>\n",
       "    </tr>\n",
       "    <tr>\n",
       "      <th>2</th>\n",
       "      <td>tidak sangka ternyata si dia sudah punya pacar lain kenapa tidak bilang dari awal padahal saya setia sekali</td>\n",
       "      <td>sangka ternyata si sudah punya pacar kenapa bilang awal padahal setia sekali</td>\n",
       "    </tr>\n",
       "    <tr>\n",
       "      <th>3</th>\n",
       "      <td>makan siang di kafe baru enak sekali mau lagi kesana weekend ini siapa mau ikuti</td>\n",
       "      <td>makan siang kafe baru enak sekali mau kesana weekend siapa mau ikuti</td>\n",
       "    </tr>\n",
       "    <tr>\n",
       "      <th>4</th>\n",
       "      <td>kemarin habis nonton film horror yang seram sekali sampai tidak bisa tidur semalaman kepikiran terus</td>\n",
       "      <td>kemarin habis nonton film horror seram sekali tidak tidur semalaman kepikiran terus</td>\n",
       "    </tr>\n",
       "    <tr>\n",
       "      <th>5</th>\n",
       "      <td>baru saja ketemu teman lama di mall senangnya banyak cerita yang harus diupdate kangen sekali</td>\n",
       "      <td>baru ketemu teman lama mall senangnya banyak cerita harus diupdate kangen sekali</td>\n",
       "    </tr>\n",
       "    <tr>\n",
       "      <th>6</th>\n",
       "      <td>gimana sih bisa mendapatkan tiket konsernya sudah coba berkali kali tapi selalu sold out ada tips tidak</td>\n",
       "      <td>gimana sih mendapatkan tiket konsernya coba berkali kali selalu sold out tips</td>\n",
       "    </tr>\n",
       "    <tr>\n",
       "      <th>7</th>\n",
       "      <td>lagi hujan deras di luar enaknya tidur siang sambil dengerin musik jazz siapa suka mirip gini juga</td>\n",
       "      <td>hujan deras luar enaknya tidur siang dengerin musik jazz siapa suka mirip gini</td>\n",
       "    </tr>\n",
       "    <tr>\n",
       "      <th>8</th>\n",
       "      <td>belajar coding ternyata seru juga awalnya susah tapi kalau sudah ngerti jadi ketagihan mau bikin project</td>\n",
       "      <td>belajar coding ternyata seru awalnya susah kalau ngerti jadi ketagihan mau bikin project</td>\n",
       "    </tr>\n",
       "    <tr>\n",
       "      <th>9</th>\n",
       "      <td>weekend ini mau staycation di villa butuh sekali refreshing dari rutinitas sehari hari siapa ikuti</td>\n",
       "      <td>weekend mau staycation villa butuh sekali refreshing rutinitas sehari hari siapa ikuti</td>\n",
       "    </tr>\n",
       "  </tbody>\n",
       "</table>"
      ],
      "text/plain": [
       "<IPython.core.display.HTML object>"
      ]
     },
     "metadata": {},
     "output_type": "display_data"
    }
   ],
   "source": [
    "comparison_df = pd.DataFrame({\n",
    "    'Before ': train_data_copy['tweet'],\n",
    "    'After ': train_data['tweet']\n",
    "})\n",
    "\n",
    "\n",
    "pd.options.display.max_colwidth = 150\n",
    "\n",
    "\n",
    "display(HTML(comparison_df.head(10).to_html()))"
   ]
  },
  {
   "cell_type": "code",
   "execution_count": 196,
   "id": "124c68d1",
   "metadata": {},
   "outputs": [
    {
     "name": "stdout",
     "output_type": "stream",
     "text": [
      "Baris ke-0\n",
      "Baris ke-1\n",
      "Baris ke-2\n",
      "Baris ke-3\n",
      "Baris ke-4\n",
      "Baris ke-5\n",
      "Baris ke-6\n",
      "Baris ke-7\n",
      "Baris ke-8\n",
      "Baris ke-9\n",
      "CPU times: total: 0 ns\n",
      "Wall time: 7.07 ms\n"
     ]
    }
   ],
   "source": [
    "%%time\n",
    "for i in range(len(train_data_copy)):\n",
    "    print(f\"Baris ke-{i}\")\n",
    "    kalimat = train_data_copy[\"tweet\"][i]\n",
    "    kalimat = tweet_stopwords_removal(kalimat)\n",
    "    train_data_copy.at[i, \"tweet\"] = kalimat"
   ]
  },
  {
   "cell_type": "markdown",
   "id": "f489aed3",
   "metadata": {},
   "source": [
    "## 05. Stemming"
   ]
  },
  {
   "cell_type": "markdown",
   "id": "9e1c3f52",
   "metadata": {},
   "source": [
    "Library Satrawi"
   ]
  },
  {
   "cell_type": "code",
   "execution_count": 197,
   "id": "4135fb4e",
   "metadata": {},
   "outputs": [],
   "source": [
    "from Sastrawi.Stemmer.StemmerFactory import StemmerFactory\n",
    "\n",
    "factory = StemmerFactory()\n",
    "stemmer = factory.create_stemmer()\n"
   ]
  },
  {
   "cell_type": "code",
   "execution_count": 198,
   "id": "1c624ae4",
   "metadata": {},
   "outputs": [],
   "source": [
    "def stemming_sentences(tweet):\n",
    "    stemmer = factory.create_stemmer()\n",
    "\n",
    "    if isinstance(tweet, list):\n",
    "        return [stemmer.stem(i) for i in tweet]\n",
    "    else:\n",
    "        return stemmer.stem(tweet)\n"
   ]
  },
  {
   "cell_type": "code",
   "execution_count": 199,
   "id": "eb9e7fa7",
   "metadata": {},
   "outputs": [
    {
     "name": "stdout",
     "output_type": "stream",
     "text": [
      "Baris ke-0\n",
      "Baris ke-1\n",
      "Baris ke-2\n",
      "Baris ke-3\n",
      "Baris ke-4\n",
      "Baris ke-5\n",
      "Baris ke-6\n",
      "Baris ke-7\n",
      "Baris ke-8\n",
      "Baris ke-9\n",
      "CPU times: total: 6.27 s\n",
      "Wall time: 11.7 s\n"
     ]
    }
   ],
   "source": [
    "%%time\n",
    "for i in range(len(train_data)):\n",
    "    print(f\"Baris ke-{i}\")\n",
    "    kalimat = train_data[\"tweet\"][i]\n",
    "    kalimat = stemming_sentences(kalimat)\n",
    "    train_data.at[i, \"tweet\"] = kalimat"
   ]
  },
  {
   "cell_type": "code",
   "execution_count": 200,
   "id": "652ba72a",
   "metadata": {},
   "outputs": [
    {
     "data": {
      "text/html": [
       "<table border=\"1\" class=\"dataframe\">\n",
       "  <thead>\n",
       "    <tr style=\"text-align: right;\">\n",
       "      <th></th>\n",
       "      <th>Before</th>\n",
       "      <th>After</th>\n",
       "    </tr>\n",
       "  </thead>\n",
       "  <tbody>\n",
       "    <tr>\n",
       "      <th>0</th>\n",
       "      <td>hari sangat sebal sekali sama kerjaan deh harusnya lebih baik malah makin ribet</td>\n",
       "      <td>hari sangat sebal sekali sama kerja deh harus lebih baik malah makin ribet</td>\n",
       "    </tr>\n",
       "    <tr>\n",
       "      <th>1</th>\n",
       "      <td>yuhu yang bantuin tugas butuh bantuan sekarang dong keburu deadline</td>\n",
       "      <td>yuhu yang bantuin tugas butuh bantu sekarang dong keburu deadline</td>\n",
       "    </tr>\n",
       "    <tr>\n",
       "      <th>2</th>\n",
       "      <td>sangka ternyata si sudah punya pacar kenapa bilang awal padahal setia sekali</td>\n",
       "      <td>sangka nyata si sudah punya pacar kenapa bilang awal padahal setia sekali</td>\n",
       "    </tr>\n",
       "    <tr>\n",
       "      <th>3</th>\n",
       "      <td>makan siang kafe baru enak sekali mau kesana weekend siapa mau ikuti</td>\n",
       "      <td>makan siang kafe baru enak sekali mau kesana weekend siapa mau ikut</td>\n",
       "    </tr>\n",
       "    <tr>\n",
       "      <th>4</th>\n",
       "      <td>kemarin habis nonton film horror seram sekali tidak tidur semalaman kepikiran terus</td>\n",
       "      <td>kemarin habis nonton film horror seram sekali tidak tidur malam pikir terus</td>\n",
       "    </tr>\n",
       "    <tr>\n",
       "      <th>5</th>\n",
       "      <td>baru ketemu teman lama mall senangnya banyak cerita harus diupdate kangen sekali</td>\n",
       "      <td>baru ketemu teman lama mall senang banyak cerita harus diupdate kangen sekali</td>\n",
       "    </tr>\n",
       "    <tr>\n",
       "      <th>6</th>\n",
       "      <td>gimana sih mendapatkan tiket konsernya coba berkali kali selalu sold out tips</td>\n",
       "      <td>gimana sih dapat tiket konser coba kali kali selalu sold out tips</td>\n",
       "    </tr>\n",
       "    <tr>\n",
       "      <th>7</th>\n",
       "      <td>hujan deras luar enaknya tidur siang dengerin musik jazz siapa suka mirip gini</td>\n",
       "      <td>hujan deras luar enak tidur siang dengerin musik jazz siapa suka mirip gin</td>\n",
       "    </tr>\n",
       "    <tr>\n",
       "      <th>8</th>\n",
       "      <td>belajar coding ternyata seru awalnya susah kalau ngerti jadi ketagihan mau bikin project</td>\n",
       "      <td>ajar coding nyata seru awal susah kalau ngerti jadi tagih mau bikin project</td>\n",
       "    </tr>\n",
       "    <tr>\n",
       "      <th>9</th>\n",
       "      <td>weekend mau staycation villa butuh sekali refreshing rutinitas sehari hari siapa ikuti</td>\n",
       "      <td>weekend mau staycation villa butuh sekali refreshing rutinitas hari hari siapa ikut</td>\n",
       "    </tr>\n",
       "  </tbody>\n",
       "</table>"
      ],
      "text/plain": [
       "<IPython.core.display.HTML object>"
      ]
     },
     "metadata": {},
     "output_type": "display_data"
    }
   ],
   "source": [
    "comparison_df = pd.DataFrame({\n",
    "    'Before ': train_data_copy['tweet'],\n",
    "    'After ': train_data['tweet']\n",
    "})\n",
    "\n",
    "\n",
    "pd.options.display.max_colwidth = 150\n",
    "\n",
    "\n",
    "display(HTML(comparison_df.head(10).to_html()))"
   ]
  },
  {
   "cell_type": "code",
   "execution_count": 201,
   "id": "ca7260a0",
   "metadata": {},
   "outputs": [
    {
     "name": "stdout",
     "output_type": "stream",
     "text": [
      "Baris ke-0\n",
      "Baris ke-1\n",
      "Baris ke-2\n",
      "Baris ke-3\n",
      "Baris ke-4\n",
      "Baris ke-5\n",
      "Baris ke-6\n",
      "Baris ke-7\n",
      "Baris ke-8\n",
      "Baris ke-9\n",
      "CPU times: total: 6.42 s\n",
      "Wall time: 8.1 s\n"
     ]
    }
   ],
   "source": [
    "%%time\n",
    "for i in range(len(train_data_copy)):\n",
    "    print(f\"Baris ke-{i}\")\n",
    "    kalimat = train_data_copy[\"tweet\"][i]\n",
    "    kalimat = stemming_sentences(kalimat)\n",
    "    train_data_copy.at[i, \"tweet\"] = kalimat"
   ]
  },
  {
   "cell_type": "markdown",
   "id": "6e10e0cd",
   "metadata": {},
   "source": [
    "## 06. Tokenization"
   ]
  },
  {
   "cell_type": "code",
   "execution_count": 202,
   "id": "df3b7a8c",
   "metadata": {},
   "outputs": [
    {
     "name": "stderr",
     "output_type": "stream",
     "text": [
      "[nltk_data] Downloading package punkt to\n",
      "[nltk_data]     C:\\Users\\TEMP\\AppData\\Roaming\\nltk_data...\n",
      "[nltk_data]   Package punkt is already up-to-date!\n"
     ]
    },
    {
     "data": {
      "text/plain": [
       "True"
      ]
     },
     "execution_count": 202,
     "metadata": {},
     "output_type": "execute_result"
    }
   ],
   "source": [
    "import nltk\n",
    "from nltk.tokenize import word_tokenize\n",
    "\n",
    "nltk.download('punkt')"
   ]
  },
  {
   "cell_type": "code",
   "execution_count": 203,
   "id": "7ff2be29",
   "metadata": {},
   "outputs": [],
   "source": [
    "def tokenization_sentences(tweet):\n",
    "    if isinstance(tweet, list):\n",
    "        tokenized_tweet = []\n",
    "        for word in tweet:\n",
    "            tokens = word_tokenize(word)\n",
    "            tokenized_tweet.extend(tokens)\n",
    "        return tokenized_tweet\n",
    "    else:\n",
    "        return word_tokenize(tweet)"
   ]
  },
  {
   "cell_type": "code",
   "execution_count": 204,
   "id": "df909363",
   "metadata": {},
   "outputs": [
    {
     "name": "stdout",
     "output_type": "stream",
     "text": [
      "Baris ke-0\n",
      "Baris ke-1\n",
      "Baris ke-2\n",
      "Baris ke-3\n",
      "Baris ke-4\n",
      "Baris ke-5\n",
      "Baris ke-6\n",
      "Baris ke-7\n",
      "Baris ke-8\n",
      "Baris ke-9\n",
      "CPU times: total: 0 ns\n",
      "Wall time: 2.7 ms\n"
     ]
    }
   ],
   "source": [
    "%%time\n",
    "for i in range(len(train_data)):\n",
    "    print(f\"Baris ke-{i}\")\n",
    "    kalimat = train_data[\"tweet\"][i]\n",
    "    kalimat = tokenization_sentences(kalimat)\n",
    "    train_data.at[i, \"tweet\"] = kalimat"
   ]
  },
  {
   "cell_type": "code",
   "execution_count": 205,
   "id": "19af9413",
   "metadata": {},
   "outputs": [
    {
     "data": {
      "text/html": [
       "<table border=\"1\" class=\"dataframe\">\n",
       "  <thead>\n",
       "    <tr style=\"text-align: right;\">\n",
       "      <th></th>\n",
       "      <th>Before</th>\n",
       "      <th>After</th>\n",
       "    </tr>\n",
       "  </thead>\n",
       "  <tbody>\n",
       "    <tr>\n",
       "      <th>0</th>\n",
       "      <td>hari sangat sebal sekali sama kerja deh harus lebih baik malah makin ribet</td>\n",
       "      <td>[hari, sangat, sebal, sekali, sama, kerja, deh, harus, lebih, baik, malah, makin, ribet]</td>\n",
       "    </tr>\n",
       "    <tr>\n",
       "      <th>1</th>\n",
       "      <td>yuhu yang bantuin tugas butuh bantu sekarang dong keburu deadline</td>\n",
       "      <td>[yuhu, yang, bantuin, tugas, butuh, bantu, sekarang, dong, keburu, deadline]</td>\n",
       "    </tr>\n",
       "    <tr>\n",
       "      <th>2</th>\n",
       "      <td>sangka nyata si sudah punya pacar kenapa bilang awal padahal setia sekali</td>\n",
       "      <td>[sangka, nyata, si, sudah, punya, pacar, kenapa, bilang, awal, padahal, setia, sekali]</td>\n",
       "    </tr>\n",
       "    <tr>\n",
       "      <th>3</th>\n",
       "      <td>makan siang kafe baru enak sekali mau kesana weekend siapa mau ikut</td>\n",
       "      <td>[makan, siang, kafe, baru, enak, sekali, mau, kesana, weekend, siapa, mau, ikut]</td>\n",
       "    </tr>\n",
       "    <tr>\n",
       "      <th>4</th>\n",
       "      <td>kemarin habis nonton film horror seram sekali tidak tidur malam pikir terus</td>\n",
       "      <td>[kemarin, habis, nonton, film, horror, seram, sekali, tidak, tidur, malam, pikir, terus]</td>\n",
       "    </tr>\n",
       "    <tr>\n",
       "      <th>5</th>\n",
       "      <td>baru ketemu teman lama mall senang banyak cerita harus diupdate kangen sekali</td>\n",
       "      <td>[baru, ketemu, teman, lama, mall, senang, banyak, cerita, harus, diupdate, kangen, sekali]</td>\n",
       "    </tr>\n",
       "    <tr>\n",
       "      <th>6</th>\n",
       "      <td>gimana sih dapat tiket konser coba kali kali selalu sold out tips</td>\n",
       "      <td>[gimana, sih, dapat, tiket, konser, coba, kali, kali, selalu, sold, out, tips]</td>\n",
       "    </tr>\n",
       "    <tr>\n",
       "      <th>7</th>\n",
       "      <td>hujan deras luar enak tidur siang dengerin musik jazz siapa suka mirip gin</td>\n",
       "      <td>[hujan, deras, luar, enak, tidur, siang, dengerin, musik, jazz, siapa, suka, mirip, gin]</td>\n",
       "    </tr>\n",
       "    <tr>\n",
       "      <th>8</th>\n",
       "      <td>ajar coding nyata seru awal susah kalau ngerti jadi tagih mau bikin project</td>\n",
       "      <td>[ajar, coding, nyata, seru, awal, susah, kalau, ngerti, jadi, tagih, mau, bikin, project]</td>\n",
       "    </tr>\n",
       "    <tr>\n",
       "      <th>9</th>\n",
       "      <td>weekend mau staycation villa butuh sekali refreshing rutinitas hari hari siapa ikut</td>\n",
       "      <td>[weekend, mau, staycation, villa, butuh, sekali, refreshing, rutinitas, hari, hari, siapa, ikut]</td>\n",
       "    </tr>\n",
       "  </tbody>\n",
       "</table>"
      ],
      "text/plain": [
       "<IPython.core.display.HTML object>"
      ]
     },
     "metadata": {},
     "output_type": "display_data"
    }
   ],
   "source": [
    "comparison_df = pd.DataFrame({\n",
    "    'Before ': train_data_copy['tweet'],\n",
    "    'After ': train_data['tweet']\n",
    "})\n",
    "\n",
    "\n",
    "pd.options.display.max_colwidth = 150\n",
    "\n",
    "\n",
    "display(HTML(comparison_df.head(10).to_html()))"
   ]
  },
  {
   "cell_type": "code",
   "execution_count": 206,
   "id": "5f4ddaac",
   "metadata": {},
   "outputs": [
    {
     "name": "stdout",
     "output_type": "stream",
     "text": [
      "Baris ke-0\n",
      "Baris ke-1\n",
      "Baris ke-2\n",
      "Baris ke-3\n",
      "Baris ke-4\n",
      "Baris ke-5\n",
      "Baris ke-6\n",
      "Baris ke-7\n",
      "Baris ke-8\n",
      "Baris ke-9\n",
      "CPU times: total: 0 ns\n",
      "Wall time: 3.01 ms\n"
     ]
    }
   ],
   "source": [
    "%%time\n",
    "for i in range(len(train_data_copy)):\n",
    "    print(f\"Baris ke-{i}\")\n",
    "    kalimat = train_data_copy[\"tweet\"][i]\n",
    "    kalimat = tokenization_sentences(kalimat)\n",
    "    train_data_copy.at[i, \"tweet\"] = kalimat"
   ]
  },
  {
   "cell_type": "markdown",
   "id": "a9770a7a",
   "metadata": {},
   "source": [
    "## 07. Padding"
   ]
  },
  {
   "cell_type": "markdown",
   "id": "26e4a8d0",
   "metadata": {},
   "source": [
    "Maksimalnya adalah 64"
   ]
  },
  {
   "cell_type": "code",
   "execution_count": 207,
   "id": "14567c32",
   "metadata": {},
   "outputs": [],
   "source": [
    "def pad_sentence(tweet, max_length=64, pad_token=''):\n",
    "    if len(tweet) < max_length:\n",
    "        tweet += [pad_token] * (max_length - len(tweet))\n",
    "    else:\n",
    "        tweet = tweet[:max_length]\n",
    "    return tweet"
   ]
  },
  {
   "cell_type": "code",
   "execution_count": 208,
   "id": "7d68adc6",
   "metadata": {},
   "outputs": [
    {
     "name": "stdout",
     "output_type": "stream",
     "text": [
      "Baris ke-0\n",
      "Baris ke-1\n",
      "Baris ke-2\n",
      "Baris ke-3\n",
      "Baris ke-4\n",
      "Baris ke-5\n",
      "Baris ke-6\n",
      "Baris ke-7\n",
      "Baris ke-8\n",
      "Baris ke-9\n",
      "CPU times: total: 0 ns\n",
      "Wall time: 2.01 ms\n"
     ]
    }
   ],
   "source": [
    "%%time\n",
    "for i in range(len(train_data)):\n",
    "    print(f\"Baris ke-{i}\")\n",
    "    kalimat = train_data[\"tweet\"][i]\n",
    "    kalimat = pad_sentence(kalimat)\n",
    "    train_data.at[i, \"tweet\"] = kalimat"
   ]
  },
  {
   "cell_type": "code",
   "execution_count": 209,
   "id": "6e3ea98f",
   "metadata": {},
   "outputs": [
    {
     "data": {
      "text/html": [
       "<table border=\"1\" class=\"dataframe\">\n",
       "  <thead>\n",
       "    <tr style=\"text-align: right;\">\n",
       "      <th></th>\n",
       "      <th>Before</th>\n",
       "      <th>After</th>\n",
       "    </tr>\n",
       "  </thead>\n",
       "  <tbody>\n",
       "    <tr>\n",
       "      <th>0</th>\n",
       "      <td>[hari, sangat, sebal, sekali, sama, kerja, deh, harus, lebih, baik, malah, makin, ribet]</td>\n",
       "      <td>[hari, sangat, sebal, sekali, sama, kerja, deh, harus, lebih, baik, malah, makin, ribet, , , , , , , , , , , , , , , , , , , , , , , , , , , , , , , , , , , , , , , , , , , , , , , , , , , ]</td>\n",
       "    </tr>\n",
       "    <tr>\n",
       "      <th>1</th>\n",
       "      <td>[yuhu, yang, bantuin, tugas, butuh, bantu, sekarang, dong, keburu, deadline]</td>\n",
       "      <td>[yuhu, yang, bantuin, tugas, butuh, bantu, sekarang, dong, keburu, deadline, , , , , , , , , , , , , , , , , , , , , , , , , , , , , , , , , , , , , , , , , , , , , , , , , , , , , , ]</td>\n",
       "    </tr>\n",
       "    <tr>\n",
       "      <th>2</th>\n",
       "      <td>[sangka, nyata, si, sudah, punya, pacar, kenapa, bilang, awal, padahal, setia, sekali]</td>\n",
       "      <td>[sangka, nyata, si, sudah, punya, pacar, kenapa, bilang, awal, padahal, setia, sekali, , , , , , , , , , , , , , , , , , , , , , , , , , , , , , , , , , , , , , , , , , , , , , , , , , , , ]</td>\n",
       "    </tr>\n",
       "    <tr>\n",
       "      <th>3</th>\n",
       "      <td>[makan, siang, kafe, baru, enak, sekali, mau, kesana, weekend, siapa, mau, ikut]</td>\n",
       "      <td>[makan, siang, kafe, baru, enak, sekali, mau, kesana, weekend, siapa, mau, ikut, , , , , , , , , , , , , , , , , , , , , , , , , , , , , , , , , , , , , , , , , , , , , , , , , , , , ]</td>\n",
       "    </tr>\n",
       "    <tr>\n",
       "      <th>4</th>\n",
       "      <td>[kemarin, habis, nonton, film, horror, seram, sekali, tidak, tidur, malam, pikir, terus]</td>\n",
       "      <td>[kemarin, habis, nonton, film, horror, seram, sekali, tidak, tidur, malam, pikir, terus, , , , , , , , , , , , , , , , , , , , , , , , , , , , , , , , , , , , , , , , , , , , , , , , , , , , ]</td>\n",
       "    </tr>\n",
       "    <tr>\n",
       "      <th>5</th>\n",
       "      <td>[baru, ketemu, teman, lama, mall, senang, banyak, cerita, harus, diupdate, kangen, sekali]</td>\n",
       "      <td>[baru, ketemu, teman, lama, mall, senang, banyak, cerita, harus, diupdate, kangen, sekali, , , , , , , , , , , , , , , , , , , , , , , , , , , , , , , , , , , , , , , , , , , , , , , , , , , , ]</td>\n",
       "    </tr>\n",
       "    <tr>\n",
       "      <th>6</th>\n",
       "      <td>[gimana, sih, dapat, tiket, konser, coba, kali, kali, selalu, sold, out, tips]</td>\n",
       "      <td>[gimana, sih, dapat, tiket, konser, coba, kali, kali, selalu, sold, out, tips, , , , , , , , , , , , , , , , , , , , , , , , , , , , , , , , , , , , , , , , , , , , , , , , , , , , ]</td>\n",
       "    </tr>\n",
       "    <tr>\n",
       "      <th>7</th>\n",
       "      <td>[hujan, deras, luar, enak, tidur, siang, dengerin, musik, jazz, siapa, suka, mirip, gin]</td>\n",
       "      <td>[hujan, deras, luar, enak, tidur, siang, dengerin, musik, jazz, siapa, suka, mirip, gin, , , , , , , , , , , , , , , , , , , , , , , , , , , , , , , , , , , , , , , , , , , , , , , , , , , ]</td>\n",
       "    </tr>\n",
       "    <tr>\n",
       "      <th>8</th>\n",
       "      <td>[ajar, coding, nyata, seru, awal, susah, kalau, ngerti, jadi, tagih, mau, bikin, project]</td>\n",
       "      <td>[ajar, coding, nyata, seru, awal, susah, kalau, ngerti, jadi, tagih, mau, bikin, project, , , , , , , , , , , , , , , , , , , , , , , , , , , , , , , , , , , , , , , , , , , , , , , , , , , ]</td>\n",
       "    </tr>\n",
       "    <tr>\n",
       "      <th>9</th>\n",
       "      <td>[weekend, mau, staycation, villa, butuh, sekali, refreshing, rutinitas, hari, hari, siapa, ikut]</td>\n",
       "      <td>[weekend, mau, staycation, villa, butuh, sekali, refreshing, rutinitas, hari, hari, siapa, ikut, , , , , , , , , , , , , , , , , , , , , , , , , , , , , , , , , , , , , , , , , , , , , , , , , , , , ]</td>\n",
       "    </tr>\n",
       "  </tbody>\n",
       "</table>"
      ],
      "text/plain": [
       "<IPython.core.display.HTML object>"
      ]
     },
     "metadata": {},
     "output_type": "display_data"
    }
   ],
   "source": [
    "comparison_df = pd.DataFrame({\n",
    "    'Before ': train_data_copy['tweet'],\n",
    "    'After ': train_data['tweet']\n",
    "})\n",
    "\n",
    "\n",
    "pd.options.display.max_colwidth = 150\n",
    "\n",
    "\n",
    "display(HTML(comparison_df.head(10).to_html()))"
   ]
  },
  {
   "cell_type": "markdown",
   "id": "631d2e3e-15eb-43f0-a540-c4f41a7b32f0",
   "metadata": {},
   "source": [
    "# Saving Preposessing"
   ]
  },
  {
   "cell_type": "code",
   "execution_count": 210,
   "id": "36177714",
   "metadata": {},
   "outputs": [
    {
     "data": {
      "image/png": "[encoded data removed]",
      "text/plain": [
       "<Figure size 1000x800 with 1 Axes>"
      ]
     },
     "metadata": {},
     "output_type": "display_data"
    }
   ],
   "source": [
    "import pandas as pd\n",
    "from wordcloud import WordCloud\n",
    "import matplotlib.pyplot as plt\n",
    "\n",
    "# Assuming you have a DataFrame called train_data with a column \"tweet\"\n",
    "# containing the tweets\n",
    "\n",
    "# Convert lists of tweets into a single string\n",
    "all_tweets = ' '.join([tweet for sublist in train_data['tweet'] for tweet in sublist])\n",
    "\n",
    "# Create a WordCloud object\n",
    "wordcloud = WordCloud(width=800, height=400, background_color='white').generate(all_tweets)\n",
    "\n",
    "# Display the WordCloud\n",
    "plt.figure(figsize=(10, 8))\n",
    "plt.imshow(wordcloud, interpolation='bilinear')\n",
    "plt.axis('off')\n",
    "plt.show()\n"
   ]
  },
  {
   "cell_type": "code",
   "execution_count": 211,
   "id": "9875d5c1",
   "metadata": {},
   "outputs": [
    {
     "data": {
      "text/html": [
       "<table border=\"1\" class=\"dataframe\">\n",
       "  <thead>\n",
       "    <tr style=\"text-align: right;\">\n",
       "      <th></th>\n",
       "      <th>Before</th>\n",
       "      <th>After</th>\n",
       "    </tr>\n",
       "  </thead>\n",
       "  <tbody>\n",
       "    <tr>\n",
       "      <th>0</th>\n",
       "      <td>Hari ini sangat 😤! Bete banget sama kerjaan, deh!!! 😒😒😒 @username Harusnya bisa lebih baik, tapi malah makin ribet!</td>\n",
       "      <td>[hari, sangat, sebal, sekali, sama, kerja, deh, harus, lebih, baik, malah, makin, ribet, , , , , , , , , , , , , , , , , , , , , , , , , , , , , , , , , , , , , , , , , , , , , , , , , , , ]</td>\n",
       "    </tr>\n",
       "    <tr>\n",
       "      <th>1</th>\n",
       "      <td>Yuhuuu~ ada yang bisa bantuin tugas nggak? #capek #stress butuh bantuan sekarang! Tolong dong, keburu deadline! http://example.com</td>\n",
       "      <td>[yuhu, yang, bantuin, tugas, butuh, bantu, sekarang, dong, keburu, deadline, , , , , , , , , , , , , , , , , , , , , , , , , , , , , , , , , , , , , , , , , , , , , , , , , , , , , , ]</td>\n",
       "    </tr>\n",
       "    <tr>\n",
       "      <th>2</th>\n",
       "      <td>Gak nyangka! Ternyata si dia 💔 udah punya pacar lain. 😢😢 Kenapa nggak bilang dari awal? Padahal aku setia banget.</td>\n",
       "      <td>[sangka, nyata, si, sudah, punya, pacar, kenapa, bilang, awal, padahal, setia, sekali, , , , , , , , , , , , , , , , , , , , , , , , , , , , , , , , , , , , , , , , , , , , , , , , , , , , ]</td>\n",
       "    </tr>\n",
       "    <tr>\n",
       "      <th>3</th>\n",
       "      <td>Makan siang di kafe baru 🍔🍟, enak banget! Mau lagi kesana weekend ini. Siapa mau ikut? 🤩 #makan #enak</td>\n",
       "      <td>[makan, siang, kafe, baru, enak, sekali, mau, kesana, weekend, siapa, mau, ikut, , , , , , , , , , , , , , , , , , , , , , , , , , , , , , , , , , , , , , , , , , , , , , , , , , , , ]</td>\n",
       "    </tr>\n",
       "    <tr>\n",
       "      <th>4</th>\n",
       "      <td>Kemarin habis nonton film horror yang serem banget 😱😱! Sampai nggak bisa tidur semalaman, kepikiran terus.</td>\n",
       "      <td>[kemarin, habis, nonton, film, horror, seram, sekali, tidak, tidur, malam, pikir, terus, , , , , , , , , , , , , , , , , , , , , , , , , , , , , , , , , , , , , , , , , , , , , , , , , , , , ]</td>\n",
       "    </tr>\n",
       "    <tr>\n",
       "      <th>5</th>\n",
       "      <td>Baru aja ketemu temen lama di mall. Senangnyaaa! 😍💕 Banyak cerita yang harus diupdate, kangen banget! 12345</td>\n",
       "      <td>[baru, ketemu, teman, lama, mall, senang, banyak, cerita, harus, diupdate, kangen, sekali, , , , , , , , , , , , , , , , , , , , , , , , , , , , , , , , , , , , , , , , , , , , , , , , , , , , ]</td>\n",
       "    </tr>\n",
       "    <tr>\n",
       "      <th>6</th>\n",
       "      <td>Gimana sih bisa dapetin tiket konsernya? 😭😭 Udah coba berkali-kali tapi selalu sold out. Ada tips nggak?!!!!</td>\n",
       "      <td>[gimana, sih, dapat, tiket, konser, coba, kali, kali, selalu, sold, out, tips, , , , , , , , , , , , , , , , , , , , , , , , , , , , , , , , , , , , , , , , , , , , , , , , , , , , ]</td>\n",
       "    </tr>\n",
       "    <tr>\n",
       "      <th>7</th>\n",
       "      <td>Lagi hujan deras di luar ☔️, enaknya tidur siang sambil dengerin musik jazz. Siapa suka kayak gini juga?</td>\n",
       "      <td>[hujan, deras, luar, enak, tidur, siang, dengerin, musik, jazz, siapa, suka, mirip, gin, , , , , , , , , , , , , , , , , , , , , , , , , , , , , , , , , , , , , , , , , , , , , , , , , , , ]</td>\n",
       "    </tr>\n",
       "    <tr>\n",
       "      <th>8</th>\n",
       "      <td>Belajar coding ternyata seru juga 💻! Awalnya susah tapi kalau udah ngerti, jadi ketagihan mau bikin project.</td>\n",
       "      <td>[ajar, coding, nyata, seru, awal, susah, kalau, ngerti, jadi, tagih, mau, bikin, project, , , , , , , , , , , , , , , , , , , , , , , , , , , , , , , , , , , , , , , , , , , , , , , , , , , ]</td>\n",
       "    </tr>\n",
       "    <tr>\n",
       "      <th>9</th>\n",
       "      <td>Weekend ini mau staycation di villa. 🏡✨ Butuh banget refreshing dari rutinitas sehari-hari. Siapa ikut?</td>\n",
       "      <td>[weekend, mau, staycation, villa, butuh, sekali, refreshing, rutinitas, hari, hari, siapa, ikut, , , , , , , , , , , , , , , , , , , , , , , , , , , , , , , , , , , , , , , , , , , , , , , , , , , , ]</td>\n",
       "    </tr>\n",
       "  </tbody>\n",
       "</table>"
      ],
      "text/plain": [
       "<IPython.core.display.HTML object>"
      ]
     },
     "metadata": {},
     "output_type": "display_data"
    }
   ],
   "source": [
    "comparison_df = pd.DataFrame({\n",
    "    'Before ': eda_data['tweet'],\n",
    "    'After ': train_data['tweet']\n",
    "})\n",
    "\n",
    "\n",
    "pd.options.display.max_colwidth = 150\n",
    "\n",
    "\n",
    "display(HTML(comparison_df.head(10).to_html()))"
   ]
  },
  {
   "cell_type": "code",
   "execution_count": 212,
   "id": "d93886a6-4154-4389-bc47-32788798560d",
   "metadata": {
    "tags": []
   },
   "outputs": [],
   "source": [
    "train_data.to_csv(\"../Dataset/Training/Clean_train_data_fullLimit(check).csv\")"
   ]
  }
 ],
 "metadata": {
  "kernelspec": {
   "display_name": "Python 3",
   "language": "python",
   "name": "python3"
  },
  "language_info": {
   "codemirror_mode": {
    "name": "ipython",
    "version": 3
   },
   "file_extension": ".py",
   "mimetype": "text/x-python",
   "name": "python",
   "nbconvert_exporter": "python",
   "pygments_lexer": "ipython3",
   "version": "3.11.5"
  }
 },
 "nbformat": 4,
 "nbformat_minor": 5
}
